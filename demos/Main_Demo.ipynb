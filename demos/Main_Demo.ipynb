{
    "cells": [
        {
            "cell_type": "markdown",
            "metadata": {},
            "source": [
                "<a target=\"_blank\" href=\"https://colab.research.google.com/github/neelnanda-io/TransformerLens/blob/main/demos/Main_Demo.ipynb\">\n",
                "  <img src=\"https://colab.research.google.com/assets/colab-badge.svg\" alt=\"Open In Colab\"/>\n",
                "</a>"
            ]
        },
        {
            "attachments": {},
            "cell_type": "markdown",
            "metadata": {},
            "source": [
                "# Transformer Lens Main Demo Notebook\n",
                "\n",
                "<b style=\"color: red\">To use this notebook, go to Runtime > Change Runtime Type and select GPU as the hardware accelerator.</b>\n",
                "\n",
                "This is a reference notebook covering the main features of the [TransformerLens](https://github.com/neelnanda-io/TransformerLens) library for mechanistic interpretability. See [Callum McDougall's tutorial](https://transformerlens-intro.streamlit.app/TransformerLens_&_induction_circuits) for a more structured and gentler introduction to the library"
            ]
        },
        {
            "attachments": {},
            "cell_type": "markdown",
            "metadata": {},
            "source": [
                "**Tips for reading this Colab:**\n",
                "* You can run all this code for yourself! \n",
                "* The graphs are interactive!\n",
                "* Use the table of contents pane in the sidebar to navigate\n",
                "* Collapse irrelevant sections with the dropdown arrows\n",
                "* Search the page using the search in the sidebar, not CTRL+F"
            ]
        },
        {
            "attachments": {},
            "cell_type": "markdown",
            "metadata": {},
            "source": [
                "# Setup\n",
                "(No need to read)"
            ]
        },
        {
            "cell_type": "code",
            "execution_count": 1,
            "metadata": {},
            "outputs": [
                {
                    "name": "stdout",
                    "output_type": "stream",
                    "text": [
                        "Running as a Jupyter notebook - intended for development only!\n"
                    ]
                }
            ],
            "source": [
                "# Janky code to do different setup when run in a Colab notebook vs VSCode\n",
                "DEVELOPMENT_MODE = False\n",
                "try:\n",
                "    import google.colab\n",
                "    IN_COLAB = True\n",
                "    print(\"Running as a Colab notebook\")\n",
                "    %pip install git+https://github.com/neelnanda-io/TransformerLens.git\n",
                "    %pip install circuitsvis\n",
                "    \n",
                "    # PySvelte is an unmaintained visualization library, use it as a backup if circuitsvis isn't working\n",
                "    # # Install another version of node that makes PySvelte work way faster\n",
                "    # !curl -fsSL https://deb.nodesource.com/setup_16.x | sudo -E bash -; sudo apt-get install -y nodejs\n",
                "    # %pip install git+https://github.com/neelnanda-io/PySvelte.git\n",
                "except:\n",
                "    IN_COLAB = False\n",
                "    print(\"Running as a Jupyter notebook - intended for development only!\")\n",
                "    from IPython import get_ipython\n",
                "\n",
                "    ipython = get_ipython()\n",
                "    # Code to automatically update the HookedTransformer code as its edited without restarting the kernel\n",
                "    ipython.magic(\"load_ext autoreload\")\n",
                "    ipython.magic(\"autoreload 2\")"
            ]
        },
        {
            "cell_type": "code",
            "execution_count": 2,
            "metadata": {},
            "outputs": [
                {
                    "name": "stdout",
                    "output_type": "stream",
                    "text": [
                        "Using renderer: colab\n"
                    ]
                }
            ],
            "source": [
                "# Plotly needs a different renderer for VSCode/Notebooks vs Colab argh\n",
                "import plotly.io as pio\n",
                "if IN_COLAB or not DEVELOPMENT_MODE:\n",
                "    pio.renderers.default = \"colab\"\n",
                "else:\n",
                "    pio.renderers.default = \"notebook_connected\"\n",
                "print(f\"Using renderer: {pio.renderers.default}\")"
            ]
        },
        {
            "cell_type": "code",
            "execution_count": 3,
            "metadata": {},
            "outputs": [
                {
                    "data": {
                        "text/html": [
                            "<div id=\"circuits-vis-9bef902a-630d\" style=\"margin: 15px 0;\"/>\n",
                            "    <script crossorigin type=\"module\">\n",
                            "    import { render, Hello } from \"https://unpkg.com/circuitsvis@1.38.1/dist/cdn/esm.js\";\n",
                            "    render(\n",
                            "      \"circuits-vis-9bef902a-630d\",\n",
                            "      Hello,\n",
                            "      {\"name\": \"Neel\"}\n",
                            "    )\n",
                            "    </script>"
                        ],
                        "text/plain": [
                            "<circuitsvis.utils.render.RenderedHTML at 0x104f16580>"
                        ]
                    },
                    "execution_count": 3,
                    "metadata": {},
                    "output_type": "execute_result"
                }
            ],
            "source": [
                "import circuitsvis as cv\n",
                "# Testing that the library works\n",
                "cv.examples.hello(\"Neel\")"
            ]
        },
        {
            "cell_type": "code",
            "execution_count": 4,
            "metadata": {},
            "outputs": [],
            "source": [
                "# Import stuff\n",
                "import torch\n",
                "import torch.nn as nn\n",
                "import torch.nn.functional as F\n",
                "import torch.optim as optim\n",
                "import numpy as np\n",
                "import einops\n",
                "from fancy_einsum import einsum\n",
                "import tqdm.auto as tqdm\n",
                "import random\n",
                "from pathlib import Path\n",
                "import plotly.express as px\n",
                "from torch.utils.data import DataLoader\n",
                "\n",
                "from jaxtyping import Float, Int\n",
                "from typing import List, Union, Optional\n",
                "from functools import partial\n",
                "import copy\n",
                "\n",
                "import itertools\n",
                "from transformers import AutoModelForCausalLM, AutoConfig, AutoTokenizer\n",
                "import dataclasses\n",
                "import datasets\n",
                "from IPython.display import HTML"
            ]
        },
        {
            "cell_type": "code",
            "execution_count": 5,
            "metadata": {},
            "outputs": [],
            "source": [
                "import transformer_lens\n",
                "import transformer_lens.utils as utils\n",
                "from transformer_lens.hook_points import (\n",
                "    HookedRootModule,\n",
                "    HookPoint,\n",
                ")  # Hooking utilities\n",
                "from transformer_lens import HookedTransformer, HookedTransformerConfig, FactoredMatrix, ActivationCache"
            ]
        },
        {
            "cell_type": "markdown",
            "metadata": {},
            "source": [
                "We turn automatic differentiation off, to save GPU memory, as this notebook focuses on model inference not model training."
            ]
        },
        {
            "cell_type": "code",
            "execution_count": 6,
            "metadata": {},
            "outputs": [
                {
                    "data": {
                        "text/plain": [
                            "<torch.autograd.grad_mode.set_grad_enabled at 0x168924c10>"
                        ]
                    },
                    "execution_count": 6,
                    "metadata": {},
                    "output_type": "execute_result"
                }
            ],
            "source": [
                "torch.set_grad_enabled(False)"
            ]
        },
        {
            "cell_type": "markdown",
            "metadata": {},
            "source": [
                "Plotting helper functions:"
            ]
        },
        {
            "cell_type": "code",
            "execution_count": 7,
            "metadata": {},
            "outputs": [],
            "source": [
                "def imshow(tensor, renderer=None, xaxis=\"\", yaxis=\"\", **kwargs):\n",
                "    px.imshow(utils.to_numpy(tensor), color_continuous_midpoint=0.0, color_continuous_scale=\"RdBu\", labels={\"x\":xaxis, \"y\":yaxis}, **kwargs).show(renderer)\n",
                "\n",
                "def line(tensor, renderer=None, xaxis=\"\", yaxis=\"\", **kwargs):\n",
                "    px.line(utils.to_numpy(tensor), labels={\"x\":xaxis, \"y\":yaxis}, **kwargs).show(renderer)\n",
                "\n",
                "def scatter(x, y, xaxis=\"\", yaxis=\"\", caxis=\"\", renderer=None, **kwargs):\n",
                "    x = utils.to_numpy(x)\n",
                "    y = utils.to_numpy(y)\n",
                "    px.scatter(y=y, x=x, labels={\"x\":xaxis, \"y\":yaxis, \"color\":caxis}, **kwargs).show(renderer)"
            ]
        },
        {
            "attachments": {},
            "cell_type": "markdown",
            "metadata": {},
            "source": [
                "# Introduction"
            ]
        },
        {
            "attachments": {},
            "cell_type": "markdown",
            "metadata": {},
            "source": [
                "This is a demo notebook for [TransformerLens](https://github.com/neelnanda-io/TransformerLens), **a library I ([Neel Nanda](neelnanda.io)) wrote for doing [mechanistic interpretability](https://distill.pub/2020/circuits/zoom-in/) of GPT-2 Style language models.** The goal of mechanistic interpretability is to take a trained model and reverse engineer the algorithms the model learned during training from its weights. It is a fact about the world today that we have computer programs that can essentially speak English at a human level (GPT-3, PaLM, etc), yet we have no idea how they work nor how to write one ourselves. This offends me greatly, and I would like to solve this! Mechanistic interpretability is a very young and small field, and there are a *lot* of open problems - if you would like to help, please try working on one! **If you want to skill up, check out [my guide to getting started](https://neelnanda.io/getting-started), and if you want to jump into an open problem check out my sequence [200 Concrete Open Problems in Mechanistic Interpretability](https://neelnanda.io/concrete-open-problems).**\n",
                "\n",
                "I wrote this library because after I left the Anthropic interpretability team and started doing independent research, I got extremely frustrated by the state of open source tooling. There's a lot of excellent infrastructure like HuggingFace and DeepSpeed to *use* or *train* models, but very little to dig into their internals and reverse engineer how they work. **This library tries to solve that**, and to make it easy to get into the field even if you don't work at an industry org with real infrastructure! The core features were heavily inspired by [Anthropic's excellent Garcon tool](https://transformer-circuits.pub/2021/garcon/index.html). Credit to Nelson Elhage and Chris Olah for building Garcon and showing me the value of good infrastructure for accelerating exploratory research!\n",
                "\n",
                "The core design principle I've followed is to enable exploratory analysis - one of the most fun parts of mechanistic interpretability compared to normal ML is the extremely short feedback loops! The point of this library is to keep the gap between having an experiment idea and seeing the results as small as possible, to make it easy for **research to feel like play** and to enter a flow state. This notebook demonstrates how the library works and how to use it, but if you want to see how well it works for exploratory research, check out [my notebook analysing Indirect Objection Identification](https://neelnanda.io/exploratory-analysis-demo) or [my recording of myself doing research](https://www.youtube.com/watch?v=yo4QvDn-vsU)!"
            ]
        },
        {
            "attachments": {},
            "cell_type": "markdown",
            "metadata": {},
            "source": [
                "## Loading and Running Models\n",
                "\n",
                "TransformerLens comes loaded with >40 open source GPT-style models. You can load any of them in with `HookedTransformer.from_pretrained(MODEL_NAME)`. For this demo notebook we'll look at GPT-2 Small, an 80M parameter model, see the Available Models section for info on the rest."
            ]
        },
        {
            "cell_type": "code",
            "execution_count": 8,
            "metadata": {},
            "outputs": [],
            "source": [
                "device = \"cuda\" if torch.cuda.is_available() else \"cpu\""
            ]
        },
        {
            "cell_type": "code",
            "execution_count": 9,
            "metadata": {},
            "outputs": [
                {
                    "name": "stderr",
                    "output_type": "stream",
                    "text": [
                        "Using pad_token, but it is not set yet.\n"
                    ]
                },
                {
                    "name": "stdout",
                    "output_type": "stream",
                    "text": [
                        "Loaded pretrained model gpt2-small into HookedTransformer\n"
                    ]
                }
            ],
            "source": [
                "model = HookedTransformer.from_pretrained(\"gpt2-small\", device=device)"
            ]
        },
        {
            "attachments": {},
            "cell_type": "markdown",
            "metadata": {},
            "source": [
                "To try the model out, let's find the loss on this text! Models can be run on a single string or a tensor of tokens (shape: [batch, position], all integers), and the possible return types are: \n",
                "* \"logits\" (shape [batch, position, d_vocab], floats), \n",
                "* \"loss\" (the cross-entropy loss when predicting the next token), \n",
                "* \"both\" (a tuple of (logits, loss)) \n",
                "* None (run the model, but don't calculate the logits - this is faster when we only want to use intermediate activations)"
            ]
        },
        {
            "cell_type": "code",
            "execution_count": 10,
            "metadata": {},
            "outputs": [
                {
                    "name": "stdout",
                    "output_type": "stream",
                    "text": [
                        "Model loss: tensor(4.1758)\n"
                    ]
                }
            ],
            "source": [
                "model_description_text = \"\"\"## Loading Models\n",
                "\n",
                "HookedTransformer comes loaded with >40 open source GPT-style models. You can load any of them in with `HookedTransformer.from_pretrained(MODEL_NAME)`. See my explainer for documentation of all supported models, and this table for hyper-parameters and the name used to load them. Each model is loaded into the consistent HookedTransformer architecture, designed to be clean, consistent and interpretability-friendly. \n",
                "\n",
                "For this demo notebook we'll look at GPT-2 Small, an 80M parameter model. To try the model the model out, let's find the loss on this paragraph!\"\"\"\n",
                "loss = model(model_description_text, return_type=\"loss\")\n",
                "print(\"Model loss:\", loss)"
            ]
        },
        {
            "attachments": {},
            "cell_type": "markdown",
            "metadata": {},
            "source": [
                "## Caching all Activations\n",
                "\n",
                "The first basic operation when doing mechanistic interpretability is to break open the black box of the model and look at all of the internal activations of a model. This can be done with `logits, cache = model.run_with_cache(tokens)`. Let's try this out on the first line of the abstract of the GPT-2 paper.\n",
                "\n",
                "<details><summary>On `remove_batch_dim`</summary>\n",
                "\n",
                "Every activation inside the model begins with a batch dimension. Here, because we only entered a single batch dimension, that dimension is always length 1 and kinda annoying, so passing in the `remove_batch_dim=True` keyword removes it. `gpt2_cache_no_batch_dim = gpt2_cache.remove_batch_dim()` would have achieved the same effect.\n",
                "</details?>"
            ]
        },
        {
            "cell_type": "code",
            "execution_count": 11,
            "metadata": {},
            "outputs": [
                {
                    "name": "stdout",
                    "output_type": "stream",
                    "text": [
                        "cpu\n"
                    ]
                }
            ],
            "source": [
                "gpt2_text = \"Natural language processing tasks, such as question answering, machine translation, reading comprehension, and summarization, are typically approached with supervised learning on taskspecific datasets.\"\n",
                "gpt2_tokens = model.to_tokens(gpt2_text)\n",
                "print(gpt2_tokens.device)\n",
                "gpt2_logits, gpt2_cache = model.run_with_cache(gpt2_tokens, remove_batch_dim=True)"
            ]
        },
        {
            "attachments": {},
            "cell_type": "markdown",
            "metadata": {},
            "source": [
                "Let's visualize the attention pattern of all the heads in layer 0, using [Alan Cooney's CircuitsVis library](https://github.com/alan-cooney/CircuitsVis) (based on [Anthropic's PySvelte library](https://github.com/anthropics/PySvelte)). \n",
                "\n",
                "We look this the attention pattern in `gpt2_cache`, an `ActivationCache` object, by entering in the name of the activation, followed by the layer index (here, the activation is called \"attn\" and the layer index is 0). This has shape [head_index, destination_position, source_position], and we use the `model.to_str_tokens` method to convert the text to a list of tokens as strings, since there is an attention weight between each pair of tokens.\n",
                "\n",
                "This visualization is interactive! Try hovering over a token or head, and click to lock. The grid on the top left and for each head is the attention pattern as a destination position by source position grid. It's lower triangular because GPT-2 has **causal attention**, attention can only look backwards, so information can only move forwards in the network.\n",
                "\n",
                "See the ActivationCache section for more on what `gpt2_cache` can do."
            ]
        },
        {
            "cell_type": "code",
            "execution_count": 12,
            "metadata": {},
            "outputs": [
                {
                    "name": "stdout",
                    "output_type": "stream",
                    "text": [
                        "<class 'transformer_lens.ActivationCache.ActivationCache'>\n",
                        "torch.Size([12, 33, 33])\n"
                    ]
                }
            ],
            "source": [
                "print(type(gpt2_cache))\n",
                "attention_pattern = gpt2_cache[\"pattern\", 0, \"attn\"]\n",
                "print(attention_pattern.shape)\n",
                "gpt2_str_tokens = model.to_str_tokens(gpt2_text)"
            ]
        },
        {
            "cell_type": "code",
            "execution_count": 13,
            "metadata": {},
            "outputs": [
                {
                    "name": "stdout",
                    "output_type": "stream",
                    "text": [
                        "Layer 0 Head Attention Patterns:\n"
                    ]
                },
                {
                    "data": {
                        "text/html": [
                            "<div id=\"circuits-vis-417711b4-7336\" style=\"margin: 15px 0;\"/>\n",
                            "    <script crossorigin type=\"module\">\n",
                            "    import { render, AttentionPatterns } from \"https://unpkg.com/circuitsvis@1.38.1/dist/cdn/esm.js\";\n",
                            "    render(\n",
                            "      \"circuits-vis-417711b4-7336\",\n",
                            "      AttentionPatterns,\n",
                            "      {\"tokens\": [\"<|endoftext|>\", \"Natural\", \" language\", \" processing\", \" tasks\", \",\", \" such\", \" as\", \" question\", \" answering\", \",\", \" machine\", \" translation\", \",\", \" reading\", \" comprehension\", \",\", \" and\", \" summar\", \"ization\", \",\", \" are\", \" typically\", \" approached\", \" with\", \" supervised\", \" learning\", \" on\", \" tasks\", \"pe\", \"cific\", \" datasets\", \".\"], \"attention\": [[[1.0, 0.0, 0.0, 0.0, 0.0, 0.0, 0.0, 0.0, 0.0, 0.0, 0.0, 0.0, 0.0, 0.0, 0.0, 0.0, 0.0, 0.0, 0.0, 0.0, 0.0, 0.0, 0.0, 0.0, 0.0, 0.0, 0.0, 0.0, 0.0, 0.0, 0.0, 0.0, 0.0], [0.9639418721199036, 0.036058153957128525, 0.0, 0.0, 0.0, 0.0, 0.0, 0.0, 0.0, 0.0, 0.0, 0.0, 0.0, 0.0, 0.0, 0.0, 0.0, 0.0, 0.0, 0.0, 0.0, 0.0, 0.0, 0.0, 0.0, 0.0, 0.0, 0.0, 0.0, 0.0, 0.0, 0.0, 0.0], [0.8389371633529663, 0.11828794330358505, 0.04277484491467476, 0.0, 0.0, 0.0, 0.0, 0.0, 0.0, 0.0, 0.0, 0.0, 0.0, 0.0, 0.0, 0.0, 0.0, 0.0, 0.0, 0.0, 0.0, 0.0, 0.0, 0.0, 0.0, 0.0, 0.0, 0.0, 0.0, 0.0, 0.0, 0.0, 0.0], [0.4743611216545105, 0.1338203251361847, 0.2737175524234772, 0.11810104548931122, 0.0, 0.0, 0.0, 0.0, 0.0, 0.0, 0.0, 0.0, 0.0, 0.0, 0.0, 0.0, 0.0, 0.0, 0.0, 0.0, 0.0, 0.0, 0.0, 0.0, 0.0, 0.0, 0.0, 0.0, 0.0, 0.0, 0.0, 0.0, 0.0], [0.3560643792152405, 0.10184917598962784, 0.23054222762584686, 0.20397400856018066, 0.10757025331258774, 0.0, 0.0, 0.0, 0.0, 0.0, 0.0, 0.0, 0.0, 0.0, 0.0, 0.0, 0.0, 0.0, 0.0, 0.0, 0.0, 0.0, 0.0, 0.0, 0.0, 0.0, 0.0, 0.0, 0.0, 0.0, 0.0, 0.0, 0.0], [0.6660144329071045, 0.168663889169693, 0.045356716960668564, 0.03885500133037567, 0.06775476038455963, 0.013355245813727379, 0.0, 0.0, 0.0, 0.0, 0.0, 0.0, 0.0, 0.0, 0.0, 0.0, 0.0, 0.0, 0.0, 0.0, 0.0, 0.0, 0.0, 0.0, 0.0, 0.0, 0.0, 0.0, 0.0, 0.0, 0.0, 0.0, 0.0], [0.38626956939697266, 0.2851093113422394, 0.07609013468027115, 0.059083811938762665, 0.07223352044820786, 0.039796315133571625, 0.08141733705997467, 0.0, 0.0, 0.0, 0.0, 0.0, 0.0, 0.0, 0.0, 0.0, 0.0, 0.0, 0.0, 0.0, 0.0, 0.0, 0.0, 0.0, 0.0, 0.0, 0.0, 0.0, 0.0, 0.0, 0.0, 0.0, 0.0], [0.3775395452976227, 0.1883881390094757, 0.11723996698856354, 0.08685596287250519, 0.06669183075428009, 0.03500014543533325, 0.09692996740341187, 0.031354423612356186, 0.0, 0.0, 0.0, 0.0, 0.0, 0.0, 0.0, 0.0, 0.0, 0.0, 0.0, 0.0, 0.0, 0.0, 0.0, 0.0, 0.0, 0.0, 0.0, 0.0, 0.0, 0.0, 0.0, 0.0, 0.0], [0.48697540163993835, 0.06781313568353653, 0.07952875643968582, 0.08480790257453918, 0.15902608633041382, 0.02957781031727791, 0.02568594180047512, 0.016474604606628418, 0.050110358744859695, 0.0, 0.0, 0.0, 0.0, 0.0, 0.0, 0.0, 0.0, 0.0, 0.0, 0.0, 0.0, 0.0, 0.0, 0.0, 0.0, 0.0, 0.0, 0.0, 0.0, 0.0, 0.0, 0.0, 0.0], [0.2906552851200104, 0.0401349812746048, 0.1461484432220459, 0.09940600395202637, 0.15389174222946167, 0.03900163620710373, 0.024988964200019836, 0.03184127062559128, 0.10222817212343216, 0.0717034861445427, 0.0, 0.0, 0.0, 0.0, 0.0, 0.0, 0.0, 0.0, 0.0, 0.0, 0.0, 0.0, 0.0, 0.0, 0.0, 0.0, 0.0, 0.0, 0.0, 0.0, 0.0, 0.0, 0.0], [0.3962409794330597, 0.09694172441959381, 0.02727063000202179, 0.02355133555829525, 0.03723447024822235, 0.00650241132825613, 0.08118759095668793, 0.013088468462228775, 0.06990581005811691, 0.2404310703277588, 0.007645335979759693, 0.0, 0.0, 0.0, 0.0, 0.0, 0.0, 0.0, 0.0, 0.0, 0.0, 0.0, 0.0, 0.0, 0.0, 0.0, 0.0, 0.0, 0.0, 0.0, 0.0, 0.0, 0.0], [0.2486477941274643, 0.13802064955234528, 0.0923532098531723, 0.08676130324602127, 0.13819706439971924, 0.05914198234677315, 0.03223859518766403, 0.03158237040042877, 0.03048940747976303, 0.03873481601476669, 0.06671838462352753, 0.037114467471838, 0.0, 0.0, 0.0, 0.0, 0.0, 0.0, 0.0, 0.0, 0.0, 0.0, 0.0, 0.0, 0.0, 0.0, 0.0, 0.0, 0.0, 0.0, 0.0, 0.0, 0.0], [0.19148440659046173, 0.1617259979248047, 0.07445943355560303, 0.07740945369005203, 0.02196110412478447, 0.0339212566614151, 0.05125022679567337, 0.019519226625561714, 0.03132442384958267, 0.04020152986049652, 0.03874267265200615, 0.21578849852085114, 0.0422116182744503, 0.0, 0.0, 0.0, 0.0, 0.0, 0.0, 0.0, 0.0, 0.0, 0.0, 0.0, 0.0, 0.0, 0.0, 0.0, 0.0, 0.0, 0.0, 0.0, 0.0], [0.3704318702220917, 0.08681416511535645, 0.02458464726805687, 0.021616311743855476, 0.03238870948553085, 0.0054227253422141075, 0.07275227457284927, 0.011272790841758251, 0.06329679489135742, 0.21726833283901215, 0.006367162335664034, 0.029603799805045128, 0.050998423248529434, 0.007182059809565544, 0.0, 0.0, 0.0, 0.0, 0.0, 0.0, 0.0, 0.0, 0.0, 0.0, 0.0, 0.0, 0.0, 0.0, 0.0, 0.0, 0.0, 0.0, 0.0], [0.19737660884857178, 0.04604002833366394, 0.04399982467293739, 0.13373450934886932, 0.05424821749329567, 0.02547573484480381, 0.02756347693502903, 0.02157091349363327, 0.05171825364232063, 0.06458092480897903, 0.028064623475074768, 0.23551589250564575, 0.019129810854792595, 0.029963495209813118, 0.02101770229637623, 0.0, 0.0, 0.0, 0.0, 0.0, 0.0, 0.0, 0.0, 0.0, 0.0, 0.0, 0.0, 0.0, 0.0, 0.0, 0.0, 0.0, 0.0], [0.0890723317861557, 0.019288333132863045, 0.1665353626012802, 0.07281257212162018, 0.047386351972818375, 0.024487918242812157, 0.028987346217036247, 0.01937038265168667, 0.026673000305891037, 0.0731663852930069, 0.025704622268676758, 0.042423564940690994, 0.058694589883089066, 0.02893269807100296, 0.18119081854820251, 0.09527362883090973, 0.0, 0.0, 0.0, 0.0, 0.0, 0.0, 0.0, 0.0, 0.0, 0.0, 0.0, 0.0, 0.0, 0.0, 0.0, 0.0, 0.0], [0.28167295455932617, 0.06441286206245422, 0.018008558079600334, 0.016169629991054535, 0.023183882236480713, 0.003753295633941889, 0.05472245067358017, 0.007909758016467094, 0.046164579689502716, 0.16947278380393982, 0.004361639730632305, 0.021011358126997948, 0.03549071028828621, 0.00493257213383913, 0.09555217623710632, 0.1472633332014084, 0.005917449481785297, 0.0, 0.0, 0.0, 0.0, 0.0, 0.0, 0.0, 0.0, 0.0, 0.0, 0.0, 0.0, 0.0, 0.0, 0.0, 0.0], [0.21305489540100098, 0.059123679995536804, 0.03382087126374245, 0.027476873248815536, 0.028393564745783806, 0.008422902785241604, 0.040085263550281525, 0.01162925735116005, 0.052951838821172714, 0.15404649078845978, 0.009831812232732773, 0.03610194846987724, 0.04737287759780884, 0.011069194413721561, 0.09972470998764038, 0.13971355557441711, 0.01318534929305315, 0.013994941487908363, 0.0, 0.0, 0.0, 0.0, 0.0, 0.0, 0.0, 0.0, 0.0, 0.0, 0.0, 0.0, 0.0, 0.0, 0.0], [0.15871703624725342, 0.043878909200429916, 0.08712152391672134, 0.08998452126979828, 0.030738554894924164, 0.03414895758032799, 0.0249172393232584, 0.03139190003275871, 0.024823827669024467, 0.01979033276438713, 0.03625486418604851, 0.020694410428404808, 0.04284074157476425, 0.038208987563848495, 0.06234661489725113, 0.10919705033302307, 0.04137599840760231, 0.04916753992438316, 0.05440099164843559, 0.0, 0.0, 0.0, 0.0, 0.0, 0.0, 0.0, 0.0, 0.0, 0.0, 0.0, 0.0, 0.0, 0.0], [0.10485512763261795, 0.12122299522161484, 0.06487487256526947, 0.08768714964389801, 0.03434055671095848, 0.017483940348029137, 0.03415177762508392, 0.015289132483303547, 0.023312091827392578, 0.028306519612669945, 0.01872047409415245, 0.028111914172768593, 0.04190530627965927, 0.02098955772817135, 0.04678511247038841, 0.08659631758928299, 0.023631833493709564, 0.024273179471492767, 0.1670239269733429, 0.010438214056193829, 0.0, 0.0, 0.0, 0.0, 0.0, 0.0, 0.0, 0.0, 0.0, 0.0, 0.0, 0.0, 0.0], [0.22901977598667145, 0.05184383690357208, 0.013585180044174194, 0.012337238527834415, 0.01800542324781418, 0.0027703570667654276, 0.04238126799464226, 0.005856247153133154, 0.036144815385341644, 0.13039229810237885, 0.003153420053422451, 0.01567256450653076, 0.027800412848591805, 0.0035543248523026705, 0.07460808753967285, 0.11298277229070663, 0.004272269085049629, 0.006832199636846781, 0.18569745123386383, 0.018073635175824165, 0.005016356240957975, 0.0, 0.0, 0.0, 0.0, 0.0, 0.0, 0.0, 0.0, 0.0, 0.0, 0.0, 0.0], [0.18869930505752563, 0.034387145191431046, 0.022344740107655525, 0.01997273974120617, 0.016354022547602654, 0.006856543943285942, 0.020859019830822945, 0.005695993080735207, 0.03415914624929428, 0.07260989397764206, 0.007857210002839565, 0.018040265887975693, 0.02690446749329567, 0.00902040395885706, 0.06876453012228012, 0.1757873147726059, 0.010720070451498032, 0.00928453542292118, 0.19256392121315002, 0.025180337950587273, 0.012639070861041546, 0.021299341693520546, 0.0, 0.0, 0.0, 0.0, 0.0, 0.0, 0.0, 0.0, 0.0, 0.0, 0.0], [0.1195831373333931, 0.022259434685111046, 0.03294713422656059, 0.02017025090754032, 0.035653337836265564, 0.013459891080856323, 0.01751646399497986, 0.010057859122753143, 0.025856437161564827, 0.05955956131219864, 0.015084507875144482, 0.01500874012708664, 0.053174640983343124, 0.01659758947789669, 0.0415552482008934, 0.13129334151744843, 0.019296664744615555, 0.015855038538575172, 0.17925085127353668, 0.016183817759156227, 0.02229553647339344, 0.015463359653949738, 0.10187703371047974, 0.0, 0.0, 0.0, 0.0, 0.0, 0.0, 0.0, 0.0, 0.0, 0.0], [0.146155446767807, 0.02672753483057022, 0.0166245736181736, 0.01898765377700329, 0.06278640031814575, 0.015317171812057495, 0.019792228937149048, 0.014227760024368763, 0.025458185002207756, 0.04530353844165802, 0.01636434718966484, 0.03749307990074158, 0.01328866183757782, 0.017496556043624878, 0.039945852011442184, 0.058817554265260696, 0.019260969012975693, 0.024616040289402008, 0.03821973130106926, 0.021577807143330574, 0.020949874073266983, 0.07973216474056244, 0.05017602816224098, 0.1706809103488922, 0.0, 0.0, 0.0, 0.0, 0.0, 0.0, 0.0, 0.0, 0.0], [0.11321672797203064, 0.03674638643860817, 0.01178657729178667, 0.010274865664541721, 0.02037067711353302, 0.00524388300254941, 0.015918834134936333, 0.005266782362014055, 0.024891721084713936, 0.06593263894319534, 0.005933654960244894, 0.01820906065404415, 0.02102019265294075, 0.006667500827461481, 0.0348287895321846, 0.13742120563983917, 0.007927054539322853, 0.008618670515716076, 0.1137719452381134, 0.013557443395256996, 0.009277832694351673, 0.026121381670236588, 0.0849934071302414, 0.19073903560638428, 0.011263730935752392, 0.0, 0.0, 0.0, 0.0, 0.0, 0.0, 0.0, 0.0], [0.13337714970111847, 0.02621665969491005, 0.03827153891324997, 0.0715256780385971, 0.05317770689725876, 0.013925855979323387, 0.007084188517183065, 0.013450155034661293, 0.009841456077992916, 0.011789782904088497, 0.013537607155740261, 0.03815494477748871, 0.0419330857694149, 0.013882293365895748, 0.03707148879766464, 0.13838449120521545, 0.014846321195363998, 0.031569499522447586, 0.05598171427845955, 0.015536666847765446, 0.015956372022628784, 0.04545551910996437, 0.0166996568441391, 0.025325745344161987, 0.036718931049108505, 0.08028541505336761, 0.0, 0.0, 0.0, 0.0, 0.0, 0.0, 0.0], [0.10608971118927002, 0.019107751548290253, 0.02446865290403366, 0.027496367692947388, 0.016365785151720047, 0.005011425819247961, 0.010413105599582195, 0.006081135477870703, 0.005301059223711491, 0.011143162846565247, 0.0045653884299099445, 0.018969906494021416, 0.0043211160227656364, 0.004814973101019859, 0.02940943092107773, 0.02868201956152916, 0.005097252316772938, 0.0072343479841947556, 0.034125909209251404, 0.010370577685534954, 0.00564326299354434, 0.007283578626811504, 0.029389487579464912, 0.010038789361715317, 0.009134517051279545, 0.5466634631156921, 0.012777910567820072, 0.0, 0.0, 0.0, 0.0, 0.0, 0.0], [0.1046731099486351, 0.03321942687034607, 0.015341237187385559, 0.009373554959893227, 0.02659546211361885, 0.0057877968065440655, 0.013571348041296005, 0.0045548793859779835, 0.028058871626853943, 0.026107238605618477, 0.006353430449962616, 0.013315834105014801, 0.02662823162972927, 0.006888872478157282, 0.06204753369092941, 0.05890706554055214, 0.008068042807281017, 0.0075570959597826, 0.0852278620004654, 0.01707574538886547, 0.009256881661713123, 0.019695749506354332, 0.12617801129817963, 0.13061508536338806, 0.011351033113896847, 0.08984379470348358, 0.04638151824474335, 0.00732528418302536, 0.0, 0.0, 0.0, 0.0, 0.0], [0.0856190100312233, 0.0214389655739069, 0.056412529200315475, 0.05706658586859703, 0.019802188500761986, 0.006727499421685934, 0.005809162277728319, 0.004516263492405415, 0.0031647474970668554, 0.017615219578146935, 0.0061745960265398026, 0.08767977356910706, 0.01229986734688282, 0.00635045999661088, 0.017522141337394714, 0.14295217394828796, 0.006585488095879555, 0.007875680923461914, 0.030078940093517303, 0.013907496817409992, 0.007376698311418295, 0.007684782613068819, 0.022160811349749565, 0.012385028414428234, 0.011890057474374771, 0.08669780194759369, 0.19902531802654266, 0.013594496063888073, 0.02958623506128788, 0.0, 0.0, 0.0, 0.0], [0.14064592123031616, 0.013298720121383667, 0.01570296287536621, 0.01735786907374859, 0.022331520915031433, 0.02967231161892414, 0.04172082245349884, 0.018995413556694984, 0.03827717900276184, 0.04863564670085907, 0.030946925282478333, 0.016023891046643257, 0.02088090591132641, 0.032438233494758606, 0.03055812418460846, 0.022808348760008812, 0.03537755087018013, 0.03145162761211395, 0.03497113287448883, 0.01867910847067833, 0.038219086825847626, 0.022578822448849678, 0.06819553673267365, 0.042140934616327286, 0.028620833531022072, 0.03775005787611008, 0.018578050658106804, 0.033768683671951294, 0.03641693666577339, 0.012956840917468071, 0.0, 0.0, 0.0], [0.07168619334697723, 0.06924450397491455, 0.019306883215904236, 0.014161955565214157, 0.016823187470436096, 0.0193805992603302, 0.0192574393004179, 0.022003652527928352, 0.013706518337130547, 0.035783786326646805, 0.01846517249941826, 0.05207160860300064, 0.020085139200091362, 0.019862113520503044, 0.02066211774945259, 0.04725167155265808, 0.021076710894703865, 0.036787234246730804, 0.02432410791516304, 0.003827548585832119, 0.023920658975839615, 0.008533221669495106, 0.02624163217842579, 0.027380069717764854, 0.03461196646094322, 0.022884145379066467, 0.1004791334271431, 0.06913498044013977, 0.025474557653069496, 0.06495602428913116, 0.03061540424823761, 0.0, 0.0], [0.06910780817270279, 0.03701229766011238, 0.038621146231889725, 0.05933314561843872, 0.01592356339097023, 0.007918558083474636, 0.010371054522693157, 0.006615661084651947, 0.0025200790259987116, 0.0260193832218647, 0.007905229926109314, 0.02965201810002327, 0.04000629112124443, 0.00845134537667036, 0.010741163045167923, 0.05027567967772484, 0.009428860619664192, 0.013601008802652359, 0.05036924034357071, 0.03176713362336159, 0.01079303678125143, 0.007216793484985828, 0.00647842837497592, 0.014800602570176125, 0.02158595621585846, 0.15769486129283905, 0.0888475850224495, 0.019016919657588005, 0.029729368165135384, 0.03316134586930275, 0.05088360980153084, 0.03415084257721901, 0.0], [0.14375516772270203, 0.01681104116141796, 0.00938666146248579, 0.006830304395407438, 0.01165685709565878, 0.0015672259032726288, 0.019711481407284737, 0.002398037351667881, 0.0212358720600605, 0.04683682695031166, 0.0016905148513615131, 0.005827197339385748, 0.011979994364082813, 0.0018251396249979734, 0.04231329634785652, 0.054913707077503204, 0.0021786559373140335, 0.002417010022327304, 0.09604068845510483, 0.005752871744334698, 0.0025577929336577654, 0.007121226750314236, 0.08889935910701752, 0.10852070152759552, 0.005179051775485277, 0.03657735511660576, 0.02471991814672947, 0.0037347699981182814, 0.031077075749635696, 0.016887927427887917, 0.094508595764637, 0.07171537727117538, 0.003372322069481015]], [[1.0, 0.0, 0.0, 0.0, 0.0, 0.0, 0.0, 0.0, 0.0, 0.0, 0.0, 0.0, 0.0, 0.0, 0.0, 0.0, 0.0, 0.0, 0.0, 0.0, 0.0, 0.0, 0.0, 0.0, 0.0, 0.0, 0.0, 0.0, 0.0, 0.0, 0.0, 0.0, 0.0], [0.0004246649332344532, 0.9995753169059753, 0.0, 0.0, 0.0, 0.0, 0.0, 0.0, 0.0, 0.0, 0.0, 0.0, 0.0, 0.0, 0.0, 0.0, 0.0, 0.0, 0.0, 0.0, 0.0, 0.0, 0.0, 0.0, 0.0, 0.0, 0.0, 0.0, 0.0, 0.0, 0.0, 0.0, 0.0], [0.0005621897871606052, 0.016407227143645287, 0.9830306172370911, 0.0, 0.0, 0.0, 0.0, 0.0, 0.0, 0.0, 0.0, 0.0, 0.0, 0.0, 0.0, 0.0, 0.0, 0.0, 0.0, 0.0, 0.0, 0.0, 0.0, 0.0, 0.0, 0.0, 0.0, 0.0, 0.0, 0.0, 0.0, 0.0, 0.0], [0.0011627530911937356, 0.02168194390833378, 0.0037620372604578733, 0.9733933210372925, 0.0, 0.0, 0.0, 0.0, 0.0, 0.0, 0.0, 0.0, 0.0, 0.0, 0.0, 0.0, 0.0, 0.0, 0.0, 0.0, 0.0, 0.0, 0.0, 0.0, 0.0, 0.0, 0.0, 0.0, 0.0, 0.0, 0.0, 0.0, 0.0], [3.724429552676156e-05, 0.0001720218569971621, 0.00028143878444097936, 0.0027421358972787857, 0.9967671632766724, 0.0, 0.0, 0.0, 0.0, 0.0, 0.0, 0.0, 0.0, 0.0, 0.0, 0.0, 0.0, 0.0, 0.0, 0.0, 0.0, 0.0, 0.0, 0.0, 0.0, 0.0, 0.0, 0.0, 0.0, 0.0, 0.0, 0.0, 0.0], [0.008268465287983418, 0.00023985601728782058, 7.361917960224673e-05, 6.43773382762447e-05, 0.000175663924892433, 0.9911779761314392, 0.0, 0.0, 0.0, 0.0, 0.0, 0.0, 0.0, 0.0, 0.0, 0.0, 0.0, 0.0, 0.0, 0.0, 0.0, 0.0, 0.0, 0.0, 0.0, 0.0, 0.0, 0.0, 0.0, 0.0, 0.0, 0.0, 0.0], [0.0012215040624141693, 0.00540044903755188, 0.0016716319369152188, 0.00040775592788122594, 0.0006163666257634759, 0.0010931170545518398, 0.9895892143249512, 0.0, 0.0, 0.0, 0.0, 0.0, 0.0, 0.0, 0.0, 0.0, 0.0, 0.0, 0.0, 0.0, 0.0, 0.0, 0.0, 0.0, 0.0, 0.0, 0.0, 0.0, 0.0, 0.0, 0.0, 0.0, 0.0], [0.001245982595719397, 0.0009121238254010677, 0.0005976738757453859, 0.00013656937517225742, 0.0003304129932075739, 0.0015722833340987563, 0.0038808262906968594, 0.9913241863250732, 0.0, 0.0, 0.0, 0.0, 0.0, 0.0, 0.0, 0.0, 0.0, 0.0, 0.0, 0.0, 0.0, 0.0, 0.0, 0.0, 0.0, 0.0, 0.0, 0.0, 0.0, 0.0, 0.0, 0.0, 0.0], [0.00028217569342814386, 0.004068192560225725, 0.002660525729879737, 0.001309315557591617, 0.00803050771355629, 0.0002879099047277123, 0.00022923006326891482, 0.00039484305307269096, 0.9827372431755066, 0.0, 0.0, 0.0, 0.0, 0.0, 0.0, 0.0, 0.0, 0.0, 0.0, 0.0, 0.0, 0.0, 0.0, 0.0, 0.0, 0.0, 0.0, 0.0, 0.0, 0.0, 0.0, 0.0, 0.0], [3.473927063168958e-05, 0.00039538327837362885, 0.0001327271165791899, 0.00025852263206616044, 0.0010855592554435134, 9.19803642318584e-05, 0.00032670696964487433, 0.0005427434225566685, 0.006105901673436165, 0.9910257458686829, 0.0, 0.0, 0.0, 0.0, 0.0, 0.0, 0.0, 0.0, 0.0, 0.0, 0.0, 0.0, 0.0, 0.0, 0.0, 0.0, 0.0, 0.0, 0.0, 0.0, 0.0, 0.0, 0.0], [0.003378512104973197, 5.090878767077811e-05, 1.6452067939098924e-05, 1.6926142052398063e-05, 4.181421172688715e-05, 0.4939402639865875, 0.0001298125716857612, 0.0008837354253046215, 3.2212017686106265e-05, 2.725213380472269e-05, 0.5014821290969849, 0.0, 0.0, 0.0, 0.0, 0.0, 0.0, 0.0, 0.0, 0.0, 0.0, 0.0, 0.0, 0.0, 0.0, 0.0, 0.0, 0.0, 0.0, 0.0, 0.0, 0.0, 0.0], [8.416033233515918e-05, 0.0013417191803455353, 0.0012613574508577585, 0.0021450724452733994, 0.004042354878038168, 0.0004830522811971605, 0.0001158263476099819, 0.00015203567454591393, 2.692517955438234e-05, 0.00012675079051405191, 0.0003128981916233897, 0.9899078607559204, 0.0, 0.0, 0.0, 0.0, 0.0, 0.0, 0.0, 0.0, 0.0, 0.0, 0.0, 0.0, 0.0, 0.0, 0.0, 0.0, 0.0, 0.0, 0.0, 0.0, 0.0], [0.00037822299054823816, 0.0009837565012276173, 0.039341311901807785, 0.0027322503738105297, 0.003668036311864853, 0.00011039178934879601, 0.00012931067612953484, 0.0002174349792767316, 0.00010623273556120694, 0.0007748192874714732, 6.647677946602926e-05, 0.00031486706575378776, 0.9511768221855164, 0.0, 0.0, 0.0, 0.0, 0.0, 0.0, 0.0, 0.0, 0.0, 0.0, 0.0, 0.0, 0.0, 0.0, 0.0, 0.0, 0.0, 0.0, 0.0, 0.0], [0.002101721940562129, 2.44368493440561e-05, 7.7887807492516e-06, 8.651613825350069e-06, 2.0140041669947095e-05, 0.2997134029865265, 7.525256660301238e-05, 0.0004898314364254475, 1.8459486454958096e-05, 1.53445616888348e-05, 0.3283389210700989, 4.175788853899576e-05, 6.46920079816482e-06, 0.36913785338401794, 0.0, 0.0, 0.0, 0.0, 0.0, 0.0, 0.0, 0.0, 0.0, 0.0, 0.0, 0.0, 0.0, 0.0, 0.0, 0.0, 0.0, 0.0, 0.0], [0.00014968271716497838, 0.00011296564480289817, 0.00036294819437898695, 0.00018591205298434943, 0.00016460876213386655, 4.143213664065115e-05, 2.876463440770749e-05, 7.786929199937731e-05, 0.0009200957720167935, 0.010340185835957527, 2.757226138783153e-05, 1.783320476533845e-05, 0.00033054465893656015, 2.4375611246796325e-05, 0.9872152805328369, 0.0, 0.0, 0.0, 0.0, 0.0, 0.0, 0.0, 0.0, 0.0, 0.0, 0.0, 0.0, 0.0, 0.0, 0.0, 0.0, 0.0, 0.0], [0.00010753836249932647, 0.0021781919058412313, 0.0020426171831786633, 0.004251941107213497, 0.006989921443164349, 2.5118795747403055e-05, 0.0007779039442539215, 0.0005783535889349878, 0.002937836106866598, 0.03322534263134003, 1.719926149235107e-05, 0.0008936515660025179, 0.0015238604974001646, 1.4656763596576639e-05, 0.006222629453986883, 0.9382132887840271, 0.0, 0.0, 0.0, 0.0, 0.0, 0.0, 0.0, 0.0, 0.0, 0.0, 0.0, 0.0, 0.0, 0.0, 0.0, 0.0, 0.0], [0.0013634850038215518, 1.322600928688189e-05, 4.013919351564255e-06, 4.803042429557536e-06, 1.025741221383214e-05, 0.19665925204753876, 4.5272459828993306e-05, 0.000277625658782199, 1.1714409993146546e-05, 9.473302270635031e-06, 0.2291959524154663, 2.6430470825289376e-05, 4.101836111658486e-06, 0.26576098799705505, 8.515330591762904e-06, 4.53601251138025e-06, 0.30660033226013184, 0.0, 0.0, 0.0, 0.0, 0.0, 0.0, 0.0, 0.0, 0.0, 0.0, 0.0, 0.0, 0.0, 0.0, 0.0, 0.0], [0.0008924745488911867, 0.00013490761921275407, 4.7798330342629924e-05, 5.803693784400821e-05, 0.0001048016783897765, 0.012799051590263844, 0.0007168222218751907, 0.03257943317294121, 2.6449841243447736e-05, 0.00011185034236405045, 0.011884224601089954, 4.0102600905811414e-05, 5.555400639423169e-05, 0.012377814389765263, 0.0001078343266271986, 5.404352123150602e-05, 0.01312211062759161, 0.9148867130279541, 0.0, 0.0, 0.0, 0.0, 0.0, 0.0, 0.0, 0.0, 0.0, 0.0, 0.0, 0.0, 0.0, 0.0, 0.0], [5.075324679637561e-06, 4.396147414809093e-05, 3.3985183108597994e-05, 7.940347131807357e-05, 5.4779331549070776e-05, 7.921566975710448e-07, 9.313333976024296e-06, 7.727094271103851e-06, 8.597262785769999e-05, 0.00012274090840946883, 5.141504288985743e-07, 1.7027970216076938e-06, 3.834197923424654e-05, 4.450975836789439e-07, 0.00013928250700701028, 0.00032758136512711644, 3.9948051266947004e-07, 3.948146058974089e-06, 0.9990440011024475, 0.0, 0.0, 0.0, 0.0, 0.0, 0.0, 0.0, 0.0, 0.0, 0.0, 0.0, 0.0, 0.0, 0.0], [9.346206934424117e-05, 0.0018395755905658007, 0.0025233160704374313, 0.01808726228773594, 0.0029363802168518305, 0.000273358600679785, 4.872983481618576e-05, 0.00042127881897613406, 0.0001562439138069749, 0.0009748352458700538, 0.00020533624046947807, 0.001022886368446052, 0.0019548069685697556, 0.00019470402912702411, 0.001129422103986144, 0.0016656118677929044, 0.00018734094919636846, 0.0009503457695245743, 0.0004455187590792775, 0.9648895859718323, 0.0, 0.0, 0.0, 0.0, 0.0, 0.0, 0.0, 0.0, 0.0, 0.0, 0.0, 0.0, 0.0], [0.0010859717149287462, 8.512330168741755e-06, 2.5307274427177617e-06, 3.0625135423179017e-06, 5.975109615974361e-06, 0.1329260915517807, 3.3453186915721744e-05, 0.00018891258514486253, 8.477752999169752e-06, 6.540425147250062e-06, 0.16445910930633545, 1.8129960153601132e-05, 3.0627472824562574e-06, 0.19719190895557404, 6.429832865251228e-06, 3.444734829827212e-06, 0.23317188024520874, 0.0022796262055635452, 3.713442310981918e-06, 3.5288045182824135e-05, 0.26855796575546265, 0.0, 0.0, 0.0, 0.0, 0.0, 0.0, 0.0, 0.0, 0.0, 0.0, 0.0, 0.0], [0.000419795309426263, 0.00011805004032794386, 0.000142405042424798, 3.7967849493725225e-05, 0.00019043202337343246, 0.0017651201924309134, 0.0005709819961339235, 0.0005008854204788804, 8.84073888300918e-05, 0.00014208679203875363, 0.0016639812383800745, 3.348105383338407e-05, 2.4413984647253528e-05, 0.001754653174430132, 6.520306487800553e-05, 2.41426496359054e-05, 0.0018299187067896128, 0.0015691027510911226, 3.974877472501248e-05, 0.00015712402819190174, 0.0018554432317614555, 0.987006664276123, 0.0, 0.0, 0.0, 0.0, 0.0, 0.0, 0.0, 0.0, 0.0, 0.0, 0.0], [7.50176259316504e-05, 0.0014379806816577911, 6.34513926343061e-05, 0.0001086482880054973, 0.00015633167640771717, 3.2101170290843584e-06, 0.002203267067670822, 0.00022076450113672763, 5.2402770961634815e-05, 4.881560380454175e-05, 2.264456952616456e-06, 1.5327219443861395e-05, 4.157128842052771e-06, 2.0228353605489247e-06, 6.2967787926027086e-06, 4.848646494792774e-05, 1.9928952497139107e-06, 3.2470015867147595e-05, 0.001269508502446115, 1.9632607290986925e-05, 1.8090916000801371e-06, 0.0005810285219922662, 0.9936450719833374, 0.0, 0.0, 0.0, 0.0, 0.0, 0.0, 0.0, 0.0, 0.0, 0.0], [7.45016586733982e-05, 0.0006139403558336198, 0.0009361227275803685, 0.0008487823652103543, 0.002850642427802086, 1.0365090929553844e-05, 0.00021614338038489223, 0.00017397596093360335, 0.0020508402958512306, 0.005805319640785456, 8.055260877881665e-06, 8.086614980129525e-05, 0.0007702469010837376, 7.288205324584851e-06, 0.0010576179483905435, 0.002275601727887988, 6.663280601060251e-06, 0.00011621084559010342, 0.0005972470389679074, 8.73631433933042e-05, 6.332344128168188e-06, 6.0964823205722496e-05, 6.090577517170459e-05, 0.9812840819358826, 0.0, 0.0, 0.0, 0.0, 0.0, 0.0, 0.0, 0.0, 0.0], [0.0005848751752637327, 0.00015909201465547085, 1.0836502951860894e-05, 7.36547663109377e-05, 0.0001134956837631762, 0.0008256644359789789, 0.000319110753480345, 0.01852998696267605, 1.0226580343442038e-05, 4.958722638548352e-05, 0.0007716418476775289, 4.454815643839538e-05, 9.865044376056176e-06, 0.0008067175513133407, 2.2673888452118263e-05, 1.2464140127121937e-05, 0.0008449116721749306, 0.008790121413767338, 3.579251642804593e-05, 3.662859307951294e-05, 0.0008917511440813541, 0.0010791774839162827, 0.00037084665382280946, 0.00010837117588380352, 0.9654980301856995, 0.0, 0.0, 0.0, 0.0, 0.0, 0.0, 0.0, 0.0], [1.6459925973322242e-05, 0.0001715245598461479, 3.208317866665311e-05, 0.00010234182263957337, 0.002631882205605507, 9.886203770292923e-06, 3.250854933867231e-05, 3.7417539715534076e-05, 0.00012631528079509735, 4.9912203394342214e-05, 8.302564310724847e-06, 8.443406113656238e-05, 3.127956733806059e-05, 7.633356290170923e-06, 1.0101362931891344e-05, 5.667369987349957e-05, 7.442115020239726e-06, 2.7689708076650277e-05, 1.8418410036247224e-05, 2.8794318041036604e-06, 6.840434252808336e-06, 4.279883341951063e-06, 0.00043176571489311755, 0.00017617519188206643, 8.995591633720323e-05, 0.9958257675170898, 0.0, 0.0, 0.0, 0.0, 0.0, 0.0, 0.0], [2.6368070393800735e-05, 0.00018008706683758646, 0.0001808294910006225, 0.0003046471974812448, 0.00039390864549204707, 4.674835145124234e-05, 2.7231690182816237e-05, 4.873499710811302e-05, 0.00029131583869457245, 0.00042061565909534693, 3.804639709414914e-05, 0.0002524511073715985, 5.606743070529774e-05, 3.8203645090106875e-05, 0.0015365055296570063, 0.0012537172297015786, 3.5934212064603344e-05, 2.3036636775941588e-05, 0.00018036275287158787, 0.00012266088742762804, 3.51777343894355e-05, 6.924677290953696e-05, 0.00011267293302807957, 0.000850735988933593, 0.00014361874491441995, 0.0002352793380850926, 0.9930956959724426, 0.0, 0.0, 0.0, 0.0, 0.0, 0.0], [0.0007048245170153677, 5.675366992363706e-05, 3.3512797017465346e-06, 7.472629022231558e-06, 1.785946005838923e-05, 0.0008156505064107478, 4.9529389798408374e-05, 0.0013530951691791415, 3.741752516361885e-05, 0.00014377992192748934, 0.0007639310788363218, 9.99164785753237e-06, 2.884430159610929e-06, 0.0007552211172878742, 0.00010159582598134875, 3.120532255707076e-06, 0.000806094438303262, 0.0011406750418245792, 1.4343117982207332e-05, 9.910148037306499e-06, 0.0008649170049466193, 8.663232438266277e-05, 3.4695473004831e-05, 0.00010265782475471497, 0.007663459982722998, 4.18788731622044e-05, 3.490853259791038e-06, 0.9844048619270325, 0.0, 0.0, 0.0, 0.0, 0.0], [2.0288271116442047e-05, 2.954266165033914e-05, 5.037496885051951e-05, 0.0009778336388990283, 0.3728255331516266, 6.661304723820649e-06, 1.573363806528505e-05, 3.981238842243329e-05, 0.00022353182430379093, 0.00012674331082962453, 5.118433819006896e-06, 0.00024116170243360102, 1.2973822776984889e-05, 4.800680926564382e-06, 2.3321610569837503e-05, 7.723532326053828e-05, 4.593423454934964e-06, 1.964710099855438e-05, 0.00021129978995304555, 1.1453497791080736e-05, 4.380480277177412e-06, 1.4442680367210414e-05, 3.6767385608982295e-05, 0.00011845329572679475, 3.797714816755615e-05, 0.0007802767213433981, 0.00040483620250597596, 1.0429542271594983e-05, 0.6236647963523865, 0.0, 0.0, 0.0, 0.0], [2.0582927390933037e-05, 8.831234299577773e-05, 0.00020454901095945388, 0.00030188984237611294, 8.223902841564268e-05, 1.970443372556474e-05, 0.00014085085422266275, 2.8963144359295256e-05, 7.669377737329341e-06, 3.7246205465635285e-05, 1.673680162639357e-05, 6.404703162843361e-05, 0.0006910584052093327, 1.6027584933908656e-05, 0.00015603695646859705, 0.00014825927792117, 1.5700054063927382e-05, 9.155408042715862e-05, 8.52509037940763e-05, 4.904517481918447e-06, 1.5784382412675768e-05, 5.293117283144966e-05, 0.0005298356991261244, 0.0005658402224071324, 6.167335959617049e-05, 6.729504093527794e-05, 0.00030774547485634685, 1.0369168194301892e-05, 6.799335824325681e-05, 0.9960988759994507, 0.0, 0.0, 0.0], [1.337132925982587e-05, 0.000982154393568635, 0.00041548183071427047, 0.00011442336108302698, 0.00038730711094103754, 5.660859187628375e-06, 0.001274624839425087, 0.0005708050448447466, 0.0006383611471392214, 0.0005776657490059733, 4.127737156522926e-06, 9.16174212761689e-06, 9.142858471022919e-05, 3.774860033445293e-06, 1.3575293451140169e-05, 0.00029161793645471334, 3.4474853691790486e-06, 7.899192132754251e-05, 0.0031891281250864267, 4.885078851657454e-06, 3.165277348671225e-06, 1.4087426279729698e-05, 0.0001567138242535293, 0.00035448954440653324, 0.00017265421047341079, 0.0013050633715465665, 0.00021867665054742247, 2.6776666345540434e-05, 0.0002646020438987762, 1.333457839791663e-05, 0.9888004064559937, 0.0, 0.0], [2.745511483226437e-05, 0.00016438293096143752, 7.996438216650859e-05, 0.0011915010400116444, 0.0007883633952587843, 2.6584243641991634e-06, 3.0057679396122694e-05, 7.457990250259172e-06, 0.00014941008703317493, 2.8857297365902923e-05, 1.8738329572443035e-06, 0.00033288131817243993, 5.16087056894321e-05, 1.7577516473465948e-06, 0.00012656602484639734, 0.00014267039659898728, 1.6954487591647194e-06, 2.195265915361233e-05, 0.00023040871019475162, 4.4293516111792997e-05, 1.6103338111861376e-06, 2.7008050892618485e-05, 0.0002388488792348653, 0.00019046053057536483, 9.49615514400648e-06, 0.00044664443703368306, 0.00022095811436884105, 5.379191406973405e-06, 0.0006956413271836936, 0.000154707973706536, 0.0002548546181060374, 0.9943286776542664, 0.0], [0.006231034640222788, 9.722788672661409e-05, 6.871576715639094e-06, 2.11510960070882e-05, 5.828042412758805e-05, 0.007238902151584625, 2.098785807902459e-05, 0.00025459047174081206, 6.243865209398791e-05, 2.09246627491666e-05, 0.007872143760323524, 5.58530846319627e-05, 9.868757842923515e-06, 0.009169402532279491, 7.202995766419917e-05, 7.068674221955007e-06, 0.010345986112952232, 0.0013096518814563751, 3.803684376180172e-05, 8.022697147680447e-05, 0.012053255923092365, 4.071991133969277e-05, 3.6860822092421586e-06, 3.47133245668374e-05, 0.0005061823176220059, 8.918932871893048e-05, 2.9112006814102642e-05, 0.0012772815534844995, 8.489655738230795e-05, 0.00018447372713126242, 0.0001342569012194872, 6.813034997321665e-05, 0.9425214529037476]], [[1.0, 0.0, 0.0, 0.0, 0.0, 0.0, 0.0, 0.0, 0.0, 0.0, 0.0, 0.0, 0.0, 0.0, 0.0, 0.0, 0.0, 0.0, 0.0, 0.0, 0.0, 0.0, 0.0, 0.0, 0.0, 0.0, 0.0, 0.0, 0.0, 0.0, 0.0, 0.0, 0.0], [0.943029522895813, 0.05697048082947731, 0.0, 0.0, 0.0, 0.0, 0.0, 0.0, 0.0, 0.0, 0.0, 0.0, 0.0, 0.0, 0.0, 0.0, 0.0, 0.0, 0.0, 0.0, 0.0, 0.0, 0.0, 0.0, 0.0, 0.0, 0.0, 0.0, 0.0, 0.0, 0.0, 0.0, 0.0], [0.9185556173324585, 0.03280002623796463, 0.04864431917667389, 0.0, 0.0, 0.0, 0.0, 0.0, 0.0, 0.0, 0.0, 0.0, 0.0, 0.0, 0.0, 0.0, 0.0, 0.0, 0.0, 0.0, 0.0, 0.0, 0.0, 0.0, 0.0, 0.0, 0.0, 0.0, 0.0, 0.0, 0.0, 0.0, 0.0], [0.8779289126396179, 0.05643428862094879, 0.042711902409791946, 0.0229250006377697, 0.0, 0.0, 0.0, 0.0, 0.0, 0.0, 0.0, 0.0, 0.0, 0.0, 0.0, 0.0, 0.0, 0.0, 0.0, 0.0, 0.0, 0.0, 0.0, 0.0, 0.0, 0.0, 0.0, 0.0, 0.0, 0.0, 0.0, 0.0, 0.0], [0.8041319251060486, 0.02909817360341549, 0.07556715607643127, 0.05643587186932564, 0.03476676717400551, 0.0, 0.0, 0.0, 0.0, 0.0, 0.0, 0.0, 0.0, 0.0, 0.0, 0.0, 0.0, 0.0, 0.0, 0.0, 0.0, 0.0, 0.0, 0.0, 0.0, 0.0, 0.0, 0.0, 0.0, 0.0, 0.0, 0.0, 0.0], [0.494310587644577, 0.020183570683002472, 0.027966555207967758, 0.018319064751267433, 0.03144202381372452, 0.40777823328971863, 0.0, 0.0, 0.0, 0.0, 0.0, 0.0, 0.0, 0.0, 0.0, 0.0, 0.0, 0.0, 0.0, 0.0, 0.0, 0.0, 0.0, 0.0, 0.0, 0.0, 0.0, 0.0, 0.0, 0.0, 0.0, 0.0, 0.0], [0.605747640132904, 0.029242433607578278, 0.09491510689258575, 0.07609356194734573, 0.06614668667316437, 0.08705795556306839, 0.040796615183353424, 0.0, 0.0, 0.0, 0.0, 0.0, 0.0, 0.0, 0.0, 0.0, 0.0, 0.0, 0.0, 0.0, 0.0, 0.0, 0.0, 0.0, 0.0, 0.0, 0.0, 0.0, 0.0, 0.0, 0.0, 0.0, 0.0], [0.44838210940361023, 0.04542430490255356, 0.07401479780673981, 0.06864844262599945, 0.09376637637615204, 0.08774272352457047, 0.06534262746572495, 0.1166786327958107, 0.0, 0.0, 0.0, 0.0, 0.0, 0.0, 0.0, 0.0, 0.0, 0.0, 0.0, 0.0, 0.0, 0.0, 0.0, 0.0, 0.0, 0.0, 0.0, 0.0, 0.0, 0.0, 0.0, 0.0, 0.0], [0.49169281125068665, 0.13782072067260742, 0.039550162851810455, 0.061533182859420776, 0.04539969563484192, 0.040731463581323624, 0.06228693574666977, 0.058618638664484024, 0.06236642971634865, 0.0, 0.0, 0.0, 0.0, 0.0, 0.0, 0.0, 0.0, 0.0, 0.0, 0.0, 0.0, 0.0, 0.0, 0.0, 0.0, 0.0, 0.0, 0.0, 0.0, 0.0, 0.0, 0.0, 0.0], [0.540412425994873, 0.04442664235830307, 0.03957850858569145, 0.0418880470097065, 0.07529864460229874, 0.04669506102800369, 0.048475172370672226, 0.05500519648194313, 0.08293065428733826, 0.025289518758654594, 0.0, 0.0, 0.0, 0.0, 0.0, 0.0, 0.0, 0.0, 0.0, 0.0, 0.0, 0.0, 0.0, 0.0, 0.0, 0.0, 0.0, 0.0, 0.0, 0.0, 0.0, 0.0, 0.0], [0.2827354967594147, 0.014234181493520737, 0.017647739499807358, 0.011433071456849575, 0.021741706877946854, 0.2666540741920471, 0.01540348120033741, 0.0473492369055748, 0.017767535522580147, 0.013926024548709393, 0.2911073565483093, 0.0, 0.0, 0.0, 0.0, 0.0, 0.0, 0.0, 0.0, 0.0, 0.0, 0.0, 0.0, 0.0, 0.0, 0.0, 0.0, 0.0, 0.0, 0.0, 0.0, 0.0, 0.0], [0.3449663519859314, 0.04611680284142494, 0.05771544203162193, 0.11131855100393295, 0.11289355903863907, 0.02793033793568611, 0.038591884076595306, 0.05656528100371361, 0.05864062160253525, 0.06648587435483932, 0.02611437998712063, 0.05266088247299194, 0.0, 0.0, 0.0, 0.0, 0.0, 0.0, 0.0, 0.0, 0.0, 0.0, 0.0, 0.0, 0.0, 0.0, 0.0, 0.0, 0.0, 0.0, 0.0, 0.0, 0.0], [0.46992191672325134, 0.03201567754149437, 0.1077289879322052, 0.027006765827536583, 0.044658832252025604, 0.022773543372750282, 0.0231170617043972, 0.02549149841070175, 0.04950272664427757, 0.026573950424790382, 0.019708851352334023, 0.06337960809469223, 0.08812073618173599, 0.0, 0.0, 0.0, 0.0, 0.0, 0.0, 0.0, 0.0, 0.0, 0.0, 0.0, 0.0, 0.0, 0.0, 0.0, 0.0, 0.0, 0.0, 0.0, 0.0], [0.2066178023815155, 0.010379297658801079, 0.012261943891644478, 0.008319097571074963, 0.016007089987397194, 0.19527755677700043, 0.011453254148364067, 0.03475670516490936, 0.013073603622615337, 0.010938966646790504, 0.21602480113506317, 0.005866483319550753, 0.023642271757125854, 0.23538115620613098, 0.0, 0.0, 0.0, 0.0, 0.0, 0.0, 0.0, 0.0, 0.0, 0.0, 0.0, 0.0, 0.0, 0.0, 0.0, 0.0, 0.0, 0.0, 0.0], [0.3399350345134735, 0.029161624610424042, 0.09540703147649765, 0.033951885998249054, 0.0844045951962471, 0.012559530325233936, 0.02935865893959999, 0.024564143270254135, 0.10622435063123703, 0.046892199665308, 0.011469588615000248, 0.006369197275489569, 0.11145269870758057, 0.011317999102175236, 0.056931495666503906, 0.0, 0.0, 0.0, 0.0, 0.0, 0.0, 0.0, 0.0, 0.0, 0.0, 0.0, 0.0, 0.0, 0.0, 0.0, 0.0, 0.0, 0.0], [0.40408825874328613, 0.024195656180381775, 0.03890998661518097, 0.014727429486811161, 0.024456597864627838, 0.03844998776912689, 0.039230331778526306, 0.03717133030295372, 0.06030002236366272, 0.04198552295565605, 0.037167128175497055, 0.016391221433877945, 0.03928961232304573, 0.03772980719804764, 0.13448573648929596, 0.011421292088925838, 0.0, 0.0, 0.0, 0.0, 0.0, 0.0, 0.0, 0.0, 0.0, 0.0, 0.0, 0.0, 0.0, 0.0, 0.0, 0.0, 0.0], [0.15876443684101105, 0.008203914389014244, 0.009295267052948475, 0.006221719551831484, 0.01179320365190506, 0.1506980061531067, 0.008851936087012291, 0.026313524693250656, 0.010186920873820782, 0.008433716371655464, 0.16762229800224304, 0.004420021548867226, 0.01821175403892994, 0.183508038520813, 0.02092728577554226, 0.0064477697014808655, 0.20010018348693848, 0.0, 0.0, 0.0, 0.0, 0.0, 0.0, 0.0, 0.0, 0.0, 0.0, 0.0, 0.0, 0.0, 0.0, 0.0, 0.0], [0.17539171874523163, 0.020569631829857826, 0.018291428685188293, 0.009298007935285568, 0.017377909272909164, 0.042534831911325455, 0.020701583474874496, 0.05044395104050636, 0.025438066571950912, 0.017218222841620445, 0.043115388602018356, 0.013349810615181923, 0.02852858416736126, 0.04597262293100357, 0.034088220447301865, 0.01983417011797428, 0.0499284528195858, 0.36791735887527466, 0.0, 0.0, 0.0, 0.0, 0.0, 0.0, 0.0, 0.0, 0.0, 0.0, 0.0, 0.0, 0.0, 0.0, 0.0], [0.26033341884613037, 0.01714838668704033, 0.037452731281518936, 0.07594799995422363, 0.046747028827667236, 0.018068527802824974, 0.031346458941698074, 0.03741512447595596, 0.07175812125205994, 0.05872543156147003, 0.017078708857297897, 0.04030592367053032, 0.057063546031713486, 0.017113594338297844, 0.1049133911728859, 0.04670534282922745, 0.017230207100510597, 0.024682149291038513, 0.01996396854519844, 0.0, 0.0, 0.0, 0.0, 0.0, 0.0, 0.0, 0.0, 0.0, 0.0, 0.0, 0.0, 0.0, 0.0], [0.30547064542770386, 0.05190499871969223, 0.04346898943185806, 0.021846845746040344, 0.02101721614599228, 0.0339047871530056, 0.04190466180443764, 0.03909289464354515, 0.02887197956442833, 0.02300342172384262, 0.0320579893887043, 0.023334497585892677, 0.07110592722892761, 0.032900888472795486, 0.06164192408323288, 0.03183259069919586, 0.03376762196421623, 0.0457148551940918, 0.03501523658633232, 0.022141877561807632, 0.0, 0.0, 0.0, 0.0, 0.0, 0.0, 0.0, 0.0, 0.0, 0.0, 0.0, 0.0, 0.0], [0.1224294975399971, 0.0061053005047142506, 0.006670301780104637, 0.004581780172884464, 0.009337794035673141, 0.11381807923316956, 0.0067833405919373035, 0.019719917327165604, 0.007580873090773821, 0.006613645236939192, 0.12765927612781525, 0.0035026525147259235, 0.01400230173021555, 0.14000989496707916, 0.01568487472832203, 0.00509260781109333, 0.15336230397224426, 0.03527413308620453, 0.022465622052550316, 0.006954465992748737, 0.1723514050245285, 0.0, 0.0, 0.0, 0.0, 0.0, 0.0, 0.0, 0.0, 0.0, 0.0, 0.0, 0.0], [0.2053849697113037, 0.034778546541929245, 0.01468291599303484, 0.03118331916630268, 0.03093128837645054, 0.02195277251303196, 0.0329086109995842, 0.05740528553724289, 0.05587516352534294, 0.04864281415939331, 0.023520760238170624, 0.015108547173440456, 0.027386285364627838, 0.024518469348549843, 0.06060454621911049, 0.03477615490555763, 0.0261378176510334, 0.05168429762125015, 0.06281407177448273, 0.020291458815336227, 0.028601711615920067, 0.09081023931503296, 0.0, 0.0, 0.0, 0.0, 0.0, 0.0, 0.0, 0.0, 0.0, 0.0, 0.0], [0.23978585004806519, 0.03132350370287895, 0.0503774918615818, 0.015869414433836937, 0.039014626294374466, 0.02280551940202713, 0.04285355284810066, 0.02888229303061962, 0.04046269506216049, 0.034107279032468796, 0.02264452911913395, 0.03923067823052406, 0.07238569855690002, 0.02234555408358574, 0.04958110302686691, 0.03193335607647896, 0.023325596004724503, 0.045213598757982254, 0.030554361641407013, 0.022876493632793427, 0.024732310324907303, 0.05549484118819237, 0.014199567027390003, 0.0, 0.0, 0.0, 0.0, 0.0, 0.0, 0.0, 0.0, 0.0, 0.0], [0.23581692576408386, 0.020558301359415054, 0.043750036507844925, 0.02970486506819725, 0.03703876957297325, 0.014953458681702614, 0.040043096989393234, 0.0271843783557415, 0.0457618422806263, 0.03809260576963425, 0.014181875623762608, 0.037891507148742676, 0.06518238037824631, 0.014182938262820244, 0.054894935339689255, 0.023720955476164818, 0.014592793770134449, 0.02557002753019333, 0.07356187701225281, 0.03918234631419182, 0.014925526455044746, 0.04628869146108627, 0.0278010256588459, 0.015118889510631561, 0.0, 0.0, 0.0, 0.0, 0.0, 0.0, 0.0, 0.0, 0.0], [0.14254967868328094, 0.012010163627564907, 0.016881277784705162, 0.020742561668157578, 0.0324518196284771, 0.029626041650772095, 0.030295193195343018, 0.05620867386460304, 0.02960875630378723, 0.02948184870183468, 0.032639872282743454, 0.01003821287304163, 0.04078613966703415, 0.03462786227464676, 0.03391634300351143, 0.020155733451247215, 0.03684317693114281, 0.06064685061573982, 0.04744713008403778, 0.03252528980374336, 0.040400318801403046, 0.05947757884860039, 0.03129399195313454, 0.04792552441358566, 0.07141990959644318, 0.0, 0.0, 0.0, 0.0, 0.0, 0.0, 0.0, 0.0], [0.2222907394170761, 0.059111338108778, 0.037026725709438324, 0.04059011489152908, 0.027254538610577583, 0.019174788147211075, 0.031715378165245056, 0.020462144166231155, 0.0381133034825325, 0.019927894696593285, 0.018538909032940865, 0.015436717309057713, 0.04536495357751846, 0.01935577765107155, 0.05035826191306114, 0.033281367272138596, 0.0201797503978014, 0.03679431229829788, 0.04331391304731369, 0.028476383537054062, 0.021317310631275177, 0.04771288484334946, 0.01310702320188284, 0.026336051523685455, 0.030211370438337326, 0.03454797714948654, 0.0, 0.0, 0.0, 0.0, 0.0, 0.0, 0.0], [0.2843813896179199, 0.02387011982500553, 0.04641881585121155, 0.010260092094540596, 0.0339098796248436, 0.018301477655768394, 0.02370886318385601, 0.024766838178038597, 0.0257677361369133, 0.022968830540776253, 0.016735469922423363, 0.013406927697360516, 0.045986562967300415, 0.016673244535923004, 0.08106394112110138, 0.050332553684711456, 0.016726160421967506, 0.019904818385839462, 0.030325356870889664, 0.010146312415599823, 0.01731824316084385, 0.019040971994400024, 0.011081110686063766, 0.05204644799232483, 0.03335355967283249, 0.03880883753299713, 0.01269553042948246, 0.0, 0.0, 0.0, 0.0, 0.0, 0.0], [0.11854355782270432, 0.01335094403475523, 0.013422032818198204, 0.03027321584522724, 0.026162955909967422, 0.02077621966600418, 0.02128017507493496, 0.03798936679959297, 0.03536442667245865, 0.03665179759263992, 0.022004012018442154, 0.01537999976426363, 0.030023088678717613, 0.0232996828854084, 0.03000755049288273, 0.014861363917589188, 0.02452194318175316, 0.03999796509742737, 0.03900158405303955, 0.03600766882300377, 0.026851193979382515, 0.06795870512723923, 0.03893130272626877, 0.05725806951522827, 0.06659841537475586, 0.030756819993257523, 0.023343248292803764, 0.059382710605859756, 0.0, 0.0, 0.0, 0.0, 0.0], [0.25091850757598877, 0.011351880617439747, 0.023033956065773964, 0.01884976029396057, 0.013208836317062378, 0.016430390998721123, 0.03763698413968086, 0.02151941880583763, 0.0382314994931221, 0.031223114579916, 0.0160810723900795, 0.017179017886519432, 0.0823965072631836, 0.015775412321090698, 0.049693118780851364, 0.033978987485170364, 0.01646914705634117, 0.025656111538410187, 0.053269315510988235, 0.02438097633421421, 0.017032908275723457, 0.03106258437037468, 0.014834238216280937, 0.04310780391097069, 0.02781839482486248, 0.015127935446798801, 0.012749852612614632, 0.026852691546082497, 0.01412959024310112, 0.0, 0.0, 0.0, 0.0], [0.19256964325904846, 0.022833680734038353, 0.014495907351374626, 0.028055008500814438, 0.032904308289289474, 0.01857711933553219, 0.023776687681674957, 0.014988916926085949, 0.027755485847592354, 0.01995214819908142, 0.01842687465250492, 0.026808476075530052, 0.04026196151971817, 0.01895732805132866, 0.01998024433851242, 0.03905026242136955, 0.019494328647851944, 0.03071429952979088, 0.07932314276695251, 0.03619762137532234, 0.020379550755023956, 0.023319311439990997, 0.01872383989393711, 0.05692767724394798, 0.02392757497727871, 0.039243221282958984, 0.021783530712127686, 0.02037421613931656, 0.041788309812545776, 0.008409249596297741, 0.0, 0.0, 0.0], [0.18919377028942108, 0.014352060854434967, 0.027829354628920555, 0.01893603801727295, 0.054552409797906876, 0.024302391335368156, 0.020752541720867157, 0.030501779168844223, 0.01690043695271015, 0.029904043301939964, 0.023111777380108833, 0.021664870902895927, 0.03335980325937271, 0.023050518706440926, 0.027927035465836525, 0.026253502815961838, 0.024257956072688103, 0.024394966661930084, 0.017666691914200783, 0.02208106964826584, 0.025441503152251244, 0.023996742442250252, 0.01594139076769352, 0.021863454952836037, 0.04876280203461647, 0.010234057903289795, 0.02576299011707306, 0.061923302710056305, 0.06737110018730164, 0.0181841142475605, 0.00952551607042551, 0.0, 0.0], [0.27111950516700745, 0.054605722427368164, 0.03970598056912422, 0.03512891009449959, 0.02031378075480461, 0.008183869533240795, 0.022556615993380547, 0.014036435633897781, 0.0261984933167696, 0.032355379313230515, 0.007185023743659258, 0.010813490487635136, 0.051626112312078476, 0.007057542912662029, 0.04232777655124664, 0.018505986779928207, 0.006952997762709856, 0.012550849467515945, 0.03785518556833267, 0.014787389896810055, 0.007130760233849287, 0.018956739455461502, 0.01075897179543972, 0.023540526628494263, 0.016256213188171387, 0.007915404625236988, 0.03652314096689224, 0.01456228457391262, 0.019251447170972824, 0.01091181579977274, 0.03439668193459511, 0.06592898815870285, 0.0], [0.14836551249027252, 0.01450690533965826, 0.007646300829946995, 0.011038750410079956, 0.026302499696612358, 0.013194813393056393, 0.02718484029173851, 0.01739218831062317, 0.01612214930355549, 0.03288077563047409, 0.014050252735614777, 0.007167340721935034, 0.01612003706395626, 0.01464701909571886, 0.018450884148478508, 0.013102129101753235, 0.01528324093669653, 0.014542961493134499, 0.05961215868592262, 0.02238387055695057, 0.01679695025086403, 0.10928253084421158, 0.07263994216918945, 0.08393707871437073, 0.025249045342206955, 0.03774847835302353, 0.01622694917023182, 0.02495386078953743, 0.04216587543487549, 0.004525809548795223, 0.0144913699477911, 0.019145755097270012, 0.02284165844321251]], [[1.0, 0.0, 0.0, 0.0, 0.0, 0.0, 0.0, 0.0, 0.0, 0.0, 0.0, 0.0, 0.0, 0.0, 0.0, 0.0, 0.0, 0.0, 0.0, 0.0, 0.0, 0.0, 0.0, 0.0, 0.0, 0.0, 0.0, 0.0, 0.0, 0.0, 0.0, 0.0, 0.0], [0.09646990895271301, 0.9035300612449646, 0.0, 0.0, 0.0, 0.0, 0.0, 0.0, 0.0, 0.0, 0.0, 0.0, 0.0, 0.0, 0.0, 0.0, 0.0, 0.0, 0.0, 0.0, 0.0, 0.0, 0.0, 0.0, 0.0, 0.0, 0.0, 0.0, 0.0, 0.0, 0.0, 0.0, 0.0], [0.04325247183442116, 0.08177762478590012, 0.8749699592590332, 0.0, 0.0, 0.0, 0.0, 0.0, 0.0, 0.0, 0.0, 0.0, 0.0, 0.0, 0.0, 0.0, 0.0, 0.0, 0.0, 0.0, 0.0, 0.0, 0.0, 0.0, 0.0, 0.0, 0.0, 0.0, 0.0, 0.0, 0.0, 0.0, 0.0], [0.0999540165066719, 0.025312788784503937, 0.020108092576265335, 0.8546251058578491, 0.0, 0.0, 0.0, 0.0, 0.0, 0.0, 0.0, 0.0, 0.0, 0.0, 0.0, 0.0, 0.0, 0.0, 0.0, 0.0, 0.0, 0.0, 0.0, 0.0, 0.0, 0.0, 0.0, 0.0, 0.0, 0.0, 0.0, 0.0, 0.0], [0.024889405816793442, 0.003207359230145812, 0.001842159079387784, 0.022361544892191887, 0.9476995468139648, 0.0, 0.0, 0.0, 0.0, 0.0, 0.0, 0.0, 0.0, 0.0, 0.0, 0.0, 0.0, 0.0, 0.0, 0.0, 0.0, 0.0, 0.0, 0.0, 0.0, 0.0, 0.0, 0.0, 0.0, 0.0, 0.0, 0.0, 0.0], [0.10732351243495941, 0.01784161850810051, 0.019553350284695625, 0.04333316534757614, 0.10211478918790817, 0.709833562374115, 0.0, 0.0, 0.0, 0.0, 0.0, 0.0, 0.0, 0.0, 0.0, 0.0, 0.0, 0.0, 0.0, 0.0, 0.0, 0.0, 0.0, 0.0, 0.0, 0.0, 0.0, 0.0, 0.0, 0.0, 0.0, 0.0, 0.0], [0.006426368374377489, 0.00044797820737585425, 0.00014756631571799517, 0.0004693672526627779, 0.0014411915326490998, 0.0038597132079303265, 0.98720782995224, 0.0, 0.0, 0.0, 0.0, 0.0, 0.0, 0.0, 0.0, 0.0, 0.0, 0.0, 0.0, 0.0, 0.0, 0.0, 0.0, 0.0, 0.0, 0.0, 0.0, 0.0, 0.0, 0.0, 0.0, 0.0, 0.0], [0.001035461318679154, 0.0001990183664020151, 0.0001602044067112729, 6.937277794349939e-05, 0.00038674211828038096, 0.005171611905097961, 0.8964056372642517, 0.09657198190689087, 0.0, 0.0, 0.0, 0.0, 0.0, 0.0, 0.0, 0.0, 0.0, 0.0, 0.0, 0.0, 0.0, 0.0, 0.0, 0.0, 0.0, 0.0, 0.0, 0.0, 0.0, 0.0, 0.0, 0.0, 0.0], [0.0012883308809250593, 0.00032334469142369926, 0.0002652713446877897, 0.00025490662665106356, 0.00020129822951275855, 0.00010048995318356901, 0.0005700864130631089, 0.0004091295413672924, 0.9965870380401611, 0.0, 0.0, 0.0, 0.0, 0.0, 0.0, 0.0, 0.0, 0.0, 0.0, 0.0, 0.0, 0.0, 0.0, 0.0, 0.0, 0.0, 0.0, 0.0, 0.0, 0.0, 0.0, 0.0, 0.0], [0.00018741603707894683, 1.6196498108911328e-05, 4.228111720294692e-06, 0.00028758824919350445, 1.1125725905003492e-05, 9.805654372030403e-06, 0.00015567190712317824, 7.632956840097904e-05, 0.0034869189839810133, 0.9957646131515503, 0.0, 0.0, 0.0, 0.0, 0.0, 0.0, 0.0, 0.0, 0.0, 0.0, 0.0, 0.0, 0.0, 0.0, 0.0, 0.0, 0.0, 0.0, 0.0, 0.0, 0.0, 0.0, 0.0], [0.015741508454084396, 0.0006393587100319564, 0.00045715179294347763, 0.0009912526002153754, 0.0021140349563211203, 0.018089786171913147, 0.047120388597249985, 0.07010923326015472, 0.061528369784355164, 0.2769041061401367, 0.5063048005104065, 0.0, 0.0, 0.0, 0.0, 0.0, 0.0, 0.0, 0.0, 0.0, 0.0, 0.0, 0.0, 0.0, 0.0, 0.0, 0.0, 0.0, 0.0, 0.0, 0.0, 0.0, 0.0], [0.0006166562670841813, 0.0005207048379816115, 4.611493204720318e-05, 0.0014612918021157384, 0.0005623727920465171, 4.447574247024022e-05, 0.0003653952735476196, 0.00028601576923392713, 0.00450610788539052, 0.00581649923697114, 0.0007244509761221707, 0.9850499033927917, 0.0, 0.0, 0.0, 0.0, 0.0, 0.0, 0.0, 0.0, 0.0, 0.0, 0.0, 0.0, 0.0, 0.0, 0.0, 0.0, 0.0, 0.0, 0.0, 0.0, 0.0], [0.001047857222147286, 3.062814721488394e-05, 0.00017344963271170855, 5.423129186965525e-05, 6.38843557680957e-05, 1.1261126928729936e-05, 1.7168991689686663e-05, 1.3931334251537919e-05, 0.0020760439801961184, 0.0002692688431125134, 0.00015268531569745392, 0.003684430383145809, 0.992405116558075, 0.0, 0.0, 0.0, 0.0, 0.0, 0.0, 0.0, 0.0, 0.0, 0.0, 0.0, 0.0, 0.0, 0.0, 0.0, 0.0, 0.0, 0.0, 0.0, 0.0], [0.0107462452724576, 0.0002535423554945737, 0.00015322894614655524, 0.00029286916833370924, 0.0005376777262426913, 0.004423538222908974, 0.009884306229650974, 0.012843022122979164, 0.01273861713707447, 0.05966848134994507, 0.10772965848445892, 0.0247456356883049, 0.07808688282966614, 0.67789626121521, 0.0, 0.0, 0.0, 0.0, 0.0, 0.0, 0.0, 0.0, 0.0, 0.0, 0.0, 0.0, 0.0, 0.0, 0.0, 0.0, 0.0, 0.0, 0.0], [0.0004121788660995662, 2.6218616767437197e-05, 1.7755839508026838e-05, 0.00019181848620064557, 3.297946477687219e-06, 3.912667580152629e-06, 1.0438059689477086e-05, 4.906826688966248e-06, 0.0005868540611118078, 0.0030381472315639257, 3.6930967326043174e-05, 0.0007724268361926079, 0.009622573852539062, 0.0001609433675184846, 0.9851115345954895, 0.0, 0.0, 0.0, 0.0, 0.0, 0.0, 0.0, 0.0, 0.0, 0.0, 0.0, 0.0, 0.0, 0.0, 0.0, 0.0, 0.0, 0.0], [0.00010886593372561038, 3.584545311241527e-06, 5.191658146941336e-06, 3.083843330387026e-05, 1.8408798496238887e-05, 7.954766374496103e-07, 3.353210786372074e-06, 6.57438431517221e-06, 0.0007270954083651304, 0.0018232500879094005, 7.853259376133792e-06, 0.00030627514934167266, 0.006975062657147646, 3.485077104414813e-05, 0.028292741626501083, 0.96165531873703, 0.0, 0.0, 0.0, 0.0, 0.0, 0.0, 0.0, 0.0, 0.0, 0.0, 0.0, 0.0, 0.0, 0.0, 0.0, 0.0, 0.0], [0.006073984317481518, 8.815178443910554e-05, 4.5837728976039216e-05, 8.250460814451799e-05, 0.00012720395170617849, 0.0009312504553236067, 0.0016699960688129067, 0.0019381900783628225, 0.0021016986574977636, 0.010131671093404293, 0.016047274693846703, 0.0038353758864104748, 0.012242147698998451, 0.10037066042423248, 0.07853122800588608, 0.10997360944747925, 0.655809223651886, 0.0, 0.0, 0.0, 0.0, 0.0, 0.0, 0.0, 0.0, 0.0, 0.0, 0.0, 0.0, 0.0, 0.0, 0.0, 0.0], [0.0021862953435629606, 1.1892871953023132e-05, 1.6735912140575238e-05, 2.0815350580960512e-05, 2.1162450138945132e-05, 0.0007714938255958259, 0.0008652096730656922, 0.0005560296704061329, 0.0001565588463563472, 0.0019499900517985225, 0.010891159996390343, 0.0003954305429942906, 0.0015144703211262822, 0.06916322559118271, 0.00430810172110796, 0.004035169258713722, 0.4939703941345215, 0.4091659188270569, 0.0, 0.0, 0.0, 0.0, 0.0, 0.0, 0.0, 0.0, 0.0, 0.0, 0.0, 0.0, 0.0, 0.0, 0.0], [1.9798060748144053e-05, 4.9724070549928e-07, 9.165693981572076e-09, 1.323044074297286e-07, 5.601853203529572e-08, 1.1903898311516059e-08, 6.153127856123319e-07, 4.068573034032852e-08, 4.517476099863416e-06, 1.401782992616063e-05, 1.6456914408990997e-07, 1.0863842589969863e-06, 7.444074981322046e-06, 1.0056672863356653e-06, 2.759504786808975e-05, 0.0003137815510854125, 6.20114269622718e-06, 8.21337744127959e-06, 0.9995947480201721, 0.0, 0.0, 0.0, 0.0, 0.0, 0.0, 0.0, 0.0, 0.0, 0.0, 0.0, 0.0, 0.0, 0.0], [6.497151389339706e-06, 8.692013580002822e-07, 1.4051410062165814e-06, 3.770476837416936e-07, 3.329151354591886e-07, 6.104951921770407e-08, 2.5429962136058748e-08, 1.1067783844964652e-07, 3.670857404358685e-05, 5.704799264094618e-07, 6.172336952658952e-07, 0.00015627924585714936, 0.00014737961464561522, 3.0103710741968825e-06, 6.130644032964483e-05, 0.0017769874539226294, 1.8545853890827857e-05, 3.4263044653926045e-05, 0.9233518242835999, 0.07440292090177536, 0.0, 0.0, 0.0, 0.0, 0.0, 0.0, 0.0, 0.0, 0.0, 0.0, 0.0, 0.0, 0.0], [0.0036490054335445166, 3.7494195566978306e-05, 1.7470742022851482e-05, 2.8449097953853197e-05, 3.3124186302302405e-05, 0.00019569223513826728, 0.0002647586807142943, 0.0002469040628056973, 0.00028033170383423567, 0.0013949215644970536, 0.0017910250462591648, 0.00042467875755392015, 0.0014623714378103614, 0.009717763401567936, 0.008053935132920742, 0.013200581073760986, 0.06315968930721283, 0.07152785360813141, 0.07523098587989807, 0.024205124005675316, 0.7250778675079346, 0.0, 0.0, 0.0, 0.0, 0.0, 0.0, 0.0, 0.0, 0.0, 0.0, 0.0, 0.0], [0.0006410861387848854, 3.9256788113561925e-06, 1.160727379101445e-06, 1.5375378552562324e-06, 9.072572311197291e-07, 8.05818217486376e-06, 1.3223831956565846e-05, 4.6198842937883455e-06, 3.6788223951589316e-05, 4.565158087643795e-05, 7.577765791211277e-05, 2.2741645807400346e-05, 5.668430821970105e-05, 0.0004737502313219011, 0.0003640751529019326, 0.0004240008711349219, 0.00375733501277864, 0.004363122396171093, 0.007395192980766296, 0.005022627301514149, 0.055756110697984695, 0.9215314984321594, 0.0, 0.0, 0.0, 0.0, 0.0, 0.0, 0.0, 0.0, 0.0, 0.0, 0.0], [0.0005377684719860554, 8.122535177790269e-07, 2.3018469619273674e-06, 1.4700354995511589e-06, 1.8703642581385793e-06, 6.024498588885763e-07, 4.12783674619277e-06, 1.6705745338185807e-06, 2.0471957213885617e-06, 7.430045661749318e-05, 3.5942291560786543e-06, 7.1715007834427524e-06, 3.0528142815455794e-05, 1.8927734345197678e-05, 0.00025438747252337635, 0.0001949639990925789, 0.00012626561510842294, 0.00018230568093713373, 0.0037352389190346003, 0.0006727114669047296, 0.0015798329841345549, 0.01117769442498684, 0.9813893437385559, 0.0, 0.0, 0.0, 0.0, 0.0, 0.0, 0.0, 0.0, 0.0, 0.0], [8.512815838912502e-05, 4.870865950579173e-07, 1.2459015579224797e-06, 2.0811216927540954e-07, 1.9242898474658432e-07, 3.7040525313614125e-08, 4.555265036287892e-07, 5.504577416104439e-08, 1.532037913420936e-06, 5.083309588371776e-06, 2.140098018799108e-07, 1.4595349284718395e-06, 1.4768415894650389e-05, 1.0635034186634584e-06, 2.946159293060191e-05, 5.7288438256364316e-05, 6.615724942093948e-06, 7.84422445576638e-06, 0.0001506389962742105, 0.0002263700298499316, 7.973648462211713e-05, 0.00013040946214459836, 0.010868414305150509, 0.9883312582969666, 0.0, 0.0, 0.0, 0.0, 0.0, 0.0, 0.0, 0.0, 0.0], [0.00041663215961307287, 2.250371380796423e-06, 5.270547262625769e-06, 2.7549116566660814e-05, 3.963049312005751e-05, 7.514763638027944e-06, 8.100915692921262e-06, 1.1581340004340746e-05, 1.3205937648308463e-05, 6.750728061888367e-05, 2.521273745514918e-05, 1.4860726878396235e-05, 7.521693623857573e-05, 0.0001145744972745888, 0.0002574521058704704, 0.00036668716347776353, 0.0006904740002937615, 0.0014518486568704247, 0.003246026812121272, 0.0006353438948281109, 0.008745579048991203, 0.015190936625003815, 0.01815013960003853, 0.13303254544734955, 0.81740403175354, 0.0, 0.0, 0.0, 0.0, 0.0, 0.0, 0.0, 0.0], [1.6739204511395656e-05, 8.245287119734712e-08, 3.257373748510872e-08, 2.873728632835082e-08, 1.6217649090322084e-07, 1.5275355425004022e-09, 2.327860038064955e-08, 5.576749728675168e-09, 1.2825753969991638e-07, 1.3429486500626808e-07, 6.160561394352726e-09, 2.5232574785150064e-07, 3.205756911484059e-06, 2.627712625269396e-08, 7.61994783715636e-07, 7.901951903477311e-06, 1.3940399412604165e-07, 1.9552557262159098e-07, 0.0003202252264600247, 8.173670380529074e-07, 1.5629990457455278e-06, 3.763166887438274e-06, 0.0007450489210896194, 0.003715214552357793, 3.9344242395600304e-05, 0.995144248008728, 0.0, 0.0, 0.0, 0.0, 0.0, 0.0, 0.0], [0.00023842266818974167, 5.040115865995176e-06, 1.3208604059400386e-06, 8.599836291978136e-06, 5.166068604012253e-06, 1.3470925352976337e-07, 6.710822617606027e-07, 2.699698029573483e-07, 6.345725523715373e-06, 4.417831587488763e-05, 2.744501443885383e-07, 2.017125007114373e-05, 1.652667560847476e-05, 8.122760277728958e-07, 0.0001077098204405047, 0.0001239744306076318, 3.507598876240081e-06, 8.505824553139973e-06, 6.98026196914725e-05, 0.00026813664590008557, 2.8792896046070382e-05, 0.00011957906826864928, 0.00012961591710336506, 0.007425906136631966, 0.0007109722937457263, 0.005815016105771065, 0.9848405718803406, 0.0, 0.0, 0.0, 0.0, 0.0, 0.0], [0.00040899639134295285, 6.095388016547076e-07, 1.9963947579526575e-06, 9.310347195423674e-06, 3.7690674616897013e-06, 1.9876558781106723e-06, 4.576546359658096e-07, 1.069070208359335e-06, 3.087182449235115e-06, 9.211449651047587e-06, 4.724378413811792e-06, 1.207004288517055e-06, 5.095630058349343e-06, 1.8047185221803375e-05, 4.857846215600148e-05, 4.1693783714435995e-05, 0.00010537532943999395, 0.0002246695221401751, 0.00011528634786373004, 0.00024929034407250583, 0.0013673128560185432, 0.0016190273454412818, 0.0013275117380544543, 0.0034917721059173346, 0.06305670738220215, 0.006469063460826874, 0.09512648731470108, 0.8262876868247986, 0.0, 0.0, 0.0, 0.0, 0.0], [0.0003180466592311859, 1.4181814549374394e-06, 3.185494676927192e-07, 2.782315959848347e-06, 5.388593490351923e-05, 4.300610711993613e-08, 5.386276029639703e-07, 8.497857351130733e-08, 5.999703489578678e-07, 4.110341706109466e-06, 7.099426113654772e-08, 8.45433248741756e-07, 2.5266151624236954e-06, 2.1983885289955651e-07, 6.098246103647398e-06, 2.1130008462932892e-05, 9.411802466274821e-07, 9.950424555427162e-07, 3.041357376787346e-05, 2.976995119752246e-06, 8.453893315163441e-06, 2.6007064661826007e-05, 0.00023055763449519873, 0.0013383363839238882, 0.0002175836416427046, 0.007014408241957426, 0.01792408525943756, 0.000530267134308815, 0.9722622632980347, 0.0, 0.0, 0.0, 0.0], [1.8505294008264173e-07, 5.565691907349901e-09, 7.262683232589495e-10, 7.745982522067152e-09, 1.507950919688028e-08, 8.22853618576147e-10, 1.7915311456562222e-09, 1.7345611613706069e-09, 1.0962554419791104e-08, 5.0032742393568697e-08, 3.922815849932704e-09, 1.0013942386422059e-07, 2.3337790366895206e-08, 1.6555222970282557e-08, 5.171319372720973e-08, 1.6146070436207083e-07, 9.827862612610261e-08, 2.7074491981693427e-07, 5.411997335613705e-06, 2.508395482436754e-07, 1.1805932444985956e-06, 2.8004253636026988e-06, 4.610353698808467e-06, 0.00022679251560475677, 5.794263779534958e-05, 0.0004519558569882065, 0.00011976500536547974, 0.00023980828700587153, 0.0018740027444437146, 0.9970144033432007, 0.0, 0.0, 0.0], [4.347461799625307e-05, 2.9688717404496856e-06, 3.9193648149193905e-07, 9.117055128626816e-07, 4.3645098912747926e-07, 4.686590227009901e-09, 9.240359588602587e-08, 1.2419347328318509e-08, 7.188949524561394e-08, 6.304560997705266e-07, 6.1089115988011145e-09, 1.9987196253623551e-07, 1.4578700984202442e-06, 1.4727286945515061e-08, 1.7957307818505797e-07, 2.642275831021834e-05, 5.112656253913883e-08, 4.710709333721752e-08, 0.001576123060658574, 2.198949232479208e-06, 3.333985034714715e-07, 2.1814830688526854e-06, 0.0001624042197363451, 0.0017777677858248353, 1.1749340956157539e-05, 0.00361610040999949, 6.199476774781942e-05, 3.5168359318049625e-05, 0.0011488726595416665, 0.016085617244243622, 0.975442111492157, 0.0, 0.0], [0.0011562941363081336, 6.199043127708137e-06, 6.137761374702677e-07, 3.1026579563331325e-06, 8.228410024457844e-07, 4.366003381051087e-08, 9.363239428239467e-08, 2.7735497454273172e-08, 5.109506560074806e-07, 1.2355310445855139e-06, 3.825276095881236e-08, 1.1272309166088235e-06, 1.9008865592695656e-06, 8.714025767631028e-08, 5.398168468673248e-06, 7.393445685011102e-06, 3.128855325940094e-07, 3.0146173912726226e-07, 0.00013595366908703, 1.334381249762373e-05, 2.399650384177221e-06, 3.871262742904946e-05, 0.0008219587616622448, 0.0006131247500889003, 2.151840271835681e-05, 0.004140729550272226, 0.000876084784977138, 0.00011684606579365209, 0.0021590657997876406, 0.02752523310482502, 0.04434959962964058, 0.9179999232292175, 0.0], [0.003194287419319153, 4.681674181483686e-05, 3.499132799333893e-05, 2.7043071895604953e-05, 1.4000289411342237e-05, 1.708512172626797e-05, 8.051890290516894e-06, 3.909822225978132e-06, 1.0716913493524771e-05, 1.793080627976451e-05, 1.4207491403794847e-05, 2.6911271561402828e-05, 2.641206083353609e-05, 3.110015677521005e-05, 1.119855460274266e-05, 5.4854976042406633e-05, 0.00011474484927020967, 0.00010493660374777392, 0.0002806300180964172, 0.00020839105127379298, 0.0009329246240667999, 0.0018989980453625321, 0.0011267556110396981, 0.0019257175736129284, 0.00391716742888093, 0.00749944569543004, 0.010695945471525192, 0.023199843242764473, 0.03039812669157982, 0.1272934228181839, 0.04325316101312637, 0.17668059468269348, 0.5669296383857727]], [[1.0, 0.0, 0.0, 0.0, 0.0, 0.0, 0.0, 0.0, 0.0, 0.0, 0.0, 0.0, 0.0, 0.0, 0.0, 0.0, 0.0, 0.0, 0.0, 0.0, 0.0, 0.0, 0.0, 0.0, 0.0, 0.0, 0.0, 0.0, 0.0, 0.0, 0.0, 0.0, 0.0], [0.25308647751808167, 0.746913492679596, 0.0, 0.0, 0.0, 0.0, 0.0, 0.0, 0.0, 0.0, 0.0, 0.0, 0.0, 0.0, 0.0, 0.0, 0.0, 0.0, 0.0, 0.0, 0.0, 0.0, 0.0, 0.0, 0.0, 0.0, 0.0, 0.0, 0.0, 0.0, 0.0, 0.0, 0.0], [0.30671581625938416, 0.32906389236450195, 0.3642202913761139, 0.0, 0.0, 0.0, 0.0, 0.0, 0.0, 0.0, 0.0, 0.0, 0.0, 0.0, 0.0, 0.0, 0.0, 0.0, 0.0, 0.0, 0.0, 0.0, 0.0, 0.0, 0.0, 0.0, 0.0, 0.0, 0.0, 0.0, 0.0, 0.0, 0.0], [0.07416965067386627, 0.16189655661582947, 0.054325878620147705, 0.7096078991889954, 0.0, 0.0, 0.0, 0.0, 0.0, 0.0, 0.0, 0.0, 0.0, 0.0, 0.0, 0.0, 0.0, 0.0, 0.0, 0.0, 0.0, 0.0, 0.0, 0.0, 0.0, 0.0, 0.0, 0.0, 0.0, 0.0, 0.0, 0.0, 0.0], [0.16688236594200134, 0.03901788592338562, 0.03822459653019905, 0.21398349106311798, 0.5418916344642639, 0.0, 0.0, 0.0, 0.0, 0.0, 0.0, 0.0, 0.0, 0.0, 0.0, 0.0, 0.0, 0.0, 0.0, 0.0, 0.0, 0.0, 0.0, 0.0, 0.0, 0.0, 0.0, 0.0, 0.0, 0.0, 0.0, 0.0, 0.0], [0.19483637809753418, 0.2111922800540924, 0.051505666226148605, 0.08703835308551788, 0.22999553382396698, 0.22543179988861084, 0.0, 0.0, 0.0, 0.0, 0.0, 0.0, 0.0, 0.0, 0.0, 0.0, 0.0, 0.0, 0.0, 0.0, 0.0, 0.0, 0.0, 0.0, 0.0, 0.0, 0.0, 0.0, 0.0, 0.0, 0.0, 0.0, 0.0], [0.1390012949705124, 0.029748566448688507, 0.0386069118976593, 0.05133262649178505, 0.1928423047065735, 0.080123670399189, 0.46834462881088257, 0.0, 0.0, 0.0, 0.0, 0.0, 0.0, 0.0, 0.0, 0.0, 0.0, 0.0, 0.0, 0.0, 0.0, 0.0, 0.0, 0.0, 0.0, 0.0, 0.0, 0.0, 0.0, 0.0, 0.0, 0.0, 0.0], [0.0896976888179779, 0.04080590978264809, 0.03473307192325592, 0.0841451957821846, 0.099110446870327, 0.07059435546398163, 0.13616570830345154, 0.44474756717681885, 0.0, 0.0, 0.0, 0.0, 0.0, 0.0, 0.0, 0.0, 0.0, 0.0, 0.0, 0.0, 0.0, 0.0, 0.0, 0.0, 0.0, 0.0, 0.0, 0.0, 0.0, 0.0, 0.0, 0.0, 0.0], [0.059865113347768784, 0.02019047923386097, 0.01878536306321621, 0.1058470755815506, 0.0579487569630146, 0.0275176502764225, 0.056663088500499725, 0.0822676494717598, 0.5709149241447449, 0.0, 0.0, 0.0, 0.0, 0.0, 0.0, 0.0, 0.0, 0.0, 0.0, 0.0, 0.0, 0.0, 0.0, 0.0, 0.0, 0.0, 0.0, 0.0, 0.0, 0.0, 0.0, 0.0, 0.0], [0.010379265062510967, 0.004698244389146566, 0.004143982660025358, 0.007291399873793125, 0.0062566897831857204, 0.003318042028695345, 0.009175008162856102, 0.018754441291093826, 0.033931486308574677, 0.9020513892173767, 0.0, 0.0, 0.0, 0.0, 0.0, 0.0, 0.0, 0.0, 0.0, 0.0, 0.0, 0.0, 0.0, 0.0, 0.0, 0.0, 0.0, 0.0, 0.0, 0.0, 0.0, 0.0, 0.0], [0.07270112633705139, 0.04776481166481972, 0.010500336065888405, 0.01615940034389496, 0.04617813974618912, 0.0524945892393589, 0.05184565484523773, 0.21189521253108978, 0.0351581871509552, 0.17267194390296936, 0.28263065218925476, 0.0, 0.0, 0.0, 0.0, 0.0, 0.0, 0.0, 0.0, 0.0, 0.0, 0.0, 0.0, 0.0, 0.0, 0.0, 0.0, 0.0, 0.0, 0.0, 0.0, 0.0, 0.0], [0.01512689795345068, 0.004731183405965567, 0.002322632819414139, 0.006575732957571745, 0.018362432718276978, 0.003339663613587618, 0.008784228004515171, 0.007409766782075167, 0.006289810873568058, 0.07638943940401077, 0.012003513984382153, 0.838664710521698, 0.0, 0.0, 0.0, 0.0, 0.0, 0.0, 0.0, 0.0, 0.0, 0.0, 0.0, 0.0, 0.0, 0.0, 0.0, 0.0, 0.0, 0.0, 0.0, 0.0, 0.0], [0.03233197331428528, 0.010628953576087952, 0.0026151686906814575, 0.0011762934736907482, 0.003093284321948886, 0.001505555002950132, 0.00707973400130868, 0.0028344765305519104, 0.005003885831683874, 0.01203259825706482, 0.003987788688391447, 0.05187246948480606, 0.8658378720283508, 0.0, 0.0, 0.0, 0.0, 0.0, 0.0, 0.0, 0.0, 0.0, 0.0, 0.0, 0.0, 0.0, 0.0, 0.0, 0.0, 0.0, 0.0, 0.0, 0.0], [0.05045591667294502, 0.02653880976140499, 0.005783273838460445, 0.008087308146059513, 0.021799404174089432, 0.0256703682243824, 0.022779066115617752, 0.09139915555715561, 0.015017378143966198, 0.07093937695026398, 0.12448648363351822, 0.1266835331916809, 0.06102130189538002, 0.3493386507034302, 0.0, 0.0, 0.0, 0.0, 0.0, 0.0, 0.0, 0.0, 0.0, 0.0, 0.0, 0.0, 0.0, 0.0, 0.0, 0.0, 0.0, 0.0, 0.0], [0.05474112927913666, 0.0529683455824852, 0.003988124895840883, 0.012351606972515583, 0.004415609873831272, 0.003596278140321374, 0.011385691352188587, 0.009828059002757072, 0.014749753288924694, 0.07078820466995239, 0.0112092150375247, 0.051640622317790985, 0.1973438262939453, 0.027129238471388817, 0.47386428713798523, 0.0, 0.0, 0.0, 0.0, 0.0, 0.0, 0.0, 0.0, 0.0, 0.0, 0.0, 0.0, 0.0, 0.0, 0.0, 0.0, 0.0, 0.0], [0.007163067348301411, 0.004963848274201155, 0.0027692303992807865, 0.0019424459896981716, 0.010544728487730026, 0.0014144876040518284, 0.003663663985207677, 0.0031499499455094337, 0.005481301341205835, 0.021614067256450653, 0.003922211937606335, 0.07935098558664322, 0.22477921843528748, 0.009166959673166275, 0.027402710169553757, 0.5926711559295654, 0.0, 0.0, 0.0, 0.0, 0.0, 0.0, 0.0, 0.0, 0.0, 0.0, 0.0, 0.0, 0.0, 0.0, 0.0, 0.0, 0.0], [0.03461107611656189, 0.01529633067548275, 0.0030951278749853373, 0.003899094182997942, 0.009989396668970585, 0.011446863412857056, 0.009189354255795479, 0.03356514871120453, 0.005761207081377506, 0.025581005960702896, 0.04384686052799225, 0.04521362856030464, 0.020553361624479294, 0.11962302774190903, 0.1567324995994568, 0.13173431158065796, 0.32986167073249817, 0.0, 0.0, 0.0, 0.0, 0.0, 0.0, 0.0, 0.0, 0.0, 0.0, 0.0, 0.0, 0.0, 0.0, 0.0, 0.0], [0.01725386455655098, 0.004397519398480654, 0.00496869208291173, 0.007064306642860174, 0.006634899880737066, 0.006910939235240221, 0.011386907659471035, 0.01617853343486786, 0.02031775750219822, 0.020396821200847626, 0.0234221201390028, 0.01890914887189865, 0.04024200513958931, 0.06200665980577469, 0.11645371466875076, 0.07975108921527863, 0.16864484548568726, 0.37506017088890076, 0.0, 0.0, 0.0, 0.0, 0.0, 0.0, 0.0, 0.0, 0.0, 0.0, 0.0, 0.0, 0.0, 0.0, 0.0], [0.002459120936691761, 0.0002491976192686707, 3.400468995096162e-05, 0.00021132979600224644, 0.00020066776778548956, 0.00012589267862495035, 0.00036506904871203005, 0.00037359900306910276, 0.00013798600411973894, 0.0004702222940977663, 0.0002715187438298017, 0.003417084226384759, 0.0006049819639883935, 0.000545462709851563, 0.0008937699603848159, 0.0015852168435230851, 0.0012150767724961042, 0.0028212706092745066, 0.9840185046195984, 0.0, 0.0, 0.0, 0.0, 0.0, 0.0, 0.0, 0.0, 0.0, 0.0, 0.0, 0.0, 0.0, 0.0], [0.00015282469394151121, 0.03892374038696289, 0.0004715217219199985, 0.00037318264367058873, 3.271798777859658e-05, 1.0635638318490237e-05, 3.8245966607064474e-06, 1.3244751244201325e-05, 6.418956763809547e-05, 2.7344434784026816e-05, 2.8320024284766987e-05, 0.0022295797243714333, 0.0013866429217159748, 7.163514965213835e-05, 0.00014025614655110985, 0.008246460929512978, 0.000196787019376643, 0.00020546776067931205, 0.897637665271759, 0.04978397488594055, 0.0, 0.0, 0.0, 0.0, 0.0, 0.0, 0.0, 0.0, 0.0, 0.0, 0.0, 0.0, 0.0], [0.026458127424120903, 0.010410876013338566, 0.002133261412382126, 0.0024560138117522, 0.005542595870792866, 0.005954568739980459, 0.004195834044367075, 0.013451541773974895, 0.0023519510868936777, 0.00947197899222374, 0.015433447435498238, 0.014805004000663757, 0.006865772418677807, 0.03787309676408768, 0.047449421137571335, 0.04547279328107834, 0.10199188441038132, 0.08666384965181351, 0.06470172852277756, 0.10160753130912781, 0.3947087228298187, 0.0, 0.0, 0.0, 0.0, 0.0, 0.0, 0.0, 0.0, 0.0, 0.0, 0.0, 0.0], [0.021157914772629738, 0.0035484330728650093, 0.001744115725159645, 0.003509304253384471, 0.004201894160360098, 0.002577780978754163, 0.004015868064016104, 0.0045990124344825745, 0.0039551593363285065, 0.00645584799349308, 0.005907902494072914, 0.003733173944056034, 0.00901341624557972, 0.013927968218922615, 0.029895825311541557, 0.02008231356739998, 0.038044434040784836, 0.06883090734481812, 0.0815289169549942, 0.03834023326635361, 0.15160255134105682, 0.48332706093788147, 0.0, 0.0, 0.0, 0.0, 0.0, 0.0, 0.0, 0.0, 0.0, 0.0, 0.0], [0.001421172870323062, 0.0004069022834300995, 0.0002714431320782751, 0.0014869269216433167, 0.0006475158152170479, 0.0002567154879216105, 0.00027297710767015815, 0.0005059858085587621, 0.00017537522944621742, 0.0012059623841196299, 0.0005902910488657653, 0.0004307399794925004, 0.00036999688018113375, 0.0013322836020961404, 0.0007594284252263606, 0.0025183120742440224, 0.003599985036998987, 0.004756716080009937, 0.011892941780388355, 0.0034102245699614286, 0.013851120136678219, 0.05907341465353966, 0.8907636404037476, 0.0, 0.0, 0.0, 0.0, 0.0, 0.0, 0.0, 0.0, 0.0, 0.0], [0.00505886459723115, 0.0008823543903417885, 0.0015358302043750882, 0.0016909888945519924, 0.0013438743771985173, 0.0004949701251462102, 0.0006572251440957189, 0.000552159093786031, 0.0005812104209326208, 0.0020545616280287504, 0.000838087173178792, 0.0010067495750263333, 0.0011300842743366957, 0.0016139893559738994, 0.0050228796899318695, 0.01457687932997942, 0.0037143267691135406, 0.004681479185819626, 0.00791380275040865, 0.006778391543775797, 0.012291347607970238, 0.027733050286769867, 0.10214642435312271, 0.7957004308700562, 0.0, 0.0, 0.0, 0.0, 0.0, 0.0, 0.0, 0.0, 0.0], [0.004004706162959337, 0.00045769865391775966, 0.0015645301900804043, 0.0031372099183499813, 0.0019937509205192327, 0.0003789269831031561, 0.0004957800265401602, 0.0005698034656234086, 0.001005208701826632, 0.002343230415135622, 0.0005772168515250087, 0.001675619394518435, 0.0030787440482527018, 0.001228526933118701, 0.005278346594423056, 0.006328064948320389, 0.0031517362222075462, 0.005319323856383562, 0.021383129060268402, 0.006147718522697687, 0.012332241050899029, 0.07402177155017853, 0.12114032357931137, 0.561111330986023, 0.16127510368824005, 0.0, 0.0, 0.0, 0.0, 0.0, 0.0, 0.0, 0.0], [0.0011286588851362467, 4.9889247748069465e-05, 4.129145963815972e-05, 9.249646245734766e-05, 5.5136377341113985e-05, 3.861736331600696e-05, 5.592053639702499e-05, 0.0001489630958531052, 5.509230504685547e-06, 6.817458779551089e-05, 3.620455754571594e-05, 4.623974018613808e-05, 0.0010655033402144909, 5.919886098126881e-05, 7.787290087435395e-05, 0.0003842136648017913, 0.00011692492262227461, 0.0002242832415504381, 0.0005083993310108781, 0.00015628164692316204, 0.0003233154711779207, 0.0007086845580488443, 0.0009207437396980822, 0.0008559718844480813, 0.004414457827806473, 0.9884169697761536, 0.0, 0.0, 0.0, 0.0, 0.0, 0.0, 0.0], [0.0024299684446305037, 0.0036596304271370173, 0.0006344981375150383, 0.0006202653748914599, 0.0029876711778342724, 0.00034763666917569935, 0.0005059161921963096, 0.0004114966432098299, 0.00021321623353287578, 0.0006509363884106278, 0.0003955694555770606, 0.1698644906282425, 0.0021888965275138617, 0.0006812360370531678, 0.0008683758787810802, 0.008905130438506603, 0.0014638521242886782, 0.0013394575798884034, 0.006495123263448477, 0.007638698909431696, 0.004619399551302195, 0.003161795437335968, 0.014200923964381218, 0.04639672487974167, 0.022786084562540054, 0.21939285099506378, 0.4771401584148407, 0.0, 0.0, 0.0, 0.0, 0.0, 0.0], [0.01561034470796585, 0.000964806939009577, 0.0010281846625730395, 0.007148510776460171, 0.0053166537545621395, 0.0005432672915048897, 0.0007839891477487981, 0.0004708299529738724, 0.0022980310022830963, 0.00546309957280755, 0.0005483081331476569, 0.0008661499014124274, 0.000903555192053318, 0.0009251945302821696, 0.00837593525648117, 0.001447812421247363, 0.0020614902023226023, 0.0036933827213943005, 0.017008844763040543, 0.006138678174465895, 0.00704188970848918, 0.0412871353328228, 0.06922481954097748, 0.26617172360420227, 0.050242193043231964, 0.11445164680480957, 0.13764871656894684, 0.2323346883058548, 0.0, 0.0, 0.0, 0.0, 0.0], [0.02189532481133938, 0.0013514559250324965, 0.0013727991608902812, 0.005157724488526583, 0.010932807810604572, 0.0004452227440197021, 0.0016178310615941882, 0.0005713263526558876, 0.0007700279238633811, 0.003093545790761709, 0.00036163555341772735, 0.0009329021559096873, 0.0019032418495044112, 0.0005254385177977383, 0.0007036195602267981, 0.0015780641697347164, 0.0010200463002547622, 0.0009346743463538587, 0.005167561583220959, 0.0007855407893657684, 0.0028796803671866655, 0.006337152328342199, 0.04951418936252594, 0.021886928007006645, 0.030046813189983368, 0.06941606104373932, 0.02995377779006958, 0.061116211116313934, 0.6677284836769104, 0.0, 0.0, 0.0, 0.0], [0.00029466464184224606, 8.085072477115318e-05, 0.00011992641520919278, 0.00017153944645542651, 0.00038989956374280155, 8.630251977592707e-05, 5.25371651747264e-05, 6.61636222503148e-05, 0.00011378381896065548, 6.20008067926392e-05, 0.00011238058505114168, 0.0005867333966307342, 9.784981375560164e-05, 0.00021334855409804732, 0.0004044437373522669, 0.0004726226325146854, 0.0004730731307063252, 0.0005199506413191557, 0.0008571138605475426, 0.00022720170090906322, 0.0015976766590029001, 0.0014780688798055053, 0.0016501405043527484, 0.009339629672467709, 0.012792705558240414, 0.012606937438249588, 0.021659523248672485, 0.028867434710264206, 0.0778479352593422, 0.826757550239563, 0.0, 0.0, 0.0], [0.0006396514945663512, 0.00019920132763218135, 0.0003378448309376836, 0.00032286025816574693, 0.00038839675835333765, 2.2511339921038598e-05, 0.00011559616541489959, 1.9683635400724597e-05, 8.749771950533614e-05, 0.0001667570322751999, 2.135314207407646e-05, 0.0001825766812544316, 0.0028796205297112465, 3.270829620305449e-05, 6.355961522785947e-05, 0.0009078466100618243, 6.314171332633123e-05, 4.95450476591941e-05, 0.005010183434933424, 0.0002155573311029002, 0.0001892327709356323, 0.00023579815751872957, 0.00211917026899755, 0.003475234843790531, 0.0004957494093105197, 0.01267299521714449, 0.0026274549309164286, 0.0011926358565688133, 0.028011461719870567, 0.14214572310447693, 0.7951084971427917, 0.0, 0.0], [0.005492139142006636, 0.0014179592253640294, 6.310038588708267e-05, 0.0009282350656576455, 0.0004675868258345872, 9.701211820356548e-05, 5.678696106770076e-05, 6.824053707532585e-05, 4.054814053233713e-05, 0.00021011488570366055, 6.534712156280875e-05, 0.00011957813694607466, 9.082323231268674e-05, 9.077344293473288e-05, 0.00013827483053319156, 0.0004122828249819577, 0.0001690058852545917, 0.00013570681039709598, 0.002428318839520216, 0.00020654787658713758, 0.0004959610523656011, 0.00016561961092520505, 0.001825400977395475, 0.001680815708823502, 0.0010187359293922782, 0.01507149264216423, 0.0034083782229572535, 0.0033841929398477077, 0.01886550337076187, 0.010037447325885296, 0.008259563706815243, 0.923088550567627, 0.0], [0.009386119432747364, 0.001738055725581944, 0.001809170818887651, 0.0014350260607898235, 0.0016812816029414535, 0.0019791293889284134, 0.001414344529621303, 0.0021127823274582624, 0.001201697625219822, 0.0010467672254890203, 0.0012532513355836272, 0.001212571281939745, 0.00069524219725281, 0.001685019233264029, 0.0012904996983706951, 0.001494942931458354, 0.0030524679459631443, 0.0061763981357216835, 0.00399314658716321, 0.0029945187270641327, 0.008827615529298782, 0.009542393498122692, 0.010477345436811447, 0.02145143412053585, 0.062213581055402756, 0.02686106041073799, 0.033906422555446625, 0.11987612396478653, 0.05027461796998978, 0.02679683268070221, 0.031165719032287598, 0.1072864904999733, 0.4436679482460022]], [[1.0, 0.0, 0.0, 0.0, 0.0, 0.0, 0.0, 0.0, 0.0, 0.0, 0.0, 0.0, 0.0, 0.0, 0.0, 0.0, 0.0, 0.0, 0.0, 0.0, 0.0, 0.0, 0.0, 0.0, 0.0, 0.0, 0.0, 0.0, 0.0, 0.0, 0.0, 0.0, 0.0], [0.1052049770951271, 0.8947950601577759, 0.0, 0.0, 0.0, 0.0, 0.0, 0.0, 0.0, 0.0, 0.0, 0.0, 0.0, 0.0, 0.0, 0.0, 0.0, 0.0, 0.0, 0.0, 0.0, 0.0, 0.0, 0.0, 0.0, 0.0, 0.0, 0.0, 0.0, 0.0, 0.0, 0.0, 0.0], [0.039072077721357346, 0.0020172148942947388, 0.9589106440544128, 0.0, 0.0, 0.0, 0.0, 0.0, 0.0, 0.0, 0.0, 0.0, 0.0, 0.0, 0.0, 0.0, 0.0, 0.0, 0.0, 0.0, 0.0, 0.0, 0.0, 0.0, 0.0, 0.0, 0.0, 0.0, 0.0, 0.0, 0.0, 0.0, 0.0], [0.015578613616526127, 0.0008392525487579405, 0.0006979755708016455, 0.9828841686248779, 0.0, 0.0, 0.0, 0.0, 0.0, 0.0, 0.0, 0.0, 0.0, 0.0, 0.0, 0.0, 0.0, 0.0, 0.0, 0.0, 0.0, 0.0, 0.0, 0.0, 0.0, 0.0, 0.0, 0.0, 0.0, 0.0, 0.0, 0.0, 0.0], [0.008856476284563541, 9.934288755175658e-06, 1.117483316193102e-05, 0.0003024709003511816, 0.9908199906349182, 0.0, 0.0, 0.0, 0.0, 0.0, 0.0, 0.0, 0.0, 0.0, 0.0, 0.0, 0.0, 0.0, 0.0, 0.0, 0.0, 0.0, 0.0, 0.0, 0.0, 0.0, 0.0, 0.0, 0.0, 0.0, 0.0, 0.0, 0.0], [0.3544498682022095, 0.030589280650019646, 0.059889551252126694, 0.022903524339199066, 0.04747585579752922, 0.48469194769859314, 0.0, 0.0, 0.0, 0.0, 0.0, 0.0, 0.0, 0.0, 0.0, 0.0, 0.0, 0.0, 0.0, 0.0, 0.0, 0.0, 0.0, 0.0, 0.0, 0.0, 0.0, 0.0, 0.0, 0.0, 0.0, 0.0, 0.0], [0.04476889222860336, 0.0015664625680074096, 0.00037738445098511875, 0.0002507320314180106, 0.0004088956047780812, 0.00026065637939609587, 0.9523669481277466, 0.0, 0.0, 0.0, 0.0, 0.0, 0.0, 0.0, 0.0, 0.0, 0.0, 0.0, 0.0, 0.0, 0.0, 0.0, 0.0, 0.0, 0.0, 0.0, 0.0, 0.0, 0.0, 0.0, 0.0, 0.0, 0.0], [0.09058351069688797, 0.0011470753233879805, 0.006027344148606062, 0.000546847702935338, 0.0017094232607632875, 0.00378508516587317, 0.002684543142095208, 0.8935161828994751, 0.0, 0.0, 0.0, 0.0, 0.0, 0.0, 0.0, 0.0, 0.0, 0.0, 0.0, 0.0, 0.0, 0.0, 0.0, 0.0, 0.0, 0.0, 0.0, 0.0, 0.0, 0.0, 0.0, 0.0, 0.0], [0.00601074518635869, 2.4289183784276247e-05, 0.00031266832957044244, 1.8683022062759846e-05, 0.0002979254350066185, 9.904562830342911e-06, 6.619598480028799e-06, 7.912243518148898e-07, 0.9933183193206787, 0.0, 0.0, 0.0, 0.0, 0.0, 0.0, 0.0, 0.0, 0.0, 0.0, 0.0, 0.0, 0.0, 0.0, 0.0, 0.0, 0.0, 0.0, 0.0, 0.0, 0.0, 0.0, 0.0, 0.0], [0.004546825308352709, 0.00020019400108139962, 0.00029920300585217774, 0.0013363964390009642, 0.00032676581759005785, 8.741383226151811e-07, 1.7415786714991555e-05, 2.7834249749503215e-07, 0.00029665243346244097, 0.9929754734039307, 0.0, 0.0, 0.0, 0.0, 0.0, 0.0, 0.0, 0.0, 0.0, 0.0, 0.0, 0.0, 0.0, 0.0, 0.0, 0.0, 0.0, 0.0, 0.0, 0.0, 0.0, 0.0, 0.0], [0.12262561917304993, 0.02392660081386566, 0.03827647119760513, 0.01617196761071682, 0.030366232618689537, 0.2937593460083008, 0.10661361366510391, 0.07059954851865768, 0.04190005362033844, 0.017833082005381584, 0.23792743682861328, 0.0, 0.0, 0.0, 0.0, 0.0, 0.0, 0.0, 0.0, 0.0, 0.0, 0.0, 0.0, 0.0, 0.0, 0.0, 0.0, 0.0, 0.0, 0.0, 0.0, 0.0, 0.0], [0.0008121014689095318, 0.00011546615860424936, 0.00013500855129677802, 5.539281846722588e-05, 0.00013174093328416348, 1.0027139296653331e-06, 1.3799062799080275e-06, 1.6001553149180836e-07, 1.8972899624714046e-06, 5.419645390247751e-07, 4.7530869551337673e-07, 0.9987448453903198, 0.0, 0.0, 0.0, 0.0, 0.0, 0.0, 0.0, 0.0, 0.0, 0.0, 0.0, 0.0, 0.0, 0.0, 0.0, 0.0, 0.0, 0.0, 0.0, 0.0, 0.0], [0.0013333027018234134, 0.00010533037857385352, 0.0007669609040021896, 0.0009021891164593399, 3.570832632249221e-06, 8.120467782646301e-07, 1.4038076301403635e-07, 9.56129397877703e-08, 1.6865054703885107e-06, 2.9789011023240164e-05, 4.38133213265246e-07, 1.1965788644374697e-06, 0.9968544840812683, 0.0, 0.0, 0.0, 0.0, 0.0, 0.0, 0.0, 0.0, 0.0, 0.0, 0.0, 0.0, 0.0, 0.0, 0.0, 0.0, 0.0, 0.0, 0.0, 0.0], [0.08159800618886948, 0.021388838067650795, 0.02887711301445961, 0.012675785459578037, 0.024931570515036583, 0.22996489703655243, 0.10401245206594467, 0.0647210031747818, 0.034600939601659775, 0.015198717825114727, 0.18564146757125854, 0.020528046414256096, 0.005003843456506729, 0.1708572655916214, 0.0, 0.0, 0.0, 0.0, 0.0, 0.0, 0.0, 0.0, 0.0, 0.0, 0.0, 0.0, 0.0, 0.0, 0.0, 0.0, 0.0, 0.0, 0.0], [0.0013488830300047994, 8.921194239519536e-05, 0.0006859956192784011, 0.0006963212508708239, 2.124857928720303e-05, 3.763382494526013e-07, 6.226731557035237e-07, 4.3072034827673633e-07, 7.091859515639953e-06, 0.0013103667879477143, 1.611370379350774e-07, 9.548733714836999e-07, 0.00016453591524623334, 1.1531891175309283e-07, 0.9956735968589783, 0.0, 0.0, 0.0, 0.0, 0.0, 0.0, 0.0, 0.0, 0.0, 0.0, 0.0, 0.0, 0.0, 0.0, 0.0, 0.0, 0.0, 0.0], [0.001086751464754343, 0.0004072489682585001, 0.00010700361599447206, 0.0006782730342820287, 0.00011028524750145152, 1.318426114949034e-07, 2.6602759817251354e-07, 4.619576259301539e-07, 8.409738256887067e-06, 0.000778490153606981, 5.109448864004662e-08, 8.792111430011573e-07, 4.93430343340151e-05, 3.4893229639010315e-08, 0.00011441176320658997, 0.9966579675674438, 0.0, 0.0, 0.0, 0.0, 0.0, 0.0, 0.0, 0.0, 0.0, 0.0, 0.0, 0.0, 0.0, 0.0, 0.0, 0.0, 0.0], [0.058680906891822815, 0.018785765394568443, 0.024067295715212822, 0.01101315300911665, 0.021456386893987656, 0.1911056488752365, 0.09902728348970413, 0.06065869331359863, 0.030162716284394264, 0.014801913872361183, 0.15370318293571472, 0.016615169122815132, 0.004385380540043116, 0.14085334539413452, 0.015015006065368652, 0.005390212405472994, 0.13427793979644775, 0.0, 0.0, 0.0, 0.0, 0.0, 0.0, 0.0, 0.0, 0.0, 0.0, 0.0, 0.0, 0.0, 0.0, 0.0, 0.0], [0.07323027402162552, 0.028374584391713142, 0.021058253943920135, 0.007611882872879505, 0.01005358062684536, 0.06553953140974045, 0.1455976665019989, 0.08620846271514893, 0.010241244919598103, 0.00742574455216527, 0.04526267200708389, 0.006621462758630514, 0.001162177650257945, 0.03923853859305382, 0.008256880566477776, 0.0030656892340630293, 0.036122631281614304, 0.40492871403694153, 0.0, 0.0, 0.0, 0.0, 0.0, 0.0, 0.0, 0.0, 0.0, 0.0, 0.0, 0.0, 0.0, 0.0, 0.0], [7.944500976009294e-05, 1.8382105508862878e-06, 3.7134324060161816e-08, 1.5575307770632207e-05, 3.4723757380561437e-06, 1.3165096790501707e-09, 2.703870904952055e-08, 1.7186652101486288e-08, 9.232245190560207e-08, 1.350635284325108e-05, 4.4787801245504966e-10, 2.041673052843862e-09, 5.542018044479846e-08, 3.0638666603799436e-10, 4.217715456888982e-07, 7.065874342515599e-06, 2.424439260462208e-10, 1.4397358860662735e-09, 0.9998784065246582, 0.0, 0.0, 0.0, 0.0, 0.0, 0.0, 0.0, 0.0, 0.0, 0.0, 0.0, 0.0, 0.0, 0.0], [0.0029345094226300716, 0.0005883870180696249, 0.00425032339990139, 0.0040284800343215466, 0.00011592989176278934, 4.331638592702802e-06, 6.773926543246489e-06, 7.076487963786349e-05, 0.00024952797684818506, 0.0003159344778396189, 2.082445917039877e-06, 4.409221583046019e-05, 0.00030447024619206786, 1.47026048580301e-06, 0.00019761362636927515, 0.0013599283993244171, 1.2478676580940373e-06, 6.875208327983273e-06, 0.0001926120457937941, 0.9853248000144958, 0.0, 0.0, 0.0, 0.0, 0.0, 0.0, 0.0, 0.0, 0.0, 0.0, 0.0, 0.0, 0.0], [0.04056531935930252, 0.017898326739668846, 0.02060093730688095, 0.009821100160479546, 0.017882805317640305, 0.15653997659683228, 0.09208235889673233, 0.05628826469182968, 0.026661332696676254, 0.014471268281340599, 0.12537623941898346, 0.013986760750412941, 0.003927926532924175, 0.11453618854284286, 0.013395377434790134, 0.004846666008234024, 0.10880251973867416, 0.04953397810459137, 0.005186412017792463, 0.0044208732433617115, 0.10317531228065491, 0.0, 0.0, 0.0, 0.0, 0.0, 0.0, 0.0, 0.0, 0.0, 0.0, 0.0, 0.0], [0.024536358192563057, 0.0031243336852639914, 0.0009699293877929449, 4.631542833521962e-05, 0.00013434764696285129, 0.0006453944370150566, 0.011668854393064976, 0.000327135348925367, 0.0004573033074848354, 2.3976121156010777e-05, 0.00034454173874109983, 4.996428469894454e-05, 2.5757408366189338e-05, 0.00028217805083841085, 6.525317985506263e-06, 4.981804522685707e-06, 0.00023554025392513722, 0.00026645115576684475, 2.531115387682803e-05, 2.9761067708022892e-05, 0.0001880924974102527, 0.9566069841384888, 0.0, 0.0, 0.0, 0.0, 0.0, 0.0, 0.0, 0.0, 0.0, 0.0, 0.0], [0.0020759948529303074, 0.00014591730723623186, 5.2898827561875805e-05, 4.218065441818908e-05, 4.7387009544763714e-05, 4.142315219723969e-07, 0.00012964273628313094, 2.4250928618130274e-05, 1.8033973674391746e-06, 1.4839238247077446e-06, 1.4489896216218767e-07, 4.199916020297678e-06, 4.106825457483865e-08, 1.0260460925337611e-07, 8.285416583930783e-07, 5.781892014056211e-07, 7.695144432773304e-08, 6.669583996199435e-08, 6.47259657853283e-05, 1.570085601088067e-06, 5.641808797918202e-08, 4.403023467602907e-06, 0.997401237487793, 0.0, 0.0, 0.0, 0.0, 0.0, 0.0, 0.0, 0.0, 0.0, 0.0], [0.000515912426635623, 0.0001181466577691026, 3.2705673220334575e-05, 0.00021188761456869543, 4.563520269584842e-05, 2.924881243870914e-07, 3.0579394660890102e-06, 7.607361141026558e-08, 0.0001375367137370631, 0.0005283550708554685, 1.1576013747571778e-07, 4.028573584946571e-06, 2.079294745271909e-06, 8.805407958334399e-08, 0.00010051658318843693, 4.431615161593072e-05, 6.963698950812613e-08, 9.373022891168148e-08, 3.337768794153817e-05, 1.5888872439973056e-05, 5.610664288724365e-08, 7.052655348616099e-08, 9.389288607053459e-06, 0.9981963038444519, 0.0, 0.0, 0.0, 0.0, 0.0, 0.0, 0.0, 0.0, 0.0], [0.06915231049060822, 0.014032077975571156, 0.005599093623459339, 0.0012576858280226588, 0.0008468004525639117, 0.009601181373000145, 0.008965780958533287, 0.0524769052863121, 0.0002502836287021637, 0.0009063869947567582, 0.005419902503490448, 0.0007309206994250417, 0.00019187937141396105, 0.004396581556648016, 0.005964719224721193, 0.0003558543976396322, 0.0038770181126892567, 0.009727229364216328, 0.0011023498373106122, 0.0003644294629339129, 0.0034139566123485565, 0.003052355023100972, 0.005698252469301224, 0.0002955735253635794, 0.7923204302787781, 0.0, 0.0, 0.0, 0.0, 0.0, 0.0, 0.0, 0.0], [0.0010461556958034635, 1.9557141058612615e-05, 1.7358943296130747e-06, 3.103043491137214e-05, 2.7307925847708248e-05, 1.0180658982505975e-08, 4.815767624677392e-07, 1.7494180326593778e-07, 7.312424088468106e-08, 7.983068712746899e-07, 3.4643101720632785e-09, 4.9067130021285266e-06, 1.0718911624962857e-07, 2.352543715389288e-09, 2.383393962190894e-07, 1.373128156956227e-06, 1.8288636161045702e-09, 6.247586004093364e-09, 9.208286428474821e-06, 1.6384254877266358e-06, 1.252385195549266e-09, 8.271258122860559e-10, 8.456785508315079e-06, 3.118682570857345e-06, 9.24138543467734e-09, 0.9988435506820679, 0.0, 0.0, 0.0, 0.0, 0.0, 0.0, 0.0], [0.0010544934775680304, 0.00021373297204263508, 0.0002815727493725717, 0.0011373433517292142, 0.00014783968799747527, 2.00685326490202e-06, 4.8313650040654466e-06, 3.4823449368559523e-06, 5.100354883325053e-06, 0.00012420520943123847, 9.301546697315644e-07, 1.0582653885649052e-05, 1.1688296581269242e-05, 7.077532586663438e-07, 0.003411605255678296, 0.0001990541204577312, 5.995629521748924e-07, 4.64305571767909e-07, 1.9585138943511993e-05, 0.00011087802704423666, 4.7500583377768635e-07, 3.2808878813739284e-07, 4.535367679636693e-06, 5.1617193093989044e-05, 3.2474736144649796e-07, 1.3071422472421546e-05, 0.9931889772415161, 0.0, 0.0, 0.0, 0.0, 0.0, 0.0], [0.02420075237751007, 0.0028201285749673843, 0.004319298546761274, 0.0009108301601372659, 0.0017753933789208531, 0.0038099174853414297, 0.002953319577500224, 0.016714777797460556, 0.0013931713765487075, 0.005003178026527166, 0.0022760864812880754, 0.0005876410868950188, 0.0009901622543111444, 0.0018066954798996449, 0.0031312373466789722, 0.00023389386478811502, 0.0016082696383818984, 0.009910293854773045, 0.0028539495542645454, 0.0002049512550001964, 0.001371265621855855, 0.006918995641171932, 0.0010336552513763309, 0.00014528397878166288, 0.01748979091644287, 0.00046553072752431035, 0.0003024083562195301, 0.884769082069397, 0.0, 0.0, 0.0, 0.0, 0.0], [0.0005256070871837437, 3.5286377624288434e-06, 1.7037604038705467e-06, 9.40816244110465e-05, 0.6647970080375671, 1.653143044677563e-07, 9.511094845038315e-07, 8.886858040568768e-07, 1.7016665879054926e-05, 3.742169064935297e-05, 6.832247834154259e-08, 9.810899427975528e-06, 7.548708680360505e-08, 4.963247590694664e-08, 2.0393772501847707e-06, 7.686524440941866e-06, 4.066840020300333e-08, 2.674423882353949e-08, 3.343169009895064e-05, 4.3410705075075384e-07, 3.007979643143699e-08, 3.206054088877863e-08, 4.90058437208063e-06, 3.060936705878703e-06, 1.4603154241399352e-08, 2.2145519324112684e-05, 9.211118594976142e-06, 3.164269202216019e-08, 0.3344285786151886, 0.0, 0.0, 0.0, 0.0], [0.004677004646509886, 0.00028021400794386864, 8.346117101609707e-05, 3.1570211831422057e-06, 4.0653426935932657e-07, 1.3343539251309267e-07, 2.6423611416248605e-05, 1.1440010183605409e-07, 2.787237463053316e-07, 3.7496170079975855e-06, 4.652915208680497e-08, 1.7214032368428889e-06, 1.8165634685374243e-07, 3.148482008441533e-08, 1.8334247897655587e-07, 5.214756271243459e-08, 2.5215856069848996e-08, 3.078446653148603e-08, 7.142043045860191e-08, 1.6640203881479465e-08, 1.7768222448921733e-08, 8.634540904495225e-08, 2.800972424665815e-06, 8.454160251858411e-07, 3.098357126418705e-08, 2.927874618308124e-07, 5.676249656971777e-07, 5.05543118478613e-09, 2.914097940731608e-08, 0.9949179887771606, 0.0, 0.0, 0.0], [5.6368040532106534e-05, 0.00020023695833515376, 1.631914187782968e-06, 1.5089357248143642e-06, 1.777980287442915e-05, 5.956453108524329e-10, 6.940389994269935e-06, 5.034020311711629e-09, 2.168291644011333e-07, 1.7164308019346208e-06, 1.9326304445677067e-10, 1.891149992161445e-08, 9.53887777654927e-08, 1.2946935190605302e-10, 8.077166491204935e-09, 4.386607542983256e-05, 9.768703207457818e-11, 5.256100554795751e-10, 6.932170799700543e-05, 7.505895638360016e-08, 7.069305557605432e-11, 3.9880625024579786e-08, 1.061030798155116e-05, 2.2120793801150285e-06, 8.688650909860485e-10, 9.928546205628663e-06, 5.390105695113334e-09, 1.1354481244119086e-10, 3.0600465379393427e-06, 3.8945628944020427e-07, 0.9995740056037903, 0.0, 0.0], [0.00035569758620113134, 1.9489476471790113e-05, 9.160984518530313e-06, 1.3085289538139477e-05, 2.3808899641153403e-05, 2.9718961513935938e-08, 4.16060647694394e-05, 1.775652407332018e-07, 6.896254944877e-07, 1.0506259968678933e-06, 1.2230741752716767e-08, 4.29055216955021e-06, 3.2958365636659437e-07, 9.211106544171344e-09, 1.7466396684540086e-06, 4.682785402110312e-06, 7.44272554698e-09, 9.673819079125678e-09, 3.9665173972025514e-05, 7.324905482164468e-07, 5.543690839715509e-09, 1.039672596903074e-07, 1.4401603948499542e-05, 8.873365914041642e-06, 5.98941607421466e-09, 1.5627872926415876e-05, 2.9811276363034267e-06, 6.874355751307348e-09, 4.8546603466093075e-06, 7.0722649070376065e-06, 6.210685569385532e-06, 0.999423623085022, 0.0], [0.054552700370550156, 0.016429077833890915, 0.016008323058485985, 0.00698687881231308, 0.02488415129482746, 0.07376933842897415, 0.07933790981769562, 0.05594556778669357, 0.027268191799521446, 0.013368762098252773, 0.05590302124619484, 0.007223031483590603, 0.005426561459898949, 0.05012331157922745, 0.008279066532850266, 0.003060963936150074, 0.04682295024394989, 0.04751849174499512, 0.00284494087100029, 0.00703796511515975, 0.04282712936401367, 0.05138194188475609, 0.0272823553532362, 0.02637532167136669, 0.02615920826792717, 0.011997955851256847, 0.0062201255932450294, 0.03648778796195984, 0.011124693788588047, 0.005218558479100466, 0.0025591994635760784, 0.002604031702503562, 0.14697052538394928]], [[1.0, 0.0, 0.0, 0.0, 0.0, 0.0, 0.0, 0.0, 0.0, 0.0, 0.0, 0.0, 0.0, 0.0, 0.0, 0.0, 0.0, 0.0, 0.0, 0.0, 0.0, 0.0, 0.0, 0.0, 0.0, 0.0, 0.0, 0.0, 0.0, 0.0, 0.0, 0.0, 0.0], [0.9192655682563782, 0.08073440194129944, 0.0, 0.0, 0.0, 0.0, 0.0, 0.0, 0.0, 0.0, 0.0, 0.0, 0.0, 0.0, 0.0, 0.0, 0.0, 0.0, 0.0, 0.0, 0.0, 0.0, 0.0, 0.0, 0.0, 0.0, 0.0, 0.0, 0.0, 0.0, 0.0, 0.0, 0.0], [0.45437362790107727, 0.4265044033527374, 0.11912193894386292, 0.0, 0.0, 0.0, 0.0, 0.0, 0.0, 0.0, 0.0, 0.0, 0.0, 0.0, 0.0, 0.0, 0.0, 0.0, 0.0, 0.0, 0.0, 0.0, 0.0, 0.0, 0.0, 0.0, 0.0, 0.0, 0.0, 0.0, 0.0, 0.0, 0.0], [0.5267519950866699, 0.22321635484695435, 0.12420640140771866, 0.1258252114057541, 0.0, 0.0, 0.0, 0.0, 0.0, 0.0, 0.0, 0.0, 0.0, 0.0, 0.0, 0.0, 0.0, 0.0, 0.0, 0.0, 0.0, 0.0, 0.0, 0.0, 0.0, 0.0, 0.0, 0.0, 0.0, 0.0, 0.0, 0.0, 0.0], [0.3903486728668213, 0.17099422216415405, 0.06872713565826416, 0.1837182343006134, 0.18621176481246948, 0.0, 0.0, 0.0, 0.0, 0.0, 0.0, 0.0, 0.0, 0.0, 0.0, 0.0, 0.0, 0.0, 0.0, 0.0, 0.0, 0.0, 0.0, 0.0, 0.0, 0.0, 0.0, 0.0, 0.0, 0.0, 0.0, 0.0, 0.0], [0.19744205474853516, 0.2543684244155884, 0.1448846161365509, 0.18925854563713074, 0.208219513297081, 0.005826787557452917, 0.0, 0.0, 0.0, 0.0, 0.0, 0.0, 0.0, 0.0, 0.0, 0.0, 0.0, 0.0, 0.0, 0.0, 0.0, 0.0, 0.0, 0.0, 0.0, 0.0, 0.0, 0.0, 0.0, 0.0, 0.0, 0.0, 0.0], [0.19473561644554138, 0.13241830468177795, 0.14391934871673584, 0.15120728313922882, 0.3002448081970215, 0.020584655925631523, 0.056890010833740234, 0.0, 0.0, 0.0, 0.0, 0.0, 0.0, 0.0, 0.0, 0.0, 0.0, 0.0, 0.0, 0.0, 0.0, 0.0, 0.0, 0.0, 0.0, 0.0, 0.0, 0.0, 0.0, 0.0, 0.0, 0.0, 0.0], [0.12696661055088043, 0.21597377955913544, 0.1608932912349701, 0.19698825478553772, 0.18844632804393768, 0.013544939458370209, 0.07520709186792374, 0.021979698911309242, 0.0, 0.0, 0.0, 0.0, 0.0, 0.0, 0.0, 0.0, 0.0, 0.0, 0.0, 0.0, 0.0, 0.0, 0.0, 0.0, 0.0, 0.0, 0.0, 0.0, 0.0, 0.0, 0.0, 0.0, 0.0], [0.2912122309207916, 0.059542298316955566, 0.11079414933919907, 0.09717847406864166, 0.2234559953212738, 0.016262592747807503, 0.08719443529844284, 0.024762293323874474, 0.08959746360778809, 0.0, 0.0, 0.0, 0.0, 0.0, 0.0, 0.0, 0.0, 0.0, 0.0, 0.0, 0.0, 0.0, 0.0, 0.0, 0.0, 0.0, 0.0, 0.0, 0.0, 0.0, 0.0, 0.0, 0.0], [0.22981950640678406, 0.03802679479122162, 0.16013836860656738, 0.11780401319265366, 0.16181190311908722, 0.03552822768688202, 0.0756111666560173, 0.02075604721903801, 0.10670626163482666, 0.05379777401685715, 0.0, 0.0, 0.0, 0.0, 0.0, 0.0, 0.0, 0.0, 0.0, 0.0, 0.0, 0.0, 0.0, 0.0, 0.0, 0.0, 0.0, 0.0, 0.0, 0.0, 0.0, 0.0, 0.0], [0.13314424455165863, 0.18858635425567627, 0.10808098316192627, 0.1599496603012085, 0.1773921400308609, 0.0035980218090116978, 0.025062058120965958, 0.01286291889846325, 0.07453104853630066, 0.1127525269985199, 0.004039982799440622, 0.0, 0.0, 0.0, 0.0, 0.0, 0.0, 0.0, 0.0, 0.0, 0.0, 0.0, 0.0, 0.0, 0.0, 0.0, 0.0, 0.0, 0.0, 0.0, 0.0, 0.0, 0.0], [0.16746410727500916, 0.1435522735118866, 0.06118575856089592, 0.17358075082302094, 0.10113829374313354, 0.017553459852933884, 0.032395340502262115, 0.007995507679879665, 0.05453447997570038, 0.07883200794458389, 0.01725821942090988, 0.14450986683368683, 0.0, 0.0, 0.0, 0.0, 0.0, 0.0, 0.0, 0.0, 0.0, 0.0, 0.0, 0.0, 0.0, 0.0, 0.0, 0.0, 0.0, 0.0, 0.0, 0.0, 0.0], [0.26996833086013794, 0.1302906572818756, 0.06605689227581024, 0.06156136468052864, 0.08437128365039825, 0.01984662562608719, 0.016312792897224426, 0.012965905480086803, 0.032314643263816833, 0.052547916769981384, 0.019868601113557816, 0.13695628941059113, 0.09693866223096848, 0.0, 0.0, 0.0, 0.0, 0.0, 0.0, 0.0, 0.0, 0.0, 0.0, 0.0, 0.0, 0.0, 0.0, 0.0, 0.0, 0.0, 0.0, 0.0, 0.0], [0.09820340573787689, 0.1361863762140274, 0.08005783706903458, 0.12152860313653946, 0.13579389452934265, 0.0024323617108166218, 0.01778949797153473, 0.009086485020816326, 0.05637535825371742, 0.08521648496389389, 0.002753338310867548, 0.15203776955604553, 0.09946715086698532, 0.0030714068561792374, 0.0, 0.0, 0.0, 0.0, 0.0, 0.0, 0.0, 0.0, 0.0, 0.0, 0.0, 0.0, 0.0, 0.0, 0.0, 0.0, 0.0, 0.0, 0.0], [0.17012891173362732, 0.08885707706212997, 0.09089691936969757, 0.08085787296295166, 0.11427333205938339, 0.010901492089033127, 0.014788422733545303, 0.005497371312230825, 0.051512591540813446, 0.05330685153603554, 0.01059581059962511, 0.09442275762557983, 0.13098126649856567, 0.011153684929013252, 0.07182569056749344, 0.0, 0.0, 0.0, 0.0, 0.0, 0.0, 0.0, 0.0, 0.0, 0.0, 0.0, 0.0, 0.0, 0.0, 0.0, 0.0, 0.0, 0.0], [0.1036585345864296, 0.03588540852069855, 0.08803578466176987, 0.06087933108210564, 0.08348321169614792, 0.030805785208940506, 0.029615921899676323, 0.010918695479631424, 0.04049992188811302, 0.04288608208298683, 0.032192982733249664, 0.15008124709129333, 0.12658780813217163, 0.03490220010280609, 0.058254390954971313, 0.07131262868642807, 0.0, 0.0, 0.0, 0.0, 0.0, 0.0, 0.0, 0.0, 0.0, 0.0, 0.0, 0.0, 0.0, 0.0, 0.0, 0.0, 0.0], [0.07047092914581299, 0.09600996971130371, 0.056215766817331314, 0.08699891716241837, 0.09934134036302567, 0.001629882026463747, 0.01240861788392067, 0.006380430888384581, 0.04101409390568733, 0.0634872168302536, 0.0018482207087799907, 0.11387647688388824, 0.07328981161117554, 0.002071295166388154, 0.07246164232492447, 0.20012763142585754, 0.002367780776694417, 0.0, 0.0, 0.0, 0.0, 0.0, 0.0, 0.0, 0.0, 0.0, 0.0, 0.0, 0.0, 0.0, 0.0, 0.0, 0.0], [0.05659443512558937, 0.08906208723783493, 0.04703240469098091, 0.09457869082689285, 0.08793889731168747, 0.001972168916836381, 0.01776769384741783, 0.005990443751215935, 0.060148678719997406, 0.08834976702928543, 0.0022637664806097746, 0.10461518168449402, 0.06079370900988579, 0.0025566245894879103, 0.07818629592657089, 0.1949600726366043, 0.0029299911111593246, 0.004259062465280294, 0.0, 0.0, 0.0, 0.0, 0.0, 0.0, 0.0, 0.0, 0.0, 0.0, 0.0, 0.0, 0.0, 0.0, 0.0], [0.15970614552497864, 0.026096446439623833, 0.045151762664318085, 0.034975774586200714, 0.08030673861503601, 0.0546904131770134, 0.04078544303774834, 0.02651304006576538, 0.027251912280917168, 0.039198148995637894, 0.05351432412862778, 0.048429183661937714, 0.06264267861843109, 0.05558212846517563, 0.05559666454792023, 0.04792952910065651, 0.05676339194178581, 0.04892299324274063, 0.03594321385025978, 0.0, 0.0, 0.0, 0.0, 0.0, 0.0, 0.0, 0.0, 0.0, 0.0, 0.0, 0.0, 0.0, 0.0], [0.08663134276866913, 0.09557443857192993, 0.03673809766769409, 0.06946704536676407, 0.05681458115577698, 0.008190206252038479, 0.022195851430296898, 0.007642814889550209, 0.031468287110328674, 0.07555204629898071, 0.00896526500582695, 0.05263478308916092, 0.04491105303168297, 0.009935051202774048, 0.04481375962495804, 0.15198464691638947, 0.01093339454382658, 0.007993673905730247, 0.16402556002140045, 0.013528089970350266, 0.0, 0.0, 0.0, 0.0, 0.0, 0.0, 0.0, 0.0, 0.0, 0.0, 0.0, 0.0, 0.0], [0.047834545373916626, 0.06669354438781738, 0.03798922896385193, 0.06040371581912041, 0.06899048388004303, 0.0010267323814332485, 0.008172682486474514, 0.0041581750847399235, 0.02826833538711071, 0.044072456657886505, 0.001158647472038865, 0.0783291831612587, 0.050828978419303894, 0.0013004965148866177, 0.04904302954673767, 0.14144983887672424, 0.0014934380305930972, 0.002556684659793973, 0.1753406524658203, 0.12910208106040955, 0.0017870593583211303, 0.0, 0.0, 0.0, 0.0, 0.0, 0.0, 0.0, 0.0, 0.0, 0.0, 0.0, 0.0], [0.04114091768860817, 0.04766075685620308, 0.0358700156211853, 0.06666099280118942, 0.07969272881746292, 0.0023650801740586758, 0.0203402042388916, 0.004854496102780104, 0.06436207890510559, 0.06737162917852402, 0.0027073672972619534, 0.05596053972840309, 0.05648667365312576, 0.0030767268035560846, 0.05354386195540428, 0.15165917575359344, 0.003539720783010125, 0.0046739401295781136, 0.16402709484100342, 0.059681545943021774, 0.004154944326728582, 0.010169501416385174, 0.0, 0.0, 0.0, 0.0, 0.0, 0.0, 0.0, 0.0, 0.0, 0.0, 0.0], [0.06628809124231339, 0.040925413370132446, 0.027322685346007347, 0.04505366459488869, 0.06575220078229904, 0.015657581388950348, 0.027881883084774017, 0.013711245730519295, 0.03174295276403427, 0.05280746892094612, 0.015447772108018398, 0.03218110278248787, 0.03290106728672981, 0.016298862174153328, 0.026636650785803795, 0.09772846847772598, 0.017114218324422836, 0.016919447109103203, 0.09847062826156616, 0.047879092395305634, 0.018412547186017036, 0.015331590548157692, 0.17753535509109497, 0.0, 0.0, 0.0, 0.0, 0.0, 0.0, 0.0, 0.0, 0.0, 0.0], [0.09801442176103592, 0.02632882446050644, 0.03586815297603607, 0.05713057890534401, 0.06943875551223755, 0.012128966860473156, 0.02090909145772457, 0.008747960440814495, 0.026999657973647118, 0.037266805768013, 0.011716339737176895, 0.084995336830616, 0.05501335486769676, 0.012196718715131283, 0.03563913702964783, 0.08789654821157455, 0.012970122508704662, 0.010851007886230946, 0.06408379971981049, 0.05963919311761856, 0.014492174610495567, 0.006093726027756929, 0.09761442989110947, 0.05396492779254913, 0.0, 0.0, 0.0, 0.0, 0.0, 0.0, 0.0, 0.0, 0.0], [0.027693241834640503, 0.04073771834373474, 0.03122354857623577, 0.0587904118001461, 0.05601828545331955, 0.0015714779729023576, 0.011908057145774364, 0.0033397909719496965, 0.05176559463143349, 0.052912499755620956, 0.0018259824719280005, 0.060300324112176895, 0.02835717424750328, 0.0020878079812973738, 0.05086479336023331, 0.07898829132318497, 0.0023987088352441788, 0.0029048239812254906, 0.11135726422071457, 0.04586013779044151, 0.0028849204536527395, 0.011431227438151836, 0.12340559810400009, 0.13488472998142242, 0.006487553007900715, 0.0, 0.0, 0.0, 0.0, 0.0, 0.0, 0.0, 0.0], [0.15390771627426147, 0.023786772042512894, 0.053202442824840546, 0.03963884711265564, 0.05711054429411888, 0.015628943219780922, 0.02020609751343727, 0.009252374991774559, 0.021311862394213676, 0.029029937461018562, 0.014741916209459305, 0.061238355934619904, 0.10112595558166504, 0.015157846733927727, 0.04335399717092514, 0.04090716317296028, 0.015732688829302788, 0.02007341757416725, 0.05374931916594505, 0.034686170518398285, 0.01698937825858593, 0.006368492729961872, 0.04042017087340355, 0.031060384586453438, 0.013937157578766346, 0.06738200038671494, 0.0, 0.0, 0.0, 0.0, 0.0, 0.0, 0.0], [0.08555092662572861, 0.035057418048381805, 0.058852605521678925, 0.03497907519340515, 0.051787368953228, 0.0025119928177446127, 0.004151219502091408, 0.0020859139040112495, 0.014081109315156937, 0.024491367861628532, 0.0023760036565363407, 0.09535107016563416, 0.07766138762235641, 0.0024908841587603092, 0.045726798474788666, 0.05774111673235893, 0.0026603788137435913, 0.0033477572724223137, 0.04799824208021164, 0.026788828894495964, 0.002958716358989477, 0.004655783995985985, 0.03607097640633583, 0.021599167957901955, 0.00478863250464201, 0.22052203118801117, 0.033713068813085556, 0.0, 0.0, 0.0, 0.0, 0.0, 0.0], [0.020706722512841225, 0.03719402849674225, 0.01972370781004429, 0.03894226998090744, 0.031827013939619064, 0.0012253692839294672, 0.008815758861601353, 0.0024052916560322046, 0.034579601138830185, 0.0472981221973896, 0.0013953744200989604, 0.05148207023739815, 0.020486723631620407, 0.0015608371468260884, 0.03826119378209114, 0.048637524247169495, 0.0017825355753302574, 0.002544605638831854, 0.0654134526848793, 0.041885603219270706, 0.0020960599649697542, 0.009401376359164715, 0.08460032939910889, 0.09019993245601654, 0.0054032751359045506, 0.22932563722133636, 0.05692264065146446, 0.0058829160407185555, 0.0, 0.0, 0.0, 0.0, 0.0], [0.08582810312509537, 0.03967176750302315, 0.014841822907328606, 0.05653616413474083, 0.059606119990348816, 0.006987516302615404, 0.010110101662576199, 0.0028877242002636194, 0.015322842635214329, 0.025928789749741554, 0.006830436643213034, 0.03354891762137413, 0.021093541756272316, 0.007213156670331955, 0.019323401153087616, 0.05298222228884697, 0.007658630143851042, 0.00515784090384841, 0.06523178517818451, 0.018170006573200226, 0.008534700609743595, 0.004368162248283625, 0.026912426576018333, 0.04962792992591858, 0.004404326900839806, 0.19388669729232788, 0.03933224081993103, 0.005363548640161753, 0.11263900995254517, 0.0, 0.0, 0.0, 0.0], [0.0704035609960556, 0.05926162376999855, 0.015334843657910824, 0.024139035493135452, 0.01572883501648903, 0.019492093473672867, 0.01731155253946781, 0.017303068190813065, 0.020563269034028053, 0.045155856758356094, 0.021815821528434753, 0.07079726457595825, 0.030063915997743607, 0.02354060299694538, 0.02068447135388851, 0.021163664758205414, 0.026445159688591957, 0.02354004792869091, 0.05663726106286049, 0.0336947925388813, 0.030707333236932755, 0.015993352979421616, 0.015474094077944756, 0.03080361895263195, 0.03180558979511261, 0.07969612628221512, 0.03437482565641403, 0.03453713655471802, 0.030624378472566605, 0.06290683150291443, 0.0, 0.0, 0.0], [0.053385086357593536, 0.029621547088027, 0.02103007771074772, 0.02369571290910244, 0.033436376601457596, 0.018393803387880325, 0.024060716852545738, 0.022809989750385284, 0.01397235319018364, 0.028813548386096954, 0.019059740006923676, 0.015371959656476974, 0.02533532865345478, 0.019971946254372597, 0.014075749553740025, 0.03884449973702431, 0.021346254274249077, 0.019321413710713387, 0.05632658302783966, 0.021359995007514954, 0.023394567891955376, 0.023136626929044724, 0.06416375935077667, 0.06724686175584793, 0.03469502925872803, 0.04349025711417198, 0.030327249318361282, 0.032857123762369156, 0.05327511951327324, 0.0659981444478035, 0.041182491928339005, 0.0, 0.0], [0.18177096545696259, 0.01953315921127796, 0.028002887964248657, 0.029110180214047432, 0.04134830832481384, 0.018019484356045723, 0.01047174446284771, 0.008382911793887615, 0.015335788019001484, 0.021839449182152748, 0.016893351450562477, 0.03806138038635254, 0.03643867000937462, 0.017464254051446915, 0.02612907811999321, 0.040115002542734146, 0.018317237496376038, 0.012488200329244137, 0.051369696855545044, 0.01944383606314659, 0.019889749586582184, 0.0035764502827078104, 0.026232970878481865, 0.01842917688190937, 0.011723724193871021, 0.03272991627454758, 0.03480822965502739, 0.012035049498081207, 0.0603029727935791, 0.007873302325606346, 0.042272958904504776, 0.07958996295928955, 0.0], [0.015003406442701817, 0.020334847271442413, 0.007813435047864914, 0.0165536031126976, 0.016466116532683372, 0.00023809712729416788, 0.00195989734493196, 0.0006898249848745763, 0.006483228877186775, 0.010734094306826591, 0.0002443527337163687, 0.01463466975837946, 0.00924761313945055, 0.00026059173978865147, 0.009339923970401287, 0.04272651672363281, 0.00028863971238024533, 0.0003811674250755459, 0.054749321192502975, 0.09452776610851288, 0.00034211351885460317, 0.0017270173411816359, 0.04745934531092644, 0.026613786816596985, 0.001023867167532444, 0.16537980735301971, 0.014187109656631947, 0.0013092351146042347, 0.04770649969577789, 0.011198489926755428, 0.22050772607326508, 0.13942603766918182, 0.00044186305603943765]], [[1.0, 0.0, 0.0, 0.0, 0.0, 0.0, 0.0, 0.0, 0.0, 0.0, 0.0, 0.0, 0.0, 0.0, 0.0, 0.0, 0.0, 0.0, 0.0, 0.0, 0.0, 0.0, 0.0, 0.0, 0.0, 0.0, 0.0, 0.0, 0.0, 0.0, 0.0, 0.0, 0.0], [0.9333657622337341, 0.0666341781616211, 0.0, 0.0, 0.0, 0.0, 0.0, 0.0, 0.0, 0.0, 0.0, 0.0, 0.0, 0.0, 0.0, 0.0, 0.0, 0.0, 0.0, 0.0, 0.0, 0.0, 0.0, 0.0, 0.0, 0.0, 0.0, 0.0, 0.0, 0.0, 0.0, 0.0, 0.0], [0.3245235085487366, 0.5923720002174377, 0.08310449868440628, 0.0, 0.0, 0.0, 0.0, 0.0, 0.0, 0.0, 0.0, 0.0, 0.0, 0.0, 0.0, 0.0, 0.0, 0.0, 0.0, 0.0, 0.0, 0.0, 0.0, 0.0, 0.0, 0.0, 0.0, 0.0, 0.0, 0.0, 0.0, 0.0, 0.0], [0.14159773290157318, 0.5143812894821167, 0.2814408242702484, 0.0625801533460617, 0.0, 0.0, 0.0, 0.0, 0.0, 0.0, 0.0, 0.0, 0.0, 0.0, 0.0, 0.0, 0.0, 0.0, 0.0, 0.0, 0.0, 0.0, 0.0, 0.0, 0.0, 0.0, 0.0, 0.0, 0.0, 0.0, 0.0, 0.0, 0.0], [0.252623051404953, 0.058340851217508316, 0.10458880662918091, 0.4411153197288513, 0.14333203434944153, 0.0, 0.0, 0.0, 0.0, 0.0, 0.0, 0.0, 0.0, 0.0, 0.0, 0.0, 0.0, 0.0, 0.0, 0.0, 0.0, 0.0, 0.0, 0.0, 0.0, 0.0, 0.0, 0.0, 0.0, 0.0, 0.0, 0.0, 0.0], [0.18051552772521973, 0.09828902035951614, 0.1087397038936615, 0.12262704968452454, 0.09995555132627487, 0.3898731768131256, 0.0, 0.0, 0.0, 0.0, 0.0, 0.0, 0.0, 0.0, 0.0, 0.0, 0.0, 0.0, 0.0, 0.0, 0.0, 0.0, 0.0, 0.0, 0.0, 0.0, 0.0, 0.0, 0.0, 0.0, 0.0, 0.0, 0.0], [0.17192277312278748, 0.023320965468883514, 0.12332727015018463, 0.06076500192284584, 0.0597173310816288, 0.3475916087627411, 0.2133551687002182, 0.0, 0.0, 0.0, 0.0, 0.0, 0.0, 0.0, 0.0, 0.0, 0.0, 0.0, 0.0, 0.0, 0.0, 0.0, 0.0, 0.0, 0.0, 0.0, 0.0, 0.0, 0.0, 0.0, 0.0, 0.0, 0.0], [0.09627033025026321, 0.04683608561754227, 0.028257278725504875, 0.03239244967699051, 0.0586504228413105, 0.15829339623451233, 0.30996519327163696, 0.2693348526954651, 0.0, 0.0, 0.0, 0.0, 0.0, 0.0, 0.0, 0.0, 0.0, 0.0, 0.0, 0.0, 0.0, 0.0, 0.0, 0.0, 0.0, 0.0, 0.0, 0.0, 0.0, 0.0, 0.0, 0.0, 0.0], [0.09948235750198364, 0.06464187055826187, 0.028671815991401672, 0.07305687665939331, 0.029787199571728706, 0.13960020244121552, 0.2075471132993698, 0.26580214500427246, 0.09141045808792114, 0.0, 0.0, 0.0, 0.0, 0.0, 0.0, 0.0, 0.0, 0.0, 0.0, 0.0, 0.0, 0.0, 0.0, 0.0, 0.0, 0.0, 0.0, 0.0, 0.0, 0.0, 0.0, 0.0, 0.0], [0.05632041022181511, 0.029885826632380486, 0.013419928960502148, 0.002407551510259509, 0.01324550062417984, 0.04564540833234787, 0.0552256777882576, 0.10027094185352325, 0.65799880027771, 0.02558002807199955, 0.0, 0.0, 0.0, 0.0, 0.0, 0.0, 0.0, 0.0, 0.0, 0.0, 0.0, 0.0, 0.0, 0.0, 0.0, 0.0, 0.0, 0.0, 0.0, 0.0, 0.0, 0.0, 0.0], [0.04266990348696709, 0.010426477529108524, 0.010652217082679272, 0.013446626253426075, 0.0093531534075737, 0.0401596836745739, 0.07105173915624619, 0.13737636804580688, 0.10423272103071213, 0.21736647188663483, 0.3432646691799164, 0.0, 0.0, 0.0, 0.0, 0.0, 0.0, 0.0, 0.0, 0.0, 0.0, 0.0, 0.0, 0.0, 0.0, 0.0, 0.0, 0.0, 0.0, 0.0, 0.0, 0.0, 0.0], [0.029683904722332954, 0.0025616397615522146, 0.004407486412674189, 0.0342487134039402, 0.014238758943974972, 0.028001852333545685, 0.022288072854280472, 0.07105956226587296, 0.040262337774038315, 0.5543045401573181, 0.17333020269870758, 0.025612978264689445, 0.0, 0.0, 0.0, 0.0, 0.0, 0.0, 0.0, 0.0, 0.0, 0.0, 0.0, 0.0, 0.0, 0.0, 0.0, 0.0, 0.0, 0.0, 0.0, 0.0, 0.0], [0.04039594531059265, 0.008631587959825993, 0.00549420528113842, 0.0038641467690467834, 0.023363158106803894, 0.027207013219594955, 0.025677334517240524, 0.05048510804772377, 0.05105620250105858, 0.05041772499680519, 0.1416429877281189, 0.5115290880203247, 0.060235630720853806, 0.0, 0.0, 0.0, 0.0, 0.0, 0.0, 0.0, 0.0, 0.0, 0.0, 0.0, 0.0, 0.0, 0.0, 0.0, 0.0, 0.0, 0.0, 0.0, 0.0], [0.028706349432468414, 0.004808461759239435, 0.004723649471998215, 0.005382598377764225, 0.0034560407511889935, 0.014470156282186508, 0.024037351831793785, 0.041626181453466415, 0.035672906786203384, 0.07060740888118744, 0.10830996930599213, 0.058116111904382706, 0.206212118268013, 0.39387068152427673, 0.0, 0.0, 0.0, 0.0, 0.0, 0.0, 0.0, 0.0, 0.0, 0.0, 0.0, 0.0, 0.0, 0.0, 0.0, 0.0, 0.0, 0.0, 0.0], [0.053426433354616165, 0.011923306621611118, 0.015572242438793182, 0.0021123255137354136, 0.005851047579199076, 0.022170918062329292, 0.038184717297554016, 0.027411550283432007, 0.05464288964867592, 0.04910827800631523, 0.12328368425369263, 0.05287174507975578, 0.07545656710863113, 0.3701530992984772, 0.09783117473125458, 0.0, 0.0, 0.0, 0.0, 0.0, 0.0, 0.0, 0.0, 0.0, 0.0, 0.0, 0.0, 0.0, 0.0, 0.0, 0.0, 0.0, 0.0], [0.008346742019057274, 0.0002785284596029669, 0.0011786024551838636, 0.0021395564544945955, 0.0024761755485087633, 0.0029182906728237867, 0.004576916806399822, 0.003965600393712521, 0.004973031114786863, 0.011347796767950058, 0.013014042750000954, 0.005545968655496836, 0.020895568653941154, 0.038385506719350815, 0.8750315308570862, 0.0049262032844126225, 0.0, 0.0, 0.0, 0.0, 0.0, 0.0, 0.0, 0.0, 0.0, 0.0, 0.0, 0.0, 0.0, 0.0, 0.0, 0.0, 0.0], [0.02170032635331154, 0.0026786699891090393, 0.0023839266505092382, 0.0028156302869319916, 0.001556233735755086, 0.006139394827187061, 0.009039807133376598, 0.013740858063101768, 0.012412221170961857, 0.024686604738235474, 0.034069087356328964, 0.01756150647997856, 0.06082955002784729, 0.12004047632217407, 0.11516804248094559, 0.1266368329524994, 0.42854082584381104, 0.0, 0.0, 0.0, 0.0, 0.0, 0.0, 0.0, 0.0, 0.0, 0.0, 0.0, 0.0, 0.0, 0.0, 0.0, 0.0], [0.019681474193930626, 0.002866194350644946, 0.002752869389951229, 0.002364203566685319, 0.0022205801215022802, 0.0047769746743142605, 0.0050153969787061214, 0.007020782679319382, 0.006603009067475796, 0.015824927017092705, 0.021779146045446396, 0.022375917062163353, 0.039055563509464264, 0.07342646270990372, 0.07227557897567749, 0.08103618025779724, 0.2556321322917938, 0.36529257893562317, 0.0, 0.0, 0.0, 0.0, 0.0, 0.0, 0.0, 0.0, 0.0, 0.0, 0.0, 0.0, 0.0, 0.0, 0.0], [0.03443866968154907, 0.0024295083712786436, 0.0027038787957280874, 0.0010108944261446595, 0.0028212489560246468, 0.009310663677752018, 0.007474082987755537, 0.010526389814913273, 0.019342593848705292, 0.006583396811038256, 0.03052522987127304, 0.008166560903191566, 0.02394566312432289, 0.08047986775636673, 0.04428934305906296, 0.04886510968208313, 0.2326633483171463, 0.38709694147109985, 0.04732649028301239, 0.0, 0.0, 0.0, 0.0, 0.0, 0.0, 0.0, 0.0, 0.0, 0.0, 0.0, 0.0, 0.0, 0.0], [0.003697680775076151, 0.006450964137911797, 0.0004921728395856917, 0.00030696039902977645, 0.00012400784180499613, 0.0010727389017120004, 0.0008858777000568807, 0.0013806356582790613, 0.0008200178272090852, 0.00027311858139000833, 0.002783064963296056, 0.03529428690671921, 0.0035613682121038437, 0.007148319855332375, 0.00164740567561239, 0.01673170179128647, 0.01917283609509468, 0.022339290007948875, 0.87336665391922, 0.002450949978083372, 0.0, 0.0, 0.0, 0.0, 0.0, 0.0, 0.0, 0.0, 0.0, 0.0, 0.0, 0.0, 0.0], [0.013628801330924034, 0.0014384463429450989, 0.0012188648106530309, 0.0012915896950289607, 0.0006118051242083311, 0.00214004167355597, 0.002746961312368512, 0.003336046589538455, 0.0030918745324015617, 0.005988927558064461, 0.007237223908305168, 0.0035477501805871725, 0.012891982682049274, 0.022229192778468132, 0.02082427404820919, 0.026295306161046028, 0.07648175954818726, 0.16261418163776398, 0.12638676166534424, 0.10034424066543579, 0.4056537449359894, 0.0, 0.0, 0.0, 0.0, 0.0, 0.0, 0.0, 0.0, 0.0, 0.0, 0.0, 0.0], [0.021432925015687943, 0.0007291653309948742, 0.0010889697587117553, 0.0008559623965993524, 0.001055662869475782, 0.0023542458657175303, 0.0018633354920893908, 0.0024869930930435658, 0.004011375363916159, 0.00364563032053411, 0.006636619567871094, 0.002459170063957572, 0.00810664426535368, 0.019501421600580215, 0.013945500366389751, 0.01683158613741398, 0.06727868318557739, 0.10203752666711807, 0.07506177574396133, 0.03785498067736626, 0.347415953874588, 0.2633459270000458, 0.0, 0.0, 0.0, 0.0, 0.0, 0.0, 0.0, 0.0, 0.0, 0.0, 0.0], [0.018374428153038025, 0.0016340098809450865, 0.0002648663066793233, 0.0006277105421759188, 0.0007212911150418222, 0.0022947124671190977, 0.00143757916521281, 0.0024335708003491163, 0.0010225055739283562, 0.0021730989683419466, 0.005665965378284454, 0.0005857074283994734, 0.004730302840471268, 0.01578967459499836, 0.009121052920818329, 0.006447893567383289, 0.04965191334486008, 0.07221092283725739, 0.045304298400878906, 0.022536201402544975, 0.23380517959594727, 0.2810091972351074, 0.22215791046619415, 0.0, 0.0, 0.0, 0.0, 0.0, 0.0, 0.0, 0.0, 0.0, 0.0], [0.016010329127311707, 0.00041907787090167403, 0.0016793196555227041, 0.0020331689156591892, 0.0011126077733933926, 0.0023041239473968744, 0.0016414932906627655, 0.002045230008661747, 0.000882646709214896, 0.0035318261943757534, 0.00466074887663126, 0.0011461306130513549, 0.004025283269584179, 0.011729487217962742, 0.006906012073159218, 0.005978978238999844, 0.034136220812797546, 0.05391986668109894, 0.07536924630403519, 0.015544136986136436, 0.15307267010211945, 0.2167247235774994, 0.232673779129982, 0.15245290100574493, 0.0, 0.0, 0.0, 0.0, 0.0, 0.0, 0.0, 0.0, 0.0], [0.016415521502494812, 0.0010881014168262482, 0.001302705379202962, 0.0012335673673078418, 0.001032525789923966, 0.0013605315471068025, 0.001135276979766786, 0.0009713196777738631, 0.0017580294515937567, 0.0023549972102046013, 0.002267800271511078, 0.002617011545225978, 0.003284967038780451, 0.00556445075199008, 0.007287748157978058, 0.006582663860172033, 0.016911089420318604, 0.023348122835159302, 0.033363837748765945, 0.01206082571297884, 0.08410528302192688, 0.10776964575052261, 0.1274135857820511, 0.25009578466415405, 0.28867462277412415, 0.0, 0.0, 0.0, 0.0, 0.0, 0.0, 0.0, 0.0], [0.031117649748921394, 0.0015063050668686628, 0.0010839306050911546, 0.002421518787741661, 0.0013826844515278935, 0.003793716663494706, 0.0016339313006028533, 0.0031195073388516903, 0.0012812612112611532, 0.00206852238625288, 0.004760100040584803, 0.0008757322793826461, 0.00859210453927517, 0.00935366190969944, 0.01199321635067463, 0.005963000003248453, 0.02202819101512432, 0.034113239496946335, 0.009586775675415993, 0.013681803829967976, 0.08417049795389175, 0.08917807042598724, 0.10806846618652344, 0.15560784935951233, 0.37236887216567993, 0.02024948038160801, 0.0, 0.0, 0.0, 0.0, 0.0, 0.0, 0.0], [0.014838512055575848, 0.0005757322069257498, 0.004743661731481552, 0.0004567744326777756, 0.0007412293343804777, 0.0015000012936070561, 0.0008866096613928676, 0.0008452076581306756, 0.00010359290899941698, 0.0009065126068890095, 0.0018096765270456672, 0.060291122645139694, 0.0015377571107819676, 0.003307946491986513, 0.0013713639928027987, 0.002082674764096737, 0.008644012734293938, 0.009088866412639618, 0.007760963402688503, 0.005808324087411165, 0.03386508673429489, 0.039871878921985626, 0.053745683282613754, 0.036947742104530334, 0.12259428203105927, 0.5718702673912048, 0.013804447837173939, 0.0, 0.0, 0.0, 0.0, 0.0, 0.0], [0.01856997236609459, 0.0012143147177994251, 0.0012880449648946524, 0.0010612562764436007, 0.0007490035495720804, 0.0010485622333362699, 0.0008687888621352613, 0.0005973855149932206, 0.0012938276631757617, 0.0014042491093277931, 0.001105510164052248, 0.000500346242915839, 0.002026255475357175, 0.0021463148295879364, 0.0028737937100231647, 0.002641364699229598, 0.005802986212074757, 0.008191369473934174, 0.008339072577655315, 0.0055432929657399654, 0.02655872330069542, 0.033089183270931244, 0.032507505267858505, 0.0919986292719841, 0.10410479456186295, 0.16861779987812042, 0.20895420014858246, 0.26690351963043213, 0.0, 0.0, 0.0, 0.0, 0.0], [0.016654420644044876, 0.0007248639012686908, 0.0008980655111372471, 0.003161686472594738, 0.0005522815627045929, 0.0016607227735221386, 0.0007486113463528454, 0.0009652775479480624, 0.00038427941035479307, 0.002257777377963066, 0.0015545581700280309, 0.0007036994211375713, 0.0014688150258734822, 0.0027998785953968763, 0.0030139791779220104, 0.005369034130126238, 0.0065523600205779076, 0.008701574057340622, 0.00713886646553874, 0.006516313645988703, 0.026185570284724236, 0.03929194435477257, 0.031550150364637375, 0.024343056604266167, 0.10670758783817291, 0.1515977680683136, 0.13674208521842957, 0.32013973593711853, 0.09161506593227386, 0.0, 0.0, 0.0, 0.0], [0.03722669184207916, 0.0007442689966410398, 0.001918029272928834, 0.001429060474038124, 0.002559727057814598, 0.00329282833263278, 0.0009007261833176017, 0.0015445065218955278, 0.00035572078195400536, 0.0004492719890549779, 0.0026688119396567345, 0.001404662150889635, 0.0017280909232795238, 0.00454272935166955, 0.001294102519750595, 0.004677656572312117, 0.009138227440416813, 0.008992967195808887, 0.005343653727322817, 0.002031831070780754, 0.03093087114393711, 0.021215258166193962, 0.036399878561496735, 0.05679462477564812, 0.11195959150791168, 0.011458096094429493, 0.03353280946612358, 0.26588574051856995, 0.2469538301229477, 0.09262574464082718, 0.0, 0.0, 0.0], [0.044088736176490784, 0.0011082952842116356, 0.003387591801583767, 0.004853186197578907, 0.002864330541342497, 0.004500849172472954, 0.0014518143143504858, 0.0021924972534179688, 0.0007902386132627726, 0.0006717386422678828, 0.0035771506372839212, 0.000513178005348891, 0.01286171842366457, 0.005116867832839489, 0.0030142497271299362, 0.005887471139431, 0.01045344676822424, 0.013818323612213135, 0.00869107898324728, 0.01122926827520132, 0.0314008891582489, 0.023181671276688576, 0.03044433519244194, 0.035206831991672516, 0.09999866783618927, 0.006090173963457346, 0.14714208245277405, 0.16392986476421356, 0.12749558687210083, 0.19357793033123016, 0.00045999203575775027, 0.0, 0.0], [0.03717408329248428, 0.0050068870186805725, 0.0016112308949232101, 0.002830151002854109, 0.0005118496483191848, 0.0027071242220699787, 0.002097034826874733, 0.0012328772572800517, 0.000631089264061302, 0.0017632500967010856, 0.0017868801951408386, 0.0002528335899114609, 0.0010720733553171158, 0.0026448373682796955, 0.0015661597717553377, 0.003808405250310898, 0.005276760086417198, 0.0069302660413086414, 0.013310849666595459, 0.0035816445015370846, 0.018304480239748955, 0.02668476477265358, 0.01997155137360096, 0.032155781984329224, 0.07432039827108383, 0.023922258988022804, 0.08761460334062576, 0.18007557094097137, 0.027492590248584747, 0.059722576290369034, 0.19122695922851562, 0.1627121865749359, 0.0], [0.008116943761706352, 0.0008723050123080611, 0.00037072962732054293, 0.00047348716179840267, 0.0001783299958333373, 0.00039947015466168523, 0.00029511767206713557, 0.0001831200934248045, 0.00016714571393094957, 0.00023702492762822658, 0.0002533362421672791, 0.00012855044042225927, 0.00020213235984556377, 0.0003994495782535523, 0.0001651183993089944, 0.00046228599967435, 0.0008780263015069067, 0.0011140492279082537, 0.0020708846859633923, 0.0019636766519397497, 0.003527857828885317, 0.004475216846913099, 0.00446351058781147, 0.0073125334456563, 0.014446252956986427, 0.035030584782361984, 0.020014168694615364, 0.04388570412993431, 0.019436795264482498, 0.11325746774673462, 0.07277614623308182, 0.16196827590465546, 0.4804743230342865]], [[1.0, 0.0, 0.0, 0.0, 0.0, 0.0, 0.0, 0.0, 0.0, 0.0, 0.0, 0.0, 0.0, 0.0, 0.0, 0.0, 0.0, 0.0, 0.0, 0.0, 0.0, 0.0, 0.0, 0.0, 0.0, 0.0, 0.0, 0.0, 0.0, 0.0, 0.0, 0.0, 0.0], [0.947374701499939, 0.05262523517012596, 0.0, 0.0, 0.0, 0.0, 0.0, 0.0, 0.0, 0.0, 0.0, 0.0, 0.0, 0.0, 0.0, 0.0, 0.0, 0.0, 0.0, 0.0, 0.0, 0.0, 0.0, 0.0, 0.0, 0.0, 0.0, 0.0, 0.0, 0.0, 0.0, 0.0, 0.0], [0.8785884380340576, 0.05539457127451897, 0.06601688265800476, 0.0, 0.0, 0.0, 0.0, 0.0, 0.0, 0.0, 0.0, 0.0, 0.0, 0.0, 0.0, 0.0, 0.0, 0.0, 0.0, 0.0, 0.0, 0.0, 0.0, 0.0, 0.0, 0.0, 0.0, 0.0, 0.0, 0.0, 0.0, 0.0, 0.0], [0.7270770072937012, 0.13709871470928192, 0.04866093024611473, 0.08716334402561188, 0.0, 0.0, 0.0, 0.0, 0.0, 0.0, 0.0, 0.0, 0.0, 0.0, 0.0, 0.0, 0.0, 0.0, 0.0, 0.0, 0.0, 0.0, 0.0, 0.0, 0.0, 0.0, 0.0, 0.0, 0.0, 0.0, 0.0, 0.0, 0.0], [0.4651745855808258, 0.13429313898086548, 0.15358175337314606, 0.17472535371780396, 0.0722251906991005, 0.0, 0.0, 0.0, 0.0, 0.0, 0.0, 0.0, 0.0, 0.0, 0.0, 0.0, 0.0, 0.0, 0.0, 0.0, 0.0, 0.0, 0.0, 0.0, 0.0, 0.0, 0.0, 0.0, 0.0, 0.0, 0.0, 0.0, 0.0], [0.1703595221042633, 0.01184189971536398, 0.023650841787457466, 0.02174578793346882, 0.025856340304017067, 0.746545672416687, 0.0, 0.0, 0.0, 0.0, 0.0, 0.0, 0.0, 0.0, 0.0, 0.0, 0.0, 0.0, 0.0, 0.0, 0.0, 0.0, 0.0, 0.0, 0.0, 0.0, 0.0, 0.0, 0.0, 0.0, 0.0, 0.0, 0.0], [0.14214575290679932, 0.04383263736963272, 0.05021175369620323, 0.04516499489545822, 0.05872127786278725, 0.5111536979675293, 0.14876984059810638, 0.0, 0.0, 0.0, 0.0, 0.0, 0.0, 0.0, 0.0, 0.0, 0.0, 0.0, 0.0, 0.0, 0.0, 0.0, 0.0, 0.0, 0.0, 0.0, 0.0, 0.0, 0.0, 0.0, 0.0, 0.0, 0.0], [0.08473358303308487, 0.020369788631796837, 0.037461601197719574, 0.031959064304828644, 0.03419603407382965, 0.43500712513923645, 0.11894049495458603, 0.23733223974704742, 0.0, 0.0, 0.0, 0.0, 0.0, 0.0, 0.0, 0.0, 0.0, 0.0, 0.0, 0.0, 0.0, 0.0, 0.0, 0.0, 0.0, 0.0, 0.0, 0.0, 0.0, 0.0, 0.0, 0.0, 0.0], [0.34230807423591614, 0.03593633323907852, 0.07259213924407959, 0.10352759063243866, 0.08196533471345901, 0.07694557309150696, 0.14196321368217468, 0.09896716475486755, 0.045794565230607986, 0.0, 0.0, 0.0, 0.0, 0.0, 0.0, 0.0, 0.0, 0.0, 0.0, 0.0, 0.0, 0.0, 0.0, 0.0, 0.0, 0.0, 0.0, 0.0, 0.0, 0.0, 0.0, 0.0, 0.0], [0.37114837765693665, 0.06278739124536514, 0.058069512248039246, 0.05566272512078285, 0.13124871253967285, 0.07535624504089355, 0.10726623982191086, 0.07924024015665054, 0.030107345432043076, 0.02911325916647911, 0.0, 0.0, 0.0, 0.0, 0.0, 0.0, 0.0, 0.0, 0.0, 0.0, 0.0, 0.0, 0.0, 0.0, 0.0, 0.0, 0.0, 0.0, 0.0, 0.0, 0.0, 0.0, 0.0], [0.0643010139465332, 0.005169095005840063, 0.01101298350840807, 0.009054869413375854, 0.011748083867132664, 0.31885048747062683, 0.03684946149587631, 0.08319540321826935, 0.012068134732544422, 0.014676228165626526, 0.43307432532310486, 0.0, 0.0, 0.0, 0.0, 0.0, 0.0, 0.0, 0.0, 0.0, 0.0, 0.0, 0.0, 0.0, 0.0, 0.0, 0.0, 0.0, 0.0, 0.0, 0.0, 0.0, 0.0], [0.2377793937921524, 0.03813000023365021, 0.01974334567785263, 0.07508022338151932, 0.14420805871486664, 0.06244920939207077, 0.07018382102251053, 0.06523606926202774, 0.04883209615945816, 0.0346003957092762, 0.06439767777919769, 0.13935965299606323, 0.0, 0.0, 0.0, 0.0, 0.0, 0.0, 0.0, 0.0, 0.0, 0.0, 0.0, 0.0, 0.0, 0.0, 0.0, 0.0, 0.0, 0.0, 0.0, 0.0, 0.0], [0.29014480113983154, 0.040857672691345215, 0.06965619325637817, 0.06467736512422562, 0.11515607684850693, 0.0727943629026413, 0.05406034737825394, 0.040960002690553665, 0.036461178213357925, 0.03709699213504791, 0.08112161606550217, 0.06249440833926201, 0.03451892361044884, 0.0, 0.0, 0.0, 0.0, 0.0, 0.0, 0.0, 0.0, 0.0, 0.0, 0.0, 0.0, 0.0, 0.0, 0.0, 0.0, 0.0, 0.0, 0.0, 0.0], [0.041916023939847946, 0.003388058627024293, 0.0070823621936142445, 0.005899194628000259, 0.007586196064949036, 0.20389804244041443, 0.023296749219298363, 0.051730647683143616, 0.007816798985004425, 0.00973138865083456, 0.27760183811187744, 0.008386741392314434, 0.016172705218195915, 0.33549317717552185, 0.0, 0.0, 0.0, 0.0, 0.0, 0.0, 0.0, 0.0, 0.0, 0.0, 0.0, 0.0, 0.0, 0.0, 0.0, 0.0, 0.0, 0.0, 0.0], [0.15129348635673523, 0.04240785166621208, 0.04383382573723793, 0.09706749767065048, 0.14943566918373108, 0.04439881071448326, 0.06174500286579132, 0.04199514910578728, 0.01860879547894001, 0.03141248971223831, 0.05092650279402733, 0.06660280376672745, 0.09416221082210541, 0.05761289969086647, 0.048496998846530914, 0.0, 0.0, 0.0, 0.0, 0.0, 0.0, 0.0, 0.0, 0.0, 0.0, 0.0, 0.0, 0.0, 0.0, 0.0, 0.0, 0.0, 0.0], [0.29958057403564453, 0.07432059943675995, 0.030061960220336914, 0.016736449673771858, 0.03856486827135086, 0.05106871947646141, 0.09408650547266006, 0.05606793239712715, 0.054582275450229645, 0.04522044584155083, 0.0563807338476181, 0.015378022566437721, 0.04082847759127617, 0.060846902430057526, 0.030811069533228874, 0.03546454757452011, 0.0, 0.0, 0.0, 0.0, 0.0, 0.0, 0.0, 0.0, 0.0, 0.0, 0.0, 0.0, 0.0, 0.0, 0.0, 0.0, 0.0], [0.030439922586083412, 0.002493379870429635, 0.005298194941133261, 0.004223377909511328, 0.005517447832971811, 0.14508458971977234, 0.016034133732318878, 0.03598643094301224, 0.0057580373249948025, 0.007398167159408331, 0.19613459706306458, 0.006090870127081871, 0.011465102434158325, 0.23737996816635132, 0.008031767792999744, 0.0058614774607121944, 0.27680256962776184, 0.0, 0.0, 0.0, 0.0, 0.0, 0.0, 0.0, 0.0, 0.0, 0.0, 0.0, 0.0, 0.0, 0.0, 0.0, 0.0], [0.01566893607378006, 0.0019133437890559435, 0.006747931241989136, 0.005610872060060501, 0.006710366811603308, 0.10858531296253204, 0.01343698613345623, 0.030674785375595093, 0.008698036894202232, 0.005958780646324158, 0.15696404874324799, 0.006401248276233673, 0.014357193373143673, 0.19220462441444397, 0.009938817471265793, 0.008154559880495071, 0.22861410677433014, 0.1793600618839264, 0.0, 0.0, 0.0, 0.0, 0.0, 0.0, 0.0, 0.0, 0.0, 0.0, 0.0, 0.0, 0.0, 0.0, 0.0], [0.27512073516845703, 0.04635608196258545, 0.025782743468880653, 0.020371073856949806, 0.04519136622548103, 0.04741498455405235, 0.05800832435488701, 0.054494623094797134, 0.02185581624507904, 0.0286741703748703, 0.050548005849123, 0.035789456218481064, 0.01434400212019682, 0.05505187436938286, 0.019970908761024475, 0.025070693343877792, 0.0598367378115654, 0.10591264814138412, 0.010205716826021671, 0.0, 0.0, 0.0, 0.0, 0.0, 0.0, 0.0, 0.0, 0.0, 0.0, 0.0, 0.0, 0.0, 0.0], [0.12210457772016525, 0.029006360098719597, 0.027926091104745865, 0.030763646587729454, 0.06431961804628372, 0.05075862631201744, 0.05746716260910034, 0.03854450210928917, 0.02881442941725254, 0.0364103727042675, 0.055306997150182724, 0.02755569852888584, 0.050623856484889984, 0.06039684638381004, 0.03790905699133873, 0.03416259214282036, 0.06550326943397522, 0.08224605023860931, 0.08903142064809799, 0.011148830875754356, 0.0, 0.0, 0.0, 0.0, 0.0, 0.0, 0.0, 0.0, 0.0, 0.0, 0.0, 0.0, 0.0], [0.01992274634540081, 0.0015991243999451399, 0.0035362751223146915, 0.0027606068179011345, 0.0036747585982084274, 0.0919857919216156, 0.009868205524981022, 0.02176271192729473, 0.0036746200639754534, 0.004800313618034124, 0.12327177077531815, 0.003948218189179897, 0.007727714255452156, 0.14901942014694214, 0.005094499327242374, 0.003849551547318697, 0.17433825135231018, 0.1450374573469162, 0.0031391854863613844, 0.0039015631191432476, 0.21708719432353973, 0.0, 0.0, 0.0, 0.0, 0.0, 0.0, 0.0, 0.0, 0.0, 0.0, 0.0, 0.0], [0.025169124826788902, 0.002589138690382242, 0.007904477417469025, 0.002818172564730048, 0.008317495696246624, 0.06284770369529724, 0.01609736867249012, 0.024833548814058304, 0.007658046204596758, 0.011317096650600433, 0.08451003581285477, 0.012135378085076809, 0.022048387676477432, 0.10017251968383789, 0.015103291720151901, 0.020152254030108452, 0.11906817555427551, 0.1414896845817566, 0.006576657295227051, 0.0070740594528615475, 0.14850665628910065, 0.1536107361316681, 0.0, 0.0, 0.0, 0.0, 0.0, 0.0, 0.0, 0.0, 0.0, 0.0, 0.0], [0.08679640293121338, 0.015818672254681587, 0.009913148358464241, 0.005941122770309448, 0.011749121360480785, 0.04402250796556473, 0.049411579966545105, 0.04721161723136902, 0.02244849130511284, 0.028144171461462975, 0.05249374359846115, 0.013664869591593742, 0.0380445159971714, 0.05856488645076752, 0.01600874401628971, 0.02853180095553398, 0.0675240010023117, 0.10004051774740219, 0.026074476540088654, 0.018165279179811478, 0.08061439543962479, 0.14588387310504913, 0.032932039350271225, 0.0, 0.0, 0.0, 0.0, 0.0, 0.0, 0.0, 0.0, 0.0, 0.0], [0.12203320115804672, 0.026796894147992134, 0.03471267595887184, 0.01660083420574665, 0.050986044108867645, 0.03362344950437546, 0.03376292064785957, 0.03289440646767616, 0.02276359125971794, 0.03469546139240265, 0.037108272314071655, 0.02750299870967865, 0.030508024618029594, 0.040704917162656784, 0.01940983161330223, 0.033388130366802216, 0.0460379496216774, 0.08141936361789703, 0.025792960077524185, 0.017713358625769615, 0.05326376110315323, 0.06955215334892273, 0.07340099662542343, 0.03532784804701805, 0.0, 0.0, 0.0, 0.0, 0.0, 0.0, 0.0, 0.0, 0.0], [0.012632707133889198, 0.0031967225950211287, 0.008999623358249664, 0.0037871026434004307, 0.005590223707258701, 0.06018747761845589, 0.010173027403652668, 0.026063378900289536, 0.00828032661229372, 0.005998448468744755, 0.08480241894721985, 0.0077557191252708435, 0.014807651750743389, 0.10079345852136612, 0.011636014096438885, 0.007885103113949299, 0.12061376869678497, 0.12819859385490417, 0.006487112492322922, 0.003230569651350379, 0.1504751294851303, 0.1055767759680748, 0.015480603091418743, 0.01902635209262371, 0.07832159101963043, 0.0, 0.0, 0.0, 0.0, 0.0, 0.0, 0.0, 0.0], [0.11176043003797531, 0.018635541200637817, 0.056223753839731216, 0.04677277058362961, 0.03736497834324837, 0.0229934174567461, 0.03136527165770531, 0.026408886536955833, 0.0433591827750206, 0.05663564056158066, 0.021786414086818695, 0.023822102695703506, 0.030641695484519005, 0.02328924648463726, 0.05430499464273453, 0.06881184875965118, 0.024489406496286392, 0.047770868986845016, 0.036271750926971436, 0.022222505882382393, 0.026998935267329216, 0.021766113117337227, 0.03442491218447685, 0.028240295127034187, 0.05891917645931244, 0.024719834327697754, 0.0, 0.0, 0.0, 0.0, 0.0, 0.0, 0.0], [0.10639800131320953, 0.037107910960912704, 0.08273953199386597, 0.017856834456324577, 0.02095002494752407, 0.018305255100131035, 0.02262009307742119, 0.018192265182733536, 0.021851181983947754, 0.012518542818725109, 0.019214104861021042, 0.0303400456905365, 0.0718761757016182, 0.02078801579773426, 0.03963523730635643, 0.061515942215919495, 0.023179320618510246, 0.043980423361063004, 0.0461922325193882, 0.02066798135638237, 0.027080919593572617, 0.04386551305651665, 0.03276738151907921, 0.043690718710422516, 0.050808440893888474, 0.04029492288827896, 0.025562990456819534, 0.0, 0.0, 0.0, 0.0, 0.0, 0.0], [0.015084565617144108, 0.0038223774172365665, 0.005877271760255098, 0.004971847403794527, 0.005370155908167362, 0.052236463874578476, 0.01612769067287445, 0.03182990103960037, 0.00821112934499979, 0.011473838239908218, 0.06704682856798172, 0.01052837260067463, 0.010598230175673962, 0.07938901335000992, 0.007211722433567047, 0.006271460559219122, 0.09142382442951202, 0.10866504162549973, 0.003973818849772215, 0.005621663760393858, 0.10983331501483917, 0.0923774316906929, 0.02296048402786255, 0.019314946606755257, 0.08864139765501022, 0.018464714288711548, 0.011022270657122135, 0.09165023267269135, 0.0, 0.0, 0.0, 0.0, 0.0], [0.09854133427143097, 0.039670590311288834, 0.050521425902843475, 0.04794388636946678, 0.019531894475221634, 0.015683403238654137, 0.025074772536754608, 0.014997926540672779, 0.027723420411348343, 0.01641819439828396, 0.0163890328258276, 0.026316525414586067, 0.03435923904180527, 0.01775800995528698, 0.023362675681710243, 0.037635158747434616, 0.01940564438700676, 0.03442167490720749, 0.049023013561964035, 0.030190538614988327, 0.022159097716212273, 0.03754062205553055, 0.03879312053322792, 0.04032416269183159, 0.0423126220703125, 0.06829196959733963, 0.025314129889011383, 0.043300703167915344, 0.03699523210525513, 0.0, 0.0, 0.0, 0.0], [0.10688826441764832, 0.03659575432538986, 0.005083090625703335, 0.010160423815250397, 0.013297372497618198, 0.041752029210329056, 0.026246828958392143, 0.03012857958674431, 0.013482394628226757, 0.018223203718662262, 0.04582624509930611, 0.025558803230524063, 0.0156188253313303, 0.05039890855550766, 0.011657029390335083, 0.011659136041998863, 0.05515527352690697, 0.05091657117009163, 0.019206803292036057, 0.01399842370301485, 0.06383462250232697, 0.029088884592056274, 0.0167104359716177, 0.026095274835824966, 0.05484981834888458, 0.03806678205728531, 0.03896074369549751, 0.05375226214528084, 0.023679126054048538, 0.05310812219977379, 0.0, 0.0, 0.0], [0.10871614515781403, 0.06286413967609406, 0.02304507978260517, 0.012493208050727844, 0.00968825351446867, 0.02372078038752079, 0.02561734989285469, 0.028282882645726204, 0.01952311210334301, 0.015187137760221958, 0.02461576648056507, 0.018855802714824677, 0.013071934692561626, 0.02569747343659401, 0.010639789514243603, 0.007336443290114403, 0.02848832681775093, 0.040875084698200226, 0.02369394339621067, 0.028460778295993805, 0.031781163066625595, 0.03399211913347244, 0.016904518008232117, 0.04699760302901268, 0.05480913072824478, 0.06048162654042244, 0.021137798205018044, 0.05147770047187805, 0.015304344706237316, 0.0786885991692543, 0.03755192831158638, 0.0, 0.0], [0.16510623693466187, 0.013307328335940838, 0.02282031439244747, 0.03222493454813957, 0.02832784131169319, 0.011912099085748196, 0.021759143099188805, 0.012591334991157055, 0.025371301919221878, 0.015923473984003067, 0.011745058000087738, 0.021340133622288704, 0.02265850454568863, 0.012097004801034927, 0.0587739497423172, 0.04114299267530441, 0.012866140343248844, 0.02189667895436287, 0.027385735884308815, 0.015412704087793827, 0.01482226699590683, 0.013198789209127426, 0.02906014211475849, 0.04031305015087128, 0.023036926984786987, 0.05035794898867607, 0.04650072753429413, 0.03221070393919945, 0.04574129730463028, 0.011448163539171219, 0.05148481950163841, 0.047162190079689026, 0.0], [0.019862718880176544, 0.000694136309903115, 0.0017670647939667106, 0.0019038181053474545, 0.002311582211405039, 0.05924386903643608, 0.00516495481133461, 0.008714542724192142, 0.00249066692776978, 0.0030579627491533756, 0.07585153728723526, 0.002390544395893812, 0.0031773499213159084, 0.08945118635892868, 0.0030652941204607487, 0.0016209166496992111, 0.10312050580978394, 0.0625915601849556, 0.0020582983270287514, 0.002232216065749526, 0.12742045521736145, 0.024703839793801308, 0.0035101950634270906, 0.004994184710085392, 0.02831711433827877, 0.005874202121049166, 0.006215340923517942, 0.036865588277578354, 0.005438105668872595, 0.0040618679486215115, 0.00473551731556654, 0.004534380044788122, 0.29255855083465576]], [[1.0, 0.0, 0.0, 0.0, 0.0, 0.0, 0.0, 0.0, 0.0, 0.0, 0.0, 0.0, 0.0, 0.0, 0.0, 0.0, 0.0, 0.0, 0.0, 0.0, 0.0, 0.0, 0.0, 0.0, 0.0, 0.0, 0.0, 0.0, 0.0, 0.0, 0.0, 0.0, 0.0], [0.9726406335830688, 0.027359340339899063, 0.0, 0.0, 0.0, 0.0, 0.0, 0.0, 0.0, 0.0, 0.0, 0.0, 0.0, 0.0, 0.0, 0.0, 0.0, 0.0, 0.0, 0.0, 0.0, 0.0, 0.0, 0.0, 0.0, 0.0, 0.0, 0.0, 0.0, 0.0, 0.0, 0.0, 0.0], [0.8850566744804382, 0.0816064327955246, 0.033336855471134186, 0.0, 0.0, 0.0, 0.0, 0.0, 0.0, 0.0, 0.0, 0.0, 0.0, 0.0, 0.0, 0.0, 0.0, 0.0, 0.0, 0.0, 0.0, 0.0, 0.0, 0.0, 0.0, 0.0, 0.0, 0.0, 0.0, 0.0, 0.0, 0.0, 0.0], [0.7844979166984558, 0.09046001732349396, 0.10720966756343842, 0.01783234067261219, 0.0, 0.0, 0.0, 0.0, 0.0, 0.0, 0.0, 0.0, 0.0, 0.0, 0.0, 0.0, 0.0, 0.0, 0.0, 0.0, 0.0, 0.0, 0.0, 0.0, 0.0, 0.0, 0.0, 0.0, 0.0, 0.0, 0.0, 0.0, 0.0], [0.6679065823554993, 0.10135097056627274, 0.10997914522886276, 0.0699087455868721, 0.050854507833719254, 0.0, 0.0, 0.0, 0.0, 0.0, 0.0, 0.0, 0.0, 0.0, 0.0, 0.0, 0.0, 0.0, 0.0, 0.0, 0.0, 0.0, 0.0, 0.0, 0.0, 0.0, 0.0, 0.0, 0.0, 0.0, 0.0, 0.0, 0.0], [0.5862790942192078, 0.06960924714803696, 0.06798023730516434, 0.060589659959077835, 0.08339768648147583, 0.13214410841464996, 0.0, 0.0, 0.0, 0.0, 0.0, 0.0, 0.0, 0.0, 0.0, 0.0, 0.0, 0.0, 0.0, 0.0, 0.0, 0.0, 0.0, 0.0, 0.0, 0.0, 0.0, 0.0, 0.0, 0.0, 0.0, 0.0, 0.0], [0.5015711188316345, 0.06227875128388405, 0.07209991663694382, 0.05590920150279999, 0.081468865275383, 0.12033165246248245, 0.10634058713912964, 0.0, 0.0, 0.0, 0.0, 0.0, 0.0, 0.0, 0.0, 0.0, 0.0, 0.0, 0.0, 0.0, 0.0, 0.0, 0.0, 0.0, 0.0, 0.0, 0.0, 0.0, 0.0, 0.0, 0.0, 0.0, 0.0], [0.40016114711761475, 0.055253978818655014, 0.0634768083691597, 0.05413787066936493, 0.07119619101285934, 0.11230524629354477, 0.12489718198776245, 0.11857159435749054, 0.0, 0.0, 0.0, 0.0, 0.0, 0.0, 0.0, 0.0, 0.0, 0.0, 0.0, 0.0, 0.0, 0.0, 0.0, 0.0, 0.0, 0.0, 0.0, 0.0, 0.0, 0.0, 0.0, 0.0, 0.0], [0.40185344219207764, 0.08579413592815399, 0.056448794901371, 0.07181120663881302, 0.08318911492824554, 0.07845641672611237, 0.09191880375146866, 0.0776887834072113, 0.0528392493724823, 0.0, 0.0, 0.0, 0.0, 0.0, 0.0, 0.0, 0.0, 0.0, 0.0, 0.0, 0.0, 0.0, 0.0, 0.0, 0.0, 0.0, 0.0, 0.0, 0.0, 0.0, 0.0, 0.0, 0.0], [0.3827160596847534, 0.07976943999528885, 0.062077537178993225, 0.06360236555337906, 0.08211026340723038, 0.07804950326681137, 0.0859743282198906, 0.07506487518548965, 0.06327842175960541, 0.027357233688235283, 0.0, 0.0, 0.0, 0.0, 0.0, 0.0, 0.0, 0.0, 0.0, 0.0, 0.0, 0.0, 0.0, 0.0, 0.0, 0.0, 0.0, 0.0, 0.0, 0.0, 0.0, 0.0, 0.0], [0.3404167890548706, 0.04535193741321564, 0.04658907651901245, 0.04039173573255539, 0.054890431463718414, 0.0817900225520134, 0.08906511962413788, 0.09645892679691315, 0.05564964562654495, 0.06398673355579376, 0.08540946990251541, 0.0, 0.0, 0.0, 0.0, 0.0, 0.0, 0.0, 0.0, 0.0, 0.0, 0.0, 0.0, 0.0, 0.0, 0.0, 0.0, 0.0, 0.0, 0.0, 0.0, 0.0, 0.0], [0.31186190247535706, 0.09540002793073654, 0.07292009145021439, 0.0697687640786171, 0.07777828723192215, 0.0673503503203392, 0.0616140253841877, 0.0548107773065567, 0.05252007767558098, 0.05022518336772919, 0.07299358397722244, 0.012756945565342903, 0.0, 0.0, 0.0, 0.0, 0.0, 0.0, 0.0, 0.0, 0.0, 0.0, 0.0, 0.0, 0.0, 0.0, 0.0, 0.0, 0.0, 0.0, 0.0, 0.0, 0.0], [0.36652854084968567, 0.06308675557374954, 0.03947842866182327, 0.046095240861177444, 0.05740758404135704, 0.0634833350777626, 0.0523846298456192, 0.05501621961593628, 0.045840147882699966, 0.062286972999572754, 0.06589915603399277, 0.05806358903646469, 0.024429522454738617, 0.0, 0.0, 0.0, 0.0, 0.0, 0.0, 0.0, 0.0, 0.0, 0.0, 0.0, 0.0, 0.0, 0.0, 0.0, 0.0, 0.0, 0.0, 0.0, 0.0], [0.28564444184303284, 0.03804026171565056, 0.03942389413714409, 0.034238651394844055, 0.04639400541782379, 0.06771660596132278, 0.0732807144522667, 0.07855430245399475, 0.047896608710289, 0.05593652278184891, 0.07124955207109451, 0.03568924963474274, 0.04956040158867836, 0.07637482136487961, 0.0, 0.0, 0.0, 0.0, 0.0, 0.0, 0.0, 0.0, 0.0, 0.0, 0.0, 0.0, 0.0, 0.0, 0.0, 0.0, 0.0, 0.0, 0.0], [0.2977541387081146, 0.05259546637535095, 0.043479349464178085, 0.05845864862203598, 0.04568729177117348, 0.05259400233626366, 0.04456199333071709, 0.045974746346473694, 0.0631614550948143, 0.07768763601779938, 0.05499151349067688, 0.03466470539569855, 0.050200946629047394, 0.05886143818497658, 0.019326547160744667, 0.0, 0.0, 0.0, 0.0, 0.0, 0.0, 0.0, 0.0, 0.0, 0.0, 0.0, 0.0, 0.0, 0.0, 0.0, 0.0, 0.0, 0.0], [0.2885313928127289, 0.04616912081837654, 0.028233060613274574, 0.038242410868406296, 0.043306272476911545, 0.0517490915954113, 0.04318273067474365, 0.04393121972680092, 0.056163400411605835, 0.06773823499679565, 0.05490182340145111, 0.08139307051897049, 0.04325691610574722, 0.05904817581176758, 0.03989905118942261, 0.014254061505198479, 0.0, 0.0, 0.0, 0.0, 0.0, 0.0, 0.0, 0.0, 0.0, 0.0, 0.0, 0.0, 0.0, 0.0, 0.0, 0.0, 0.0], [0.23721376061439514, 0.03161581978201866, 0.03324566408991814, 0.029231946915388107, 0.03861812874674797, 0.05549163371324539, 0.059664927423000336, 0.06321779638528824, 0.040736954659223557, 0.047526754438877106, 0.058378275483846664, 0.030399657785892487, 0.04287154972553253, 0.06284619122743607, 0.05321293696761131, 0.04736894741654396, 0.06835900992155075, 0.0, 0.0, 0.0, 0.0, 0.0, 0.0, 0.0, 0.0, 0.0, 0.0, 0.0, 0.0, 0.0, 0.0, 0.0, 0.0], [0.20986956357955933, 0.027291247621178627, 0.031156597658991814, 0.026615014299750328, 0.03165113553404808, 0.05273222178220749, 0.05274499952793121, 0.05635904148221016, 0.04076544567942619, 0.04278241842985153, 0.05619128793478012, 0.0306782778352499, 0.04398959130048752, 0.0609147734940052, 0.0501369908452034, 0.04157314822077751, 0.06652860343456268, 0.07801958918571472, 0.0, 0.0, 0.0, 0.0, 0.0, 0.0, 0.0, 0.0, 0.0, 0.0, 0.0, 0.0, 0.0, 0.0, 0.0], [0.2385382503271103, 0.044145818799734116, 0.04643506184220314, 0.034512702375650406, 0.0357217937707901, 0.043693266808986664, 0.04304976016283035, 0.03498827666044235, 0.043718043714761734, 0.03952198848128319, 0.04457857459783554, 0.02459944598376751, 0.06251184642314911, 0.04753483086824417, 0.04375610500574112, 0.04995930567383766, 0.050908032804727554, 0.0526624359190464, 0.019164476543664932, 0.0, 0.0, 0.0, 0.0, 0.0, 0.0, 0.0, 0.0, 0.0, 0.0, 0.0, 0.0, 0.0, 0.0], [0.17729142308235168, 0.04221462085843086, 0.03081870637834072, 0.03088609129190445, 0.03386848792433739, 0.04521183669567108, 0.04290101304650307, 0.03221561387181282, 0.040188614279031754, 0.049269020557403564, 0.0480162650346756, 0.03814244270324707, 0.0512651689350605, 0.05206847935914993, 0.04744120314717293, 0.03924529626965523, 0.05630476400256157, 0.054629482328891754, 0.0599186047911644, 0.028102917596697807, 0.0, 0.0, 0.0, 0.0, 0.0, 0.0, 0.0, 0.0, 0.0, 0.0, 0.0, 0.0, 0.0], [0.1904829442501068, 0.02520349808037281, 0.026787463575601578, 0.023672694340348244, 0.031104041263461113, 0.043453387916088104, 0.0464932955801487, 0.04820645600557327, 0.033232759684324265, 0.03892751783132553, 0.045491524040699005, 0.02444273605942726, 0.035701554268598557, 0.04907768592238426, 0.04303567111492157, 0.03905563801527023, 0.05371744558215141, 0.06658955663442612, 0.04320826753973961, 0.03176471218466759, 0.06035119667649269, 0.0, 0.0, 0.0, 0.0, 0.0, 0.0, 0.0, 0.0, 0.0, 0.0, 0.0, 0.0], [0.1497536301612854, 0.023474590852856636, 0.025508390739560127, 0.028942439705133438, 0.035171594470739365, 0.038801874965429306, 0.04594278708100319, 0.03962729871273041, 0.03708776831626892, 0.03872302919626236, 0.04190722852945328, 0.021688062697649002, 0.043282538652420044, 0.04592546075582504, 0.03893955796957016, 0.040076080709695816, 0.05060021951794624, 0.06083051860332489, 0.043721623718738556, 0.030235236510634422, 0.05728607252240181, 0.062474023550748825, 0.0, 0.0, 0.0, 0.0, 0.0, 0.0, 0.0, 0.0, 0.0, 0.0, 0.0], [0.1751341074705124, 0.02751927450299263, 0.029514025896787643, 0.020715337246656418, 0.026873525232076645, 0.03454609960317612, 0.038530778139829636, 0.03303782641887665, 0.04181555286049843, 0.04010036215186119, 0.03696899488568306, 0.03046892024576664, 0.039953939616680145, 0.04023706540465355, 0.044826216995716095, 0.03708260878920555, 0.04420144483447075, 0.04931040108203888, 0.041257455945014954, 0.02861068770289421, 0.049973394721746445, 0.052692823112010956, 0.03662918135523796, 0.0, 0.0, 0.0, 0.0, 0.0, 0.0, 0.0, 0.0, 0.0, 0.0], [0.1328599452972412, 0.04070807620882988, 0.04111678898334503, 0.0348442867398262, 0.04087608680129051, 0.027567194774746895, 0.02829369157552719, 0.022520437836647034, 0.038754191249608994, 0.04037806764245033, 0.029089458286762238, 0.029609207063913345, 0.05670115351676941, 0.03118187189102173, 0.03766119107604027, 0.05688633397221565, 0.03396708145737648, 0.037813056260347366, 0.049514129757881165, 0.03194556385278702, 0.037599023431539536, 0.04326634854078293, 0.04305669292807579, 0.0337902195751667, 0.0, 0.0, 0.0, 0.0, 0.0, 0.0, 0.0, 0.0, 0.0], [0.14709368348121643, 0.018218709155917168, 0.02214360423386097, 0.021621398627758026, 0.027072900906205177, 0.0338541641831398, 0.03787609934806824, 0.03801964595913887, 0.027932491153478622, 0.030901845544576645, 0.036069273948669434, 0.019023140892386436, 0.03465801104903221, 0.03916989266872406, 0.03375561162829399, 0.026136614382267, 0.04297834634780884, 0.05313745513558388, 0.034635089337825775, 0.020140288397669792, 0.048783544450998306, 0.049908023327589035, 0.04624389111995697, 0.047156672924757004, 0.06346958875656128, 0.0, 0.0, 0.0, 0.0, 0.0, 0.0, 0.0, 0.0], [0.17602796852588654, 0.014882156625390053, 0.02675115130841732, 0.0240880586206913, 0.0356675386428833, 0.027094269171357155, 0.024984242394566536, 0.021471895277500153, 0.026359347626566887, 0.023845132440328598, 0.027567025274038315, 0.01686953194439411, 0.07777424156665802, 0.029109233990311623, 0.047996994107961655, 0.029002508148550987, 0.031323350965976715, 0.03615595027804375, 0.03959564119577408, 0.01700800657272339, 0.03483903408050537, 0.03443719446659088, 0.041492216289043427, 0.09124379605054855, 0.040522992610931396, 0.0038906049448996782, 0.0, 0.0, 0.0, 0.0, 0.0, 0.0, 0.0], [0.1850174367427826, 0.027787012979388237, 0.025097616016864777, 0.027019012719392776, 0.029199212789535522, 0.030336977913975716, 0.03222178295254707, 0.023015089333057404, 0.026792844757437706, 0.02279384806752205, 0.030674880370497704, 0.021220851689577103, 0.05388805642724037, 0.0325930155813694, 0.030737657099962234, 0.025725219398736954, 0.034866053611040115, 0.03793581947684288, 0.028672028332948685, 0.026148980483412743, 0.03875333443284035, 0.0417950265109539, 0.03863157331943512, 0.05337149649858475, 0.03982073441147804, 0.02571164444088936, 0.010172737762331963, 0.0, 0.0, 0.0, 0.0, 0.0, 0.0], [0.1244632676243782, 0.016768908128142357, 0.020105106756091118, 0.01926703006029129, 0.024457817897200584, 0.030203331261873245, 0.031273938715457916, 0.03254606947302818, 0.023185988888144493, 0.02350839599967003, 0.03173322603106499, 0.01708051562309265, 0.0290820375084877, 0.03428218886256218, 0.035791315138339996, 0.02582055889070034, 0.037531159818172455, 0.046182479709386826, 0.029500020667910576, 0.017913812771439552, 0.04274725541472435, 0.04243467003107071, 0.039002373814582825, 0.04141834005713463, 0.05949500575661659, 0.035957347601652145, 0.03098488412797451, 0.057262856513261795, 0.0, 0.0, 0.0, 0.0, 0.0], [0.1449102759361267, 0.025843989104032516, 0.03117697685956955, 0.019462749361991882, 0.012575742788612843, 0.025274572893977165, 0.022020703181624413, 0.021267304196953773, 0.03165540471673012, 0.027664175257086754, 0.02625160478055477, 0.022091016173362732, 0.03851793706417084, 0.028266865760087967, 0.028877612203359604, 0.036865346133708954, 0.030699945986270905, 0.03204501420259476, 0.03411630541086197, 0.020355399698019028, 0.03446315601468086, 0.035428643226623535, 0.030728396028280258, 0.04441895708441734, 0.03793597221374512, 0.05734870210289955, 0.03889700025320053, 0.04111206904053688, 0.019728198647499084, 0.0, 0.0, 0.0, 0.0], [0.1316843330860138, 0.025460129603743553, 0.027962394058704376, 0.024109838530421257, 0.01686881110072136, 0.031406767666339874, 0.023247336968779564, 0.022071704268455505, 0.027362482622265816, 0.02637045830488205, 0.03204534947872162, 0.02877579815685749, 0.04614201560616493, 0.03455980122089386, 0.031321100890636444, 0.029437702149152756, 0.03749069571495056, 0.03597426041960716, 0.030671022832393646, 0.026778319850564003, 0.04166232794523239, 0.032743968069553375, 0.03034876100718975, 0.03265194594860077, 0.03805648908019066, 0.03457563370466232, 0.022936148568987846, 0.03690328821539879, 0.025966191664338112, 0.014414905570447445, 0.0, 0.0, 0.0], [0.1656370460987091, 0.022809244692325592, 0.02910773642361164, 0.02494465745985508, 0.024352876469492912, 0.025031812489032745, 0.018486661836504936, 0.01857367530465126, 0.028443634510040283, 0.029199931770563126, 0.02531822770833969, 0.03220497444272041, 0.025753287598490715, 0.02689051814377308, 0.03127393126487732, 0.0330515019595623, 0.02883545681834221, 0.02991044707596302, 0.0275588221848011, 0.024624666199088097, 0.03205360844731331, 0.02649373561143875, 0.02170959860086441, 0.031640127301216125, 0.03707476705312729, 0.0479946993291378, 0.027932163327932358, 0.0347561314702034, 0.03804945945739746, 0.021535702049732208, 0.008750854060053825, 0.0, 0.0], [0.16794216632843018, 0.025983480736613274, 0.03222336620092392, 0.01946936920285225, 0.0237352903932333, 0.02311570756137371, 0.01997363194823265, 0.016550231724977493, 0.029796777293086052, 0.028494689613580704, 0.023108862340450287, 0.022087058052420616, 0.042165547609329224, 0.024390192702412605, 0.020749151706695557, 0.038735851645469666, 0.026269789785146713, 0.027289101853966713, 0.01961740478873253, 0.02024286985397339, 0.02920318953692913, 0.030413338914513588, 0.02576262690126896, 0.04084977135062218, 0.03332662954926491, 0.02179531380534172, 0.026310551911592484, 0.031013507395982742, 0.03689263015985489, 0.01937718689441681, 0.04355607181787491, 0.009558651596307755, 0.0], [0.11396824568510056, 0.017752883955836296, 0.016061954200267792, 0.015585060231387615, 0.01839612051844597, 0.024367066100239754, 0.02605387568473816, 0.023999106138944626, 0.021919460967183113, 0.026251114904880524, 0.024730557575821877, 0.015323003754019737, 0.025614552199840546, 0.026337916031479836, 0.024982880800962448, 0.02464263141155243, 0.028590308502316475, 0.032951515167951584, 0.027568640187382698, 0.018487567082047462, 0.032208483666181564, 0.031914692372083664, 0.03630724549293518, 0.034154012799263, 0.03678557649254799, 0.032977718859910965, 0.026278942823410034, 0.03809892386198044, 0.02980196662247181, 0.018183255568146706, 0.036320701241493225, 0.035680919885635376, 0.05770314484834671]], [[1.0, 0.0, 0.0, 0.0, 0.0, 0.0, 0.0, 0.0, 0.0, 0.0, 0.0, 0.0, 0.0, 0.0, 0.0, 0.0, 0.0, 0.0, 0.0, 0.0, 0.0, 0.0, 0.0, 0.0, 0.0, 0.0, 0.0, 0.0, 0.0, 0.0, 0.0, 0.0, 0.0], [0.8058416247367859, 0.1941583752632141, 0.0, 0.0, 0.0, 0.0, 0.0, 0.0, 0.0, 0.0, 0.0, 0.0, 0.0, 0.0, 0.0, 0.0, 0.0, 0.0, 0.0, 0.0, 0.0, 0.0, 0.0, 0.0, 0.0, 0.0, 0.0, 0.0, 0.0, 0.0, 0.0, 0.0, 0.0], [0.6373864412307739, 0.09672039747238159, 0.2658931314945221, 0.0, 0.0, 0.0, 0.0, 0.0, 0.0, 0.0, 0.0, 0.0, 0.0, 0.0, 0.0, 0.0, 0.0, 0.0, 0.0, 0.0, 0.0, 0.0, 0.0, 0.0, 0.0, 0.0, 0.0, 0.0, 0.0, 0.0, 0.0, 0.0, 0.0], [0.5870268940925598, 0.09922709316015244, 0.07913827151060104, 0.2346077412366867, 0.0, 0.0, 0.0, 0.0, 0.0, 0.0, 0.0, 0.0, 0.0, 0.0, 0.0, 0.0, 0.0, 0.0, 0.0, 0.0, 0.0, 0.0, 0.0, 0.0, 0.0, 0.0, 0.0, 0.0, 0.0, 0.0, 0.0, 0.0, 0.0], [0.4194740355014801, 0.06312588602304459, 0.08123068511486053, 0.08381491154432297, 0.352354496717453, 0.0, 0.0, 0.0, 0.0, 0.0, 0.0, 0.0, 0.0, 0.0, 0.0, 0.0, 0.0, 0.0, 0.0, 0.0, 0.0, 0.0, 0.0, 0.0, 0.0, 0.0, 0.0, 0.0, 0.0, 0.0, 0.0, 0.0, 0.0], [0.530853271484375, 0.09590724110603333, 0.07779340445995331, 0.06661548465490341, 0.07293295115232468, 0.15589767694473267, 0.0, 0.0, 0.0, 0.0, 0.0, 0.0, 0.0, 0.0, 0.0, 0.0, 0.0, 0.0, 0.0, 0.0, 0.0, 0.0, 0.0, 0.0, 0.0, 0.0, 0.0, 0.0, 0.0, 0.0, 0.0, 0.0, 0.0], [0.38503068685531616, 0.07478086650371552, 0.06978149712085724, 0.047606512904167175, 0.05144916847348213, 0.08776707947254181, 0.28358420729637146, 0.0, 0.0, 0.0, 0.0, 0.0, 0.0, 0.0, 0.0, 0.0, 0.0, 0.0, 0.0, 0.0, 0.0, 0.0, 0.0, 0.0, 0.0, 0.0, 0.0, 0.0, 0.0, 0.0, 0.0, 0.0, 0.0], [0.2962956726551056, 0.05328267440199852, 0.06944753974676132, 0.04097549617290497, 0.06660834699869156, 0.10218574851751328, 0.10869506001472473, 0.26250943541526794, 0.0, 0.0, 0.0, 0.0, 0.0, 0.0, 0.0, 0.0, 0.0, 0.0, 0.0, 0.0, 0.0, 0.0, 0.0, 0.0, 0.0, 0.0, 0.0, 0.0, 0.0, 0.0, 0.0, 0.0, 0.0], [0.30474981665611267, 0.06337980180978775, 0.05753422528505325, 0.04057714715600014, 0.0730014443397522, 0.07375825196504593, 0.072398841381073, 0.05693604797124863, 0.257664293050766, 0.0, 0.0, 0.0, 0.0, 0.0, 0.0, 0.0, 0.0, 0.0, 0.0, 0.0, 0.0, 0.0, 0.0, 0.0, 0.0, 0.0, 0.0, 0.0, 0.0, 0.0, 0.0, 0.0, 0.0], [0.2988075911998749, 0.05552823469042778, 0.05443599447607994, 0.05285298079252243, 0.06568752229213715, 0.07554224878549576, 0.06968101859092712, 0.05411388725042343, 0.09120791405439377, 0.18214257061481476, 0.0, 0.0, 0.0, 0.0, 0.0, 0.0, 0.0, 0.0, 0.0, 0.0, 0.0, 0.0, 0.0, 0.0, 0.0, 0.0, 0.0, 0.0, 0.0, 0.0, 0.0, 0.0, 0.0], [0.2693301737308502, 0.0635242760181427, 0.05952121689915657, 0.05242467671632767, 0.060521580278873444, 0.12185836583375931, 0.07608653604984283, 0.09753069281578064, 0.042326055467128754, 0.05058330297470093, 0.10629310458898544, 0.0, 0.0, 0.0, 0.0, 0.0, 0.0, 0.0, 0.0, 0.0, 0.0, 0.0, 0.0, 0.0, 0.0, 0.0, 0.0, 0.0, 0.0, 0.0, 0.0, 0.0, 0.0], [0.22074301540851593, 0.06960075348615646, 0.048723481595516205, 0.06675712764263153, 0.06954208761453629, 0.06483787298202515, 0.04652373865246773, 0.03930085152387619, 0.01801607757806778, 0.0358063168823719, 0.05302286520600319, 0.26712578535079956, 0.0, 0.0, 0.0, 0.0, 0.0, 0.0, 0.0, 0.0, 0.0, 0.0, 0.0, 0.0, 0.0, 0.0, 0.0, 0.0, 0.0, 0.0, 0.0, 0.0, 0.0], [0.1508006453514099, 0.047324735671281815, 0.12551122903823853, 0.06240076944231987, 0.05354636535048485, 0.0557839535176754, 0.04542609676718712, 0.03888598084449768, 0.030199790373444557, 0.033370550721883774, 0.04645952582359314, 0.023437920957803726, 0.2868524491786957, 0.0, 0.0, 0.0, 0.0, 0.0, 0.0, 0.0, 0.0, 0.0, 0.0, 0.0, 0.0, 0.0, 0.0, 0.0, 0.0, 0.0, 0.0, 0.0, 0.0], [0.20448823273181915, 0.04972048103809357, 0.04838547855615616, 0.04385359212756157, 0.051157210022211075, 0.10074897110462189, 0.06420683860778809, 0.08302561193704605, 0.038804519921541214, 0.047957759350538254, 0.09582382440567017, 0.032396987080574036, 0.04441104084253311, 0.0950194001197815, 0.0, 0.0, 0.0, 0.0, 0.0, 0.0, 0.0, 0.0, 0.0, 0.0, 0.0, 0.0, 0.0, 0.0, 0.0, 0.0, 0.0, 0.0, 0.0], [0.1623673439025879, 0.02851915918290615, 0.047843120992183685, 0.04135479778051376, 0.040284913033246994, 0.05200537294149399, 0.04226505011320114, 0.03821168839931488, 0.05986882373690605, 0.0684940367937088, 0.04734276607632637, 0.01971515640616417, 0.06202230602502823, 0.04572194442152977, 0.24398359656333923, 0.0, 0.0, 0.0, 0.0, 0.0, 0.0, 0.0, 0.0, 0.0, 0.0, 0.0, 0.0, 0.0, 0.0, 0.0, 0.0, 0.0, 0.0], [0.13128933310508728, 0.03962809219956398, 0.05951941758394241, 0.03966319188475609, 0.04406356066465378, 0.04348498210310936, 0.03726544231176376, 0.032400358468294144, 0.03720574080944061, 0.06481602042913437, 0.04047451540827751, 0.02591422200202942, 0.06507599353790283, 0.03922512009739876, 0.07744190841913223, 0.22253206372261047, 0.0, 0.0, 0.0, 0.0, 0.0, 0.0, 0.0, 0.0, 0.0, 0.0, 0.0, 0.0, 0.0, 0.0, 0.0, 0.0, 0.0], [0.158133402466774, 0.03911251574754715, 0.03856497257947922, 0.03587969020009041, 0.04187796264886856, 0.0816100463271141, 0.05245806649327278, 0.0681268498301506, 0.0344480499625206, 0.04342754930257797, 0.08275996148586273, 0.029333380982279778, 0.04157378152012825, 0.08478687703609467, 0.04881597310304642, 0.03235284984111786, 0.08673815429210663, 0.0, 0.0, 0.0, 0.0, 0.0, 0.0, 0.0, 0.0, 0.0, 0.0, 0.0, 0.0, 0.0, 0.0, 0.0, 0.0], [0.13890597224235535, 0.03169631585478783, 0.03251556679606438, 0.03538898751139641, 0.03800034523010254, 0.0697442814707756, 0.05942455306649208, 0.06768236309289932, 0.02784380316734314, 0.039054688066244125, 0.07273102551698685, 0.030109858140349388, 0.041630908846855164, 0.07565014064311981, 0.04018831625580788, 0.02748361974954605, 0.0779590904712677, 0.09399016946554184, 0.0, 0.0, 0.0, 0.0, 0.0, 0.0, 0.0, 0.0, 0.0, 0.0, 0.0, 0.0, 0.0, 0.0, 0.0], [0.09691286832094193, 0.03068731538951397, 0.030817963182926178, 0.044734299182891846, 0.041719451546669006, 0.036036789417266846, 0.04101705178618431, 0.03210476413369179, 0.04344063997268677, 0.04885551705956459, 0.03457897901535034, 0.01602509804069996, 0.049941662698984146, 0.03463529422879219, 0.06065688282251358, 0.03497787192463875, 0.03454345837235451, 0.03782793506979942, 0.2504861652851105, 0.0, 0.0, 0.0, 0.0, 0.0, 0.0, 0.0, 0.0, 0.0, 0.0, 0.0, 0.0, 0.0, 0.0], [0.12059211730957031, 0.04121065512299538, 0.05098520219326019, 0.05289149656891823, 0.028861308470368385, 0.04706200957298279, 0.0292128324508667, 0.038170043379068375, 0.021046476438641548, 0.029787806794047356, 0.044067222625017166, 0.02650335431098938, 0.04127003625035286, 0.04430738463997841, 0.030801543965935707, 0.04064902290701866, 0.044745124876499176, 0.04212244972586632, 0.028442274779081345, 0.19727160036563873, 0.0, 0.0, 0.0, 0.0, 0.0, 0.0, 0.0, 0.0, 0.0, 0.0, 0.0, 0.0, 0.0], [0.11388306319713593, 0.028255388140678406, 0.028351297602057457, 0.02695866860449314, 0.031310874968767166, 0.05977550521492958, 0.039182137697935104, 0.050720375031232834, 0.027684006839990616, 0.035564251244068146, 0.06452134251594543, 0.024267079308629036, 0.03616492450237274, 0.06838168203830719, 0.04139299690723419, 0.029094640165567398, 0.0723005086183548, 0.07349377125501633, 0.03700019419193268, 0.035286303609609604, 0.07641096413135529, 0.0, 0.0, 0.0, 0.0, 0.0, 0.0, 0.0, 0.0, 0.0, 0.0, 0.0, 0.0], [0.08453848212957382, 0.01741659827530384, 0.018949149176478386, 0.016560638323426247, 0.022296126931905746, 0.04174061119556427, 0.058948639780282974, 0.03893362358212471, 0.030214648693799973, 0.03464233875274658, 0.048319004476070404, 0.016358409076929092, 0.025674551725387573, 0.05309675261378288, 0.02054652012884617, 0.02046983316540718, 0.057046424597501755, 0.06604907661676407, 0.03774639964103699, 0.02141386643052101, 0.061299316585063934, 0.2077389359474182, 0.0, 0.0, 0.0, 0.0, 0.0, 0.0, 0.0, 0.0, 0.0, 0.0, 0.0], [0.11248444765806198, 0.024394845589995384, 0.024523159489035606, 0.027489548549056053, 0.026104670017957687, 0.03731507062911987, 0.06748534739017487, 0.03890375420451164, 0.01798144355416298, 0.028454406186938286, 0.03756531700491905, 0.0183260515332222, 0.020088639110326767, 0.0386517234146595, 0.023285645991563797, 0.024226607754826546, 0.03960612788796425, 0.04833186790347099, 0.04500089958310127, 0.017362141981720924, 0.04009141027927399, 0.0520828478038311, 0.19024398922920227, 0.0, 0.0, 0.0, 0.0, 0.0, 0.0, 0.0, 0.0, 0.0, 0.0], [0.08183357864618301, 0.01982845366001129, 0.026873407885432243, 0.02925257943570614, 0.025184450671076775, 0.03192774951457977, 0.02904980070888996, 0.024972526356577873, 0.033506255596876144, 0.04007430747151375, 0.033517297357320786, 0.016035981476306915, 0.03204452618956566, 0.03448065370321274, 0.028517065569758415, 0.03532729670405388, 0.03583226352930069, 0.040583930909633636, 0.029941091313958168, 0.021097920835018158, 0.036713287234306335, 0.03921253979206085, 0.03543240204453468, 0.23876062035560608, 0.0, 0.0, 0.0, 0.0, 0.0, 0.0, 0.0, 0.0, 0.0], [0.10145693272352219, 0.014237051829695702, 0.016984181478619576, 0.01863657683134079, 0.02853625826537609, 0.03653804212808609, 0.029570510610938072, 0.04198318347334862, 0.014166049659252167, 0.030081426724791527, 0.040166404098272324, 0.020075010135769844, 0.03037012182176113, 0.04353442043066025, 0.030393021181225777, 0.020717326551675797, 0.04677111282944679, 0.05495098978281021, 0.028809163719415665, 0.020043665543198586, 0.050925448536872864, 0.04084465652704239, 0.04185802489519119, 0.038489747792482376, 0.15986065566539764, 0.0, 0.0, 0.0, 0.0, 0.0, 0.0, 0.0, 0.0], [0.07937926799058914, 0.020674321800470352, 0.020799756050109863, 0.027988223358988762, 0.0456547737121582, 0.026562592014670372, 0.025396717712283134, 0.02124325931072235, 0.017763780429959297, 0.025200659409165382, 0.027576474472880363, 0.03060709498822689, 0.0343799814581871, 0.028568318113684654, 0.022726912051439285, 0.016051942482590675, 0.029712745919823647, 0.03276178240776062, 0.025702398270368576, 0.012878892943263054, 0.030626138672232628, 0.020369654521346092, 0.03741389140486717, 0.02785036899149418, 0.03571849688887596, 0.2763914465904236, 0.0, 0.0, 0.0, 0.0, 0.0, 0.0, 0.0], [0.09605434536933899, 0.02309289574623108, 0.02419966273009777, 0.02497413568198681, 0.03682964667677879, 0.030014410614967346, 0.021069224923849106, 0.018117524683475494, 0.022569261491298676, 0.02834322489798069, 0.03050513006746769, 0.02170766331255436, 0.028211772441864014, 0.031639426946640015, 0.039166104048490524, 0.036273643374443054, 0.033115725964307785, 0.03514397144317627, 0.025745226070284843, 0.015889009460806847, 0.03467549383640289, 0.026770075783133507, 0.027143439278006554, 0.04045076668262482, 0.03760382905602455, 0.03232336416840553, 0.17837107181549072, 0.0, 0.0, 0.0, 0.0, 0.0, 0.0], [0.07476937025785446, 0.011021513491868973, 0.010706561617553234, 0.01532545406371355, 0.01990356482565403, 0.03285866603255272, 0.02193605713546276, 0.02945413999259472, 0.016421498730778694, 0.022476596757769585, 0.03722342848777771, 0.017580218613147736, 0.02195412665605545, 0.04046214371919632, 0.03141540661454201, 0.01041776780039072, 0.04429738596081734, 0.05118120461702347, 0.029565539211034775, 0.01539432629942894, 0.04906424507498741, 0.03202192112803459, 0.030905140563845634, 0.041320521384477615, 0.06578276306390762, 0.039784036576747894, 0.0204997006803751, 0.16625666618347168, 0.0, 0.0, 0.0, 0.0, 0.0], [0.05124206095933914, 0.011390028521418571, 0.020265819504857063, 0.024529635906219482, 0.12732449173927307, 0.020083913579583168, 0.017692744731903076, 0.020381992682814598, 0.01854861155152321, 0.0232060719281435, 0.021026069298386574, 0.02052123285830021, 0.02521071583032608, 0.021994248032569885, 0.017190460115671158, 0.020805910229682922, 0.0230353195220232, 0.026458073407411575, 0.03108612261712551, 0.011454461142420769, 0.024357995018363, 0.022524943575263023, 0.02460077777504921, 0.024587972089648247, 0.028380820527672768, 0.046606119722127914, 0.0436270646750927, 0.02030045911669731, 0.21156589686870575, 0.0, 0.0, 0.0, 0.0], [0.07929296046495438, 0.02353738620877266, 0.02284729667007923, 0.01993604563176632, 0.015462877228856087, 0.025110285729169846, 0.021429045125842094, 0.015073500573635101, 0.009924096055328846, 0.01572476513683796, 0.027188703417778015, 0.020747274160385132, 0.034976325929164886, 0.029102342203259468, 0.02121899649500847, 0.018147598952054977, 0.03105820342898369, 0.03380950167775154, 0.020137561485171318, 0.012323111295700073, 0.03369263932108879, 0.024336127564311028, 0.031084485352039337, 0.03377698361873627, 0.04355441406369209, 0.03296349197626114, 0.033149316906929016, 0.025364896282553673, 0.022163670510053635, 0.22286614775657654, 0.0, 0.0, 0.0], [0.10059654712677002, 0.030963746830821037, 0.025578519329428673, 0.02022406831383705, 0.02713298797607422, 0.029490770772099495, 0.040744829922914505, 0.021403620019555092, 0.01639261096715927, 0.022520702332258224, 0.027555160224437714, 0.013599199242889881, 0.027306687086820602, 0.02780659683048725, 0.011214176192879677, 0.023586535826325417, 0.02839920111000538, 0.030668897554278374, 0.021664192900061607, 0.01703231781721115, 0.02905160002410412, 0.02654990367591381, 0.03297552093863487, 0.026790326461195946, 0.0320606529712677, 0.02729833498597145, 0.017307184636592865, 0.01876881904900074, 0.02822650969028473, 0.0170851219445467, 0.18000470101833344, 0.0, 0.0], [0.08361609280109406, 0.016581887379288673, 0.015823302790522575, 0.022005142644047737, 0.02406257949769497, 0.02102830447256565, 0.022811297327280045, 0.014412399381399155, 0.015572095289826393, 0.015104835852980614, 0.020917728543281555, 0.021798154339194298, 0.02598598599433899, 0.0220132227987051, 0.02202504500746727, 0.018091220408678055, 0.023115118965506554, 0.025451797991991043, 0.025943521410226822, 0.011241892352700233, 0.024466194212436676, 0.022869892418384552, 0.03161345422267914, 0.029542654752731323, 0.02381790429353714, 0.02934901975095272, 0.02592264674603939, 0.017268184572458267, 0.031844593584537506, 0.012037744745612144, 0.02752494253218174, 0.2561410367488861, 0.0], [0.05258440598845482, 0.012508383952081203, 0.012737675569951534, 0.012144205160439014, 0.014467825181782246, 0.02481243573129177, 0.01710914447903633, 0.02516256831586361, 0.016298962756991386, 0.015160095877945423, 0.029820052906870842, 0.014290270395576954, 0.024094777181744576, 0.03374277055263519, 0.021632248535752296, 0.018924091011285782, 0.03819216042757034, 0.04115179181098938, 0.024165766313672066, 0.02063562534749508, 0.0441853329539299, 0.03793707489967346, 0.029636362567543983, 0.031528398394584656, 0.045423079282045364, 0.03596360608935356, 0.030482545495033264, 0.046099189668893814, 0.032067637890577316, 0.017662938684225082, 0.03169601783156395, 0.04462909698486328, 0.10305343568325043]], [[1.0, 0.0, 0.0, 0.0, 0.0, 0.0, 0.0, 0.0, 0.0, 0.0, 0.0, 0.0, 0.0, 0.0, 0.0, 0.0, 0.0, 0.0, 0.0, 0.0, 0.0, 0.0, 0.0, 0.0, 0.0, 0.0, 0.0, 0.0, 0.0, 0.0, 0.0, 0.0, 0.0], [0.7707714438438416, 0.22922857105731964, 0.0, 0.0, 0.0, 0.0, 0.0, 0.0, 0.0, 0.0, 0.0, 0.0, 0.0, 0.0, 0.0, 0.0, 0.0, 0.0, 0.0, 0.0, 0.0, 0.0, 0.0, 0.0, 0.0, 0.0, 0.0, 0.0, 0.0, 0.0, 0.0, 0.0, 0.0], [0.7813622951507568, 0.10978525131940842, 0.10885238647460938, 0.0, 0.0, 0.0, 0.0, 0.0, 0.0, 0.0, 0.0, 0.0, 0.0, 0.0, 0.0, 0.0, 0.0, 0.0, 0.0, 0.0, 0.0, 0.0, 0.0, 0.0, 0.0, 0.0, 0.0, 0.0, 0.0, 0.0, 0.0, 0.0, 0.0], [0.535038948059082, 0.11194941401481628, 0.15013694763183594, 0.20287467539310455, 0.0, 0.0, 0.0, 0.0, 0.0, 0.0, 0.0, 0.0, 0.0, 0.0, 0.0, 0.0, 0.0, 0.0, 0.0, 0.0, 0.0, 0.0, 0.0, 0.0, 0.0, 0.0, 0.0, 0.0, 0.0, 0.0, 0.0, 0.0, 0.0], [0.41803571581840515, 0.1603638380765915, 0.10740315914154053, 0.10625779628753662, 0.2079394906759262, 0.0, 0.0, 0.0, 0.0, 0.0, 0.0, 0.0, 0.0, 0.0, 0.0, 0.0, 0.0, 0.0, 0.0, 0.0, 0.0, 0.0, 0.0, 0.0, 0.0, 0.0, 0.0, 0.0, 0.0, 0.0, 0.0, 0.0, 0.0], [0.43498656153678894, 0.0957985371351242, 0.08251810073852539, 0.10028507560491562, 0.15332923829555511, 0.1330825388431549, 0.0, 0.0, 0.0, 0.0, 0.0, 0.0, 0.0, 0.0, 0.0, 0.0, 0.0, 0.0, 0.0, 0.0, 0.0, 0.0, 0.0, 0.0, 0.0, 0.0, 0.0, 0.0, 0.0, 0.0, 0.0, 0.0, 0.0], [0.4462135136127472, 0.056242138147354126, 0.050403062254190445, 0.0708429217338562, 0.09360911697149277, 0.11472619324922562, 0.16796307265758514, 0.0, 0.0, 0.0, 0.0, 0.0, 0.0, 0.0, 0.0, 0.0, 0.0, 0.0, 0.0, 0.0, 0.0, 0.0, 0.0, 0.0, 0.0, 0.0, 0.0, 0.0, 0.0, 0.0, 0.0, 0.0, 0.0], [0.3609194755554199, 0.07294463366270065, 0.05191011354327202, 0.07159053534269333, 0.09321673959493637, 0.09543658792972565, 0.14539915323257446, 0.10858279466629028, 0.0, 0.0, 0.0, 0.0, 0.0, 0.0, 0.0, 0.0, 0.0, 0.0, 0.0, 0.0, 0.0, 0.0, 0.0, 0.0, 0.0, 0.0, 0.0, 0.0, 0.0, 0.0, 0.0, 0.0, 0.0], [0.31714072823524475, 0.07683125883340836, 0.05552290007472038, 0.06445365399122238, 0.08586598187685013, 0.10643251985311508, 0.14521126449108124, 0.09439339488744736, 0.05414826050400734, 0.0, 0.0, 0.0, 0.0, 0.0, 0.0, 0.0, 0.0, 0.0, 0.0, 0.0, 0.0, 0.0, 0.0, 0.0, 0.0, 0.0, 0.0, 0.0, 0.0, 0.0, 0.0, 0.0, 0.0], [0.19288600981235504, 0.11343872547149658, 0.04530508443713188, 0.08361203968524933, 0.05763272941112518, 0.11914192140102386, 0.11441224813461304, 0.12364521622657776, 0.07640953361988068, 0.07351639866828918, 0.0, 0.0, 0.0, 0.0, 0.0, 0.0, 0.0, 0.0, 0.0, 0.0, 0.0, 0.0, 0.0, 0.0, 0.0, 0.0, 0.0, 0.0, 0.0, 0.0, 0.0, 0.0, 0.0], [0.2517409920692444, 0.06019412726163864, 0.04930216073989868, 0.0592232346534729, 0.08453342318534851, 0.07307678461074829, 0.12308558821678162, 0.08293973654508591, 0.06380265951156616, 0.07185836136341095, 0.0802430734038353, 0.0, 0.0, 0.0, 0.0, 0.0, 0.0, 0.0, 0.0, 0.0, 0.0, 0.0, 0.0, 0.0, 0.0, 0.0, 0.0, 0.0, 0.0, 0.0, 0.0, 0.0, 0.0], [0.24793599545955658, 0.04855769872665405, 0.06171697378158569, 0.06616784632205963, 0.0878860354423523, 0.059203799813985825, 0.09128585457801819, 0.0686681941151619, 0.06062860041856766, 0.08399355411529541, 0.06569413095712662, 0.0582612119615078, 0.0, 0.0, 0.0, 0.0, 0.0, 0.0, 0.0, 0.0, 0.0, 0.0, 0.0, 0.0, 0.0, 0.0, 0.0, 0.0, 0.0, 0.0, 0.0, 0.0, 0.0], [0.15039610862731934, 0.0707230195403099, 0.036188043653964996, 0.038128819316625595, 0.05496577173471451, 0.09552794694900513, 0.1278020739555359, 0.09101756662130356, 0.041339438408613205, 0.06619425863027573, 0.11493080854415894, 0.03526816889643669, 0.07751800864934921, 0.0, 0.0, 0.0, 0.0, 0.0, 0.0, 0.0, 0.0, 0.0, 0.0, 0.0, 0.0, 0.0, 0.0, 0.0, 0.0, 0.0, 0.0, 0.0, 0.0], [0.2173074632883072, 0.0522487610578537, 0.042796894907951355, 0.05130992457270622, 0.07021071761846542, 0.06084861606359482, 0.10094166547060013, 0.06729140132665634, 0.053472697734832764, 0.05803243815898895, 0.06386598199605942, 0.04143686965107918, 0.054298169910907745, 0.06593839079141617, 0.0, 0.0, 0.0, 0.0, 0.0, 0.0, 0.0, 0.0, 0.0, 0.0, 0.0, 0.0, 0.0, 0.0, 0.0, 0.0, 0.0, 0.0, 0.0], [0.1415899246931076, 0.08735617995262146, 0.041096318513154984, 0.07771319895982742, 0.06641592085361481, 0.06084611266851425, 0.07890866696834564, 0.06467185914516449, 0.04156753793358803, 0.05314020439982414, 0.06033197417855263, 0.04990348219871521, 0.06147686764597893, 0.06152058392763138, 0.05346124246716499, 0.0, 0.0, 0.0, 0.0, 0.0, 0.0, 0.0, 0.0, 0.0, 0.0, 0.0, 0.0, 0.0, 0.0, 0.0, 0.0, 0.0, 0.0], [0.11277399957180023, 0.05140271410346031, 0.03480079025030136, 0.04410991817712784, 0.04927106946706772, 0.08066022396087646, 0.09371136873960495, 0.07634285092353821, 0.03460066765546799, 0.055564995855093, 0.09000367671251297, 0.027950916439294815, 0.05808686837553978, 0.09759879857301712, 0.05853047966957092, 0.034590695053339005, 0.0, 0.0, 0.0, 0.0, 0.0, 0.0, 0.0, 0.0, 0.0, 0.0, 0.0, 0.0, 0.0, 0.0, 0.0, 0.0, 0.0], [0.19136790931224823, 0.045888036489486694, 0.0371842160820961, 0.044788483530282974, 0.05845542997121811, 0.05162309110164642, 0.08451797068119049, 0.056617338210344315, 0.0447792150080204, 0.04681585729122162, 0.05177518352866173, 0.034743111580610275, 0.04365593194961548, 0.052577510476112366, 0.04571905359625816, 0.055239368230104446, 0.0542522594332695, 0.0, 0.0, 0.0, 0.0, 0.0, 0.0, 0.0, 0.0, 0.0, 0.0, 0.0, 0.0, 0.0, 0.0, 0.0, 0.0], [0.17809869349002838, 0.03651316836476326, 0.03537805378437042, 0.0466005802154541, 0.05606750026345253, 0.05542532727122307, 0.0658089891076088, 0.05869591608643532, 0.04460207745432854, 0.03845331445336342, 0.05522071197628975, 0.02812929078936577, 0.038876280188560486, 0.056352123618125916, 0.04307202622294426, 0.04859210550785065, 0.05801302567124367, 0.056100863963365555, 0.0, 0.0, 0.0, 0.0, 0.0, 0.0, 0.0, 0.0, 0.0, 0.0, 0.0, 0.0, 0.0, 0.0, 0.0], [0.11277131736278534, 0.04416340962052345, 0.016790853813290596, 0.03922899439930916, 0.03057023137807846, 0.08429381996393204, 0.05829830467700958, 0.0798557922244072, 0.027740193530917168, 0.024607911705970764, 0.08568023145198822, 0.012135539203882217, 0.02122361585497856, 0.08979950100183487, 0.024395596235990524, 0.01800006814301014, 0.09797873347997665, 0.08564862608909607, 0.046817291527986526, 0.0, 0.0, 0.0, 0.0, 0.0, 0.0, 0.0, 0.0, 0.0, 0.0, 0.0, 0.0, 0.0, 0.0], [0.15648682415485382, 0.04359336569905281, 0.02946915477514267, 0.023382775485515594, 0.03989396616816521, 0.06601445376873016, 0.07239894568920135, 0.04959878697991371, 0.025720059871673584, 0.028729869052767754, 0.07268746942281723, 0.02010435424745083, 0.038949910551309586, 0.07793484628200531, 0.03185015171766281, 0.029572591185569763, 0.08162929117679596, 0.04983029514551163, 0.0475708544254303, 0.014582013711333275, 0.0, 0.0, 0.0, 0.0, 0.0, 0.0, 0.0, 0.0, 0.0, 0.0, 0.0, 0.0, 0.0], [0.16675153374671936, 0.04021674394607544, 0.031946294009685516, 0.039155539125204086, 0.04867977276444435, 0.04351934418082237, 0.07027733325958252, 0.04676981270313263, 0.0373704768717289, 0.03785952180624008, 0.04185349866747856, 0.02943878248333931, 0.03496701270341873, 0.04187152534723282, 0.03665957972407341, 0.0441894568502903, 0.04244701564311981, 0.043090008199214935, 0.05540826544165611, 0.02402997389435768, 0.04349849000573158, 0.0, 0.0, 0.0, 0.0, 0.0, 0.0, 0.0, 0.0, 0.0, 0.0, 0.0, 0.0], [0.2131170630455017, 0.03452148661017418, 0.026512060314416885, 0.03728468716144562, 0.04200231656432152, 0.05378070846199989, 0.06410717219114304, 0.04019591584801674, 0.029513977468013763, 0.030562065541744232, 0.04814046621322632, 0.019645756110548973, 0.023856008425354958, 0.04712359234690666, 0.02780522219836712, 0.025632794946432114, 0.04690323397517204, 0.0421149879693985, 0.04245341941714287, 0.016209974884986877, 0.047201547771692276, 0.041315577924251556, 0.0, 0.0, 0.0, 0.0, 0.0, 0.0, 0.0, 0.0, 0.0, 0.0, 0.0], [0.16099104285240173, 0.03149215131998062, 0.0255060326308012, 0.03203628584742546, 0.03811937943100929, 0.05386465787887573, 0.05289202183485031, 0.06297371536493301, 0.03872944042086601, 0.030703026801347733, 0.048614971339702606, 0.016964141279459, 0.020984867587685585, 0.04743490368127823, 0.026178518310189247, 0.032817013561725616, 0.048741016536951065, 0.037023067474365234, 0.05028447508811951, 0.014425927773118019, 0.049269210547208786, 0.027485119178891182, 0.05246913805603981, 0.0, 0.0, 0.0, 0.0, 0.0, 0.0, 0.0, 0.0, 0.0, 0.0], [0.13924193382263184, 0.04732198640704155, 0.022920086979866028, 0.037826742976903915, 0.03733161464333534, 0.05628196522593498, 0.0677310898900032, 0.06383750587701797, 0.02882455661892891, 0.028368622064590454, 0.05008403956890106, 0.014775180257856846, 0.02105889655649662, 0.04819709062576294, 0.017685092985630035, 0.015456202439963818, 0.0484280027449131, 0.03709954023361206, 0.04247325658798218, 0.018426822498440742, 0.04861333966255188, 0.022673949599266052, 0.05998958274722099, 0.025352954864501953, 0.0, 0.0, 0.0, 0.0, 0.0, 0.0, 0.0, 0.0, 0.0], [0.1956234574317932, 0.03233328089118004, 0.022874096408486366, 0.03839078173041344, 0.034498799592256546, 0.04616902768611908, 0.05553748086094856, 0.039606694132089615, 0.02309838868677616, 0.024249285459518433, 0.04043305292725563, 0.01607855036854744, 0.02162495069205761, 0.03903055563569069, 0.02652084268629551, 0.02811339683830738, 0.03823632374405861, 0.03542614355683327, 0.04174577072262764, 0.021097121760249138, 0.037679556757211685, 0.03728693351149559, 0.04423923045396805, 0.022921498864889145, 0.03718468174338341, 0.0, 0.0, 0.0, 0.0, 0.0, 0.0, 0.0, 0.0], [0.0581965446472168, 0.03889740630984306, 0.02600526437163353, 0.02356790192425251, 0.022979989647865295, 0.05384146422147751, 0.058061037212610245, 0.06858775019645691, 0.03745981305837631, 0.029159098863601685, 0.054746679961681366, 0.013592952862381935, 0.027647053822875023, 0.05575402453541756, 0.03077983297407627, 0.016137344762682915, 0.05745428055524826, 0.039687272161245346, 0.03406556323170662, 0.013110965490341187, 0.05977655202150345, 0.0160437673330307, 0.029699310660362244, 0.020566534250974655, 0.08347293734550476, 0.03070865012705326, 0.0, 0.0, 0.0, 0.0, 0.0, 0.0, 0.0], [0.15561483800411224, 0.03032318502664566, 0.02106759138405323, 0.03860044106841087, 0.025089267641305923, 0.0471951961517334, 0.042556483298540115, 0.051662594079971313, 0.03036811575293541, 0.020133620128035545, 0.04255695268511772, 0.01851179450750351, 0.018671736121177673, 0.0414302833378315, 0.022022103890776634, 0.021061012521386147, 0.04166620969772339, 0.027249203994870186, 0.04048161208629608, 0.015536426566541195, 0.04219619557261467, 0.01700734905898571, 0.06220949441194534, 0.015703147277235985, 0.05443185567855835, 0.04092410206794739, 0.01572924479842186, 0.0, 0.0, 0.0, 0.0, 0.0, 0.0], [0.1521887332201004, 0.03232048451900482, 0.026277638971805573, 0.03215136006474495, 0.037080537527799606, 0.03843332454562187, 0.042185213416814804, 0.03440922498703003, 0.029296163469552994, 0.024752270430326462, 0.03461230546236038, 0.021795082837343216, 0.023419680073857307, 0.03386645019054413, 0.028580566868185997, 0.034403227269649506, 0.03315696120262146, 0.02671038918197155, 0.04213567078113556, 0.01902134157717228, 0.0327858030796051, 0.026839986443519592, 0.033044569194316864, 0.023302625864744186, 0.03390036150813103, 0.039449289441108704, 0.02133423089981079, 0.04254642501473427, 0.0, 0.0, 0.0, 0.0, 0.0], [0.10210397094488144, 0.04830535128712654, 0.027957910671830177, 0.028134861961007118, 0.04368893802165985, 0.037659622728824615, 0.04012180119752884, 0.03589583560824394, 0.02449175901710987, 0.019768036901950836, 0.03467408940196037, 0.015431463718414307, 0.03261656314134598, 0.03414339944720268, 0.027461348101496696, 0.020323170349001884, 0.03445843234658241, 0.015827573835849762, 0.030705859884619713, 0.02036094292998314, 0.03558046370744705, 0.0347902737557888, 0.03518147021532059, 0.028572574257850647, 0.04333389177918434, 0.03896389901638031, 0.017587676644325256, 0.04553380608558655, 0.04632509499788284, 0.0, 0.0, 0.0, 0.0], [0.11841742694377899, 0.026689786463975906, 0.028547663241624832, 0.035164572298526764, 0.03519095480442047, 0.03070487640798092, 0.042546890676021576, 0.02310352772474289, 0.02546311542391777, 0.02967853844165802, 0.028395216912031174, 0.019178258255124092, 0.02383357472717762, 0.027640029788017273, 0.03381749615073204, 0.03964010998606682, 0.027574440464377403, 0.021856188774108887, 0.03966766968369484, 0.03941832855343819, 0.02711561694741249, 0.03049807995557785, 0.034932829439640045, 0.0323205329477787, 0.027840545400977135, 0.038775794208049774, 0.02112477459013462, 0.03861144930124283, 0.032771818339824677, 0.01947997510433197, 0.0, 0.0, 0.0], [0.05433792248368263, 0.019247839227318764, 0.011686457321047783, 0.014118602499365807, 0.013909782283008099, 0.05736805498600006, 0.0345463789999485, 0.04665062576532364, 0.013026434928178787, 0.01327129453420639, 0.05952773243188858, 0.009063138626515865, 0.017364203929901123, 0.06135563179850578, 0.01263463031500578, 0.015145517885684967, 0.06425533443689346, 0.046270642429590225, 0.019556362181901932, 0.012543450109660625, 0.06913560628890991, 0.03482366353273392, 0.030005943030118942, 0.01226181723177433, 0.07985591143369675, 0.01899644173681736, 0.010722914710640907, 0.08654538542032242, 0.017174065113067627, 0.022144172340631485, 0.02245398797094822, 0.0, 0.0], [0.05849645286798477, 0.03437736630439758, 0.013603104278445244, 0.02417043410241604, 0.01900585927069187, 0.0654640719294548, 0.030622975900769234, 0.03573208302259445, 0.01885944977402687, 0.012241474352777004, 0.06282185763120651, 0.011835739947855473, 0.009552360512316227, 0.06431794911623001, 0.02158954367041588, 0.010912943631410599, 0.06665913015604019, 0.023997467011213303, 0.02659674733877182, 0.006153549998998642, 0.06984329968690872, 0.03723866492509842, 0.030046718195080757, 0.02168680727481842, 0.043640606105327606, 0.02120964042842388, 0.013490455225110054, 0.04632720723748207, 0.020434483885765076, 0.01336226798593998, 0.01856897957623005, 0.04714028164744377, 0.0], [0.1352868676185608, 0.029733367264270782, 0.026111366227269173, 0.037535760551691055, 0.03888159617781639, 0.033166784793138504, 0.04824391379952431, 0.03046831488609314, 0.02603820711374283, 0.024123715236783028, 0.027892744168639183, 0.02270994707942009, 0.0241853017359972, 0.026114571839571, 0.023209648206830025, 0.025175267830491066, 0.02461480349302292, 0.021123148500919342, 0.029685059562325478, 0.018167460337281227, 0.0230643879622221, 0.02059805952012539, 0.034411437809467316, 0.021083390340209007, 0.022538837045431137, 0.03228158503770828, 0.013987235724925995, 0.02414492517709732, 0.02700229547917843, 0.012929442338645458, 0.036165401339530945, 0.02684026025235653, 0.032485026866197586]]]}\n",
                            "    )\n",
                            "    </script>"
                        ],
                        "text/plain": [
                            "<circuitsvis.utils.render.RenderedHTML at 0x177430a90>"
                        ]
                    },
                    "execution_count": 13,
                    "metadata": {},
                    "output_type": "execute_result"
                }
            ],
            "source": [
                "print(\"Layer 0 Head Attention Patterns:\")\n",
                "cv.attention.attention_patterns(tokens=gpt2_str_tokens, attention=attention_pattern)"
            ]
        },
        {
            "attachments": {},
            "cell_type": "markdown",
            "metadata": {},
            "source": [
                "## Hooks: Intervening on Activations"
            ]
        },
        {
            "cell_type": "markdown",
            "metadata": {},
            "source": [
                "One of the great things about interpreting neural networks is that we have *full control* over our system. From a computational perspective, we know exactly what operations are going on inside (even if we don't know what they mean!). And we can make precise, surgical edits and see how the model's behaviour and other internals change. This is an extremely powerful tool, because it can let us eg set up careful counterfactuals and causal intervention to easily understand model behaviour. \n",
                "\n",
                "Accordingly, being able to do this is a pretty core operation, and this is one of the main things TransformerLens supports! The key feature here is **hook points**. Every activation inside the transformer is surrounded by a hook point, which allows us to edit or intervene on it. \n",
                "\n",
                "We do this by adding a **hook function** to that activation. The hook function maps `current_activation_value, hook_point` to `new_activation_value`. As the model is run, it computes that activation as normal, and then the hook function is applied to compute a replacement, and that is substituted in for the activation. The hook function can be an arbitrary Python function, so long as it returns a tensor of the correct shape.\n",
                "\n",
                "<details><summary>Relationship to PyTorch hooks</summary>\n",
                "\n",
                "[PyTorch hooks](https://blog.paperspace.com/pytorch-hooks-gradient-clipping-debugging/) are a great and underrated, yet incredibly janky, feature. They can act on a layer, and edit the input or output of that layer, or the gradient when applying autodiff. The key difference is that **Hook points** act on *activations* not layers. This means that you can intervene within a layer on each activation, and don't need to care about the precise layer structure of the transformer. And it's immediately clear exactly how the hook's effect is applied. This adjustment was shamelessly inspired by [Garcon's use of ProbePoints](https://transformer-circuits.pub/2021/garcon/index.html).\n",
                "\n",
                "They also come with a range of other quality of life improvements, like the model having a `model.reset_hooks()` method to remove all hooks, or helper methods to temporarily add hooks for a single forward pass - it is *incredibly* easy to shoot yourself in the foot with standard PyTorch hooks!\n",
                "</details>"
            ]
        },
        {
            "attachments": {},
            "cell_type": "markdown",
            "metadata": {},
            "source": [
                "As a basic example, let's [ablate](https://dynalist.io/d/n2ZWtnoYHrU1s4vnFSAQ519J#z=fh-HJyz1CgUVrXuoiban6bYx) head 7 in layer 0 on the text above. \n",
                "\n",
                "We define a `head_ablation_hook` function. This takes the value tensor for attention layer 0, and sets the component with `head_index==7` to zero and returns it (Note - we return by convention, but since we're editing the activation in-place, we don't strictly *need* to).\n",
                "\n",
                "We then use the `run_with_hooks` helper function to run the model and *temporarily* add in the hook for just this run. We enter in the hook as a tuple of the activation name (also the hook point name - found with `utils.get_act_name`) and the hook function."
            ]
        },
        {
            "cell_type": "code",
            "execution_count": 14,
            "metadata": {},
            "outputs": [
                {
                    "name": "stdout",
                    "output_type": "stream",
                    "text": [
                        "Shape of the value tensor: torch.Size([1, 33, 12, 64])\n",
                        "Original Loss: 3.999\n",
                        "Ablated Loss: 5.453\n"
                    ]
                }
            ],
            "source": [
                "layer_to_ablate = 0\n",
                "head_index_to_ablate = 8\n",
                "\n",
                "# We define a head ablation hook\n",
                "# The type annotations are NOT necessary, they're just a useful guide to the reader\n",
                "# \n",
                "def head_ablation_hook(\n",
                "    value: Float[torch.Tensor, \"batch pos head_index d_head\"],\n",
                "    hook: HookPoint\n",
                ") -> Float[torch.Tensor, \"batch pos head_index d_head\"]:\n",
                "    print(f\"Shape of the value tensor: {value.shape}\")\n",
                "    value[:, :, head_index_to_ablate, :] = 0.\n",
                "    return value\n",
                "\n",
                "original_loss = model(gpt2_tokens, return_type=\"loss\")\n",
                "ablated_loss = model.run_with_hooks(\n",
                "    gpt2_tokens, \n",
                "    return_type=\"loss\", \n",
                "    fwd_hooks=[(\n",
                "        utils.get_act_name(\"v\", layer_to_ablate), \n",
                "        head_ablation_hook\n",
                "        )]\n",
                "    )\n",
                "print(f\"Original Loss: {original_loss.item():.3f}\")\n",
                "print(f\"Ablated Loss: {ablated_loss.item():.3f}\")"
            ]
        },
        {
            "cell_type": "markdown",
            "metadata": {},
            "source": [
                "**Gotcha:** Hooks are global state - they're added in as part of the model, and stay there until removed. `run_with_hooks` tries to create an abstraction where these are local state, by removing all hooks at the end of the function. But you can easily shoot yourself in the foot if there's, eg, an error in one of your hooks so the function never finishes. If you start getting bugs, try `model.reset_hooks()` to clean things up. Further, if you *do* add hooks of your own that you want to keep, which you can do with `add_perma_hook` on the relevant HookPoint"
            ]
        },
        {
            "cell_type": "markdown",
            "metadata": {},
            "source": [
                "### Activation Patching on the Indirect Object Identification Task"
            ]
        },
        {
            "attachments": {},
            "cell_type": "markdown",
            "metadata": {},
            "source": [
                "For a somewhat more involved example, let's use hooks to apply **[activation patching](https://dynalist.io/d/n2ZWtnoYHrU1s4vnFSAQ519J#z=qeWBvs-R-taFfcCq-S_hgMqx)** on the **[Indirect Object Identification](https://dynalist.io/d/n2ZWtnoYHrU1s4vnFSAQ519J#z=iWsV3s5Kdd2ca3zNgXr5UPHa)** (IOI) task. \n",
                "\n",
                "The IOI task is the task of identifying that a sentence like \"After John and Mary went to the store, Mary gave a bottle of milk to\" continues with \" John\" rather than \" Mary\" (ie, finding the indirect object), and Redwood Research have [an excellent paper studying the underlying circuit in GPT-2 Small](https://arxiv.org/abs/2211.00593).\n",
                "\n",
                "**[Activation patching](https://dynalist.io/d/n2ZWtnoYHrU1s4vnFSAQ519J#z=qeWBvs-R-taFfcCq-S_hgMqx)** is a technique from [Kevin Meng and David Bau's excellent ROME paper](https://rome.baulab.info/). The goal is to identify which model activations are important for completing a task. We do this by setting up a **clean prompt** and a **corrupted prompt** and a **metric** for performance on the task. We then pick a specific model activation, run the model on the corrupted prompt, but then *intervene* on that activation and patch in its value when run on the clean prompt. We then apply the metric, and see how much this patch has recovered the clean performance. \n",
                "(See [a more detailed demonstration of activation patching here](https://colab.research.google.com/github.com/neelnanda-io/TransformerLens/blob/main/demos/Exploratory_Analysis_Demo.ipynb))"
            ]
        },
        {
            "cell_type": "markdown",
            "metadata": {},
            "source": [
                "Here, our clean prompt is \"After John and Mary went to the store, **Mary** gave a bottle of milk to\", our corrupted prompt is \"After John and Mary went to the store, **John** gave a bottle of milk to\", and our metric is the difference between the correct logit ( John) and the incorrect logit ( Mary) on the final token. \n",
                "\n",
                "We see that the logit difference is significantly positive on the clean prompt, and significantly negative on the corrupted prompt, showing that the model is capable of doing the task!"
            ]
        },
        {
            "cell_type": "code",
            "execution_count": 15,
            "metadata": {},
            "outputs": [
                {
                    "name": "stdout",
                    "output_type": "stream",
                    "text": [
                        "Clean logit difference: 4.276\n",
                        "Corrupted logit difference: -2.738\n"
                    ]
                }
            ],
            "source": [
                "clean_prompt = \"After John and Mary went to the store, Mary gave a bottle of milk to\"\n",
                "corrupted_prompt = \"After John and Mary went to the store, John gave a bottle of milk to\"\n",
                "\n",
                "clean_tokens = model.to_tokens(clean_prompt)\n",
                "corrupted_tokens = model.to_tokens(corrupted_prompt)\n",
                "\n",
                "def logits_to_logit_diff(logits, correct_answer=\" John\", incorrect_answer=\" Mary\"):\n",
                "    # model.to_single_token maps a string value of a single token to the token index for that token\n",
                "    # If the string is not a single token, it raises an error.\n",
                "    correct_index = model.to_single_token(correct_answer)\n",
                "    incorrect_index = model.to_single_token(incorrect_answer)\n",
                "    return logits[0, -1, correct_index] - logits[0, -1, incorrect_index]\n",
                "\n",
                "# We run on the clean prompt with the cache so we store activations to patch in later.\n",
                "clean_logits, clean_cache = model.run_with_cache(clean_tokens)\n",
                "clean_logit_diff = logits_to_logit_diff(clean_logits)\n",
                "print(f\"Clean logit difference: {clean_logit_diff.item():.3f}\")\n",
                "\n",
                "# We don't need to cache on the corrupted prompt.\n",
                "corrupted_logits = model(corrupted_tokens)\n",
                "corrupted_logit_diff = logits_to_logit_diff(corrupted_logits)\n",
                "print(f\"Corrupted logit difference: {corrupted_logit_diff.item():.3f}\")"
            ]
        },
        {
            "attachments": {},
            "cell_type": "markdown",
            "metadata": {},
            "source": [
                "We now setup the hook function to do activation patching. Here, we'll patch in the [residual stream](https://dynalist.io/d/n2ZWtnoYHrU1s4vnFSAQ519J#z=DHp9vZ0h9lA9OCrzG2Y3rrzH) at the start of a specific layer and at a specific position. This will let us see how much the model is using the residual stream at that layer and position to represent the key information for the task. \n",
                "\n",
                "We want to iterate over all layers and positions, so we write the hook to take in an position parameter. Hook functions must have the input signature (activation, hook), but we can use `functools.partial` to set the position parameter before passing it to `run_with_hooks`"
            ]
        },
        {
            "cell_type": "code",
            "execution_count": 16,
            "metadata": {},
            "outputs": [
                {
                    "name": "stdout",
                    "output_type": "stream",
                    "text": [
                        "huggingface/tokenizers: The current process just got forked, after parallelism has already been used. Disabling parallelism to avoid deadlocks...\n",
                        "To disable this warning, you can either:\n",
                        "\t- Avoid using `tokenizers` before the fork if possible\n",
                        "\t- Explicitly set the environment variable TOKENIZERS_PARALLELISM=(true | false)\n"
                    ]
                },
                {
                    "data": {
                        "application/vnd.jupyter.widget-view+json": {
                            "model_id": "b93d6b6e8c37495f84b7a00f2caf81c3",
                            "version_major": 2,
                            "version_minor": 0
                        },
                        "text/plain": [
                            "  0%|          | 0/12 [00:00<?, ?it/s]"
                        ]
                    },
                    "metadata": {},
                    "output_type": "display_data"
                }
            ],
            "source": [
                "# We define a residual stream patching hook\n",
                "# We choose to act on the residual stream at the start of the layer, so we call it resid_pre\n",
                "# The type annotations are a guide to the reader and are not necessary\n",
                "def residual_stream_patching_hook(\n",
                "    resid_pre: Float[torch.Tensor, \"batch pos d_model\"],\n",
                "    hook: HookPoint,\n",
                "    position: int\n",
                ") -> Float[torch.Tensor, \"batch pos d_model\"]:\n",
                "    # Each HookPoint has a name attribute giving the name of the hook.\n",
                "    clean_resid_pre = clean_cache[hook.name]\n",
                "    resid_pre[:, position, :] = clean_resid_pre[:, position, :]\n",
                "    return resid_pre\n",
                "\n",
                "# We make a tensor to store the results for each patching run. We put it on the model's device to avoid needing to move things between the GPU and CPU, which can be slow.\n",
                "num_positions = len(clean_tokens[0])\n",
                "ioi_patching_result = torch.zeros((model.cfg.n_layers, num_positions), device=model.cfg.device)\n",
                "\n",
                "for layer in tqdm.tqdm(range(model.cfg.n_layers)):\n",
                "    for position in range(num_positions):\n",
                "        # Use functools.partial to create a temporary hook function with the position fixed\n",
                "        temp_hook_fn = partial(residual_stream_patching_hook, position=position)\n",
                "        # Run the model with the patching hook\n",
                "        patched_logits = model.run_with_hooks(corrupted_tokens, fwd_hooks=[\n",
                "            (utils.get_act_name(\"resid_pre\", layer), temp_hook_fn)\n",
                "        ])\n",
                "        # Calculate the logit difference\n",
                "        patched_logit_diff = logits_to_logit_diff(patched_logits).detach()\n",
                "        # Store the result, normalizing by the clean and corrupted logit difference so it's between 0 and 1 (ish)\n",
                "        ioi_patching_result[layer, position] = (patched_logit_diff - corrupted_logit_diff)/(clean_logit_diff - corrupted_logit_diff)"
            ]
        },
        {
            "cell_type": "markdown",
            "metadata": {},
            "source": [
                "We can now visualize the results, and see that this computation is extremely localised within the model. Initially, the second subject (Mary) token is all that matters (naturally, as it's the only different token), and all relevant information remains here until heads in layer 7 and 8 move this to the final token where it's used to predict the indirect object.\n",
                "(Note - the heads are in layer 7 and 8, not 8 and 9, because we patched in the residual stream at the *start* of each layer)"
            ]
        },
        {
            "cell_type": "code",
            "execution_count": 23,
            "metadata": {},
            "outputs": [
                {
                    "data": {
                        "text/html": [
                            "<html>\n",
                            "<head><meta charset=\"utf-8\" /></head>\n",
                            "<body>\n",
                            "    <div>            <script src=\"https://cdnjs.cloudflare.com/ajax/libs/mathjax/2.7.5/MathJax.js?config=TeX-AMS-MML_SVG\"></script><script type=\"text/javascript\">if (window.MathJax && window.MathJax.Hub && window.MathJax.Hub.Config) {window.MathJax.Hub.Config({SVG: {font: \"STIX-Web\"}});}</script>                <script type=\"text/javascript\">window.PlotlyConfig = {MathJaxConfig: 'local'};</script>\n",
                            "        <script src=\"https://cdn.plot.ly/plotly-2.17.1.min.js\"></script>                <div id=\"247f7a59-3cb2-4d78-beca-a8c55de0be81\" class=\"plotly-graph-div\" style=\"height:525px; width:100%;\"></div>            <script type=\"text/javascript\">                                    window.PLOTLYENV=window.PLOTLYENV || {};                                    if (document.getElementById(\"247f7a59-3cb2-4d78-beca-a8c55de0be81\")) {                    Plotly.newPlot(                        \"247f7a59-3cb2-4d78-beca-a8c55de0be81\",                        [{\"coloraxis\":\"coloraxis\",\"name\":\"0\",\"x\":[\"<|endoftext|>_0\",\"After_1\",\" John_2\",\" and_3\",\" Mary_4\",\" went_5\",\" to_6\",\" the_7\",\" store_8\",\",_9\",\" Mary_10\",\" gave_11\",\" a_12\",\" bottle_13\",\" of_14\",\" milk_15\",\" to_16\"],\"z\":[[0.0,0.0,0.0,0.0,0.0,0.0,0.0,0.0,0.0,0.0,1.0,0.0,0.0,0.0,0.0,0.0,0.0],[0.0,0.0,0.0,0.0,0.0,0.0,0.0,0.0,0.0,0.0,0.9981456995010376,0.0015992368571460247,0.00015037883713375777,-0.00037227600114420056,-2.257042251585517e-05,-0.0006300683016888797,-0.0005123214214108884],[0.0,0.0,0.0,0.0,0.0,0.0,0.0,0.0,0.0,0.0,0.9980529546737671,0.002285051392391324,0.00018409850599709898,-0.0005068827304057777,-0.00026785381487570703,-5.302689896780066e-05,-0.001280259690247476],[0.0,0.0,0.0,0.0,0.0,0.0,0.0,0.0,0.0,0.0,0.9967364072799683,0.0040817116387188435,0.0009732475155033171,4.650051050703041e-05,-0.00015908069326542318,-0.0003355650987941772,-0.001944591524079442],[0.0,0.0,0.0,0.0,0.0,0.0,0.0,0.0,0.0,0.0,0.9905855655670166,0.019987333565950394,0.001893468201160431,0.0010124058462679386,-6.798320100642741e-05,0.0009120626491494477,-0.0018999945605173707],[0.0,0.0,0.0,0.0,0.0,0.0,0.0,0.0,0.0,0.0,0.961650550365448,0.08534584194421768,0.005203706212341785,0.003054893109947443,0.00019579162471927702,0.0011073104105889797,-0.0022845075000077486],[0.0,0.0,0.0,0.0,0.0,0.0,0.0,0.0,0.0,0.0,0.963096559047699,0.08437014371156693,0.004123317077755928,0.000719534233212471,0.00010306253534508869,0.001002616249024868,-0.004213599022477865],[0.0,0.0,0.0,0.0,0.0,0.0,0.0,0.0,0.0,0.0,0.9359157681465149,0.11111718416213989,0.007705488242208958,0.00037581115611828864,0.00036520574940368533,0.0013256724923849106,0.01874704845249653],[0.0,0.0,0.0,0.0,0.0,0.0,0.0,0.0,0.0,0.0,0.7701542377471924,0.037420131266117096,0.0020664173644036055,-8.321143832290545e-05,0.00013406288053374738,0.0017278611194342375,0.4499046802520752],[0.0,0.0,0.0,0.0,0.0,0.0,0.0,0.0,0.0,0.0,0.09650269895792007,0.02592661790549755,0.0019715128000825644,0.0003274070913903415,0.0004261186986695975,0.0018855821108445525,0.8994713425636292],[0.0,0.0,0.0,0.0,0.0,0.0,0.0,0.0,0.0,0.0,-0.023324493318796158,0.01853521168231964,0.0015859121922403574,0.0005256461445242167,0.0002561607107054442,0.0008723604260012507,0.9612748622894287],[0.0,0.0,0.0,0.0,0.0,0.0,0.0,0.0,0.0,0.0,-0.008557181805372238,0.006339297629892826,0.0005811204318888485,-0.00034073181450366974,0.00011013278708560392,0.0006496474961750209,0.9495801329612732]],\"type\":\"heatmap\",\"xaxis\":\"x\",\"yaxis\":\"y\",\"hovertemplate\":\"Position: %{x}<br>Layer: %{y}<br>color: %{z}<extra></extra>\"}],                        {\"template\":{\"data\":{\"histogram2dcontour\":[{\"type\":\"histogram2dcontour\",\"colorbar\":{\"outlinewidth\":0,\"ticks\":\"\"},\"colorscale\":[[0.0,\"#0d0887\"],[0.1111111111111111,\"#46039f\"],[0.2222222222222222,\"#7201a8\"],[0.3333333333333333,\"#9c179e\"],[0.4444444444444444,\"#bd3786\"],[0.5555555555555556,\"#d8576b\"],[0.6666666666666666,\"#ed7953\"],[0.7777777777777778,\"#fb9f3a\"],[0.8888888888888888,\"#fdca26\"],[1.0,\"#f0f921\"]]}],\"choropleth\":[{\"type\":\"choropleth\",\"colorbar\":{\"outlinewidth\":0,\"ticks\":\"\"}}],\"histogram2d\":[{\"type\":\"histogram2d\",\"colorbar\":{\"outlinewidth\":0,\"ticks\":\"\"},\"colorscale\":[[0.0,\"#0d0887\"],[0.1111111111111111,\"#46039f\"],[0.2222222222222222,\"#7201a8\"],[0.3333333333333333,\"#9c179e\"],[0.4444444444444444,\"#bd3786\"],[0.5555555555555556,\"#d8576b\"],[0.6666666666666666,\"#ed7953\"],[0.7777777777777778,\"#fb9f3a\"],[0.8888888888888888,\"#fdca26\"],[1.0,\"#f0f921\"]]}],\"heatmap\":[{\"type\":\"heatmap\",\"colorbar\":{\"outlinewidth\":0,\"ticks\":\"\"},\"colorscale\":[[0.0,\"#0d0887\"],[0.1111111111111111,\"#46039f\"],[0.2222222222222222,\"#7201a8\"],[0.3333333333333333,\"#9c179e\"],[0.4444444444444444,\"#bd3786\"],[0.5555555555555556,\"#d8576b\"],[0.6666666666666666,\"#ed7953\"],[0.7777777777777778,\"#fb9f3a\"],[0.8888888888888888,\"#fdca26\"],[1.0,\"#f0f921\"]]}],\"heatmapgl\":[{\"type\":\"heatmapgl\",\"colorbar\":{\"outlinewidth\":0,\"ticks\":\"\"},\"colorscale\":[[0.0,\"#0d0887\"],[0.1111111111111111,\"#46039f\"],[0.2222222222222222,\"#7201a8\"],[0.3333333333333333,\"#9c179e\"],[0.4444444444444444,\"#bd3786\"],[0.5555555555555556,\"#d8576b\"],[0.6666666666666666,\"#ed7953\"],[0.7777777777777778,\"#fb9f3a\"],[0.8888888888888888,\"#fdca26\"],[1.0,\"#f0f921\"]]}],\"contourcarpet\":[{\"type\":\"contourcarpet\",\"colorbar\":{\"outlinewidth\":0,\"ticks\":\"\"}}],\"contour\":[{\"type\":\"contour\",\"colorbar\":{\"outlinewidth\":0,\"ticks\":\"\"},\"colorscale\":[[0.0,\"#0d0887\"],[0.1111111111111111,\"#46039f\"],[0.2222222222222222,\"#7201a8\"],[0.3333333333333333,\"#9c179e\"],[0.4444444444444444,\"#bd3786\"],[0.5555555555555556,\"#d8576b\"],[0.6666666666666666,\"#ed7953\"],[0.7777777777777778,\"#fb9f3a\"],[0.8888888888888888,\"#fdca26\"],[1.0,\"#f0f921\"]]}],\"surface\":[{\"type\":\"surface\",\"colorbar\":{\"outlinewidth\":0,\"ticks\":\"\"},\"colorscale\":[[0.0,\"#0d0887\"],[0.1111111111111111,\"#46039f\"],[0.2222222222222222,\"#7201a8\"],[0.3333333333333333,\"#9c179e\"],[0.4444444444444444,\"#bd3786\"],[0.5555555555555556,\"#d8576b\"],[0.6666666666666666,\"#ed7953\"],[0.7777777777777778,\"#fb9f3a\"],[0.8888888888888888,\"#fdca26\"],[1.0,\"#f0f921\"]]}],\"mesh3d\":[{\"type\":\"mesh3d\",\"colorbar\":{\"outlinewidth\":0,\"ticks\":\"\"}}],\"scatter\":[{\"fillpattern\":{\"fillmode\":\"overlay\",\"size\":10,\"solidity\":0.2},\"type\":\"scatter\"}],\"parcoords\":[{\"type\":\"parcoords\",\"line\":{\"colorbar\":{\"outlinewidth\":0,\"ticks\":\"\"}}}],\"scatterpolargl\":[{\"type\":\"scatterpolargl\",\"marker\":{\"colorbar\":{\"outlinewidth\":0,\"ticks\":\"\"}}}],\"bar\":[{\"error_x\":{\"color\":\"#2a3f5f\"},\"error_y\":{\"color\":\"#2a3f5f\"},\"marker\":{\"line\":{\"color\":\"#E5ECF6\",\"width\":0.5},\"pattern\":{\"fillmode\":\"overlay\",\"size\":10,\"solidity\":0.2}},\"type\":\"bar\"}],\"scattergeo\":[{\"type\":\"scattergeo\",\"marker\":{\"colorbar\":{\"outlinewidth\":0,\"ticks\":\"\"}}}],\"scatterpolar\":[{\"type\":\"scatterpolar\",\"marker\":{\"colorbar\":{\"outlinewidth\":0,\"ticks\":\"\"}}}],\"histogram\":[{\"marker\":{\"pattern\":{\"fillmode\":\"overlay\",\"size\":10,\"solidity\":0.2}},\"type\":\"histogram\"}],\"scattergl\":[{\"type\":\"scattergl\",\"marker\":{\"colorbar\":{\"outlinewidth\":0,\"ticks\":\"\"}}}],\"scatter3d\":[{\"type\":\"scatter3d\",\"line\":{\"colorbar\":{\"outlinewidth\":0,\"ticks\":\"\"}},\"marker\":{\"colorbar\":{\"outlinewidth\":0,\"ticks\":\"\"}}}],\"scattermapbox\":[{\"type\":\"scattermapbox\",\"marker\":{\"colorbar\":{\"outlinewidth\":0,\"ticks\":\"\"}}}],\"scatterternary\":[{\"type\":\"scatterternary\",\"marker\":{\"colorbar\":{\"outlinewidth\":0,\"ticks\":\"\"}}}],\"scattercarpet\":[{\"type\":\"scattercarpet\",\"marker\":{\"colorbar\":{\"outlinewidth\":0,\"ticks\":\"\"}}}],\"carpet\":[{\"aaxis\":{\"endlinecolor\":\"#2a3f5f\",\"gridcolor\":\"white\",\"linecolor\":\"white\",\"minorgridcolor\":\"white\",\"startlinecolor\":\"#2a3f5f\"},\"baxis\":{\"endlinecolor\":\"#2a3f5f\",\"gridcolor\":\"white\",\"linecolor\":\"white\",\"minorgridcolor\":\"white\",\"startlinecolor\":\"#2a3f5f\"},\"type\":\"carpet\"}],\"table\":[{\"cells\":{\"fill\":{\"color\":\"#EBF0F8\"},\"line\":{\"color\":\"white\"}},\"header\":{\"fill\":{\"color\":\"#C8D4E3\"},\"line\":{\"color\":\"white\"}},\"type\":\"table\"}],\"barpolar\":[{\"marker\":{\"line\":{\"color\":\"#E5ECF6\",\"width\":0.5},\"pattern\":{\"fillmode\":\"overlay\",\"size\":10,\"solidity\":0.2}},\"type\":\"barpolar\"}],\"pie\":[{\"automargin\":true,\"type\":\"pie\"}]},\"layout\":{\"autotypenumbers\":\"strict\",\"colorway\":[\"#636efa\",\"#EF553B\",\"#00cc96\",\"#ab63fa\",\"#FFA15A\",\"#19d3f3\",\"#FF6692\",\"#B6E880\",\"#FF97FF\",\"#FECB52\"],\"font\":{\"color\":\"#2a3f5f\"},\"hovermode\":\"closest\",\"hoverlabel\":{\"align\":\"left\"},\"paper_bgcolor\":\"white\",\"plot_bgcolor\":\"#E5ECF6\",\"polar\":{\"bgcolor\":\"#E5ECF6\",\"angularaxis\":{\"gridcolor\":\"white\",\"linecolor\":\"white\",\"ticks\":\"\"},\"radialaxis\":{\"gridcolor\":\"white\",\"linecolor\":\"white\",\"ticks\":\"\"}},\"ternary\":{\"bgcolor\":\"#E5ECF6\",\"aaxis\":{\"gridcolor\":\"white\",\"linecolor\":\"white\",\"ticks\":\"\"},\"baxis\":{\"gridcolor\":\"white\",\"linecolor\":\"white\",\"ticks\":\"\"},\"caxis\":{\"gridcolor\":\"white\",\"linecolor\":\"white\",\"ticks\":\"\"}},\"coloraxis\":{\"colorbar\":{\"outlinewidth\":0,\"ticks\":\"\"}},\"colorscale\":{\"sequential\":[[0.0,\"#0d0887\"],[0.1111111111111111,\"#46039f\"],[0.2222222222222222,\"#7201a8\"],[0.3333333333333333,\"#9c179e\"],[0.4444444444444444,\"#bd3786\"],[0.5555555555555556,\"#d8576b\"],[0.6666666666666666,\"#ed7953\"],[0.7777777777777778,\"#fb9f3a\"],[0.8888888888888888,\"#fdca26\"],[1.0,\"#f0f921\"]],\"sequentialminus\":[[0.0,\"#0d0887\"],[0.1111111111111111,\"#46039f\"],[0.2222222222222222,\"#7201a8\"],[0.3333333333333333,\"#9c179e\"],[0.4444444444444444,\"#bd3786\"],[0.5555555555555556,\"#d8576b\"],[0.6666666666666666,\"#ed7953\"],[0.7777777777777778,\"#fb9f3a\"],[0.8888888888888888,\"#fdca26\"],[1.0,\"#f0f921\"]],\"diverging\":[[0,\"#8e0152\"],[0.1,\"#c51b7d\"],[0.2,\"#de77ae\"],[0.3,\"#f1b6da\"],[0.4,\"#fde0ef\"],[0.5,\"#f7f7f7\"],[0.6,\"#e6f5d0\"],[0.7,\"#b8e186\"],[0.8,\"#7fbc41\"],[0.9,\"#4d9221\"],[1,\"#276419\"]]},\"xaxis\":{\"gridcolor\":\"white\",\"linecolor\":\"white\",\"ticks\":\"\",\"title\":{\"standoff\":15},\"zerolinecolor\":\"white\",\"automargin\":true,\"zerolinewidth\":2},\"yaxis\":{\"gridcolor\":\"white\",\"linecolor\":\"white\",\"ticks\":\"\",\"title\":{\"standoff\":15},\"zerolinecolor\":\"white\",\"automargin\":true,\"zerolinewidth\":2},\"scene\":{\"xaxis\":{\"backgroundcolor\":\"#E5ECF6\",\"gridcolor\":\"white\",\"linecolor\":\"white\",\"showbackground\":true,\"ticks\":\"\",\"zerolinecolor\":\"white\",\"gridwidth\":2},\"yaxis\":{\"backgroundcolor\":\"#E5ECF6\",\"gridcolor\":\"white\",\"linecolor\":\"white\",\"showbackground\":true,\"ticks\":\"\",\"zerolinecolor\":\"white\",\"gridwidth\":2},\"zaxis\":{\"backgroundcolor\":\"#E5ECF6\",\"gridcolor\":\"white\",\"linecolor\":\"white\",\"showbackground\":true,\"ticks\":\"\",\"zerolinecolor\":\"white\",\"gridwidth\":2}},\"shapedefaults\":{\"line\":{\"color\":\"#2a3f5f\"}},\"annotationdefaults\":{\"arrowcolor\":\"#2a3f5f\",\"arrowhead\":0,\"arrowwidth\":1},\"geo\":{\"bgcolor\":\"white\",\"landcolor\":\"#E5ECF6\",\"subunitcolor\":\"white\",\"showland\":true,\"showlakes\":true,\"lakecolor\":\"white\"},\"title\":{\"x\":0.05},\"mapbox\":{\"style\":\"light\"}}},\"xaxis\":{\"anchor\":\"y\",\"domain\":[0.0,1.0],\"scaleanchor\":\"y\",\"constrain\":\"domain\",\"title\":{\"text\":\"Position\"}},\"yaxis\":{\"anchor\":\"x\",\"domain\":[0.0,1.0],\"autorange\":\"reversed\",\"constrain\":\"domain\",\"title\":{\"text\":\"Layer\"}},\"coloraxis\":{\"colorscale\":[[0.0,\"rgb(103,0,31)\"],[0.1,\"rgb(178,24,43)\"],[0.2,\"rgb(214,96,77)\"],[0.3,\"rgb(244,165,130)\"],[0.4,\"rgb(253,219,199)\"],[0.5,\"rgb(247,247,247)\"],[0.6,\"rgb(209,229,240)\"],[0.7,\"rgb(146,197,222)\"],[0.8,\"rgb(67,147,195)\"],[0.9,\"rgb(33,102,172)\"],[1.0,\"rgb(5,48,97)\"]],\"cmid\":0.0},\"title\":{\"text\":\"Normalized Logit Difference After Patching Residual Stream on the IOI Task\"}},                        {\"responsive\": true}                    ).then(function(){\n",
                            "                            \n",
                            "var gd = document.getElementById('247f7a59-3cb2-4d78-beca-a8c55de0be81');\n",
                            "var x = new MutationObserver(function (mutations, observer) {{\n",
                            "        var display = window.getComputedStyle(gd).display;\n",
                            "        if (!display || display === 'none') {{\n",
                            "            console.log([gd, 'removed!']);\n",
                            "            Plotly.purge(gd);\n",
                            "            observer.disconnect();\n",
                            "        }}\n",
                            "}});\n",
                            "\n",
                            "// Listen for the removal of the full notebook cells\n",
                            "var notebookContainer = gd.closest('#notebook-container');\n",
                            "if (notebookContainer) {{\n",
                            "    x.observe(notebookContainer, {childList: true});\n",
                            "}}\n",
                            "\n",
                            "// Listen for the clearing of the current output cell\n",
                            "var outputEl = gd.closest('.output');\n",
                            "if (outputEl) {{\n",
                            "    x.observe(outputEl, {childList: true});\n",
                            "}}\n",
                            "\n",
                            "                        })                };                            </script>        </div>\n",
                            "</body>\n",
                            "</html>"
                        ]
                    },
                    "metadata": {},
                    "output_type": "display_data"
                }
            ],
            "source": [
                "%matplotlib inline\n",
                "# Add the index to the end of the label, because plotly doesn't like duplicate labels\n",
                "token_labels = [f\"{token}_{index}\" for index, token in enumerate(model.to_str_tokens(clean_tokens))]\n",
                "imshow(ioi_patching_result, x=token_labels, xaxis=\"Position\", yaxis=\"Layer\", title=\"Normalized Logit Difference After Patching Residual Stream on the IOI Task\")"
            ]
        },
        {
            "attachments": {},
            "cell_type": "markdown",
            "metadata": {},
            "source": [
                "## Hooks: Accessing Activations"
            ]
        },
        {
            "cell_type": "markdown",
            "metadata": {},
            "source": [
                "Hooks can also be used to just **access** an activation - to run some function using that activation value, *without* changing the activation value. This can be achieved by just having the hook return nothing, and not editing the activation in place. \n",
                "\n",
                "This is useful for eg extracting activations for a specific task, or for doing some long-running calculation across many inputs, eg finding the text that most activates a specific neuron. (Note - everything this can do *could* be done with `run_with_cache` and post-processing, but this workflow can be more intuitive and memory efficient.)"
            ]
        },
        {
            "cell_type": "markdown",
            "metadata": {},
            "source": [
                "To demonstrate this, let's look for **[induction heads](https://transformer-circuits.pub/2022/in-context-learning-and-induction-heads/index.html)** in GPT-2 Small. \n",
                "\n",
                "Induction circuits are a very important circuit in generative language models, which are used to detect and continue repeated subsequences. They consist of two heads in separate layers that compose together, a **previous token head** which always attends to the previous token, and an **induction head** which attends to the token *after* an earlier copy of the current token. \n",
                "\n",
                "To see why this is important, let's say that the model is trying to predict the next token in a news article about Michael Jordan. The token \" Michael\", in general, could be followed by many surnames. But an induction head will look from that occurence of \" Michael\" to the token after previous occurences of \" Michael\", ie \" Jordan\" and can confidently predict that that will come next."
            ]
        },
        {
            "cell_type": "markdown",
            "metadata": {},
            "source": [
                "An interesting fact about induction heads is that they generalise to arbitrary sequences of repeated tokens. We can see this by generating sequences of 50 random tokens, repeated twice, and plotting the average loss at predicting the next token, by position. We see that the model goes from terrible to very good at the halfway point."
            ]
        },
        {
            "cell_type": "code",
            "execution_count": 20,
            "metadata": {},
            "outputs": [
                {
                    "data": {
                        "text/html": [
                            "<html>\n",
                            "<head><meta charset=\"utf-8\" /></head>\n",
                            "<body>\n",
                            "    <div>            <script src=\"https://cdnjs.cloudflare.com/ajax/libs/mathjax/2.7.5/MathJax.js?config=TeX-AMS-MML_SVG\"></script><script type=\"text/javascript\">if (window.MathJax && window.MathJax.Hub && window.MathJax.Hub.Config) {window.MathJax.Hub.Config({SVG: {font: \"STIX-Web\"}});}</script>                <script type=\"text/javascript\">window.PlotlyConfig = {MathJaxConfig: 'local'};</script>\n",
                            "        <script src=\"https://cdn.plot.ly/plotly-2.17.1.min.js\"></script>                <div id=\"e6d08313-bd8b-4d5b-9def-9dd9b8b5e504\" class=\"plotly-graph-div\" style=\"height:525px; width:100%;\"></div>            <script type=\"text/javascript\">                                    window.PLOTLYENV=window.PLOTLYENV || {};                                    if (document.getElementById(\"e6d08313-bd8b-4d5b-9def-9dd9b8b5e504\")) {                    Plotly.newPlot(                        \"e6d08313-bd8b-4d5b-9def-9dd9b8b5e504\",                        [{\"hovertemplate\":\"variable=0<br>index=%{x}<br>value=%{y}<extra></extra>\",\"legendgroup\":\"0\",\"line\":{\"color\":\"#636efa\",\"dash\":\"solid\"},\"marker\":{\"symbol\":\"circle\"},\"mode\":\"lines\",\"name\":\"0\",\"orientation\":\"v\",\"showlegend\":true,\"x\":[0,1,2,3,4,5,6,7,8,9,10,11,12,13,14,15,16,17,18,19,20,21,22,23,24,25,26,27,28,29,30,31,32,33,34,35,36,37,38,39,40,41,42,43,44,45,46,47,48,49,50,51,52,53,54,55,56,57,58,59,60,61,62,63,64,65,66,67,68,69,70,71,72,73,74,75,76,77,78,79,80,81,82,83,84,85,86,87,88,89,90,91,92,93,94,95,96,97,98],\"xaxis\":\"x\",\"y\":[10.50337028503418,14.358390808105469,15.352145195007324,12.84899616241455,13.843167304992676,14.1926908493042,12.39952564239502,12.280430793762207,12.5134916305542,11.890809059143066,12.055753707885742,11.547258377075195,11.640917778015137,12.376867294311523,12.345946311950684,12.575708389282227,11.923962593078613,13.731430053710938,12.47661018371582,11.596091270446777,11.769506454467773,13.503756523132324,11.62971305847168,11.394063949584961,12.117669105529785,11.807512283325195,11.909967422485352,12.39665412902832,11.779401779174805,11.7000093460083,12.419266700744629,12.10555648803711,10.843303680419922,13.39586067199707,11.140071868896484,11.336336135864258,11.755762100219727,11.890350341796875,11.417040824890137,11.19497299194336,11.097542762756348,12.539106369018555,10.767635345458984,11.665358543395996,11.77434253692627,11.12080192565918,11.002309799194336,10.205872535705566,11.270879745483398,11.786261558532715,2.8644022941589355,1.1012794971466064,0.25988951325416565,0.5218259692192078,0.41459545493125916,0.26610442996025085,0.29918378591537476,0.07220568507909775,0.23052339255809784,0.1455298364162445,0.06805126368999481,0.1294078230857849,0.19670996069908142,0.10962716490030289,0.20340006053447723,0.21790993213653564,0.04094935953617096,0.13419562578201294,0.03125503286719322,0.11271706968545914,0.19832171499729156,0.06827187538146973,0.06605693697929382,0.030461180955171585,0.03512752801179886,0.07214270532131195,0.05966617539525032,0.12642261385917664,0.1463671773672104,0.1328166127204895,0.03432026505470276,0.7024174332618713,0.05243493989109993,0.030735984444618225,0.031447164714336395,0.15928541123867035,0.012315389700233936,0.01427331380546093,0.05609460920095444,0.02749471925199032,0.08952060341835022,0.0840001255273819,0.016485968604683876,0.03510572388768196,0.09981139004230499,0.19748863577842712,0.05242287367582321,0.0960138663649559,0.0808839276432991],\"yaxis\":\"y\",\"type\":\"scatter\"}],                        {\"template\":{\"data\":{\"histogram2dcontour\":[{\"type\":\"histogram2dcontour\",\"colorbar\":{\"outlinewidth\":0,\"ticks\":\"\"},\"colorscale\":[[0.0,\"#0d0887\"],[0.1111111111111111,\"#46039f\"],[0.2222222222222222,\"#7201a8\"],[0.3333333333333333,\"#9c179e\"],[0.4444444444444444,\"#bd3786\"],[0.5555555555555556,\"#d8576b\"],[0.6666666666666666,\"#ed7953\"],[0.7777777777777778,\"#fb9f3a\"],[0.8888888888888888,\"#fdca26\"],[1.0,\"#f0f921\"]]}],\"choropleth\":[{\"type\":\"choropleth\",\"colorbar\":{\"outlinewidth\":0,\"ticks\":\"\"}}],\"histogram2d\":[{\"type\":\"histogram2d\",\"colorbar\":{\"outlinewidth\":0,\"ticks\":\"\"},\"colorscale\":[[0.0,\"#0d0887\"],[0.1111111111111111,\"#46039f\"],[0.2222222222222222,\"#7201a8\"],[0.3333333333333333,\"#9c179e\"],[0.4444444444444444,\"#bd3786\"],[0.5555555555555556,\"#d8576b\"],[0.6666666666666666,\"#ed7953\"],[0.7777777777777778,\"#fb9f3a\"],[0.8888888888888888,\"#fdca26\"],[1.0,\"#f0f921\"]]}],\"heatmap\":[{\"type\":\"heatmap\",\"colorbar\":{\"outlinewidth\":0,\"ticks\":\"\"},\"colorscale\":[[0.0,\"#0d0887\"],[0.1111111111111111,\"#46039f\"],[0.2222222222222222,\"#7201a8\"],[0.3333333333333333,\"#9c179e\"],[0.4444444444444444,\"#bd3786\"],[0.5555555555555556,\"#d8576b\"],[0.6666666666666666,\"#ed7953\"],[0.7777777777777778,\"#fb9f3a\"],[0.8888888888888888,\"#fdca26\"],[1.0,\"#f0f921\"]]}],\"heatmapgl\":[{\"type\":\"heatmapgl\",\"colorbar\":{\"outlinewidth\":0,\"ticks\":\"\"},\"colorscale\":[[0.0,\"#0d0887\"],[0.1111111111111111,\"#46039f\"],[0.2222222222222222,\"#7201a8\"],[0.3333333333333333,\"#9c179e\"],[0.4444444444444444,\"#bd3786\"],[0.5555555555555556,\"#d8576b\"],[0.6666666666666666,\"#ed7953\"],[0.7777777777777778,\"#fb9f3a\"],[0.8888888888888888,\"#fdca26\"],[1.0,\"#f0f921\"]]}],\"contourcarpet\":[{\"type\":\"contourcarpet\",\"colorbar\":{\"outlinewidth\":0,\"ticks\":\"\"}}],\"contour\":[{\"type\":\"contour\",\"colorbar\":{\"outlinewidth\":0,\"ticks\":\"\"},\"colorscale\":[[0.0,\"#0d0887\"],[0.1111111111111111,\"#46039f\"],[0.2222222222222222,\"#7201a8\"],[0.3333333333333333,\"#9c179e\"],[0.4444444444444444,\"#bd3786\"],[0.5555555555555556,\"#d8576b\"],[0.6666666666666666,\"#ed7953\"],[0.7777777777777778,\"#fb9f3a\"],[0.8888888888888888,\"#fdca26\"],[1.0,\"#f0f921\"]]}],\"surface\":[{\"type\":\"surface\",\"colorbar\":{\"outlinewidth\":0,\"ticks\":\"\"},\"colorscale\":[[0.0,\"#0d0887\"],[0.1111111111111111,\"#46039f\"],[0.2222222222222222,\"#7201a8\"],[0.3333333333333333,\"#9c179e\"],[0.4444444444444444,\"#bd3786\"],[0.5555555555555556,\"#d8576b\"],[0.6666666666666666,\"#ed7953\"],[0.7777777777777778,\"#fb9f3a\"],[0.8888888888888888,\"#fdca26\"],[1.0,\"#f0f921\"]]}],\"mesh3d\":[{\"type\":\"mesh3d\",\"colorbar\":{\"outlinewidth\":0,\"ticks\":\"\"}}],\"scatter\":[{\"fillpattern\":{\"fillmode\":\"overlay\",\"size\":10,\"solidity\":0.2},\"type\":\"scatter\"}],\"parcoords\":[{\"type\":\"parcoords\",\"line\":{\"colorbar\":{\"outlinewidth\":0,\"ticks\":\"\"}}}],\"scatterpolargl\":[{\"type\":\"scatterpolargl\",\"marker\":{\"colorbar\":{\"outlinewidth\":0,\"ticks\":\"\"}}}],\"bar\":[{\"error_x\":{\"color\":\"#2a3f5f\"},\"error_y\":{\"color\":\"#2a3f5f\"},\"marker\":{\"line\":{\"color\":\"#E5ECF6\",\"width\":0.5},\"pattern\":{\"fillmode\":\"overlay\",\"size\":10,\"solidity\":0.2}},\"type\":\"bar\"}],\"scattergeo\":[{\"type\":\"scattergeo\",\"marker\":{\"colorbar\":{\"outlinewidth\":0,\"ticks\":\"\"}}}],\"scatterpolar\":[{\"type\":\"scatterpolar\",\"marker\":{\"colorbar\":{\"outlinewidth\":0,\"ticks\":\"\"}}}],\"histogram\":[{\"marker\":{\"pattern\":{\"fillmode\":\"overlay\",\"size\":10,\"solidity\":0.2}},\"type\":\"histogram\"}],\"scattergl\":[{\"type\":\"scattergl\",\"marker\":{\"colorbar\":{\"outlinewidth\":0,\"ticks\":\"\"}}}],\"scatter3d\":[{\"type\":\"scatter3d\",\"line\":{\"colorbar\":{\"outlinewidth\":0,\"ticks\":\"\"}},\"marker\":{\"colorbar\":{\"outlinewidth\":0,\"ticks\":\"\"}}}],\"scattermapbox\":[{\"type\":\"scattermapbox\",\"marker\":{\"colorbar\":{\"outlinewidth\":0,\"ticks\":\"\"}}}],\"scatterternary\":[{\"type\":\"scatterternary\",\"marker\":{\"colorbar\":{\"outlinewidth\":0,\"ticks\":\"\"}}}],\"scattercarpet\":[{\"type\":\"scattercarpet\",\"marker\":{\"colorbar\":{\"outlinewidth\":0,\"ticks\":\"\"}}}],\"carpet\":[{\"aaxis\":{\"endlinecolor\":\"#2a3f5f\",\"gridcolor\":\"white\",\"linecolor\":\"white\",\"minorgridcolor\":\"white\",\"startlinecolor\":\"#2a3f5f\"},\"baxis\":{\"endlinecolor\":\"#2a3f5f\",\"gridcolor\":\"white\",\"linecolor\":\"white\",\"minorgridcolor\":\"white\",\"startlinecolor\":\"#2a3f5f\"},\"type\":\"carpet\"}],\"table\":[{\"cells\":{\"fill\":{\"color\":\"#EBF0F8\"},\"line\":{\"color\":\"white\"}},\"header\":{\"fill\":{\"color\":\"#C8D4E3\"},\"line\":{\"color\":\"white\"}},\"type\":\"table\"}],\"barpolar\":[{\"marker\":{\"line\":{\"color\":\"#E5ECF6\",\"width\":0.5},\"pattern\":{\"fillmode\":\"overlay\",\"size\":10,\"solidity\":0.2}},\"type\":\"barpolar\"}],\"pie\":[{\"automargin\":true,\"type\":\"pie\"}]},\"layout\":{\"autotypenumbers\":\"strict\",\"colorway\":[\"#636efa\",\"#EF553B\",\"#00cc96\",\"#ab63fa\",\"#FFA15A\",\"#19d3f3\",\"#FF6692\",\"#B6E880\",\"#FF97FF\",\"#FECB52\"],\"font\":{\"color\":\"#2a3f5f\"},\"hovermode\":\"closest\",\"hoverlabel\":{\"align\":\"left\"},\"paper_bgcolor\":\"white\",\"plot_bgcolor\":\"#E5ECF6\",\"polar\":{\"bgcolor\":\"#E5ECF6\",\"angularaxis\":{\"gridcolor\":\"white\",\"linecolor\":\"white\",\"ticks\":\"\"},\"radialaxis\":{\"gridcolor\":\"white\",\"linecolor\":\"white\",\"ticks\":\"\"}},\"ternary\":{\"bgcolor\":\"#E5ECF6\",\"aaxis\":{\"gridcolor\":\"white\",\"linecolor\":\"white\",\"ticks\":\"\"},\"baxis\":{\"gridcolor\":\"white\",\"linecolor\":\"white\",\"ticks\":\"\"},\"caxis\":{\"gridcolor\":\"white\",\"linecolor\":\"white\",\"ticks\":\"\"}},\"coloraxis\":{\"colorbar\":{\"outlinewidth\":0,\"ticks\":\"\"}},\"colorscale\":{\"sequential\":[[0.0,\"#0d0887\"],[0.1111111111111111,\"#46039f\"],[0.2222222222222222,\"#7201a8\"],[0.3333333333333333,\"#9c179e\"],[0.4444444444444444,\"#bd3786\"],[0.5555555555555556,\"#d8576b\"],[0.6666666666666666,\"#ed7953\"],[0.7777777777777778,\"#fb9f3a\"],[0.8888888888888888,\"#fdca26\"],[1.0,\"#f0f921\"]],\"sequentialminus\":[[0.0,\"#0d0887\"],[0.1111111111111111,\"#46039f\"],[0.2222222222222222,\"#7201a8\"],[0.3333333333333333,\"#9c179e\"],[0.4444444444444444,\"#bd3786\"],[0.5555555555555556,\"#d8576b\"],[0.6666666666666666,\"#ed7953\"],[0.7777777777777778,\"#fb9f3a\"],[0.8888888888888888,\"#fdca26\"],[1.0,\"#f0f921\"]],\"diverging\":[[0,\"#8e0152\"],[0.1,\"#c51b7d\"],[0.2,\"#de77ae\"],[0.3,\"#f1b6da\"],[0.4,\"#fde0ef\"],[0.5,\"#f7f7f7\"],[0.6,\"#e6f5d0\"],[0.7,\"#b8e186\"],[0.8,\"#7fbc41\"],[0.9,\"#4d9221\"],[1,\"#276419\"]]},\"xaxis\":{\"gridcolor\":\"white\",\"linecolor\":\"white\",\"ticks\":\"\",\"title\":{\"standoff\":15},\"zerolinecolor\":\"white\",\"automargin\":true,\"zerolinewidth\":2},\"yaxis\":{\"gridcolor\":\"white\",\"linecolor\":\"white\",\"ticks\":\"\",\"title\":{\"standoff\":15},\"zerolinecolor\":\"white\",\"automargin\":true,\"zerolinewidth\":2},\"scene\":{\"xaxis\":{\"backgroundcolor\":\"#E5ECF6\",\"gridcolor\":\"white\",\"linecolor\":\"white\",\"showbackground\":true,\"ticks\":\"\",\"zerolinecolor\":\"white\",\"gridwidth\":2},\"yaxis\":{\"backgroundcolor\":\"#E5ECF6\",\"gridcolor\":\"white\",\"linecolor\":\"white\",\"showbackground\":true,\"ticks\":\"\",\"zerolinecolor\":\"white\",\"gridwidth\":2},\"zaxis\":{\"backgroundcolor\":\"#E5ECF6\",\"gridcolor\":\"white\",\"linecolor\":\"white\",\"showbackground\":true,\"ticks\":\"\",\"zerolinecolor\":\"white\",\"gridwidth\":2}},\"shapedefaults\":{\"line\":{\"color\":\"#2a3f5f\"}},\"annotationdefaults\":{\"arrowcolor\":\"#2a3f5f\",\"arrowhead\":0,\"arrowwidth\":1},\"geo\":{\"bgcolor\":\"white\",\"landcolor\":\"#E5ECF6\",\"subunitcolor\":\"white\",\"showland\":true,\"showlakes\":true,\"lakecolor\":\"white\"},\"title\":{\"x\":0.05},\"mapbox\":{\"style\":\"light\"}}},\"xaxis\":{\"anchor\":\"y\",\"domain\":[0.0,1.0],\"title\":{\"text\":\"index\"}},\"yaxis\":{\"anchor\":\"x\",\"domain\":[0.0,1.0],\"title\":{\"text\":\"value\"}},\"legend\":{\"title\":{\"text\":\"variable\"},\"tracegroupgap\":0},\"title\":{\"text\":\"Loss by position on random repeated tokens\"}},                        {\"responsive\": true}                    ).then(function(){\n",
                            "                            \n",
                            "var gd = document.getElementById('e6d08313-bd8b-4d5b-9def-9dd9b8b5e504');\n",
                            "var x = new MutationObserver(function (mutations, observer) {{\n",
                            "        var display = window.getComputedStyle(gd).display;\n",
                            "        if (!display || display === 'none') {{\n",
                            "            console.log([gd, 'removed!']);\n",
                            "            Plotly.purge(gd);\n",
                            "            observer.disconnect();\n",
                            "        }}\n",
                            "}});\n",
                            "\n",
                            "// Listen for the removal of the full notebook cells\n",
                            "var notebookContainer = gd.closest('#notebook-container');\n",
                            "if (notebookContainer) {{\n",
                            "    x.observe(notebookContainer, {childList: true});\n",
                            "}}\n",
                            "\n",
                            "// Listen for the clearing of the current output cell\n",
                            "var outputEl = gd.closest('.output');\n",
                            "if (outputEl) {{\n",
                            "    x.observe(outputEl, {childList: true});\n",
                            "}}\n",
                            "\n",
                            "                        })                };                            </script>        </div>\n",
                            "</body>\n",
                            "</html>"
                        ]
                    },
                    "metadata": {},
                    "output_type": "display_data"
                }
            ],
            "source": [
                "batch_size = 10\n",
                "seq_len = 50\n",
                "random_tokens = torch.randint(1000, 10000, (batch_size, seq_len)).to(model.cfg.device)\n",
                "repeated_tokens = einops.repeat(random_tokens, \"batch seq_len -> batch (2 seq_len)\")\n",
                "repeated_logits = model(repeated_tokens)\n",
                "correct_log_probs = model.loss_fn(repeated_logits, repeated_tokens, per_token=True)\n",
                "loss_by_position = einops.reduce(correct_log_probs, \"batch position -> position\", \"mean\")\n",
                "line(loss_by_position, xaxis=\"Position\", yaxis=\"Loss\", title=\"Loss by position on random repeated tokens\")"
            ]
        },
        {
            "cell_type": "markdown",
            "metadata": {},
            "source": [
                "The induction heads will be attending from the second occurence of each token to the token *after* its first occurence, ie the token `50-1==49` places back. So by looking at the average attention paid 49 tokens back, we can identify induction heads! Let's define a hook to do this!\n",
                "\n",
                "<details><summary>Technical details</summary>\n",
                "\n",
                "* We attach the hook to the attention pattern activation. There's one big pattern activation per layer, stacked across all heads, so we need to do some tensor manipulation to get a per-head score. \n",
                "* Hook functions can access global state, so we make a big tensor to store the induction head score for each head, and then we just add the score for each head to the appropriate position in the tensor. \n",
                "* To get a single hook function that works for each layer, we use the `hook.layer()` method to get the layer index (internally this is just inferred from the hook names).\n",
                "* As we want to add this to *every* activation pattern hook point, rather than giving the string for an activation name, this time we give a **name filter**. This is a Boolean function on hook point names, and it adds the hook function to every hook point where the function evaluates as true. \n",
                "    * `run_with_hooks` allows us to enter a list of (act_name, hook_function) pairs to all be added at once, so we could also have done this by inputting a list with a hook for each layer.\n",
                "</details>"
            ]
        },
        {
            "cell_type": "code",
            "execution_count": 19,
            "metadata": {},
            "outputs": [
                {
                    "data": {
                        "text/html": [
                            "<html>\n",
                            "<head><meta charset=\"utf-8\" /></head>\n",
                            "<body>\n",
                            "    <div>            <script src=\"https://cdnjs.cloudflare.com/ajax/libs/mathjax/2.7.5/MathJax.js?config=TeX-AMS-MML_SVG\"></script><script type=\"text/javascript\">if (window.MathJax && window.MathJax.Hub && window.MathJax.Hub.Config) {window.MathJax.Hub.Config({SVG: {font: \"STIX-Web\"}});}</script>                <script type=\"text/javascript\">window.PlotlyConfig = {MathJaxConfig: 'local'};</script>\n",
                            "        <script src=\"https://cdn.plot.ly/plotly-2.16.1.min.js\"></script>                <div id=\"0351729d-f7bd-4dff-8e0c-0159e788d6eb\" class=\"plotly-graph-div\" style=\"height:525px; width:100%;\"></div>            <script type=\"text/javascript\">                                    window.PLOTLYENV=window.PLOTLYENV || {};                                    if (document.getElementById(\"0351729d-f7bd-4dff-8e0c-0159e788d6eb\")) {                    Plotly.newPlot(                        \"0351729d-f7bd-4dff-8e0c-0159e788d6eb\",                        [{\"coloraxis\":\"coloraxis\",\"name\":\"0\",\"z\":[[0.009845897,0.00010739225,0.011965116,4.6391685e-7,0.00014374543,0.00015772857,0.009431697,0.0006924941,0.009592268,0.009263116,0.0069689606,0.01549733],[0.0008515702,0.00048757362,0.0021412952,0.014229859,0.005252996,0.010415156,0.014287308,0.012997905,0.013325559,0.015964549,0.0065351464,0.0007580837],[0.0045925723,0.018754967,0.0014369077,0.0010834769,0.0124404775,0.0018350423,0.0038135808,0.008261216,0.0034162104,0.0011589546,0.0007041311,0.010241941],[0.013932138,0.0075448267,0.0019522777,0.012203236,0.020048337,0.013246494,0.0015716385,0.0012640061,0.0072363764,0.013074266,0.008706542,0.0063366224],[0.015908567,0.014795145,0.015564123,0.008969006,0.018907672,0.013286521,0.008849657,0.0027541209,0.016721234,0.014685283,0.019363815,9.1746575e-9],[0.4593435,0.8983368,0.01365899,0.008506964,0.013812789,0.9293541,0.010772355,0.01860222,0.02852977,0.02761247,0.019766554,0.018179297],[0.009917188,0.016676152,0.01938403,0.014313027,0.024668086,0.012200025,0.030651039,0.011979866,0.009040098,0.9180728,0.03656692,0.012458795],[0.010785109,0.18082112,0.8458825,0.018389104,0.018577883,0.018624742,0.045821607,0.08584459,0.017446913,0.018828915,0.9134291,0.06278003],[0.016593171,0.4020053,0.017234534,0.043239776,0.0182269,0.014823633,0.14991932,0.013735405,0.030690031,0.031032033,0.06742787,0.024035063],[0.24678737,0.19003847,0.10590435,0.012400944,0.08340072,0.027829738,0.4409235,0.029761324,0.052328732,0.4667893,0.017830176,0.046301715],[0.3380286,0.50450027,0.040610585,0.14459799,0.06904957,0.016426167,0.30265534,0.4785508,0.052030724,0.01622346,0.15604296,0.25885916],[0.020020794,0.05508979,0.035944037,0.012775158,0.03888895,0.103544876,0.054535046,0.06993241,0.008403102,0.3095162,0.40937522,0.023624888]],\"type\":\"heatmap\",\"xaxis\":\"x\",\"yaxis\":\"y\",\"hovertemplate\":\"Head: %{x}<br>Layer: %{y}<br>color: %{z}<extra></extra>\"}],                        {\"template\":{\"data\":{\"histogram2dcontour\":[{\"type\":\"histogram2dcontour\",\"colorbar\":{\"outlinewidth\":0,\"ticks\":\"\"},\"colorscale\":[[0.0,\"#0d0887\"],[0.1111111111111111,\"#46039f\"],[0.2222222222222222,\"#7201a8\"],[0.3333333333333333,\"#9c179e\"],[0.4444444444444444,\"#bd3786\"],[0.5555555555555556,\"#d8576b\"],[0.6666666666666666,\"#ed7953\"],[0.7777777777777778,\"#fb9f3a\"],[0.8888888888888888,\"#fdca26\"],[1.0,\"#f0f921\"]]}],\"choropleth\":[{\"type\":\"choropleth\",\"colorbar\":{\"outlinewidth\":0,\"ticks\":\"\"}}],\"histogram2d\":[{\"type\":\"histogram2d\",\"colorbar\":{\"outlinewidth\":0,\"ticks\":\"\"},\"colorscale\":[[0.0,\"#0d0887\"],[0.1111111111111111,\"#46039f\"],[0.2222222222222222,\"#7201a8\"],[0.3333333333333333,\"#9c179e\"],[0.4444444444444444,\"#bd3786\"],[0.5555555555555556,\"#d8576b\"],[0.6666666666666666,\"#ed7953\"],[0.7777777777777778,\"#fb9f3a\"],[0.8888888888888888,\"#fdca26\"],[1.0,\"#f0f921\"]]}],\"heatmap\":[{\"type\":\"heatmap\",\"colorbar\":{\"outlinewidth\":0,\"ticks\":\"\"},\"colorscale\":[[0.0,\"#0d0887\"],[0.1111111111111111,\"#46039f\"],[0.2222222222222222,\"#7201a8\"],[0.3333333333333333,\"#9c179e\"],[0.4444444444444444,\"#bd3786\"],[0.5555555555555556,\"#d8576b\"],[0.6666666666666666,\"#ed7953\"],[0.7777777777777778,\"#fb9f3a\"],[0.8888888888888888,\"#fdca26\"],[1.0,\"#f0f921\"]]}],\"heatmapgl\":[{\"type\":\"heatmapgl\",\"colorbar\":{\"outlinewidth\":0,\"ticks\":\"\"},\"colorscale\":[[0.0,\"#0d0887\"],[0.1111111111111111,\"#46039f\"],[0.2222222222222222,\"#7201a8\"],[0.3333333333333333,\"#9c179e\"],[0.4444444444444444,\"#bd3786\"],[0.5555555555555556,\"#d8576b\"],[0.6666666666666666,\"#ed7953\"],[0.7777777777777778,\"#fb9f3a\"],[0.8888888888888888,\"#fdca26\"],[1.0,\"#f0f921\"]]}],\"contourcarpet\":[{\"type\":\"contourcarpet\",\"colorbar\":{\"outlinewidth\":0,\"ticks\":\"\"}}],\"contour\":[{\"type\":\"contour\",\"colorbar\":{\"outlinewidth\":0,\"ticks\":\"\"},\"colorscale\":[[0.0,\"#0d0887\"],[0.1111111111111111,\"#46039f\"],[0.2222222222222222,\"#7201a8\"],[0.3333333333333333,\"#9c179e\"],[0.4444444444444444,\"#bd3786\"],[0.5555555555555556,\"#d8576b\"],[0.6666666666666666,\"#ed7953\"],[0.7777777777777778,\"#fb9f3a\"],[0.8888888888888888,\"#fdca26\"],[1.0,\"#f0f921\"]]}],\"surface\":[{\"type\":\"surface\",\"colorbar\":{\"outlinewidth\":0,\"ticks\":\"\"},\"colorscale\":[[0.0,\"#0d0887\"],[0.1111111111111111,\"#46039f\"],[0.2222222222222222,\"#7201a8\"],[0.3333333333333333,\"#9c179e\"],[0.4444444444444444,\"#bd3786\"],[0.5555555555555556,\"#d8576b\"],[0.6666666666666666,\"#ed7953\"],[0.7777777777777778,\"#fb9f3a\"],[0.8888888888888888,\"#fdca26\"],[1.0,\"#f0f921\"]]}],\"mesh3d\":[{\"type\":\"mesh3d\",\"colorbar\":{\"outlinewidth\":0,\"ticks\":\"\"}}],\"scatter\":[{\"fillpattern\":{\"fillmode\":\"overlay\",\"size\":10,\"solidity\":0.2},\"type\":\"scatter\"}],\"parcoords\":[{\"type\":\"parcoords\",\"line\":{\"colorbar\":{\"outlinewidth\":0,\"ticks\":\"\"}}}],\"scatterpolargl\":[{\"type\":\"scatterpolargl\",\"marker\":{\"colorbar\":{\"outlinewidth\":0,\"ticks\":\"\"}}}],\"bar\":[{\"error_x\":{\"color\":\"#2a3f5f\"},\"error_y\":{\"color\":\"#2a3f5f\"},\"marker\":{\"line\":{\"color\":\"#E5ECF6\",\"width\":0.5},\"pattern\":{\"fillmode\":\"overlay\",\"size\":10,\"solidity\":0.2}},\"type\":\"bar\"}],\"scattergeo\":[{\"type\":\"scattergeo\",\"marker\":{\"colorbar\":{\"outlinewidth\":0,\"ticks\":\"\"}}}],\"scatterpolar\":[{\"type\":\"scatterpolar\",\"marker\":{\"colorbar\":{\"outlinewidth\":0,\"ticks\":\"\"}}}],\"histogram\":[{\"marker\":{\"pattern\":{\"fillmode\":\"overlay\",\"size\":10,\"solidity\":0.2}},\"type\":\"histogram\"}],\"scattergl\":[{\"type\":\"scattergl\",\"marker\":{\"colorbar\":{\"outlinewidth\":0,\"ticks\":\"\"}}}],\"scatter3d\":[{\"type\":\"scatter3d\",\"line\":{\"colorbar\":{\"outlinewidth\":0,\"ticks\":\"\"}},\"marker\":{\"colorbar\":{\"outlinewidth\":0,\"ticks\":\"\"}}}],\"scattermapbox\":[{\"type\":\"scattermapbox\",\"marker\":{\"colorbar\":{\"outlinewidth\":0,\"ticks\":\"\"}}}],\"scatterternary\":[{\"type\":\"scatterternary\",\"marker\":{\"colorbar\":{\"outlinewidth\":0,\"ticks\":\"\"}}}],\"scattercarpet\":[{\"type\":\"scattercarpet\",\"marker\":{\"colorbar\":{\"outlinewidth\":0,\"ticks\":\"\"}}}],\"carpet\":[{\"aaxis\":{\"endlinecolor\":\"#2a3f5f\",\"gridcolor\":\"white\",\"linecolor\":\"white\",\"minorgridcolor\":\"white\",\"startlinecolor\":\"#2a3f5f\"},\"baxis\":{\"endlinecolor\":\"#2a3f5f\",\"gridcolor\":\"white\",\"linecolor\":\"white\",\"minorgridcolor\":\"white\",\"startlinecolor\":\"#2a3f5f\"},\"type\":\"carpet\"}],\"table\":[{\"cells\":{\"fill\":{\"color\":\"#EBF0F8\"},\"line\":{\"color\":\"white\"}},\"header\":{\"fill\":{\"color\":\"#C8D4E3\"},\"line\":{\"color\":\"white\"}},\"type\":\"table\"}],\"barpolar\":[{\"marker\":{\"line\":{\"color\":\"#E5ECF6\",\"width\":0.5},\"pattern\":{\"fillmode\":\"overlay\",\"size\":10,\"solidity\":0.2}},\"type\":\"barpolar\"}],\"pie\":[{\"automargin\":true,\"type\":\"pie\"}]},\"layout\":{\"autotypenumbers\":\"strict\",\"colorway\":[\"#636efa\",\"#EF553B\",\"#00cc96\",\"#ab63fa\",\"#FFA15A\",\"#19d3f3\",\"#FF6692\",\"#B6E880\",\"#FF97FF\",\"#FECB52\"],\"font\":{\"color\":\"#2a3f5f\"},\"hovermode\":\"closest\",\"hoverlabel\":{\"align\":\"left\"},\"paper_bgcolor\":\"white\",\"plot_bgcolor\":\"#E5ECF6\",\"polar\":{\"bgcolor\":\"#E5ECF6\",\"angularaxis\":{\"gridcolor\":\"white\",\"linecolor\":\"white\",\"ticks\":\"\"},\"radialaxis\":{\"gridcolor\":\"white\",\"linecolor\":\"white\",\"ticks\":\"\"}},\"ternary\":{\"bgcolor\":\"#E5ECF6\",\"aaxis\":{\"gridcolor\":\"white\",\"linecolor\":\"white\",\"ticks\":\"\"},\"baxis\":{\"gridcolor\":\"white\",\"linecolor\":\"white\",\"ticks\":\"\"},\"caxis\":{\"gridcolor\":\"white\",\"linecolor\":\"white\",\"ticks\":\"\"}},\"coloraxis\":{\"colorbar\":{\"outlinewidth\":0,\"ticks\":\"\"}},\"colorscale\":{\"sequential\":[[0.0,\"#0d0887\"],[0.1111111111111111,\"#46039f\"],[0.2222222222222222,\"#7201a8\"],[0.3333333333333333,\"#9c179e\"],[0.4444444444444444,\"#bd3786\"],[0.5555555555555556,\"#d8576b\"],[0.6666666666666666,\"#ed7953\"],[0.7777777777777778,\"#fb9f3a\"],[0.8888888888888888,\"#fdca26\"],[1.0,\"#f0f921\"]],\"sequentialminus\":[[0.0,\"#0d0887\"],[0.1111111111111111,\"#46039f\"],[0.2222222222222222,\"#7201a8\"],[0.3333333333333333,\"#9c179e\"],[0.4444444444444444,\"#bd3786\"],[0.5555555555555556,\"#d8576b\"],[0.6666666666666666,\"#ed7953\"],[0.7777777777777778,\"#fb9f3a\"],[0.8888888888888888,\"#fdca26\"],[1.0,\"#f0f921\"]],\"diverging\":[[0,\"#8e0152\"],[0.1,\"#c51b7d\"],[0.2,\"#de77ae\"],[0.3,\"#f1b6da\"],[0.4,\"#fde0ef\"],[0.5,\"#f7f7f7\"],[0.6,\"#e6f5d0\"],[0.7,\"#b8e186\"],[0.8,\"#7fbc41\"],[0.9,\"#4d9221\"],[1,\"#276419\"]]},\"xaxis\":{\"gridcolor\":\"white\",\"linecolor\":\"white\",\"ticks\":\"\",\"title\":{\"standoff\":15},\"zerolinecolor\":\"white\",\"automargin\":true,\"zerolinewidth\":2},\"yaxis\":{\"gridcolor\":\"white\",\"linecolor\":\"white\",\"ticks\":\"\",\"title\":{\"standoff\":15},\"zerolinecolor\":\"white\",\"automargin\":true,\"zerolinewidth\":2},\"scene\":{\"xaxis\":{\"backgroundcolor\":\"#E5ECF6\",\"gridcolor\":\"white\",\"linecolor\":\"white\",\"showbackground\":true,\"ticks\":\"\",\"zerolinecolor\":\"white\",\"gridwidth\":2},\"yaxis\":{\"backgroundcolor\":\"#E5ECF6\",\"gridcolor\":\"white\",\"linecolor\":\"white\",\"showbackground\":true,\"ticks\":\"\",\"zerolinecolor\":\"white\",\"gridwidth\":2},\"zaxis\":{\"backgroundcolor\":\"#E5ECF6\",\"gridcolor\":\"white\",\"linecolor\":\"white\",\"showbackground\":true,\"ticks\":\"\",\"zerolinecolor\":\"white\",\"gridwidth\":2}},\"shapedefaults\":{\"line\":{\"color\":\"#2a3f5f\"}},\"annotationdefaults\":{\"arrowcolor\":\"#2a3f5f\",\"arrowhead\":0,\"arrowwidth\":1},\"geo\":{\"bgcolor\":\"white\",\"landcolor\":\"#E5ECF6\",\"subunitcolor\":\"white\",\"showland\":true,\"showlakes\":true,\"lakecolor\":\"white\"},\"title\":{\"x\":0.05},\"mapbox\":{\"style\":\"light\"}}},\"xaxis\":{\"anchor\":\"y\",\"domain\":[0.0,1.0],\"scaleanchor\":\"y\",\"constrain\":\"domain\",\"title\":{\"text\":\"Head\"}},\"yaxis\":{\"anchor\":\"x\",\"domain\":[0.0,1.0],\"autorange\":\"reversed\",\"constrain\":\"domain\",\"title\":{\"text\":\"Layer\"}},\"coloraxis\":{\"colorscale\":[[0.0,\"rgb(103,0,31)\"],[0.1,\"rgb(178,24,43)\"],[0.2,\"rgb(214,96,77)\"],[0.3,\"rgb(244,165,130)\"],[0.4,\"rgb(253,219,199)\"],[0.5,\"rgb(247,247,247)\"],[0.6,\"rgb(209,229,240)\"],[0.7,\"rgb(146,197,222)\"],[0.8,\"rgb(67,147,195)\"],[0.9,\"rgb(33,102,172)\"],[1.0,\"rgb(5,48,97)\"]],\"cmid\":0.0},\"title\":{\"text\":\"Induction Score by Head\"}},                        {\"responsive\": true}                    ).then(function(){\n",
                            "                            \n",
                            "var gd = document.getElementById('0351729d-f7bd-4dff-8e0c-0159e788d6eb');\n",
                            "var x = new MutationObserver(function (mutations, observer) {{\n",
                            "        var display = window.getComputedStyle(gd).display;\n",
                            "        if (!display || display === 'none') {{\n",
                            "            console.log([gd, 'removed!']);\n",
                            "            Plotly.purge(gd);\n",
                            "            observer.disconnect();\n",
                            "        }}\n",
                            "}});\n",
                            "\n",
                            "// Listen for the removal of the full notebook cells\n",
                            "var notebookContainer = gd.closest('#notebook-container');\n",
                            "if (notebookContainer) {{\n",
                            "    x.observe(notebookContainer, {childList: true});\n",
                            "}}\n",
                            "\n",
                            "// Listen for the clearing of the current output cell\n",
                            "var outputEl = gd.closest('.output');\n",
                            "if (outputEl) {{\n",
                            "    x.observe(outputEl, {childList: true});\n",
                            "}}\n",
                            "\n",
                            "                        })                };                            </script>        </div>\n",
                            "</body>\n",
                            "</html>"
                        ]
                    },
                    "metadata": {},
                    "output_type": "display_data"
                }
            ],
            "source": [
                "# We make a tensor to store the induction score for each head. We put it on the model's device to avoid needing to move things between the GPU and CPU, which can be slow.\n",
                "induction_score_store = torch.zeros((model.cfg.n_layers, model.cfg.n_heads), device=model.cfg.device)\n",
                "def induction_score_hook(\n",
                "    pattern: Float[torch.Tensor, \"batch head_index dest_pos source_pos\"],\n",
                "    hook: HookPoint,\n",
                "):\n",
                "    # We take the diagonal of attention paid from each destination position to source positions seq_len-1 tokens back\n",
                "    # (This only has entries for tokens with index>=seq_len)\n",
                "    induction_stripe = pattern.diagonal(dim1=-2, dim2=-1, offset=1-seq_len)\n",
                "    # Get an average score per head\n",
                "    induction_score = einops.reduce(induction_stripe, \"batch head_index position -> head_index\", \"mean\")\n",
                "    # Store the result.\n",
                "    induction_score_store[hook.layer(), :] = induction_score\n",
                "\n",
                "# We make a boolean filter on activation names, that's true only on attention pattern names.\n",
                "pattern_hook_names_filter = lambda name: name.endswith(\"pattern\")\n",
                "\n",
                "model.run_with_hooks(\n",
                "    repeated_tokens, \n",
                "    return_type=None, # For efficiency, we don't need to calculate the logits\n",
                "    fwd_hooks=[(\n",
                "        pattern_hook_names_filter,\n",
                "        induction_score_hook\n",
                "    )]\n",
                ")\n",
                "\n",
                "imshow(induction_score_store, xaxis=\"Head\", yaxis=\"Layer\", title=\"Induction Score by Head\")"
            ]
        },
        {
            "cell_type": "markdown",
            "metadata": {},
            "source": [
                "Head 5 in Layer 5 scores extremely highly on this score, and we can feed in a shorter repeated random sequence, visualize the attention pattern for it and see this directly - including the \"induction stripe\" at `seq_len-1` tokens back.\n",
                "\n",
                "This time we put in a hook on the attention pattern activation to visualize the pattern of the relevant head."
            ]
        },
        {
            "cell_type": "code",
            "execution_count": 20,
            "metadata": {},
            "outputs": [
                {
                    "name": "stdout",
                    "output_type": "stream",
                    "text": [
                        "huggingface/tokenizers: The current process just got forked, after parallelism has already been used. Disabling parallelism to avoid deadlocks...\n",
                        "To disable this warning, you can either:\n",
                        "\t- Avoid using `tokenizers` before the fork if possible\n",
                        "\t- Explicitly set the environment variable TOKENIZERS_PARALLELISM=(true | false)\n"
                    ]
                },
                {
                    "data": {
                        "text/html": [
                            "<div id=\"circuits-vis-a5255d3f-e6b3\" style=\"margin: 15px 0;\"/>\n",
                            "    <script crossorigin type=\"module\">\n",
                            "    import { render, AttentionPatterns } from \"https://unpkg.com/circuitsvis/dist/cdn/esm.js\";\n",
                            "    render(\n",
                            "      \"circuits-vis-a5255d3f-e6b3\",\n",
                            "      AttentionPatterns,\n",
                            "      {\"tokens\": [\"ton\", \"ocial\", \" refuge\", \" withdraw\", \"ements\", \" targ\", \"och\", \" facts\", \" north\", \" remove\", \"imal\", \"chie\", \"FA\", \" really\", \"ides\", \" portion\", \" Food\", \" Sunday\", \" Find\", \"Mod\", \"ton\", \"ocial\", \" refuge\", \" withdraw\", \"ements\", \" targ\", \"och\", \" facts\", \" north\", \" remove\", \"imal\", \"chie\", \"FA\", \" really\", \"ides\", \" portion\", \" Food\", \" Sunday\", \" Find\", \"Mod\"], \"attention\": [[[1.0, 0.0, 0.0, 0.0, 0.0, 0.0, 0.0, 0.0, 0.0, 0.0, 0.0, 0.0, 0.0, 0.0, 0.0, 0.0, 0.0, 0.0, 0.0, 0.0, 0.0, 0.0, 0.0, 0.0, 0.0, 0.0, 0.0, 0.0, 0.0, 0.0, 0.0, 0.0, 0.0, 0.0, 0.0, 0.0, 0.0, 0.0, 0.0, 0.0], [0.9986459612846375, 0.001354068866930902, 0.0, 0.0, 0.0, 0.0, 0.0, 0.0, 0.0, 0.0, 0.0, 0.0, 0.0, 0.0, 0.0, 0.0, 0.0, 0.0, 0.0, 0.0, 0.0, 0.0, 0.0, 0.0, 0.0, 0.0, 0.0, 0.0, 0.0, 0.0, 0.0, 0.0, 0.0, 0.0, 0.0, 0.0, 0.0, 0.0, 0.0, 0.0], [0.9791963696479797, 0.0027504137251526117, 0.01805318519473076, 0.0, 0.0, 0.0, 0.0, 0.0, 0.0, 0.0, 0.0, 0.0, 0.0, 0.0, 0.0, 0.0, 0.0, 0.0, 0.0, 0.0, 0.0, 0.0, 0.0, 0.0, 0.0, 0.0, 0.0, 0.0, 0.0, 0.0, 0.0, 0.0, 0.0, 0.0, 0.0, 0.0, 0.0, 0.0, 0.0, 0.0], [0.9839655160903931, 0.0011581266298890114, 0.00030211766716092825, 0.014574228785932064, 0.0, 0.0, 0.0, 0.0, 0.0, 0.0, 0.0, 0.0, 0.0, 0.0, 0.0, 0.0, 0.0, 0.0, 0.0, 0.0, 0.0, 0.0, 0.0, 0.0, 0.0, 0.0, 0.0, 0.0, 0.0, 0.0, 0.0, 0.0, 0.0, 0.0, 0.0, 0.0, 0.0, 0.0, 0.0, 0.0], [0.865825891494751, 0.0016782822785899043, 0.0027014915831387043, 0.06255403906106949, 0.06724020093679428, 0.0, 0.0, 0.0, 0.0, 0.0, 0.0, 0.0, 0.0, 0.0, 0.0, 0.0, 0.0, 0.0, 0.0, 0.0, 0.0, 0.0, 0.0, 0.0, 0.0, 0.0, 0.0, 0.0, 0.0, 0.0, 0.0, 0.0, 0.0, 0.0, 0.0, 0.0, 0.0, 0.0, 0.0, 0.0], [0.981313943862915, 0.013257298618555069, 0.0001863037614384666, 0.0003879783907905221, 0.0005274165305308998, 0.004326983354985714, 0.0, 0.0, 0.0, 0.0, 0.0, 0.0, 0.0, 0.0, 0.0, 0.0, 0.0, 0.0, 0.0, 0.0, 0.0, 0.0, 0.0, 0.0, 0.0, 0.0, 0.0, 0.0, 0.0, 0.0, 0.0, 0.0, 0.0, 0.0, 0.0, 0.0, 0.0, 0.0, 0.0, 0.0], [0.9687691330909729, 0.030385751277208328, 0.0006980174803175032, 2.1331667085178196e-05, 3.902004266365111e-07, 7.1515234594699e-05, 5.389436410041526e-05, 0.0, 0.0, 0.0, 0.0, 0.0, 0.0, 0.0, 0.0, 0.0, 0.0, 0.0, 0.0, 0.0, 0.0, 0.0, 0.0, 0.0, 0.0, 0.0, 0.0, 0.0, 0.0, 0.0, 0.0, 0.0, 0.0, 0.0, 0.0, 0.0, 0.0, 0.0, 0.0, 0.0], [0.9682871699333191, 0.00553895952180028, 0.0015728464350104332, 0.00030028264154680073, 4.533101309789345e-05, 0.019650448113679886, 6.614579888264416e-06, 0.004598324187099934, 0.0, 0.0, 0.0, 0.0, 0.0, 0.0, 0.0, 0.0, 0.0, 0.0, 0.0, 0.0, 0.0, 0.0, 0.0, 0.0, 0.0, 0.0, 0.0, 0.0, 0.0, 0.0, 0.0, 0.0, 0.0, 0.0, 0.0, 0.0, 0.0, 0.0, 0.0, 0.0], [0.9519678354263306, 0.023823503404855728, 0.005210565868765116, 0.0010080001084133983, 3.7316942325560376e-05, 0.0015214686281979084, 1.3712184227188118e-05, 0.014200241304934025, 0.0022173412144184113, 0.0, 0.0, 0.0, 0.0, 0.0, 0.0, 0.0, 0.0, 0.0, 0.0, 0.0, 0.0, 0.0, 0.0, 0.0, 0.0, 0.0, 0.0, 0.0, 0.0, 0.0, 0.0, 0.0, 0.0, 0.0, 0.0, 0.0, 0.0, 0.0, 0.0, 0.0], [0.5559114217758179, 0.014920509420335293, 0.0006457266281358898, 0.010296344757080078, 0.32643112540245056, 0.08670838177204132, 6.838060653535649e-05, 0.002313935197889805, 0.000804490118753165, 0.0018996561411768198, 0.0, 0.0, 0.0, 0.0, 0.0, 0.0, 0.0, 0.0, 0.0, 0.0, 0.0, 0.0, 0.0, 0.0, 0.0, 0.0, 0.0, 0.0, 0.0, 0.0, 0.0, 0.0, 0.0, 0.0, 0.0, 0.0, 0.0, 0.0, 0.0, 0.0], [0.9492844343185425, 0.009108914993703365, 0.0071120490320026875, 0.00016928018885664642, 0.00023005028197076172, 0.009664060547947884, 1.8654877749213483e-06, 0.0026913811452686787, 0.020050788298249245, 0.0005007204599678516, 0.0011864985572174191, 0.0, 0.0, 0.0, 0.0, 0.0, 0.0, 0.0, 0.0, 0.0, 0.0, 0.0, 0.0, 0.0, 0.0, 0.0, 0.0, 0.0, 0.0, 0.0, 0.0, 0.0, 0.0, 0.0, 0.0, 0.0, 0.0, 0.0, 0.0, 0.0], [0.9553389549255371, 0.01597673073410988, 0.0052468557842075825, 0.0005630860687233508, 0.00011545729648787528, 0.009901056997478008, 4.079827704117633e-06, 0.008595431223511696, 0.0038348764646798372, 1.320555111306021e-05, 0.0002211801620433107, 0.00018908982747234404, 0.0, 0.0, 0.0, 0.0, 0.0, 0.0, 0.0, 0.0, 0.0, 0.0, 0.0, 0.0, 0.0, 0.0, 0.0, 0.0, 0.0, 0.0, 0.0, 0.0, 0.0, 0.0, 0.0, 0.0, 0.0, 0.0, 0.0, 0.0], [0.9811443090438843, 0.007252056617289782, 0.001128166331909597, 0.002108318265527487, 0.0008389346767216921, 0.0036552012898027897, 5.179825848244946e-07, 7.998508226592094e-05, 0.0004489626153372228, 0.00010025977826444432, 0.0003172903961967677, 9.409529593540356e-05, 0.0028319444973021746, 0.0, 0.0, 0.0, 0.0, 0.0, 0.0, 0.0, 0.0, 0.0, 0.0, 0.0, 0.0, 0.0, 0.0, 0.0, 0.0, 0.0, 0.0, 0.0, 0.0, 0.0, 0.0, 0.0, 0.0, 0.0, 0.0, 0.0], [0.8196091651916504, 0.0039828806184232235, 0.003107665106654167, 0.0001517209893791005, 7.297836418729275e-05, 0.0015310291200876236, 7.035962880763691e-06, 0.0032328120432794094, 0.13719333708286285, 0.003222869010642171, 0.0004851500561926514, 0.0042908526957035065, 0.010982093401253223, 0.012130510061979294, 0.0, 0.0, 0.0, 0.0, 0.0, 0.0, 0.0, 0.0, 0.0, 0.0, 0.0, 0.0, 0.0, 0.0, 0.0, 0.0, 0.0, 0.0, 0.0, 0.0, 0.0, 0.0, 0.0, 0.0, 0.0, 0.0], [0.9555989503860474, 0.0027767587453126907, 0.0029426000546664, 0.0007544982945546508, 9.301469253841788e-05, 0.008591737598180771, 5.495010191225447e-05, 0.0007901805802248418, 0.005175606347620487, 0.0020959326066076756, 0.0013331671943888068, 0.0007804121123626828, 0.008821896277368069, 0.009363147430121899, 0.0008271920378319919, 0.0, 0.0, 0.0, 0.0, 0.0, 0.0, 0.0, 0.0, 0.0, 0.0, 0.0, 0.0, 0.0, 0.0, 0.0, 0.0, 0.0, 0.0, 0.0, 0.0, 0.0, 0.0, 0.0, 0.0, 0.0], [0.940069317817688, 0.0019386635394766927, 0.006395967677235603, 0.0013195635983720422, 0.010961093939840794, 0.024636205285787582, 3.1424383450939786e-07, 0.0013937733601778746, 0.002137477044016123, 0.00041557246004231274, 0.0038991535548120737, 0.003862485522404313, 0.00036294953315518796, 0.0010215878719463944, 6.24161766609177e-05, 0.0015233864542096853, 0.0, 0.0, 0.0, 0.0, 0.0, 0.0, 0.0, 0.0, 0.0, 0.0, 0.0, 0.0, 0.0, 0.0, 0.0, 0.0, 0.0, 0.0, 0.0, 0.0, 0.0, 0.0, 0.0, 0.0], [0.9743158221244812, 0.000838114763610065, 0.004526786971837282, 0.0019644261337816715, 4.655162774724886e-05, 0.0014437156496569514, 4.74624606283669e-08, 1.1092869499407243e-05, 0.0003551096306182444, 2.6848807465285063e-05, 1.7570351701579057e-05, 1.7302651031059213e-05, 4.136385177844204e-05, 0.014836380258202553, 3.4349544876022264e-05, 0.0004865292285103351, 0.001038008718751371, 0.0, 0.0, 0.0, 0.0, 0.0, 0.0, 0.0, 0.0, 0.0, 0.0, 0.0, 0.0, 0.0, 0.0, 0.0, 0.0, 0.0, 0.0, 0.0, 0.0, 0.0, 0.0, 0.0], [0.98968106508255, 0.004356895573437214, 0.000371471542166546, 0.00014454008487518877, 8.295419320347719e-07, 0.0005294579896144569, 2.0215354368247063e-07, 0.00022467933013103902, 0.0010803136974573135, 0.00013609945017378777, 1.3332383787201252e-05, 3.022163946297951e-05, 0.00034444278571754694, 0.0018860312411561608, 5.8846511819865555e-05, 0.00010180367826251313, 0.00012821026029996574, 0.0009114895365200937, 0.0, 0.0, 0.0, 0.0, 0.0, 0.0, 0.0, 0.0, 0.0, 0.0, 0.0, 0.0, 0.0, 0.0, 0.0, 0.0, 0.0, 0.0, 0.0, 0.0, 0.0, 0.0], [0.8195598125457764, 0.018181055784225464, 0.00016734506061766297, 0.0010938473278656602, 0.024007828906178474, 0.007075771223753691, 0.0006697148783132434, 0.0004945463151670992, 0.031363338232040405, 6.104564090492204e-05, 0.0778236985206604, 0.0029800310730934143, 0.0006307020084932446, 0.0015901927836239338, 0.0004545324482023716, 0.0054688118398189545, 0.0070580230094492435, 0.0012707101413980126, 4.891243952442892e-05, 0.0, 0.0, 0.0, 0.0, 0.0, 0.0, 0.0, 0.0, 0.0, 0.0, 0.0, 0.0, 0.0, 0.0, 0.0, 0.0, 0.0, 0.0, 0.0, 0.0, 0.0], [0.8995548486709595, 0.009549856185913086, 0.008715442381799221, 0.0012366643641144037, 3.778119935304858e-05, 0.001366551499813795, 0.00010495258175069466, 0.00499512255191803, 0.05056469514966011, 5.7786412071436644e-05, 0.0015943453181535006, 0.006167503073811531, 0.002204668475314975, 0.0030941562727093697, 0.003366623306646943, 0.0023891176097095013, 0.003922604955732822, 0.0003726492577698082, 3.697307693073526e-05, 0.0006677656201645732, 0.0, 0.0, 0.0, 0.0, 0.0, 0.0, 0.0, 0.0, 0.0, 0.0, 0.0, 0.0, 0.0, 0.0, 0.0, 0.0, 0.0, 0.0, 0.0, 0.0], [0.25627684593200684, 0.49322956800460815, 0.0040456331335008144, 0.0002530285273678601, 2.215113454440143e-05, 0.001555873197503388, 9.128062288255023e-07, 0.1449403017759323, 0.0396692231297493, 0.0005335463210940361, 0.00028271449264138937, 0.010830197483301163, 0.014491422101855278, 0.002645102795213461, 0.0005833260947838426, 0.0006325010908767581, 0.02124057337641716, 3.805043206739356e-06, 2.0028033759444952e-05, 9.264128311770037e-05, 0.008650587871670723, 0.0, 0.0, 0.0, 0.0, 0.0, 0.0, 0.0, 0.0, 0.0, 0.0, 0.0, 0.0, 0.0, 0.0, 0.0, 0.0, 0.0, 0.0, 0.0], [0.04618406668305397, 0.0010015828302130103, 0.9438384771347046, 0.003639891976490617, 5.505880267264729e-07, 0.001447551534511149, 7.315117955819517e-10, 0.00015174513100646436, 1.566934042784851e-05, 1.3549049981520511e-05, 1.326115693700558e-06, 0.00011600501602515578, 0.001240470097400248, 0.0002073688810924068, 1.1961236850766e-05, 0.0006495600682683289, 0.0009061388554982841, 2.2478583559859544e-05, 3.6467326935962774e-06, 3.4139281979150837e-07, 0.0003343559510540217, 0.000213308070669882, 0.0, 0.0, 0.0, 0.0, 0.0, 0.0, 0.0, 0.0, 0.0, 0.0, 0.0, 0.0, 0.0, 0.0, 0.0, 0.0, 0.0, 0.0], [0.029824882745742798, 0.003648744197562337, 0.003024335252121091, 0.9224854707717896, 0.003098716726526618, 0.02836642414331436, 1.5366222783086414e-07, 0.00017716220463626087, 1.900423740153201e-05, 0.00013220850087236613, 0.0019119081553071737, 0.00013986817793920636, 0.0012858262052759528, 0.0010941422078758478, 4.2878852468675177e-07, 0.0009646758553571999, 0.001288745435886085, 0.00015605238149873912, 7.912268301879521e-06, 0.000385522551368922, 0.0002601048327051103, 0.00016404119378421456, 0.001563606085255742, 0.0, 0.0, 0.0, 0.0, 0.0, 0.0, 0.0, 0.0, 0.0, 0.0, 0.0, 0.0, 0.0, 0.0, 0.0, 0.0, 0.0], [0.01380929909646511, 0.0002741457719821483, 7.407436442008475e-06, 0.0005792405572719872, 0.9681729674339294, 0.007053953129798174, 2.4501582984726156e-08, 4.955042641086038e-06, 9.55766836341354e-07, 6.831776317994809e-07, 0.007926495745778084, 3.68769615306519e-05, 5.0060581997968256e-05, 0.00010636189836077392, 1.1009320566301994e-08, 3.378139081178233e-05, 0.0007474913727492094, 7.874481156022739e-08, 5.400412561584744e-09, 0.00015849462943151593, 5.957979851700657e-07, 2.2400060970539926e-06, 2.218129793618573e-06, 0.0010316133266314864, 0.0, 0.0, 0.0, 0.0, 0.0, 0.0, 0.0, 0.0, 0.0, 0.0, 0.0, 0.0, 0.0, 0.0, 0.0, 0.0], [0.09161537140607834, 0.0012919099535793066, 0.0007411569822579622, 0.008247601799666882, 0.008414920419454575, 0.8199809193611145, 1.3693872347175784e-07, 0.00022286816965788603, 0.0003664594260044396, 9.573171701049432e-05, 0.0018244400853291154, 0.0017963371938094497, 0.0040694596245884895, 0.0008002305403351784, 2.3608711785527703e-07, 0.005720787215977907, 0.006728338543325663, 4.35602487414144e-06, 2.6741347483039135e-06, 0.0001677694235695526, 1.4423942957364488e-05, 0.00020727308583445847, 0.0012153281131759286, 0.035079095512628555, 0.011392300948500633, 0.0, 0.0, 0.0, 0.0, 0.0, 0.0, 0.0, 0.0, 0.0, 0.0, 0.0, 0.0, 0.0, 0.0, 0.0], [0.07104238122701645, 0.01402928214520216, 2.6548546884441748e-05, 7.004810322541744e-05, 0.00017307617235928774, 0.0006624818197451532, 0.8520940542221069, 0.05319011211395264, 0.0006978496094234288, 1.5313333278754726e-05, 0.0017679210286587477, 0.00010997761273756623, 0.0001551175519125536, 8.824939868645743e-05, 2.798773834911117e-07, 0.0005842593964189291, 0.000739430426619947, 9.187193654724979e-07, 5.297299594531069e-07, 0.00042644533095881343, 0.00015231865108944476, 0.0005404253606684506, 8.167224586941302e-05, 0.0006613537552766502, 0.0005137098487466574, 0.0021762531250715256, 0.0, 0.0, 0.0, 0.0, 0.0, 0.0, 0.0, 0.0, 0.0, 0.0, 0.0, 0.0, 0.0, 0.0], [0.013405072502791882, 0.003822584869340062, 5.456634607980959e-05, 2.199898290200508e-06, 4.356845551001243e-08, 7.622948487551184e-06, 2.521426495150081e-06, 0.97718745470047, 0.00038619383121840656, 7.011440629867138e-06, 1.9853814592352137e-06, 4.925765097141266e-06, 0.0010224758880212903, 4.23561577918008e-05, 1.019769479171373e-05, 6.966367800487205e-05, 0.00014024472329765558, 3.250983127145446e-07, 9.88566898740828e-06, 7.996567887857964e-07, 2.2618167349719442e-05, 0.0033558637369424105, 0.00041223381413146853, 3.2074885893962346e-06, 1.043666397748666e-08, 4.913397788186558e-06, 2.295643753313925e-05, 0.0, 0.0, 0.0, 0.0, 0.0, 0.0, 0.0, 0.0, 0.0, 0.0, 0.0, 0.0, 0.0], [0.04320032149553299, 0.00010010639380197972, 6.206719990586862e-05, 4.037000508105848e-06, 6.049774725624957e-08, 0.00016287891776300967, 4.340374726297114e-09, 0.00023197010159492493, 0.9491813778877258, 3.033132088603452e-05, 5.089810315439536e-07, 1.9490669274091488e-06, 5.243187115411274e-05, 3.917785579687916e-05, 0.0038939150981605053, 0.0005027400329709053, 0.0018421121640130877, 5.8347850426798686e-05, 2.4272902010125108e-05, 7.335495320148766e-05, 0.00019005841750185937, 4.14015376009047e-05, 0.0001781528553692624, 2.0290835891501047e-06, 1.7578132727180673e-08, 8.607190102338791e-05, 9.149840707323165e-08, 4.0198494389187545e-05, 0.0, 0.0, 0.0, 0.0, 0.0, 0.0, 0.0, 0.0, 0.0, 0.0, 0.0, 0.0], [0.03080698847770691, 0.0012662404915317893, 0.00017142518481705338, 8.147977496264502e-06, 8.89880453769365e-08, 2.121382931363769e-05, 5.48637713038147e-09, 9.548904927214608e-05, 5.726182644139044e-05, 0.9663519859313965, 1.4788991393288597e-05, 2.318116821697913e-05, 3.2902178645599633e-05, 3.732190089067444e-05, 1.0384575944044627e-05, 0.0008766078390181065, 8.766780229052529e-05, 1.301498855355021e-06, 4.372211697045714e-05, 4.777155027113622e-07, 1.692369124839388e-07, 4.576324045046931e-06, 3.968911914853379e-05, 8.056331353145652e-06, 9.18262621496524e-09, 1.5201870155578945e-05, 1.1656188547704005e-07, 5.456621238408843e-06, 1.9532006263034418e-05, 0.0, 0.0, 0.0, 0.0, 0.0, 0.0, 0.0, 0.0, 0.0, 0.0, 0.0], [0.07297589629888535, 0.004453537054359913, 6.877016858197749e-05, 0.0008184892940334976, 0.017554379999637604, 0.004852333106100559, 1.9212991446693195e-06, 0.00011124559387098998, 3.882110831909813e-05, 0.00040239247027784586, 0.8518717885017395, 0.008674006909132004, 0.003034434048458934, 0.0002786613185890019, 1.6753971294747316e-06, 0.00241681607440114, 0.001335167558863759, 4.7277933390432736e-07, 5.009373126085848e-06, 0.0005551734357140958, 3.743586057680659e-05, 8.553583029424772e-05, 4.721062214230187e-05, 0.0018260272918269038, 0.022448251023888588, 0.005830517970025539, 4.6250315790530294e-05, 4.209145117783919e-06, 4.432158675626852e-06, 0.00021915161050856113, 0.0, 0.0, 0.0, 0.0, 0.0, 0.0, 0.0, 0.0, 0.0, 0.0], [0.009889029897749424, 0.00030266979592852294, 0.00010748259228421375, 1.5929024357319577e-06, 1.0839213473445852e-06, 7.397447916446254e-05, 2.018967659722648e-09, 1.3133390893926844e-05, 0.00016979710198938847, 3.2969842322927434e-06, 7.189260486484272e-06, 0.986661970615387, 0.0015866387402638793, 6.892471719766036e-05, 4.5098033297108486e-05, 0.00016468195826746523, 0.00019525884999893606, 6.636352622990671e-08, 4.885247335550957e-07, 2.0609679722838337e-06, 2.1837455278728157e-05, 0.00038712777313776314, 0.0001324583572568372, 7.710486897849478e-06, 6.127029337221757e-07, 5.9379883168730885e-05, 2.0675528844549262e-08, 1.5178628132161975e-07, 2.3973780116648413e-05, 3.489005848678062e-07, 7.197976810857654e-05, 0.0, 0.0, 0.0, 0.0, 0.0, 0.0, 0.0, 0.0, 0.0], [0.06073509529232979, 0.028699249029159546, 0.003803693689405918, 0.0001227923494298011, 8.951330528361723e-06, 0.00120574701577425, 6.411091391100854e-08, 0.0023519794922322035, 0.0008441325626336038, 3.953078703489155e-06, 2.62547328020446e-05, 0.0004279820423107594, 0.806647002696991, 0.04759734869003296, 0.025853125378489494, 0.012560578063130379, 0.00044067579437978566, 9.198939778798376e-07, 4.2072781070601195e-05, 9.830110684561078e-06, 0.00039168327930383384, 0.0028550620190799236, 0.0028786470647901297, 0.00015300040831789374, 2.5752040073712124e-06, 0.0007038656622171402, 5.806497824778489e-07, 0.00040777988033369184, 0.0007244368316605687, 6.205519298418949e-07, 2.766894976957701e-05, 0.00047253587399609387, 0.0, 0.0, 0.0, 0.0, 0.0, 0.0, 0.0, 0.0], [0.08105010539293289, 0.00034287196467630565, 0.0001297983544645831, 5.974509258521721e-05, 1.1238108527322765e-05, 0.00026291675749234855, 8.140415425073044e-11, 8.278566951958055e-07, 2.449582279950846e-05, 6.758625659131212e-07, 3.7207873901934363e-06, 4.665533651859732e-06, 0.0002766858960967511, 0.9119887948036194, 0.0015015109675005078, 0.0033925087191164494, 8.732100832276046e-05, 1.8099970475304872e-05, 2.1799693058710545e-05, 1.1245276709814789e-06, 5.646152203553356e-06, 3.4382890135020716e-06, 6.367250080074882e-06, 2.7455613235360943e-05, 2.785935976135079e-06, 0.00013083420344628394, 1.125706194926579e-09, 8.025353714913308e-09, 1.1663772966130637e-05, 2.8114540029378077e-08, 1.8039233964373125e-06, 4.132629783271113e-06, 0.0006269142613746226, 0.0, 0.0, 0.0, 0.0, 0.0, 0.0, 0.0], [0.009156549349427223, 3.8779697206337005e-05, 2.539526394684799e-05, 2.0730686856040847e-07, 6.456511414398847e-08, 4.193226686766138e-06, 4.7436131411782156e-11, 1.7505794858152512e-06, 0.0006017477135173976, 3.6607336824090453e-06, 2.8152840059192386e-07, 4.230518243275583e-06, 5.9756817790912464e-05, 0.00016361981397494674, 0.9873887300491333, 0.001786713721230626, 1.4165144420985598e-05, 4.828455530514475e-06, 1.7894974462251412e-06, 6.116157237556763e-06, 2.0103912902413867e-05, 6.098872518123244e-07, 2.7928704184887465e-06, 6.543269392977891e-08, 9.33687704929298e-09, 8.556568786843854e-07, 2.9390870293077853e-10, 5.933196689511533e-08, 0.00019486840756144375, 6.247290684768814e-07, 4.896965606349113e-07, 7.4194540502503514e-06, 0.0002118894481100142, 0.00029762578196823597, 0.0, 0.0, 0.0, 0.0, 0.0, 0.0], [0.02424153871834278, 0.00012358062667772174, 0.00016311381477862597, 1.4156978068058379e-05, 1.1818950724773458e-06, 0.0005167354829609394, 3.3380739949961935e-08, 1.1496805200295057e-05, 0.00015965533384587616, 3.474371260381304e-05, 9.717606189951766e-06, 6.250346814340446e-06, 0.0001561593235237524, 0.00019057792087551206, 5.896356378798373e-05, 0.9735384583473206, 0.00023767801758367568, 3.886580543621676e-06, 1.1883446404681308e-07, 3.5999732062919065e-05, 2.150528052879963e-05, 5.964272986602737e-07, 8.116874960251153e-05, 7.330017069762107e-06, 2.263096376964313e-07, 0.00020198806305415928, 5.665056690418169e-08, 1.6046853090756485e-07, 1.5466423064935952e-05, 2.821766884153476e-06, 6.420973477361258e-06, 2.4360620045627e-06, 8.450975292362273e-05, 7.604289294249611e-06, 6.37345074210316e-05, 0.0, 0.0, 0.0, 0.0, 0.0], [0.07747755199670792, 0.0003176322497893125, 0.0007390857208520174, 0.00010279430716764182, 0.00023649330250918865, 0.0015224546659737825, 2.9938533874229734e-09, 6.838140689069405e-05, 0.0004891211865469813, 1.9727134713320993e-05, 0.00012906779011245817, 5.060323019279167e-05, 2.1172383640077896e-05, 0.00014658304280601442, 7.5864072641707025e-06, 0.0006145031074993312, 0.9157568216323853, 0.0008419275400228798, 3.0122557745926315e-06, 0.00021597642626147717, 2.7091462470707484e-05, 5.78422550461255e-05, 0.00030159897869452834, 3.691134770633653e-05, 2.8807513444917277e-05, 0.0005609208019450307, 9.581157200955204e-08, 1.6185437061722041e-06, 7.774632103974e-05, 8.005146696632437e-07, 3.2600721169728786e-05, 1.0917249710473698e-05, 5.222401796345366e-06, 3.6045244087290484e-06, 1.2016437267448055e-06, 9.243661043001339e-05, 0.0, 0.0, 0.0, 0.0], [0.021979186683893204, 1.896768662845716e-05, 4.78187866974622e-05, 1.6039557522162795e-05, 2.1206386691119405e-07, 1.1626781997620128e-05, 3.939006065767359e-11, 6.419161024950881e-08, 9.597040843800642e-06, 3.6334193964648875e-07, 1.6788261802958004e-07, 7.322806538923032e-08, 1.8784771782520693e-07, 0.0005404867697507143, 6.360372140079562e-07, 1.0940656466118526e-05, 4.607295704772696e-05, 0.9762505888938904, 0.0002267195814056322, 0.0007471867138519883, 3.2034786272561178e-06, 1.3958205613562313e-07, 4.457815066416515e-06, 2.5023682610481046e-06, 3.1156048407865455e-08, 3.5535174447431928e-06, 9.679600454504111e-10, 1.5340589909484947e-09, 1.2288336392884958e-06, 1.1586230641569273e-08, 2.982222468972395e-08, 1.4172587547989224e-08, 6.119554285533013e-08, 2.759213930403348e-05, 2.7104999844596023e-07, 6.131937198006199e-07, 4.939476275467314e-05, 0.0, 0.0, 0.0], [0.05329175293445587, 0.0002055232471320778, 5.408468041423475e-06, 1.8619646198203554e-06, 2.112508612484021e-09, 4.9829423005576245e-06, 2.8772886850880752e-11, 7.224003866213025e-07, 1.2862451512773987e-05, 2.953529019578127e-06, 6.358849446996828e-08, 9.470301876035592e-08, 1.998343350351206e-06, 4.845565854338929e-05, 6.011742357259209e-07, 1.1317861208226532e-06, 3.185969944752287e-06, 5.209685332374647e-05, 0.9461777806282043, 7.445348455803469e-05, 1.1223006524119228e-08, 3.087192794737348e-07, 9.257105375581887e-07, 2.5576304096830427e-07, 8.098945819545733e-11, 5.375935074880545e-07, 1.0620940793515388e-09, 2.3535886128911443e-08, 2.020576857830747e-06, 1.7827132126058132e-07, 1.72556866573359e-08, 2.6732498881187894e-08, 1.0803532859426923e-06, 2.874705273825384e-07, 3.860796482513251e-08, 1.3743314264402784e-09, 3.024087504854833e-07, 0.00010805595957208425, 0.0, 0.0], [0.025750067085027695, 0.0010159743251278996, 1.3930041404819349e-06, 1.0920522981905378e-05, 0.0001566614955663681, 9.503061301074922e-05, 1.407729087077314e-06, 4.544071089185309e-06, 0.0006493499968200922, 1.0846067652892089e-06, 0.0005986079340800643, 9.211573342327029e-06, 3.877719791489653e-06, 3.4120464988518506e-05, 3.0294845601019915e-06, 3.351365739945322e-05, 0.00017108152678702027, 5.3936837502988055e-05, 7.584521881653927e-06, 0.9701367020606995, 0.0006703029503114522, 3.38269273925107e-05, 1.3259675597510068e-06, 1.4493360140477307e-05, 0.0002143540041288361, 4.529604848357849e-05, 1.117525425797794e-05, 6.582354217243847e-08, 3.904309414792806e-05, 3.5591181557492746e-08, 0.00013555258919950575, 1.2555912007883308e-06, 1.265196260646917e-06, 8.122481176542351e-08, 4.741496866245143e-07, 9.288430078413512e-07, 5.860665623913519e-05, 3.242545062676072e-05, 1.5375524071714608e-06, 0.0], [0.030646756291389465, 0.0010562269017100334, 0.00015394728688988835, 2.975631105073262e-05, 6.55280643968581e-07, 3.126087176497094e-05, 4.75928715104601e-07, 0.00011505975999170914, 0.0012906319461762905, 4.887065188086126e-07, 4.245397212798707e-05, 8.707832603249699e-05, 4.889377305516973e-05, 0.00029068105504848063, 6.192787986947224e-05, 4.501471630646847e-05, 0.00015018046542536467, 1.5144591088755988e-05, 1.6995910527839442e-06, 5.2170991693856195e-05, 0.9607197642326355, 0.004049039911478758, 0.0005279523320496082, 0.00013015020522288978, 3.725144495092536e-07, 2.2883183191879652e-05, 2.172106405851082e-06, 7.226564775919542e-06, 0.000284748210106045, 1.0038073483542576e-08, 1.2495807823142968e-05, 2.5139093850157224e-05, 3.050560007977765e-05, 3.047275868084398e-06, 7.815940989530645e-06, 1.9643196083052317e-06, 2.3111117116059177e-05, 1.0700091479520779e-05, 2.149473061763274e-07, 2.014961137319915e-05]]]}\n",
                            "    )\n",
                            "    </script>"
                        ],
                        "text/plain": [
                            "<circuitsvis.utils.render.RenderedHTML at 0x7f96783b37d0>"
                        ]
                    },
                    "metadata": {},
                    "output_type": "display_data"
                }
            ],
            "source": [
                "induction_head_layer = 5\n",
                "induction_head_index = 5\n",
                "single_random_sequence = torch.randint(1000, 10000, (1, 20)).to(model.cfg.device)\n",
                "repeated_random_sequence = einops.repeat(single_random_sequence, \"batch seq_len -> batch (2 seq_len)\")\n",
                "def visualize_pattern_hook(\n",
                "    pattern: Float[torch.Tensor, \"batch head_index dest_pos source_pos\"],\n",
                "    hook: HookPoint,\n",
                "):\n",
                "    display(\n",
                "        cv.attention.attention_patterns(\n",
                "            tokens=model.to_str_tokens(repeated_random_sequence), \n",
                "            attention=pattern[0, induction_head_index, :, :][None, :, :] # Add a dummy axis, as CircuitsVis expects 3D patterns.\n",
                "        )\n",
                "    )\n",
                "\n",
                "model.run_with_hooks(\n",
                "    repeated_random_sequence, \n",
                "    return_type=None, \n",
                "    fwd_hooks=[(\n",
                "        utils.get_act_name(\"pattern\", induction_head_layer), \n",
                "        visualize_pattern_hook\n",
                "    )]\n",
                ")"
            ]
        },
        {
            "cell_type": "markdown",
            "metadata": {},
            "source": [
                "## Available Models"
            ]
        },
        {
            "attachments": {},
            "cell_type": "markdown",
            "metadata": {},
            "source": [
                "TransformerLens comes with over 40 open source models available, all of which can be loaded into a consistent(-ish) architecture by just changing the name in `from_pretrained`. The open source models available are [documented here](https://dynalist.io/d/n2ZWtnoYHrU1s4vnFSAQ519J#z=jHj79Pj58cgJKdq4t-ygK-4h), and a set of interpretability friendly models I've trained are [documented here](https://dynalist.io/d/n2ZWtnoYHrU1s4vnFSAQ519J#z=NCJ6zH_Okw_mUYAwGnMKsj2m), including a set of toy language models (tiny one to four layer models) and a set of [SoLU models](https://dynalist.io/d/n2ZWtnoYHrU1s4vnFSAQ519J#z=FZ5W6GGcy6OitPEaO733JLqf) up to GPT-2 Medium size (300M parameters). You can see [a table of the official alias and hyper-parameters of available models here](https://github.com/neelnanda-io/TransformerLens/blob/main/transformer_lens/model_properties_table.md).\n",
                "\n",
                "**Note:** TransformerLens does not currently support multi-GPU models (which you want for models above eg 7B parameters), but this feature is coming soon!"
            ]
        },
        {
            "cell_type": "markdown",
            "metadata": {},
            "source": [
                "\n",
                "Notably, this means that analysis can be near immediately re-run on a different model by just changing the name - to see this, let's load in DistilGPT-2 (a distilled version of GPT-2, with half as many layers) and copy the code from above to see the induction heads in that model."
            ]
        },
        {
            "cell_type": "code",
            "execution_count": 21,
            "metadata": {},
            "outputs": [
                {
                    "name": "stderr",
                    "output_type": "stream",
                    "text": [
                        "Using pad_token, but it is not set yet.\n"
                    ]
                },
                {
                    "name": "stdout",
                    "output_type": "stream",
                    "text": [
                        "Loaded pretrained model distilgpt2 into HookedTransformer\n"
                    ]
                },
                {
                    "data": {
                        "text/html": [
                            "<html>\n",
                            "<head><meta charset=\"utf-8\" /></head>\n",
                            "<body>\n",
                            "    <div>            <script src=\"https://cdnjs.cloudflare.com/ajax/libs/mathjax/2.7.5/MathJax.js?config=TeX-AMS-MML_SVG\"></script><script type=\"text/javascript\">if (window.MathJax && window.MathJax.Hub && window.MathJax.Hub.Config) {window.MathJax.Hub.Config({SVG: {font: \"STIX-Web\"}});}</script>                <script type=\"text/javascript\">window.PlotlyConfig = {MathJaxConfig: 'local'};</script>\n",
                            "        <script src=\"https://cdn.plot.ly/plotly-2.16.1.min.js\"></script>                <div id=\"98c37ee6-d1eb-4fd2-abb6-25fcea4806d8\" class=\"plotly-graph-div\" style=\"height:525px; width:100%;\"></div>            <script type=\"text/javascript\">                                    window.PLOTLYENV=window.PLOTLYENV || {};                                    if (document.getElementById(\"98c37ee6-d1eb-4fd2-abb6-25fcea4806d8\")) {                    Plotly.newPlot(                        \"98c37ee6-d1eb-4fd2-abb6-25fcea4806d8\",                        [{\"coloraxis\":\"coloraxis\",\"name\":\"0\",\"z\":[[0.009829781,0.000295377,0.012661804,0.000002316661,0.00069736416,0.000026816326,0.00860497,0.0012993761,0.008594353,0.009532456,0.00913034,0.016025914],[0.00344231,0.017788095,0.0010160812,0.0001821529,0.013304929,0.0012890853,0.0038786372,0.014899377,0.0028749132,0.00015702132,0.003935385,0.014406526],[0.011763791,0.0076388153,0.013284326,0.0024857563,0.020266755,0.004270946,0.009777707,0.0016668368,0.018351581,0.013751813,0.022175496,1.0465541e-11],[0.00946849,0.23212358,0.86168015,0.01656808,0.01690789,0.015071683,0.02012734,0.19553702,0.015999738,0.01757678,0.93703943,0.51021636],[0.27425367,0.23033048,0.089379184,0.012144947,0.08233639,0.02498175,0.6287083,0.025814235,0.06939743,0.6472505,0.017307777,0.06159132],[0.02279091,0.08241454,0.056171473,0.013680244,0.03538631,0.18700893,0.08061893,0.10577389,0.007939984,0.46560174,0.17225139,0.031069668]],\"type\":\"heatmap\",\"xaxis\":\"x\",\"yaxis\":\"y\",\"hovertemplate\":\"Head: %{x}<br>Layer: %{y}<br>color: %{z}<extra></extra>\"}],                        {\"template\":{\"data\":{\"histogram2dcontour\":[{\"type\":\"histogram2dcontour\",\"colorbar\":{\"outlinewidth\":0,\"ticks\":\"\"},\"colorscale\":[[0.0,\"#0d0887\"],[0.1111111111111111,\"#46039f\"],[0.2222222222222222,\"#7201a8\"],[0.3333333333333333,\"#9c179e\"],[0.4444444444444444,\"#bd3786\"],[0.5555555555555556,\"#d8576b\"],[0.6666666666666666,\"#ed7953\"],[0.7777777777777778,\"#fb9f3a\"],[0.8888888888888888,\"#fdca26\"],[1.0,\"#f0f921\"]]}],\"choropleth\":[{\"type\":\"choropleth\",\"colorbar\":{\"outlinewidth\":0,\"ticks\":\"\"}}],\"histogram2d\":[{\"type\":\"histogram2d\",\"colorbar\":{\"outlinewidth\":0,\"ticks\":\"\"},\"colorscale\":[[0.0,\"#0d0887\"],[0.1111111111111111,\"#46039f\"],[0.2222222222222222,\"#7201a8\"],[0.3333333333333333,\"#9c179e\"],[0.4444444444444444,\"#bd3786\"],[0.5555555555555556,\"#d8576b\"],[0.6666666666666666,\"#ed7953\"],[0.7777777777777778,\"#fb9f3a\"],[0.8888888888888888,\"#fdca26\"],[1.0,\"#f0f921\"]]}],\"heatmap\":[{\"type\":\"heatmap\",\"colorbar\":{\"outlinewidth\":0,\"ticks\":\"\"},\"colorscale\":[[0.0,\"#0d0887\"],[0.1111111111111111,\"#46039f\"],[0.2222222222222222,\"#7201a8\"],[0.3333333333333333,\"#9c179e\"],[0.4444444444444444,\"#bd3786\"],[0.5555555555555556,\"#d8576b\"],[0.6666666666666666,\"#ed7953\"],[0.7777777777777778,\"#fb9f3a\"],[0.8888888888888888,\"#fdca26\"],[1.0,\"#f0f921\"]]}],\"heatmapgl\":[{\"type\":\"heatmapgl\",\"colorbar\":{\"outlinewidth\":0,\"ticks\":\"\"},\"colorscale\":[[0.0,\"#0d0887\"],[0.1111111111111111,\"#46039f\"],[0.2222222222222222,\"#7201a8\"],[0.3333333333333333,\"#9c179e\"],[0.4444444444444444,\"#bd3786\"],[0.5555555555555556,\"#d8576b\"],[0.6666666666666666,\"#ed7953\"],[0.7777777777777778,\"#fb9f3a\"],[0.8888888888888888,\"#fdca26\"],[1.0,\"#f0f921\"]]}],\"contourcarpet\":[{\"type\":\"contourcarpet\",\"colorbar\":{\"outlinewidth\":0,\"ticks\":\"\"}}],\"contour\":[{\"type\":\"contour\",\"colorbar\":{\"outlinewidth\":0,\"ticks\":\"\"},\"colorscale\":[[0.0,\"#0d0887\"],[0.1111111111111111,\"#46039f\"],[0.2222222222222222,\"#7201a8\"],[0.3333333333333333,\"#9c179e\"],[0.4444444444444444,\"#bd3786\"],[0.5555555555555556,\"#d8576b\"],[0.6666666666666666,\"#ed7953\"],[0.7777777777777778,\"#fb9f3a\"],[0.8888888888888888,\"#fdca26\"],[1.0,\"#f0f921\"]]}],\"surface\":[{\"type\":\"surface\",\"colorbar\":{\"outlinewidth\":0,\"ticks\":\"\"},\"colorscale\":[[0.0,\"#0d0887\"],[0.1111111111111111,\"#46039f\"],[0.2222222222222222,\"#7201a8\"],[0.3333333333333333,\"#9c179e\"],[0.4444444444444444,\"#bd3786\"],[0.5555555555555556,\"#d8576b\"],[0.6666666666666666,\"#ed7953\"],[0.7777777777777778,\"#fb9f3a\"],[0.8888888888888888,\"#fdca26\"],[1.0,\"#f0f921\"]]}],\"mesh3d\":[{\"type\":\"mesh3d\",\"colorbar\":{\"outlinewidth\":0,\"ticks\":\"\"}}],\"scatter\":[{\"fillpattern\":{\"fillmode\":\"overlay\",\"size\":10,\"solidity\":0.2},\"type\":\"scatter\"}],\"parcoords\":[{\"type\":\"parcoords\",\"line\":{\"colorbar\":{\"outlinewidth\":0,\"ticks\":\"\"}}}],\"scatterpolargl\":[{\"type\":\"scatterpolargl\",\"marker\":{\"colorbar\":{\"outlinewidth\":0,\"ticks\":\"\"}}}],\"bar\":[{\"error_x\":{\"color\":\"#2a3f5f\"},\"error_y\":{\"color\":\"#2a3f5f\"},\"marker\":{\"line\":{\"color\":\"#E5ECF6\",\"width\":0.5},\"pattern\":{\"fillmode\":\"overlay\",\"size\":10,\"solidity\":0.2}},\"type\":\"bar\"}],\"scattergeo\":[{\"type\":\"scattergeo\",\"marker\":{\"colorbar\":{\"outlinewidth\":0,\"ticks\":\"\"}}}],\"scatterpolar\":[{\"type\":\"scatterpolar\",\"marker\":{\"colorbar\":{\"outlinewidth\":0,\"ticks\":\"\"}}}],\"histogram\":[{\"marker\":{\"pattern\":{\"fillmode\":\"overlay\",\"size\":10,\"solidity\":0.2}},\"type\":\"histogram\"}],\"scattergl\":[{\"type\":\"scattergl\",\"marker\":{\"colorbar\":{\"outlinewidth\":0,\"ticks\":\"\"}}}],\"scatter3d\":[{\"type\":\"scatter3d\",\"line\":{\"colorbar\":{\"outlinewidth\":0,\"ticks\":\"\"}},\"marker\":{\"colorbar\":{\"outlinewidth\":0,\"ticks\":\"\"}}}],\"scattermapbox\":[{\"type\":\"scattermapbox\",\"marker\":{\"colorbar\":{\"outlinewidth\":0,\"ticks\":\"\"}}}],\"scatterternary\":[{\"type\":\"scatterternary\",\"marker\":{\"colorbar\":{\"outlinewidth\":0,\"ticks\":\"\"}}}],\"scattercarpet\":[{\"type\":\"scattercarpet\",\"marker\":{\"colorbar\":{\"outlinewidth\":0,\"ticks\":\"\"}}}],\"carpet\":[{\"aaxis\":{\"endlinecolor\":\"#2a3f5f\",\"gridcolor\":\"white\",\"linecolor\":\"white\",\"minorgridcolor\":\"white\",\"startlinecolor\":\"#2a3f5f\"},\"baxis\":{\"endlinecolor\":\"#2a3f5f\",\"gridcolor\":\"white\",\"linecolor\":\"white\",\"minorgridcolor\":\"white\",\"startlinecolor\":\"#2a3f5f\"},\"type\":\"carpet\"}],\"table\":[{\"cells\":{\"fill\":{\"color\":\"#EBF0F8\"},\"line\":{\"color\":\"white\"}},\"header\":{\"fill\":{\"color\":\"#C8D4E3\"},\"line\":{\"color\":\"white\"}},\"type\":\"table\"}],\"barpolar\":[{\"marker\":{\"line\":{\"color\":\"#E5ECF6\",\"width\":0.5},\"pattern\":{\"fillmode\":\"overlay\",\"size\":10,\"solidity\":0.2}},\"type\":\"barpolar\"}],\"pie\":[{\"automargin\":true,\"type\":\"pie\"}]},\"layout\":{\"autotypenumbers\":\"strict\",\"colorway\":[\"#636efa\",\"#EF553B\",\"#00cc96\",\"#ab63fa\",\"#FFA15A\",\"#19d3f3\",\"#FF6692\",\"#B6E880\",\"#FF97FF\",\"#FECB52\"],\"font\":{\"color\":\"#2a3f5f\"},\"hovermode\":\"closest\",\"hoverlabel\":{\"align\":\"left\"},\"paper_bgcolor\":\"white\",\"plot_bgcolor\":\"#E5ECF6\",\"polar\":{\"bgcolor\":\"#E5ECF6\",\"angularaxis\":{\"gridcolor\":\"white\",\"linecolor\":\"white\",\"ticks\":\"\"},\"radialaxis\":{\"gridcolor\":\"white\",\"linecolor\":\"white\",\"ticks\":\"\"}},\"ternary\":{\"bgcolor\":\"#E5ECF6\",\"aaxis\":{\"gridcolor\":\"white\",\"linecolor\":\"white\",\"ticks\":\"\"},\"baxis\":{\"gridcolor\":\"white\",\"linecolor\":\"white\",\"ticks\":\"\"},\"caxis\":{\"gridcolor\":\"white\",\"linecolor\":\"white\",\"ticks\":\"\"}},\"coloraxis\":{\"colorbar\":{\"outlinewidth\":0,\"ticks\":\"\"}},\"colorscale\":{\"sequential\":[[0.0,\"#0d0887\"],[0.1111111111111111,\"#46039f\"],[0.2222222222222222,\"#7201a8\"],[0.3333333333333333,\"#9c179e\"],[0.4444444444444444,\"#bd3786\"],[0.5555555555555556,\"#d8576b\"],[0.6666666666666666,\"#ed7953\"],[0.7777777777777778,\"#fb9f3a\"],[0.8888888888888888,\"#fdca26\"],[1.0,\"#f0f921\"]],\"sequentialminus\":[[0.0,\"#0d0887\"],[0.1111111111111111,\"#46039f\"],[0.2222222222222222,\"#7201a8\"],[0.3333333333333333,\"#9c179e\"],[0.4444444444444444,\"#bd3786\"],[0.5555555555555556,\"#d8576b\"],[0.6666666666666666,\"#ed7953\"],[0.7777777777777778,\"#fb9f3a\"],[0.8888888888888888,\"#fdca26\"],[1.0,\"#f0f921\"]],\"diverging\":[[0,\"#8e0152\"],[0.1,\"#c51b7d\"],[0.2,\"#de77ae\"],[0.3,\"#f1b6da\"],[0.4,\"#fde0ef\"],[0.5,\"#f7f7f7\"],[0.6,\"#e6f5d0\"],[0.7,\"#b8e186\"],[0.8,\"#7fbc41\"],[0.9,\"#4d9221\"],[1,\"#276419\"]]},\"xaxis\":{\"gridcolor\":\"white\",\"linecolor\":\"white\",\"ticks\":\"\",\"title\":{\"standoff\":15},\"zerolinecolor\":\"white\",\"automargin\":true,\"zerolinewidth\":2},\"yaxis\":{\"gridcolor\":\"white\",\"linecolor\":\"white\",\"ticks\":\"\",\"title\":{\"standoff\":15},\"zerolinecolor\":\"white\",\"automargin\":true,\"zerolinewidth\":2},\"scene\":{\"xaxis\":{\"backgroundcolor\":\"#E5ECF6\",\"gridcolor\":\"white\",\"linecolor\":\"white\",\"showbackground\":true,\"ticks\":\"\",\"zerolinecolor\":\"white\",\"gridwidth\":2},\"yaxis\":{\"backgroundcolor\":\"#E5ECF6\",\"gridcolor\":\"white\",\"linecolor\":\"white\",\"showbackground\":true,\"ticks\":\"\",\"zerolinecolor\":\"white\",\"gridwidth\":2},\"zaxis\":{\"backgroundcolor\":\"#E5ECF6\",\"gridcolor\":\"white\",\"linecolor\":\"white\",\"showbackground\":true,\"ticks\":\"\",\"zerolinecolor\":\"white\",\"gridwidth\":2}},\"shapedefaults\":{\"line\":{\"color\":\"#2a3f5f\"}},\"annotationdefaults\":{\"arrowcolor\":\"#2a3f5f\",\"arrowhead\":0,\"arrowwidth\":1},\"geo\":{\"bgcolor\":\"white\",\"landcolor\":\"#E5ECF6\",\"subunitcolor\":\"white\",\"showland\":true,\"showlakes\":true,\"lakecolor\":\"white\"},\"title\":{\"x\":0.05},\"mapbox\":{\"style\":\"light\"}}},\"xaxis\":{\"anchor\":\"y\",\"domain\":[0.0,1.0],\"scaleanchor\":\"y\",\"constrain\":\"domain\",\"title\":{\"text\":\"Head\"}},\"yaxis\":{\"anchor\":\"x\",\"domain\":[0.0,1.0],\"autorange\":\"reversed\",\"constrain\":\"domain\",\"title\":{\"text\":\"Layer\"}},\"coloraxis\":{\"colorscale\":[[0.0,\"rgb(103,0,31)\"],[0.1,\"rgb(178,24,43)\"],[0.2,\"rgb(214,96,77)\"],[0.3,\"rgb(244,165,130)\"],[0.4,\"rgb(253,219,199)\"],[0.5,\"rgb(247,247,247)\"],[0.6,\"rgb(209,229,240)\"],[0.7,\"rgb(146,197,222)\"],[0.8,\"rgb(67,147,195)\"],[0.9,\"rgb(33,102,172)\"],[1.0,\"rgb(5,48,97)\"]],\"cmid\":0.0},\"title\":{\"text\":\"Induction Score by Head in Distil GPT-2\"}},                        {\"responsive\": true}                    ).then(function(){\n",
                            "                            \n",
                            "var gd = document.getElementById('98c37ee6-d1eb-4fd2-abb6-25fcea4806d8');\n",
                            "var x = new MutationObserver(function (mutations, observer) {{\n",
                            "        var display = window.getComputedStyle(gd).display;\n",
                            "        if (!display || display === 'none') {{\n",
                            "            console.log([gd, 'removed!']);\n",
                            "            Plotly.purge(gd);\n",
                            "            observer.disconnect();\n",
                            "        }}\n",
                            "}});\n",
                            "\n",
                            "// Listen for the removal of the full notebook cells\n",
                            "var notebookContainer = gd.closest('#notebook-container');\n",
                            "if (notebookContainer) {{\n",
                            "    x.observe(notebookContainer, {childList: true});\n",
                            "}}\n",
                            "\n",
                            "// Listen for the clearing of the current output cell\n",
                            "var outputEl = gd.closest('.output');\n",
                            "if (outputEl) {{\n",
                            "    x.observe(outputEl, {childList: true});\n",
                            "}}\n",
                            "\n",
                            "                        })                };                            </script>        </div>\n",
                            "</body>\n",
                            "</html>"
                        ]
                    },
                    "metadata": {},
                    "output_type": "display_data"
                }
            ],
            "source": [
                "distilgpt2 = HookedTransformer.from_pretrained(\"distilgpt2\")\n",
                "# We make a tensor to store the induction score for each head. We put it on the model's device to avoid needing to move things between the GPU and CPU, which can be slow.\n",
                "distilgpt2_induction_score_store = torch.zeros((distilgpt2.cfg.n_layers, distilgpt2.cfg.n_heads), device=distilgpt2.cfg.device)\n",
                "def induction_score_hook(\n",
                "    pattern: Float[torch.Tensor, \"batch head_index dest_pos source_pos\"],\n",
                "    hook: HookPoint,\n",
                "):\n",
                "    # We take the diagonal of attention paid from each destination position to source positions seq_len-1 tokens back\n",
                "    # (This only has entries for tokens with index>=seq_len)\n",
                "    induction_stripe = pattern.diagonal(dim1=-2, dim2=-1, offset=1-seq_len)\n",
                "    # Get an average score per head\n",
                "    induction_score = einops.reduce(induction_stripe, \"batch head_index position -> head_index\", \"mean\")\n",
                "    # Store the result.\n",
                "    distilgpt2_induction_score_store[hook.layer(), :] = induction_score\n",
                "\n",
                "# We make a boolean filter on activation names, that's true only on attention pattern names.\n",
                "pattern_hook_names_filter = lambda name: name.endswith(\"pattern\")\n",
                "\n",
                "distilgpt2.run_with_hooks(\n",
                "    repeated_tokens, \n",
                "    return_type=None, # For efficiency, we don't need to calculate the logits\n",
                "    fwd_hooks=[(\n",
                "        pattern_hook_names_filter,\n",
                "        induction_score_hook\n",
                "    )]\n",
                ")\n",
                "\n",
                "imshow(distilgpt2_induction_score_store, xaxis=\"Head\", yaxis=\"Layer\", title=\"Induction Score by Head in Distil GPT-2\")"
            ]
        },
        {
            "attachments": {},
            "cell_type": "markdown",
            "metadata": {},
            "source": [
                "\n",
                "### An overview of the important open source models in the library\n",
                "\n",
                "* **GPT-2** - the classic generative pre-trained models from OpenAI\n",
                "    * Sizes Small (85M), Medium (300M), Large (700M) and XL (1.5B).\n",
                "    * Trained on ~22B tokens of internet text. ([Open source replication](https://huggingface.co/datasets/openwebtext))\n",
                "* **GPT-Neo** - Eleuther's replication of GPT-2\n",
                "    * Sizes 125M, 1.3B, 2.7B\n",
                "    * Trained on 300B(ish?) tokens of [the Pile](https://pile.eleuther.ai/) a large and diverse dataset including a bunch of code (and weird stuff)\n",
                "* **[OPT](https://ai.facebook.com/blog/democratizing-access-to-large-scale-language-models-with-opt-175b/)** - Meta AI's series of open source models\n",
                "    * Trained on 180B tokens of diverse text.\n",
                "    * 125M, 1.3B, 2.7B, 6.7B, 13B, 30B, 66B\n",
                "* **GPT-J** - Eleuther's 6B parameter model, trained on the Pile\n",
                "* **GPT-NeoX** - Eleuther's 20B parameter model, trained on the Pile\n",
                "* **StableLM** - Stability AI's 3B and 7B models, with and without chat and instruction fine-tuning\n",
                "* **Stanford CRFM models** - a replication of GPT-2 Small and GPT-2 Medium, trained on 5 different random seeds.\n",
                "    * Notably, 600 checkpoints were taken during training per model, and these are available in the library with eg `HookedTransformer.from_pretrained(\"stanford-gpt2-small-a\", checkpoint_index=265)`.\n",
                "- **BERT** - Google's bidirectional encoder-only transformer.\n",
                "    - Size Base (108M), trained on English Wikipedia and BooksCorpus.\n",
                " \n",
                "</details>"
            ]
        },
        {
            "cell_type": "markdown",
            "metadata": {},
            "source": [
                "\n",
                "### An overview of some interpretability-friendly models I've trained and included\n",
                "\n",
                "(Feel free to [reach out](mailto:neelnanda27@gmail.com) if you want more details on any of these models)\n",
                "\n",
                "Each of these models has about ~200 checkpoints taken during training that can also be loaded from TransformerLens, with the `checkpoint_index` argument to `from_pretrained`.\n",
                "\n",
                "Note that all models are trained with a Beginning of Sequence token, and will likely break if given inputs without that! \n",
                "\n",
                "* **Toy Models**: Inspired by [A Mathematical Framework](https://transformer-circuits.pub/2021/framework/index.html), I've trained 12 tiny language models, of 1-4L and each of width 512. I think that interpreting these is likely to be far more tractable than larger models, and both serve as good practice and will likely contain motifs and circuits that generalise to far larger models (like induction heads):\n",
                "    * Attention-Only models (ie without MLPs): attn-only-1l, attn-only-2l, attn-only-3l, attn-only-4l\n",
                "    * GELU models (ie with MLP, and the standard GELU activations): gelu-1l, gelu-2l, gelu-3l, gelu-4l\n",
                "    * SoLU models (ie with MLP, and [Anthropic's SoLU activation](https://transformer-circuits.pub/2022/solu/index.html), designed to make MLP neurons more interpretable): solu-1l, solu-2l, solu-3l, solu-4l\n",
                "    * All models are trained on 22B tokens of data, 80% from C4 (web text) and 20% from Python Code\n",
                "    * Models of the same layer size were trained with the same weight initialization and data shuffle, to more directly compare the effect of different activation functions.\n",
                "* **SoLU** models: A larger scan of models trained with [Anthropic's SoLU activation](https://transformer-circuits.pub/2022/solu/index.html), in the hopes that it makes the MLP neuron interpretability easier. \n",
                "    * A scan up to GPT-2 Medium size, trained on 30B tokens of the same data as toy models, 80% from C4 and 20% from Python code. \n",
                "        * solu-6l (40M), solu-8l (100M), solu-10l (200M), solu-12l (340M)\n",
                "    * An older scan up to GPT-2 Medium size, trained on 15B tokens of [the Pile](https://pile.eleuther.ai/)\n",
                "        * solu-1l-pile (13M), solu-2l-pile (13M), solu-4l-pile (13M), solu-6l-pile (40M), solu-8l-pile (100M), solu-10l-pile (200M), solu-12l-pile (340M)"
            ]
        },
        {
            "attachments": {},
            "cell_type": "markdown",
            "metadata": {},
            "source": [
                "## Other Resources:\n",
                "\n",
                "* [Concrete Steps to Get Started in Mechanistic Interpretability](https://neelnanda.io/getting-started): A guide I wrote for how to get involved in mechanistic interpretability, and how to learn the basic skills\n",
                "* [A Comprehensive Mechanistic Interpretability Explainer](https://neelnanda.io/glossary): An overview of concepts in the field and surrounding ideas in ML and transformers, with long digressions to give context and build intuitions.\n",
                "* [Concrete Open Problems in Mechanistic Interpretability](https://neelnanda.io/concrete-open-problems), a doc I wrote giving a long list of open problems in mechanistic interpretability, and thoughts on how to get started on trying to work on them. \n",
                "    * There's a lot of low-hanging fruit in the field, and I expect that many people reading this could use TransformerLens to usefully make progress on some of these!\n",
                "* Other demos:\n",
                "    * **[Exploratory Analysis Demo](https://neelnanda.io/exploratory-analysis-demo)**, a demonstration of my standard toolkit for how to use TransformerLens to explore a mysterious behaviour in a language model.\n",
                "    * [Interpretability in the Wild](https://github.com/redwoodresearch/Easy-Transformer) a codebase from Arthur Conmy and Alex Variengien at Redwood research using this library to do a detailed and rigorous reverse engineering of the Indirect Object Identification circuit, to accompany their paper\n",
                "        * Note - this was based on an earlier version of this library, called EasyTransformer. It's pretty similar, but several breaking changes have been made since. \n",
                "    * A [recorded walkthrough](https://www.youtube.com/watch?v=yo4QvDn-vsU) of me doing research with TransformerLens on whether a tiny model can re-derive positional information, with [an accompanying Colab](https://colab.research.google.com/github/neelnanda-io/TransformerLens/blob/main/No_Position_Experiment.ipynb)\n",
                "* [Neuroscope](https://neuroscope.io), a website showing the text in the dataset that most activates each neuron in some selected models. Good to explore to get a sense for what kind of features the model tends to represent, and as a \"wiki\" to get some info\n",
                "    * A tutorial on how to make an [Interactive Neuroscope](https://github.com/neelnanda-io/TransformerLens/blob/main/Hacky-Interactive-Lexoscope.ipynb), where you type in text and see the neuron activations over the text update live."
            ]
        },
        {
            "cell_type": "markdown",
            "metadata": {},
            "source": [
                "## Transformer architecture\n",
                "\n",
                "HookedTransformer is a somewhat adapted GPT-2 architecture, but is computationally identical. The most significant changes are to the internal structure of the attention heads: \n",
                "* The weights (W_K, W_Q, W_V) mapping the residual stream to queries, keys and values are 3 separate matrices, rather than big concatenated one.\n",
                "* The weight matrices (W_K, W_Q, W_V, W_O) and activations (keys, queries, values, z (values mixed by attention pattern)) have separate head_index and d_head axes, rather than flattening them into one big axis.\n",
                "    * The activations all have shape `[batch, position, head_index, d_head]`\n",
                "    * W_K, W_Q, W_V have shape `[head_index, d_model, d_head]` and W_O has shape `[head_index, d_head, d_model]`\n",
                "\n",
                "The actual code is a bit of a mess, as there's a variety of Boolean flags to make it consistent with the various different model families in TransformerLens - to understand it and the internal structure, I instead recommend reading the code in [CleanTransformerDemo](https://colab.research.google.com/github/neelnanda-io/TransformerLens/blob/clean-transformer-demo/Clean_Transformer_Demo.ipynb)"
            ]
        },
        {
            "cell_type": "markdown",
            "metadata": {},
            "source": [
                "### Parameter Names\n",
                "\n",
                "Here is a list of the parameters and shapes in the model. By convention, all weight matrices multiply on the right (ie `new_activation = old_activation @ weights + bias`). \n",
                "\n",
                "Reminder of the key hyper-params:\n",
                "* `n_layers`: 12. The number of transformer blocks in the model (a block contains an attention layer and an MLP layer)\n",
                "* `n_heads`: 12. The number of attention heads per attention layer\n",
                "* `d_model`: 768. The residual stream width.\n",
                "* `d_head`: 64. The internal dimension of an attention head activation.\n",
                "* `d_mlp`: 3072. The internal dimension of the MLP layers (ie the number of neurons).\n",
                "* `d_vocab`: 50267. The number of tokens in the vocabulary.\n",
                "* `n_ctx`: 1024. The maximum number of tokens in an input prompt.\n"
            ]
        },
        {
            "cell_type": "markdown",
            "metadata": {},
            "source": [
                "**Transformer Block parameters:** \n",
                "Replace 0 with the relevant layer index."
            ]
        },
        {
            "cell_type": "code",
            "execution_count": 22,
            "metadata": {},
            "outputs": [
                {
                    "name": "stdout",
                    "output_type": "stream",
                    "text": [
                        "blocks.0.attn.W_Q torch.Size([12, 768, 64])\n",
                        "blocks.0.attn.W_K torch.Size([12, 768, 64])\n",
                        "blocks.0.attn.W_V torch.Size([12, 768, 64])\n",
                        "blocks.0.attn.W_O torch.Size([12, 64, 768])\n",
                        "blocks.0.attn.b_Q torch.Size([12, 64])\n",
                        "blocks.0.attn.b_K torch.Size([12, 64])\n",
                        "blocks.0.attn.b_V torch.Size([12, 64])\n",
                        "blocks.0.attn.b_O torch.Size([768])\n",
                        "blocks.0.mlp.W_in torch.Size([768, 3072])\n",
                        "blocks.0.mlp.b_in torch.Size([3072])\n",
                        "blocks.0.mlp.W_out torch.Size([3072, 768])\n",
                        "blocks.0.mlp.b_out torch.Size([768])\n"
                    ]
                }
            ],
            "source": [
                "for name, param in model.named_parameters():\n",
                "    if name.startswith(\"blocks.0.\"):\n",
                "        print(name, param.shape)"
            ]
        },
        {
            "cell_type": "markdown",
            "metadata": {},
            "source": [
                "**Embedding & Unembedding parameters:**"
            ]
        },
        {
            "cell_type": "code",
            "execution_count": 23,
            "metadata": {},
            "outputs": [
                {
                    "name": "stdout",
                    "output_type": "stream",
                    "text": [
                        "embed.W_E torch.Size([50257, 768])\n",
                        "pos_embed.W_pos torch.Size([1024, 768])\n",
                        "unembed.W_U torch.Size([768, 50257])\n",
                        "unembed.b_U torch.Size([50257])\n"
                    ]
                }
            ],
            "source": [
                "for name, param in model.named_parameters():\n",
                "    if not name.startswith(\"blocks\"):\n",
                "        print(name, param.shape)"
            ]
        },
        {
            "attachments": {},
            "cell_type": "markdown",
            "metadata": {},
            "source": [
                "### Activation + Hook Names\n",
                "\n",
                "Lets get out a list of the activation/hook names in the model and their shapes. In practice, I recommend using the `utils.get_act_name` function to get the names, but this is a useful fallback, and necessary to eg write a name filter function.\n",
                "\n",
                "Let's do this by entering in a short, 10 token prompt, and add a hook function to each activations to print its name and shape. To avoid spam, let's just add this to activations in the first block or not in a block.\n",
                "\n",
                "Note 1: Each LayerNorm has a hook for the scale factor (ie the standard deviation of the input activations for each token position & batch element) and for the normalized output (ie the input activation with mean 0 and standard deviation 1, but *before* applying scaling or translating with learned weights). LayerNorm is applied every time a layer reads from the residual stream: `ln1` is the LayerNorm before the attention layer in a block, `ln2` the one before the MLP layer, and `ln_final` is the LayerNorm before the unembed. \n",
                "\n",
                "Note 2: *Every* activation apart from the attention pattern and attention scores has shape beginning with `[batch, position]`. The attention pattern and scores have shape `[batch, head_index, dest_position, source_position]` (the numbers are the same, unless we're using caching)."
            ]
        },
        {
            "cell_type": "code",
            "execution_count": 24,
            "metadata": {},
            "outputs": [
                {
                    "name": "stdout",
                    "output_type": "stream",
                    "text": [
                        "Num tokens: 1\n",
                        "hook_embed torch.Size([1, 10, 768])\n",
                        "hook_pos_embed torch.Size([1, 10, 768])\n",
                        "blocks.0.hook_resid_pre torch.Size([1, 10, 768])\n",
                        "blocks.0.ln1.hook_scale torch.Size([1, 10, 1])\n",
                        "blocks.0.ln1.hook_normalized torch.Size([1, 10, 768])\n",
                        "blocks.0.attn.hook_q torch.Size([1, 10, 12, 64])\n",
                        "blocks.0.attn.hook_k torch.Size([1, 10, 12, 64])\n",
                        "blocks.0.attn.hook_v torch.Size([1, 10, 12, 64])\n",
                        "blocks.0.attn.hook_attn_scores torch.Size([1, 12, 10, 10])\n",
                        "blocks.0.attn.hook_pattern torch.Size([1, 12, 10, 10])\n",
                        "blocks.0.attn.hook_z torch.Size([1, 10, 12, 64])\n",
                        "blocks.0.hook_attn_out torch.Size([1, 10, 768])\n",
                        "blocks.0.hook_resid_mid torch.Size([1, 10, 768])\n",
                        "blocks.0.ln2.hook_scale torch.Size([1, 10, 1])\n",
                        "blocks.0.ln2.hook_normalized torch.Size([1, 10, 768])\n",
                        "blocks.0.mlp.hook_pre torch.Size([1, 10, 3072])\n",
                        "blocks.0.mlp.hook_post torch.Size([1, 10, 3072])\n",
                        "blocks.0.hook_mlp_out torch.Size([1, 10, 768])\n",
                        "blocks.0.hook_resid_post torch.Size([1, 10, 768])\n",
                        "ln_final.hook_scale torch.Size([1, 10, 1])\n",
                        "ln_final.hook_normalized torch.Size([1, 10, 768])\n"
                    ]
                }
            ],
            "source": [
                "test_prompt = \"The quick brown fox jumped over the lazy dog\"\n",
                "print(\"Num tokens:\", len(model.to_tokens(test_prompt)[0]))\n",
                "\n",
                "def print_name_shape_hook_function(activation, hook):\n",
                "    print(hook.name, activation.shape)\n",
                "\n",
                "not_in_late_block_filter = lambda name: name.startswith(\"blocks.0.\") or not name.startswith(\"blocks\")\n",
                "\n",
                "model.run_with_hooks(\n",
                "    test_prompt,\n",
                "    return_type=None,\n",
                "    fwd_hooks=[(not_in_late_block_filter, print_name_shape_hook_function)],\n",
                ")"
            ]
        },
        {
            "cell_type": "markdown",
            "metadata": {},
            "source": [
                "### Folding LayerNorm (For the Curious)"
            ]
        },
        {
            "cell_type": "markdown",
            "metadata": {},
            "source": [
                "(For the curious - this is an important technical detail that's worth understanding, especially if you have preconceptions about how transformers work, but not necessary to use TransformerLens)\n",
                "\n",
                "LayerNorm is a normalization technique used by transformers, analogous to BatchNorm but more friendly to massive parallelisation. No one *really* knows why it works, but it seems to improve model numerical stability. Unlike BatchNorm, LayerNorm actually changes the functional form of the model, which makes it a massive pain for interpretability! \n",
                "\n",
                "Folding LayerNorm is a technique to make it lower overhead to deal with, and the flags `center_writing_weights` and `fold_ln` in `HookedTransformer.from_pretrained` apply this automatically (they default to True). These simplify the internal structure without changing the weights.\n",
                "\n",
                "Intuitively, LayerNorm acts on each residual stream vector (ie for each batch element and token position) independently, sets their mean to 0 (centering) and standard deviation to 1 (normalizing) (*across* the residual stream dimension - very weird!), and then applies a learned elementwise scaling and translation to each vector.\n",
                "\n",
                "Mathematically, centering is a linear map, normalizing is *not* a linear map, and scaling and translation are linear maps. \n",
                "* **Centering:** LayerNorm is applied every time a layer reads from the residual stream, so the mean of any residual stream vector can never matter - `center_writing_weights` set every weight matrix writing to the residual to have zero mean. \n",
                "* **Normalizing:** Normalizing is not a linear map, and cannot be factored out. The `hook_scale` hook point lets you access and control for this.\n",
                "* **Scaling and Translation:** Scaling and translation are linear maps, and are always followed by another linear map. The composition of two linear maps is another linear map, so we can *fold* the scaling and translation weights into the weights of the subsequent layer, and simplify things without changing the underlying computation. \n",
                "\n",
                "[See the docs for more details](https://github.com/neelnanda-io/TransformerLens/blob/main/further_comments.md#what-is-layernorm-folding-fold_ln)"
            ]
        },
        {
            "cell_type": "markdown",
            "metadata": {},
            "source": [
                "A fun consequence of LayerNorm folding is that it creates a bias across the unembed, a `d_vocab` length vector that is added to the output logits - GPT-2 is not trained with this, but it *is* trained with a final LayerNorm that contains a bias. \n",
                "\n",
                "Turns out, this LayerNorm bias learns structure of the data that we can only see after folding! In particular, it essentially learns **unigram statistics** - rare tokens get suppressed, common tokens get boosted, by pretty dramatic degrees! Let's list the top and bottom 20 - at the top we see common punctuation and words like \" the\" and \" and\", at the bottom we see weird-ass tokens like \" RandomRedditor\":"
            ]
        },
        {
            "cell_type": "code",
            "execution_count": 25,
            "metadata": {},
            "outputs": [],
            "source": [
                "unembed_bias = model.unembed.b_U\n",
                "bias_values, bias_indices = unembed_bias.sort(descending=True)"
            ]
        },
        {
            "cell_type": "code",
            "execution_count": 26,
            "metadata": {},
            "outputs": [
                {
                    "name": "stdout",
                    "output_type": "stream",
                    "text": [
                        "Top 20 values\n",
                        "7.03 ','\n",
                        "6.98 ' the'\n",
                        "6.68 ' and'\n",
                        "6.49 '.'\n",
                        "6.48 '\\n'\n",
                        "6.47 ' a'\n",
                        "6.41 ' in'\n",
                        "6.25 ' to'\n",
                        "6.16 ' of'\n",
                        "6.04 '-'\n",
                        "6.03 ' ('\n",
                        "5.88 ' \"'\n",
                        "5.80 ' for'\n",
                        "5.72 ' that'\n",
                        "5.64 ' on'\n",
                        "5.59 ' is'\n",
                        "5.52 ' as'\n",
                        "5.49 ' at'\n",
                        "5.45 ' with'\n",
                        "5.44 ' or'\n",
                        "...\n",
                        "Bottom 20 values\n",
                        "-3.82 ' サーティ'\n",
                        "-3.83 '\\x18'\n",
                        "-3.83 '\\x14'\n",
                        "-3.83 ' RandomRedditor'\n",
                        "-3.83 '龍�'\n",
                        "-3.83 '�'\n",
                        "-3.83 '\\x1b'\n",
                        "-3.83 '�'\n",
                        "-3.83 '\\x05'\n",
                        "-3.83 '\\x00'\n",
                        "-3.83 '\\x06'\n",
                        "-3.83 '\\x07'\n",
                        "-3.83 '\\x0c'\n",
                        "-3.83 '\\x02'\n",
                        "-3.83 'oreAndOnline'\n",
                        "-3.84 '\\x11'\n",
                        "-3.84 '�'\n",
                        "-3.84 '\\x10'\n",
                        "-3.84 '�'\n",
                        "-3.84 '�'\n"
                    ]
                }
            ],
            "source": [
                "top_k = 20\n",
                "print(f\"Top {top_k} values\")\n",
                "for i in range(top_k):\n",
                "    print(f\"{bias_values[i].item():.2f} {repr(model.to_string(bias_indices[i]))}\")\n",
                "\n",
                "print(\"...\")\n",
                "print(f\"Bottom {top_k} values\")\n",
                "for i in range(top_k, 0, -1):\n",
                "    print(f\"{bias_values[-i].item():.2f} {repr(model.to_string(bias_indices[-i]))}\")"
            ]
        },
        {
            "cell_type": "markdown",
            "metadata": {},
            "source": [
                "This can have real consequences for interpretability - for example, this bias favours \" John\" over \" Mary\" by about 1.2, about 1/3 of the effect size of the Indirect Object Identification Circuit! All other things being the same, this makes the John token 3.6x times more likely than the Mary token."
            ]
        },
        {
            "cell_type": "code",
            "execution_count": 27,
            "metadata": {},
            "outputs": [
                {
                    "name": "stdout",
                    "output_type": "stream",
                    "text": [
                        "John bias: 2.8995\n",
                        "Mary bias: 1.6034\n",
                        "Prob ratio bias: 3.6550x\n"
                    ]
                }
            ],
            "source": [
                "john_bias = model.unembed.b_U[model.to_single_token(' John')]\n",
                "mary_bias = model.unembed.b_U[model.to_single_token(' Mary')]\n",
                "\n",
                "print(f\"John bias: {john_bias.item():.4f}\")\n",
                "print(f\"Mary bias: {mary_bias.item():.4f}\")\n",
                "print(f\"Prob ratio bias: {torch.exp(john_bias - mary_bias).item():.4f}x\")"
            ]
        },
        {
            "attachments": {},
            "cell_type": "markdown",
            "metadata": {},
            "source": [
                "# Features\n",
                "\n",
                "An overview of some other important features of the library. I recommend checking out the [Exploratory Analysis Demo](https://colab.research.google.com/github/neelnanda-io/Easy-Transformer/blob/main/Exploratory_Analysis_Demo.ipynb) for some other important features not mentioned here, and for a demo of what using the library in practice looks like."
            ]
        },
        {
            "attachments": {},
            "cell_type": "markdown",
            "metadata": {},
            "source": [
                "## Dealing with tokens\n",
                "\n",
                "**Tokenization** is one of the most annoying features of studying language models. We want language models to be able to take in arbitrary text as input, but the transformer architecture needs the inputs to be elements of a fixed, finite vocabulary. The solution to this is **tokens**, a fixed vocabulary of \"sub-words\", that any natural language can be broken down into with a **tokenizer**. This is invertible, and we can recover the original text, called **de-tokenization**. \n",
                "\n",
                "TransformerLens comes with a range of utility functions to deal with tokenization. Different models can have different tokenizers, so these are all methods on the model.\n",
                "\n",
                "get_token_position, to_tokens, to_string, to_str_tokens, prepend_bos, to_single_token"
            ]
        },
        {
            "cell_type": "markdown",
            "metadata": {},
            "source": [
                "The first thing you need to figure out is *how* things are tokenized. `model.to_str_tokens` splits a string into the tokens *as a list of substrings*, and so lets you explore what the text looks like. To demonstrate this, let's use it on this paragraph.\n",
                "\n",
                "Some observations - there are a lot of arbitrary-ish details in here!\n",
                "* The tokenizer splits on spaces, so no token contains two words.\n",
                "* Tokens include the preceding space, and whether the first token is a capital letter. `how` and ` how` are different tokens!\n",
                "* Common words are single tokens, even if fairly long (` paragraph`) while uncommon words are split into multiple tokens (` token|ized`).\n",
                "* Tokens *mostly* split on punctuation characters (eg `*` and `.`), but eg `'s` is a single token."
            ]
        },
        {
            "cell_type": "code",
            "execution_count": 28,
            "metadata": {},
            "outputs": [
                {
                    "name": "stdout",
                    "output_type": "stream",
                    "text": [
                        "['<|endoftext|>', 'The', ' first', ' thing', ' you', ' need', ' to', ' figure', ' out', ' is', ' *', 'how', '*', ' things', ' are', ' token', 'ized', '.', ' `', 'model', '.', 'to', '_', 'str', '_', 't', 'ok', 'ens', '`', ' splits', ' a', ' string', ' into', ' the', ' tokens', ' *', 'as', ' a', ' list', ' of', ' sub', 'strings', '*,', ' and', ' so', ' lets', ' you', ' explore', ' what', ' the', ' text', ' looks', ' like', '.', ' To', ' demonstrate', ' this', ',', ' let', \"'s\", ' use', ' it', ' on', ' this', ' paragraph', '.']\n"
                    ]
                }
            ],
            "source": [
                "example_text = \"The first thing you need to figure out is *how* things are tokenized. `model.to_str_tokens` splits a string into the tokens *as a list of substrings*, and so lets you explore what the text looks like. To demonstrate this, let's use it on this paragraph.\"\n",
                "example_text_str_tokens = model.to_str_tokens(example_text)\n",
                "print(example_text_str_tokens)"
            ]
        },
        {
            "cell_type": "markdown",
            "metadata": {},
            "source": [
                "The transformer needs to take in a sequence of integers, not strings, so we need to convert these tokens into integers. `model.to_tokens` does this, and returns a tensor of integers on the model's device (shape `[batch, position]`). It maps a string to a batch of size 1."
            ]
        },
        {
            "cell_type": "code",
            "execution_count": 29,
            "metadata": {},
            "outputs": [
                {
                    "name": "stdout",
                    "output_type": "stream",
                    "text": [
                        "tensor([[50256,   464,   717,  1517,   345,   761,   284,  3785,   503,   318,\n",
                        "          1635,  4919,     9,  1243,   389, 11241,  1143,    13,  4600, 19849,\n",
                        "            13,  1462,    62,  2536,    62,    83,   482,   641,    63, 30778,\n",
                        "           257,  4731,   656,   262, 16326,  1635,   292,   257,  1351,   286,\n",
                        "           850, 37336, 25666,   290,   523,  8781,   345,  7301,   644,   262,\n",
                        "          2420,  3073,   588,    13,  1675, 10176,   428,    11,  1309,   338,\n",
                        "           779,   340,   319,   428,  7322,    13]], device='cuda:0')\n"
                    ]
                }
            ],
            "source": [
                "example_text_tokens = model.to_tokens(example_text)\n",
                "print(example_text_tokens)"
            ]
        },
        {
            "cell_type": "markdown",
            "metadata": {},
            "source": [
                "`to_tokens` can also take in a list of strings, and return a batch of size `len(strings)`. If the strings are different numbers of tokens, it adds a PAD token to the end of the shorter strings to make them the same length.\n",
                "\n",
                "(Note: In GPT-2, 50256 signifies both the beginning of sequence, end of sequence and padding token - see the `prepend_bos` section for details)"
            ]
        },
        {
            "cell_type": "code",
            "execution_count": 30,
            "metadata": {},
            "outputs": [
                {
                    "name": "stdout",
                    "output_type": "stream",
                    "text": [
                        "tensor([[50256,   464,  3797,  3332,   319,   262,  2603,    13, 50256, 50256],\n",
                        "        [50256,   464,  3797,  3332,   319,   262,  2603,  1107,  1327,    13]],\n",
                        "       device='cuda:0')\n"
                    ]
                }
            ],
            "source": [
                "example_multi_text = [\"The cat sat on the mat.\", \"The cat sat on the mat really hard.\"]\n",
                "example_multi_text_tokens = model.to_tokens(example_multi_text)\n",
                "print(example_multi_text_tokens)"
            ]
        },
        {
            "cell_type": "markdown",
            "metadata": {},
            "source": [
                "`model.to_single_token` is a convenience function that takes in a string corresponding to a *single* token and returns the corresponding integer. This is useful for eg looking up the logit corresponding to a single token. \n",
                "\n",
                "For example, let's input `The cat sat on the mat.` to GPT-2, and look at the log prob predicting that the next token is ` The`. \n",
                "\n",
                "<details><summary>Technical notes</summary>\n",
                "\n",
                "Note that if we input a string to the model, it's implicitly converted to a string with `to_tokens`. \n",
                "\n",
                "Note further that the log probs have shape `[batch, position, d_vocab]==[1, 8, 50257]`, with a vector of log probs predicting the next token for *every* token position. GPT-2 uses causal attention which means heads can only look backwards (equivalently, information can only move forwards in the model.), so the log probs at position k are only a function of the first k tokens, and it can't just cheat and look at the k+1 th token. This structure lets it generate text more efficiently, and lets it treat every *token* as a training example, rather than every *sequence*.\n",
                "</details>"
            ]
        },
        {
            "cell_type": "code",
            "execution_count": 31,
            "metadata": {},
            "outputs": [
                {
                    "name": "stdout",
                    "output_type": "stream",
                    "text": [
                        "Probability tensor shape [batch, position, d_vocab] == torch.Size([1, 8, 50257])\n",
                        "| The| probability: 11.98%\n"
                    ]
                }
            ],
            "source": [
                "cat_text = \"The cat sat on the mat.\"\n",
                "cat_logits = model(cat_text)\n",
                "cat_probs = cat_logits.softmax(dim=-1)\n",
                "print(f\"Probability tensor shape [batch, position, d_vocab] == {cat_probs.shape}\")\n",
                "\n",
                "capital_the_token_index = model.to_single_token(\" The\")\n",
                "print(f\"| The| probability: {cat_probs[0, -1, capital_the_token_index].item():.2%}\")"
            ]
        },
        {
            "cell_type": "markdown",
            "metadata": {},
            "source": [
                "`model.to_string` is the inverse of `to_tokens` and maps a tensor of integers to a string or list of strings. It also works on integers and lists of integers.\n",
                "\n",
                "For example, let's look up token 256 (due to technical details of tokenization, this will be the most common pair of ASCII characters!), and also verify that our tokens above map back to a string."
            ]
        },
        {
            "cell_type": "code",
            "execution_count": 32,
            "metadata": {},
            "outputs": [
                {
                    "name": "stdout",
                    "output_type": "stream",
                    "text": [
                        "Token 256 - the most common pair of ASCII characters: | t|\n",
                        "De-Tokenizing the example tokens: <|endoftext|>The first thing you need to figure out is *how* things are tokenized. `model.to_str_tokens` splits a string into the tokens *as a list of substrings*, and so lets you explore what the text looks like. To demonstrate this, let's use it on this paragraph.\n"
                    ]
                }
            ],
            "source": [
                "print(f\"Token 256 - the most common pair of ASCII characters: |{model.to_string(256)}|\")\n",
                "# Squeeze means to remove dimensions of length 1. \n",
                "# Here, that removes the dummy batch dimension so it's a rank 1 tensor and returns a string\n",
                "# Rank 2 tensors map to a list of strings\n",
                "print(f\"De-Tokenizing the example tokens: {model.to_string(example_text_tokens.squeeze())}\")"
            ]
        },
        {
            "cell_type": "markdown",
            "metadata": {},
            "source": [
                "A related annoyance of tokenization is that it's hard to figure out how many tokens a string will break into. `model.get_token_position(single_token, tokens)` returns the position of `single_token` in `tokens`. `tokens` can be either a string or a tensor of tokens. \n",
                "\n",
                "Note that position is zero-indexed, it's two (ie third) because there's a beginning of sequence token automatically prepended (see the next section for details)"
            ]
        },
        {
            "cell_type": "code",
            "execution_count": 33,
            "metadata": {},
            "outputs": [
                {
                    "name": "stdout",
                    "output_type": "stream",
                    "text": [
                        "With BOS: 2\n",
                        "Without BOS: 1\n"
                    ]
                }
            ],
            "source": [
                "print(\"With BOS:\", model.get_token_position(\" cat\", \"The cat sat on the mat\"))\n",
                "print(\"Without BOS:\", model.get_token_position(\" cat\", \"The cat sat on the mat\", prepend_bos=False))"
            ]
        },
        {
            "cell_type": "markdown",
            "metadata": {},
            "source": [
                "If there are multiple copies of the token, we can set `mode=\"first\"` to find the first occurence's position and `mode=\"last\"` to find the last"
            ]
        },
        {
            "cell_type": "code",
            "execution_count": 34,
            "metadata": {},
            "outputs": [
                {
                    "name": "stdout",
                    "output_type": "stream",
                    "text": [
                        "First occurence 2\n",
                        "Final occurence 13\n"
                    ]
                }
            ],
            "source": [
                "print(\"First occurence\", model.get_token_position(\n",
                "    \" cat\", \n",
                "    \"The cat sat on the mat. The mat sat on the cat.\", \n",
                "    mode=\"first\"))\n",
                "print(\"Final occurence\", model.get_token_position(\n",
                "    \" cat\", \n",
                "    \"The cat sat on the mat. The mat sat on the cat.\", \n",
                "    mode=\"last\"))"
            ]
        },
        {
            "cell_type": "markdown",
            "metadata": {},
            "source": [
                "In general, tokenization is a pain, and full of gotchas. I highly recommend just playing around with different inputs and their tokenization and getting a feel for it. As another \"fun\" example, let's look at the tokenization of arithmetic expressions - tokens do *not* contain consistent numbers of digits. (This makes it even more impressive that GPT-3 can do arithmetic!)"
            ]
        },
        {
            "cell_type": "code",
            "execution_count": 35,
            "metadata": {},
            "outputs": [
                {
                    "name": "stdout",
                    "output_type": "stream",
                    "text": [
                        "['<|endoftext|>', '23', '42', '+', '2017', '=', '214', '45']\n",
                        "['<|endoftext|>', '1000', '+', '1', '000000', '=', '9999', '99']\n"
                    ]
                }
            ],
            "source": [
                "print(model.to_str_tokens(\"2342+2017=21445\"))\n",
                "print(model.to_str_tokens(\"1000+1000000=999999\"))"
            ]
        },
        {
            "cell_type": "markdown",
            "metadata": {},
            "source": [
                "I also *highly* recommend investigating prompts with easy tokenization when starting out - ideally key words should form a single token, be in the same position in different prompts, have the same total length, etc. Eg study Indirect Object Identification with common English names like ` Tim` rather than ` Ne|el`. Transformers need to spend some parameters in early layers converting multi-token words to a single feature, and then de-converting this in the late layers, and unless this is what you're explicitly investigating, this will make the behaviour you're investigating be messier."
            ]
        },
        {
            "cell_type": "markdown",
            "metadata": {},
            "source": [
                "### Gotcha: `prepend_bos`\n",
                "\n",
                "Key Takeaway: **If you get weird off-by-one errors, check whether there's an unexpected `prepend_bos`!**"
            ]
        },
        {
            "cell_type": "markdown",
            "metadata": {},
            "source": [
                "A weirdness you may have noticed in the above is that `to_tokens` and `to_str_tokens` added a weird `<|endoftext|>` to the start of each prompt. TransformerLens does this by default, and it can easily trip up new users. Notably, **this includes `model.forward`** (which is what's implicitly used when you do eg `model(\"Hello World\")`). This is called a **Beginning of Sequence (BOS)** token, and it's a special token used to mark the beginning of the sequence. Confusingly, in GPT-2, the End of Sequence (EOS), Beginning of Sequence (BOS) and Padding (PAD) tokens are all the same, `<|endoftext|>` with index `50256`.\n",
                "\n",
                "**Gotcha:** You only want to prepend a BOS token at the *start* of a prompt. If you, eg, want to input a question followed by an answer, and want to tokenize these separately, you do *not* want to prepend_bos on the answer."
            ]
        },
        {
            "cell_type": "code",
            "execution_count": 36,
            "metadata": {},
            "outputs": [
                {
                    "name": "stdout",
                    "output_type": "stream",
                    "text": [
                        "Logits shape by default (with BOS) torch.Size([1, 3, 50257])\n",
                        "Logits shape with BOS torch.Size([1, 3, 50257])\n",
                        "Logits shape without BOS - only 2 positions! torch.Size([1, 2, 50257])\n"
                    ]
                }
            ],
            "source": [
                "print(\"Logits shape by default (with BOS)\", model(\"Hello World\").shape)\n",
                "print(\"Logits shape with BOS\", model(\"Hello World\", prepend_bos=True).shape)\n",
                "print(\"Logits shape without BOS - only 2 positions!\", model(\"Hello World\", prepend_bos=False).shape)"
            ]
        },
        {
            "cell_type": "markdown",
            "metadata": {},
            "source": [
                "`prepend_bos` is a bit of a hack, and I've gone back and forth on what the correct default here is. The reason I do this is that transformers tend to treat the first token weirdly - this doesn't really matter in training (where all inputs are >1000 tokens), but this can be a big issue when investigating short prompts! The reason for this is that attention patterns are a probability distribution and so need to add up to one, so to simulate being \"off\" they normally look at the first token. Giving them a BOS token lets the heads rest by looking at that, preserving the information in the first \"real\" token.\n",
                "\n",
                "Further, *some* models are trained to need a BOS token (OPT and my interpretability-friendly models are, GPT-2 and GPT-Neo are not). But despite GPT-2 not being trained with this, empirically it seems to make interpretability easier.\n",
                "\n",
                "(However, if you want to change the default behaviour to *not* prepending a BOS token, pass `default_prepend_bos=False` when you instantiate the model, e.g., `model = HookedTransformer.from_pretrained('gpt2', default_prepend_bos=False)`.)\n",
                "\n",
                "For example, the model can get much worse at Indirect Object Identification without a BOS (and with a name as the first token):"
            ]
        },
        {
            "cell_type": "code",
            "execution_count": 37,
            "metadata": {},
            "outputs": [
                {
                    "name": "stdout",
                    "output_type": "stream",
                    "text": [
                        "Logit difference with BOS: 6.754\n",
                        "Logit difference without BOS: 2.782\n"
                    ]
                }
            ],
            "source": [
                "ioi_logits_with_bos = model(\"Claire and Mary went to the shops, then Mary gave a bottle of milk to\", prepend_bos=True)\n",
                "mary_logit_with_bos = ioi_logits_with_bos[0, -1, model.to_single_token(\" Mary\")].item()\n",
                "claire_logit_with_bos = ioi_logits_with_bos[0, -1, model.to_single_token(\" Claire\")].item()\n",
                "print(f\"Logit difference with BOS: {(claire_logit_with_bos - mary_logit_with_bos):.3f}\")\n",
                "\n",
                "ioi_logits_without_bos = model(\"Claire and Mary went to the shops, then Mary gave a bottle of milk to\", prepend_bos=False)\n",
                "mary_logit_without_bos = ioi_logits_without_bos[0, -1, model.to_single_token(\" Mary\")].item()\n",
                "claire_logit_without_bos = ioi_logits_without_bos[0, -1, model.to_single_token(\" Claire\")].item()\n",
                "print(f\"Logit difference without BOS: {(claire_logit_without_bos - mary_logit_without_bos):.3f}\")"
            ]
        },
        {
            "cell_type": "markdown",
            "metadata": {},
            "source": [
                "Though, note that this also illustrates another gotcha - when `Claire` is at the start of a sentence (no preceding space), it's actually *two* tokens, not one, which probably confuses the relevant circuit. (Note - in this test we put `prepend_bos=False`, because we want to analyse the tokenization of a specific string, not to give an input to the model!)"
            ]
        },
        {
            "cell_type": "code",
            "execution_count": 38,
            "metadata": {},
            "outputs": [
                {
                    "name": "stdout",
                    "output_type": "stream",
                    "text": [
                        "| Claire| -> [' Claire']\n",
                        "|Claire| -> ['Cl', 'aire']\n"
                    ]
                }
            ],
            "source": [
                "print(f\"| Claire| -> {model.to_str_tokens(' Claire', prepend_bos=False)}\")\n",
                "print(f\"|Claire| -> {model.to_str_tokens('Claire', prepend_bos=False)}\")"
            ]
        },
        {
            "attachments": {},
            "cell_type": "markdown",
            "metadata": {},
            "source": [
                "## Factored Matrix Class\n",
                "\n",
                "In transformer interpretability, we often need to analyse low rank factorized matrices - a matrix $M = AB$, where M is `[large, large]`, but A is `[large, small]` and B is `[small, large]`. This is a common structure in transformers, and the `FactoredMatrix` class is a convenient way to work with these. It implements efficient algorithms for various operations on these, such as computing the trace, eigenvalues, Frobenius norm, singular value decomposition, and products with other matrices. It can (approximately) act as a drop-in replacement for the original matrix, and supports leading batch dimensions to the factored matrix. \n",
                "\n",
                "<details><summary>Why are low-rank factorized matrices useful for transformer interpretability?</summary>\n",
                "\n",
                "As argued in [A Mathematical Framework](https://transformer-circuits.pub/2021/framework/index.html), an unexpected fact about transformer attention heads is that rather than being best understood as keys, queries and values (and the requisite weight matrices), they're actually best understood as two low rank factorized matrices. \n",
                "* **Where to move information from:** $W_QK = W_Q W_K^T$, used for determining the attention pattern - what source positions to move information from and what destination positions to move them to.\n",
                "    * Intuitively, residual stream -> query and residual stream -> key are linear maps, *and* `attention_score = query @ key.T` is a linear map, so the whole thing can be factored into one big bilinear form `residual @ W_QK @ residual.T`\n",
                "* **What information to move:** $W_OV = W_V W_O$, used to determine what information to copy from the source position to the destination position (weighted by the attention pattern weight from that destination to that source). \n",
                "    * Intuitively, the residual stream is a `[position, d_model]` tensor (ignoring batch). The attention pattern acts on the *position* dimension (where to move information from and to) and the value and output weights act on the *d_model* dimension - ie *what* information is contained at that source position. So we can factor it all into `attention_pattern @ residual @ W_V @ W_O`, and so only need to care about `W_OV = W_V @ W_O`\n",
                "* Note - the internal head dimension is smaller than the residual stream dimension, so the factorization is low rank. (here, `d_model=768` and `d_head=64`)\n",
                "</details>"
            ]
        },
        {
            "cell_type": "markdown",
            "metadata": {},
            "source": [
                "### Basic Examples"
            ]
        },
        {
            "cell_type": "markdown",
            "metadata": {},
            "source": [
                "We can use the basic class directly - let's make a factored matrix directly and look at the basic operations:"
            ]
        },
        {
            "cell_type": "code",
            "execution_count": 39,
            "metadata": {},
            "outputs": [
                {
                    "name": "stdout",
                    "output_type": "stream",
                    "text": [
                        "Norms:\n",
                        "tensor(5.7439)\n",
                        "tensor(5.7439)\n",
                        "Right dimension: 5, Left dimension: 5, Hidden dimension: 2\n"
                    ]
                }
            ],
            "source": [
                "A = torch.randn(5, 2)\n",
                "B = torch.randn(2, 5)\n",
                "AB = A @ B\n",
                "AB_factor = FactoredMatrix(A, B)\n",
                "print(\"Norms:\")\n",
                "print(AB.norm())\n",
                "print(AB_factor.norm())\n",
                "\n",
                "print(f\"Right dimension: {AB_factor.rdim}, Left dimension: {AB_factor.ldim}, Hidden dimension: {AB_factor.mdim}\")"
            ]
        },
        {
            "cell_type": "markdown",
            "metadata": {},
            "source": [
                "We can also look at the eigenvalues and singular values of the matrix. Note that, because the matrix is rank 2 but 5 by 5, the final 3 eigenvalues and singular values are zero - the factored class omits the zeros."
            ]
        },
        {
            "cell_type": "code",
            "execution_count": 40,
            "metadata": {},
            "outputs": [
                {
                    "name": "stdout",
                    "output_type": "stream",
                    "text": [
                        "Eigenvalues:\n",
                        "tensor([-1.6199e+00+0.0000e+00j,  1.0446e+00+0.0000e+00j,\n",
                        "         3.7190e-08+0.0000e+00j, -6.5998e-08+1.2859e-07j,\n",
                        "        -6.5998e-08-1.2859e-07j])\n",
                        "tensor([-1.6199+0.j,  1.0446+0.j])\n",
                        "\n",
                        "Singular Values:\n",
                        "tensor([5.4702e+00, 1.7519e+00, 3.4613e-07, 1.0601e-07, 3.8823e-09])\n",
                        "tensor([5.4702, 1.7519])\n"
                    ]
                }
            ],
            "source": [
                "print(\"Eigenvalues:\")\n",
                "print(torch.linalg.eig(AB).eigenvalues)\n",
                "print(AB_factor.eigenvalues)\n",
                "print()\n",
                "print(\"Singular Values:\")\n",
                "print(torch.linalg.svd(AB).S)\n",
                "print(AB_factor.S)"
            ]
        },
        {
            "cell_type": "markdown",
            "metadata": {},
            "source": [
                "We can multiply with other matrices - it automatically chooses the smallest possible dimension to factor along (here it's 2, rather than 5)"
            ]
        },
        {
            "cell_type": "code",
            "execution_count": 41,
            "metadata": {},
            "outputs": [
                {
                    "name": "stdout",
                    "output_type": "stream",
                    "text": [
                        "Unfactored: torch.Size([5, 300]) tensor(99.9906)\n",
                        "Factored: torch.Size([5, 300]) tensor(99.9906)\n",
                        "Right dimension: 300, Left dimension: 5, Hidden dimension: 2\n"
                    ]
                }
            ],
            "source": [
                "C = torch.randn(5, 300)\n",
                "ABC = AB @ C\n",
                "ABC_factor = AB_factor @ C\n",
                "print(\"Unfactored:\", ABC.shape, ABC.norm())\n",
                "print(\"Factored:\", ABC_factor.shape, ABC_factor.norm())\n",
                "print(f\"Right dimension: {ABC_factor.rdim}, Left dimension: {ABC_factor.ldim}, Hidden dimension: {ABC_factor.mdim}\")"
            ]
        },
        {
            "cell_type": "markdown",
            "metadata": {},
            "source": [
                "If we want to collapse this back to an unfactored matrix, we can use the AB property to get the product:"
            ]
        },
        {
            "cell_type": "code",
            "execution_count": 42,
            "metadata": {},
            "outputs": [
                {
                    "name": "stdout",
                    "output_type": "stream",
                    "text": [
                        "tensor(True)\n"
                    ]
                }
            ],
            "source": [
                "AB_unfactored = AB_factor.AB\n",
                "print(torch.isclose(AB_unfactored, AB).all())"
            ]
        },
        {
            "attachments": {},
            "cell_type": "markdown",
            "metadata": {},
            "source": [
                "### Medium Example: Eigenvalue Copying Scores\n",
                "\n",
                "(This is a more involved example of how to use the factored matrix class, skip it if you aren't following)\n",
                "\n",
                "For a more involved example, let's look at the eigenvalue copying score from [A Mathematical Framework](https://transformer-circuits.pub/2021/framework/index.html) of the OV circuit for various heads. The OV Circuit for a head (the factorised matrix $W_OV = W_V W_O$) is a linear map that determines what information is moved from the source position to the destination position. Because this is low rank, it can be thought of as *reading in* some low rank subspace of the source residual stream and *writing to* some low rank subspace of the destination residual stream (with maybe some processing happening in the middle).\n",
                "\n",
                "A common operation for this will just be to *copy*, ie to have the same reading and writing subspace, and to do minimal processing in the middle. Empirically, this tends to coincide with the OV Circuit having (approximately) positive real eigenvalues. I mostly assert this as an empirical fact, but intuitively, operations that involve mapping eigenvectors to different directions (eg rotations) tend to have complex eigenvalues. And operations that preserve eigenvector direction but negate it tend to have negative real eigenvalues. And \"what happens to the eigenvectors\" is a decent proxy for what happens to an arbitrary vector.\n",
                "\n",
                "We can get a score for \"how positive real the OV circuit eigenvalues are\" with $\\frac{\\sum \\lambda_i}{\\sum |\\lambda_i|}$, where $\\lambda_i$ are the eigenvalues of the OV circuit. This is a bit of a hack, but it seems to work well in practice."
            ]
        },
        {
            "cell_type": "markdown",
            "metadata": {},
            "source": [
                "Let's use FactoredMatrix to compute this for every head in the model! We use the helper `model.OV` to get the concatenated OV circuits for all heads across all layers in the model. This has the shape `[n_layers, n_heads, d_model, d_model]`, where `n_layers` and `n_heads` are batch dimensions and the final two dimensions are factorised as `[n_layers, n_heads, d_model, d_head]` and `[n_layers, n_heads, d_head, d_model]` matrices.\n",
                "\n",
                "We can then get the eigenvalues for this, where there are separate eigenvalues for each element of the batch (a `[n_layers, n_heads, d_head]` tensor of complex numbers), and calculate the copying score."
            ]
        },
        {
            "cell_type": "code",
            "execution_count": 43,
            "metadata": {},
            "outputs": [
                {
                    "name": "stdout",
                    "output_type": "stream",
                    "text": [
                        "FactoredMatrix: Shape(torch.Size([12, 12, 768, 768])), Hidden Dim(64)\n"
                    ]
                }
            ],
            "source": [
                "OV_circuit_all_heads = model.OV\n",
                "print(OV_circuit_all_heads)"
            ]
        },
        {
            "cell_type": "code",
            "execution_count": 44,
            "metadata": {},
            "outputs": [
                {
                    "name": "stdout",
                    "output_type": "stream",
                    "text": [
                        "torch.Size([12, 12, 64])\n",
                        "torch.complex64\n"
                    ]
                }
            ],
            "source": [
                "OV_circuit_all_heads_eigenvalues = OV_circuit_all_heads.eigenvalues \n",
                "print(OV_circuit_all_heads_eigenvalues.shape)\n",
                "print(OV_circuit_all_heads_eigenvalues.dtype)"
            ]
        },
        {
            "cell_type": "code",
            "execution_count": 45,
            "metadata": {},
            "outputs": [
                {
                    "data": {
                        "text/html": [
                            "<html>\n",
                            "<head><meta charset=\"utf-8\" /></head>\n",
                            "<body>\n",
                            "    <div>            <script src=\"https://cdnjs.cloudflare.com/ajax/libs/mathjax/2.7.5/MathJax.js?config=TeX-AMS-MML_SVG\"></script><script type=\"text/javascript\">if (window.MathJax && window.MathJax.Hub && window.MathJax.Hub.Config) {window.MathJax.Hub.Config({SVG: {font: \"STIX-Web\"}});}</script>                <script type=\"text/javascript\">window.PlotlyConfig = {MathJaxConfig: 'local'};</script>\n",
                            "        <script src=\"https://cdn.plot.ly/plotly-2.16.1.min.js\"></script>                <div id=\"b1f0b6f8-feff-4327-9887-a72135ec4411\" class=\"plotly-graph-div\" style=\"height:525px; width:100%;\"></div>            <script type=\"text/javascript\">                                    window.PLOTLYENV=window.PLOTLYENV || {};                                    if (document.getElementById(\"b1f0b6f8-feff-4327-9887-a72135ec4411\")) {                    Plotly.newPlot(                        \"b1f0b6f8-feff-4327-9887-a72135ec4411\",                        [{\"coloraxis\":\"coloraxis\",\"name\":\"0\",\"z\":[[0.777501,0.3527268,0.2596186,0.66702574,0.8384258,0.5584432,0.8444747,0.41379097,0.24488935,0.028157508,0.35840985,0.16288288],[-0.4541911,-0.6529327,-0.548457,-0.79903686,-0.7736425,-0.85225815,0.97743237,0.6626251,-0.73032224,-0.70070213,-0.6946625,-0.99967235],[-0.78371626,0.89677584,0.4750953,-0.6671974,0.7881463,-0.854775,-0.9054185,-0.57493836,-0.32175106,-0.028594071,-0.92476183,-0.9699269],[0.58640355,-0.7614349,0.59716946,0.7854394,-0.87888825,0.39087448,0.04473867,0.11028006,-0.8169987,0.22129549,-0.99395794,0.5774401],[0.52547896,0.30490145,-0.1072914,0.94331515,-0.931443,0.5273629,-0.4264709,-0.9984429,0.52967566,0.8604294,-0.88950515,0.955697],[0.66291875,0.42956945,0.9736858,0.65554816,0.12201875,0.7442768,0.5037956,0.95253587,-0.65071666,-0.931628,0.97915107,-0.99725866],[0.9613031,0.75017786,-0.38066593,0.64297867,0.95577693,-0.9428839,-0.994808,0.7852987,0.9657302,0.70730156,0.36872303,0.81280106],[0.9659483,0.9730121,0.3190061,-0.30290532,0.97909546,0.9357923,-0.5550317,-0.00546646,0.9867777,0.82495666,0.5664299,0.10005281],[-0.9464487,-0.2547201,0.6522326,0.14152558,0.98841417,0.98605835,0.6949271,0.9901811,0.97912025,-0.2359553,-0.98207104,0.65066874],[0.9895943,-0.29178143,0.9714024,0.9951602,0.18783762,-0.94609374,0.47801915,-0.24891911,0.94370985,0.11866241,0.99412435,-0.38088188],[0.9564488,0.5542725,0.4211806,0.66287893,0.8659593,0.99371177,0.9069077,0.39811078,-0.41342166,0.99719155,0.34596682,0.9938656],[0.58912665,0.9313741,0.9268401,0.9993564,0.62275416,0.8463948,0.6584346,0.8423125,0.29784963,0.8728679,0.99631435,0.98675257]],\"type\":\"heatmap\",\"xaxis\":\"x\",\"yaxis\":\"y\",\"hovertemplate\":\"Head: %{x}<br>Layer: %{y}<br>color: %{z}<extra></extra>\"}],                        {\"template\":{\"data\":{\"histogram2dcontour\":[{\"type\":\"histogram2dcontour\",\"colorbar\":{\"outlinewidth\":0,\"ticks\":\"\"},\"colorscale\":[[0.0,\"#0d0887\"],[0.1111111111111111,\"#46039f\"],[0.2222222222222222,\"#7201a8\"],[0.3333333333333333,\"#9c179e\"],[0.4444444444444444,\"#bd3786\"],[0.5555555555555556,\"#d8576b\"],[0.6666666666666666,\"#ed7953\"],[0.7777777777777778,\"#fb9f3a\"],[0.8888888888888888,\"#fdca26\"],[1.0,\"#f0f921\"]]}],\"choropleth\":[{\"type\":\"choropleth\",\"colorbar\":{\"outlinewidth\":0,\"ticks\":\"\"}}],\"histogram2d\":[{\"type\":\"histogram2d\",\"colorbar\":{\"outlinewidth\":0,\"ticks\":\"\"},\"colorscale\":[[0.0,\"#0d0887\"],[0.1111111111111111,\"#46039f\"],[0.2222222222222222,\"#7201a8\"],[0.3333333333333333,\"#9c179e\"],[0.4444444444444444,\"#bd3786\"],[0.5555555555555556,\"#d8576b\"],[0.6666666666666666,\"#ed7953\"],[0.7777777777777778,\"#fb9f3a\"],[0.8888888888888888,\"#fdca26\"],[1.0,\"#f0f921\"]]}],\"heatmap\":[{\"type\":\"heatmap\",\"colorbar\":{\"outlinewidth\":0,\"ticks\":\"\"},\"colorscale\":[[0.0,\"#0d0887\"],[0.1111111111111111,\"#46039f\"],[0.2222222222222222,\"#7201a8\"],[0.3333333333333333,\"#9c179e\"],[0.4444444444444444,\"#bd3786\"],[0.5555555555555556,\"#d8576b\"],[0.6666666666666666,\"#ed7953\"],[0.7777777777777778,\"#fb9f3a\"],[0.8888888888888888,\"#fdca26\"],[1.0,\"#f0f921\"]]}],\"heatmapgl\":[{\"type\":\"heatmapgl\",\"colorbar\":{\"outlinewidth\":0,\"ticks\":\"\"},\"colorscale\":[[0.0,\"#0d0887\"],[0.1111111111111111,\"#46039f\"],[0.2222222222222222,\"#7201a8\"],[0.3333333333333333,\"#9c179e\"],[0.4444444444444444,\"#bd3786\"],[0.5555555555555556,\"#d8576b\"],[0.6666666666666666,\"#ed7953\"],[0.7777777777777778,\"#fb9f3a\"],[0.8888888888888888,\"#fdca26\"],[1.0,\"#f0f921\"]]}],\"contourcarpet\":[{\"type\":\"contourcarpet\",\"colorbar\":{\"outlinewidth\":0,\"ticks\":\"\"}}],\"contour\":[{\"type\":\"contour\",\"colorbar\":{\"outlinewidth\":0,\"ticks\":\"\"},\"colorscale\":[[0.0,\"#0d0887\"],[0.1111111111111111,\"#46039f\"],[0.2222222222222222,\"#7201a8\"],[0.3333333333333333,\"#9c179e\"],[0.4444444444444444,\"#bd3786\"],[0.5555555555555556,\"#d8576b\"],[0.6666666666666666,\"#ed7953\"],[0.7777777777777778,\"#fb9f3a\"],[0.8888888888888888,\"#fdca26\"],[1.0,\"#f0f921\"]]}],\"surface\":[{\"type\":\"surface\",\"colorbar\":{\"outlinewidth\":0,\"ticks\":\"\"},\"colorscale\":[[0.0,\"#0d0887\"],[0.1111111111111111,\"#46039f\"],[0.2222222222222222,\"#7201a8\"],[0.3333333333333333,\"#9c179e\"],[0.4444444444444444,\"#bd3786\"],[0.5555555555555556,\"#d8576b\"],[0.6666666666666666,\"#ed7953\"],[0.7777777777777778,\"#fb9f3a\"],[0.8888888888888888,\"#fdca26\"],[1.0,\"#f0f921\"]]}],\"mesh3d\":[{\"type\":\"mesh3d\",\"colorbar\":{\"outlinewidth\":0,\"ticks\":\"\"}}],\"scatter\":[{\"fillpattern\":{\"fillmode\":\"overlay\",\"size\":10,\"solidity\":0.2},\"type\":\"scatter\"}],\"parcoords\":[{\"type\":\"parcoords\",\"line\":{\"colorbar\":{\"outlinewidth\":0,\"ticks\":\"\"}}}],\"scatterpolargl\":[{\"type\":\"scatterpolargl\",\"marker\":{\"colorbar\":{\"outlinewidth\":0,\"ticks\":\"\"}}}],\"bar\":[{\"error_x\":{\"color\":\"#2a3f5f\"},\"error_y\":{\"color\":\"#2a3f5f\"},\"marker\":{\"line\":{\"color\":\"#E5ECF6\",\"width\":0.5},\"pattern\":{\"fillmode\":\"overlay\",\"size\":10,\"solidity\":0.2}},\"type\":\"bar\"}],\"scattergeo\":[{\"type\":\"scattergeo\",\"marker\":{\"colorbar\":{\"outlinewidth\":0,\"ticks\":\"\"}}}],\"scatterpolar\":[{\"type\":\"scatterpolar\",\"marker\":{\"colorbar\":{\"outlinewidth\":0,\"ticks\":\"\"}}}],\"histogram\":[{\"marker\":{\"pattern\":{\"fillmode\":\"overlay\",\"size\":10,\"solidity\":0.2}},\"type\":\"histogram\"}],\"scattergl\":[{\"type\":\"scattergl\",\"marker\":{\"colorbar\":{\"outlinewidth\":0,\"ticks\":\"\"}}}],\"scatter3d\":[{\"type\":\"scatter3d\",\"line\":{\"colorbar\":{\"outlinewidth\":0,\"ticks\":\"\"}},\"marker\":{\"colorbar\":{\"outlinewidth\":0,\"ticks\":\"\"}}}],\"scattermapbox\":[{\"type\":\"scattermapbox\",\"marker\":{\"colorbar\":{\"outlinewidth\":0,\"ticks\":\"\"}}}],\"scatterternary\":[{\"type\":\"scatterternary\",\"marker\":{\"colorbar\":{\"outlinewidth\":0,\"ticks\":\"\"}}}],\"scattercarpet\":[{\"type\":\"scattercarpet\",\"marker\":{\"colorbar\":{\"outlinewidth\":0,\"ticks\":\"\"}}}],\"carpet\":[{\"aaxis\":{\"endlinecolor\":\"#2a3f5f\",\"gridcolor\":\"white\",\"linecolor\":\"white\",\"minorgridcolor\":\"white\",\"startlinecolor\":\"#2a3f5f\"},\"baxis\":{\"endlinecolor\":\"#2a3f5f\",\"gridcolor\":\"white\",\"linecolor\":\"white\",\"minorgridcolor\":\"white\",\"startlinecolor\":\"#2a3f5f\"},\"type\":\"carpet\"}],\"table\":[{\"cells\":{\"fill\":{\"color\":\"#EBF0F8\"},\"line\":{\"color\":\"white\"}},\"header\":{\"fill\":{\"color\":\"#C8D4E3\"},\"line\":{\"color\":\"white\"}},\"type\":\"table\"}],\"barpolar\":[{\"marker\":{\"line\":{\"color\":\"#E5ECF6\",\"width\":0.5},\"pattern\":{\"fillmode\":\"overlay\",\"size\":10,\"solidity\":0.2}},\"type\":\"barpolar\"}],\"pie\":[{\"automargin\":true,\"type\":\"pie\"}]},\"layout\":{\"autotypenumbers\":\"strict\",\"colorway\":[\"#636efa\",\"#EF553B\",\"#00cc96\",\"#ab63fa\",\"#FFA15A\",\"#19d3f3\",\"#FF6692\",\"#B6E880\",\"#FF97FF\",\"#FECB52\"],\"font\":{\"color\":\"#2a3f5f\"},\"hovermode\":\"closest\",\"hoverlabel\":{\"align\":\"left\"},\"paper_bgcolor\":\"white\",\"plot_bgcolor\":\"#E5ECF6\",\"polar\":{\"bgcolor\":\"#E5ECF6\",\"angularaxis\":{\"gridcolor\":\"white\",\"linecolor\":\"white\",\"ticks\":\"\"},\"radialaxis\":{\"gridcolor\":\"white\",\"linecolor\":\"white\",\"ticks\":\"\"}},\"ternary\":{\"bgcolor\":\"#E5ECF6\",\"aaxis\":{\"gridcolor\":\"white\",\"linecolor\":\"white\",\"ticks\":\"\"},\"baxis\":{\"gridcolor\":\"white\",\"linecolor\":\"white\",\"ticks\":\"\"},\"caxis\":{\"gridcolor\":\"white\",\"linecolor\":\"white\",\"ticks\":\"\"}},\"coloraxis\":{\"colorbar\":{\"outlinewidth\":0,\"ticks\":\"\"}},\"colorscale\":{\"sequential\":[[0.0,\"#0d0887\"],[0.1111111111111111,\"#46039f\"],[0.2222222222222222,\"#7201a8\"],[0.3333333333333333,\"#9c179e\"],[0.4444444444444444,\"#bd3786\"],[0.5555555555555556,\"#d8576b\"],[0.6666666666666666,\"#ed7953\"],[0.7777777777777778,\"#fb9f3a\"],[0.8888888888888888,\"#fdca26\"],[1.0,\"#f0f921\"]],\"sequentialminus\":[[0.0,\"#0d0887\"],[0.1111111111111111,\"#46039f\"],[0.2222222222222222,\"#7201a8\"],[0.3333333333333333,\"#9c179e\"],[0.4444444444444444,\"#bd3786\"],[0.5555555555555556,\"#d8576b\"],[0.6666666666666666,\"#ed7953\"],[0.7777777777777778,\"#fb9f3a\"],[0.8888888888888888,\"#fdca26\"],[1.0,\"#f0f921\"]],\"diverging\":[[0,\"#8e0152\"],[0.1,\"#c51b7d\"],[0.2,\"#de77ae\"],[0.3,\"#f1b6da\"],[0.4,\"#fde0ef\"],[0.5,\"#f7f7f7\"],[0.6,\"#e6f5d0\"],[0.7,\"#b8e186\"],[0.8,\"#7fbc41\"],[0.9,\"#4d9221\"],[1,\"#276419\"]]},\"xaxis\":{\"gridcolor\":\"white\",\"linecolor\":\"white\",\"ticks\":\"\",\"title\":{\"standoff\":15},\"zerolinecolor\":\"white\",\"automargin\":true,\"zerolinewidth\":2},\"yaxis\":{\"gridcolor\":\"white\",\"linecolor\":\"white\",\"ticks\":\"\",\"title\":{\"standoff\":15},\"zerolinecolor\":\"white\",\"automargin\":true,\"zerolinewidth\":2},\"scene\":{\"xaxis\":{\"backgroundcolor\":\"#E5ECF6\",\"gridcolor\":\"white\",\"linecolor\":\"white\",\"showbackground\":true,\"ticks\":\"\",\"zerolinecolor\":\"white\",\"gridwidth\":2},\"yaxis\":{\"backgroundcolor\":\"#E5ECF6\",\"gridcolor\":\"white\",\"linecolor\":\"white\",\"showbackground\":true,\"ticks\":\"\",\"zerolinecolor\":\"white\",\"gridwidth\":2},\"zaxis\":{\"backgroundcolor\":\"#E5ECF6\",\"gridcolor\":\"white\",\"linecolor\":\"white\",\"showbackground\":true,\"ticks\":\"\",\"zerolinecolor\":\"white\",\"gridwidth\":2}},\"shapedefaults\":{\"line\":{\"color\":\"#2a3f5f\"}},\"annotationdefaults\":{\"arrowcolor\":\"#2a3f5f\",\"arrowhead\":0,\"arrowwidth\":1},\"geo\":{\"bgcolor\":\"white\",\"landcolor\":\"#E5ECF6\",\"subunitcolor\":\"white\",\"showland\":true,\"showlakes\":true,\"lakecolor\":\"white\"},\"title\":{\"x\":0.05},\"mapbox\":{\"style\":\"light\"}}},\"xaxis\":{\"anchor\":\"y\",\"domain\":[0.0,1.0],\"scaleanchor\":\"y\",\"constrain\":\"domain\",\"title\":{\"text\":\"Head\"}},\"yaxis\":{\"anchor\":\"x\",\"domain\":[0.0,1.0],\"autorange\":\"reversed\",\"constrain\":\"domain\",\"title\":{\"text\":\"Layer\"}},\"coloraxis\":{\"colorscale\":[[0.0,\"rgb(103,0,31)\"],[0.1,\"rgb(178,24,43)\"],[0.2,\"rgb(214,96,77)\"],[0.3,\"rgb(244,165,130)\"],[0.4,\"rgb(253,219,199)\"],[0.5,\"rgb(247,247,247)\"],[0.6,\"rgb(209,229,240)\"],[0.7,\"rgb(146,197,222)\"],[0.8,\"rgb(67,147,195)\"],[0.9,\"rgb(33,102,172)\"],[1.0,\"rgb(5,48,97)\"]],\"cmid\":0.0,\"cmin\":-1.0,\"cmax\":1.0},\"title\":{\"text\":\"OV Copying Score for each head in GPT-2 Small\"}},                        {\"responsive\": true}                    ).then(function(){\n",
                            "                            \n",
                            "var gd = document.getElementById('b1f0b6f8-feff-4327-9887-a72135ec4411');\n",
                            "var x = new MutationObserver(function (mutations, observer) {{\n",
                            "        var display = window.getComputedStyle(gd).display;\n",
                            "        if (!display || display === 'none') {{\n",
                            "            console.log([gd, 'removed!']);\n",
                            "            Plotly.purge(gd);\n",
                            "            observer.disconnect();\n",
                            "        }}\n",
                            "}});\n",
                            "\n",
                            "// Listen for the removal of the full notebook cells\n",
                            "var notebookContainer = gd.closest('#notebook-container');\n",
                            "if (notebookContainer) {{\n",
                            "    x.observe(notebookContainer, {childList: true});\n",
                            "}}\n",
                            "\n",
                            "// Listen for the clearing of the current output cell\n",
                            "var outputEl = gd.closest('.output');\n",
                            "if (outputEl) {{\n",
                            "    x.observe(outputEl, {childList: true});\n",
                            "}}\n",
                            "\n",
                            "                        })                };                            </script>        </div>\n",
                            "</body>\n",
                            "</html>"
                        ]
                    },
                    "metadata": {},
                    "output_type": "display_data"
                }
            ],
            "source": [
                "OV_copying_score = OV_circuit_all_heads_eigenvalues.sum(dim=-1).real / OV_circuit_all_heads_eigenvalues.abs().sum(dim=-1)\n",
                "imshow(utils.to_numpy(OV_copying_score), xaxis=\"Head\", yaxis=\"Layer\", title=\"OV Copying Score for each head in GPT-2 Small\", zmax=1.0, zmin=-1.0)"
            ]
        },
        {
            "cell_type": "markdown",
            "metadata": {},
            "source": [
                "Head 11 in Layer 11 (L11H11) has a high copying score, and if we plot the eigenvalues they look approximately as expected."
            ]
        },
        {
            "cell_type": "code",
            "execution_count": 46,
            "metadata": {},
            "outputs": [
                {
                    "data": {
                        "text/html": [
                            "<html>\n",
                            "<head><meta charset=\"utf-8\" /></head>\n",
                            "<body>\n",
                            "    <div>            <script src=\"https://cdnjs.cloudflare.com/ajax/libs/mathjax/2.7.5/MathJax.js?config=TeX-AMS-MML_SVG\"></script><script type=\"text/javascript\">if (window.MathJax && window.MathJax.Hub && window.MathJax.Hub.Config) {window.MathJax.Hub.Config({SVG: {font: \"STIX-Web\"}});}</script>                <script type=\"text/javascript\">window.PlotlyConfig = {MathJaxConfig: 'local'};</script>\n",
                            "        <script src=\"https://cdn.plot.ly/plotly-2.16.1.min.js\"></script>                <div id=\"bdd08916-2eb4-46b4-bcc5-896e7bc11cee\" class=\"plotly-graph-div\" style=\"height:525px; width:100%;\"></div>            <script type=\"text/javascript\">                                    window.PLOTLYENV=window.PLOTLYENV || {};                                    if (document.getElementById(\"bdd08916-2eb4-46b4-bcc5-896e7bc11cee\")) {                    Plotly.newPlot(                        \"bdd08916-2eb4-46b4-bcc5-896e7bc11cee\",                        [{\"hovertemplate\":\"Real=%{x}<br>Imaginary=%{y}<extra></extra>\",\"legendgroup\":\"\",\"marker\":{\"color\":\"#636efa\",\"symbol\":\"circle\"},\"mode\":\"markers\",\"name\":\"\",\"orientation\":\"v\",\"showlegend\":false,\"x\":[-2.1397297,1.4152663,3.4444547,4.027667,8.882654,4.866768,4.866768,4.843705,4.843705,8.477541,8.216802,8.216802,5.0786076,7.8554554,7.8554554,5.365775,5.365775,5.5634394,5.5634394,5.4217362,7.7691364,7.7691364,7.042285,7.042285,5.6751432,5.6751432,7.678601,7.678601,6.5733356,6.5733356,7.6729503,7.172205,7.172205,7.4236083,7.4236083,7.4708047,6.089097,6.089097,6.306833,6.306833,6.5117445,6.5117445,5.955252,5.955252,5.8588047,5.8588047,7.1478877,7.1478877,7.185705,7.185705,6.6706057,6.6706057,6.735978,6.735978,6.1497555,6.1497555,6.2887864,6.2887864,6.3447866,6.625572,6.625572,6.899187,6.899187,6.856411],\"xaxis\":\"x\",\"y\":[0.0,0.0,0.0,0.0,0.0,0.41852185,-0.41852185,0.09079792,-0.09079792,0.0,0.40868598,-0.40868598,0.0,0.7007218,-0.7007218,0.46421358,-0.46421358,0.5558223,-0.5558223,0.0,0.47056165,-0.47056165,1.0298702,-1.0298702,0.48252946,-0.48252946,0.33565187,-0.33565187,0.9988694,-0.9988694,0.0,0.7531841,-0.7531841,0.42575985,-0.42575985,0.0,0.6436292,-0.6436292,0.7701688,-0.7701688,0.7558016,-0.7558016,0.2591141,-0.2591141,0.013021447,-0.013021447,0.40166607,-0.40166607,0.28192392,-0.28192392,0.6146257,-0.6146257,0.5391219,-0.5391219,0.2823353,-0.2823353,0.35283586,-0.35283586,0.0,0.24868369,-0.24868369,0.15545632,-0.15545632,0.0],\"yaxis\":\"y\",\"type\":\"scatter\"}],                        {\"template\":{\"data\":{\"histogram2dcontour\":[{\"type\":\"histogram2dcontour\",\"colorbar\":{\"outlinewidth\":0,\"ticks\":\"\"},\"colorscale\":[[0.0,\"#0d0887\"],[0.1111111111111111,\"#46039f\"],[0.2222222222222222,\"#7201a8\"],[0.3333333333333333,\"#9c179e\"],[0.4444444444444444,\"#bd3786\"],[0.5555555555555556,\"#d8576b\"],[0.6666666666666666,\"#ed7953\"],[0.7777777777777778,\"#fb9f3a\"],[0.8888888888888888,\"#fdca26\"],[1.0,\"#f0f921\"]]}],\"choropleth\":[{\"type\":\"choropleth\",\"colorbar\":{\"outlinewidth\":0,\"ticks\":\"\"}}],\"histogram2d\":[{\"type\":\"histogram2d\",\"colorbar\":{\"outlinewidth\":0,\"ticks\":\"\"},\"colorscale\":[[0.0,\"#0d0887\"],[0.1111111111111111,\"#46039f\"],[0.2222222222222222,\"#7201a8\"],[0.3333333333333333,\"#9c179e\"],[0.4444444444444444,\"#bd3786\"],[0.5555555555555556,\"#d8576b\"],[0.6666666666666666,\"#ed7953\"],[0.7777777777777778,\"#fb9f3a\"],[0.8888888888888888,\"#fdca26\"],[1.0,\"#f0f921\"]]}],\"heatmap\":[{\"type\":\"heatmap\",\"colorbar\":{\"outlinewidth\":0,\"ticks\":\"\"},\"colorscale\":[[0.0,\"#0d0887\"],[0.1111111111111111,\"#46039f\"],[0.2222222222222222,\"#7201a8\"],[0.3333333333333333,\"#9c179e\"],[0.4444444444444444,\"#bd3786\"],[0.5555555555555556,\"#d8576b\"],[0.6666666666666666,\"#ed7953\"],[0.7777777777777778,\"#fb9f3a\"],[0.8888888888888888,\"#fdca26\"],[1.0,\"#f0f921\"]]}],\"heatmapgl\":[{\"type\":\"heatmapgl\",\"colorbar\":{\"outlinewidth\":0,\"ticks\":\"\"},\"colorscale\":[[0.0,\"#0d0887\"],[0.1111111111111111,\"#46039f\"],[0.2222222222222222,\"#7201a8\"],[0.3333333333333333,\"#9c179e\"],[0.4444444444444444,\"#bd3786\"],[0.5555555555555556,\"#d8576b\"],[0.6666666666666666,\"#ed7953\"],[0.7777777777777778,\"#fb9f3a\"],[0.8888888888888888,\"#fdca26\"],[1.0,\"#f0f921\"]]}],\"contourcarpet\":[{\"type\":\"contourcarpet\",\"colorbar\":{\"outlinewidth\":0,\"ticks\":\"\"}}],\"contour\":[{\"type\":\"contour\",\"colorbar\":{\"outlinewidth\":0,\"ticks\":\"\"},\"colorscale\":[[0.0,\"#0d0887\"],[0.1111111111111111,\"#46039f\"],[0.2222222222222222,\"#7201a8\"],[0.3333333333333333,\"#9c179e\"],[0.4444444444444444,\"#bd3786\"],[0.5555555555555556,\"#d8576b\"],[0.6666666666666666,\"#ed7953\"],[0.7777777777777778,\"#fb9f3a\"],[0.8888888888888888,\"#fdca26\"],[1.0,\"#f0f921\"]]}],\"surface\":[{\"type\":\"surface\",\"colorbar\":{\"outlinewidth\":0,\"ticks\":\"\"},\"colorscale\":[[0.0,\"#0d0887\"],[0.1111111111111111,\"#46039f\"],[0.2222222222222222,\"#7201a8\"],[0.3333333333333333,\"#9c179e\"],[0.4444444444444444,\"#bd3786\"],[0.5555555555555556,\"#d8576b\"],[0.6666666666666666,\"#ed7953\"],[0.7777777777777778,\"#fb9f3a\"],[0.8888888888888888,\"#fdca26\"],[1.0,\"#f0f921\"]]}],\"mesh3d\":[{\"type\":\"mesh3d\",\"colorbar\":{\"outlinewidth\":0,\"ticks\":\"\"}}],\"scatter\":[{\"fillpattern\":{\"fillmode\":\"overlay\",\"size\":10,\"solidity\":0.2},\"type\":\"scatter\"}],\"parcoords\":[{\"type\":\"parcoords\",\"line\":{\"colorbar\":{\"outlinewidth\":0,\"ticks\":\"\"}}}],\"scatterpolargl\":[{\"type\":\"scatterpolargl\",\"marker\":{\"colorbar\":{\"outlinewidth\":0,\"ticks\":\"\"}}}],\"bar\":[{\"error_x\":{\"color\":\"#2a3f5f\"},\"error_y\":{\"color\":\"#2a3f5f\"},\"marker\":{\"line\":{\"color\":\"#E5ECF6\",\"width\":0.5},\"pattern\":{\"fillmode\":\"overlay\",\"size\":10,\"solidity\":0.2}},\"type\":\"bar\"}],\"scattergeo\":[{\"type\":\"scattergeo\",\"marker\":{\"colorbar\":{\"outlinewidth\":0,\"ticks\":\"\"}}}],\"scatterpolar\":[{\"type\":\"scatterpolar\",\"marker\":{\"colorbar\":{\"outlinewidth\":0,\"ticks\":\"\"}}}],\"histogram\":[{\"marker\":{\"pattern\":{\"fillmode\":\"overlay\",\"size\":10,\"solidity\":0.2}},\"type\":\"histogram\"}],\"scattergl\":[{\"type\":\"scattergl\",\"marker\":{\"colorbar\":{\"outlinewidth\":0,\"ticks\":\"\"}}}],\"scatter3d\":[{\"type\":\"scatter3d\",\"line\":{\"colorbar\":{\"outlinewidth\":0,\"ticks\":\"\"}},\"marker\":{\"colorbar\":{\"outlinewidth\":0,\"ticks\":\"\"}}}],\"scattermapbox\":[{\"type\":\"scattermapbox\",\"marker\":{\"colorbar\":{\"outlinewidth\":0,\"ticks\":\"\"}}}],\"scatterternary\":[{\"type\":\"scatterternary\",\"marker\":{\"colorbar\":{\"outlinewidth\":0,\"ticks\":\"\"}}}],\"scattercarpet\":[{\"type\":\"scattercarpet\",\"marker\":{\"colorbar\":{\"outlinewidth\":0,\"ticks\":\"\"}}}],\"carpet\":[{\"aaxis\":{\"endlinecolor\":\"#2a3f5f\",\"gridcolor\":\"white\",\"linecolor\":\"white\",\"minorgridcolor\":\"white\",\"startlinecolor\":\"#2a3f5f\"},\"baxis\":{\"endlinecolor\":\"#2a3f5f\",\"gridcolor\":\"white\",\"linecolor\":\"white\",\"minorgridcolor\":\"white\",\"startlinecolor\":\"#2a3f5f\"},\"type\":\"carpet\"}],\"table\":[{\"cells\":{\"fill\":{\"color\":\"#EBF0F8\"},\"line\":{\"color\":\"white\"}},\"header\":{\"fill\":{\"color\":\"#C8D4E3\"},\"line\":{\"color\":\"white\"}},\"type\":\"table\"}],\"barpolar\":[{\"marker\":{\"line\":{\"color\":\"#E5ECF6\",\"width\":0.5},\"pattern\":{\"fillmode\":\"overlay\",\"size\":10,\"solidity\":0.2}},\"type\":\"barpolar\"}],\"pie\":[{\"automargin\":true,\"type\":\"pie\"}]},\"layout\":{\"autotypenumbers\":\"strict\",\"colorway\":[\"#636efa\",\"#EF553B\",\"#00cc96\",\"#ab63fa\",\"#FFA15A\",\"#19d3f3\",\"#FF6692\",\"#B6E880\",\"#FF97FF\",\"#FECB52\"],\"font\":{\"color\":\"#2a3f5f\"},\"hovermode\":\"closest\",\"hoverlabel\":{\"align\":\"left\"},\"paper_bgcolor\":\"white\",\"plot_bgcolor\":\"#E5ECF6\",\"polar\":{\"bgcolor\":\"#E5ECF6\",\"angularaxis\":{\"gridcolor\":\"white\",\"linecolor\":\"white\",\"ticks\":\"\"},\"radialaxis\":{\"gridcolor\":\"white\",\"linecolor\":\"white\",\"ticks\":\"\"}},\"ternary\":{\"bgcolor\":\"#E5ECF6\",\"aaxis\":{\"gridcolor\":\"white\",\"linecolor\":\"white\",\"ticks\":\"\"},\"baxis\":{\"gridcolor\":\"white\",\"linecolor\":\"white\",\"ticks\":\"\"},\"caxis\":{\"gridcolor\":\"white\",\"linecolor\":\"white\",\"ticks\":\"\"}},\"coloraxis\":{\"colorbar\":{\"outlinewidth\":0,\"ticks\":\"\"}},\"colorscale\":{\"sequential\":[[0.0,\"#0d0887\"],[0.1111111111111111,\"#46039f\"],[0.2222222222222222,\"#7201a8\"],[0.3333333333333333,\"#9c179e\"],[0.4444444444444444,\"#bd3786\"],[0.5555555555555556,\"#d8576b\"],[0.6666666666666666,\"#ed7953\"],[0.7777777777777778,\"#fb9f3a\"],[0.8888888888888888,\"#fdca26\"],[1.0,\"#f0f921\"]],\"sequentialminus\":[[0.0,\"#0d0887\"],[0.1111111111111111,\"#46039f\"],[0.2222222222222222,\"#7201a8\"],[0.3333333333333333,\"#9c179e\"],[0.4444444444444444,\"#bd3786\"],[0.5555555555555556,\"#d8576b\"],[0.6666666666666666,\"#ed7953\"],[0.7777777777777778,\"#fb9f3a\"],[0.8888888888888888,\"#fdca26\"],[1.0,\"#f0f921\"]],\"diverging\":[[0,\"#8e0152\"],[0.1,\"#c51b7d\"],[0.2,\"#de77ae\"],[0.3,\"#f1b6da\"],[0.4,\"#fde0ef\"],[0.5,\"#f7f7f7\"],[0.6,\"#e6f5d0\"],[0.7,\"#b8e186\"],[0.8,\"#7fbc41\"],[0.9,\"#4d9221\"],[1,\"#276419\"]]},\"xaxis\":{\"gridcolor\":\"white\",\"linecolor\":\"white\",\"ticks\":\"\",\"title\":{\"standoff\":15},\"zerolinecolor\":\"white\",\"automargin\":true,\"zerolinewidth\":2},\"yaxis\":{\"gridcolor\":\"white\",\"linecolor\":\"white\",\"ticks\":\"\",\"title\":{\"standoff\":15},\"zerolinecolor\":\"white\",\"automargin\":true,\"zerolinewidth\":2},\"scene\":{\"xaxis\":{\"backgroundcolor\":\"#E5ECF6\",\"gridcolor\":\"white\",\"linecolor\":\"white\",\"showbackground\":true,\"ticks\":\"\",\"zerolinecolor\":\"white\",\"gridwidth\":2},\"yaxis\":{\"backgroundcolor\":\"#E5ECF6\",\"gridcolor\":\"white\",\"linecolor\":\"white\",\"showbackground\":true,\"ticks\":\"\",\"zerolinecolor\":\"white\",\"gridwidth\":2},\"zaxis\":{\"backgroundcolor\":\"#E5ECF6\",\"gridcolor\":\"white\",\"linecolor\":\"white\",\"showbackground\":true,\"ticks\":\"\",\"zerolinecolor\":\"white\",\"gridwidth\":2}},\"shapedefaults\":{\"line\":{\"color\":\"#2a3f5f\"}},\"annotationdefaults\":{\"arrowcolor\":\"#2a3f5f\",\"arrowhead\":0,\"arrowwidth\":1},\"geo\":{\"bgcolor\":\"white\",\"landcolor\":\"#E5ECF6\",\"subunitcolor\":\"white\",\"showland\":true,\"showlakes\":true,\"lakecolor\":\"white\"},\"title\":{\"x\":0.05},\"mapbox\":{\"style\":\"light\"}}},\"xaxis\":{\"anchor\":\"y\",\"domain\":[0.0,1.0],\"title\":{\"text\":\"Real\"}},\"yaxis\":{\"anchor\":\"x\",\"domain\":[0.0,1.0],\"title\":{\"text\":\"Imaginary\"}},\"legend\":{\"tracegroupgap\":0},\"title\":{\"text\":\"Eigenvalues of Head L11H11 of GPT-2 Small\"}},                        {\"responsive\": true}                    ).then(function(){\n",
                            "                            \n",
                            "var gd = document.getElementById('bdd08916-2eb4-46b4-bcc5-896e7bc11cee');\n",
                            "var x = new MutationObserver(function (mutations, observer) {{\n",
                            "        var display = window.getComputedStyle(gd).display;\n",
                            "        if (!display || display === 'none') {{\n",
                            "            console.log([gd, 'removed!']);\n",
                            "            Plotly.purge(gd);\n",
                            "            observer.disconnect();\n",
                            "        }}\n",
                            "}});\n",
                            "\n",
                            "// Listen for the removal of the full notebook cells\n",
                            "var notebookContainer = gd.closest('#notebook-container');\n",
                            "if (notebookContainer) {{\n",
                            "    x.observe(notebookContainer, {childList: true});\n",
                            "}}\n",
                            "\n",
                            "// Listen for the clearing of the current output cell\n",
                            "var outputEl = gd.closest('.output');\n",
                            "if (outputEl) {{\n",
                            "    x.observe(outputEl, {childList: true});\n",
                            "}}\n",
                            "\n",
                            "                        })                };                            </script>        </div>\n",
                            "</body>\n",
                            "</html>"
                        ]
                    },
                    "metadata": {},
                    "output_type": "display_data"
                }
            ],
            "source": [
                "scatter(x=OV_circuit_all_heads_eigenvalues[-1, -1, :].real, y=OV_circuit_all_heads_eigenvalues[-1, -1, :].imag, title=\"Eigenvalues of Head L11H11 of GPT-2 Small\", xaxis=\"Real\", yaxis=\"Imaginary\")"
            ]
        },
        {
            "cell_type": "markdown",
            "metadata": {},
            "source": [
                "We can even look at the full OV circuit, from the input tokens to output tokens: $W_E W_V W_O W_U$. This is a `[d_vocab, d_vocab]==[50257, 50257]` matrix, so absolutely enormous, even for a single head. But with the FactoredMatrix class, we can compute the full eigenvalue copying score of every head in a few seconds."
            ]
        },
        {
            "cell_type": "code",
            "execution_count": 47,
            "metadata": {},
            "outputs": [
                {
                    "name": "stdout",
                    "output_type": "stream",
                    "text": [
                        "FactoredMatrix: Shape(torch.Size([12, 12, 50257, 50257])), Hidden Dim(64)\n"
                    ]
                }
            ],
            "source": [
                "full_OV_circuit = model.embed.W_E @ OV_circuit_all_heads @ model.unembed.W_U\n",
                "print(full_OV_circuit)"
            ]
        },
        {
            "cell_type": "code",
            "execution_count": 48,
            "metadata": {},
            "outputs": [
                {
                    "name": "stdout",
                    "output_type": "stream",
                    "text": [
                        "torch.Size([12, 12, 64])\n",
                        "torch.complex64\n"
                    ]
                }
            ],
            "source": [
                "full_OV_circuit_eigenvalues = full_OV_circuit.eigenvalues\n",
                "print(full_OV_circuit_eigenvalues.shape)\n",
                "print(full_OV_circuit_eigenvalues.dtype)"
            ]
        },
        {
            "cell_type": "code",
            "execution_count": 49,
            "metadata": {},
            "outputs": [
                {
                    "data": {
                        "text/html": [
                            "<html>\n",
                            "<head><meta charset=\"utf-8\" /></head>\n",
                            "<body>\n",
                            "    <div>            <script src=\"https://cdnjs.cloudflare.com/ajax/libs/mathjax/2.7.5/MathJax.js?config=TeX-AMS-MML_SVG\"></script><script type=\"text/javascript\">if (window.MathJax && window.MathJax.Hub && window.MathJax.Hub.Config) {window.MathJax.Hub.Config({SVG: {font: \"STIX-Web\"}});}</script>                <script type=\"text/javascript\">window.PlotlyConfig = {MathJaxConfig: 'local'};</script>\n",
                            "        <script src=\"https://cdn.plot.ly/plotly-2.16.1.min.js\"></script>                <div id=\"ef099db3-850d-4f72-bcbc-a001170dfe46\" class=\"plotly-graph-div\" style=\"height:525px; width:100%;\"></div>            <script type=\"text/javascript\">                                    window.PLOTLYENV=window.PLOTLYENV || {};                                    if (document.getElementById(\"ef099db3-850d-4f72-bcbc-a001170dfe46\")) {                    Plotly.newPlot(                        \"ef099db3-850d-4f72-bcbc-a001170dfe46\",                        [{\"coloraxis\":\"coloraxis\",\"name\":\"0\",\"z\":[[0.8356366,0.58535385,0.5105842,0.78433764,0.8644159,0.70265853,0.8969925,0.5868824,0.42486504,-0.16337514,0.46268544,0.27605426],[-0.052920163,-0.3177313,-0.48105782,-0.7838066,-0.63602084,-0.77586824,0.96818024,0.81191146,-0.75104624,-0.68784463,-0.64298844,-0.99858564],[-0.65983284,0.9152503,0.54614985,-0.4874397,0.7720561,-0.7541063,-0.847245,-0.6948985,-0.1557513,0.24442284,-0.91066235,-0.94391507],[0.6486897,-0.5592913,0.5935595,0.7843037,-0.8150344,0.6130046,0.16785872,0.3519588,-0.6837264,0.22237684,-0.99292195,0.65358186],[0.5740951,0.3640131,0.0960908,0.93596244,-0.9228775,0.61910796,-0.33572662,-0.998465,0.6448632,0.8468657,-0.7557656,0.95279706],[0.7326544,0.53241664,0.97326714,0.7239247,0.25538945,0.81584096,0.66557914,0.9287099,-0.5660435,-0.89087445,0.98342353,-0.99811804],[0.96986926,0.7439671,-0.35639316,0.6022988,0.9708116,-0.9278276,-0.9962316,0.8345208,0.9714328,0.8158544,0.5902574,0.8199346],[0.98202264,0.9859328,0.51524574,-0.56105167,0.96636665,0.9495159,-0.52048147,0.31047505,0.9859083,0.7797459,0.6738534,0.39197388],[-0.9062039,0.11750999,0.8077877,0.4169305,0.9829014,0.9902303,0.7847102,0.994563,0.9868026,-0.26804435,-0.99088675,0.74579275],[0.9906192,-0.18231122,0.97578365,0.99867505,0.25443316,-0.9544061,0.5869243,-0.23537976,0.9550504,0.25511968,0.992987,0.090525985],[0.9707273,0.6956093,0.6280023,0.79028654,0.934384,0.98957944,0.94362825,-0.10834958,-0.3431112,0.99867094,0.50867337,0.99495095],[0.8283133,0.9432441,0.9491768,0.9995353,0.57123184,0.8055236,0.67818654,0.8272576,0.8314806,0.8778659,0.99449587,0.99738663]],\"type\":\"heatmap\",\"xaxis\":\"x\",\"yaxis\":\"y\",\"hovertemplate\":\"Head: %{x}<br>Layer: %{y}<br>color: %{z}<extra></extra>\"}],                        {\"template\":{\"data\":{\"histogram2dcontour\":[{\"type\":\"histogram2dcontour\",\"colorbar\":{\"outlinewidth\":0,\"ticks\":\"\"},\"colorscale\":[[0.0,\"#0d0887\"],[0.1111111111111111,\"#46039f\"],[0.2222222222222222,\"#7201a8\"],[0.3333333333333333,\"#9c179e\"],[0.4444444444444444,\"#bd3786\"],[0.5555555555555556,\"#d8576b\"],[0.6666666666666666,\"#ed7953\"],[0.7777777777777778,\"#fb9f3a\"],[0.8888888888888888,\"#fdca26\"],[1.0,\"#f0f921\"]]}],\"choropleth\":[{\"type\":\"choropleth\",\"colorbar\":{\"outlinewidth\":0,\"ticks\":\"\"}}],\"histogram2d\":[{\"type\":\"histogram2d\",\"colorbar\":{\"outlinewidth\":0,\"ticks\":\"\"},\"colorscale\":[[0.0,\"#0d0887\"],[0.1111111111111111,\"#46039f\"],[0.2222222222222222,\"#7201a8\"],[0.3333333333333333,\"#9c179e\"],[0.4444444444444444,\"#bd3786\"],[0.5555555555555556,\"#d8576b\"],[0.6666666666666666,\"#ed7953\"],[0.7777777777777778,\"#fb9f3a\"],[0.8888888888888888,\"#fdca26\"],[1.0,\"#f0f921\"]]}],\"heatmap\":[{\"type\":\"heatmap\",\"colorbar\":{\"outlinewidth\":0,\"ticks\":\"\"},\"colorscale\":[[0.0,\"#0d0887\"],[0.1111111111111111,\"#46039f\"],[0.2222222222222222,\"#7201a8\"],[0.3333333333333333,\"#9c179e\"],[0.4444444444444444,\"#bd3786\"],[0.5555555555555556,\"#d8576b\"],[0.6666666666666666,\"#ed7953\"],[0.7777777777777778,\"#fb9f3a\"],[0.8888888888888888,\"#fdca26\"],[1.0,\"#f0f921\"]]}],\"heatmapgl\":[{\"type\":\"heatmapgl\",\"colorbar\":{\"outlinewidth\":0,\"ticks\":\"\"},\"colorscale\":[[0.0,\"#0d0887\"],[0.1111111111111111,\"#46039f\"],[0.2222222222222222,\"#7201a8\"],[0.3333333333333333,\"#9c179e\"],[0.4444444444444444,\"#bd3786\"],[0.5555555555555556,\"#d8576b\"],[0.6666666666666666,\"#ed7953\"],[0.7777777777777778,\"#fb9f3a\"],[0.8888888888888888,\"#fdca26\"],[1.0,\"#f0f921\"]]}],\"contourcarpet\":[{\"type\":\"contourcarpet\",\"colorbar\":{\"outlinewidth\":0,\"ticks\":\"\"}}],\"contour\":[{\"type\":\"contour\",\"colorbar\":{\"outlinewidth\":0,\"ticks\":\"\"},\"colorscale\":[[0.0,\"#0d0887\"],[0.1111111111111111,\"#46039f\"],[0.2222222222222222,\"#7201a8\"],[0.3333333333333333,\"#9c179e\"],[0.4444444444444444,\"#bd3786\"],[0.5555555555555556,\"#d8576b\"],[0.6666666666666666,\"#ed7953\"],[0.7777777777777778,\"#fb9f3a\"],[0.8888888888888888,\"#fdca26\"],[1.0,\"#f0f921\"]]}],\"surface\":[{\"type\":\"surface\",\"colorbar\":{\"outlinewidth\":0,\"ticks\":\"\"},\"colorscale\":[[0.0,\"#0d0887\"],[0.1111111111111111,\"#46039f\"],[0.2222222222222222,\"#7201a8\"],[0.3333333333333333,\"#9c179e\"],[0.4444444444444444,\"#bd3786\"],[0.5555555555555556,\"#d8576b\"],[0.6666666666666666,\"#ed7953\"],[0.7777777777777778,\"#fb9f3a\"],[0.8888888888888888,\"#fdca26\"],[1.0,\"#f0f921\"]]}],\"mesh3d\":[{\"type\":\"mesh3d\",\"colorbar\":{\"outlinewidth\":0,\"ticks\":\"\"}}],\"scatter\":[{\"fillpattern\":{\"fillmode\":\"overlay\",\"size\":10,\"solidity\":0.2},\"type\":\"scatter\"}],\"parcoords\":[{\"type\":\"parcoords\",\"line\":{\"colorbar\":{\"outlinewidth\":0,\"ticks\":\"\"}}}],\"scatterpolargl\":[{\"type\":\"scatterpolargl\",\"marker\":{\"colorbar\":{\"outlinewidth\":0,\"ticks\":\"\"}}}],\"bar\":[{\"error_x\":{\"color\":\"#2a3f5f\"},\"error_y\":{\"color\":\"#2a3f5f\"},\"marker\":{\"line\":{\"color\":\"#E5ECF6\",\"width\":0.5},\"pattern\":{\"fillmode\":\"overlay\",\"size\":10,\"solidity\":0.2}},\"type\":\"bar\"}],\"scattergeo\":[{\"type\":\"scattergeo\",\"marker\":{\"colorbar\":{\"outlinewidth\":0,\"ticks\":\"\"}}}],\"scatterpolar\":[{\"type\":\"scatterpolar\",\"marker\":{\"colorbar\":{\"outlinewidth\":0,\"ticks\":\"\"}}}],\"histogram\":[{\"marker\":{\"pattern\":{\"fillmode\":\"overlay\",\"size\":10,\"solidity\":0.2}},\"type\":\"histogram\"}],\"scattergl\":[{\"type\":\"scattergl\",\"marker\":{\"colorbar\":{\"outlinewidth\":0,\"ticks\":\"\"}}}],\"scatter3d\":[{\"type\":\"scatter3d\",\"line\":{\"colorbar\":{\"outlinewidth\":0,\"ticks\":\"\"}},\"marker\":{\"colorbar\":{\"outlinewidth\":0,\"ticks\":\"\"}}}],\"scattermapbox\":[{\"type\":\"scattermapbox\",\"marker\":{\"colorbar\":{\"outlinewidth\":0,\"ticks\":\"\"}}}],\"scatterternary\":[{\"type\":\"scatterternary\",\"marker\":{\"colorbar\":{\"outlinewidth\":0,\"ticks\":\"\"}}}],\"scattercarpet\":[{\"type\":\"scattercarpet\",\"marker\":{\"colorbar\":{\"outlinewidth\":0,\"ticks\":\"\"}}}],\"carpet\":[{\"aaxis\":{\"endlinecolor\":\"#2a3f5f\",\"gridcolor\":\"white\",\"linecolor\":\"white\",\"minorgridcolor\":\"white\",\"startlinecolor\":\"#2a3f5f\"},\"baxis\":{\"endlinecolor\":\"#2a3f5f\",\"gridcolor\":\"white\",\"linecolor\":\"white\",\"minorgridcolor\":\"white\",\"startlinecolor\":\"#2a3f5f\"},\"type\":\"carpet\"}],\"table\":[{\"cells\":{\"fill\":{\"color\":\"#EBF0F8\"},\"line\":{\"color\":\"white\"}},\"header\":{\"fill\":{\"color\":\"#C8D4E3\"},\"line\":{\"color\":\"white\"}},\"type\":\"table\"}],\"barpolar\":[{\"marker\":{\"line\":{\"color\":\"#E5ECF6\",\"width\":0.5},\"pattern\":{\"fillmode\":\"overlay\",\"size\":10,\"solidity\":0.2}},\"type\":\"barpolar\"}],\"pie\":[{\"automargin\":true,\"type\":\"pie\"}]},\"layout\":{\"autotypenumbers\":\"strict\",\"colorway\":[\"#636efa\",\"#EF553B\",\"#00cc96\",\"#ab63fa\",\"#FFA15A\",\"#19d3f3\",\"#FF6692\",\"#B6E880\",\"#FF97FF\",\"#FECB52\"],\"font\":{\"color\":\"#2a3f5f\"},\"hovermode\":\"closest\",\"hoverlabel\":{\"align\":\"left\"},\"paper_bgcolor\":\"white\",\"plot_bgcolor\":\"#E5ECF6\",\"polar\":{\"bgcolor\":\"#E5ECF6\",\"angularaxis\":{\"gridcolor\":\"white\",\"linecolor\":\"white\",\"ticks\":\"\"},\"radialaxis\":{\"gridcolor\":\"white\",\"linecolor\":\"white\",\"ticks\":\"\"}},\"ternary\":{\"bgcolor\":\"#E5ECF6\",\"aaxis\":{\"gridcolor\":\"white\",\"linecolor\":\"white\",\"ticks\":\"\"},\"baxis\":{\"gridcolor\":\"white\",\"linecolor\":\"white\",\"ticks\":\"\"},\"caxis\":{\"gridcolor\":\"white\",\"linecolor\":\"white\",\"ticks\":\"\"}},\"coloraxis\":{\"colorbar\":{\"outlinewidth\":0,\"ticks\":\"\"}},\"colorscale\":{\"sequential\":[[0.0,\"#0d0887\"],[0.1111111111111111,\"#46039f\"],[0.2222222222222222,\"#7201a8\"],[0.3333333333333333,\"#9c179e\"],[0.4444444444444444,\"#bd3786\"],[0.5555555555555556,\"#d8576b\"],[0.6666666666666666,\"#ed7953\"],[0.7777777777777778,\"#fb9f3a\"],[0.8888888888888888,\"#fdca26\"],[1.0,\"#f0f921\"]],\"sequentialminus\":[[0.0,\"#0d0887\"],[0.1111111111111111,\"#46039f\"],[0.2222222222222222,\"#7201a8\"],[0.3333333333333333,\"#9c179e\"],[0.4444444444444444,\"#bd3786\"],[0.5555555555555556,\"#d8576b\"],[0.6666666666666666,\"#ed7953\"],[0.7777777777777778,\"#fb9f3a\"],[0.8888888888888888,\"#fdca26\"],[1.0,\"#f0f921\"]],\"diverging\":[[0,\"#8e0152\"],[0.1,\"#c51b7d\"],[0.2,\"#de77ae\"],[0.3,\"#f1b6da\"],[0.4,\"#fde0ef\"],[0.5,\"#f7f7f7\"],[0.6,\"#e6f5d0\"],[0.7,\"#b8e186\"],[0.8,\"#7fbc41\"],[0.9,\"#4d9221\"],[1,\"#276419\"]]},\"xaxis\":{\"gridcolor\":\"white\",\"linecolor\":\"white\",\"ticks\":\"\",\"title\":{\"standoff\":15},\"zerolinecolor\":\"white\",\"automargin\":true,\"zerolinewidth\":2},\"yaxis\":{\"gridcolor\":\"white\",\"linecolor\":\"white\",\"ticks\":\"\",\"title\":{\"standoff\":15},\"zerolinecolor\":\"white\",\"automargin\":true,\"zerolinewidth\":2},\"scene\":{\"xaxis\":{\"backgroundcolor\":\"#E5ECF6\",\"gridcolor\":\"white\",\"linecolor\":\"white\",\"showbackground\":true,\"ticks\":\"\",\"zerolinecolor\":\"white\",\"gridwidth\":2},\"yaxis\":{\"backgroundcolor\":\"#E5ECF6\",\"gridcolor\":\"white\",\"linecolor\":\"white\",\"showbackground\":true,\"ticks\":\"\",\"zerolinecolor\":\"white\",\"gridwidth\":2},\"zaxis\":{\"backgroundcolor\":\"#E5ECF6\",\"gridcolor\":\"white\",\"linecolor\":\"white\",\"showbackground\":true,\"ticks\":\"\",\"zerolinecolor\":\"white\",\"gridwidth\":2}},\"shapedefaults\":{\"line\":{\"color\":\"#2a3f5f\"}},\"annotationdefaults\":{\"arrowcolor\":\"#2a3f5f\",\"arrowhead\":0,\"arrowwidth\":1},\"geo\":{\"bgcolor\":\"white\",\"landcolor\":\"#E5ECF6\",\"subunitcolor\":\"white\",\"showland\":true,\"showlakes\":true,\"lakecolor\":\"white\"},\"title\":{\"x\":0.05},\"mapbox\":{\"style\":\"light\"}}},\"xaxis\":{\"anchor\":\"y\",\"domain\":[0.0,1.0],\"scaleanchor\":\"y\",\"constrain\":\"domain\",\"title\":{\"text\":\"Head\"}},\"yaxis\":{\"anchor\":\"x\",\"domain\":[0.0,1.0],\"autorange\":\"reversed\",\"constrain\":\"domain\",\"title\":{\"text\":\"Layer\"}},\"coloraxis\":{\"colorscale\":[[0.0,\"rgb(103,0,31)\"],[0.1,\"rgb(178,24,43)\"],[0.2,\"rgb(214,96,77)\"],[0.3,\"rgb(244,165,130)\"],[0.4,\"rgb(253,219,199)\"],[0.5,\"rgb(247,247,247)\"],[0.6,\"rgb(209,229,240)\"],[0.7,\"rgb(146,197,222)\"],[0.8,\"rgb(67,147,195)\"],[0.9,\"rgb(33,102,172)\"],[1.0,\"rgb(5,48,97)\"]],\"cmid\":0.0,\"cmin\":-1.0,\"cmax\":1.0},\"title\":{\"text\":\"OV Copying Score for each head in GPT-2 Small\"}},                        {\"responsive\": true}                    ).then(function(){\n",
                            "                            \n",
                            "var gd = document.getElementById('ef099db3-850d-4f72-bcbc-a001170dfe46');\n",
                            "var x = new MutationObserver(function (mutations, observer) {{\n",
                            "        var display = window.getComputedStyle(gd).display;\n",
                            "        if (!display || display === 'none') {{\n",
                            "            console.log([gd, 'removed!']);\n",
                            "            Plotly.purge(gd);\n",
                            "            observer.disconnect();\n",
                            "        }}\n",
                            "}});\n",
                            "\n",
                            "// Listen for the removal of the full notebook cells\n",
                            "var notebookContainer = gd.closest('#notebook-container');\n",
                            "if (notebookContainer) {{\n",
                            "    x.observe(notebookContainer, {childList: true});\n",
                            "}}\n",
                            "\n",
                            "// Listen for the clearing of the current output cell\n",
                            "var outputEl = gd.closest('.output');\n",
                            "if (outputEl) {{\n",
                            "    x.observe(outputEl, {childList: true});\n",
                            "}}\n",
                            "\n",
                            "                        })                };                            </script>        </div>\n",
                            "</body>\n",
                            "</html>"
                        ]
                    },
                    "metadata": {},
                    "output_type": "display_data"
                }
            ],
            "source": [
                "full_OV_copying_score = full_OV_circuit_eigenvalues.sum(dim=-1).real / full_OV_circuit_eigenvalues.abs().sum(dim=-1)\n",
                "imshow(utils.to_numpy(full_OV_copying_score), xaxis=\"Head\", yaxis=\"Layer\", title=\"OV Copying Score for each head in GPT-2 Small\", zmax=1.0, zmin=-1.0)"
            ]
        },
        {
            "cell_type": "markdown",
            "metadata": {},
            "source": [
                "Interestingly, these are highly (but not perfectly!) correlated. I'm not sure what to read from this, or what's up with the weird outlier heads!"
            ]
        },
        {
            "cell_type": "code",
            "execution_count": 50,
            "metadata": {},
            "outputs": [
                {
                    "data": {
                        "text/html": [
                            "<html>\n",
                            "<head><meta charset=\"utf-8\" /></head>\n",
                            "<body>\n",
                            "    <div>            <script src=\"https://cdnjs.cloudflare.com/ajax/libs/mathjax/2.7.5/MathJax.js?config=TeX-AMS-MML_SVG\"></script><script type=\"text/javascript\">if (window.MathJax && window.MathJax.Hub && window.MathJax.Hub.Config) {window.MathJax.Hub.Config({SVG: {font: \"STIX-Web\"}});}</script>                <script type=\"text/javascript\">window.PlotlyConfig = {MathJaxConfig: 'local'};</script>\n",
                            "        <script src=\"https://cdn.plot.ly/plotly-2.16.1.min.js\"></script>                <div id=\"df2e2140-8dfe-4259-a9ef-ccdd4f9b62ec\" class=\"plotly-graph-div\" style=\"height:525px; width:100%;\"></div>            <script type=\"text/javascript\">                                    window.PLOTLYENV=window.PLOTLYENV || {};                                    if (document.getElementById(\"df2e2140-8dfe-4259-a9ef-ccdd4f9b62ec\")) {                    Plotly.newPlot(                        \"df2e2140-8dfe-4259-a9ef-ccdd4f9b62ec\",                        [{\"hovertemplate\":\"<b>%{hovertext}</b><br><br>Full OV Copying Score=%{x}<br>OV Copying Score=%{y}<extra></extra>\",\"hovertext\":[\"L0H0\",\"L0H1\",\"L0H2\",\"L0H3\",\"L0H4\",\"L0H5\",\"L0H6\",\"L0H7\",\"L0H8\",\"L0H9\",\"L0H10\",\"L0H11\",\"L1H0\",\"L1H1\",\"L1H2\",\"L1H3\",\"L1H4\",\"L1H5\",\"L1H6\",\"L1H7\",\"L1H8\",\"L1H9\",\"L1H10\",\"L1H11\",\"L2H0\",\"L2H1\",\"L2H2\",\"L2H3\",\"L2H4\",\"L2H5\",\"L2H6\",\"L2H7\",\"L2H8\",\"L2H9\",\"L2H10\",\"L2H11\",\"L3H0\",\"L3H1\",\"L3H2\",\"L3H3\",\"L3H4\",\"L3H5\",\"L3H6\",\"L3H7\",\"L3H8\",\"L3H9\",\"L3H10\",\"L3H11\",\"L4H0\",\"L4H1\",\"L4H2\",\"L4H3\",\"L4H4\",\"L4H5\",\"L4H6\",\"L4H7\",\"L4H8\",\"L4H9\",\"L4H10\",\"L4H11\",\"L5H0\",\"L5H1\",\"L5H2\",\"L5H3\",\"L5H4\",\"L5H5\",\"L5H6\",\"L5H7\",\"L5H8\",\"L5H9\",\"L5H10\",\"L5H11\",\"L6H0\",\"L6H1\",\"L6H2\",\"L6H3\",\"L6H4\",\"L6H5\",\"L6H6\",\"L6H7\",\"L6H8\",\"L6H9\",\"L6H10\",\"L6H11\",\"L7H0\",\"L7H1\",\"L7H2\",\"L7H3\",\"L7H4\",\"L7H5\",\"L7H6\",\"L7H7\",\"L7H8\",\"L7H9\",\"L7H10\",\"L7H11\",\"L8H0\",\"L8H1\",\"L8H2\",\"L8H3\",\"L8H4\",\"L8H5\",\"L8H6\",\"L8H7\",\"L8H8\",\"L8H9\",\"L8H10\",\"L8H11\",\"L9H0\",\"L9H1\",\"L9H2\",\"L9H3\",\"L9H4\",\"L9H5\",\"L9H6\",\"L9H7\",\"L9H8\",\"L9H9\",\"L9H10\",\"L9H11\",\"L10H0\",\"L10H1\",\"L10H2\",\"L10H3\",\"L10H4\",\"L10H5\",\"L10H6\",\"L10H7\",\"L10H8\",\"L10H9\",\"L10H10\",\"L10H11\",\"L11H0\",\"L11H1\",\"L11H2\",\"L11H3\",\"L11H4\",\"L11H5\",\"L11H6\",\"L11H7\",\"L11H8\",\"L11H9\",\"L11H10\",\"L11H11\"],\"legendgroup\":\"\",\"marker\":{\"color\":\"#636efa\",\"symbol\":\"circle\"},\"mode\":\"markers\",\"name\":\"\",\"orientation\":\"v\",\"showlegend\":false,\"x\":[0.8356366,0.58535385,0.5105842,0.78433764,0.8644159,0.70265853,0.8969925,0.5868824,0.42486504,-0.16337514,0.46268544,0.27605426,-0.052920163,-0.3177313,-0.48105782,-0.7838066,-0.63602084,-0.77586824,0.96818024,0.81191146,-0.75104624,-0.68784463,-0.64298844,-0.99858564,-0.65983284,0.9152503,0.54614985,-0.4874397,0.7720561,-0.7541063,-0.847245,-0.6948985,-0.1557513,0.24442284,-0.91066235,-0.94391507,0.6486897,-0.5592913,0.5935595,0.7843037,-0.8150344,0.6130046,0.16785872,0.3519588,-0.6837264,0.22237684,-0.99292195,0.65358186,0.5740951,0.3640131,0.0960908,0.93596244,-0.9228775,0.61910796,-0.33572662,-0.998465,0.6448632,0.8468657,-0.7557656,0.95279706,0.7326544,0.53241664,0.97326714,0.7239247,0.25538945,0.81584096,0.66557914,0.9287099,-0.5660435,-0.89087445,0.98342353,-0.99811804,0.96986926,0.7439671,-0.35639316,0.6022988,0.9708116,-0.9278276,-0.9962316,0.8345208,0.9714328,0.8158544,0.5902574,0.8199346,0.98202264,0.9859328,0.51524574,-0.56105167,0.96636665,0.9495159,-0.52048147,0.31047505,0.9859083,0.7797459,0.6738534,0.39197388,-0.9062039,0.11750999,0.8077877,0.4169305,0.9829014,0.9902303,0.7847102,0.994563,0.9868026,-0.26804435,-0.99088675,0.74579275,0.9906192,-0.18231122,0.97578365,0.99867505,0.25443316,-0.9544061,0.5869243,-0.23537976,0.9550504,0.25511968,0.992987,0.090525985,0.9707273,0.6956093,0.6280023,0.79028654,0.934384,0.98957944,0.94362825,-0.10834958,-0.3431112,0.99867094,0.50867337,0.99495095,0.8283133,0.9432441,0.9491768,0.9995353,0.57123184,0.8055236,0.67818654,0.8272576,0.8314806,0.8778659,0.99449587,0.99738663],\"xaxis\":\"x\",\"y\":[0.777501,0.3527268,0.2596186,0.66702574,0.8384258,0.5584432,0.8444747,0.41379097,0.24488935,0.028157508,0.35840985,0.16288288,-0.4541911,-0.6529327,-0.548457,-0.79903686,-0.7736425,-0.85225815,0.97743237,0.6626251,-0.73032224,-0.70070213,-0.6946625,-0.99967235,-0.78371626,0.89677584,0.4750953,-0.6671974,0.7881463,-0.854775,-0.9054185,-0.57493836,-0.32175106,-0.028594071,-0.92476183,-0.9699269,0.58640355,-0.7614349,0.59716946,0.7854394,-0.87888825,0.39087448,0.04473867,0.11028006,-0.8169987,0.22129549,-0.99395794,0.5774401,0.52547896,0.30490145,-0.1072914,0.94331515,-0.931443,0.5273629,-0.4264709,-0.9984429,0.52967566,0.8604294,-0.88950515,0.955697,0.66291875,0.42956945,0.9736858,0.65554816,0.12201875,0.7442768,0.5037956,0.95253587,-0.65071666,-0.931628,0.97915107,-0.99725866,0.9613031,0.75017786,-0.38066593,0.64297867,0.95577693,-0.9428839,-0.994808,0.7852987,0.9657302,0.70730156,0.36872303,0.81280106,0.9659483,0.9730121,0.3190061,-0.30290532,0.97909546,0.9357923,-0.5550317,-0.00546646,0.9867777,0.82495666,0.5664299,0.10005281,-0.9464487,-0.2547201,0.6522326,0.14152558,0.98841417,0.98605835,0.6949271,0.9901811,0.97912025,-0.2359553,-0.98207104,0.65066874,0.9895943,-0.29178143,0.9714024,0.9951602,0.18783762,-0.94609374,0.47801915,-0.24891911,0.94370985,0.11866241,0.99412435,-0.38088188,0.9564488,0.5542725,0.4211806,0.66287893,0.8659593,0.99371177,0.9069077,0.39811078,-0.41342166,0.99719155,0.34596682,0.9938656,0.58912665,0.9313741,0.9268401,0.9993564,0.62275416,0.8463948,0.6584346,0.8423125,0.29784963,0.8728679,0.99631435,0.98675257],\"yaxis\":\"y\",\"type\":\"scatter\"}],                        {\"template\":{\"data\":{\"histogram2dcontour\":[{\"type\":\"histogram2dcontour\",\"colorbar\":{\"outlinewidth\":0,\"ticks\":\"\"},\"colorscale\":[[0.0,\"#0d0887\"],[0.1111111111111111,\"#46039f\"],[0.2222222222222222,\"#7201a8\"],[0.3333333333333333,\"#9c179e\"],[0.4444444444444444,\"#bd3786\"],[0.5555555555555556,\"#d8576b\"],[0.6666666666666666,\"#ed7953\"],[0.7777777777777778,\"#fb9f3a\"],[0.8888888888888888,\"#fdca26\"],[1.0,\"#f0f921\"]]}],\"choropleth\":[{\"type\":\"choropleth\",\"colorbar\":{\"outlinewidth\":0,\"ticks\":\"\"}}],\"histogram2d\":[{\"type\":\"histogram2d\",\"colorbar\":{\"outlinewidth\":0,\"ticks\":\"\"},\"colorscale\":[[0.0,\"#0d0887\"],[0.1111111111111111,\"#46039f\"],[0.2222222222222222,\"#7201a8\"],[0.3333333333333333,\"#9c179e\"],[0.4444444444444444,\"#bd3786\"],[0.5555555555555556,\"#d8576b\"],[0.6666666666666666,\"#ed7953\"],[0.7777777777777778,\"#fb9f3a\"],[0.8888888888888888,\"#fdca26\"],[1.0,\"#f0f921\"]]}],\"heatmap\":[{\"type\":\"heatmap\",\"colorbar\":{\"outlinewidth\":0,\"ticks\":\"\"},\"colorscale\":[[0.0,\"#0d0887\"],[0.1111111111111111,\"#46039f\"],[0.2222222222222222,\"#7201a8\"],[0.3333333333333333,\"#9c179e\"],[0.4444444444444444,\"#bd3786\"],[0.5555555555555556,\"#d8576b\"],[0.6666666666666666,\"#ed7953\"],[0.7777777777777778,\"#fb9f3a\"],[0.8888888888888888,\"#fdca26\"],[1.0,\"#f0f921\"]]}],\"heatmapgl\":[{\"type\":\"heatmapgl\",\"colorbar\":{\"outlinewidth\":0,\"ticks\":\"\"},\"colorscale\":[[0.0,\"#0d0887\"],[0.1111111111111111,\"#46039f\"],[0.2222222222222222,\"#7201a8\"],[0.3333333333333333,\"#9c179e\"],[0.4444444444444444,\"#bd3786\"],[0.5555555555555556,\"#d8576b\"],[0.6666666666666666,\"#ed7953\"],[0.7777777777777778,\"#fb9f3a\"],[0.8888888888888888,\"#fdca26\"],[1.0,\"#f0f921\"]]}],\"contourcarpet\":[{\"type\":\"contourcarpet\",\"colorbar\":{\"outlinewidth\":0,\"ticks\":\"\"}}],\"contour\":[{\"type\":\"contour\",\"colorbar\":{\"outlinewidth\":0,\"ticks\":\"\"},\"colorscale\":[[0.0,\"#0d0887\"],[0.1111111111111111,\"#46039f\"],[0.2222222222222222,\"#7201a8\"],[0.3333333333333333,\"#9c179e\"],[0.4444444444444444,\"#bd3786\"],[0.5555555555555556,\"#d8576b\"],[0.6666666666666666,\"#ed7953\"],[0.7777777777777778,\"#fb9f3a\"],[0.8888888888888888,\"#fdca26\"],[1.0,\"#f0f921\"]]}],\"surface\":[{\"type\":\"surface\",\"colorbar\":{\"outlinewidth\":0,\"ticks\":\"\"},\"colorscale\":[[0.0,\"#0d0887\"],[0.1111111111111111,\"#46039f\"],[0.2222222222222222,\"#7201a8\"],[0.3333333333333333,\"#9c179e\"],[0.4444444444444444,\"#bd3786\"],[0.5555555555555556,\"#d8576b\"],[0.6666666666666666,\"#ed7953\"],[0.7777777777777778,\"#fb9f3a\"],[0.8888888888888888,\"#fdca26\"],[1.0,\"#f0f921\"]]}],\"mesh3d\":[{\"type\":\"mesh3d\",\"colorbar\":{\"outlinewidth\":0,\"ticks\":\"\"}}],\"scatter\":[{\"fillpattern\":{\"fillmode\":\"overlay\",\"size\":10,\"solidity\":0.2},\"type\":\"scatter\"}],\"parcoords\":[{\"type\":\"parcoords\",\"line\":{\"colorbar\":{\"outlinewidth\":0,\"ticks\":\"\"}}}],\"scatterpolargl\":[{\"type\":\"scatterpolargl\",\"marker\":{\"colorbar\":{\"outlinewidth\":0,\"ticks\":\"\"}}}],\"bar\":[{\"error_x\":{\"color\":\"#2a3f5f\"},\"error_y\":{\"color\":\"#2a3f5f\"},\"marker\":{\"line\":{\"color\":\"#E5ECF6\",\"width\":0.5},\"pattern\":{\"fillmode\":\"overlay\",\"size\":10,\"solidity\":0.2}},\"type\":\"bar\"}],\"scattergeo\":[{\"type\":\"scattergeo\",\"marker\":{\"colorbar\":{\"outlinewidth\":0,\"ticks\":\"\"}}}],\"scatterpolar\":[{\"type\":\"scatterpolar\",\"marker\":{\"colorbar\":{\"outlinewidth\":0,\"ticks\":\"\"}}}],\"histogram\":[{\"marker\":{\"pattern\":{\"fillmode\":\"overlay\",\"size\":10,\"solidity\":0.2}},\"type\":\"histogram\"}],\"scattergl\":[{\"type\":\"scattergl\",\"marker\":{\"colorbar\":{\"outlinewidth\":0,\"ticks\":\"\"}}}],\"scatter3d\":[{\"type\":\"scatter3d\",\"line\":{\"colorbar\":{\"outlinewidth\":0,\"ticks\":\"\"}},\"marker\":{\"colorbar\":{\"outlinewidth\":0,\"ticks\":\"\"}}}],\"scattermapbox\":[{\"type\":\"scattermapbox\",\"marker\":{\"colorbar\":{\"outlinewidth\":0,\"ticks\":\"\"}}}],\"scatterternary\":[{\"type\":\"scatterternary\",\"marker\":{\"colorbar\":{\"outlinewidth\":0,\"ticks\":\"\"}}}],\"scattercarpet\":[{\"type\":\"scattercarpet\",\"marker\":{\"colorbar\":{\"outlinewidth\":0,\"ticks\":\"\"}}}],\"carpet\":[{\"aaxis\":{\"endlinecolor\":\"#2a3f5f\",\"gridcolor\":\"white\",\"linecolor\":\"white\",\"minorgridcolor\":\"white\",\"startlinecolor\":\"#2a3f5f\"},\"baxis\":{\"endlinecolor\":\"#2a3f5f\",\"gridcolor\":\"white\",\"linecolor\":\"white\",\"minorgridcolor\":\"white\",\"startlinecolor\":\"#2a3f5f\"},\"type\":\"carpet\"}],\"table\":[{\"cells\":{\"fill\":{\"color\":\"#EBF0F8\"},\"line\":{\"color\":\"white\"}},\"header\":{\"fill\":{\"color\":\"#C8D4E3\"},\"line\":{\"color\":\"white\"}},\"type\":\"table\"}],\"barpolar\":[{\"marker\":{\"line\":{\"color\":\"#E5ECF6\",\"width\":0.5},\"pattern\":{\"fillmode\":\"overlay\",\"size\":10,\"solidity\":0.2}},\"type\":\"barpolar\"}],\"pie\":[{\"automargin\":true,\"type\":\"pie\"}]},\"layout\":{\"autotypenumbers\":\"strict\",\"colorway\":[\"#636efa\",\"#EF553B\",\"#00cc96\",\"#ab63fa\",\"#FFA15A\",\"#19d3f3\",\"#FF6692\",\"#B6E880\",\"#FF97FF\",\"#FECB52\"],\"font\":{\"color\":\"#2a3f5f\"},\"hovermode\":\"closest\",\"hoverlabel\":{\"align\":\"left\"},\"paper_bgcolor\":\"white\",\"plot_bgcolor\":\"#E5ECF6\",\"polar\":{\"bgcolor\":\"#E5ECF6\",\"angularaxis\":{\"gridcolor\":\"white\",\"linecolor\":\"white\",\"ticks\":\"\"},\"radialaxis\":{\"gridcolor\":\"white\",\"linecolor\":\"white\",\"ticks\":\"\"}},\"ternary\":{\"bgcolor\":\"#E5ECF6\",\"aaxis\":{\"gridcolor\":\"white\",\"linecolor\":\"white\",\"ticks\":\"\"},\"baxis\":{\"gridcolor\":\"white\",\"linecolor\":\"white\",\"ticks\":\"\"},\"caxis\":{\"gridcolor\":\"white\",\"linecolor\":\"white\",\"ticks\":\"\"}},\"coloraxis\":{\"colorbar\":{\"outlinewidth\":0,\"ticks\":\"\"}},\"colorscale\":{\"sequential\":[[0.0,\"#0d0887\"],[0.1111111111111111,\"#46039f\"],[0.2222222222222222,\"#7201a8\"],[0.3333333333333333,\"#9c179e\"],[0.4444444444444444,\"#bd3786\"],[0.5555555555555556,\"#d8576b\"],[0.6666666666666666,\"#ed7953\"],[0.7777777777777778,\"#fb9f3a\"],[0.8888888888888888,\"#fdca26\"],[1.0,\"#f0f921\"]],\"sequentialminus\":[[0.0,\"#0d0887\"],[0.1111111111111111,\"#46039f\"],[0.2222222222222222,\"#7201a8\"],[0.3333333333333333,\"#9c179e\"],[0.4444444444444444,\"#bd3786\"],[0.5555555555555556,\"#d8576b\"],[0.6666666666666666,\"#ed7953\"],[0.7777777777777778,\"#fb9f3a\"],[0.8888888888888888,\"#fdca26\"],[1.0,\"#f0f921\"]],\"diverging\":[[0,\"#8e0152\"],[0.1,\"#c51b7d\"],[0.2,\"#de77ae\"],[0.3,\"#f1b6da\"],[0.4,\"#fde0ef\"],[0.5,\"#f7f7f7\"],[0.6,\"#e6f5d0\"],[0.7,\"#b8e186\"],[0.8,\"#7fbc41\"],[0.9,\"#4d9221\"],[1,\"#276419\"]]},\"xaxis\":{\"gridcolor\":\"white\",\"linecolor\":\"white\",\"ticks\":\"\",\"title\":{\"standoff\":15},\"zerolinecolor\":\"white\",\"automargin\":true,\"zerolinewidth\":2},\"yaxis\":{\"gridcolor\":\"white\",\"linecolor\":\"white\",\"ticks\":\"\",\"title\":{\"standoff\":15},\"zerolinecolor\":\"white\",\"automargin\":true,\"zerolinewidth\":2},\"scene\":{\"xaxis\":{\"backgroundcolor\":\"#E5ECF6\",\"gridcolor\":\"white\",\"linecolor\":\"white\",\"showbackground\":true,\"ticks\":\"\",\"zerolinecolor\":\"white\",\"gridwidth\":2},\"yaxis\":{\"backgroundcolor\":\"#E5ECF6\",\"gridcolor\":\"white\",\"linecolor\":\"white\",\"showbackground\":true,\"ticks\":\"\",\"zerolinecolor\":\"white\",\"gridwidth\":2},\"zaxis\":{\"backgroundcolor\":\"#E5ECF6\",\"gridcolor\":\"white\",\"linecolor\":\"white\",\"showbackground\":true,\"ticks\":\"\",\"zerolinecolor\":\"white\",\"gridwidth\":2}},\"shapedefaults\":{\"line\":{\"color\":\"#2a3f5f\"}},\"annotationdefaults\":{\"arrowcolor\":\"#2a3f5f\",\"arrowhead\":0,\"arrowwidth\":1},\"geo\":{\"bgcolor\":\"white\",\"landcolor\":\"#E5ECF6\",\"subunitcolor\":\"white\",\"showland\":true,\"showlakes\":true,\"lakecolor\":\"white\"},\"title\":{\"x\":0.05},\"mapbox\":{\"style\":\"light\"}}},\"xaxis\":{\"anchor\":\"y\",\"domain\":[0.0,1.0],\"title\":{\"text\":\"Full OV Copying Score\"}},\"yaxis\":{\"anchor\":\"x\",\"domain\":[0.0,1.0],\"title\":{\"text\":\"OV Copying Score\"}},\"legend\":{\"tracegroupgap\":0},\"title\":{\"text\":\"OV Copying Score for each head in GPT-2 Small\"}},                        {\"responsive\": true}                    ).then(function(){\n",
                            "                            \n",
                            "var gd = document.getElementById('df2e2140-8dfe-4259-a9ef-ccdd4f9b62ec');\n",
                            "var x = new MutationObserver(function (mutations, observer) {{\n",
                            "        var display = window.getComputedStyle(gd).display;\n",
                            "        if (!display || display === 'none') {{\n",
                            "            console.log([gd, 'removed!']);\n",
                            "            Plotly.purge(gd);\n",
                            "            observer.disconnect();\n",
                            "        }}\n",
                            "}});\n",
                            "\n",
                            "// Listen for the removal of the full notebook cells\n",
                            "var notebookContainer = gd.closest('#notebook-container');\n",
                            "if (notebookContainer) {{\n",
                            "    x.observe(notebookContainer, {childList: true});\n",
                            "}}\n",
                            "\n",
                            "// Listen for the clearing of the current output cell\n",
                            "var outputEl = gd.closest('.output');\n",
                            "if (outputEl) {{\n",
                            "    x.observe(outputEl, {childList: true});\n",
                            "}}\n",
                            "\n",
                            "                        })                };                            </script>        </div>\n",
                            "</body>\n",
                            "</html>"
                        ]
                    },
                    "metadata": {},
                    "output_type": "display_data"
                }
            ],
            "source": [
                "scatter(x=full_OV_copying_score.flatten(), y=OV_copying_score.flatten(), hover_name=[f\"L{layer}H{head}\" for layer in range(12) for head in range(12)], title=\"OV Copying Score for each head in GPT-2 Small\", xaxis=\"Full OV Copying Score\", yaxis=\"OV Copying Score\")"
            ]
        },
        {
            "cell_type": "code",
            "execution_count": 51,
            "metadata": {},
            "outputs": [
                {
                    "name": "stdout",
                    "output_type": "stream",
                    "text": [
                        "Token 256 - the most common pair of ASCII characters: | t|\n",
                        "De-Tokenizing the example tokens: <|endoftext|>The first thing you need to figure out is *how* things are tokenized. `model.to_str_tokens` splits a string into the tokens *as a list of substrings*, and so lets you explore what the text looks like. To demonstrate this, let's use it on this paragraph.\n"
                    ]
                }
            ],
            "source": [
                "print(f\"Token 256 - the most common pair of ASCII characters: |{model.to_string(256)}|\")\n",
                "# Squeeze means to remove dimensions of length 1. \n",
                "# Here, that removes the dummy batch dimension so it's a rank 1 tensor and returns a string\n",
                "# Rank 2 tensors map to a list of strings\n",
                "print(f\"De-Tokenizing the example tokens: {model.to_string(example_text_tokens.squeeze())}\")"
            ]
        },
        {
            "attachments": {},
            "cell_type": "markdown",
            "metadata": {},
            "source": [
                "## Generating Text"
            ]
        },
        {
            "cell_type": "markdown",
            "metadata": {},
            "source": [
                "TransformerLens also has basic text generation functionality, which can be useful for generally exploring what the model is capable of (thanks to Ansh Radhakrishnan for adding this!). This is pretty rough functionality, and where possible I recommend using more established libraries like HuggingFace for this."
            ]
        },
        {
            "cell_type": "code",
            "execution_count": 52,
            "metadata": {},
            "outputs": [
                {
                    "data": {
                        "application/vnd.jupyter.widget-view+json": {
                            "model_id": "9c541056beba477db0a272faec9231b5",
                            "version_major": 2,
                            "version_minor": 0
                        },
                        "text/plain": [
                            "  0%|          | 0/50 [00:00<?, ?it/s]"
                        ]
                    },
                    "metadata": {},
                    "output_type": "display_data"
                },
                {
                    "data": {
                        "text/plain": [
                            "'(CNN) President Barack Obama caught in embarrassing new scandal\\n\\nCNN reported Wednesday that the former president was charged with lying to the FBI about his relationship with a Russian employee.\\n\\nThe FBI said in a statement that it had \"conducted the investigation\" into the matter.\\n\\nObama has pleaded not'"
                        ]
                    },
                    "execution_count": 52,
                    "metadata": {},
                    "output_type": "execute_result"
                }
            ],
            "source": [
                "model.generate(\"(CNN) President Barack Obama caught in embarrassing new scandal\\n\", max_new_tokens=50, temperature=0.7, prepend_bos=True)"
            ]
        },
        {
            "attachments": {},
            "cell_type": "markdown",
            "metadata": {},
            "source": [
                "## Hook Points\n",
                "\n",
                "The key part of TransformerLens that lets us access and edit intermediate activations are the HookPoints around every model activation. Importantly, this technique will work for *any* model architecture, not just transformers, so long as you're able to edit the model code to add in HookPoints! This is essentially a lightweight library bundled with TransformerLens that should let you take an arbitrary model and make it easier to study. "
            ]
        },
        {
            "cell_type": "markdown",
            "metadata": {},
            "source": [
                "This is implemented by having a HookPoint layer. Each transformer component has a HookPoint for every activation, which wraps around that activation. The HookPoint acts as an identity function, but has a variety of helper functions that allows us to put PyTorch hooks in to edit and access the relevant activation. \n",
                "\n",
                "There is also a `HookedRootModule` class - this is a utility class that the root module should inherit from (root module = the model we run) - it has several utility functions for using hooks well, notably `reset_hooks`, `run_with_cache` and `run_with_hooks`. \n",
                "\n",
                "The default interface is the `run_with_hooks` function on the root module, which lets us run a forwards pass on the model, and pass on a list of hooks paired with layer names to run on that pass. \n",
                "\n",
                "The syntax for a hook is `function(activation, hook)` where `activation` is the activation the hook is wrapped around, and `hook` is the `HookPoint` class the function is attached to. If the function returns a new activation or edits the activation in-place, that replaces the old one, if it returns None then the activation remains as is.\n"
            ]
        },
        {
            "cell_type": "markdown",
            "metadata": {},
            "source": [
                "### Toy Example"
            ]
        },
        {
            "cell_type": "markdown",
            "metadata": {},
            "source": [
                "\n",
                "Here's a simple example of defining a small network with HookPoints:\n",
                "\n",
                "We define a basic network with two layers that each take a scalar input $x$, square it, and add a constant:\n",
                "$x_0=x$, $x_1=x_0^2+3$, $x_2=x_1^2-4$.\n",
                "\n",
                "We wrap the input, each layer's output, and the intermediate value of each layer (the square) in a hook point.\n",
                "\n"
            ]
        },
        {
            "cell_type": "code",
            "execution_count": 53,
            "metadata": {},
            "outputs": [],
            "source": [
                "\n",
                "from transformer_lens.hook_points import HookedRootModule, HookPoint\n",
                "\n",
                "\n",
                "class SquareThenAdd(nn.Module):\n",
                "    def __init__(self, offset):\n",
                "        super().__init__()\n",
                "        self.offset = nn.Parameter(torch.tensor(offset))\n",
                "        self.hook_square = HookPoint()\n",
                "\n",
                "    def forward(self, x):\n",
                "        # The hook_square doesn't change the value, but lets us access it\n",
                "        square = self.hook_square(x * x)\n",
                "        return self.offset + square\n",
                "\n",
                "\n",
                "class TwoLayerModel(HookedRootModule):\n",
                "    def __init__(self):\n",
                "        super().__init__()\n",
                "        self.layer1 = SquareThenAdd(3.0)\n",
                "        self.layer2 = SquareThenAdd(-4.0)\n",
                "        self.hook_in = HookPoint()\n",
                "        self.hook_mid = HookPoint()\n",
                "        self.hook_out = HookPoint()\n",
                "\n",
                "        # We need to call the setup function of HookedRootModule to build an\n",
                "        # internal dictionary of modules and hooks, and to give each hook a name\n",
                "        super().setup()\n",
                "\n",
                "    def forward(self, x):\n",
                "        # We wrap the input and each layer's output in a hook - they leave the\n",
                "        # value unchanged (unless there's a hook added to explicitly change it),\n",
                "        # but allow us to access it.\n",
                "        x_in = self.hook_in(x)\n",
                "        x_mid = self.hook_mid(self.layer1(x_in))\n",
                "        x_out = self.hook_out(self.layer2(x_mid))\n",
                "        return x_out\n",
                "\n",
                "\n",
                "model = TwoLayerModel()\n"
            ]
        },
        {
            "cell_type": "markdown",
            "metadata": {},
            "source": [
                "\n",
                "We can add a cache, to save the activation at each hook point\n",
                "\n",
                "(There's a custom `run_with_cache` function on the root module as a convenience, which is a wrapper around model.forward that return model_out, cache_object - we could also manually add hooks with `run_with_hooks` that store activations in a global caching dictionary. This is often useful if we only want to store, eg, subsets or functions of some activations.)\n"
            ]
        },
        {
            "cell_type": "code",
            "execution_count": 54,
            "metadata": {},
            "outputs": [
                {
                    "name": "stdout",
                    "output_type": "stream",
                    "text": [
                        "Model output: 780.0\n",
                        "Value cached at hook hook_in 5.0\n",
                        "Value cached at hook layer1.hook_square 25.0\n",
                        "Value cached at hook hook_mid 28.0\n",
                        "Value cached at hook layer2.hook_square 784.0\n",
                        "Value cached at hook hook_out 780.0\n"
                    ]
                }
            ],
            "source": [
                "\n",
                "out, cache = model.run_with_cache(torch.tensor(5.0))\n",
                "print(\"Model output:\", out.item())\n",
                "for key in cache:\n",
                "    print(f\"Value cached at hook {key}\", cache[key].item())\n",
                "\n"
            ]
        },
        {
            "cell_type": "markdown",
            "metadata": {},
            "source": [
                "\n",
                "We can also use hooks to intervene on activations - eg, we can set the intermediate value in layer 2 to zero to change the output to -5\n"
            ]
        },
        {
            "cell_type": "code",
            "execution_count": 55,
            "metadata": {},
            "outputs": [
                {
                    "name": "stdout",
                    "output_type": "stream",
                    "text": [
                        "layer2.hook_square\n",
                        "Output after intervening on layer2.hook_scaled -4.0\n"
                    ]
                }
            ],
            "source": [
                "\n",
                "def set_to_zero_hook(tensor, hook):\n",
                "    print(hook.name)\n",
                "    return torch.tensor(0.0)\n",
                "\n",
                "\n",
                "print(\n",
                "    \"Output after intervening on layer2.hook_scaled\",\n",
                "    model.run_with_hooks(\n",
                "        torch.tensor(5.0), fwd_hooks=[(\"layer2.hook_square\", set_to_zero_hook)]\n",
                "    ).item(),\n",
                ")"
            ]
        },
        {
            "cell_type": "markdown",
            "metadata": {},
            "source": [
                "## Loading Pre-Trained Checkpoints\n",
                "\n",
                "There are a lot of interesting questions combining mechanistic interpretability and training dynamics - analysing model capabilities and the underlying circuits that make them possible, and how these change as we train the model. \n",
                "\n",
                "TransformerLens supports these by having several model families with checkpoints throughout training. `HookedTransformer.from_pretrained` can load a checkpoint of a model with the `checkpoint_index` (the label 0 to `num_checkpoints-1`) or `checkpoint_value` (the step or token number, depending on how the checkpoints were labelled)."
            ]
        },
        {
            "cell_type": "markdown",
            "metadata": {},
            "source": [
                "\n",
                "Available models:\n",
                "* All of my interpretability-friendly models have checkpoints available, including:\n",
                "    * The toy models - `attn-only`, `solu`, `gelu` 1L to 4L\n",
                "        * These have ~200 checkpoints, taken on a piecewise linear schedule (more checkpoints near the start of training), up to 22B tokens. Labelled by number of tokens seen.\n",
                "    * The SoLU models trained on 80% Web Text and 20% Python Code (`solu-6l` to `solu-12l`)\n",
                "        * Same checkpoint schedule as the toy models, this time up to 30B tokens\n",
                "    * The SoLU models trained on the pile (`solu-1l-pile` to `solu-12l-pile`)\n",
                "        * These have ~100 checkpoints, taken on a linear schedule, up to 15B tokens. Labelled by number of steps.\n",
                "        * The 12L training crashed around 11B tokens, so is truncated.\n",
                "* The Stanford Centre for Research of Foundation Models trained 5 GPT-2 Small sized and 5 GPT-2 Medium sized models (`stanford-gpt2-small-a` to `e` and `stanford-gpt2-medium-a` to `e`)\n",
                "    * 600 checkpoints, taken on a piecewise linear schedule, labelled by the number of steps."
            ]
        },
        {
            "cell_type": "markdown",
            "metadata": {},
            "source": [
                "The checkpoint structure and labels is somewhat messy and ad-hoc, so I mostly recommend using the `checkpoint_index` syntax (where you can just count from 0 to the number of checkpoints) rather than `checkpoint_value` syntax (where you need to know the checkpoint schedule, and whether it was labelled with the number of tokens or steps). The helper function `get_checkpoint_labels` tells you the checkpoint schedule for a given model - ie what point was each checkpoint taken at, and what type of label was used.\n",
                "\n",
                "Here are graphs of the schedules for several checkpointed models: (note that the first 3 use a log scale, latter 2 use a linear scale)"
            ]
        },
        {
            "cell_type": "code",
            "execution_count": 56,
            "metadata": {},
            "outputs": [
                {
                    "data": {
                        "text/html": [
                            "<html>\n",
                            "<head><meta charset=\"utf-8\" /></head>\n",
                            "<body>\n",
                            "    <div>            <script src=\"https://cdnjs.cloudflare.com/ajax/libs/mathjax/2.7.5/MathJax.js?config=TeX-AMS-MML_SVG\"></script><script type=\"text/javascript\">if (window.MathJax && window.MathJax.Hub && window.MathJax.Hub.Config) {window.MathJax.Hub.Config({SVG: {font: \"STIX-Web\"}});}</script>                <script type=\"text/javascript\">window.PlotlyConfig = {MathJaxConfig: 'local'};</script>\n",
                            "        <script src=\"https://cdn.plot.ly/plotly-2.16.1.min.js\"></script>                <div id=\"c7196983-521b-4ec3-a93d-e9a83d4888ad\" class=\"plotly-graph-div\" style=\"height:525px; width:100%;\"></div>            <script type=\"text/javascript\">                                    window.PLOTLYENV=window.PLOTLYENV || {};                                    if (document.getElementById(\"c7196983-521b-4ec3-a93d-e9a83d4888ad\")) {                    Plotly.newPlot(                        \"c7196983-521b-4ec3-a93d-e9a83d4888ad\",                        [{\"hovertemplate\":\"variable=0<br>index=%{x}<br>value=%{y}<extra></extra>\",\"legendgroup\":\"0\",\"line\":{\"color\":\"#636efa\",\"dash\":\"solid\"},\"marker\":{\"symbol\":\"circle\"},\"mode\":\"markers+lines\",\"name\":\"0\",\"orientation\":\"v\",\"showlegend\":true,\"x\":[0,1,2,3,4,5,6,7,8,9,10,11,12,13,14,15,16,17,18,19,20,21,22,23,24,25,26,27,28,29,30,31,32,33,34,35,36,37,38,39,40,41,42,43,44,45,46,47,48,49,50,51,52,53,54,55,56,57,58,59,60,61,62,63,64,65,66,67,68,69,70,71,72,73,74,75,76,77,78,79,80,81,82,83,84,85,86,87,88,89,90,91,92,93,94,95,96,97,98,99,100,101,102,103,104,105,106,107,108,109,110,111,112,113,114,115,116,117,118,119,120,121,122,123,124,125,126,127,128,129,130,131,132,133,134,135,136,137,138,139,140,141,142,143,144,145,146,147,148,149,150,151,152,153,154,155,156,157,158,159,160,161,162],\"xaxis\":\"x\",\"y\":[262144,2621440,4718592,7077888,9175040,11272192,13631488,15728640,18087936,20185088,22282240,33292288,44302336,55312384,66322432,77332480,88342528,99352576,110362624,121372672,132382720,143392768,154402816,165412864,176422912,187432960,198443008,209453056,220463104,264503296,308281344,352321536,396361728,440401920,484442112,528482304,572522496,616300544,660340736,704380928,748421120,792461312,836501504,880279552,924319744,968359936,1012400128,1056440320,1100480512,1144520704,1188298752,1232338944,1276379136,1320419328,1364459520,1408499712,1452277760,1496317952,1540358144,1584398336,1628438528,1672478720,1716518912,1760296960,1804337152,1848377344,1892417536,1936457728,1980497920,2024275968,2068316160,2112356352,2156396544,2200436736,2420375552,2640314368,2860515328,3080454144,3300392960,3520331776,3740270592,3960471552,4180410368,4400349184,4620288000,4840488960,5060427776,5280366592,5500305408,5720506368,5940445184,6160384000,6380322816,6600523776,6820462592,7040401408,7260340224,7480279040,7700480000,7920418816,8140357632,8360296448,8580497408,8800436224,9020375040,9240313856,9460514816,9680453632,9900392448,10120331264,10340270080,10560471040,10780409856,11000348672,11220287488,11440488448,11660427264,11880366080,12100304896,12320505856,12540444672,12760383488,12980322304,13200523264,13420462080,13640400896,13860339712,14080278528,14300479488,14520418304,14740357120,14960295936,15180496896,15400435712,15620374528,15840313344,16060514304,16280453120,16500391936,16720330752,16940269568,17160470528,17380409344,17600348160,17820286976,18040487936,18260426752,18480365568,18700304384,18920505344,19140444160,19360382976,19580321792,19800522752,20020461568,20240400384,20460339200,20680278016,20900478976,21120417792,21340356608,21560295424,21780496384],\"yaxis\":\"y\",\"type\":\"scatter\"}],                        {\"template\":{\"data\":{\"histogram2dcontour\":[{\"type\":\"histogram2dcontour\",\"colorbar\":{\"outlinewidth\":0,\"ticks\":\"\"},\"colorscale\":[[0.0,\"#0d0887\"],[0.1111111111111111,\"#46039f\"],[0.2222222222222222,\"#7201a8\"],[0.3333333333333333,\"#9c179e\"],[0.4444444444444444,\"#bd3786\"],[0.5555555555555556,\"#d8576b\"],[0.6666666666666666,\"#ed7953\"],[0.7777777777777778,\"#fb9f3a\"],[0.8888888888888888,\"#fdca26\"],[1.0,\"#f0f921\"]]}],\"choropleth\":[{\"type\":\"choropleth\",\"colorbar\":{\"outlinewidth\":0,\"ticks\":\"\"}}],\"histogram2d\":[{\"type\":\"histogram2d\",\"colorbar\":{\"outlinewidth\":0,\"ticks\":\"\"},\"colorscale\":[[0.0,\"#0d0887\"],[0.1111111111111111,\"#46039f\"],[0.2222222222222222,\"#7201a8\"],[0.3333333333333333,\"#9c179e\"],[0.4444444444444444,\"#bd3786\"],[0.5555555555555556,\"#d8576b\"],[0.6666666666666666,\"#ed7953\"],[0.7777777777777778,\"#fb9f3a\"],[0.8888888888888888,\"#fdca26\"],[1.0,\"#f0f921\"]]}],\"heatmap\":[{\"type\":\"heatmap\",\"colorbar\":{\"outlinewidth\":0,\"ticks\":\"\"},\"colorscale\":[[0.0,\"#0d0887\"],[0.1111111111111111,\"#46039f\"],[0.2222222222222222,\"#7201a8\"],[0.3333333333333333,\"#9c179e\"],[0.4444444444444444,\"#bd3786\"],[0.5555555555555556,\"#d8576b\"],[0.6666666666666666,\"#ed7953\"],[0.7777777777777778,\"#fb9f3a\"],[0.8888888888888888,\"#fdca26\"],[1.0,\"#f0f921\"]]}],\"heatmapgl\":[{\"type\":\"heatmapgl\",\"colorbar\":{\"outlinewidth\":0,\"ticks\":\"\"},\"colorscale\":[[0.0,\"#0d0887\"],[0.1111111111111111,\"#46039f\"],[0.2222222222222222,\"#7201a8\"],[0.3333333333333333,\"#9c179e\"],[0.4444444444444444,\"#bd3786\"],[0.5555555555555556,\"#d8576b\"],[0.6666666666666666,\"#ed7953\"],[0.7777777777777778,\"#fb9f3a\"],[0.8888888888888888,\"#fdca26\"],[1.0,\"#f0f921\"]]}],\"contourcarpet\":[{\"type\":\"contourcarpet\",\"colorbar\":{\"outlinewidth\":0,\"ticks\":\"\"}}],\"contour\":[{\"type\":\"contour\",\"colorbar\":{\"outlinewidth\":0,\"ticks\":\"\"},\"colorscale\":[[0.0,\"#0d0887\"],[0.1111111111111111,\"#46039f\"],[0.2222222222222222,\"#7201a8\"],[0.3333333333333333,\"#9c179e\"],[0.4444444444444444,\"#bd3786\"],[0.5555555555555556,\"#d8576b\"],[0.6666666666666666,\"#ed7953\"],[0.7777777777777778,\"#fb9f3a\"],[0.8888888888888888,\"#fdca26\"],[1.0,\"#f0f921\"]]}],\"surface\":[{\"type\":\"surface\",\"colorbar\":{\"outlinewidth\":0,\"ticks\":\"\"},\"colorscale\":[[0.0,\"#0d0887\"],[0.1111111111111111,\"#46039f\"],[0.2222222222222222,\"#7201a8\"],[0.3333333333333333,\"#9c179e\"],[0.4444444444444444,\"#bd3786\"],[0.5555555555555556,\"#d8576b\"],[0.6666666666666666,\"#ed7953\"],[0.7777777777777778,\"#fb9f3a\"],[0.8888888888888888,\"#fdca26\"],[1.0,\"#f0f921\"]]}],\"mesh3d\":[{\"type\":\"mesh3d\",\"colorbar\":{\"outlinewidth\":0,\"ticks\":\"\"}}],\"scatter\":[{\"fillpattern\":{\"fillmode\":\"overlay\",\"size\":10,\"solidity\":0.2},\"type\":\"scatter\"}],\"parcoords\":[{\"type\":\"parcoords\",\"line\":{\"colorbar\":{\"outlinewidth\":0,\"ticks\":\"\"}}}],\"scatterpolargl\":[{\"type\":\"scatterpolargl\",\"marker\":{\"colorbar\":{\"outlinewidth\":0,\"ticks\":\"\"}}}],\"bar\":[{\"error_x\":{\"color\":\"#2a3f5f\"},\"error_y\":{\"color\":\"#2a3f5f\"},\"marker\":{\"line\":{\"color\":\"#E5ECF6\",\"width\":0.5},\"pattern\":{\"fillmode\":\"overlay\",\"size\":10,\"solidity\":0.2}},\"type\":\"bar\"}],\"scattergeo\":[{\"type\":\"scattergeo\",\"marker\":{\"colorbar\":{\"outlinewidth\":0,\"ticks\":\"\"}}}],\"scatterpolar\":[{\"type\":\"scatterpolar\",\"marker\":{\"colorbar\":{\"outlinewidth\":0,\"ticks\":\"\"}}}],\"histogram\":[{\"marker\":{\"pattern\":{\"fillmode\":\"overlay\",\"size\":10,\"solidity\":0.2}},\"type\":\"histogram\"}],\"scattergl\":[{\"type\":\"scattergl\",\"marker\":{\"colorbar\":{\"outlinewidth\":0,\"ticks\":\"\"}}}],\"scatter3d\":[{\"type\":\"scatter3d\",\"line\":{\"colorbar\":{\"outlinewidth\":0,\"ticks\":\"\"}},\"marker\":{\"colorbar\":{\"outlinewidth\":0,\"ticks\":\"\"}}}],\"scattermapbox\":[{\"type\":\"scattermapbox\",\"marker\":{\"colorbar\":{\"outlinewidth\":0,\"ticks\":\"\"}}}],\"scatterternary\":[{\"type\":\"scatterternary\",\"marker\":{\"colorbar\":{\"outlinewidth\":0,\"ticks\":\"\"}}}],\"scattercarpet\":[{\"type\":\"scattercarpet\",\"marker\":{\"colorbar\":{\"outlinewidth\":0,\"ticks\":\"\"}}}],\"carpet\":[{\"aaxis\":{\"endlinecolor\":\"#2a3f5f\",\"gridcolor\":\"white\",\"linecolor\":\"white\",\"minorgridcolor\":\"white\",\"startlinecolor\":\"#2a3f5f\"},\"baxis\":{\"endlinecolor\":\"#2a3f5f\",\"gridcolor\":\"white\",\"linecolor\":\"white\",\"minorgridcolor\":\"white\",\"startlinecolor\":\"#2a3f5f\"},\"type\":\"carpet\"}],\"table\":[{\"cells\":{\"fill\":{\"color\":\"#EBF0F8\"},\"line\":{\"color\":\"white\"}},\"header\":{\"fill\":{\"color\":\"#C8D4E3\"},\"line\":{\"color\":\"white\"}},\"type\":\"table\"}],\"barpolar\":[{\"marker\":{\"line\":{\"color\":\"#E5ECF6\",\"width\":0.5},\"pattern\":{\"fillmode\":\"overlay\",\"size\":10,\"solidity\":0.2}},\"type\":\"barpolar\"}],\"pie\":[{\"automargin\":true,\"type\":\"pie\"}]},\"layout\":{\"autotypenumbers\":\"strict\",\"colorway\":[\"#636efa\",\"#EF553B\",\"#00cc96\",\"#ab63fa\",\"#FFA15A\",\"#19d3f3\",\"#FF6692\",\"#B6E880\",\"#FF97FF\",\"#FECB52\"],\"font\":{\"color\":\"#2a3f5f\"},\"hovermode\":\"closest\",\"hoverlabel\":{\"align\":\"left\"},\"paper_bgcolor\":\"white\",\"plot_bgcolor\":\"#E5ECF6\",\"polar\":{\"bgcolor\":\"#E5ECF6\",\"angularaxis\":{\"gridcolor\":\"white\",\"linecolor\":\"white\",\"ticks\":\"\"},\"radialaxis\":{\"gridcolor\":\"white\",\"linecolor\":\"white\",\"ticks\":\"\"}},\"ternary\":{\"bgcolor\":\"#E5ECF6\",\"aaxis\":{\"gridcolor\":\"white\",\"linecolor\":\"white\",\"ticks\":\"\"},\"baxis\":{\"gridcolor\":\"white\",\"linecolor\":\"white\",\"ticks\":\"\"},\"caxis\":{\"gridcolor\":\"white\",\"linecolor\":\"white\",\"ticks\":\"\"}},\"coloraxis\":{\"colorbar\":{\"outlinewidth\":0,\"ticks\":\"\"}},\"colorscale\":{\"sequential\":[[0.0,\"#0d0887\"],[0.1111111111111111,\"#46039f\"],[0.2222222222222222,\"#7201a8\"],[0.3333333333333333,\"#9c179e\"],[0.4444444444444444,\"#bd3786\"],[0.5555555555555556,\"#d8576b\"],[0.6666666666666666,\"#ed7953\"],[0.7777777777777778,\"#fb9f3a\"],[0.8888888888888888,\"#fdca26\"],[1.0,\"#f0f921\"]],\"sequentialminus\":[[0.0,\"#0d0887\"],[0.1111111111111111,\"#46039f\"],[0.2222222222222222,\"#7201a8\"],[0.3333333333333333,\"#9c179e\"],[0.4444444444444444,\"#bd3786\"],[0.5555555555555556,\"#d8576b\"],[0.6666666666666666,\"#ed7953\"],[0.7777777777777778,\"#fb9f3a\"],[0.8888888888888888,\"#fdca26\"],[1.0,\"#f0f921\"]],\"diverging\":[[0,\"#8e0152\"],[0.1,\"#c51b7d\"],[0.2,\"#de77ae\"],[0.3,\"#f1b6da\"],[0.4,\"#fde0ef\"],[0.5,\"#f7f7f7\"],[0.6,\"#e6f5d0\"],[0.7,\"#b8e186\"],[0.8,\"#7fbc41\"],[0.9,\"#4d9221\"],[1,\"#276419\"]]},\"xaxis\":{\"gridcolor\":\"white\",\"linecolor\":\"white\",\"ticks\":\"\",\"title\":{\"standoff\":15},\"zerolinecolor\":\"white\",\"automargin\":true,\"zerolinewidth\":2},\"yaxis\":{\"gridcolor\":\"white\",\"linecolor\":\"white\",\"ticks\":\"\",\"title\":{\"standoff\":15},\"zerolinecolor\":\"white\",\"automargin\":true,\"zerolinewidth\":2},\"scene\":{\"xaxis\":{\"backgroundcolor\":\"#E5ECF6\",\"gridcolor\":\"white\",\"linecolor\":\"white\",\"showbackground\":true,\"ticks\":\"\",\"zerolinecolor\":\"white\",\"gridwidth\":2},\"yaxis\":{\"backgroundcolor\":\"#E5ECF6\",\"gridcolor\":\"white\",\"linecolor\":\"white\",\"showbackground\":true,\"ticks\":\"\",\"zerolinecolor\":\"white\",\"gridwidth\":2},\"zaxis\":{\"backgroundcolor\":\"#E5ECF6\",\"gridcolor\":\"white\",\"linecolor\":\"white\",\"showbackground\":true,\"ticks\":\"\",\"zerolinecolor\":\"white\",\"gridwidth\":2}},\"shapedefaults\":{\"line\":{\"color\":\"#2a3f5f\"}},\"annotationdefaults\":{\"arrowcolor\":\"#2a3f5f\",\"arrowhead\":0,\"arrowwidth\":1},\"geo\":{\"bgcolor\":\"white\",\"landcolor\":\"#E5ECF6\",\"subunitcolor\":\"white\",\"showland\":true,\"showlakes\":true,\"lakecolor\":\"white\"},\"title\":{\"x\":0.05},\"mapbox\":{\"style\":\"light\"}}},\"xaxis\":{\"anchor\":\"y\",\"domain\":[0.0,1.0],\"title\":{\"text\":\"index\"}},\"yaxis\":{\"anchor\":\"x\",\"domain\":[0.0,1.0],\"title\":{\"text\":\"value\"},\"type\":\"log\"},\"legend\":{\"title\":{\"text\":\"variable\"},\"tracegroupgap\":0},\"title\":{\"text\":\"Checkpoint Values for attn-only-2l (Log scale)\"}},                        {\"responsive\": true}                    ).then(function(){\n",
                            "                            \n",
                            "var gd = document.getElementById('c7196983-521b-4ec3-a93d-e9a83d4888ad');\n",
                            "var x = new MutationObserver(function (mutations, observer) {{\n",
                            "        var display = window.getComputedStyle(gd).display;\n",
                            "        if (!display || display === 'none') {{\n",
                            "            console.log([gd, 'removed!']);\n",
                            "            Plotly.purge(gd);\n",
                            "            observer.disconnect();\n",
                            "        }}\n",
                            "}});\n",
                            "\n",
                            "// Listen for the removal of the full notebook cells\n",
                            "var notebookContainer = gd.closest('#notebook-container');\n",
                            "if (notebookContainer) {{\n",
                            "    x.observe(notebookContainer, {childList: true});\n",
                            "}}\n",
                            "\n",
                            "// Listen for the clearing of the current output cell\n",
                            "var outputEl = gd.closest('.output');\n",
                            "if (outputEl) {{\n",
                            "    x.observe(outputEl, {childList: true});\n",
                            "}}\n",
                            "\n",
                            "                        })                };                            </script>        </div>\n",
                            "</body>\n",
                            "</html>"
                        ]
                    },
                    "metadata": {},
                    "output_type": "display_data"
                },
                {
                    "data": {
                        "text/html": [
                            "<html>\n",
                            "<head><meta charset=\"utf-8\" /></head>\n",
                            "<body>\n",
                            "    <div>            <script src=\"https://cdnjs.cloudflare.com/ajax/libs/mathjax/2.7.5/MathJax.js?config=TeX-AMS-MML_SVG\"></script><script type=\"text/javascript\">if (window.MathJax && window.MathJax.Hub && window.MathJax.Hub.Config) {window.MathJax.Hub.Config({SVG: {font: \"STIX-Web\"}});}</script>                <script type=\"text/javascript\">window.PlotlyConfig = {MathJaxConfig: 'local'};</script>\n",
                            "        <script src=\"https://cdn.plot.ly/plotly-2.16.1.min.js\"></script>                <div id=\"6ada1b24-ab2d-4a0e-b3a0-b25c42a2762e\" class=\"plotly-graph-div\" style=\"height:525px; width:100%;\"></div>            <script type=\"text/javascript\">                                    window.PLOTLYENV=window.PLOTLYENV || {};                                    if (document.getElementById(\"6ada1b24-ab2d-4a0e-b3a0-b25c42a2762e\")) {                    Plotly.newPlot(                        \"6ada1b24-ab2d-4a0e-b3a0-b25c42a2762e\",                        [{\"hovertemplate\":\"variable=0<br>index=%{x}<br>value=%{y}<extra></extra>\",\"legendgroup\":\"0\",\"line\":{\"color\":\"#636efa\",\"dash\":\"solid\"},\"marker\":{\"symbol\":\"circle\"},\"mode\":\"markers+lines\",\"name\":\"0\",\"orientation\":\"v\",\"showlegend\":true,\"x\":[0,1,2,3,4,5,6,7,8,9,10,11,12,13,14,15,16,17,18,19,20,21,22,23,24,25,26,27,28,29,30,31,32,33,34,35,36,37,38,39,40,41,42,43,44,45,46,47,48,49,50,51,52,53,54,55,56,57,58,59,60,61,62,63,64,65,66,67,68,69,70,71,72,73,74,75,76,77,78,79,80,81,82,83,84,85,86,87,88,89,90,91,92,93,94,95,96,97,98,99,100,101,102,103,104,105,106,107,108,109,110,111,112,113,114,115,116,117,118,119,120,121,122,123,124,125,126,127,128,129,130,131,132,133,134,135,136,137,138,139,140,141,142,143,144,145,146,147,148,149,150,151,152,153,154,155,156,157,158,159,160,161,162],\"xaxis\":\"x\",\"y\":[196608,3342336,6291456,9240576,12386304,15335424,18284544,21233664,24379392,27328512,30277632,45219840,60358656,75300864,90243072,105381888,120324096,135266304,150208512,165347328,180289536,195231744,210370560,225312768,240254976,255197184,270336000,285278208,300220416,360382464,420347904,480313344,540278784,600244224,660209664,720371712,780337152,840302592,900268032,960233472,1020198912,1080360960,1140326400,1200291840,1260257280,1320222720,1380384768,1440350208,1500315648,1560281088,1620246528,1680211968,1740374016,1800339456,1860304896,1920270336,1980235776,2040201216,2100363264,2160328704,2220294144,2280259584,2340225024,2400387072,2460352512,2520317952,2580283392,2640248832,2700214272,2760376320,2820341760,2880307200,2940272640,3000238080,3300261888,3600285696,3900309504,4200333312,4500357120,4800380928,5100208128,5400231936,5700255744,6000279552,6300303360,6600327168,6900350976,7200374784,7500201984,7800225792,8100249600,8400273408,8700297216,9000321024,9300344832,9600368640,9900392448,10200219648,10500243456,10800267264,11100291072,11400314880,11700338688,12000362496,12300386304,12600213504,12900237312,13200261120,13500284928,13800308736,14100332544,14400356352,14700380160,15000207360,15300231168,15600254976,15900278784,16200302592,16500326400,16800350208,17100374016,17400201216,17700225024,18000248832,18300272640,18600296448,18900320256,19200344064,19500367872,19800391680,20100218880,20400242688,20700266496,21000290304,21300314112,21600337920,21900361728,22200385536,22500212736,22800236544,23100260352,23400284160,23700307968,24000331776,24300355584,24600379392,24900206592,25200230400,25500254208,25800278016,26100301824,26400325632,26700349440,27000373248,27300200448,27600224256,27900248064,28200271872,28500295680,28800319488,29100343296,29400367104,29700390912],\"yaxis\":\"y\",\"type\":\"scatter\"}],                        {\"template\":{\"data\":{\"histogram2dcontour\":[{\"type\":\"histogram2dcontour\",\"colorbar\":{\"outlinewidth\":0,\"ticks\":\"\"},\"colorscale\":[[0.0,\"#0d0887\"],[0.1111111111111111,\"#46039f\"],[0.2222222222222222,\"#7201a8\"],[0.3333333333333333,\"#9c179e\"],[0.4444444444444444,\"#bd3786\"],[0.5555555555555556,\"#d8576b\"],[0.6666666666666666,\"#ed7953\"],[0.7777777777777778,\"#fb9f3a\"],[0.8888888888888888,\"#fdca26\"],[1.0,\"#f0f921\"]]}],\"choropleth\":[{\"type\":\"choropleth\",\"colorbar\":{\"outlinewidth\":0,\"ticks\":\"\"}}],\"histogram2d\":[{\"type\":\"histogram2d\",\"colorbar\":{\"outlinewidth\":0,\"ticks\":\"\"},\"colorscale\":[[0.0,\"#0d0887\"],[0.1111111111111111,\"#46039f\"],[0.2222222222222222,\"#7201a8\"],[0.3333333333333333,\"#9c179e\"],[0.4444444444444444,\"#bd3786\"],[0.5555555555555556,\"#d8576b\"],[0.6666666666666666,\"#ed7953\"],[0.7777777777777778,\"#fb9f3a\"],[0.8888888888888888,\"#fdca26\"],[1.0,\"#f0f921\"]]}],\"heatmap\":[{\"type\":\"heatmap\",\"colorbar\":{\"outlinewidth\":0,\"ticks\":\"\"},\"colorscale\":[[0.0,\"#0d0887\"],[0.1111111111111111,\"#46039f\"],[0.2222222222222222,\"#7201a8\"],[0.3333333333333333,\"#9c179e\"],[0.4444444444444444,\"#bd3786\"],[0.5555555555555556,\"#d8576b\"],[0.6666666666666666,\"#ed7953\"],[0.7777777777777778,\"#fb9f3a\"],[0.8888888888888888,\"#fdca26\"],[1.0,\"#f0f921\"]]}],\"heatmapgl\":[{\"type\":\"heatmapgl\",\"colorbar\":{\"outlinewidth\":0,\"ticks\":\"\"},\"colorscale\":[[0.0,\"#0d0887\"],[0.1111111111111111,\"#46039f\"],[0.2222222222222222,\"#7201a8\"],[0.3333333333333333,\"#9c179e\"],[0.4444444444444444,\"#bd3786\"],[0.5555555555555556,\"#d8576b\"],[0.6666666666666666,\"#ed7953\"],[0.7777777777777778,\"#fb9f3a\"],[0.8888888888888888,\"#fdca26\"],[1.0,\"#f0f921\"]]}],\"contourcarpet\":[{\"type\":\"contourcarpet\",\"colorbar\":{\"outlinewidth\":0,\"ticks\":\"\"}}],\"contour\":[{\"type\":\"contour\",\"colorbar\":{\"outlinewidth\":0,\"ticks\":\"\"},\"colorscale\":[[0.0,\"#0d0887\"],[0.1111111111111111,\"#46039f\"],[0.2222222222222222,\"#7201a8\"],[0.3333333333333333,\"#9c179e\"],[0.4444444444444444,\"#bd3786\"],[0.5555555555555556,\"#d8576b\"],[0.6666666666666666,\"#ed7953\"],[0.7777777777777778,\"#fb9f3a\"],[0.8888888888888888,\"#fdca26\"],[1.0,\"#f0f921\"]]}],\"surface\":[{\"type\":\"surface\",\"colorbar\":{\"outlinewidth\":0,\"ticks\":\"\"},\"colorscale\":[[0.0,\"#0d0887\"],[0.1111111111111111,\"#46039f\"],[0.2222222222222222,\"#7201a8\"],[0.3333333333333333,\"#9c179e\"],[0.4444444444444444,\"#bd3786\"],[0.5555555555555556,\"#d8576b\"],[0.6666666666666666,\"#ed7953\"],[0.7777777777777778,\"#fb9f3a\"],[0.8888888888888888,\"#fdca26\"],[1.0,\"#f0f921\"]]}],\"mesh3d\":[{\"type\":\"mesh3d\",\"colorbar\":{\"outlinewidth\":0,\"ticks\":\"\"}}],\"scatter\":[{\"fillpattern\":{\"fillmode\":\"overlay\",\"size\":10,\"solidity\":0.2},\"type\":\"scatter\"}],\"parcoords\":[{\"type\":\"parcoords\",\"line\":{\"colorbar\":{\"outlinewidth\":0,\"ticks\":\"\"}}}],\"scatterpolargl\":[{\"type\":\"scatterpolargl\",\"marker\":{\"colorbar\":{\"outlinewidth\":0,\"ticks\":\"\"}}}],\"bar\":[{\"error_x\":{\"color\":\"#2a3f5f\"},\"error_y\":{\"color\":\"#2a3f5f\"},\"marker\":{\"line\":{\"color\":\"#E5ECF6\",\"width\":0.5},\"pattern\":{\"fillmode\":\"overlay\",\"size\":10,\"solidity\":0.2}},\"type\":\"bar\"}],\"scattergeo\":[{\"type\":\"scattergeo\",\"marker\":{\"colorbar\":{\"outlinewidth\":0,\"ticks\":\"\"}}}],\"scatterpolar\":[{\"type\":\"scatterpolar\",\"marker\":{\"colorbar\":{\"outlinewidth\":0,\"ticks\":\"\"}}}],\"histogram\":[{\"marker\":{\"pattern\":{\"fillmode\":\"overlay\",\"size\":10,\"solidity\":0.2}},\"type\":\"histogram\"}],\"scattergl\":[{\"type\":\"scattergl\",\"marker\":{\"colorbar\":{\"outlinewidth\":0,\"ticks\":\"\"}}}],\"scatter3d\":[{\"type\":\"scatter3d\",\"line\":{\"colorbar\":{\"outlinewidth\":0,\"ticks\":\"\"}},\"marker\":{\"colorbar\":{\"outlinewidth\":0,\"ticks\":\"\"}}}],\"scattermapbox\":[{\"type\":\"scattermapbox\",\"marker\":{\"colorbar\":{\"outlinewidth\":0,\"ticks\":\"\"}}}],\"scatterternary\":[{\"type\":\"scatterternary\",\"marker\":{\"colorbar\":{\"outlinewidth\":0,\"ticks\":\"\"}}}],\"scattercarpet\":[{\"type\":\"scattercarpet\",\"marker\":{\"colorbar\":{\"outlinewidth\":0,\"ticks\":\"\"}}}],\"carpet\":[{\"aaxis\":{\"endlinecolor\":\"#2a3f5f\",\"gridcolor\":\"white\",\"linecolor\":\"white\",\"minorgridcolor\":\"white\",\"startlinecolor\":\"#2a3f5f\"},\"baxis\":{\"endlinecolor\":\"#2a3f5f\",\"gridcolor\":\"white\",\"linecolor\":\"white\",\"minorgridcolor\":\"white\",\"startlinecolor\":\"#2a3f5f\"},\"type\":\"carpet\"}],\"table\":[{\"cells\":{\"fill\":{\"color\":\"#EBF0F8\"},\"line\":{\"color\":\"white\"}},\"header\":{\"fill\":{\"color\":\"#C8D4E3\"},\"line\":{\"color\":\"white\"}},\"type\":\"table\"}],\"barpolar\":[{\"marker\":{\"line\":{\"color\":\"#E5ECF6\",\"width\":0.5},\"pattern\":{\"fillmode\":\"overlay\",\"size\":10,\"solidity\":0.2}},\"type\":\"barpolar\"}],\"pie\":[{\"automargin\":true,\"type\":\"pie\"}]},\"layout\":{\"autotypenumbers\":\"strict\",\"colorway\":[\"#636efa\",\"#EF553B\",\"#00cc96\",\"#ab63fa\",\"#FFA15A\",\"#19d3f3\",\"#FF6692\",\"#B6E880\",\"#FF97FF\",\"#FECB52\"],\"font\":{\"color\":\"#2a3f5f\"},\"hovermode\":\"closest\",\"hoverlabel\":{\"align\":\"left\"},\"paper_bgcolor\":\"white\",\"plot_bgcolor\":\"#E5ECF6\",\"polar\":{\"bgcolor\":\"#E5ECF6\",\"angularaxis\":{\"gridcolor\":\"white\",\"linecolor\":\"white\",\"ticks\":\"\"},\"radialaxis\":{\"gridcolor\":\"white\",\"linecolor\":\"white\",\"ticks\":\"\"}},\"ternary\":{\"bgcolor\":\"#E5ECF6\",\"aaxis\":{\"gridcolor\":\"white\",\"linecolor\":\"white\",\"ticks\":\"\"},\"baxis\":{\"gridcolor\":\"white\",\"linecolor\":\"white\",\"ticks\":\"\"},\"caxis\":{\"gridcolor\":\"white\",\"linecolor\":\"white\",\"ticks\":\"\"}},\"coloraxis\":{\"colorbar\":{\"outlinewidth\":0,\"ticks\":\"\"}},\"colorscale\":{\"sequential\":[[0.0,\"#0d0887\"],[0.1111111111111111,\"#46039f\"],[0.2222222222222222,\"#7201a8\"],[0.3333333333333333,\"#9c179e\"],[0.4444444444444444,\"#bd3786\"],[0.5555555555555556,\"#d8576b\"],[0.6666666666666666,\"#ed7953\"],[0.7777777777777778,\"#fb9f3a\"],[0.8888888888888888,\"#fdca26\"],[1.0,\"#f0f921\"]],\"sequentialminus\":[[0.0,\"#0d0887\"],[0.1111111111111111,\"#46039f\"],[0.2222222222222222,\"#7201a8\"],[0.3333333333333333,\"#9c179e\"],[0.4444444444444444,\"#bd3786\"],[0.5555555555555556,\"#d8576b\"],[0.6666666666666666,\"#ed7953\"],[0.7777777777777778,\"#fb9f3a\"],[0.8888888888888888,\"#fdca26\"],[1.0,\"#f0f921\"]],\"diverging\":[[0,\"#8e0152\"],[0.1,\"#c51b7d\"],[0.2,\"#de77ae\"],[0.3,\"#f1b6da\"],[0.4,\"#fde0ef\"],[0.5,\"#f7f7f7\"],[0.6,\"#e6f5d0\"],[0.7,\"#b8e186\"],[0.8,\"#7fbc41\"],[0.9,\"#4d9221\"],[1,\"#276419\"]]},\"xaxis\":{\"gridcolor\":\"white\",\"linecolor\":\"white\",\"ticks\":\"\",\"title\":{\"standoff\":15},\"zerolinecolor\":\"white\",\"automargin\":true,\"zerolinewidth\":2},\"yaxis\":{\"gridcolor\":\"white\",\"linecolor\":\"white\",\"ticks\":\"\",\"title\":{\"standoff\":15},\"zerolinecolor\":\"white\",\"automargin\":true,\"zerolinewidth\":2},\"scene\":{\"xaxis\":{\"backgroundcolor\":\"#E5ECF6\",\"gridcolor\":\"white\",\"linecolor\":\"white\",\"showbackground\":true,\"ticks\":\"\",\"zerolinecolor\":\"white\",\"gridwidth\":2},\"yaxis\":{\"backgroundcolor\":\"#E5ECF6\",\"gridcolor\":\"white\",\"linecolor\":\"white\",\"showbackground\":true,\"ticks\":\"\",\"zerolinecolor\":\"white\",\"gridwidth\":2},\"zaxis\":{\"backgroundcolor\":\"#E5ECF6\",\"gridcolor\":\"white\",\"linecolor\":\"white\",\"showbackground\":true,\"ticks\":\"\",\"zerolinecolor\":\"white\",\"gridwidth\":2}},\"shapedefaults\":{\"line\":{\"color\":\"#2a3f5f\"}},\"annotationdefaults\":{\"arrowcolor\":\"#2a3f5f\",\"arrowhead\":0,\"arrowwidth\":1},\"geo\":{\"bgcolor\":\"white\",\"landcolor\":\"#E5ECF6\",\"subunitcolor\":\"white\",\"showland\":true,\"showlakes\":true,\"lakecolor\":\"white\"},\"title\":{\"x\":0.05},\"mapbox\":{\"style\":\"light\"}}},\"xaxis\":{\"anchor\":\"y\",\"domain\":[0.0,1.0],\"title\":{\"text\":\"index\"}},\"yaxis\":{\"anchor\":\"x\",\"domain\":[0.0,1.0],\"title\":{\"text\":\"value\"},\"type\":\"log\"},\"legend\":{\"title\":{\"text\":\"variable\"},\"tracegroupgap\":0},\"title\":{\"text\":\"Checkpoint Values for solu-12l (Log scale)\"}},                        {\"responsive\": true}                    ).then(function(){\n",
                            "                            \n",
                            "var gd = document.getElementById('6ada1b24-ab2d-4a0e-b3a0-b25c42a2762e');\n",
                            "var x = new MutationObserver(function (mutations, observer) {{\n",
                            "        var display = window.getComputedStyle(gd).display;\n",
                            "        if (!display || display === 'none') {{\n",
                            "            console.log([gd, 'removed!']);\n",
                            "            Plotly.purge(gd);\n",
                            "            observer.disconnect();\n",
                            "        }}\n",
                            "}});\n",
                            "\n",
                            "// Listen for the removal of the full notebook cells\n",
                            "var notebookContainer = gd.closest('#notebook-container');\n",
                            "if (notebookContainer) {{\n",
                            "    x.observe(notebookContainer, {childList: true});\n",
                            "}}\n",
                            "\n",
                            "// Listen for the clearing of the current output cell\n",
                            "var outputEl = gd.closest('.output');\n",
                            "if (outputEl) {{\n",
                            "    x.observe(outputEl, {childList: true});\n",
                            "}}\n",
                            "\n",
                            "                        })                };                            </script>        </div>\n",
                            "</body>\n",
                            "</html>"
                        ]
                    },
                    "metadata": {},
                    "output_type": "display_data"
                },
                {
                    "data": {
                        "text/html": [
                            "<html>\n",
                            "<head><meta charset=\"utf-8\" /></head>\n",
                            "<body>\n",
                            "    <div>            <script src=\"https://cdnjs.cloudflare.com/ajax/libs/mathjax/2.7.5/MathJax.js?config=TeX-AMS-MML_SVG\"></script><script type=\"text/javascript\">if (window.MathJax && window.MathJax.Hub && window.MathJax.Hub.Config) {window.MathJax.Hub.Config({SVG: {font: \"STIX-Web\"}});}</script>                <script type=\"text/javascript\">window.PlotlyConfig = {MathJaxConfig: 'local'};</script>\n",
                            "        <script src=\"https://cdn.plot.ly/plotly-2.16.1.min.js\"></script>                <div id=\"87c7d210-cc47-4c30-be57-2c8152b6d491\" class=\"plotly-graph-div\" style=\"height:525px; width:100%;\"></div>            <script type=\"text/javascript\">                                    window.PLOTLYENV=window.PLOTLYENV || {};                                    if (document.getElementById(\"87c7d210-cc47-4c30-be57-2c8152b6d491\")) {                    Plotly.newPlot(                        \"87c7d210-cc47-4c30-be57-2c8152b6d491\",                        [{\"hovertemplate\":\"variable=0<br>index=%{x}<br>value=%{y}<extra></extra>\",\"legendgroup\":\"0\",\"line\":{\"color\":\"#636efa\",\"dash\":\"solid\"},\"marker\":{\"symbol\":\"circle\"},\"mode\":\"markers+lines\",\"name\":\"0\",\"orientation\":\"v\",\"showlegend\":true,\"x\":[0,1,2,3,4,5,6,7,8,9,10,11,12,13,14,15,16,17,18,19,20,21,22,23,24,25,26,27,28,29,30,31,32,33,34,35,36,37,38,39,40,41,42,43,44,45,46,47,48,49,50,51,52,53,54,55,56,57,58,59,60,61,62,63,64,65,66,67,68,69,70,71,72,73,74,75,76,77,78,79,80,81,82,83,84,85,86,87,88,89,90,91,92,93,94,95,96,97,98,99,100,101,102,103,104,105,106,107,108,109,110,111,112,113,114,115,116,117,118,119,120,121,122,123,124,125,126,127,128,129,130,131,132,133,134,135,136,137,138,139,140,141,142,143,144,145,146,147,148,149,150,151,152,153,154,155,156,157,158,159,160,161,162,163,164,165,166,167,168,169,170,171,172,173,174,175,176,177,178,179,180,181,182,183,184,185,186,187,188,189,190,191,192,193,194,195,196,197,198,199,200,201,202,203,204,205,206,207,208,209,210,211,212,213,214,215,216,217,218,219,220,221,222,223,224,225,226,227,228,229,230,231,232,233,234,235,236,237,238,239,240,241,242,243,244,245,246,247,248,249,250,251,252,253,254,255,256,257,258,259,260,261,262,263,264,265,266,267,268,269,270,271,272,273,274,275,276,277,278,279,280,281,282,283,284,285,286,287,288,289,290,291,292,293,294,295,296,297,298,299,300,301,302,303,304,305,306,307,308,309,310,311,312,313,314,315,316,317,318,319,320,321,322,323,324,325,326,327,328,329,330,331,332,333,334,335,336,337,338,339,340,341,342,343,344,345,346,347,348,349,350,351,352,353,354,355,356,357,358,359,360,361,362,363,364,365,366,367,368,369,370,371,372,373,374,375,376,377,378,379,380,381,382,383,384,385,386,387,388,389,390,391,392,393,394,395,396,397,398,399,400,401,402,403,404,405,406,407,408,409,410,411,412,413,414,415,416,417,418,419,420,421,422,423,424,425,426,427,428,429,430,431,432,433,434,435,436,437,438,439,440,441,442,443,444,445,446,447,448,449,450,451,452,453,454,455,456,457,458,459,460,461,462,463,464,465,466,467,468,469,470,471,472,473,474,475,476,477,478,479,480,481,482,483,484,485,486,487,488,489,490,491,492,493,494,495,496,497,498,499,500,501,502,503,504,505,506,507,508,509,510,511,512,513,514,515,516,517,518,519,520,521,522,523,524,525,526,527,528,529,530,531,532,533,534,535,536,537,538,539,540,541,542,543,544,545,546,547,548,549,550,551,552,553,554,555,556,557,558,559,560,561,562,563,564,565,566,567,568,569,570,571,572,573,574,575,576,577,578,579,580,581,582,583,584,585,586,587,588,589,590,591,592,593,594,595,596,597,598,599,600,601,602,603,604,605,606,607,608],\"xaxis\":\"x\",\"y\":[0,10,20,30,40,50,60,70,80,90,100,150,200,250,300,350,400,450,500,550,600,650,700,750,800,850,900,950,1000,1050,1100,1150,1200,1250,1300,1350,1400,1450,1500,1550,1600,1650,1700,1750,1800,1850,1900,1950,2000,2100,2200,2300,2400,2500,2600,2700,2800,2900,3000,3100,3200,3300,3400,3500,3600,3700,3800,3900,4000,4100,4200,4300,4400,4500,4600,4700,4800,4900,5000,5100,5200,5300,5400,5500,5600,5700,5800,5900,6000,6100,6200,6300,6400,6500,6600,6700,6800,6900,7000,7100,7200,7300,7400,7500,7600,7700,7800,7900,8000,8100,8200,8300,8400,8500,8600,8700,8800,8900,9000,9100,9200,9300,9400,9500,9600,9700,9800,9900,10000,10100,10200,10300,10400,10500,10600,10700,10800,10900,11000,11100,11200,11300,11400,11500,11600,11700,11800,11900,12000,12100,12200,12300,12400,12500,12600,12700,12800,12900,13000,13100,13200,13300,13400,13500,13600,13700,13800,13900,14000,14100,14200,14300,14400,14500,14600,14700,14800,14900,15000,15100,15200,15300,15400,15500,15600,15700,15800,15900,16000,16100,16200,16300,16400,16500,16600,16700,16800,16900,17000,17100,17200,17300,17400,17500,17600,17700,17800,17900,18000,18100,18200,18300,18400,18500,18600,18700,18800,18900,19000,19100,19200,19300,19400,19500,19600,19700,19800,19900,20000,21000,22000,23000,24000,25000,26000,27000,28000,29000,30000,31000,32000,33000,34000,35000,36000,37000,38000,39000,40000,41000,42000,43000,44000,45000,46000,47000,48000,49000,50000,51000,52000,53000,54000,55000,56000,57000,58000,59000,60000,61000,62000,63000,64000,65000,66000,67000,68000,69000,70000,71000,72000,73000,74000,75000,76000,77000,78000,79000,80000,81000,82000,83000,84000,85000,86000,87000,88000,89000,90000,91000,92000,93000,94000,95000,96000,97000,98000,99000,100000,101000,102000,103000,104000,105000,106000,107000,108000,109000,110000,111000,112000,113000,114000,115000,116000,117000,118000,119000,120000,121000,122000,123000,124000,125000,126000,127000,128000,129000,130000,131000,132000,133000,134000,135000,136000,137000,138000,139000,140000,141000,142000,143000,144000,145000,146000,147000,148000,149000,150000,151000,152000,153000,154000,155000,156000,157000,158000,159000,160000,161000,162000,163000,164000,165000,166000,167000,168000,169000,170000,171000,172000,173000,174000,175000,176000,177000,178000,179000,180000,181000,182000,183000,184000,185000,186000,187000,188000,189000,190000,191000,192000,193000,194000,195000,196000,197000,198000,199000,200000,201000,202000,203000,204000,205000,206000,207000,208000,209000,210000,211000,212000,213000,214000,215000,216000,217000,218000,219000,220000,221000,222000,223000,224000,225000,226000,227000,228000,229000,230000,231000,232000,233000,234000,235000,236000,237000,238000,239000,240000,241000,242000,243000,244000,245000,246000,247000,248000,249000,250000,251000,252000,253000,254000,255000,256000,257000,258000,259000,260000,261000,262000,263000,264000,265000,266000,267000,268000,269000,270000,271000,272000,273000,274000,275000,276000,277000,278000,279000,280000,281000,282000,283000,284000,285000,286000,287000,288000,289000,290000,291000,292000,293000,294000,295000,296000,297000,298000,299000,300000,301000,302000,303000,304000,305000,306000,307000,308000,309000,310000,311000,312000,313000,314000,315000,316000,317000,318000,319000,320000,321000,322000,323000,324000,325000,326000,327000,328000,329000,330000,331000,332000,333000,334000,335000,336000,337000,338000,339000,340000,341000,342000,343000,344000,345000,346000,347000,348000,349000,350000,351000,352000,353000,354000,355000,356000,357000,358000,359000,360000,361000,362000,363000,364000,365000,366000,367000,368000,369000,370000,371000,372000,373000,374000,375000,376000,377000,378000,379000,380000,381000,382000,383000,384000,385000,386000,387000,388000,389000,390000,391000,392000,393000,394000,395000,396000,397000,398000,399000,400000],\"yaxis\":\"y\",\"type\":\"scatter\"}],                        {\"template\":{\"data\":{\"histogram2dcontour\":[{\"type\":\"histogram2dcontour\",\"colorbar\":{\"outlinewidth\":0,\"ticks\":\"\"},\"colorscale\":[[0.0,\"#0d0887\"],[0.1111111111111111,\"#46039f\"],[0.2222222222222222,\"#7201a8\"],[0.3333333333333333,\"#9c179e\"],[0.4444444444444444,\"#bd3786\"],[0.5555555555555556,\"#d8576b\"],[0.6666666666666666,\"#ed7953\"],[0.7777777777777778,\"#fb9f3a\"],[0.8888888888888888,\"#fdca26\"],[1.0,\"#f0f921\"]]}],\"choropleth\":[{\"type\":\"choropleth\",\"colorbar\":{\"outlinewidth\":0,\"ticks\":\"\"}}],\"histogram2d\":[{\"type\":\"histogram2d\",\"colorbar\":{\"outlinewidth\":0,\"ticks\":\"\"},\"colorscale\":[[0.0,\"#0d0887\"],[0.1111111111111111,\"#46039f\"],[0.2222222222222222,\"#7201a8\"],[0.3333333333333333,\"#9c179e\"],[0.4444444444444444,\"#bd3786\"],[0.5555555555555556,\"#d8576b\"],[0.6666666666666666,\"#ed7953\"],[0.7777777777777778,\"#fb9f3a\"],[0.8888888888888888,\"#fdca26\"],[1.0,\"#f0f921\"]]}],\"heatmap\":[{\"type\":\"heatmap\",\"colorbar\":{\"outlinewidth\":0,\"ticks\":\"\"},\"colorscale\":[[0.0,\"#0d0887\"],[0.1111111111111111,\"#46039f\"],[0.2222222222222222,\"#7201a8\"],[0.3333333333333333,\"#9c179e\"],[0.4444444444444444,\"#bd3786\"],[0.5555555555555556,\"#d8576b\"],[0.6666666666666666,\"#ed7953\"],[0.7777777777777778,\"#fb9f3a\"],[0.8888888888888888,\"#fdca26\"],[1.0,\"#f0f921\"]]}],\"heatmapgl\":[{\"type\":\"heatmapgl\",\"colorbar\":{\"outlinewidth\":0,\"ticks\":\"\"},\"colorscale\":[[0.0,\"#0d0887\"],[0.1111111111111111,\"#46039f\"],[0.2222222222222222,\"#7201a8\"],[0.3333333333333333,\"#9c179e\"],[0.4444444444444444,\"#bd3786\"],[0.5555555555555556,\"#d8576b\"],[0.6666666666666666,\"#ed7953\"],[0.7777777777777778,\"#fb9f3a\"],[0.8888888888888888,\"#fdca26\"],[1.0,\"#f0f921\"]]}],\"contourcarpet\":[{\"type\":\"contourcarpet\",\"colorbar\":{\"outlinewidth\":0,\"ticks\":\"\"}}],\"contour\":[{\"type\":\"contour\",\"colorbar\":{\"outlinewidth\":0,\"ticks\":\"\"},\"colorscale\":[[0.0,\"#0d0887\"],[0.1111111111111111,\"#46039f\"],[0.2222222222222222,\"#7201a8\"],[0.3333333333333333,\"#9c179e\"],[0.4444444444444444,\"#bd3786\"],[0.5555555555555556,\"#d8576b\"],[0.6666666666666666,\"#ed7953\"],[0.7777777777777778,\"#fb9f3a\"],[0.8888888888888888,\"#fdca26\"],[1.0,\"#f0f921\"]]}],\"surface\":[{\"type\":\"surface\",\"colorbar\":{\"outlinewidth\":0,\"ticks\":\"\"},\"colorscale\":[[0.0,\"#0d0887\"],[0.1111111111111111,\"#46039f\"],[0.2222222222222222,\"#7201a8\"],[0.3333333333333333,\"#9c179e\"],[0.4444444444444444,\"#bd3786\"],[0.5555555555555556,\"#d8576b\"],[0.6666666666666666,\"#ed7953\"],[0.7777777777777778,\"#fb9f3a\"],[0.8888888888888888,\"#fdca26\"],[1.0,\"#f0f921\"]]}],\"mesh3d\":[{\"type\":\"mesh3d\",\"colorbar\":{\"outlinewidth\":0,\"ticks\":\"\"}}],\"scatter\":[{\"fillpattern\":{\"fillmode\":\"overlay\",\"size\":10,\"solidity\":0.2},\"type\":\"scatter\"}],\"parcoords\":[{\"type\":\"parcoords\",\"line\":{\"colorbar\":{\"outlinewidth\":0,\"ticks\":\"\"}}}],\"scatterpolargl\":[{\"type\":\"scatterpolargl\",\"marker\":{\"colorbar\":{\"outlinewidth\":0,\"ticks\":\"\"}}}],\"bar\":[{\"error_x\":{\"color\":\"#2a3f5f\"},\"error_y\":{\"color\":\"#2a3f5f\"},\"marker\":{\"line\":{\"color\":\"#E5ECF6\",\"width\":0.5},\"pattern\":{\"fillmode\":\"overlay\",\"size\":10,\"solidity\":0.2}},\"type\":\"bar\"}],\"scattergeo\":[{\"type\":\"scattergeo\",\"marker\":{\"colorbar\":{\"outlinewidth\":0,\"ticks\":\"\"}}}],\"scatterpolar\":[{\"type\":\"scatterpolar\",\"marker\":{\"colorbar\":{\"outlinewidth\":0,\"ticks\":\"\"}}}],\"histogram\":[{\"marker\":{\"pattern\":{\"fillmode\":\"overlay\",\"size\":10,\"solidity\":0.2}},\"type\":\"histogram\"}],\"scattergl\":[{\"type\":\"scattergl\",\"marker\":{\"colorbar\":{\"outlinewidth\":0,\"ticks\":\"\"}}}],\"scatter3d\":[{\"type\":\"scatter3d\",\"line\":{\"colorbar\":{\"outlinewidth\":0,\"ticks\":\"\"}},\"marker\":{\"colorbar\":{\"outlinewidth\":0,\"ticks\":\"\"}}}],\"scattermapbox\":[{\"type\":\"scattermapbox\",\"marker\":{\"colorbar\":{\"outlinewidth\":0,\"ticks\":\"\"}}}],\"scatterternary\":[{\"type\":\"scatterternary\",\"marker\":{\"colorbar\":{\"outlinewidth\":0,\"ticks\":\"\"}}}],\"scattercarpet\":[{\"type\":\"scattercarpet\",\"marker\":{\"colorbar\":{\"outlinewidth\":0,\"ticks\":\"\"}}}],\"carpet\":[{\"aaxis\":{\"endlinecolor\":\"#2a3f5f\",\"gridcolor\":\"white\",\"linecolor\":\"white\",\"minorgridcolor\":\"white\",\"startlinecolor\":\"#2a3f5f\"},\"baxis\":{\"endlinecolor\":\"#2a3f5f\",\"gridcolor\":\"white\",\"linecolor\":\"white\",\"minorgridcolor\":\"white\",\"startlinecolor\":\"#2a3f5f\"},\"type\":\"carpet\"}],\"table\":[{\"cells\":{\"fill\":{\"color\":\"#EBF0F8\"},\"line\":{\"color\":\"white\"}},\"header\":{\"fill\":{\"color\":\"#C8D4E3\"},\"line\":{\"color\":\"white\"}},\"type\":\"table\"}],\"barpolar\":[{\"marker\":{\"line\":{\"color\":\"#E5ECF6\",\"width\":0.5},\"pattern\":{\"fillmode\":\"overlay\",\"size\":10,\"solidity\":0.2}},\"type\":\"barpolar\"}],\"pie\":[{\"automargin\":true,\"type\":\"pie\"}]},\"layout\":{\"autotypenumbers\":\"strict\",\"colorway\":[\"#636efa\",\"#EF553B\",\"#00cc96\",\"#ab63fa\",\"#FFA15A\",\"#19d3f3\",\"#FF6692\",\"#B6E880\",\"#FF97FF\",\"#FECB52\"],\"font\":{\"color\":\"#2a3f5f\"},\"hovermode\":\"closest\",\"hoverlabel\":{\"align\":\"left\"},\"paper_bgcolor\":\"white\",\"plot_bgcolor\":\"#E5ECF6\",\"polar\":{\"bgcolor\":\"#E5ECF6\",\"angularaxis\":{\"gridcolor\":\"white\",\"linecolor\":\"white\",\"ticks\":\"\"},\"radialaxis\":{\"gridcolor\":\"white\",\"linecolor\":\"white\",\"ticks\":\"\"}},\"ternary\":{\"bgcolor\":\"#E5ECF6\",\"aaxis\":{\"gridcolor\":\"white\",\"linecolor\":\"white\",\"ticks\":\"\"},\"baxis\":{\"gridcolor\":\"white\",\"linecolor\":\"white\",\"ticks\":\"\"},\"caxis\":{\"gridcolor\":\"white\",\"linecolor\":\"white\",\"ticks\":\"\"}},\"coloraxis\":{\"colorbar\":{\"outlinewidth\":0,\"ticks\":\"\"}},\"colorscale\":{\"sequential\":[[0.0,\"#0d0887\"],[0.1111111111111111,\"#46039f\"],[0.2222222222222222,\"#7201a8\"],[0.3333333333333333,\"#9c179e\"],[0.4444444444444444,\"#bd3786\"],[0.5555555555555556,\"#d8576b\"],[0.6666666666666666,\"#ed7953\"],[0.7777777777777778,\"#fb9f3a\"],[0.8888888888888888,\"#fdca26\"],[1.0,\"#f0f921\"]],\"sequentialminus\":[[0.0,\"#0d0887\"],[0.1111111111111111,\"#46039f\"],[0.2222222222222222,\"#7201a8\"],[0.3333333333333333,\"#9c179e\"],[0.4444444444444444,\"#bd3786\"],[0.5555555555555556,\"#d8576b\"],[0.6666666666666666,\"#ed7953\"],[0.7777777777777778,\"#fb9f3a\"],[0.8888888888888888,\"#fdca26\"],[1.0,\"#f0f921\"]],\"diverging\":[[0,\"#8e0152\"],[0.1,\"#c51b7d\"],[0.2,\"#de77ae\"],[0.3,\"#f1b6da\"],[0.4,\"#fde0ef\"],[0.5,\"#f7f7f7\"],[0.6,\"#e6f5d0\"],[0.7,\"#b8e186\"],[0.8,\"#7fbc41\"],[0.9,\"#4d9221\"],[1,\"#276419\"]]},\"xaxis\":{\"gridcolor\":\"white\",\"linecolor\":\"white\",\"ticks\":\"\",\"title\":{\"standoff\":15},\"zerolinecolor\":\"white\",\"automargin\":true,\"zerolinewidth\":2},\"yaxis\":{\"gridcolor\":\"white\",\"linecolor\":\"white\",\"ticks\":\"\",\"title\":{\"standoff\":15},\"zerolinecolor\":\"white\",\"automargin\":true,\"zerolinewidth\":2},\"scene\":{\"xaxis\":{\"backgroundcolor\":\"#E5ECF6\",\"gridcolor\":\"white\",\"linecolor\":\"white\",\"showbackground\":true,\"ticks\":\"\",\"zerolinecolor\":\"white\",\"gridwidth\":2},\"yaxis\":{\"backgroundcolor\":\"#E5ECF6\",\"gridcolor\":\"white\",\"linecolor\":\"white\",\"showbackground\":true,\"ticks\":\"\",\"zerolinecolor\":\"white\",\"gridwidth\":2},\"zaxis\":{\"backgroundcolor\":\"#E5ECF6\",\"gridcolor\":\"white\",\"linecolor\":\"white\",\"showbackground\":true,\"ticks\":\"\",\"zerolinecolor\":\"white\",\"gridwidth\":2}},\"shapedefaults\":{\"line\":{\"color\":\"#2a3f5f\"}},\"annotationdefaults\":{\"arrowcolor\":\"#2a3f5f\",\"arrowhead\":0,\"arrowwidth\":1},\"geo\":{\"bgcolor\":\"white\",\"landcolor\":\"#E5ECF6\",\"subunitcolor\":\"white\",\"showland\":true,\"showlakes\":true,\"lakecolor\":\"white\"},\"title\":{\"x\":0.05},\"mapbox\":{\"style\":\"light\"}}},\"xaxis\":{\"anchor\":\"y\",\"domain\":[0.0,1.0],\"title\":{\"text\":\"index\"}},\"yaxis\":{\"anchor\":\"x\",\"domain\":[0.0,1.0],\"title\":{\"text\":\"value\"},\"type\":\"log\"},\"legend\":{\"title\":{\"text\":\"variable\"},\"tracegroupgap\":0},\"title\":{\"text\":\"Checkpoint Values for stanford-gpt2-small-a (Log scale)\"}},                        {\"responsive\": true}                    ).then(function(){\n",
                            "                            \n",
                            "var gd = document.getElementById('87c7d210-cc47-4c30-be57-2c8152b6d491');\n",
                            "var x = new MutationObserver(function (mutations, observer) {{\n",
                            "        var display = window.getComputedStyle(gd).display;\n",
                            "        if (!display || display === 'none') {{\n",
                            "            console.log([gd, 'removed!']);\n",
                            "            Plotly.purge(gd);\n",
                            "            observer.disconnect();\n",
                            "        }}\n",
                            "}});\n",
                            "\n",
                            "// Listen for the removal of the full notebook cells\n",
                            "var notebookContainer = gd.closest('#notebook-container');\n",
                            "if (notebookContainer) {{\n",
                            "    x.observe(notebookContainer, {childList: true});\n",
                            "}}\n",
                            "\n",
                            "// Listen for the clearing of the current output cell\n",
                            "var outputEl = gd.closest('.output');\n",
                            "if (outputEl) {{\n",
                            "    x.observe(outputEl, {childList: true});\n",
                            "}}\n",
                            "\n",
                            "                        })                };                            </script>        </div>\n",
                            "</body>\n",
                            "</html>"
                        ]
                    },
                    "metadata": {},
                    "output_type": "display_data"
                },
                {
                    "data": {
                        "text/html": [
                            "<html>\n",
                            "<head><meta charset=\"utf-8\" /></head>\n",
                            "<body>\n",
                            "    <div>            <script src=\"https://cdnjs.cloudflare.com/ajax/libs/mathjax/2.7.5/MathJax.js?config=TeX-AMS-MML_SVG\"></script><script type=\"text/javascript\">if (window.MathJax && window.MathJax.Hub && window.MathJax.Hub.Config) {window.MathJax.Hub.Config({SVG: {font: \"STIX-Web\"}});}</script>                <script type=\"text/javascript\">window.PlotlyConfig = {MathJaxConfig: 'local'};</script>\n",
                            "        <script src=\"https://cdn.plot.ly/plotly-2.16.1.min.js\"></script>                <div id=\"3614b7fd-aa3e-4b49-a7d7-215d10df33e5\" class=\"plotly-graph-div\" style=\"height:525px; width:100%;\"></div>            <script type=\"text/javascript\">                                    window.PLOTLYENV=window.PLOTLYENV || {};                                    if (document.getElementById(\"3614b7fd-aa3e-4b49-a7d7-215d10df33e5\")) {                    Plotly.newPlot(                        \"3614b7fd-aa3e-4b49-a7d7-215d10df33e5\",                        [{\"hovertemplate\":\"variable=0<br>index=%{x}<br>value=%{y}<extra></extra>\",\"legendgroup\":\"0\",\"line\":{\"color\":\"#636efa\",\"dash\":\"solid\"},\"marker\":{\"symbol\":\"circle\"},\"mode\":\"markers+lines\",\"name\":\"0\",\"orientation\":\"v\",\"showlegend\":true,\"x\":[0,1,2,3,4,5,6,7,8,9,10,11,12,13,14,15,16,17,18,19,20,21,22,23,24,25,26,27,28,29,30,31,32,33,34,35,36,37,38,39,40,41,42,43,44,45,46,47,48,49],\"xaxis\":\"x\",\"y\":[832,1664,2496,3328,4160,4992,5824,6656,7488,8320,9152,9984,10816,11648,12480,13312,14144,14976,15808,16640,17472,18304,19136,19968,20800,21632,22464,23296,24128,24960,25792,26624,27456,28288,29120,29952,30784,31616,32448,33280,34112,34944,35776,36608,37440,38272,39104,39936,40768,41600],\"yaxis\":\"y\",\"type\":\"scatter\"}],                        {\"template\":{\"data\":{\"histogram2dcontour\":[{\"type\":\"histogram2dcontour\",\"colorbar\":{\"outlinewidth\":0,\"ticks\":\"\"},\"colorscale\":[[0.0,\"#0d0887\"],[0.1111111111111111,\"#46039f\"],[0.2222222222222222,\"#7201a8\"],[0.3333333333333333,\"#9c179e\"],[0.4444444444444444,\"#bd3786\"],[0.5555555555555556,\"#d8576b\"],[0.6666666666666666,\"#ed7953\"],[0.7777777777777778,\"#fb9f3a\"],[0.8888888888888888,\"#fdca26\"],[1.0,\"#f0f921\"]]}],\"choropleth\":[{\"type\":\"choropleth\",\"colorbar\":{\"outlinewidth\":0,\"ticks\":\"\"}}],\"histogram2d\":[{\"type\":\"histogram2d\",\"colorbar\":{\"outlinewidth\":0,\"ticks\":\"\"},\"colorscale\":[[0.0,\"#0d0887\"],[0.1111111111111111,\"#46039f\"],[0.2222222222222222,\"#7201a8\"],[0.3333333333333333,\"#9c179e\"],[0.4444444444444444,\"#bd3786\"],[0.5555555555555556,\"#d8576b\"],[0.6666666666666666,\"#ed7953\"],[0.7777777777777778,\"#fb9f3a\"],[0.8888888888888888,\"#fdca26\"],[1.0,\"#f0f921\"]]}],\"heatmap\":[{\"type\":\"heatmap\",\"colorbar\":{\"outlinewidth\":0,\"ticks\":\"\"},\"colorscale\":[[0.0,\"#0d0887\"],[0.1111111111111111,\"#46039f\"],[0.2222222222222222,\"#7201a8\"],[0.3333333333333333,\"#9c179e\"],[0.4444444444444444,\"#bd3786\"],[0.5555555555555556,\"#d8576b\"],[0.6666666666666666,\"#ed7953\"],[0.7777777777777778,\"#fb9f3a\"],[0.8888888888888888,\"#fdca26\"],[1.0,\"#f0f921\"]]}],\"heatmapgl\":[{\"type\":\"heatmapgl\",\"colorbar\":{\"outlinewidth\":0,\"ticks\":\"\"},\"colorscale\":[[0.0,\"#0d0887\"],[0.1111111111111111,\"#46039f\"],[0.2222222222222222,\"#7201a8\"],[0.3333333333333333,\"#9c179e\"],[0.4444444444444444,\"#bd3786\"],[0.5555555555555556,\"#d8576b\"],[0.6666666666666666,\"#ed7953\"],[0.7777777777777778,\"#fb9f3a\"],[0.8888888888888888,\"#fdca26\"],[1.0,\"#f0f921\"]]}],\"contourcarpet\":[{\"type\":\"contourcarpet\",\"colorbar\":{\"outlinewidth\":0,\"ticks\":\"\"}}],\"contour\":[{\"type\":\"contour\",\"colorbar\":{\"outlinewidth\":0,\"ticks\":\"\"},\"colorscale\":[[0.0,\"#0d0887\"],[0.1111111111111111,\"#46039f\"],[0.2222222222222222,\"#7201a8\"],[0.3333333333333333,\"#9c179e\"],[0.4444444444444444,\"#bd3786\"],[0.5555555555555556,\"#d8576b\"],[0.6666666666666666,\"#ed7953\"],[0.7777777777777778,\"#fb9f3a\"],[0.8888888888888888,\"#fdca26\"],[1.0,\"#f0f921\"]]}],\"surface\":[{\"type\":\"surface\",\"colorbar\":{\"outlinewidth\":0,\"ticks\":\"\"},\"colorscale\":[[0.0,\"#0d0887\"],[0.1111111111111111,\"#46039f\"],[0.2222222222222222,\"#7201a8\"],[0.3333333333333333,\"#9c179e\"],[0.4444444444444444,\"#bd3786\"],[0.5555555555555556,\"#d8576b\"],[0.6666666666666666,\"#ed7953\"],[0.7777777777777778,\"#fb9f3a\"],[0.8888888888888888,\"#fdca26\"],[1.0,\"#f0f921\"]]}],\"mesh3d\":[{\"type\":\"mesh3d\",\"colorbar\":{\"outlinewidth\":0,\"ticks\":\"\"}}],\"scatter\":[{\"fillpattern\":{\"fillmode\":\"overlay\",\"size\":10,\"solidity\":0.2},\"type\":\"scatter\"}],\"parcoords\":[{\"type\":\"parcoords\",\"line\":{\"colorbar\":{\"outlinewidth\":0,\"ticks\":\"\"}}}],\"scatterpolargl\":[{\"type\":\"scatterpolargl\",\"marker\":{\"colorbar\":{\"outlinewidth\":0,\"ticks\":\"\"}}}],\"bar\":[{\"error_x\":{\"color\":\"#2a3f5f\"},\"error_y\":{\"color\":\"#2a3f5f\"},\"marker\":{\"line\":{\"color\":\"#E5ECF6\",\"width\":0.5},\"pattern\":{\"fillmode\":\"overlay\",\"size\":10,\"solidity\":0.2}},\"type\":\"bar\"}],\"scattergeo\":[{\"type\":\"scattergeo\",\"marker\":{\"colorbar\":{\"outlinewidth\":0,\"ticks\":\"\"}}}],\"scatterpolar\":[{\"type\":\"scatterpolar\",\"marker\":{\"colorbar\":{\"outlinewidth\":0,\"ticks\":\"\"}}}],\"histogram\":[{\"marker\":{\"pattern\":{\"fillmode\":\"overlay\",\"size\":10,\"solidity\":0.2}},\"type\":\"histogram\"}],\"scattergl\":[{\"type\":\"scattergl\",\"marker\":{\"colorbar\":{\"outlinewidth\":0,\"ticks\":\"\"}}}],\"scatter3d\":[{\"type\":\"scatter3d\",\"line\":{\"colorbar\":{\"outlinewidth\":0,\"ticks\":\"\"}},\"marker\":{\"colorbar\":{\"outlinewidth\":0,\"ticks\":\"\"}}}],\"scattermapbox\":[{\"type\":\"scattermapbox\",\"marker\":{\"colorbar\":{\"outlinewidth\":0,\"ticks\":\"\"}}}],\"scatterternary\":[{\"type\":\"scatterternary\",\"marker\":{\"colorbar\":{\"outlinewidth\":0,\"ticks\":\"\"}}}],\"scattercarpet\":[{\"type\":\"scattercarpet\",\"marker\":{\"colorbar\":{\"outlinewidth\":0,\"ticks\":\"\"}}}],\"carpet\":[{\"aaxis\":{\"endlinecolor\":\"#2a3f5f\",\"gridcolor\":\"white\",\"linecolor\":\"white\",\"minorgridcolor\":\"white\",\"startlinecolor\":\"#2a3f5f\"},\"baxis\":{\"endlinecolor\":\"#2a3f5f\",\"gridcolor\":\"white\",\"linecolor\":\"white\",\"minorgridcolor\":\"white\",\"startlinecolor\":\"#2a3f5f\"},\"type\":\"carpet\"}],\"table\":[{\"cells\":{\"fill\":{\"color\":\"#EBF0F8\"},\"line\":{\"color\":\"white\"}},\"header\":{\"fill\":{\"color\":\"#C8D4E3\"},\"line\":{\"color\":\"white\"}},\"type\":\"table\"}],\"barpolar\":[{\"marker\":{\"line\":{\"color\":\"#E5ECF6\",\"width\":0.5},\"pattern\":{\"fillmode\":\"overlay\",\"size\":10,\"solidity\":0.2}},\"type\":\"barpolar\"}],\"pie\":[{\"automargin\":true,\"type\":\"pie\"}]},\"layout\":{\"autotypenumbers\":\"strict\",\"colorway\":[\"#636efa\",\"#EF553B\",\"#00cc96\",\"#ab63fa\",\"#FFA15A\",\"#19d3f3\",\"#FF6692\",\"#B6E880\",\"#FF97FF\",\"#FECB52\"],\"font\":{\"color\":\"#2a3f5f\"},\"hovermode\":\"closest\",\"hoverlabel\":{\"align\":\"left\"},\"paper_bgcolor\":\"white\",\"plot_bgcolor\":\"#E5ECF6\",\"polar\":{\"bgcolor\":\"#E5ECF6\",\"angularaxis\":{\"gridcolor\":\"white\",\"linecolor\":\"white\",\"ticks\":\"\"},\"radialaxis\":{\"gridcolor\":\"white\",\"linecolor\":\"white\",\"ticks\":\"\"}},\"ternary\":{\"bgcolor\":\"#E5ECF6\",\"aaxis\":{\"gridcolor\":\"white\",\"linecolor\":\"white\",\"ticks\":\"\"},\"baxis\":{\"gridcolor\":\"white\",\"linecolor\":\"white\",\"ticks\":\"\"},\"caxis\":{\"gridcolor\":\"white\",\"linecolor\":\"white\",\"ticks\":\"\"}},\"coloraxis\":{\"colorbar\":{\"outlinewidth\":0,\"ticks\":\"\"}},\"colorscale\":{\"sequential\":[[0.0,\"#0d0887\"],[0.1111111111111111,\"#46039f\"],[0.2222222222222222,\"#7201a8\"],[0.3333333333333333,\"#9c179e\"],[0.4444444444444444,\"#bd3786\"],[0.5555555555555556,\"#d8576b\"],[0.6666666666666666,\"#ed7953\"],[0.7777777777777778,\"#fb9f3a\"],[0.8888888888888888,\"#fdca26\"],[1.0,\"#f0f921\"]],\"sequentialminus\":[[0.0,\"#0d0887\"],[0.1111111111111111,\"#46039f\"],[0.2222222222222222,\"#7201a8\"],[0.3333333333333333,\"#9c179e\"],[0.4444444444444444,\"#bd3786\"],[0.5555555555555556,\"#d8576b\"],[0.6666666666666666,\"#ed7953\"],[0.7777777777777778,\"#fb9f3a\"],[0.8888888888888888,\"#fdca26\"],[1.0,\"#f0f921\"]],\"diverging\":[[0,\"#8e0152\"],[0.1,\"#c51b7d\"],[0.2,\"#de77ae\"],[0.3,\"#f1b6da\"],[0.4,\"#fde0ef\"],[0.5,\"#f7f7f7\"],[0.6,\"#e6f5d0\"],[0.7,\"#b8e186\"],[0.8,\"#7fbc41\"],[0.9,\"#4d9221\"],[1,\"#276419\"]]},\"xaxis\":{\"gridcolor\":\"white\",\"linecolor\":\"white\",\"ticks\":\"\",\"title\":{\"standoff\":15},\"zerolinecolor\":\"white\",\"automargin\":true,\"zerolinewidth\":2},\"yaxis\":{\"gridcolor\":\"white\",\"linecolor\":\"white\",\"ticks\":\"\",\"title\":{\"standoff\":15},\"zerolinecolor\":\"white\",\"automargin\":true,\"zerolinewidth\":2},\"scene\":{\"xaxis\":{\"backgroundcolor\":\"#E5ECF6\",\"gridcolor\":\"white\",\"linecolor\":\"white\",\"showbackground\":true,\"ticks\":\"\",\"zerolinecolor\":\"white\",\"gridwidth\":2},\"yaxis\":{\"backgroundcolor\":\"#E5ECF6\",\"gridcolor\":\"white\",\"linecolor\":\"white\",\"showbackground\":true,\"ticks\":\"\",\"zerolinecolor\":\"white\",\"gridwidth\":2},\"zaxis\":{\"backgroundcolor\":\"#E5ECF6\",\"gridcolor\":\"white\",\"linecolor\":\"white\",\"showbackground\":true,\"ticks\":\"\",\"zerolinecolor\":\"white\",\"gridwidth\":2}},\"shapedefaults\":{\"line\":{\"color\":\"#2a3f5f\"}},\"annotationdefaults\":{\"arrowcolor\":\"#2a3f5f\",\"arrowhead\":0,\"arrowwidth\":1},\"geo\":{\"bgcolor\":\"white\",\"landcolor\":\"#E5ECF6\",\"subunitcolor\":\"white\",\"showland\":true,\"showlakes\":true,\"lakecolor\":\"white\"},\"title\":{\"x\":0.05},\"mapbox\":{\"style\":\"light\"}}},\"xaxis\":{\"anchor\":\"y\",\"domain\":[0.0,1.0],\"title\":{\"text\":\"index\"}},\"yaxis\":{\"anchor\":\"x\",\"domain\":[0.0,1.0],\"title\":{\"text\":\"value\"}},\"legend\":{\"title\":{\"text\":\"variable\"},\"tracegroupgap\":0},\"title\":{\"text\":\"Checkpoint Values for solu-1l-pile (Linear scale)\"}},                        {\"responsive\": true}                    ).then(function(){\n",
                            "                            \n",
                            "var gd = document.getElementById('3614b7fd-aa3e-4b49-a7d7-215d10df33e5');\n",
                            "var x = new MutationObserver(function (mutations, observer) {{\n",
                            "        var display = window.getComputedStyle(gd).display;\n",
                            "        if (!display || display === 'none') {{\n",
                            "            console.log([gd, 'removed!']);\n",
                            "            Plotly.purge(gd);\n",
                            "            observer.disconnect();\n",
                            "        }}\n",
                            "}});\n",
                            "\n",
                            "// Listen for the removal of the full notebook cells\n",
                            "var notebookContainer = gd.closest('#notebook-container');\n",
                            "if (notebookContainer) {{\n",
                            "    x.observe(notebookContainer, {childList: true});\n",
                            "}}\n",
                            "\n",
                            "// Listen for the clearing of the current output cell\n",
                            "var outputEl = gd.closest('.output');\n",
                            "if (outputEl) {{\n",
                            "    x.observe(outputEl, {childList: true});\n",
                            "}}\n",
                            "\n",
                            "                        })                };                            </script>        </div>\n",
                            "</body>\n",
                            "</html>"
                        ]
                    },
                    "metadata": {},
                    "output_type": "display_data"
                },
                {
                    "data": {
                        "text/html": [
                            "<html>\n",
                            "<head><meta charset=\"utf-8\" /></head>\n",
                            "<body>\n",
                            "    <div>            <script src=\"https://cdnjs.cloudflare.com/ajax/libs/mathjax/2.7.5/MathJax.js?config=TeX-AMS-MML_SVG\"></script><script type=\"text/javascript\">if (window.MathJax && window.MathJax.Hub && window.MathJax.Hub.Config) {window.MathJax.Hub.Config({SVG: {font: \"STIX-Web\"}});}</script>                <script type=\"text/javascript\">window.PlotlyConfig = {MathJaxConfig: 'local'};</script>\n",
                            "        <script src=\"https://cdn.plot.ly/plotly-2.16.1.min.js\"></script>                <div id=\"440d9dd4-5051-445a-be32-9ad92e71921a\" class=\"plotly-graph-div\" style=\"height:525px; width:100%;\"></div>            <script type=\"text/javascript\">                                    window.PLOTLYENV=window.PLOTLYENV || {};                                    if (document.getElementById(\"440d9dd4-5051-445a-be32-9ad92e71921a\")) {                    Plotly.newPlot(                        \"440d9dd4-5051-445a-be32-9ad92e71921a\",                        [{\"hovertemplate\":\"variable=0<br>index=%{x}<br>value=%{y}<extra></extra>\",\"legendgroup\":\"0\",\"line\":{\"color\":\"#636efa\",\"dash\":\"solid\"},\"marker\":{\"symbol\":\"circle\"},\"mode\":\"markers+lines\",\"name\":\"0\",\"orientation\":\"v\",\"showlegend\":true,\"x\":[0,1,2,3,4,5,6,7,8,9,10,11,12,13,14,15,16,17,18,19,20,21,22,23,24,25,26,27,28,29,30,31,32,33,34,35,36,37,38,39,40,41,42,43,44,45,46,47,48,49,50,51,52,53,54,55,56,57,58,59,60,61,62,63,64,65,66,67,68,69,70,71,72,73,74,75,76,77,78,79,80,81,82,83,84,85,86,87,88,89,90,91,92,93,94,95,96,97,98,99],\"xaxis\":\"x\",\"y\":[326,652,978,1304,1630,1956,2282,2608,2934,3260,3586,3912,4238,4564,4890,5216,5542,5868,6194,6520,6846,7172,7498,7824,8150,8476,8802,9128,9454,9780,10106,10432,10758,11084,11410,11736,12062,12388,12714,13040,13366,13692,14018,14344,14670,14996,15322,15648,15974,16300,16626,16952,17278,17604,17930,18256,18582,18908,19234,19560,19886,20212,20538,20864,21190,21516,21842,22168,22494,22820,23146,23472,23798,24124,24450,24776,25102,25428,25754,26080,26406,26732,27058,27384,27710,28036,28362,28688,29014,29340,29666,29992,30318,30644,30970,31296,31622,31948,32274,32600],\"yaxis\":\"y\",\"type\":\"scatter\"}],                        {\"template\":{\"data\":{\"histogram2dcontour\":[{\"type\":\"histogram2dcontour\",\"colorbar\":{\"outlinewidth\":0,\"ticks\":\"\"},\"colorscale\":[[0.0,\"#0d0887\"],[0.1111111111111111,\"#46039f\"],[0.2222222222222222,\"#7201a8\"],[0.3333333333333333,\"#9c179e\"],[0.4444444444444444,\"#bd3786\"],[0.5555555555555556,\"#d8576b\"],[0.6666666666666666,\"#ed7953\"],[0.7777777777777778,\"#fb9f3a\"],[0.8888888888888888,\"#fdca26\"],[1.0,\"#f0f921\"]]}],\"choropleth\":[{\"type\":\"choropleth\",\"colorbar\":{\"outlinewidth\":0,\"ticks\":\"\"}}],\"histogram2d\":[{\"type\":\"histogram2d\",\"colorbar\":{\"outlinewidth\":0,\"ticks\":\"\"},\"colorscale\":[[0.0,\"#0d0887\"],[0.1111111111111111,\"#46039f\"],[0.2222222222222222,\"#7201a8\"],[0.3333333333333333,\"#9c179e\"],[0.4444444444444444,\"#bd3786\"],[0.5555555555555556,\"#d8576b\"],[0.6666666666666666,\"#ed7953\"],[0.7777777777777778,\"#fb9f3a\"],[0.8888888888888888,\"#fdca26\"],[1.0,\"#f0f921\"]]}],\"heatmap\":[{\"type\":\"heatmap\",\"colorbar\":{\"outlinewidth\":0,\"ticks\":\"\"},\"colorscale\":[[0.0,\"#0d0887\"],[0.1111111111111111,\"#46039f\"],[0.2222222222222222,\"#7201a8\"],[0.3333333333333333,\"#9c179e\"],[0.4444444444444444,\"#bd3786\"],[0.5555555555555556,\"#d8576b\"],[0.6666666666666666,\"#ed7953\"],[0.7777777777777778,\"#fb9f3a\"],[0.8888888888888888,\"#fdca26\"],[1.0,\"#f0f921\"]]}],\"heatmapgl\":[{\"type\":\"heatmapgl\",\"colorbar\":{\"outlinewidth\":0,\"ticks\":\"\"},\"colorscale\":[[0.0,\"#0d0887\"],[0.1111111111111111,\"#46039f\"],[0.2222222222222222,\"#7201a8\"],[0.3333333333333333,\"#9c179e\"],[0.4444444444444444,\"#bd3786\"],[0.5555555555555556,\"#d8576b\"],[0.6666666666666666,\"#ed7953\"],[0.7777777777777778,\"#fb9f3a\"],[0.8888888888888888,\"#fdca26\"],[1.0,\"#f0f921\"]]}],\"contourcarpet\":[{\"type\":\"contourcarpet\",\"colorbar\":{\"outlinewidth\":0,\"ticks\":\"\"}}],\"contour\":[{\"type\":\"contour\",\"colorbar\":{\"outlinewidth\":0,\"ticks\":\"\"},\"colorscale\":[[0.0,\"#0d0887\"],[0.1111111111111111,\"#46039f\"],[0.2222222222222222,\"#7201a8\"],[0.3333333333333333,\"#9c179e\"],[0.4444444444444444,\"#bd3786\"],[0.5555555555555556,\"#d8576b\"],[0.6666666666666666,\"#ed7953\"],[0.7777777777777778,\"#fb9f3a\"],[0.8888888888888888,\"#fdca26\"],[1.0,\"#f0f921\"]]}],\"surface\":[{\"type\":\"surface\",\"colorbar\":{\"outlinewidth\":0,\"ticks\":\"\"},\"colorscale\":[[0.0,\"#0d0887\"],[0.1111111111111111,\"#46039f\"],[0.2222222222222222,\"#7201a8\"],[0.3333333333333333,\"#9c179e\"],[0.4444444444444444,\"#bd3786\"],[0.5555555555555556,\"#d8576b\"],[0.6666666666666666,\"#ed7953\"],[0.7777777777777778,\"#fb9f3a\"],[0.8888888888888888,\"#fdca26\"],[1.0,\"#f0f921\"]]}],\"mesh3d\":[{\"type\":\"mesh3d\",\"colorbar\":{\"outlinewidth\":0,\"ticks\":\"\"}}],\"scatter\":[{\"fillpattern\":{\"fillmode\":\"overlay\",\"size\":10,\"solidity\":0.2},\"type\":\"scatter\"}],\"parcoords\":[{\"type\":\"parcoords\",\"line\":{\"colorbar\":{\"outlinewidth\":0,\"ticks\":\"\"}}}],\"scatterpolargl\":[{\"type\":\"scatterpolargl\",\"marker\":{\"colorbar\":{\"outlinewidth\":0,\"ticks\":\"\"}}}],\"bar\":[{\"error_x\":{\"color\":\"#2a3f5f\"},\"error_y\":{\"color\":\"#2a3f5f\"},\"marker\":{\"line\":{\"color\":\"#E5ECF6\",\"width\":0.5},\"pattern\":{\"fillmode\":\"overlay\",\"size\":10,\"solidity\":0.2}},\"type\":\"bar\"}],\"scattergeo\":[{\"type\":\"scattergeo\",\"marker\":{\"colorbar\":{\"outlinewidth\":0,\"ticks\":\"\"}}}],\"scatterpolar\":[{\"type\":\"scatterpolar\",\"marker\":{\"colorbar\":{\"outlinewidth\":0,\"ticks\":\"\"}}}],\"histogram\":[{\"marker\":{\"pattern\":{\"fillmode\":\"overlay\",\"size\":10,\"solidity\":0.2}},\"type\":\"histogram\"}],\"scattergl\":[{\"type\":\"scattergl\",\"marker\":{\"colorbar\":{\"outlinewidth\":0,\"ticks\":\"\"}}}],\"scatter3d\":[{\"type\":\"scatter3d\",\"line\":{\"colorbar\":{\"outlinewidth\":0,\"ticks\":\"\"}},\"marker\":{\"colorbar\":{\"outlinewidth\":0,\"ticks\":\"\"}}}],\"scattermapbox\":[{\"type\":\"scattermapbox\",\"marker\":{\"colorbar\":{\"outlinewidth\":0,\"ticks\":\"\"}}}],\"scatterternary\":[{\"type\":\"scatterternary\",\"marker\":{\"colorbar\":{\"outlinewidth\":0,\"ticks\":\"\"}}}],\"scattercarpet\":[{\"type\":\"scattercarpet\",\"marker\":{\"colorbar\":{\"outlinewidth\":0,\"ticks\":\"\"}}}],\"carpet\":[{\"aaxis\":{\"endlinecolor\":\"#2a3f5f\",\"gridcolor\":\"white\",\"linecolor\":\"white\",\"minorgridcolor\":\"white\",\"startlinecolor\":\"#2a3f5f\"},\"baxis\":{\"endlinecolor\":\"#2a3f5f\",\"gridcolor\":\"white\",\"linecolor\":\"white\",\"minorgridcolor\":\"white\",\"startlinecolor\":\"#2a3f5f\"},\"type\":\"carpet\"}],\"table\":[{\"cells\":{\"fill\":{\"color\":\"#EBF0F8\"},\"line\":{\"color\":\"white\"}},\"header\":{\"fill\":{\"color\":\"#C8D4E3\"},\"line\":{\"color\":\"white\"}},\"type\":\"table\"}],\"barpolar\":[{\"marker\":{\"line\":{\"color\":\"#E5ECF6\",\"width\":0.5},\"pattern\":{\"fillmode\":\"overlay\",\"size\":10,\"solidity\":0.2}},\"type\":\"barpolar\"}],\"pie\":[{\"automargin\":true,\"type\":\"pie\"}]},\"layout\":{\"autotypenumbers\":\"strict\",\"colorway\":[\"#636efa\",\"#EF553B\",\"#00cc96\",\"#ab63fa\",\"#FFA15A\",\"#19d3f3\",\"#FF6692\",\"#B6E880\",\"#FF97FF\",\"#FECB52\"],\"font\":{\"color\":\"#2a3f5f\"},\"hovermode\":\"closest\",\"hoverlabel\":{\"align\":\"left\"},\"paper_bgcolor\":\"white\",\"plot_bgcolor\":\"#E5ECF6\",\"polar\":{\"bgcolor\":\"#E5ECF6\",\"angularaxis\":{\"gridcolor\":\"white\",\"linecolor\":\"white\",\"ticks\":\"\"},\"radialaxis\":{\"gridcolor\":\"white\",\"linecolor\":\"white\",\"ticks\":\"\"}},\"ternary\":{\"bgcolor\":\"#E5ECF6\",\"aaxis\":{\"gridcolor\":\"white\",\"linecolor\":\"white\",\"ticks\":\"\"},\"baxis\":{\"gridcolor\":\"white\",\"linecolor\":\"white\",\"ticks\":\"\"},\"caxis\":{\"gridcolor\":\"white\",\"linecolor\":\"white\",\"ticks\":\"\"}},\"coloraxis\":{\"colorbar\":{\"outlinewidth\":0,\"ticks\":\"\"}},\"colorscale\":{\"sequential\":[[0.0,\"#0d0887\"],[0.1111111111111111,\"#46039f\"],[0.2222222222222222,\"#7201a8\"],[0.3333333333333333,\"#9c179e\"],[0.4444444444444444,\"#bd3786\"],[0.5555555555555556,\"#d8576b\"],[0.6666666666666666,\"#ed7953\"],[0.7777777777777778,\"#fb9f3a\"],[0.8888888888888888,\"#fdca26\"],[1.0,\"#f0f921\"]],\"sequentialminus\":[[0.0,\"#0d0887\"],[0.1111111111111111,\"#46039f\"],[0.2222222222222222,\"#7201a8\"],[0.3333333333333333,\"#9c179e\"],[0.4444444444444444,\"#bd3786\"],[0.5555555555555556,\"#d8576b\"],[0.6666666666666666,\"#ed7953\"],[0.7777777777777778,\"#fb9f3a\"],[0.8888888888888888,\"#fdca26\"],[1.0,\"#f0f921\"]],\"diverging\":[[0,\"#8e0152\"],[0.1,\"#c51b7d\"],[0.2,\"#de77ae\"],[0.3,\"#f1b6da\"],[0.4,\"#fde0ef\"],[0.5,\"#f7f7f7\"],[0.6,\"#e6f5d0\"],[0.7,\"#b8e186\"],[0.8,\"#7fbc41\"],[0.9,\"#4d9221\"],[1,\"#276419\"]]},\"xaxis\":{\"gridcolor\":\"white\",\"linecolor\":\"white\",\"ticks\":\"\",\"title\":{\"standoff\":15},\"zerolinecolor\":\"white\",\"automargin\":true,\"zerolinewidth\":2},\"yaxis\":{\"gridcolor\":\"white\",\"linecolor\":\"white\",\"ticks\":\"\",\"title\":{\"standoff\":15},\"zerolinecolor\":\"white\",\"automargin\":true,\"zerolinewidth\":2},\"scene\":{\"xaxis\":{\"backgroundcolor\":\"#E5ECF6\",\"gridcolor\":\"white\",\"linecolor\":\"white\",\"showbackground\":true,\"ticks\":\"\",\"zerolinecolor\":\"white\",\"gridwidth\":2},\"yaxis\":{\"backgroundcolor\":\"#E5ECF6\",\"gridcolor\":\"white\",\"linecolor\":\"white\",\"showbackground\":true,\"ticks\":\"\",\"zerolinecolor\":\"white\",\"gridwidth\":2},\"zaxis\":{\"backgroundcolor\":\"#E5ECF6\",\"gridcolor\":\"white\",\"linecolor\":\"white\",\"showbackground\":true,\"ticks\":\"\",\"zerolinecolor\":\"white\",\"gridwidth\":2}},\"shapedefaults\":{\"line\":{\"color\":\"#2a3f5f\"}},\"annotationdefaults\":{\"arrowcolor\":\"#2a3f5f\",\"arrowhead\":0,\"arrowwidth\":1},\"geo\":{\"bgcolor\":\"white\",\"landcolor\":\"#E5ECF6\",\"subunitcolor\":\"white\",\"showland\":true,\"showlakes\":true,\"lakecolor\":\"white\"},\"title\":{\"x\":0.05},\"mapbox\":{\"style\":\"light\"}}},\"xaxis\":{\"anchor\":\"y\",\"domain\":[0.0,1.0],\"title\":{\"text\":\"index\"}},\"yaxis\":{\"anchor\":\"x\",\"domain\":[0.0,1.0],\"title\":{\"text\":\"value\"}},\"legend\":{\"title\":{\"text\":\"variable\"},\"tracegroupgap\":0},\"title\":{\"text\":\"Checkpoint Values for solu-6l-pile (Linear scale)\"}},                        {\"responsive\": true}                    ).then(function(){\n",
                            "                            \n",
                            "var gd = document.getElementById('440d9dd4-5051-445a-be32-9ad92e71921a');\n",
                            "var x = new MutationObserver(function (mutations, observer) {{\n",
                            "        var display = window.getComputedStyle(gd).display;\n",
                            "        if (!display || display === 'none') {{\n",
                            "            console.log([gd, 'removed!']);\n",
                            "            Plotly.purge(gd);\n",
                            "            observer.disconnect();\n",
                            "        }}\n",
                            "}});\n",
                            "\n",
                            "// Listen for the removal of the full notebook cells\n",
                            "var notebookContainer = gd.closest('#notebook-container');\n",
                            "if (notebookContainer) {{\n",
                            "    x.observe(notebookContainer, {childList: true});\n",
                            "}}\n",
                            "\n",
                            "// Listen for the clearing of the current output cell\n",
                            "var outputEl = gd.closest('.output');\n",
                            "if (outputEl) {{\n",
                            "    x.observe(outputEl, {childList: true});\n",
                            "}}\n",
                            "\n",
                            "                        })                };                            </script>        </div>\n",
                            "</body>\n",
                            "</html>"
                        ]
                    },
                    "metadata": {},
                    "output_type": "display_data"
                }
            ],
            "source": [
                "from transformer_lens.loading_from_pretrained import get_checkpoint_labels\n",
                "for model_name in [\"attn-only-2l\", \"solu-12l\", \"stanford-gpt2-small-a\"]:\n",
                "    checkpoint_labels, checkpoint_label_type = get_checkpoint_labels(model_name)\n",
                "    line(checkpoint_labels, xaxis=\"Checkpoint Index\", yaxis=f\"Checkpoint Value ({checkpoint_label_type})\", title=f\"Checkpoint Values for {model_name} (Log scale)\", log_y=True, markers=True)\n",
                "for model_name in [\"solu-1l-pile\", \"solu-6l-pile\"]:\n",
                "    checkpoint_labels, checkpoint_label_type = get_checkpoint_labels(model_name)\n",
                "    line(checkpoint_labels, xaxis=\"Checkpoint Index\", yaxis=f\"Checkpoint Value ({checkpoint_label_type})\", title=f\"Checkpoint Values for {model_name} (Linear scale)\", log_y=False, markers=True)"
            ]
        },
        {
            "cell_type": "markdown",
            "metadata": {},
            "source": [
                "### Example: Induction Head Phase Transition"
            ]
        },
        {
            "cell_type": "markdown",
            "metadata": {},
            "source": [
                "One of the more interesting results analysing circuit formation during training is the [induction head phase transition](https://transformer-circuits.pub/2022/in-context-learning-and-induction-heads/index.html). They find a pretty dramatic shift in models during training - there's a brief period where models go from not having induction heads to having them, which leads to the models suddenly becoming much better at in-context learning (using far back tokens to predict the next token, eg over 500 words back). This is enough of a big deal that it leads to a visible *bump* in the loss curve, where the model's rate of improvement briefly increases. "
            ]
        },
        {
            "cell_type": "markdown",
            "metadata": {},
            "source": [
                "As a brief demonstration of the existence of the phase transition, let's load some checkpoints of a two layer model, and see whether they have induction heads. An easy test, as we used above, is to give the model a repeated sequence of random tokens, and to check how good its loss is on the second half. `evals.induction_loss` is a rough util that runs this test on a model.\n",
                "(Note - this is deliberately a rough, non-rigorous test for the purposes of demonstration, eg `evals.induction_loss` by default just runs it on 4 sequences of 384 tokens repeated twice. These results totally don't do the paper justice - go check it out if you want to see the full results!)"
            ]
        },
        {
            "cell_type": "markdown",
            "metadata": {},
            "source": [
                "In the interests of time and memory, let's look at a handful of checkpoints (chosen to be around the phase change), indices `[10, 25, 35, 60, -1]`. These are roughly 22M, 200M, 500M, 1.6B and 21.8B tokens through training, respectively. (I generally recommend looking things up based on indices, rather than checkpoint value!). "
            ]
        },
        {
            "cell_type": "code",
            "execution_count": 57,
            "metadata": {},
            "outputs": [],
            "source": [
                "from transformer_lens import evals\n",
                "# We use the two layer model with SoLU activations, chosen fairly arbitrarily as being both small (so fast to download and keep in memory) and pretty good at the induction task.\n",
                "model_name = \"solu-2l\"\n",
                "# We can load a model from a checkpoint by specifying the checkpoint_index, -1 means the final checkpoint\n",
                "checkpoint_indices = [10, 25, 35, 60, -1]\n",
                "checkpointed_models = []\n",
                "tokens_trained_on = []\n",
                "induction_losses = []"
            ]
        },
        {
            "cell_type": "markdown",
            "metadata": {},
            "source": [
                "We load the models, cache them in a list, and "
            ]
        },
        {
            "cell_type": "code",
            "execution_count": 58,
            "metadata": {},
            "outputs": [
                {
                    "name": "stdout",
                    "output_type": "stream",
                    "text": [
                        "Loaded pretrained model solu-2l into HookedTransformer\n",
                        "Loaded pretrained model solu-2l into HookedTransformer\n",
                        "Loaded pretrained model solu-2l into HookedTransformer\n",
                        "Loaded pretrained model solu-2l into HookedTransformer\n",
                        "Loaded pretrained model solu-2l into HookedTransformer\n"
                    ]
                }
            ],
            "source": [
                "for index in checkpoint_indices:\n",
                "    # Load the model from the relevant checkpoint by index\n",
                "    model_for_this_checkpoint = HookedTransformer.from_pretrained(model_name, checkpoint_index=index)\n",
                "    checkpointed_models.append(model_for_this_checkpoint)\n",
                "\n",
                "    tokens_seen_for_this_checkpoint = model_for_this_checkpoint.cfg.checkpoint_value\n",
                "    tokens_trained_on.append(tokens_seen_for_this_checkpoint)\n",
                "\n",
                "    induction_loss_for_this_checkpoint = evals.induction_loss(model_for_this_checkpoint).item()\n",
                "    induction_losses.append(induction_loss_for_this_checkpoint)"
            ]
        },
        {
            "cell_type": "markdown",
            "metadata": {},
            "source": [
                "We can plot this, and see there's a sharp shift from ~200-500M tokens trained on (note the log scale on the x axis). Interestingly, this is notably earlier than the phase transition in the paper, I'm not sure what's up with that.\n",
                "\n",
                "(To contextualise the numbers, the tokens in the random sequence are uniformly chosen from the first 20,000 tokens (out of ~48,000 total), so random performance is at least $\\ln(20000)\\approx 10$. A naive strategy like \"randomly choose a token that's already appeared in the first half of the sequence (384 elements)\" would get $\\ln(384)\\approx 5.95$, so the model is doing pretty well here.)"
            ]
        },
        {
            "cell_type": "code",
            "execution_count": 59,
            "metadata": {},
            "outputs": [
                {
                    "data": {
                        "text/html": [
                            "<html>\n",
                            "<head><meta charset=\"utf-8\" /></head>\n",
                            "<body>\n",
                            "    <div>            <script src=\"https://cdnjs.cloudflare.com/ajax/libs/mathjax/2.7.5/MathJax.js?config=TeX-AMS-MML_SVG\"></script><script type=\"text/javascript\">if (window.MathJax && window.MathJax.Hub && window.MathJax.Hub.Config) {window.MathJax.Hub.Config({SVG: {font: \"STIX-Web\"}});}</script>                <script type=\"text/javascript\">window.PlotlyConfig = {MathJaxConfig: 'local'};</script>\n",
                            "        <script src=\"https://cdn.plot.ly/plotly-2.16.1.min.js\"></script>                <div id=\"6e70a192-5d22-459b-9b0e-f6d00be0bd1e\" class=\"plotly-graph-div\" style=\"height:525px; width:100%;\"></div>            <script type=\"text/javascript\">                                    window.PLOTLYENV=window.PLOTLYENV || {};                                    if (document.getElementById(\"6e70a192-5d22-459b-9b0e-f6d00be0bd1e\")) {                    Plotly.newPlot(                        \"6e70a192-5d22-459b-9b0e-f6d00be0bd1e\",                        [{\"hovertemplate\":\"Tokens Trained On=%{x}<br>index=%{y}<extra></extra>\",\"legendgroup\":\"\",\"line\":{\"color\":\"#636efa\",\"dash\":\"solid\"},\"marker\":{\"symbol\":\"circle\"},\"mode\":\"markers+lines\",\"name\":\"\",\"orientation\":\"h\",\"showlegend\":false,\"x\":[22282240,187432960,528482304,1628438528,21780496384],\"xaxis\":\"x\",\"y\":[0,1,2,3,4],\"yaxis\":\"y\",\"type\":\"scatter\"}],                        {\"template\":{\"data\":{\"histogram2dcontour\":[{\"type\":\"histogram2dcontour\",\"colorbar\":{\"outlinewidth\":0,\"ticks\":\"\"},\"colorscale\":[[0.0,\"#0d0887\"],[0.1111111111111111,\"#46039f\"],[0.2222222222222222,\"#7201a8\"],[0.3333333333333333,\"#9c179e\"],[0.4444444444444444,\"#bd3786\"],[0.5555555555555556,\"#d8576b\"],[0.6666666666666666,\"#ed7953\"],[0.7777777777777778,\"#fb9f3a\"],[0.8888888888888888,\"#fdca26\"],[1.0,\"#f0f921\"]]}],\"choropleth\":[{\"type\":\"choropleth\",\"colorbar\":{\"outlinewidth\":0,\"ticks\":\"\"}}],\"histogram2d\":[{\"type\":\"histogram2d\",\"colorbar\":{\"outlinewidth\":0,\"ticks\":\"\"},\"colorscale\":[[0.0,\"#0d0887\"],[0.1111111111111111,\"#46039f\"],[0.2222222222222222,\"#7201a8\"],[0.3333333333333333,\"#9c179e\"],[0.4444444444444444,\"#bd3786\"],[0.5555555555555556,\"#d8576b\"],[0.6666666666666666,\"#ed7953\"],[0.7777777777777778,\"#fb9f3a\"],[0.8888888888888888,\"#fdca26\"],[1.0,\"#f0f921\"]]}],\"heatmap\":[{\"type\":\"heatmap\",\"colorbar\":{\"outlinewidth\":0,\"ticks\":\"\"},\"colorscale\":[[0.0,\"#0d0887\"],[0.1111111111111111,\"#46039f\"],[0.2222222222222222,\"#7201a8\"],[0.3333333333333333,\"#9c179e\"],[0.4444444444444444,\"#bd3786\"],[0.5555555555555556,\"#d8576b\"],[0.6666666666666666,\"#ed7953\"],[0.7777777777777778,\"#fb9f3a\"],[0.8888888888888888,\"#fdca26\"],[1.0,\"#f0f921\"]]}],\"heatmapgl\":[{\"type\":\"heatmapgl\",\"colorbar\":{\"outlinewidth\":0,\"ticks\":\"\"},\"colorscale\":[[0.0,\"#0d0887\"],[0.1111111111111111,\"#46039f\"],[0.2222222222222222,\"#7201a8\"],[0.3333333333333333,\"#9c179e\"],[0.4444444444444444,\"#bd3786\"],[0.5555555555555556,\"#d8576b\"],[0.6666666666666666,\"#ed7953\"],[0.7777777777777778,\"#fb9f3a\"],[0.8888888888888888,\"#fdca26\"],[1.0,\"#f0f921\"]]}],\"contourcarpet\":[{\"type\":\"contourcarpet\",\"colorbar\":{\"outlinewidth\":0,\"ticks\":\"\"}}],\"contour\":[{\"type\":\"contour\",\"colorbar\":{\"outlinewidth\":0,\"ticks\":\"\"},\"colorscale\":[[0.0,\"#0d0887\"],[0.1111111111111111,\"#46039f\"],[0.2222222222222222,\"#7201a8\"],[0.3333333333333333,\"#9c179e\"],[0.4444444444444444,\"#bd3786\"],[0.5555555555555556,\"#d8576b\"],[0.6666666666666666,\"#ed7953\"],[0.7777777777777778,\"#fb9f3a\"],[0.8888888888888888,\"#fdca26\"],[1.0,\"#f0f921\"]]}],\"surface\":[{\"type\":\"surface\",\"colorbar\":{\"outlinewidth\":0,\"ticks\":\"\"},\"colorscale\":[[0.0,\"#0d0887\"],[0.1111111111111111,\"#46039f\"],[0.2222222222222222,\"#7201a8\"],[0.3333333333333333,\"#9c179e\"],[0.4444444444444444,\"#bd3786\"],[0.5555555555555556,\"#d8576b\"],[0.6666666666666666,\"#ed7953\"],[0.7777777777777778,\"#fb9f3a\"],[0.8888888888888888,\"#fdca26\"],[1.0,\"#f0f921\"]]}],\"mesh3d\":[{\"type\":\"mesh3d\",\"colorbar\":{\"outlinewidth\":0,\"ticks\":\"\"}}],\"scatter\":[{\"fillpattern\":{\"fillmode\":\"overlay\",\"size\":10,\"solidity\":0.2},\"type\":\"scatter\"}],\"parcoords\":[{\"type\":\"parcoords\",\"line\":{\"colorbar\":{\"outlinewidth\":0,\"ticks\":\"\"}}}],\"scatterpolargl\":[{\"type\":\"scatterpolargl\",\"marker\":{\"colorbar\":{\"outlinewidth\":0,\"ticks\":\"\"}}}],\"bar\":[{\"error_x\":{\"color\":\"#2a3f5f\"},\"error_y\":{\"color\":\"#2a3f5f\"},\"marker\":{\"line\":{\"color\":\"#E5ECF6\",\"width\":0.5},\"pattern\":{\"fillmode\":\"overlay\",\"size\":10,\"solidity\":0.2}},\"type\":\"bar\"}],\"scattergeo\":[{\"type\":\"scattergeo\",\"marker\":{\"colorbar\":{\"outlinewidth\":0,\"ticks\":\"\"}}}],\"scatterpolar\":[{\"type\":\"scatterpolar\",\"marker\":{\"colorbar\":{\"outlinewidth\":0,\"ticks\":\"\"}}}],\"histogram\":[{\"marker\":{\"pattern\":{\"fillmode\":\"overlay\",\"size\":10,\"solidity\":0.2}},\"type\":\"histogram\"}],\"scattergl\":[{\"type\":\"scattergl\",\"marker\":{\"colorbar\":{\"outlinewidth\":0,\"ticks\":\"\"}}}],\"scatter3d\":[{\"type\":\"scatter3d\",\"line\":{\"colorbar\":{\"outlinewidth\":0,\"ticks\":\"\"}},\"marker\":{\"colorbar\":{\"outlinewidth\":0,\"ticks\":\"\"}}}],\"scattermapbox\":[{\"type\":\"scattermapbox\",\"marker\":{\"colorbar\":{\"outlinewidth\":0,\"ticks\":\"\"}}}],\"scatterternary\":[{\"type\":\"scatterternary\",\"marker\":{\"colorbar\":{\"outlinewidth\":0,\"ticks\":\"\"}}}],\"scattercarpet\":[{\"type\":\"scattercarpet\",\"marker\":{\"colorbar\":{\"outlinewidth\":0,\"ticks\":\"\"}}}],\"carpet\":[{\"aaxis\":{\"endlinecolor\":\"#2a3f5f\",\"gridcolor\":\"white\",\"linecolor\":\"white\",\"minorgridcolor\":\"white\",\"startlinecolor\":\"#2a3f5f\"},\"baxis\":{\"endlinecolor\":\"#2a3f5f\",\"gridcolor\":\"white\",\"linecolor\":\"white\",\"minorgridcolor\":\"white\",\"startlinecolor\":\"#2a3f5f\"},\"type\":\"carpet\"}],\"table\":[{\"cells\":{\"fill\":{\"color\":\"#EBF0F8\"},\"line\":{\"color\":\"white\"}},\"header\":{\"fill\":{\"color\":\"#C8D4E3\"},\"line\":{\"color\":\"white\"}},\"type\":\"table\"}],\"barpolar\":[{\"marker\":{\"line\":{\"color\":\"#E5ECF6\",\"width\":0.5},\"pattern\":{\"fillmode\":\"overlay\",\"size\":10,\"solidity\":0.2}},\"type\":\"barpolar\"}],\"pie\":[{\"automargin\":true,\"type\":\"pie\"}]},\"layout\":{\"autotypenumbers\":\"strict\",\"colorway\":[\"#636efa\",\"#EF553B\",\"#00cc96\",\"#ab63fa\",\"#FFA15A\",\"#19d3f3\",\"#FF6692\",\"#B6E880\",\"#FF97FF\",\"#FECB52\"],\"font\":{\"color\":\"#2a3f5f\"},\"hovermode\":\"closest\",\"hoverlabel\":{\"align\":\"left\"},\"paper_bgcolor\":\"white\",\"plot_bgcolor\":\"#E5ECF6\",\"polar\":{\"bgcolor\":\"#E5ECF6\",\"angularaxis\":{\"gridcolor\":\"white\",\"linecolor\":\"white\",\"ticks\":\"\"},\"radialaxis\":{\"gridcolor\":\"white\",\"linecolor\":\"white\",\"ticks\":\"\"}},\"ternary\":{\"bgcolor\":\"#E5ECF6\",\"aaxis\":{\"gridcolor\":\"white\",\"linecolor\":\"white\",\"ticks\":\"\"},\"baxis\":{\"gridcolor\":\"white\",\"linecolor\":\"white\",\"ticks\":\"\"},\"caxis\":{\"gridcolor\":\"white\",\"linecolor\":\"white\",\"ticks\":\"\"}},\"coloraxis\":{\"colorbar\":{\"outlinewidth\":0,\"ticks\":\"\"}},\"colorscale\":{\"sequential\":[[0.0,\"#0d0887\"],[0.1111111111111111,\"#46039f\"],[0.2222222222222222,\"#7201a8\"],[0.3333333333333333,\"#9c179e\"],[0.4444444444444444,\"#bd3786\"],[0.5555555555555556,\"#d8576b\"],[0.6666666666666666,\"#ed7953\"],[0.7777777777777778,\"#fb9f3a\"],[0.8888888888888888,\"#fdca26\"],[1.0,\"#f0f921\"]],\"sequentialminus\":[[0.0,\"#0d0887\"],[0.1111111111111111,\"#46039f\"],[0.2222222222222222,\"#7201a8\"],[0.3333333333333333,\"#9c179e\"],[0.4444444444444444,\"#bd3786\"],[0.5555555555555556,\"#d8576b\"],[0.6666666666666666,\"#ed7953\"],[0.7777777777777778,\"#fb9f3a\"],[0.8888888888888888,\"#fdca26\"],[1.0,\"#f0f921\"]],\"diverging\":[[0,\"#8e0152\"],[0.1,\"#c51b7d\"],[0.2,\"#de77ae\"],[0.3,\"#f1b6da\"],[0.4,\"#fde0ef\"],[0.5,\"#f7f7f7\"],[0.6,\"#e6f5d0\"],[0.7,\"#b8e186\"],[0.8,\"#7fbc41\"],[0.9,\"#4d9221\"],[1,\"#276419\"]]},\"xaxis\":{\"gridcolor\":\"white\",\"linecolor\":\"white\",\"ticks\":\"\",\"title\":{\"standoff\":15},\"zerolinecolor\":\"white\",\"automargin\":true,\"zerolinewidth\":2},\"yaxis\":{\"gridcolor\":\"white\",\"linecolor\":\"white\",\"ticks\":\"\",\"title\":{\"standoff\":15},\"zerolinecolor\":\"white\",\"automargin\":true,\"zerolinewidth\":2},\"scene\":{\"xaxis\":{\"backgroundcolor\":\"#E5ECF6\",\"gridcolor\":\"white\",\"linecolor\":\"white\",\"showbackground\":true,\"ticks\":\"\",\"zerolinecolor\":\"white\",\"gridwidth\":2},\"yaxis\":{\"backgroundcolor\":\"#E5ECF6\",\"gridcolor\":\"white\",\"linecolor\":\"white\",\"showbackground\":true,\"ticks\":\"\",\"zerolinecolor\":\"white\",\"gridwidth\":2},\"zaxis\":{\"backgroundcolor\":\"#E5ECF6\",\"gridcolor\":\"white\",\"linecolor\":\"white\",\"showbackground\":true,\"ticks\":\"\",\"zerolinecolor\":\"white\",\"gridwidth\":2}},\"shapedefaults\":{\"line\":{\"color\":\"#2a3f5f\"}},\"annotationdefaults\":{\"arrowcolor\":\"#2a3f5f\",\"arrowhead\":0,\"arrowwidth\":1},\"geo\":{\"bgcolor\":\"white\",\"landcolor\":\"#E5ECF6\",\"subunitcolor\":\"white\",\"showland\":true,\"showlakes\":true,\"lakecolor\":\"white\"},\"title\":{\"x\":0.05},\"mapbox\":{\"style\":\"light\"}}},\"xaxis\":{\"anchor\":\"y\",\"domain\":[0.0,1.0],\"title\":{\"text\":\"Tokens Trained On\"},\"type\":\"log\"},\"yaxis\":{\"anchor\":\"x\",\"domain\":[0.0,1.0],\"title\":{\"text\":\"index\"}},\"legend\":{\"tracegroupgap\":0},\"title\":{\"text\":\"Induction Loss over training: solu-2l\"}},                        {\"responsive\": true}                    ).then(function(){\n",
                            "                            \n",
                            "var gd = document.getElementById('6e70a192-5d22-459b-9b0e-f6d00be0bd1e');\n",
                            "var x = new MutationObserver(function (mutations, observer) {{\n",
                            "        var display = window.getComputedStyle(gd).display;\n",
                            "        if (!display || display === 'none') {{\n",
                            "            console.log([gd, 'removed!']);\n",
                            "            Plotly.purge(gd);\n",
                            "            observer.disconnect();\n",
                            "        }}\n",
                            "}});\n",
                            "\n",
                            "// Listen for the removal of the full notebook cells\n",
                            "var notebookContainer = gd.closest('#notebook-container');\n",
                            "if (notebookContainer) {{\n",
                            "    x.observe(notebookContainer, {childList: true});\n",
                            "}}\n",
                            "\n",
                            "// Listen for the clearing of the current output cell\n",
                            "var outputEl = gd.closest('.output');\n",
                            "if (outputEl) {{\n",
                            "    x.observe(outputEl, {childList: true});\n",
                            "}}\n",
                            "\n",
                            "                        })                };                            </script>        </div>\n",
                            "</body>\n",
                            "</html>"
                        ]
                    },
                    "metadata": {},
                    "output_type": "display_data"
                }
            ],
            "source": [
                "line(induction_losses, x=tokens_trained_on, xaxis=\"Tokens Trained On\", yaxis=\"Induction Loss\", title=\"Induction Loss over training: solu-2l\", markers=True, log_x=True)"
            ]
        }
    ],
    "metadata": {
        "kernelspec": {
            "display_name": ".venv",
            "language": "python",
            "name": "python3"
        },
        "language_info": {
            "codemirror_mode": {
                "name": "ipython",
                "version": 3
            },
            "file_extension": ".py",
            "mimetype": "text/x-python",
            "name": "python",
            "nbconvert_exporter": "python",
            "pygments_lexer": "ipython3",
            "version": "3.9.14"
        },
        "orig_nbformat": 4,
        "vscode": {
            "interpreter": {
                "hash": "eb812820b5094695c8a581672e17220e30dd2c15d704c018326e3cc2e1a566f1"
            }
        }
    },
    "nbformat": 4,
    "nbformat_minor": 2
}
