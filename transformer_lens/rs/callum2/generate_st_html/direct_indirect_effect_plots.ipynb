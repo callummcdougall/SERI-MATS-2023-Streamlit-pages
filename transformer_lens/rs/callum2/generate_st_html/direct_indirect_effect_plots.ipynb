{
 "cells": [
  {
   "attachments": {},
   "cell_type": "markdown",
   "metadata": {},
   "source": [
    "# Direct & Indirect effect plots\n",
    "\n",
    "This notebook is for creating the bar chart which will be used in the paper, to compare direct & indirect effects of head 10.7."
   ]
  },
  {
   "cell_type": "code",
   "execution_count": 1,
   "metadata": {},
   "outputs": [],
   "source": [
    "import os, sys\n",
    "from pathlib import Path\n",
    "p = Path(r\"/root/SERI-MATS-2023-Streamlit-pages\")\n",
    "if os.path.exists(str_p := str(p.resolve())):\n",
    "    os.chdir(str_p)\n",
    "    if str_p not in sys.path:\n",
    "        sys.path.append(str_p)\n",
    "\n",
    "from transformer_lens.cautils.notebook import *\n",
    "\n",
    "from transformer_lens.rs.callum2.generate_st_html.model_results import (\n",
    "    get_result_mean,\n",
    "    get_model_results,\n",
    "    get_model_results_batched,\n",
    "    ModelResults,\n",
    "    HeadResults,\n",
    "    LayerResults,\n",
    "    DictOfHeadResults,\n",
    ")\n",
    "\n",
    "from transformer_lens.rs.callum2.utils import (\n",
    "    parse_str,\n",
    "    parse_str_toks_for_printing,\n",
    "    kl_div,\n",
    "    process_webtext,\n",
    ")\n",
    "\n",
    "def create_dict_for_table(\n",
    "    results: DictOfHeadResults,\n",
    "    ln_mode: str = \"frozen\",\n",
    "    head: Tuple[int, int] = (10, 7)\n",
    ") -> Dict[str, Tensor]:\n",
    "    L, H = head\n",
    "    return {\n",
    "        k[0]: v[L, H]\n",
    "        for k, v in results.items()\n",
    "        if k[1:] == (ln_mode, \"mean\")\n",
    "    }\n",
    "\n",
    "clear_output()"
   ]
  },
  {
   "cell_type": "code",
   "execution_count": 2,
   "metadata": {},
   "outputs": [],
   "source": [
    "model = HookedTransformer.from_pretrained(\n",
    "    \"gpt2-small\",\n",
    "    center_unembed=True,\n",
    "    center_writing_weights=True,\n",
    "    fold_ln=True,\n",
    "    device=\"cuda\",\n",
    ")\n",
    "model.set_use_split_qkv_input(False)\n",
    "model.set_use_attn_result(True)\n",
    "\n",
    "clear_output()"
   ]
  },
  {
   "cell_type": "code",
   "execution_count": 3,
   "metadata": {},
   "outputs": [
    {
     "name": "stdout",
     "output_type": "stream",
     "text": [
      "Shape = torch.Size([500, 1000])\n",
      "\n",
      "First prompt:\n",
      "<|endoftext|>History Edit\n",
      "\n",
      "In 1914, Senator Robert La Follette Sr. and Representative John M. Nelson, both of Wisconsin, promoted the inclusion in the legislative, executive, and judicial appropriations act of a provision directing the establishment of a special reference unit within the Library of Congress.[5] Building upon a concept developed by the New York State Library in 1890, and the Wisconsin Legislative Reference Library in 1901, they were motivated by Progressive era ideas about the importance of the acquisition of knowledge for an informed and independent legislature.[4] The move also reflected the expanding role of the librarian and the professionalization of the profession.[4] The new department was charged with responding to congressional requests for information.[4] The legislation authorized the Librarian of Congress, Herbert Putnam, to \"employ competent persons to prepare such indexes, digests, and compilations of laws as may be required for Congress and other official use...\" (The intent behind the creation of the agency can be derived from U.S. Senate, Committee on the Library, Legislative Drafting Bureau and Reference Division, 62d Cong., 3d sess., 1913, S. Rept.1271.) Renamed the Legislative Reference Service and given a permanent authorization with the Legislative Reorganization Act of 1946,[6] it assisted Congress primarily by providing facts and publications and by transmitting research and analysis done largely by other government agencies, private organizations, and individual scholars.[4] The Library of Congress, the home of CRS, had experimented during the 1940s with unrestricted publication Public Affairs Bulletins, which were produced by staff of the Legislative Reference Service, and devoted to various public policy issues. They were promoted by Archibald MacLeish, the Librarian of Congress, and, among other topics, addressed timely policy issues, such as American national defense. About 100 Public Affairs Bulletins were generated[7] before congressional appropriators ended their production in 1951.[8] The renaming under the Legislative Reorganization Act of 1970 reflected the service's changing mission:[4] This legislation directed CRS to devote more of its efforts and increased resources to doing research and analysis that assists Congress in direct support of the legislative process.[9] When the Congressional Research Service Review was launched in 1980, it continued for a little more than a decade before congressional appropriators, once again, invoked fiscal closure. The Review, which was published ten times a year and available to the public by subscription, offered original analytical articles, summaries highlighting CRS research products, and other kinds of assistance to the congressional community.[7] As inquiries increased from 400,000 questions per year in 1980 to 598,000 in 2000, CRS sought to prepare itself for future challenges, initiating an organizational realignment in 1999. The realignment, which has required extensive relocation of staff and the design of more efficient workstations, was intended to promote improved communication within CRS and increase the service's ability to focus on legislative deliberations of Congress by applying its multidisciplinary expertise to public policy issues in user-friendly, accessible formats when Congress needs assistance.[10]\n",
      "\n",
      "Mission Edit\n",
      "\n",
      "CRS offers Congress research and analysis on all current and emerging issues of national policy.[4] CRS offers timely and confidential assistance to all Members and committees that request it, limited only by CRS's resources and the requirements for balance, nonpartisanship and accuracy.[4] CRS makes no legislative or other policy recommendations to Congress; its responsibility is to ensure that Members of the House and Senate have available the best possible information and analysis on which to base the policy decisions the American people have elected them to make.[4] In all its work, CRS analysts are governed by requirements for confidentiality, timeliness, accuracy, objectivity, balance, and nonpartisanship. CRS services are not limited to those that relate directly to enacting new laws. For example, CRS attempts to assess emerging issues and developing problems so that it will be prepared to assist the Congress if and when it becomes necessary. Although it rarely conducts field research, CRS assists committees in other aspects of their study and oversight responsibilities. In addition, it offers numerous courses, including legal research seminars and institutes on the legislative process, the budget processes, and the work of district and state staff. At the beginning of each Congress, CRS also provides an orientation seminar for new Members.[4] CRS does not conduct research on sitting Members or living former Members of Congress, unless granted specific permission by that Member or if that Member is nominated by the President for another office.[4]\n",
      "\n",
      "Organization Edit\n",
      "\n",
      "CRS is now divided into six interdisciplinary research divisions, each of which is further divided into subject specialist sections. The six divisions are: American Law; Domestic Social Policy; Foreign Affairs, Defense and Trade; Government and Finance; Knowledge Services; and Resources, Science and Industry.[11] The six research divisions are supported in their\n"
     ]
    }
   ],
   "source": [
    "BATCH_SIZE = 500 # 80 for viz\n",
    "SEQ_LEN = 1000 # 61 for viz\n",
    "batch_idx = 36\n",
    "\n",
    "DATA_TOKS, DATA_STR_TOKS_PARSED = process_webtext(seed=1, batch_size=BATCH_SIZE, seq_len=SEQ_LEN, verbose=True, model=model)"
   ]
  },
  {
   "cell_type": "code",
   "execution_count": 4,
   "metadata": {},
   "outputs": [
    {
     "data": {
      "application/vnd.jupyter.widget-view+json": {
       "model_id": "06f1e84949cd4a928b6bd76d3ece8208",
       "version_major": 2,
       "version_minor": 0
      },
      "text/plain": [
       "  0%|          | 0/50 [00:00<?, ?it/s]"
      ]
     },
     "metadata": {},
     "output_type": "display_data"
    },
    {
     "name": "stdout",
     "output_type": "stream",
     "text": [
      "Mean loss = 3.0289\n"
     ]
    }
   ],
   "source": [
    "mini_seq_len = 800\n",
    "\n",
    "loss = t.empty(size=(0, mini_seq_len-1)).to(device)\n",
    "\n",
    "for toks in tqdm(DATA_TOKS[:, :mini_seq_len].split(10)):\n",
    "    loss = t.concat([loss, model.forward(toks, return_type=\"loss\", loss_per_token=True)])\n",
    "\n",
    "print(f\"Mean loss = {loss.mean():.4f}\")"
   ]
  },
  {
   "cell_type": "code",
   "execution_count": 4,
   "metadata": {},
   "outputs": [
    {
     "name": "stderr",
     "output_type": "stream",
     "text": [
      "  0%|          | 0/50 [00:00<?, ?it/s]"
     ]
    },
    {
     "name": "stderr",
     "output_type": "stream",
     "text": [
      "100%|██████████| 50/50 [00:15<00:00,  3.32it/s]\n",
      "Batch 500/500, shape (1, 800), time 6.12s: 100%|██████████| 500/500 [27:22<00:00,  3.29s/it]\n"
     ]
    },
    {
     "data": {
      "text/html": [
       "<pre style=\"white-space:pre;overflow-x:auto;line-height:normal;font-family:Menlo,'DejaVu Sans Mono',consolas,'Courier New',monospace\"><span style=\"font-style: italic\">                                              Results for bar chart!                                               </span>\n",
       "┏━━━━━━━━━━━━━━━━━━━━━━━━━━━━┳━━━━━━━━━━━━━━━━━━━━━━━━┳━━━━━━━━━━━━━━━━━━━━━━━━━━━━━━━┳━━━━━━━━━━━━━━━━━━━━━━━━━━━┓\n",
       "┃<span style=\"font-weight: bold\">                            </span>┃<span style=\"font-weight: bold\">                        </span>┃<span style=\"font-weight: bold\"> Average absolute effect on    </span>┃<span style=\"font-weight: bold\">                           </span>┃\n",
       "┃<span style=\"font-weight: bold\"> Type of ablation           </span>┃<span style=\"font-weight: bold\"> Average effect on loss </span>┃<span style=\"font-weight: bold\"> loss                          </span>┃<span style=\"font-weight: bold\"> Average KL div from clean </span>┃\n",
       "┡━━━━━━━━━━━━━━━━━━━━━━━━━━━━╇━━━━━━━━━━━━━━━━━━━━━━━━╇━━━━━━━━━━━━━━━━━━━━━━━━━━━━━━━╇━━━━━━━━━━━━━━━━━━━━━━━━━━━┩\n",
       "│ Both                       │ 0.0073                 │ 0.0763                        │ 0.01318                   │\n",
       "│ Direct                     │ 0.0102                 │ 0.0739                        │ 0.01449                   │\n",
       "│ Indirect                   │ 0.0016                 │ 0.0422                        │ 0.00323                   │\n",
       "│ Indirect (excluding 11.10) │ 0.0008                 │ 0.0404                        │ 0.00297                   │\n",
       "└────────────────────────────┴────────────────────────┴───────────────────────────────┴───────────────────────────┘\n",
       "</pre>\n"
      ],
      "text/plain": [
       "\u001b[3m                                              Results for bar chart!                                               \u001b[0m\n",
       "┏━━━━━━━━━━━━━━━━━━━━━━━━━━━━┳━━━━━━━━━━━━━━━━━━━━━━━━┳━━━━━━━━━━━━━━━━━━━━━━━━━━━━━━━┳━━━━━━━━━━━━━━━━━━━━━━━━━━━┓\n",
       "┃\u001b[1m                            \u001b[0m┃\u001b[1m                        \u001b[0m┃\u001b[1m \u001b[0m\u001b[1mAverage absolute effect on   \u001b[0m\u001b[1m \u001b[0m┃\u001b[1m                           \u001b[0m┃\n",
       "┃\u001b[1m \u001b[0m\u001b[1mType of ablation          \u001b[0m\u001b[1m \u001b[0m┃\u001b[1m \u001b[0m\u001b[1mAverage effect on loss\u001b[0m\u001b[1m \u001b[0m┃\u001b[1m \u001b[0m\u001b[1mloss                         \u001b[0m\u001b[1m \u001b[0m┃\u001b[1m \u001b[0m\u001b[1mAverage KL div from clean\u001b[0m\u001b[1m \u001b[0m┃\n",
       "┡━━━━━━━━━━━━━━━━━━━━━━━━━━━━╇━━━━━━━━━━━━━━━━━━━━━━━━╇━━━━━━━━━━━━━━━━━━━━━━━━━━━━━━━╇━━━━━━━━━━━━━━━━━━━━━━━━━━━┩\n",
       "│ Both                       │ 0.0073                 │ 0.0763                        │ 0.01318                   │\n",
       "│ Direct                     │ 0.0102                 │ 0.0739                        │ 0.01449                   │\n",
       "│ Indirect                   │ 0.0016                 │ 0.0422                        │ 0.00323                   │\n",
       "│ Indirect (excluding 11.10) │ 0.0008                 │ 0.0404                        │ 0.00297                   │\n",
       "└────────────────────────────┴────────────────────────┴───────────────────────────────┴───────────────────────────┘\n"
      ]
     },
     "metadata": {},
     "output_type": "display_data"
    }
   ],
   "source": [
    "result_mean = get_result_mean(\n",
    "    head_list=[(10, 7)],\n",
    "    toks=DATA_TOKS[:, :800],\n",
    "    model=model,\n",
    "    minibatch_size=10,\n",
    "    keep_seq_dim=True,\n",
    "    verbose=True\n",
    ")\n",
    "\n",
    "model_results = get_model_results_batched(\n",
    "    model = model,\n",
    "    toks = DATA_TOKS[:, :800],\n",
    "    max_batch_size = 1,\n",
    "    negative_heads = [(10, 7)],\n",
    "    use_cuda = True,\n",
    "    store_in_cuda = False,\n",
    "    verbose = True,\n",
    "    effective_embedding = \"W_E (including MLPs)\",\n",
    "    result_mean = result_mean,\n",
    "    keep_logits = False,\n",
    "    keep_seq_dim_when_mean_ablating = True,\n",
    ")\n",
    "\n",
    "loss_diffs_dict = create_dict_for_table(model_results.loss_diffs)\n",
    "kl_divs_dict = create_dict_for_table(model_results.kl_divs)\n",
    "\n",
    "table = Table(\"Type of ablation\", \"Average effect on loss\", \"Average absolute effect on loss\", \"Average KL div from clean\", title=\"Results for bar chart!\")\n",
    "for k, v in loss_diffs_dict.items():\n",
    "    table.add_row(k.capitalize(), f\"{v.mean():.4f}\", f\"{v.abs().mean():.4f}\", f\"{kl_divs_dict[k].mean():.5f}\")\n",
    "rprint(table)"
   ]
  },
  {
   "attachments": {},
   "cell_type": "markdown",
   "metadata": {},
   "source": [
    "# Make actual figure for paper\n",
    "\n",
    "Using the following ChatGPT prompt (the output was heavily amended):"
   ]
  },
  {
   "attachments": {},
   "cell_type": "markdown",
   "metadata": {},
   "source": [
    "Write plotly code for a figure which I will now describe.\n",
    "\n",
    "It should be a bar chart, with 4 values: [x, x+0.0008, x+0.0016, x+0.0102], where x is a value that is externally defined (by default, x is 3.0289). The x-axis labels should be [\"None\", \"Indirect paths<br>(except L11H10)\", \"Indirect paths<br>(all)\", \"Direct path\"]. The x-axis title should be \"Ablated paths\". The y-axis title should be \"Loss\". The plotly template should be \"simple_white\". All bars should be the same color: salmon pink. The title should be \"Comparison of different ablations for L10H7\". The width is 800, height is 600. The y-axes should be appropriately set, so that the min is 0.001 below the min y-value, and the max is 0.004 above the max y-value. The bars should display the values \"\", \"+0.008\", \"+0.0016\", \"+0.0102\" inside of them, just below the top of each bar. You should see this text even if you don't hover over the graph. All the font sizes should be increased, so the text is visible.\n",
    "\n",
    "I also have 4 svg files, called c1, c2, c3, c4 respectively, each of the form \"data:image/svg+xml;base64,\" + (encoded_image). I want these images to be added to the image, each one just above one of the bars. The width of these images should be equal to the width of the bar, and the images' aspect ratios should be preserved.\n",
    "\n",
    "You don't have to run any code, I just want to see the code."
   ]
  },
  {
   "cell_type": "code",
   "execution_count": 5,
   "metadata": {},
   "outputs": [],
   "source": [
    "import plotly.graph_objects as go\n",
    "from plotly.subplots import make_subplots\n",
    "import base64\n",
    "import numpy as np\n",
    "from pathlib import Path\n",
    "import base64\n",
    "\n",
    "figures_path = Path(r\"/root/SERI-MATS-2023-Streamlit-pages/transformer_lens/rs/callum2/generate_st_html/paper_figures\").resolve()"
   ]
  },
  {
   "cell_type": "code",
   "execution_count": 15,
   "metadata": {},
   "outputs": [
    {
     "name": "stdout",
     "output_type": "stream",
     "text": [
      "dict_keys(['cmain', 'c1', 'c2', 'c3', 'c4'])\n"
     ]
    },
    {
     "data": {
      "application/vnd.plotly.v1+json": {
       "config": {
        "plotlyServerURL": "https://plot.ly",
        "staticPlot": true
       },
       "data": [
        {
         "hoverinfo": "y",
         "marker": {
          "color": "salmon"
         },
         "text": [
          "",
          "+0.0008",
          "+0.0016",
          "+0.0102"
         ],
         "textposition": "inside",
         "type": "bar",
         "x": [
          "None",
          "Indirect paths<br>(except L11H10)",
          "Indirect paths<br>(all)",
          "Direct path"
         ],
         "y": [
          3.0289,
          3.0297,
          3.0305,
          3.0391000000000004
         ]
        }
       ],
       "layout": {
        "bargap": 0.45,
        "font": {
         "size": 28
        },
        "height": 900,
        "images": [
         {
          "layer": "below",
          "sizex": 0.5,
          "sizey": 0.0035,
          "sizing": "contain",
          "source": "data:image/svg+xml;base64,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",
          "x": "None",
          "xanchor": "center",
          "xref": "x",
          "y": 3.0294000000000003,
          "yanchor": "bottom",
          "yref": "y"
         },
         {
          "layer": "below",
          "sizex": 0.5,
          "sizey": 0.0035,
          "sizing": "contain",
          "source": "data:image/svg+xml;base64,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",
          "x": "Indirect paths<br>(except L11H10)",
          "xanchor": "center",
          "xref": "x",
          "y": 3.0302000000000002,
          "yanchor": "bottom",
          "yref": "y"
         },
         {
          "layer": "below",
          "sizex": 0.5,
          "sizey": 0.0035,
          "sizing": "contain",
          "source": "data:image/svg+xml;base64,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",
          "x": "Indirect paths<br>(all)",
          "xanchor": "center",
          "xref": "x",
          "y": 3.031,
          "yanchor": "bottom",
          "yref": "y"
         },
         {
          "layer": "below",
          "sizex": 0.5,
          "sizey": 0.0035,
          "sizing": "contain",
          "source": "data:image/svg+xml;base64,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",
          "x": "Direct path",
          "xanchor": "center",
          "xref": "x",
          "y": 3.0396000000000005,
          "yanchor": "bottom",
          "yref": "y"
         },
         {
          "layer": "below",
          "sizex": 0.45,
          "sizey": 0.45,
          "sizing": "contain",
          "source": "data:image/svg+xml;base64,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",
          "x": 0.35,
          "xanchor": "center",
          "xref": "paper",
          "y": 0.76,
          "yanchor": "middle",
          "yref": "paper"
         }
        ],
        "margin": {
         "b": 120,
         "l": 120,
         "r": 60,
         "t": 140
        },
        "template": {
         "data": {
          "bar": [
           {
            "error_x": {
             "color": "rgb(36,36,36)"
            },
            "error_y": {
             "color": "rgb(36,36,36)"
            },
            "marker": {
             "line": {
              "color": "white",
              "width": 0.5
             },
             "pattern": {
              "fillmode": "overlay",
              "size": 10,
              "solidity": 0.2
             }
            },
            "type": "bar"
           }
          ],
          "barpolar": [
           {
            "marker": {
             "line": {
              "color": "white",
              "width": 0.5
             },
             "pattern": {
              "fillmode": "overlay",
              "size": 10,
              "solidity": 0.2
             }
            },
            "type": "barpolar"
           }
          ],
          "carpet": [
           {
            "aaxis": {
             "endlinecolor": "rgb(36,36,36)",
             "gridcolor": "white",
             "linecolor": "white",
             "minorgridcolor": "white",
             "startlinecolor": "rgb(36,36,36)"
            },
            "baxis": {
             "endlinecolor": "rgb(36,36,36)",
             "gridcolor": "white",
             "linecolor": "white",
             "minorgridcolor": "white",
             "startlinecolor": "rgb(36,36,36)"
            },
            "type": "carpet"
           }
          ],
          "choropleth": [
           {
            "colorbar": {
             "outlinewidth": 1,
             "tickcolor": "rgb(36,36,36)",
             "ticks": "outside"
            },
            "type": "choropleth"
           }
          ],
          "contour": [
           {
            "colorbar": {
             "outlinewidth": 1,
             "tickcolor": "rgb(36,36,36)",
             "ticks": "outside"
            },
            "colorscale": [
             [
              0,
              "#440154"
             ],
             [
              0.1111111111111111,
              "#482878"
             ],
             [
              0.2222222222222222,
              "#3e4989"
             ],
             [
              0.3333333333333333,
              "#31688e"
             ],
             [
              0.4444444444444444,
              "#26828e"
             ],
             [
              0.5555555555555556,
              "#1f9e89"
             ],
             [
              0.6666666666666666,
              "#35b779"
             ],
             [
              0.7777777777777778,
              "#6ece58"
             ],
             [
              0.8888888888888888,
              "#b5de2b"
             ],
             [
              1,
              "#fde725"
             ]
            ],
            "type": "contour"
           }
          ],
          "contourcarpet": [
           {
            "colorbar": {
             "outlinewidth": 1,
             "tickcolor": "rgb(36,36,36)",
             "ticks": "outside"
            },
            "type": "contourcarpet"
           }
          ],
          "heatmap": [
           {
            "colorbar": {
             "outlinewidth": 1,
             "tickcolor": "rgb(36,36,36)",
             "ticks": "outside"
            },
            "colorscale": [
             [
              0,
              "#440154"
             ],
             [
              0.1111111111111111,
              "#482878"
             ],
             [
              0.2222222222222222,
              "#3e4989"
             ],
             [
              0.3333333333333333,
              "#31688e"
             ],
             [
              0.4444444444444444,
              "#26828e"
             ],
             [
              0.5555555555555556,
              "#1f9e89"
             ],
             [
              0.6666666666666666,
              "#35b779"
             ],
             [
              0.7777777777777778,
              "#6ece58"
             ],
             [
              0.8888888888888888,
              "#b5de2b"
             ],
             [
              1,
              "#fde725"
             ]
            ],
            "type": "heatmap"
           }
          ],
          "heatmapgl": [
           {
            "colorbar": {
             "outlinewidth": 1,
             "tickcolor": "rgb(36,36,36)",
             "ticks": "outside"
            },
            "colorscale": [
             [
              0,
              "#440154"
             ],
             [
              0.1111111111111111,
              "#482878"
             ],
             [
              0.2222222222222222,
              "#3e4989"
             ],
             [
              0.3333333333333333,
              "#31688e"
             ],
             [
              0.4444444444444444,
              "#26828e"
             ],
             [
              0.5555555555555556,
              "#1f9e89"
             ],
             [
              0.6666666666666666,
              "#35b779"
             ],
             [
              0.7777777777777778,
              "#6ece58"
             ],
             [
              0.8888888888888888,
              "#b5de2b"
             ],
             [
              1,
              "#fde725"
             ]
            ],
            "type": "heatmapgl"
           }
          ],
          "histogram": [
           {
            "marker": {
             "line": {
              "color": "white",
              "width": 0.6
             }
            },
            "type": "histogram"
           }
          ],
          "histogram2d": [
           {
            "colorbar": {
             "outlinewidth": 1,
             "tickcolor": "rgb(36,36,36)",
             "ticks": "outside"
            },
            "colorscale": [
             [
              0,
              "#440154"
             ],
             [
              0.1111111111111111,
              "#482878"
             ],
             [
              0.2222222222222222,
              "#3e4989"
             ],
             [
              0.3333333333333333,
              "#31688e"
             ],
             [
              0.4444444444444444,
              "#26828e"
             ],
             [
              0.5555555555555556,
              "#1f9e89"
             ],
             [
              0.6666666666666666,
              "#35b779"
             ],
             [
              0.7777777777777778,
              "#6ece58"
             ],
             [
              0.8888888888888888,
              "#b5de2b"
             ],
             [
              1,
              "#fde725"
             ]
            ],
            "type": "histogram2d"
           }
          ],
          "histogram2dcontour": [
           {
            "colorbar": {
             "outlinewidth": 1,
             "tickcolor": "rgb(36,36,36)",
             "ticks": "outside"
            },
            "colorscale": [
             [
              0,
              "#440154"
             ],
             [
              0.1111111111111111,
              "#482878"
             ],
             [
              0.2222222222222222,
              "#3e4989"
             ],
             [
              0.3333333333333333,
              "#31688e"
             ],
             [
              0.4444444444444444,
              "#26828e"
             ],
             [
              0.5555555555555556,
              "#1f9e89"
             ],
             [
              0.6666666666666666,
              "#35b779"
             ],
             [
              0.7777777777777778,
              "#6ece58"
             ],
             [
              0.8888888888888888,
              "#b5de2b"
             ],
             [
              1,
              "#fde725"
             ]
            ],
            "type": "histogram2dcontour"
           }
          ],
          "mesh3d": [
           {
            "colorbar": {
             "outlinewidth": 1,
             "tickcolor": "rgb(36,36,36)",
             "ticks": "outside"
            },
            "type": "mesh3d"
           }
          ],
          "parcoords": [
           {
            "line": {
             "colorbar": {
              "outlinewidth": 1,
              "tickcolor": "rgb(36,36,36)",
              "ticks": "outside"
             }
            },
            "type": "parcoords"
           }
          ],
          "pie": [
           {
            "automargin": true,
            "type": "pie"
           }
          ],
          "scatter": [
           {
            "fillpattern": {
             "fillmode": "overlay",
             "size": 10,
             "solidity": 0.2
            },
            "type": "scatter"
           }
          ],
          "scatter3d": [
           {
            "line": {
             "colorbar": {
              "outlinewidth": 1,
              "tickcolor": "rgb(36,36,36)",
              "ticks": "outside"
             }
            },
            "marker": {
             "colorbar": {
              "outlinewidth": 1,
              "tickcolor": "rgb(36,36,36)",
              "ticks": "outside"
             }
            },
            "type": "scatter3d"
           }
          ],
          "scattercarpet": [
           {
            "marker": {
             "colorbar": {
              "outlinewidth": 1,
              "tickcolor": "rgb(36,36,36)",
              "ticks": "outside"
             }
            },
            "type": "scattercarpet"
           }
          ],
          "scattergeo": [
           {
            "marker": {
             "colorbar": {
              "outlinewidth": 1,
              "tickcolor": "rgb(36,36,36)",
              "ticks": "outside"
             }
            },
            "type": "scattergeo"
           }
          ],
          "scattergl": [
           {
            "marker": {
             "colorbar": {
              "outlinewidth": 1,
              "tickcolor": "rgb(36,36,36)",
              "ticks": "outside"
             }
            },
            "type": "scattergl"
           }
          ],
          "scattermapbox": [
           {
            "marker": {
             "colorbar": {
              "outlinewidth": 1,
              "tickcolor": "rgb(36,36,36)",
              "ticks": "outside"
             }
            },
            "type": "scattermapbox"
           }
          ],
          "scatterpolar": [
           {
            "marker": {
             "colorbar": {
              "outlinewidth": 1,
              "tickcolor": "rgb(36,36,36)",
              "ticks": "outside"
             }
            },
            "type": "scatterpolar"
           }
          ],
          "scatterpolargl": [
           {
            "marker": {
             "colorbar": {
              "outlinewidth": 1,
              "tickcolor": "rgb(36,36,36)",
              "ticks": "outside"
             }
            },
            "type": "scatterpolargl"
           }
          ],
          "scatterternary": [
           {
            "marker": {
             "colorbar": {
              "outlinewidth": 1,
              "tickcolor": "rgb(36,36,36)",
              "ticks": "outside"
             }
            },
            "type": "scatterternary"
           }
          ],
          "surface": [
           {
            "colorbar": {
             "outlinewidth": 1,
             "tickcolor": "rgb(36,36,36)",
             "ticks": "outside"
            },
            "colorscale": [
             [
              0,
              "#440154"
             ],
             [
              0.1111111111111111,
              "#482878"
             ],
             [
              0.2222222222222222,
              "#3e4989"
             ],
             [
              0.3333333333333333,
              "#31688e"
             ],
             [
              0.4444444444444444,
              "#26828e"
             ],
             [
              0.5555555555555556,
              "#1f9e89"
             ],
             [
              0.6666666666666666,
              "#35b779"
             ],
             [
              0.7777777777777778,
              "#6ece58"
             ],
             [
              0.8888888888888888,
              "#b5de2b"
             ],
             [
              1,
              "#fde725"
             ]
            ],
            "type": "surface"
           }
          ],
          "table": [
           {
            "cells": {
             "fill": {
              "color": "rgb(237,237,237)"
             },
             "line": {
              "color": "white"
             }
            },
            "header": {
             "fill": {
              "color": "rgb(217,217,217)"
             },
             "line": {
              "color": "white"
             }
            },
            "type": "table"
           }
          ]
         },
         "layout": {
          "annotationdefaults": {
           "arrowhead": 0,
           "arrowwidth": 1
          },
          "autotypenumbers": "strict",
          "coloraxis": {
           "colorbar": {
            "outlinewidth": 1,
            "tickcolor": "rgb(36,36,36)",
            "ticks": "outside"
           }
          },
          "colorscale": {
           "diverging": [
            [
             0,
             "rgb(103,0,31)"
            ],
            [
             0.1,
             "rgb(178,24,43)"
            ],
            [
             0.2,
             "rgb(214,96,77)"
            ],
            [
             0.3,
             "rgb(244,165,130)"
            ],
            [
             0.4,
             "rgb(253,219,199)"
            ],
            [
             0.5,
             "rgb(247,247,247)"
            ],
            [
             0.6,
             "rgb(209,229,240)"
            ],
            [
             0.7,
             "rgb(146,197,222)"
            ],
            [
             0.8,
             "rgb(67,147,195)"
            ],
            [
             0.9,
             "rgb(33,102,172)"
            ],
            [
             1,
             "rgb(5,48,97)"
            ]
           ],
           "sequential": [
            [
             0,
             "#440154"
            ],
            [
             0.1111111111111111,
             "#482878"
            ],
            [
             0.2222222222222222,
             "#3e4989"
            ],
            [
             0.3333333333333333,
             "#31688e"
            ],
            [
             0.4444444444444444,
             "#26828e"
            ],
            [
             0.5555555555555556,
             "#1f9e89"
            ],
            [
             0.6666666666666666,
             "#35b779"
            ],
            [
             0.7777777777777778,
             "#6ece58"
            ],
            [
             0.8888888888888888,
             "#b5de2b"
            ],
            [
             1,
             "#fde725"
            ]
           ],
           "sequentialminus": [
            [
             0,
             "#440154"
            ],
            [
             0.1111111111111111,
             "#482878"
            ],
            [
             0.2222222222222222,
             "#3e4989"
            ],
            [
             0.3333333333333333,
             "#31688e"
            ],
            [
             0.4444444444444444,
             "#26828e"
            ],
            [
             0.5555555555555556,
             "#1f9e89"
            ],
            [
             0.6666666666666666,
             "#35b779"
            ],
            [
             0.7777777777777778,
             "#6ece58"
            ],
            [
             0.8888888888888888,
             "#b5de2b"
            ],
            [
             1,
             "#fde725"
            ]
           ]
          },
          "colorway": [
           "#1F77B4",
           "#FF7F0E",
           "#2CA02C",
           "#D62728",
           "#9467BD",
           "#8C564B",
           "#E377C2",
           "#7F7F7F",
           "#BCBD22",
           "#17BECF"
          ],
          "font": {
           "color": "rgb(36,36,36)"
          },
          "geo": {
           "bgcolor": "white",
           "lakecolor": "white",
           "landcolor": "white",
           "showlakes": true,
           "showland": true,
           "subunitcolor": "white"
          },
          "hoverlabel": {
           "align": "left"
          },
          "hovermode": "closest",
          "mapbox": {
           "style": "light"
          },
          "paper_bgcolor": "white",
          "plot_bgcolor": "white",
          "polar": {
           "angularaxis": {
            "gridcolor": "rgb(232,232,232)",
            "linecolor": "rgb(36,36,36)",
            "showgrid": false,
            "showline": true,
            "ticks": "outside"
           },
           "bgcolor": "white",
           "radialaxis": {
            "gridcolor": "rgb(232,232,232)",
            "linecolor": "rgb(36,36,36)",
            "showgrid": false,
            "showline": true,
            "ticks": "outside"
           }
          },
          "scene": {
           "xaxis": {
            "backgroundcolor": "white",
            "gridcolor": "rgb(232,232,232)",
            "gridwidth": 2,
            "linecolor": "rgb(36,36,36)",
            "showbackground": true,
            "showgrid": false,
            "showline": true,
            "ticks": "outside",
            "zeroline": false,
            "zerolinecolor": "rgb(36,36,36)"
           },
           "yaxis": {
            "backgroundcolor": "white",
            "gridcolor": "rgb(232,232,232)",
            "gridwidth": 2,
            "linecolor": "rgb(36,36,36)",
            "showbackground": true,
            "showgrid": false,
            "showline": true,
            "ticks": "outside",
            "zeroline": false,
            "zerolinecolor": "rgb(36,36,36)"
           },
           "zaxis": {
            "backgroundcolor": "white",
            "gridcolor": "rgb(232,232,232)",
            "gridwidth": 2,
            "linecolor": "rgb(36,36,36)",
            "showbackground": true,
            "showgrid": false,
            "showline": true,
            "ticks": "outside",
            "zeroline": false,
            "zerolinecolor": "rgb(36,36,36)"
           }
          },
          "shapedefaults": {
           "fillcolor": "black",
           "line": {
            "width": 0
           },
           "opacity": 0.3
          },
          "ternary": {
           "aaxis": {
            "gridcolor": "rgb(232,232,232)",
            "linecolor": "rgb(36,36,36)",
            "showgrid": false,
            "showline": true,
            "ticks": "outside"
           },
           "baxis": {
            "gridcolor": "rgb(232,232,232)",
            "linecolor": "rgb(36,36,36)",
            "showgrid": false,
            "showline": true,
            "ticks": "outside"
           },
           "bgcolor": "white",
           "caxis": {
            "gridcolor": "rgb(232,232,232)",
            "linecolor": "rgb(36,36,36)",
            "showgrid": false,
            "showline": true,
            "ticks": "outside"
           }
          },
          "title": {
           "x": 0.05
          },
          "xaxis": {
           "automargin": true,
           "gridcolor": "rgb(232,232,232)",
           "linecolor": "rgb(36,36,36)",
           "showgrid": false,
           "showline": true,
           "ticks": "outside",
           "title": {
            "standoff": 15
           },
           "zeroline": false,
           "zerolinecolor": "rgb(36,36,36)"
          },
          "yaxis": {
           "automargin": true,
           "gridcolor": "rgb(232,232,232)",
           "linecolor": "rgb(36,36,36)",
           "showgrid": false,
           "showline": true,
           "ticks": "outside",
           "title": {
            "standoff": 15
           },
           "zeroline": false,
           "zerolinecolor": "rgb(36,36,36)"
          }
         }
        },
        "title": {
         "font": {
          "size": 52
         },
         "text": "Comparison of different ablations for L10H7",
         "y": 0.95
        },
        "width": 1200,
        "xaxis": {
         "title": {
          "standoff": 30,
          "text": "Ablated paths"
         }
        },
        "yaxis": {
         "range": [
          3.0279000000000003,
          3.0441000000000003
         ],
         "title": {
          "text": "Loss"
         }
        }
       }
      },
      "text/html": [
       "<div>                            <div id=\"8f7e696d-7f95-4c7e-8215-b7d862122862\" class=\"plotly-graph-div\" style=\"height:900px; width:1200px;\"></div>            <script type=\"text/javascript\">                require([\"plotly\"], function(Plotly) {                    window.PLOTLYENV=window.PLOTLYENV || {};                                    if (document.getElementById(\"8f7e696d-7f95-4c7e-8215-b7d862122862\")) {                    Plotly.newPlot(                        \"8f7e696d-7f95-4c7e-8215-b7d862122862\",                        [{\"hoverinfo\":\"y\",\"marker\":{\"color\":\"salmon\"},\"text\":[\"\",\"+0.0008\",\"+0.0016\",\"+0.0102\"],\"textposition\":\"inside\",\"x\":[\"None\",\"Indirect paths\\u003cbr\\u003e(except L11H10)\",\"Indirect paths\\u003cbr\\u003e(all)\",\"Direct path\"],\"y\":[3.0289,3.0297,3.0305,3.0391000000000004],\"type\":\"bar\"}],                        {\"template\":{\"data\":{\"barpolar\":[{\"marker\":{\"line\":{\"color\":\"white\",\"width\":0.5},\"pattern\":{\"fillmode\":\"overlay\",\"size\":10,\"solidity\":0.2}},\"type\":\"barpolar\"}],\"bar\":[{\"error_x\":{\"color\":\"rgb(36,36,36)\"},\"error_y\":{\"color\":\"rgb(36,36,36)\"},\"marker\":{\"line\":{\"color\":\"white\",\"width\":0.5},\"pattern\":{\"fillmode\":\"overlay\",\"size\":10,\"solidity\":0.2}},\"type\":\"bar\"}],\"carpet\":[{\"aaxis\":{\"endlinecolor\":\"rgb(36,36,36)\",\"gridcolor\":\"white\",\"linecolor\":\"white\",\"minorgridcolor\":\"white\",\"startlinecolor\":\"rgb(36,36,36)\"},\"baxis\":{\"endlinecolor\":\"rgb(36,36,36)\",\"gridcolor\":\"white\",\"linecolor\":\"white\",\"minorgridcolor\":\"white\",\"startlinecolor\":\"rgb(36,36,36)\"},\"type\":\"carpet\"}],\"choropleth\":[{\"colorbar\":{\"outlinewidth\":1,\"tickcolor\":\"rgb(36,36,36)\",\"ticks\":\"outside\"},\"type\":\"choropleth\"}],\"contourcarpet\":[{\"colorbar\":{\"outlinewidth\":1,\"tickcolor\":\"rgb(36,36,36)\",\"ticks\":\"outside\"},\"type\":\"contourcarpet\"}],\"contour\":[{\"colorbar\":{\"outlinewidth\":1,\"tickcolor\":\"rgb(36,36,36)\",\"ticks\":\"outside\"},\"colorscale\":[[0.0,\"#440154\"],[0.1111111111111111,\"#482878\"],[0.2222222222222222,\"#3e4989\"],[0.3333333333333333,\"#31688e\"],[0.4444444444444444,\"#26828e\"],[0.5555555555555556,\"#1f9e89\"],[0.6666666666666666,\"#35b779\"],[0.7777777777777778,\"#6ece58\"],[0.8888888888888888,\"#b5de2b\"],[1.0,\"#fde725\"]],\"type\":\"contour\"}],\"heatmapgl\":[{\"colorbar\":{\"outlinewidth\":1,\"tickcolor\":\"rgb(36,36,36)\",\"ticks\":\"outside\"},\"colorscale\":[[0.0,\"#440154\"],[0.1111111111111111,\"#482878\"],[0.2222222222222222,\"#3e4989\"],[0.3333333333333333,\"#31688e\"],[0.4444444444444444,\"#26828e\"],[0.5555555555555556,\"#1f9e89\"],[0.6666666666666666,\"#35b779\"],[0.7777777777777778,\"#6ece58\"],[0.8888888888888888,\"#b5de2b\"],[1.0,\"#fde725\"]],\"type\":\"heatmapgl\"}],\"heatmap\":[{\"colorbar\":{\"outlinewidth\":1,\"tickcolor\":\"rgb(36,36,36)\",\"ticks\":\"outside\"},\"colorscale\":[[0.0,\"#440154\"],[0.1111111111111111,\"#482878\"],[0.2222222222222222,\"#3e4989\"],[0.3333333333333333,\"#31688e\"],[0.4444444444444444,\"#26828e\"],[0.5555555555555556,\"#1f9e89\"],[0.6666666666666666,\"#35b779\"],[0.7777777777777778,\"#6ece58\"],[0.8888888888888888,\"#b5de2b\"],[1.0,\"#fde725\"]],\"type\":\"heatmap\"}],\"histogram2dcontour\":[{\"colorbar\":{\"outlinewidth\":1,\"tickcolor\":\"rgb(36,36,36)\",\"ticks\":\"outside\"},\"colorscale\":[[0.0,\"#440154\"],[0.1111111111111111,\"#482878\"],[0.2222222222222222,\"#3e4989\"],[0.3333333333333333,\"#31688e\"],[0.4444444444444444,\"#26828e\"],[0.5555555555555556,\"#1f9e89\"],[0.6666666666666666,\"#35b779\"],[0.7777777777777778,\"#6ece58\"],[0.8888888888888888,\"#b5de2b\"],[1.0,\"#fde725\"]],\"type\":\"histogram2dcontour\"}],\"histogram2d\":[{\"colorbar\":{\"outlinewidth\":1,\"tickcolor\":\"rgb(36,36,36)\",\"ticks\":\"outside\"},\"colorscale\":[[0.0,\"#440154\"],[0.1111111111111111,\"#482878\"],[0.2222222222222222,\"#3e4989\"],[0.3333333333333333,\"#31688e\"],[0.4444444444444444,\"#26828e\"],[0.5555555555555556,\"#1f9e89\"],[0.6666666666666666,\"#35b779\"],[0.7777777777777778,\"#6ece58\"],[0.8888888888888888,\"#b5de2b\"],[1.0,\"#fde725\"]],\"type\":\"histogram2d\"}],\"histogram\":[{\"marker\":{\"line\":{\"color\":\"white\",\"width\":0.6}},\"type\":\"histogram\"}],\"mesh3d\":[{\"colorbar\":{\"outlinewidth\":1,\"tickcolor\":\"rgb(36,36,36)\",\"ticks\":\"outside\"},\"type\":\"mesh3d\"}],\"parcoords\":[{\"line\":{\"colorbar\":{\"outlinewidth\":1,\"tickcolor\":\"rgb(36,36,36)\",\"ticks\":\"outside\"}},\"type\":\"parcoords\"}],\"pie\":[{\"automargin\":true,\"type\":\"pie\"}],\"scatter3d\":[{\"line\":{\"colorbar\":{\"outlinewidth\":1,\"tickcolor\":\"rgb(36,36,36)\",\"ticks\":\"outside\"}},\"marker\":{\"colorbar\":{\"outlinewidth\":1,\"tickcolor\":\"rgb(36,36,36)\",\"ticks\":\"outside\"}},\"type\":\"scatter3d\"}],\"scattercarpet\":[{\"marker\":{\"colorbar\":{\"outlinewidth\":1,\"tickcolor\":\"rgb(36,36,36)\",\"ticks\":\"outside\"}},\"type\":\"scattercarpet\"}],\"scattergeo\":[{\"marker\":{\"colorbar\":{\"outlinewidth\":1,\"tickcolor\":\"rgb(36,36,36)\",\"ticks\":\"outside\"}},\"type\":\"scattergeo\"}],\"scattergl\":[{\"marker\":{\"colorbar\":{\"outlinewidth\":1,\"tickcolor\":\"rgb(36,36,36)\",\"ticks\":\"outside\"}},\"type\":\"scattergl\"}],\"scattermapbox\":[{\"marker\":{\"colorbar\":{\"outlinewidth\":1,\"tickcolor\":\"rgb(36,36,36)\",\"ticks\":\"outside\"}},\"type\":\"scattermapbox\"}],\"scatterpolargl\":[{\"marker\":{\"colorbar\":{\"outlinewidth\":1,\"tickcolor\":\"rgb(36,36,36)\",\"ticks\":\"outside\"}},\"type\":\"scatterpolargl\"}],\"scatterpolar\":[{\"marker\":{\"colorbar\":{\"outlinewidth\":1,\"tickcolor\":\"rgb(36,36,36)\",\"ticks\":\"outside\"}},\"type\":\"scatterpolar\"}],\"scatter\":[{\"fillpattern\":{\"fillmode\":\"overlay\",\"size\":10,\"solidity\":0.2},\"type\":\"scatter\"}],\"scatterternary\":[{\"marker\":{\"colorbar\":{\"outlinewidth\":1,\"tickcolor\":\"rgb(36,36,36)\",\"ticks\":\"outside\"}},\"type\":\"scatterternary\"}],\"surface\":[{\"colorbar\":{\"outlinewidth\":1,\"tickcolor\":\"rgb(36,36,36)\",\"ticks\":\"outside\"},\"colorscale\":[[0.0,\"#440154\"],[0.1111111111111111,\"#482878\"],[0.2222222222222222,\"#3e4989\"],[0.3333333333333333,\"#31688e\"],[0.4444444444444444,\"#26828e\"],[0.5555555555555556,\"#1f9e89\"],[0.6666666666666666,\"#35b779\"],[0.7777777777777778,\"#6ece58\"],[0.8888888888888888,\"#b5de2b\"],[1.0,\"#fde725\"]],\"type\":\"surface\"}],\"table\":[{\"cells\":{\"fill\":{\"color\":\"rgb(237,237,237)\"},\"line\":{\"color\":\"white\"}},\"header\":{\"fill\":{\"color\":\"rgb(217,217,217)\"},\"line\":{\"color\":\"white\"}},\"type\":\"table\"}]},\"layout\":{\"annotationdefaults\":{\"arrowhead\":0,\"arrowwidth\":1},\"autotypenumbers\":\"strict\",\"coloraxis\":{\"colorbar\":{\"outlinewidth\":1,\"tickcolor\":\"rgb(36,36,36)\",\"ticks\":\"outside\"}},\"colorscale\":{\"diverging\":[[0.0,\"rgb(103,0,31)\"],[0.1,\"rgb(178,24,43)\"],[0.2,\"rgb(214,96,77)\"],[0.3,\"rgb(244,165,130)\"],[0.4,\"rgb(253,219,199)\"],[0.5,\"rgb(247,247,247)\"],[0.6,\"rgb(209,229,240)\"],[0.7,\"rgb(146,197,222)\"],[0.8,\"rgb(67,147,195)\"],[0.9,\"rgb(33,102,172)\"],[1.0,\"rgb(5,48,97)\"]],\"sequential\":[[0.0,\"#440154\"],[0.1111111111111111,\"#482878\"],[0.2222222222222222,\"#3e4989\"],[0.3333333333333333,\"#31688e\"],[0.4444444444444444,\"#26828e\"],[0.5555555555555556,\"#1f9e89\"],[0.6666666666666666,\"#35b779\"],[0.7777777777777778,\"#6ece58\"],[0.8888888888888888,\"#b5de2b\"],[1.0,\"#fde725\"]],\"sequentialminus\":[[0.0,\"#440154\"],[0.1111111111111111,\"#482878\"],[0.2222222222222222,\"#3e4989\"],[0.3333333333333333,\"#31688e\"],[0.4444444444444444,\"#26828e\"],[0.5555555555555556,\"#1f9e89\"],[0.6666666666666666,\"#35b779\"],[0.7777777777777778,\"#6ece58\"],[0.8888888888888888,\"#b5de2b\"],[1.0,\"#fde725\"]]},\"colorway\":[\"#1F77B4\",\"#FF7F0E\",\"#2CA02C\",\"#D62728\",\"#9467BD\",\"#8C564B\",\"#E377C2\",\"#7F7F7F\",\"#BCBD22\",\"#17BECF\"],\"font\":{\"color\":\"rgb(36,36,36)\"},\"geo\":{\"bgcolor\":\"white\",\"lakecolor\":\"white\",\"landcolor\":\"white\",\"showlakes\":true,\"showland\":true,\"subunitcolor\":\"white\"},\"hoverlabel\":{\"align\":\"left\"},\"hovermode\":\"closest\",\"mapbox\":{\"style\":\"light\"},\"paper_bgcolor\":\"white\",\"plot_bgcolor\":\"white\",\"polar\":{\"angularaxis\":{\"gridcolor\":\"rgb(232,232,232)\",\"linecolor\":\"rgb(36,36,36)\",\"showgrid\":false,\"showline\":true,\"ticks\":\"outside\"},\"bgcolor\":\"white\",\"radialaxis\":{\"gridcolor\":\"rgb(232,232,232)\",\"linecolor\":\"rgb(36,36,36)\",\"showgrid\":false,\"showline\":true,\"ticks\":\"outside\"}},\"scene\":{\"xaxis\":{\"backgroundcolor\":\"white\",\"gridcolor\":\"rgb(232,232,232)\",\"gridwidth\":2,\"linecolor\":\"rgb(36,36,36)\",\"showbackground\":true,\"showgrid\":false,\"showline\":true,\"ticks\":\"outside\",\"zeroline\":false,\"zerolinecolor\":\"rgb(36,36,36)\"},\"yaxis\":{\"backgroundcolor\":\"white\",\"gridcolor\":\"rgb(232,232,232)\",\"gridwidth\":2,\"linecolor\":\"rgb(36,36,36)\",\"showbackground\":true,\"showgrid\":false,\"showline\":true,\"ticks\":\"outside\",\"zeroline\":false,\"zerolinecolor\":\"rgb(36,36,36)\"},\"zaxis\":{\"backgroundcolor\":\"white\",\"gridcolor\":\"rgb(232,232,232)\",\"gridwidth\":2,\"linecolor\":\"rgb(36,36,36)\",\"showbackground\":true,\"showgrid\":false,\"showline\":true,\"ticks\":\"outside\",\"zeroline\":false,\"zerolinecolor\":\"rgb(36,36,36)\"}},\"shapedefaults\":{\"fillcolor\":\"black\",\"line\":{\"width\":0},\"opacity\":0.3},\"ternary\":{\"aaxis\":{\"gridcolor\":\"rgb(232,232,232)\",\"linecolor\":\"rgb(36,36,36)\",\"showgrid\":false,\"showline\":true,\"ticks\":\"outside\"},\"baxis\":{\"gridcolor\":\"rgb(232,232,232)\",\"linecolor\":\"rgb(36,36,36)\",\"showgrid\":false,\"showline\":true,\"ticks\":\"outside\"},\"bgcolor\":\"white\",\"caxis\":{\"gridcolor\":\"rgb(232,232,232)\",\"linecolor\":\"rgb(36,36,36)\",\"showgrid\":false,\"showline\":true,\"ticks\":\"outside\"}},\"title\":{\"x\":0.05},\"xaxis\":{\"automargin\":true,\"gridcolor\":\"rgb(232,232,232)\",\"linecolor\":\"rgb(36,36,36)\",\"showgrid\":false,\"showline\":true,\"ticks\":\"outside\",\"title\":{\"standoff\":15},\"zeroline\":false,\"zerolinecolor\":\"rgb(36,36,36)\"},\"yaxis\":{\"automargin\":true,\"gridcolor\":\"rgb(232,232,232)\",\"linecolor\":\"rgb(36,36,36)\",\"showgrid\":false,\"showline\":true,\"ticks\":\"outside\",\"title\":{\"standoff\":15},\"zeroline\":false,\"zerolinecolor\":\"rgb(36,36,36)\"}}},\"images\":[{\"layer\":\"below\",\"sizex\":0.5,\"sizey\":0.0035,\"sizing\":\"contain\",\"source\":\"data:image\\u002fsvg+xml;base64,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\",\"x\":\"None\",\"xanchor\":\"center\",\"xref\":\"x\",\"y\":3.0294000000000003,\"yanchor\":\"bottom\",\"yref\":\"y\"},{\"layer\":\"below\",\"sizex\":0.5,\"sizey\":0.0035,\"sizing\":\"contain\",\"source\":\"data:image\\u002fsvg+xml;base64,PHN2ZyB4bWxucz0iaHR0cDovL3d3dy53My5vcmcvMjAwMC9zdmciIHhtbG5zOnhsaW5rPSJodHRwOi8vd3d3LnczLm9yZy8xOTk5L3hsaW5rIiB4bWxuczpsdWNpZD0ibHVjaWQiIHdpZHRoPSIxNDUiIGhlaWdodD0iMTU5Ij48ZyB0cmFuc2Zvcm09InRyYW5zbGF0ZSgtMjAwIC01NDYpIiBsdWNpZDpwYWdlLXRhYi1pZD0iMF8wIj48cGF0aCBkPSJNMzMyLjk2IDU3Mi4xYzAgNS45NS00LjgzIDEwLjc4LTEwLjggMTAuNzgtNS45NCAwLTEwLjc3LTQuODMtMTAuNzctMTAuNzggMC01Ljk2IDQuODItMTAuOCAxMC43Ny0xMC44IDUuOTYgMCAxMC44IDQuODQgMTAuOCAxMC44ek0zMzIuOTYgNjc5Ljk1YzAgNS45NS00LjgzIDEwLjc4LTEwLjggMTAuNzgtNS45NCAwLTEwLjc3LTQuODMtMTAuNzctMTAuNzggMC01Ljk2IDQuODItMTAuOCAxMC43Ny0xMC44IDUuOTYgMCAxMC44IDQuODQgMTAuOCAxMC44eiIgc3Ryb2tlPSIjMDAwIiBzdHJva2Utd2lkdGg9IjMiIGZpbGw9IiNmZmYiLz48cGF0aCBkPSJNMjM1Ljk1IDYyNS43NGMwIDUuOTYtNC44MyAxMC43OC0xMC44IDEwLjc4LTUuOTQgMC0xMC43Ny00LjgyLTEwLjc3LTEwLjc4IDAtNS45NiA0LjgzLTEwLjggMTAuNzgtMTAuOCA1Ljk2IDAgMTAuOCA0Ljg0IDEwLjggMTAuOHoiIHN0cm9rZT0iI2JiYmVjMiIgc3Ryb2tlLXdpZHRoPSIzIiBmaWxsPSIjZmZmIi8+PHBhdGggZD0iTTI3Mi4yNSA2MDUuOTV2MTkuODRhLjIzLjIzIDAgMCAxLS4yMy4yMi4yMy4yMyAwIDAgMC0uMjMuMjN2MTkuODRNMjcyLjI1IDYwNnYtMS41NU0yNzEuOCA2NDYuMDV2MS41NCIgc3Ryb2tlPSIjMDAwIiBzdHJva2Utd2lkdGg9IjMiIGZpbGw9Im5vbmUiLz48cGF0aCBkPSJNMjgyLjk4IDYyNS43YzAgNS45Ni00LjgzIDEwLjgtMTAuOCAxMC44LTUuOTQgMC0xMC43Ny00Ljg0LTEwLjc3LTEwLjggMC01Ljk1IDQuODQtMTAuNzggMTAuOC0xMC43OCA1Ljk1IDAgMTAuNzggNC44MyAxMC43OCAxMC43OHoiIHN0cm9rZT0iIzAwMCIgc3Ryb2tlLXdpZHRoPSIzIiBmaWxsPSIjZmZmIi8+PHBhdGggZD0iTTI3My4zIDYwNC40NWgyMy42N2wuMDIuMDJoMjMuNjdNMjczLjMzIDYwNC40NWgtMS41NE0zMjAuNjMgNjA0LjQ3aDEuNTQiIHN0cm9rZT0iIzAwMCIgc3Ryb2tlLXdpZHRoPSIzIiBmaWxsPSJub25lIi8+PHBhdGggZD0iTTIyNS4xNiA2MTEuOTR2LTEuNWwuMDgtLjkzLjIyLS45LjM2LS44Ny41LS44LjYtLjcyLjcyLS42LjgtLjUuODctLjM1LjkzLS4yMi45My0uMDhoMy45Mm01LjIgMGg3Ljg0bTUuMjIgMGg3LjgybTUuMjIgMGgzLjkiIHN0cm9rZT0iI2JiYmVjMiIgc3Ryb2tlLXdpZHRoPSIzIiBmaWxsPSJub25lIi8+PHBhdGggZD0iTTIyNi42NiA2MTMuNjRsLTEuNS0uMi0xLjUuMnYtMS43NGgzeiIgc3Ryb2tlPSIjYmJiZWMyIiBzdHJva2Utd2lkdGg9Ii4wNSIgZmlsbD0iI2JiYmVjMiIvPjxwYXRoIGQ9Ik0yNzAuMjUgNjA0LjQ1aDEuNTQiIHN0cm9rZT0iI2JiYmVjMiIgc3Ryb2tlLXdpZHRoPSIzIiBmaWxsPSJub25lIi8+PHBhdGggZD0iTTI3My4zIDY0Ny42SDMwOS44TTI3My4zMyA2NDcuNmgtMS41NCIgc3Ryb2tlPSIjMDAwIiBzdHJva2Utd2lkdGg9IjMiIGZpbGw9Im5vbmUiLz48cGF0aCBkPSJNMzExLjMgNjQ3LjU1bC4yIDEuNTRoLTEuNzJ2LTNoMS44eiIgc3Ryb2tlPSIjMDAwIiBzdHJva2Utd2lkdGg9Ii4wNSIvPjxwYXRoIGQ9Ik0yMjUuMiA2MzkuNTN2Mi4wNmwuMDcuOTMuMjIuOTIuMzUuODcuNS44LjYuNzIuNzIuNi44LjUuODcuMzYuOTIuMjIuOTQuMDdoMy45bTUuMjIgMGg3LjgybTUuMiAwaDcuODNtNS4yIDBoMy45MiIgc3Ryb2tlPSIjYmJiZWMyIiBzdHJva2Utd2lkdGg9IjMiIGZpbGw9Im5vbmUiLz48cGF0aCBkPSJNMjI2LjcgNjM5LjU3aC0zdi0xLjczbDEuNDYuMiAxLjU0LS4yeiIgc3Ryb2tlPSIjYmJiZWMyIiBzdHJva2Utd2lkdGg9Ii4wNSIgZmlsbD0iI2JiYmVjMiIvPjxwYXRoIGQ9Ik0yNzAuMjUgNjQ3LjZoMS41NCIgc3Ryb2tlPSIjYmJiZWMyIiBzdHJva2Utd2lkdGg9IjMiIGZpbGw9Im5vbmUiLz48cGF0aCBkPSJNMzIyLjE3IDU4My4xYS43NS43NSAwIDAgMSAuNzUuNzV2NTMuNjdhLjc1Ljc1IDAgMCAxLS43NS43NS43NS43NSAwIDAgMS0uNzUtLjc1di01My42N2EuNzUuNzUgMCAwIDEgLjc1LS43NXpNMzIyLjE3IDY1Ny43YS43NS43NSAwIDAgMSAuNzUuNzR2OS4zNmEuNzUuNzUgMCAwIDEtLjc1Ljc1Ljc1Ljc1IDAgMCAxLS43NS0uNzV2LTkuMzZhLjc1Ljc1IDAgMCAxIC43NS0uNzV6IiBzdHJva2U9IiMwMDAiIHN0cm9rZS13aWR0aD0iMS41IiBmaWxsPSJub25lIi8+PHBhdGggZD0iTTMzMS41MiA2NDcuNmMwIDUuMTUtNC4yIDkuMzQtOS4zNSA5LjM0LTUuMTYgMC05LjM0LTQuMi05LjM0LTkuMzUgMC01LjE3IDQuMTgtOS4zNSA5LjM0LTkuMzVzOS4zNSA0LjE4IDkuMzUgOS4zNHoiIHN0cm9rZT0iIzAwMCIgc3Ryb2tlLXdpZHRoPSIzIiBmaWxsPSIjZmZmIi8+PHBhdGggZD0iTTMxMS40IDY0My41M2E2IDYgMCAwIDEgNi02aDkuNTZhNiA2IDAgMCAxIDYgNnY5LjU4YTYgNiAwIDAgMS02IDZoLTkuNTdhNiA2IDAgMCAxLTYtNnoiIGZpbGw9Im5vbmUiLz48dXNlIHhsaW5rOmhyZWY9IiNhIiB0cmFuc2Zvcm09Im1hdHJpeCgxLDAsMCwxLDMxMS4zODg1NTUyNzc0NjkxNSw2MzcuNTM1MTY4NDE4MDQ2KSB0cmFuc2xhdGUoNC41MTg1MTg1MTg1MTg1MjQgMTcuNzc3Nzc3Nzc3Nzc3NzY0KSIvPjxkZWZzPjxwYXRoIGZpbGw9IiMzYTQxNGEiIGQ9Ik0xMTgtMTA3djc1SDkydi03NUgxOHYtMjZoNzR2LTc1aDI2djc1aDc0djI2aC03NCIgaWQ9ImIiLz48dXNlIHRyYW5zZm9ybT0ibWF0cml4KDAuMDYxNzI4Mzk1MDYxNzI4MzQsMCwwLDAuMDYxNzI4Mzk1MDYxNzI4MzQsMCwwKSIgeGxpbms6aHJlZj0iI2IiIGlkPSJhIi8+PC9kZWZzPjwvZz48L3N2Zz4=\",\"x\":\"Indirect paths\\u003cbr\\u003e(except L11H10)\",\"xanchor\":\"center\",\"xref\":\"x\",\"y\":3.0302000000000002,\"yanchor\":\"bottom\",\"yref\":\"y\"},{\"layer\":\"below\",\"sizex\":0.5,\"sizey\":0.0035,\"sizing\":\"contain\",\"source\":\"data:image\\u002fsvg+xml;base64,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\",\"x\":\"Indirect paths\\u003cbr\\u003e(all)\",\"xanchor\":\"center\",\"xref\":\"x\",\"y\":3.031,\"yanchor\":\"bottom\",\"yref\":\"y\"},{\"layer\":\"below\",\"sizex\":0.5,\"sizey\":0.0035,\"sizing\":\"contain\",\"source\":\"data:image\\u002fsvg+xml;base64,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\",\"x\":\"Direct path\",\"xanchor\":\"center\",\"xref\":\"x\",\"y\":3.0396000000000005,\"yanchor\":\"bottom\",\"yref\":\"y\"},{\"layer\":\"below\",\"sizex\":0.45,\"sizey\":0.45,\"sizing\":\"contain\",\"source\":\"data:image\\u002fsvg+xml;base64,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\",\"x\":0.35,\"xanchor\":\"center\",\"xref\":\"paper\",\"y\":0.76,\"yanchor\":\"middle\",\"yref\":\"paper\"}],\"yaxis\":{\"title\":{\"text\":\"Loss\"},\"range\":[3.0279000000000003,3.0441000000000003]},\"font\":{\"size\":28},\"margin\":{\"l\":120,\"r\":60,\"b\":120,\"t\":140},\"title\":{\"text\":\"Comparison of different ablations for L10H7\",\"y\":0.95,\"font\":{\"size\":52}},\"xaxis\":{\"title\":{\"text\":\"Ablated paths\",\"standoff\":30}},\"width\":1200,\"height\":900,\"bargap\":0.45},                        {\"staticPlot\": true, \"responsive\": true}                    ).then(function(){\n",
       "                            \n",
       "var gd = document.getElementById('8f7e696d-7f95-4c7e-8215-b7d862122862');\n",
       "var x = new MutationObserver(function (mutations, observer) {{\n",
       "        var display = window.getComputedStyle(gd).display;\n",
       "        if (!display || display === 'none') {{\n",
       "            console.log([gd, 'removed!']);\n",
       "            Plotly.purge(gd);\n",
       "            observer.disconnect();\n",
       "        }}\n",
       "}});\n",
       "\n",
       "// Listen for the removal of the full notebook cells\n",
       "var notebookContainer = gd.closest('#notebook-container');\n",
       "if (notebookContainer) {{\n",
       "    x.observe(notebookContainer, {childList: true});\n",
       "}}\n",
       "\n",
       "// Listen for the clearing of the current output cell\n",
       "var outputEl = gd.closest('.output');\n",
       "if (outputEl) {{\n",
       "    x.observe(outputEl, {childList: true});\n",
       "}}\n",
       "\n",
       "                        })                };                });            </script>        </div>"
      ]
     },
     "metadata": {},
     "output_type": "display_data"
    }
   ],
   "source": [
    "def fig_v1_salmon():\n",
    "\n",
    "    figmain = figures_path / \"cmain.svg\"\n",
    "    fig1 = figures_path / \"c1.svg\"\n",
    "    fig2 = figures_path / \"c2.svg\"\n",
    "    fig3 = figures_path / \"c3.svg\"\n",
    "    fig4 = figures_path / \"c4.svg\"\n",
    "    fig_dict = {}\n",
    "\n",
    "    for path in [figmain, fig1, fig2, fig3, fig4]:\n",
    "        with open(path, \"rb\") as f:\n",
    "            encoded_svg = base64.b64encode(f.read()).decode(\"utf-8\")\n",
    "        svg_data_uri = \"data:image/svg+xml;base64,\" + encoded_svg\n",
    "        fig_dict[path.stem] = svg_data_uri\n",
    "\n",
    "    print(fig_dict.keys())\n",
    "\n",
    "    c1 = fig_dict[\"c1\"]\n",
    "    c2 = fig_dict[\"c2\"]\n",
    "    c3 = fig_dict[\"c3\"]\n",
    "    c4 = fig_dict[\"c4\"]\n",
    "    cmain = fig_dict[\"cmain\"]\n",
    "\n",
    "    # Set x value\n",
    "    x_value = 3.0289\n",
    "    y_values = [x_value, x_value + 0.0008, x_value + 0.0016, x_value + 0.0102]\n",
    "    x_labels = [\"None\", \"Indirect paths<br>(except L11H10)\", \"Indirect paths<br>(all)\", \"Direct path\"]\n",
    "\n",
    "    # Compute y-axis range\n",
    "    y_min = min(y_values) - 0.001\n",
    "    y_max = max(y_values) + 0.005\n",
    "\n",
    "    # Define the annotations for the bar values\n",
    "    annotations = [\n",
    "        dict(\n",
    "            x=x_labels[i],\n",
    "            y=y_val,\n",
    "            text=txt,\n",
    "            showarrow=False,\n",
    "            yshift=10,\n",
    "            font=dict(size=28)\n",
    "        )\n",
    "        for i, (y_val, txt) in enumerate(zip(y_values, [\"\", \"+0.0008\", \"+0.0016\", \"+0.0102\"]))\n",
    "    ]\n",
    "\n",
    "    # Define the list of encoded SVG images\n",
    "    encoded_images = [c1, c2, c3, c4]\n",
    "\n",
    "    # Create the figure\n",
    "    fig = go.Figure()\n",
    "\n",
    "    # Add the bars\n",
    "    fig.add_trace(go.Bar(\n",
    "        x=x_labels,\n",
    "        y=y_values,\n",
    "        text=[\"\", \"+0.0008\", \"+0.0016\", \"+0.0102\"],\n",
    "        textposition='inside',\n",
    "        marker_color='salmon',\n",
    "        hoverinfo='y',\n",
    "    ))\n",
    "\n",
    "    # Add the images\n",
    "    for i, img in enumerate(encoded_images):\n",
    "        fig.add_layout_image(\n",
    "            dict(\n",
    "                source=img,\n",
    "                x=x_labels[i],\n",
    "                y=y_values[i] + 0.0005,\n",
    "                xref=\"x\",\n",
    "                yref=\"y\",\n",
    "                sizex=0.5,\n",
    "                sizey=0.0035,  # Placeholder value\n",
    "                xanchor=\"center\",\n",
    "                yanchor=\"bottom\",\n",
    "                layer=\"below\",\n",
    "                sizing=\"contain\",\n",
    "            )\n",
    "        )\n",
    "\n",
    "    fig.add_layout_image(\n",
    "        dict(\n",
    "            source=cmain,\n",
    "            x=0.35,\n",
    "            y=0.76,\n",
    "            xref=\"paper\",\n",
    "            yref=\"paper\",\n",
    "            sizex=0.45,  # Assuming the bars have a width of 1\n",
    "            sizey=0.45,  # Placeholder value\n",
    "            xanchor=\"center\",\n",
    "            yanchor=\"middle\",\n",
    "            layer=\"below\",\n",
    "            sizing=\"contain\",\n",
    "        )\n",
    "    )\n",
    "\n",
    "    # Update the layout\n",
    "    fig.update_layout(\n",
    "        title=\"Comparison of different ablations for L10H7\",\n",
    "        xaxis_title=\"Ablated paths\",\n",
    "        yaxis_title=\"Loss\",\n",
    "        template=\"simple_white\",\n",
    "        width=1200,\n",
    "        height=900,\n",
    "        yaxis=dict(range=[y_min, y_max]),\n",
    "        # annotations=annotations,\n",
    "        font=dict(size=28),\n",
    "        bargap=0.45,\n",
    "        margin=dict(l=120, r=60, b=120, t=140),\n",
    "        title_y=0.95,\n",
    "        title_font_size=52,\n",
    "        xaxis_title_standoff=30,\n",
    "    )\n",
    "\n",
    "    # Show the plot\n",
    "    fig.show(config=dict(staticPlot=True))\n",
    "\n",
    "# /root/numeric-representations/SERI-MATS-2023-Streamlit-pages/transformer_lens/rs/callum2/generate_st_html/paper_figures/cmain.svg\n",
    "\n",
    "fig_v1_salmon()"
   ]
  },
  {
   "cell_type": "code",
   "execution_count": 30,
   "metadata": {},
   "outputs": [
    {
     "name": "stdout",
     "output_type": "stream",
     "text": [
      "dict_keys(['cmain', 'c1', 'c2', 'c3', 'c4', 'c3.pdf'])\n"
     ]
    },
    {
     "data": {
      "application/vnd.plotly.v1+json": {
       "config": {
        "plotlyServerURL": "https://plot.ly",
        "staticPlot": true
       },
       "data": [
        {
         "hoverinfo": "y",
         "marker": {
          "color": "#1F77B4"
         },
         "name": "Loss",
         "text": [
          "",
          "+0.0016",
          "+0.0102"
         ],
         "textposition": "inside",
         "type": "bar",
         "x": [
          -0.2,
          0.8,
          1.8
         ],
         "xaxis": "x",
         "y": [
          3.0289,
          3.0305,
          3.0391000000000004
         ],
         "yaxis": "y"
        },
        {
         "hoverinfo": "y",
         "marker": {
          "color": "#FF7F0E"
         },
         "name": "KL Divergence",
         "text": [
          "0.0000",
          "0.0030",
          "0.0032",
          "0.0145"
         ],
         "textposition": "inside",
         "type": "bar",
         "x": [
          0.2,
          1.2,
          2.2
         ],
         "xaxis": "x",
         "y": [
          0,
          0.00323,
          0.01449
         ],
         "yaxis": "y2"
        }
       ],
       "layout": {
        "bargap": 0.6,
        "barmode": "group",
        "font": {
         "size": 20
        },
        "height": 900,
        "images": [
         {
          "layer": "below",
          "sizex": 0.5,
          "sizey": 0.003,
          "sizing": "contain",
          "source": "data:image/svg+xml;base64,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",
          "x": 0,
          "xanchor": "center",
          "xref": "x",
          "y": 3.0292000000000003,
          "yanchor": "bottom",
          "yref": "y"
         },
         {
          "layer": "below",
          "sizex": 0.5,
          "sizey": 0.003,
          "sizing": "contain",
          "source": "data:image/svg+xml;base64,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",
          "x": 1,
          "xanchor": "center",
          "xref": "x",
          "y": 3.031462068965517,
          "yanchor": "bottom",
          "yref": "y"
         },
         {
          "layer": "below",
          "sizex": 0.5,
          "sizey": 0.003,
          "sizing": "contain",
          "source": "data:image/svg+xml;base64,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",
          "x": 2,
          "xanchor": "center",
          "xref": "x",
          "y": 3.0394500000000004,
          "yanchor": "bottom",
          "yref": "y"
         },
         {
          "layer": "below",
          "sizex": 0.576,
          "sizey": 0.4,
          "sizing": "contain",
          "source": "data:image/svg+xml;base64,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",
          "x": 0.35,
          "xanchor": "center",
          "xref": "paper",
          "y": 0.76,
          "yanchor": "middle",
          "yref": "paper"
         }
        ],
        "margin": {
         "b": 120,
         "l": 120,
         "r": 80,
         "t": 140
        },
        "showlegend": false,
        "template": {
         "data": {
          "bar": [
           {
            "error_x": {
             "color": "rgb(36,36,36)"
            },
            "error_y": {
             "color": "rgb(36,36,36)"
            },
            "marker": {
             "line": {
              "color": "white",
              "width": 0.5
             },
             "pattern": {
              "fillmode": "overlay",
              "size": 10,
              "solidity": 0.2
             }
            },
            "type": "bar"
           }
          ],
          "barpolar": [
           {
            "marker": {
             "line": {
              "color": "white",
              "width": 0.5
             },
             "pattern": {
              "fillmode": "overlay",
              "size": 10,
              "solidity": 0.2
             }
            },
            "type": "barpolar"
           }
          ],
          "carpet": [
           {
            "aaxis": {
             "endlinecolor": "rgb(36,36,36)",
             "gridcolor": "white",
             "linecolor": "white",
             "minorgridcolor": "white",
             "startlinecolor": "rgb(36,36,36)"
            },
            "baxis": {
             "endlinecolor": "rgb(36,36,36)",
             "gridcolor": "white",
             "linecolor": "white",
             "minorgridcolor": "white",
             "startlinecolor": "rgb(36,36,36)"
            },
            "type": "carpet"
           }
          ],
          "choropleth": [
           {
            "colorbar": {
             "outlinewidth": 1,
             "tickcolor": "rgb(36,36,36)",
             "ticks": "outside"
            },
            "type": "choropleth"
           }
          ],
          "contour": [
           {
            "colorbar": {
             "outlinewidth": 1,
             "tickcolor": "rgb(36,36,36)",
             "ticks": "outside"
            },
            "colorscale": [
             [
              0,
              "#440154"
             ],
             [
              0.1111111111111111,
              "#482878"
             ],
             [
              0.2222222222222222,
              "#3e4989"
             ],
             [
              0.3333333333333333,
              "#31688e"
             ],
             [
              0.4444444444444444,
              "#26828e"
             ],
             [
              0.5555555555555556,
              "#1f9e89"
             ],
             [
              0.6666666666666666,
              "#35b779"
             ],
             [
              0.7777777777777778,
              "#6ece58"
             ],
             [
              0.8888888888888888,
              "#b5de2b"
             ],
             [
              1,
              "#fde725"
             ]
            ],
            "type": "contour"
           }
          ],
          "contourcarpet": [
           {
            "colorbar": {
             "outlinewidth": 1,
             "tickcolor": "rgb(36,36,36)",
             "ticks": "outside"
            },
            "type": "contourcarpet"
           }
          ],
          "heatmap": [
           {
            "colorbar": {
             "outlinewidth": 1,
             "tickcolor": "rgb(36,36,36)",
             "ticks": "outside"
            },
            "colorscale": [
             [
              0,
              "#440154"
             ],
             [
              0.1111111111111111,
              "#482878"
             ],
             [
              0.2222222222222222,
              "#3e4989"
             ],
             [
              0.3333333333333333,
              "#31688e"
             ],
             [
              0.4444444444444444,
              "#26828e"
             ],
             [
              0.5555555555555556,
              "#1f9e89"
             ],
             [
              0.6666666666666666,
              "#35b779"
             ],
             [
              0.7777777777777778,
              "#6ece58"
             ],
             [
              0.8888888888888888,
              "#b5de2b"
             ],
             [
              1,
              "#fde725"
             ]
            ],
            "type": "heatmap"
           }
          ],
          "heatmapgl": [
           {
            "colorbar": {
             "outlinewidth": 1,
             "tickcolor": "rgb(36,36,36)",
             "ticks": "outside"
            },
            "colorscale": [
             [
              0,
              "#440154"
             ],
             [
              0.1111111111111111,
              "#482878"
             ],
             [
              0.2222222222222222,
              "#3e4989"
             ],
             [
              0.3333333333333333,
              "#31688e"
             ],
             [
              0.4444444444444444,
              "#26828e"
             ],
             [
              0.5555555555555556,
              "#1f9e89"
             ],
             [
              0.6666666666666666,
              "#35b779"
             ],
             [
              0.7777777777777778,
              "#6ece58"
             ],
             [
              0.8888888888888888,
              "#b5de2b"
             ],
             [
              1,
              "#fde725"
             ]
            ],
            "type": "heatmapgl"
           }
          ],
          "histogram": [
           {
            "marker": {
             "line": {
              "color": "white",
              "width": 0.6
             }
            },
            "type": "histogram"
           }
          ],
          "histogram2d": [
           {
            "colorbar": {
             "outlinewidth": 1,
             "tickcolor": "rgb(36,36,36)",
             "ticks": "outside"
            },
            "colorscale": [
             [
              0,
              "#440154"
             ],
             [
              0.1111111111111111,
              "#482878"
             ],
             [
              0.2222222222222222,
              "#3e4989"
             ],
             [
              0.3333333333333333,
              "#31688e"
             ],
             [
              0.4444444444444444,
              "#26828e"
             ],
             [
              0.5555555555555556,
              "#1f9e89"
             ],
             [
              0.6666666666666666,
              "#35b779"
             ],
             [
              0.7777777777777778,
              "#6ece58"
             ],
             [
              0.8888888888888888,
              "#b5de2b"
             ],
             [
              1,
              "#fde725"
             ]
            ],
            "type": "histogram2d"
           }
          ],
          "histogram2dcontour": [
           {
            "colorbar": {
             "outlinewidth": 1,
             "tickcolor": "rgb(36,36,36)",
             "ticks": "outside"
            },
            "colorscale": [
             [
              0,
              "#440154"
             ],
             [
              0.1111111111111111,
              "#482878"
             ],
             [
              0.2222222222222222,
              "#3e4989"
             ],
             [
              0.3333333333333333,
              "#31688e"
             ],
             [
              0.4444444444444444,
              "#26828e"
             ],
             [
              0.5555555555555556,
              "#1f9e89"
             ],
             [
              0.6666666666666666,
              "#35b779"
             ],
             [
              0.7777777777777778,
              "#6ece58"
             ],
             [
              0.8888888888888888,
              "#b5de2b"
             ],
             [
              1,
              "#fde725"
             ]
            ],
            "type": "histogram2dcontour"
           }
          ],
          "mesh3d": [
           {
            "colorbar": {
             "outlinewidth": 1,
             "tickcolor": "rgb(36,36,36)",
             "ticks": "outside"
            },
            "type": "mesh3d"
           }
          ],
          "parcoords": [
           {
            "line": {
             "colorbar": {
              "outlinewidth": 1,
              "tickcolor": "rgb(36,36,36)",
              "ticks": "outside"
             }
            },
            "type": "parcoords"
           }
          ],
          "pie": [
           {
            "automargin": true,
            "type": "pie"
           }
          ],
          "scatter": [
           {
            "fillpattern": {
             "fillmode": "overlay",
             "size": 10,
             "solidity": 0.2
            },
            "type": "scatter"
           }
          ],
          "scatter3d": [
           {
            "line": {
             "colorbar": {
              "outlinewidth": 1,
              "tickcolor": "rgb(36,36,36)",
              "ticks": "outside"
             }
            },
            "marker": {
             "colorbar": {
              "outlinewidth": 1,
              "tickcolor": "rgb(36,36,36)",
              "ticks": "outside"
             }
            },
            "type": "scatter3d"
           }
          ],
          "scattercarpet": [
           {
            "marker": {
             "colorbar": {
              "outlinewidth": 1,
              "tickcolor": "rgb(36,36,36)",
              "ticks": "outside"
             }
            },
            "type": "scattercarpet"
           }
          ],
          "scattergeo": [
           {
            "marker": {
             "colorbar": {
              "outlinewidth": 1,
              "tickcolor": "rgb(36,36,36)",
              "ticks": "outside"
             }
            },
            "type": "scattergeo"
           }
          ],
          "scattergl": [
           {
            "marker": {
             "colorbar": {
              "outlinewidth": 1,
              "tickcolor": "rgb(36,36,36)",
              "ticks": "outside"
             }
            },
            "type": "scattergl"
           }
          ],
          "scattermapbox": [
           {
            "marker": {
             "colorbar": {
              "outlinewidth": 1,
              "tickcolor": "rgb(36,36,36)",
              "ticks": "outside"
             }
            },
            "type": "scattermapbox"
           }
          ],
          "scatterpolar": [
           {
            "marker": {
             "colorbar": {
              "outlinewidth": 1,
              "tickcolor": "rgb(36,36,36)",
              "ticks": "outside"
             }
            },
            "type": "scatterpolar"
           }
          ],
          "scatterpolargl": [
           {
            "marker": {
             "colorbar": {
              "outlinewidth": 1,
              "tickcolor": "rgb(36,36,36)",
              "ticks": "outside"
             }
            },
            "type": "scatterpolargl"
           }
          ],
          "scatterternary": [
           {
            "marker": {
             "colorbar": {
              "outlinewidth": 1,
              "tickcolor": "rgb(36,36,36)",
              "ticks": "outside"
             }
            },
            "type": "scatterternary"
           }
          ],
          "surface": [
           {
            "colorbar": {
             "outlinewidth": 1,
             "tickcolor": "rgb(36,36,36)",
             "ticks": "outside"
            },
            "colorscale": [
             [
              0,
              "#440154"
             ],
             [
              0.1111111111111111,
              "#482878"
             ],
             [
              0.2222222222222222,
              "#3e4989"
             ],
             [
              0.3333333333333333,
              "#31688e"
             ],
             [
              0.4444444444444444,
              "#26828e"
             ],
             [
              0.5555555555555556,
              "#1f9e89"
             ],
             [
              0.6666666666666666,
              "#35b779"
             ],
             [
              0.7777777777777778,
              "#6ece58"
             ],
             [
              0.8888888888888888,
              "#b5de2b"
             ],
             [
              1,
              "#fde725"
             ]
            ],
            "type": "surface"
           }
          ],
          "table": [
           {
            "cells": {
             "fill": {
              "color": "rgb(237,237,237)"
             },
             "line": {
              "color": "white"
             }
            },
            "header": {
             "fill": {
              "color": "rgb(217,217,217)"
             },
             "line": {
              "color": "white"
             }
            },
            "type": "table"
           }
          ]
         },
         "layout": {
          "annotationdefaults": {
           "arrowhead": 0,
           "arrowwidth": 1
          },
          "autotypenumbers": "strict",
          "coloraxis": {
           "colorbar": {
            "outlinewidth": 1,
            "tickcolor": "rgb(36,36,36)",
            "ticks": "outside"
           }
          },
          "colorscale": {
           "diverging": [
            [
             0,
             "rgb(103,0,31)"
            ],
            [
             0.1,
             "rgb(178,24,43)"
            ],
            [
             0.2,
             "rgb(214,96,77)"
            ],
            [
             0.3,
             "rgb(244,165,130)"
            ],
            [
             0.4,
             "rgb(253,219,199)"
            ],
            [
             0.5,
             "rgb(247,247,247)"
            ],
            [
             0.6,
             "rgb(209,229,240)"
            ],
            [
             0.7,
             "rgb(146,197,222)"
            ],
            [
             0.8,
             "rgb(67,147,195)"
            ],
            [
             0.9,
             "rgb(33,102,172)"
            ],
            [
             1,
             "rgb(5,48,97)"
            ]
           ],
           "sequential": [
            [
             0,
             "#440154"
            ],
            [
             0.1111111111111111,
             "#482878"
            ],
            [
             0.2222222222222222,
             "#3e4989"
            ],
            [
             0.3333333333333333,
             "#31688e"
            ],
            [
             0.4444444444444444,
             "#26828e"
            ],
            [
             0.5555555555555556,
             "#1f9e89"
            ],
            [
             0.6666666666666666,
             "#35b779"
            ],
            [
             0.7777777777777778,
             "#6ece58"
            ],
            [
             0.8888888888888888,
             "#b5de2b"
            ],
            [
             1,
             "#fde725"
            ]
           ],
           "sequentialminus": [
            [
             0,
             "#440154"
            ],
            [
             0.1111111111111111,
             "#482878"
            ],
            [
             0.2222222222222222,
             "#3e4989"
            ],
            [
             0.3333333333333333,
             "#31688e"
            ],
            [
             0.4444444444444444,
             "#26828e"
            ],
            [
             0.5555555555555556,
             "#1f9e89"
            ],
            [
             0.6666666666666666,
             "#35b779"
            ],
            [
             0.7777777777777778,
             "#6ece58"
            ],
            [
             0.8888888888888888,
             "#b5de2b"
            ],
            [
             1,
             "#fde725"
            ]
           ]
          },
          "colorway": [
           "#1F77B4",
           "#FF7F0E",
           "#2CA02C",
           "#D62728",
           "#9467BD",
           "#8C564B",
           "#E377C2",
           "#7F7F7F",
           "#BCBD22",
           "#17BECF"
          ],
          "font": {
           "color": "rgb(36,36,36)"
          },
          "geo": {
           "bgcolor": "white",
           "lakecolor": "white",
           "landcolor": "white",
           "showlakes": true,
           "showland": true,
           "subunitcolor": "white"
          },
          "hoverlabel": {
           "align": "left"
          },
          "hovermode": "closest",
          "mapbox": {
           "style": "light"
          },
          "paper_bgcolor": "white",
          "plot_bgcolor": "white",
          "polar": {
           "angularaxis": {
            "gridcolor": "rgb(232,232,232)",
            "linecolor": "rgb(36,36,36)",
            "showgrid": false,
            "showline": true,
            "ticks": "outside"
           },
           "bgcolor": "white",
           "radialaxis": {
            "gridcolor": "rgb(232,232,232)",
            "linecolor": "rgb(36,36,36)",
            "showgrid": false,
            "showline": true,
            "ticks": "outside"
           }
          },
          "scene": {
           "xaxis": {
            "backgroundcolor": "white",
            "gridcolor": "rgb(232,232,232)",
            "gridwidth": 2,
            "linecolor": "rgb(36,36,36)",
            "showbackground": true,
            "showgrid": false,
            "showline": true,
            "ticks": "outside",
            "zeroline": false,
            "zerolinecolor": "rgb(36,36,36)"
           },
           "yaxis": {
            "backgroundcolor": "white",
            "gridcolor": "rgb(232,232,232)",
            "gridwidth": 2,
            "linecolor": "rgb(36,36,36)",
            "showbackground": true,
            "showgrid": false,
            "showline": true,
            "ticks": "outside",
            "zeroline": false,
            "zerolinecolor": "rgb(36,36,36)"
           },
           "zaxis": {
            "backgroundcolor": "white",
            "gridcolor": "rgb(232,232,232)",
            "gridwidth": 2,
            "linecolor": "rgb(36,36,36)",
            "showbackground": true,
            "showgrid": false,
            "showline": true,
            "ticks": "outside",
            "zeroline": false,
            "zerolinecolor": "rgb(36,36,36)"
           }
          },
          "shapedefaults": {
           "fillcolor": "black",
           "line": {
            "width": 0
           },
           "opacity": 0.3
          },
          "ternary": {
           "aaxis": {
            "gridcolor": "rgb(232,232,232)",
            "linecolor": "rgb(36,36,36)",
            "showgrid": false,
            "showline": true,
            "ticks": "outside"
           },
           "baxis": {
            "gridcolor": "rgb(232,232,232)",
            "linecolor": "rgb(36,36,36)",
            "showgrid": false,
            "showline": true,
            "ticks": "outside"
           },
           "bgcolor": "white",
           "caxis": {
            "gridcolor": "rgb(232,232,232)",
            "linecolor": "rgb(36,36,36)",
            "showgrid": false,
            "showline": true,
            "ticks": "outside"
           }
          },
          "title": {
           "x": 0.05
          },
          "xaxis": {
           "automargin": true,
           "gridcolor": "rgb(232,232,232)",
           "linecolor": "rgb(36,36,36)",
           "showgrid": false,
           "showline": true,
           "ticks": "outside",
           "title": {
            "standoff": 15
           },
           "zeroline": false,
           "zerolinecolor": "rgb(36,36,36)"
          },
          "yaxis": {
           "automargin": true,
           "gridcolor": "rgb(232,232,232)",
           "linecolor": "rgb(36,36,36)",
           "showgrid": false,
           "showline": true,
           "ticks": "outside",
           "title": {
            "standoff": 15
           },
           "zeroline": false,
           "zerolinecolor": "rgb(36,36,36)"
          }
         }
        },
        "title": {
         "font": {
          "size": 52
         },
         "text": "Ablating different paths from L10H7",
         "y": 0.95
        },
        "width": 1200,
        "xaxis": {
         "anchor": "y",
         "domain": [
          0,
          0.94
         ],
         "tickfont": {
          "size": 28
         },
         "ticktext": [
          "None",
          "Indirect paths",
          "Direct path"
         ],
         "tickvals": [
          0,
          1,
          2
         ],
         "title": {
          "standoff": 30
         }
        },
        "yaxis": {
         "anchor": "x",
         "domain": [
          0,
          1
         ],
         "range": [
          3.0289,
          3.0441000000000003
         ],
         "tickfont": {
          "size": 28
         },
         "title": {
          "font": {
           "color": "#1F77B4",
           "size": 48
          },
          "text": "<b>Loss</b>"
         }
        },
        "yaxis2": {
         "anchor": "x",
         "overlaying": "y",
         "range": [
          0,
          0.0215
         ],
         "side": "right",
         "tickfont": {
          "size": 28
         },
         "title": {
          "font": {
           "color": "#FF7F0E",
           "size": 48
          },
          "standoff": 30,
          "text": "<b>KL Divergence</b>"
         }
        }
       }
      },
      "text/html": [
       "<div>                            <div id=\"ba43c955-be6f-42ba-9688-872e5315e5c4\" class=\"plotly-graph-div\" style=\"height:900px; width:1200px;\"></div>            <script type=\"text/javascript\">                require([\"plotly\"], function(Plotly) {                    window.PLOTLYENV=window.PLOTLYENV || {};                                    if (document.getElementById(\"ba43c955-be6f-42ba-9688-872e5315e5c4\")) {                    Plotly.newPlot(                        \"ba43c955-be6f-42ba-9688-872e5315e5c4\",                        [{\"hoverinfo\":\"y\",\"marker\":{\"color\":\"#1F77B4\"},\"name\":\"Loss\",\"text\":[\"\",\"+0.0016\",\"+0.0102\"],\"textposition\":\"inside\",\"x\":[-0.2,0.8,1.8],\"y\":[3.0289,3.0305,3.0391000000000004],\"type\":\"bar\",\"xaxis\":\"x\",\"yaxis\":\"y\"},{\"hoverinfo\":\"y\",\"marker\":{\"color\":\"#FF7F0E\"},\"name\":\"KL Divergence\",\"text\":[\"0.0000\",\"0.0030\",\"0.0032\",\"0.0145\"],\"textposition\":\"inside\",\"x\":[0.2,1.2,2.2],\"y\":[0,0.00323,0.01449],\"type\":\"bar\",\"xaxis\":\"x\",\"yaxis\":\"y2\"}],                        {\"template\":{\"data\":{\"barpolar\":[{\"marker\":{\"line\":{\"color\":\"white\",\"width\":0.5},\"pattern\":{\"fillmode\":\"overlay\",\"size\":10,\"solidity\":0.2}},\"type\":\"barpolar\"}],\"bar\":[{\"error_x\":{\"color\":\"rgb(36,36,36)\"},\"error_y\":{\"color\":\"rgb(36,36,36)\"},\"marker\":{\"line\":{\"color\":\"white\",\"width\":0.5},\"pattern\":{\"fillmode\":\"overlay\",\"size\":10,\"solidity\":0.2}},\"type\":\"bar\"}],\"carpet\":[{\"aaxis\":{\"endlinecolor\":\"rgb(36,36,36)\",\"gridcolor\":\"white\",\"linecolor\":\"white\",\"minorgridcolor\":\"white\",\"startlinecolor\":\"rgb(36,36,36)\"},\"baxis\":{\"endlinecolor\":\"rgb(36,36,36)\",\"gridcolor\":\"white\",\"linecolor\":\"white\",\"minorgridcolor\":\"white\",\"startlinecolor\":\"rgb(36,36,36)\"},\"type\":\"carpet\"}],\"choropleth\":[{\"colorbar\":{\"outlinewidth\":1,\"tickcolor\":\"rgb(36,36,36)\",\"ticks\":\"outside\"},\"type\":\"choropleth\"}],\"contourcarpet\":[{\"colorbar\":{\"outlinewidth\":1,\"tickcolor\":\"rgb(36,36,36)\",\"ticks\":\"outside\"},\"type\":\"contourcarpet\"}],\"contour\":[{\"colorbar\":{\"outlinewidth\":1,\"tickcolor\":\"rgb(36,36,36)\",\"ticks\":\"outside\"},\"colorscale\":[[0.0,\"#440154\"],[0.1111111111111111,\"#482878\"],[0.2222222222222222,\"#3e4989\"],[0.3333333333333333,\"#31688e\"],[0.4444444444444444,\"#26828e\"],[0.5555555555555556,\"#1f9e89\"],[0.6666666666666666,\"#35b779\"],[0.7777777777777778,\"#6ece58\"],[0.8888888888888888,\"#b5de2b\"],[1.0,\"#fde725\"]],\"type\":\"contour\"}],\"heatmapgl\":[{\"colorbar\":{\"outlinewidth\":1,\"tickcolor\":\"rgb(36,36,36)\",\"ticks\":\"outside\"},\"colorscale\":[[0.0,\"#440154\"],[0.1111111111111111,\"#482878\"],[0.2222222222222222,\"#3e4989\"],[0.3333333333333333,\"#31688e\"],[0.4444444444444444,\"#26828e\"],[0.5555555555555556,\"#1f9e89\"],[0.6666666666666666,\"#35b779\"],[0.7777777777777778,\"#6ece58\"],[0.8888888888888888,\"#b5de2b\"],[1.0,\"#fde725\"]],\"type\":\"heatmapgl\"}],\"heatmap\":[{\"colorbar\":{\"outlinewidth\":1,\"tickcolor\":\"rgb(36,36,36)\",\"ticks\":\"outside\"},\"colorscale\":[[0.0,\"#440154\"],[0.1111111111111111,\"#482878\"],[0.2222222222222222,\"#3e4989\"],[0.3333333333333333,\"#31688e\"],[0.4444444444444444,\"#26828e\"],[0.5555555555555556,\"#1f9e89\"],[0.6666666666666666,\"#35b779\"],[0.7777777777777778,\"#6ece58\"],[0.8888888888888888,\"#b5de2b\"],[1.0,\"#fde725\"]],\"type\":\"heatmap\"}],\"histogram2dcontour\":[{\"colorbar\":{\"outlinewidth\":1,\"tickcolor\":\"rgb(36,36,36)\",\"ticks\":\"outside\"},\"colorscale\":[[0.0,\"#440154\"],[0.1111111111111111,\"#482878\"],[0.2222222222222222,\"#3e4989\"],[0.3333333333333333,\"#31688e\"],[0.4444444444444444,\"#26828e\"],[0.5555555555555556,\"#1f9e89\"],[0.6666666666666666,\"#35b779\"],[0.7777777777777778,\"#6ece58\"],[0.8888888888888888,\"#b5de2b\"],[1.0,\"#fde725\"]],\"type\":\"histogram2dcontour\"}],\"histogram2d\":[{\"colorbar\":{\"outlinewidth\":1,\"tickcolor\":\"rgb(36,36,36)\",\"ticks\":\"outside\"},\"colorscale\":[[0.0,\"#440154\"],[0.1111111111111111,\"#482878\"],[0.2222222222222222,\"#3e4989\"],[0.3333333333333333,\"#31688e\"],[0.4444444444444444,\"#26828e\"],[0.5555555555555556,\"#1f9e89\"],[0.6666666666666666,\"#35b779\"],[0.7777777777777778,\"#6ece58\"],[0.8888888888888888,\"#b5de2b\"],[1.0,\"#fde725\"]],\"type\":\"histogram2d\"}],\"histogram\":[{\"marker\":{\"line\":{\"color\":\"white\",\"width\":0.6}},\"type\":\"histogram\"}],\"mesh3d\":[{\"colorbar\":{\"outlinewidth\":1,\"tickcolor\":\"rgb(36,36,36)\",\"ticks\":\"outside\"},\"type\":\"mesh3d\"}],\"parcoords\":[{\"line\":{\"colorbar\":{\"outlinewidth\":1,\"tickcolor\":\"rgb(36,36,36)\",\"ticks\":\"outside\"}},\"type\":\"parcoords\"}],\"pie\":[{\"automargin\":true,\"type\":\"pie\"}],\"scatter3d\":[{\"line\":{\"colorbar\":{\"outlinewidth\":1,\"tickcolor\":\"rgb(36,36,36)\",\"ticks\":\"outside\"}},\"marker\":{\"colorbar\":{\"outlinewidth\":1,\"tickcolor\":\"rgb(36,36,36)\",\"ticks\":\"outside\"}},\"type\":\"scatter3d\"}],\"scattercarpet\":[{\"marker\":{\"colorbar\":{\"outlinewidth\":1,\"tickcolor\":\"rgb(36,36,36)\",\"ticks\":\"outside\"}},\"type\":\"scattercarpet\"}],\"scattergeo\":[{\"marker\":{\"colorbar\":{\"outlinewidth\":1,\"tickcolor\":\"rgb(36,36,36)\",\"ticks\":\"outside\"}},\"type\":\"scattergeo\"}],\"scattergl\":[{\"marker\":{\"colorbar\":{\"outlinewidth\":1,\"tickcolor\":\"rgb(36,36,36)\",\"ticks\":\"outside\"}},\"type\":\"scattergl\"}],\"scattermapbox\":[{\"marker\":{\"colorbar\":{\"outlinewidth\":1,\"tickcolor\":\"rgb(36,36,36)\",\"ticks\":\"outside\"}},\"type\":\"scattermapbox\"}],\"scatterpolargl\":[{\"marker\":{\"colorbar\":{\"outlinewidth\":1,\"tickcolor\":\"rgb(36,36,36)\",\"ticks\":\"outside\"}},\"type\":\"scatterpolargl\"}],\"scatterpolar\":[{\"marker\":{\"colorbar\":{\"outlinewidth\":1,\"tickcolor\":\"rgb(36,36,36)\",\"ticks\":\"outside\"}},\"type\":\"scatterpolar\"}],\"scatter\":[{\"fillpattern\":{\"fillmode\":\"overlay\",\"size\":10,\"solidity\":0.2},\"type\":\"scatter\"}],\"scatterternary\":[{\"marker\":{\"colorbar\":{\"outlinewidth\":1,\"tickcolor\":\"rgb(36,36,36)\",\"ticks\":\"outside\"}},\"type\":\"scatterternary\"}],\"surface\":[{\"colorbar\":{\"outlinewidth\":1,\"tickcolor\":\"rgb(36,36,36)\",\"ticks\":\"outside\"},\"colorscale\":[[0.0,\"#440154\"],[0.1111111111111111,\"#482878\"],[0.2222222222222222,\"#3e4989\"],[0.3333333333333333,\"#31688e\"],[0.4444444444444444,\"#26828e\"],[0.5555555555555556,\"#1f9e89\"],[0.6666666666666666,\"#35b779\"],[0.7777777777777778,\"#6ece58\"],[0.8888888888888888,\"#b5de2b\"],[1.0,\"#fde725\"]],\"type\":\"surface\"}],\"table\":[{\"cells\":{\"fill\":{\"color\":\"rgb(237,237,237)\"},\"line\":{\"color\":\"white\"}},\"header\":{\"fill\":{\"color\":\"rgb(217,217,217)\"},\"line\":{\"color\":\"white\"}},\"type\":\"table\"}]},\"layout\":{\"annotationdefaults\":{\"arrowhead\":0,\"arrowwidth\":1},\"autotypenumbers\":\"strict\",\"coloraxis\":{\"colorbar\":{\"outlinewidth\":1,\"tickcolor\":\"rgb(36,36,36)\",\"ticks\":\"outside\"}},\"colorscale\":{\"diverging\":[[0.0,\"rgb(103,0,31)\"],[0.1,\"rgb(178,24,43)\"],[0.2,\"rgb(214,96,77)\"],[0.3,\"rgb(244,165,130)\"],[0.4,\"rgb(253,219,199)\"],[0.5,\"rgb(247,247,247)\"],[0.6,\"rgb(209,229,240)\"],[0.7,\"rgb(146,197,222)\"],[0.8,\"rgb(67,147,195)\"],[0.9,\"rgb(33,102,172)\"],[1.0,\"rgb(5,48,97)\"]],\"sequential\":[[0.0,\"#440154\"],[0.1111111111111111,\"#482878\"],[0.2222222222222222,\"#3e4989\"],[0.3333333333333333,\"#31688e\"],[0.4444444444444444,\"#26828e\"],[0.5555555555555556,\"#1f9e89\"],[0.6666666666666666,\"#35b779\"],[0.7777777777777778,\"#6ece58\"],[0.8888888888888888,\"#b5de2b\"],[1.0,\"#fde725\"]],\"sequentialminus\":[[0.0,\"#440154\"],[0.1111111111111111,\"#482878\"],[0.2222222222222222,\"#3e4989\"],[0.3333333333333333,\"#31688e\"],[0.4444444444444444,\"#26828e\"],[0.5555555555555556,\"#1f9e89\"],[0.6666666666666666,\"#35b779\"],[0.7777777777777778,\"#6ece58\"],[0.8888888888888888,\"#b5de2b\"],[1.0,\"#fde725\"]]},\"colorway\":[\"#1F77B4\",\"#FF7F0E\",\"#2CA02C\",\"#D62728\",\"#9467BD\",\"#8C564B\",\"#E377C2\",\"#7F7F7F\",\"#BCBD22\",\"#17BECF\"],\"font\":{\"color\":\"rgb(36,36,36)\"},\"geo\":{\"bgcolor\":\"white\",\"lakecolor\":\"white\",\"landcolor\":\"white\",\"showlakes\":true,\"showland\":true,\"subunitcolor\":\"white\"},\"hoverlabel\":{\"align\":\"left\"},\"hovermode\":\"closest\",\"mapbox\":{\"style\":\"light\"},\"paper_bgcolor\":\"white\",\"plot_bgcolor\":\"white\",\"polar\":{\"angularaxis\":{\"gridcolor\":\"rgb(232,232,232)\",\"linecolor\":\"rgb(36,36,36)\",\"showgrid\":false,\"showline\":true,\"ticks\":\"outside\"},\"bgcolor\":\"white\",\"radialaxis\":{\"gridcolor\":\"rgb(232,232,232)\",\"linecolor\":\"rgb(36,36,36)\",\"showgrid\":false,\"showline\":true,\"ticks\":\"outside\"}},\"scene\":{\"xaxis\":{\"backgroundcolor\":\"white\",\"gridcolor\":\"rgb(232,232,232)\",\"gridwidth\":2,\"linecolor\":\"rgb(36,36,36)\",\"showbackground\":true,\"showgrid\":false,\"showline\":true,\"ticks\":\"outside\",\"zeroline\":false,\"zerolinecolor\":\"rgb(36,36,36)\"},\"yaxis\":{\"backgroundcolor\":\"white\",\"gridcolor\":\"rgb(232,232,232)\",\"gridwidth\":2,\"linecolor\":\"rgb(36,36,36)\",\"showbackground\":true,\"showgrid\":false,\"showline\":true,\"ticks\":\"outside\",\"zeroline\":false,\"zerolinecolor\":\"rgb(36,36,36)\"},\"zaxis\":{\"backgroundcolor\":\"white\",\"gridcolor\":\"rgb(232,232,232)\",\"gridwidth\":2,\"linecolor\":\"rgb(36,36,36)\",\"showbackground\":true,\"showgrid\":false,\"showline\":true,\"ticks\":\"outside\",\"zeroline\":false,\"zerolinecolor\":\"rgb(36,36,36)\"}},\"shapedefaults\":{\"fillcolor\":\"black\",\"line\":{\"width\":0},\"opacity\":0.3},\"ternary\":{\"aaxis\":{\"gridcolor\":\"rgb(232,232,232)\",\"linecolor\":\"rgb(36,36,36)\",\"showgrid\":false,\"showline\":true,\"ticks\":\"outside\"},\"baxis\":{\"gridcolor\":\"rgb(232,232,232)\",\"linecolor\":\"rgb(36,36,36)\",\"showgrid\":false,\"showline\":true,\"ticks\":\"outside\"},\"bgcolor\":\"white\",\"caxis\":{\"gridcolor\":\"rgb(232,232,232)\",\"linecolor\":\"rgb(36,36,36)\",\"showgrid\":false,\"showline\":true,\"ticks\":\"outside\"}},\"title\":{\"x\":0.05},\"xaxis\":{\"automargin\":true,\"gridcolor\":\"rgb(232,232,232)\",\"linecolor\":\"rgb(36,36,36)\",\"showgrid\":false,\"showline\":true,\"ticks\":\"outside\",\"title\":{\"standoff\":15},\"zeroline\":false,\"zerolinecolor\":\"rgb(36,36,36)\"},\"yaxis\":{\"automargin\":true,\"gridcolor\":\"rgb(232,232,232)\",\"linecolor\":\"rgb(36,36,36)\",\"showgrid\":false,\"showline\":true,\"ticks\":\"outside\",\"title\":{\"standoff\":15},\"zeroline\":false,\"zerolinecolor\":\"rgb(36,36,36)\"}}},\"xaxis\":{\"anchor\":\"y\",\"domain\":[0.0,0.94],\"title\":{\"standoff\":30},\"tickfont\":{\"size\":28},\"tickvals\":[0,1,2],\"ticktext\":[\"None\",\"Indirect paths\",\"Direct path\"]},\"yaxis\":{\"anchor\":\"x\",\"domain\":[0.0,1.0],\"title\":{\"text\":\"\\u003cb\\u003eLoss\\u003c\\u002fb\\u003e\",\"font\":{\"size\":48,\"color\":\"#1F77B4\"}},\"tickfont\":{\"size\":28},\"range\":[3.0289,3.0441000000000003]},\"yaxis2\":{\"anchor\":\"x\",\"overlaying\":\"y\",\"side\":\"right\",\"title\":{\"font\":{\"size\":48,\"color\":\"#FF7F0E\"},\"text\":\"\\u003cb\\u003eKL Divergence\\u003c\\u002fb\\u003e\",\"standoff\":30},\"tickfont\":{\"size\":28},\"range\":[0.0,0.0215]},\"images\":[{\"layer\":\"below\",\"sizex\":0.5,\"sizey\":0.003,\"sizing\":\"contain\",\"source\":\"data:image\\u002fsvg+xml;base64,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\",\"x\":0,\"xanchor\":\"center\",\"xref\":\"x\",\"y\":3.0292000000000003,\"yanchor\":\"bottom\",\"yref\":\"y\"},{\"layer\":\"below\",\"sizex\":0.5,\"sizey\":0.003,\"sizing\":\"contain\",\"source\":\"data:image\\u002fsvg+xml;base64,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\",\"x\":1,\"xanchor\":\"center\",\"xref\":\"x\",\"y\":3.031462068965517,\"yanchor\":\"bottom\",\"yref\":\"y\"},{\"layer\":\"below\",\"sizex\":0.5,\"sizey\":0.003,\"sizing\":\"contain\",\"source\":\"data:image\\u002fsvg+xml;base64,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\",\"x\":2,\"xanchor\":\"center\",\"xref\":\"x\",\"y\":3.0394500000000004,\"yanchor\":\"bottom\",\"yref\":\"y\"},{\"layer\":\"below\",\"sizex\":0.576,\"sizey\":0.4,\"sizing\":\"contain\",\"source\":\"data:image\\u002fsvg+xml;base64,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\",\"x\":0.35,\"xanchor\":\"center\",\"xref\":\"paper\",\"y\":0.76,\"yanchor\":\"middle\",\"yref\":\"paper\"}],\"font\":{\"size\":20},\"margin\":{\"l\":120,\"r\":80,\"b\":120,\"t\":140},\"title\":{\"font\":{\"size\":52},\"text\":\"Ablating different paths from L10H7\",\"y\":0.95},\"barmode\":\"group\",\"width\":1200,\"height\":900,\"bargap\":0.6,\"showlegend\":false},                        {\"staticPlot\": true, \"responsive\": true}                    ).then(function(){\n",
       "                            \n",
       "var gd = document.getElementById('ba43c955-be6f-42ba-9688-872e5315e5c4');\n",
       "var x = new MutationObserver(function (mutations, observer) {{\n",
       "        var display = window.getComputedStyle(gd).display;\n",
       "        if (!display || display === 'none') {{\n",
       "            console.log([gd, 'removed!']);\n",
       "            Plotly.purge(gd);\n",
       "            observer.disconnect();\n",
       "        }}\n",
       "}});\n",
       "\n",
       "// Listen for the removal of the full notebook cells\n",
       "var notebookContainer = gd.closest('#notebook-container');\n",
       "if (notebookContainer) {{\n",
       "    x.observe(notebookContainer, {childList: true});\n",
       "}}\n",
       "\n",
       "// Listen for the clearing of the current output cell\n",
       "var outputEl = gd.closest('.output');\n",
       "if (outputEl) {{\n",
       "    x.observe(outputEl, {childList: true});\n",
       "}}\n",
       "\n",
       "                        })                };                });            </script>        </div>"
      ]
     },
     "metadata": {},
     "output_type": "display_data"
    }
   ],
   "source": [
    "def fig_v2_kl(\n",
    "    include_L11H10=False,\n",
    "    include_total=True,\n",
    "):\n",
    "\n",
    "    figmain = figures_path / \"cmain.svg\"\n",
    "    fig1 = figures_path / \"c1.svg\"\n",
    "    fig2 = figures_path / \"c2.svg\"\n",
    "    fig3 = figures_path / \"c3.svg\"\n",
    "    fig4 = figures_path / \"c4.svg\"\n",
    "    fig3p = figures_path / \"c3.pdf\"\n",
    "    fig_dict = {}\n",
    "\n",
    "    for path in [figmain, fig1, fig2, fig3, fig4, fig3p]:\n",
    "        with open(path, \"rb\") as f:\n",
    "            encoded_svg = base64.b64encode(f.read()).decode(\"utf-8\")\n",
    "        svg_data_uri = \"data:image/svg+xml;base64,\" + encoded_svg\n",
    "        fig_dict[path.stem + (\".pdf\" if \"pdf\" in path.suffix else \"\")] = svg_data_uri\n",
    "\n",
    "    print(fig_dict.keys())\n",
    "\n",
    "    c1 = fig_dict[\"c1\"]\n",
    "    c2 = fig_dict[\"c2\"]\n",
    "    c3 = fig_dict[\"c3\"]\n",
    "    c4 = fig_dict[\"c4\"]\n",
    "    c3p = fig_dict[\"c3.pdf\"]\n",
    "    cmain = fig_dict[\"cmain\"]\n",
    "\n",
    "    # Set x value\n",
    "    x_value = 3.0289\n",
    "    y_values = [x_value, x_value + 0.0008, x_value + 0.0016, x_value + 0.0102]\n",
    "    # y_str_values = [f\"{y:.4f}\" for y in y_values]\n",
    "    y_str_values = [\"\", \"+0.0008\", \"+0.0016\", \"+0.0102\"]\n",
    "    y2_values = [0, 0.00297, 0.00323, 0.01449]\n",
    "    y2_str_values = [f\"{y:.4f}\" for y in y2_values]\n",
    "    # y2_str_values = [\"\", \"0.0030\", \"0.0032\", \"0.0145\"]\n",
    "    x_labels = [\"None\", \"Indirect paths<br>(except L11H10)\", \"Indirect paths\", \"Direct path\"]\n",
    "\n",
    "    # Compute y-axis range\n",
    "    y_min = min(y_values)\n",
    "    y_max = max(y_values) + 0.005\n",
    "\n",
    "    # Define the list of encoded SVG images\n",
    "    encoded_images = [c1, c2, c3, c4]\n",
    "\n",
    "    F = 0.01025 / 0.0145\n",
    "    factors = [1, F * 30/8, F * 32/16,  F * (0.0145 / 0.0102)] # for orange/blue y balance\n",
    "\n",
    "    if not include_L11H10:\n",
    "        x_labels.pop(1)\n",
    "        y_values.pop(1)\n",
    "        y2_values.pop(1)\n",
    "        y_str_values.pop(1)\n",
    "        encoded_images.pop(1)\n",
    "        factors.pop(1)\n",
    "\n",
    "    if not include_total:\n",
    "        x_labels.pop(-1)\n",
    "        y_values.pop(-1)\n",
    "        y2_values.pop(-1)\n",
    "        y_str_values.pop(-1)\n",
    "        encoded_images.pop(-1)\n",
    "        factors.pop(-1)\n",
    "\n",
    "    # Create the figure, add the bars\n",
    "    width = 0.4\n",
    "    fig = make_subplots(specs=[[{\"secondary_y\": True}]])\n",
    "    fig.add_trace(\n",
    "        go.Bar(\n",
    "            x=np.arange(len(x_labels)) - width/2,\n",
    "            y=y_values,\n",
    "            text=y_str_values,\n",
    "            textposition='inside',\n",
    "            marker_color='#1F77B4',\n",
    "            hoverinfo='y',\n",
    "            name=\"Loss\",\n",
    "        ),\n",
    "        secondary_y = False,\n",
    "    )\n",
    "    fig.add_trace(\n",
    "        go.Bar(\n",
    "            x=np.arange(len(x_labels)) + width/2,\n",
    "            y=y2_values,\n",
    "            text=y2_str_values,\n",
    "            textposition='inside',\n",
    "            marker_color='#FF7F0E',\n",
    "            hoverinfo='y',\n",
    "            name=\"KL Divergence\"\n",
    "        ),\n",
    "        secondary_y = True,\n",
    "    )\n",
    "    \n",
    "    # Add the images\n",
    "    for i, img in enumerate(encoded_images):\n",
    "        fig.add_layout_image(\n",
    "            dict(\n",
    "                source=img,\n",
    "                x=np.arange(len(x_labels))[i],\n",
    "                y=x_value + (y_values[i] - x_value) * factors[i] + 0.0003,\n",
    "                xref=\"x\",\n",
    "                yref=\"y\",\n",
    "                sizex=0.5,\n",
    "                sizey=0.003, # 0.003 for no legend\n",
    "                xanchor=\"center\",\n",
    "                yanchor=\"bottom\",\n",
    "                layer=\"below\",\n",
    "                sizing=\"contain\",\n",
    "            )\n",
    "        )\n",
    "\n",
    "    fig.add_layout_image(\n",
    "        dict(\n",
    "            source=cmain,\n",
    "            x=0.35,\n",
    "            y=0.76,\n",
    "            xref=\"paper\",\n",
    "            yref=\"paper\",\n",
    "            sizex=0.72 * 0.8,\n",
    "            sizey=0.5 * 0.8, # 0.4 for no legend\n",
    "            xanchor=\"center\",\n",
    "            yanchor=\"middle\",\n",
    "            layer=\"below\",\n",
    "            sizing=\"contain\",\n",
    "        )\n",
    "    )\n",
    "\n",
    "    # Update the layout\n",
    "    fig.update_layout(\n",
    "        barmode=\"group\",\n",
    "        # xaxis_title=\"Ablated paths\", # Arthur thinks this is covered by the title\n",
    "        yaxis_title=\"Loss\",\n",
    "        template=\"simple_white\",\n",
    "        width=1200,\n",
    "        height=900,\n",
    "        \n",
    "        yaxis=dict(\n",
    "            range=[y_min, y_max],\n",
    "            title_text=\"<b>Loss</b>\",\n",
    "            title_font_size=48,\n",
    "            title_font_color=\"#1F77B4\",\n",
    "            tickfont=dict(size=28),\n",
    "        ),\n",
    "        yaxis2=dict(\n",
    "            range=[0.0, 0.0215],\n",
    "            title_text=\"<b>KL Divergence</b>\",\n",
    "            title_font_size=48,\n",
    "            title_font_color=\"#FF7F0E\",\n",
    "            title_standoff=30,\n",
    "            tickfont=dict(size=28),\n",
    "        ),\n",
    "        # annotations=annotations,\n",
    "        font=dict(size=20),\n",
    "        bargap=0.6,\n",
    "        margin=dict(l=120, r=80, b=120, t=140),\n",
    "        title=dict(\n",
    "            text=\"Ablating different paths from L10H7\",\n",
    "            y=0.95,\n",
    "            font_size=52,\n",
    "        ),\n",
    "        xaxis=dict(\n",
    "            title_standoff=30,\n",
    "            tickvals=np.arange(len(x_labels)),\n",
    "            ticktext=x_labels,\n",
    "            tickfont=dict(size=28),\n",
    "        ),\n",
    "        showlegend=False,\n",
    "    )\n",
    "\n",
    "\n",
    "\n",
    "    return fig\n",
    "\n",
    "fig = fig_v2_kl()\n",
    "fig.show(config=dict(staticPlot=True))\n",
    "fig.write_image(figures_path / \"fig_kl.pdf\")\n",
    "fig.write_image(figures_path / \"fig_kl.svg\")\n",
    "\n",
    "\n"
   ]
  },
  {
   "cell_type": "code",
   "execution_count": 32,
   "metadata": {},
   "outputs": [],
   "source": [
    "from transformer_lens.loading_from_pretrained import get_pretrained_model_config\n",
    "get_pretrained_model_config(\"gelu-4l\")"
   ]
  },
  {
   "cell_type": "code",
   "execution_count": 33,
   "metadata": {},
   "outputs": [
    {
     "data": {
      "application/vnd.jupyter.widget-view+json": {
       "model_id": "5d22a891ee294ab3b3f75dcdadddd705",
       "version_major": 2,
       "version_minor": 0
      },
      "text/plain": [
       "Downloading (…)lve/main/config.json:   0%|          | 0.00/1.28k [00:00<?, ?B/s]"
      ]
     },
     "metadata": {},
     "output_type": "display_data"
    },
    {
     "data": {
      "text/plain": [
       "HookedTransformerConfig:\n",
       "{'act_fn': 'gelu',\n",
       " 'attention_dir': 'causal',\n",
       " 'attn_only': False,\n",
       " 'attn_types': None,\n",
       " 'checkpoint_index': None,\n",
       " 'checkpoint_label_type': None,\n",
       " 'checkpoint_value': None,\n",
       " 'd_head': 64,\n",
       " 'd_mlp': 2048,\n",
       " 'd_model': 512,\n",
       " 'd_vocab': 48262,\n",
       " 'd_vocab_out': 48262,\n",
       " 'device': 'cuda',\n",
       " 'eps': 1e-05,\n",
       " 'final_rms': False,\n",
       " 'from_checkpoint': False,\n",
       " 'gated_mlp': False,\n",
       " 'init_mode': 'gpt2',\n",
       " 'init_weights': False,\n",
       " 'initializer_range': 0.035355339059327376,\n",
       " 'model_name': 'GELU_4L512W_C4_Code',\n",
       " 'n_ctx': 1024,\n",
       " 'n_devices': 1,\n",
       " 'n_heads': 8,\n",
       " 'n_layers': 4,\n",
       " 'n_params': 12582912,\n",
       " 'normalization_type': 'LN',\n",
       " 'original_architecture': 'neel',\n",
       " 'parallel_attn_mlp': False,\n",
       " 'positional_embedding_type': 'standard',\n",
       " 'rotary_dim': None,\n",
       " 'scale_attn_by_inverse_layer_idx': False,\n",
       " 'seed': None,\n",
       " 'tokenizer_name': 'NeelNanda/gpt-neox-tokenizer-digits',\n",
       " 'use_attn_in': False,\n",
       " 'use_attn_result': False,\n",
       " 'use_attn_scale': True,\n",
       " 'use_hook_mlp_in': False,\n",
       " 'use_hook_tokens': False,\n",
       " 'use_local_attn': False,\n",
       " 'use_split_qkv_input': False,\n",
       " 'use_split_qkv_normalized_input': False,\n",
       " 'window_size': None}"
      ]
     },
     "execution_count": 33,
     "metadata": {},
     "output_type": "execute_result"
    }
   ],
   "source": [
    "get_pretrained_model_config(\"gelu-4l\")"
   ]
  },
  {
   "cell_type": "code",
   "execution_count": null,
   "metadata": {},
   "outputs": [],
   "source": []
  }
 ],
 "metadata": {
  "kernelspec": {
   "display_name": "base",
   "language": "python",
   "name": "python3"
  },
  "language_info": {
   "codemirror_mode": {
    "name": "ipython",
    "version": 3
   },
   "file_extension": ".py",
   "mimetype": "text/x-python",
   "name": "python",
   "nbconvert_exporter": "python",
   "pygments_lexer": "ipython3",
   "version": "3.11.4"
  },
  "orig_nbformat": 4
 },
 "nbformat": 4,
 "nbformat_minor": 2
}
