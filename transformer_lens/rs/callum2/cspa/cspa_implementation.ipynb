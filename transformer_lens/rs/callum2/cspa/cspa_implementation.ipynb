{
 "cells": [
  {
   "attachments": {},
   "cell_type": "markdown",
   "metadata": {},
   "source": [
    "## Setup\n",
    "\n",
    "Note - I couldn't figure out how to fix local imports for a while. Solution ended up being to make sure that this version of `transformer_lens` is before my libraries in `sys.path` (hence I'm inserting it at position zero in the code below)."
   ]
  },
  {
   "cell_type": "code",
   "execution_count": 1,
   "metadata": {},
   "outputs": [],
   "source": [
    "# %pip install pattern --no-dependencies\n",
    "# %pip install nltk\n",
    "# %pip install protobuf==3.20.0\n",
    "\n",
    "import os, sys\n",
    "from pathlib import Path\n",
    "p = Path(r\"/home/ubuntu/SERI-MATS-2023-Streamlit-pages\")\n",
    "if os.path.exists(str_p := str(p.resolve())):\n",
    "    os.chdir(str_p)\n",
    "    if str_p not in sys.path:\n",
    "        sys.path.append(str_p)\n",
    "\n",
    "from transformer_lens.cautils.notebook import *\n",
    "t.set_grad_enabled(False)\n",
    "\n",
    "from transformer_lens.rs.callum2.cspa.cspa_functions import (\n",
    "    FUNCTION_STR_TOKS,\n",
    "    get_cspa_results,\n",
    "    get_cspa_results_batched,\n",
    ")\n",
    "from transformer_lens.rs.callum2.utils import (\n",
    "    parse_str,\n",
    "    parse_str_toks_for_printing,\n",
    "    parse_str_tok_for_printing,\n",
    "    ST_HTML_PATH,\n",
    "    process_webtext,\n",
    ")\n",
    "from transformer_lens.rs.callum2.cspa.cspa_plots import (\n",
    "    generate_scatter,\n",
    "    generate_loss_based_scatter,\n",
    "    add_cspa_to_streamlit_page,\n",
    ")\n",
    "from transformer_lens.rs.callum2.generate_st_html.model_results import (\n",
    "    get_result_mean,\n",
    "    get_model_results,\n",
    ")\n",
    "from transformer_lens.rs.callum2.generate_st_html.generate_html_funcs import (\n",
    "    generate_4_html_plots,\n",
    "    CSS,\n",
    ")\n",
    "from transformer_lens.rs.callum2.cspa.cspa_semantic_similarity import (\n",
    "    get_equivalency_toks,\n",
    "    get_related_words,\n",
    "    concat_lists,\n",
    "    make_list_correct_length,\n",
    "    create_full_semantic_similarity_dict,\n",
    ")\n",
    "\n",
    "clear_output()"
   ]
  },
  {
   "cell_type": "code",
   "execution_count": 2,
   "metadata": {},
   "outputs": [],
   "source": [
    "model = HookedTransformer.from_pretrained(\n",
    "    \"gpt2-small\",\n",
    "    center_unembed=True,\n",
    "    center_writing_weights=True,\n",
    "    fold_ln=True,\n",
    "    device=\"cuda\",\n",
    "    # fold value bias?\n",
    ")\n",
    "model.set_use_split_qkv_input(False)\n",
    "model.set_use_attn_result(True)\n",
    "\n",
    "clear_output()"
   ]
  },
  {
   "cell_type": "code",
   "execution_count": 3,
   "metadata": {},
   "outputs": [
    {
     "name": "stdout",
     "output_type": "stream",
     "text": [
      "Shape = torch.Size([500, 1000])\n",
      "\n",
      "First prompt:\n",
      "<|endoftext|>Going into Election Day, few industries seemed in worse shape than America's private prisons. Prison populations, which had been rising for decades, were falling. In 2014, Corrections Corporation of America, the biggest private-prison company in the U.S., lost its contract to run Idaho's largest prison, after lawsuits relating to understaffing and violence that had earned the place the nickname Gladiator School. There were press exposés of shocking conditions in the industry and signs of a policy shift toward it. In April, Hillary Clinton said, \"We should end private prisons.\" In August, the Justice Department said that private federal prisons were less safe and less secure than government-run ones. The same month, the department announced that it would phase out the use of private prisons at the federal level. Although most of the private-prison industry operates on the state level (immigrant-detention centers are its other big business), the news sent C.C.A.'s stock down by thirty-five per cent.\n",
      "\n",
      "Donald Trump's victory changed all that: within days, C.C.A.'s stock had jumped forty-seven per cent. His faith in privatization is no secret, and prison companies aren't the only ones rubbing their hands. The stock price of for-profit schools has also rocketed. Still, the outlook for private prisons is particularly rosy, because many Trump policies work to their benefit. The Justice Department's plan to phase out private prisons will likely be scrapped, and a growing bipartisan movement for prison and sentencing reform is about to run up against a President who campaigned as a defender of \"law and order.\" Above all, Trump's hard-line position on immigration seems certain to fill detention centers, one of the biggest money spinners for private-prison operators.\n",
      "\n",
      "The boom in private prisons in the past two decades was part of a broader privatization trend, fuelled by a belief in the superior efficiency of the private sector. But privatizing prisons makes little economic or political sense. Some studies find private prisons to be less cost-effective than government ones, some more, and further studies suggest that any savings are likely the result of cutting corners. In a study of prisons in nine states, Chris Petrella, a lecturer at Bates College, found that private ones avoid taking sick and elderly inmates, since health care is a huge expense for prisons. They employ a younger, less well trained, and less well paid workforce and have higher inmate-to-guard ratios, all of which saves money but also makes prisons more dangerous. When you consider that the government still spends money monitoring private prisons, and that it's stuck running the parts of the system that private companies thought were money losers, the case that private prisons save money looks shaky.\n",
      "\n",
      "Even if they did, the ethical cost would be too high. Imprisoning people is one of the weightiest things that government does, yet outsourcing imprisonment means that treatment of inmates is shaped by bottom-line considerations. This has led to understaffing, inadequate mental-health care, and, in some cases, inadequate meals. Worse, private prisons have an obvious incentive to keep people inside as long as possible. Last year, Anita Mukherjee, an assistant professor of actuarial science at the University of Wisconsin, studied Mississippi's prison system, and found that people in private prisons received many more \"prison conduct violations\" than those in government-run ones. This made it harder for them to get parole, and, on average, they served two to three more months of prison time.\n",
      "\n",
      "The perversities of profit-driven prison policy don't end there. The need for inmates leads companies, in effect, to lobby state and federal governments to maintain the current system of mass incarceration. Government-run prisons aren't blameless here—prison-guard unions lobby for longer sentences and tougher laws—but the private companies know how to throw their weight around, and they benefit from strong local support, as they are often in rural towns without many other sources of jobs or tax revenue. Since the mid-aughts, the industry has spent tens of millions of dollars lobbying on the state and federal levels. Its successes include an Arizona law that required cops to stop suspected undocumented immigrants, major increases in spending on immigration enforcement, and the blocking of congressional efforts to ban private prisons.\n",
      "\n",
      "It's become common to speak of \"the prison-industrial complex,\" and the analogy to the military-industrial complex is a good one: in both cases, government spending helps fund very profitable businesses, which, in turn, lobby legislators and regulators to keep the funds flowing. Just as we spend billions on weapons systems that we may not need, so, too, we jail more people than we need for longer than necessary, because it keeps someone's balance sheet healthy. In recent years, an unlikely coalition of conservatives and liberals had made some progress in weakening this system, going after policies like mandatory sentences\n"
     ]
    }
   ],
   "source": [
    "BATCH_SIZE = 500 # 80 for viz\n",
    "SEQ_LEN = 1000 # 61 for viz\n",
    "batch_idx = 36\n",
    "\n",
    "current_batch_size = 17 # smaller because\n",
    "current_seq_len = 61\n",
    "\n",
    "NEGATIVE_HEADS = [(10, 7), (11, 10)]\n",
    "DATA_TOKS, DATA_STR_TOKS_PARSED, indices = process_webtext(seed=6, batch_size=BATCH_SIZE, seq_len=SEQ_LEN, model=model, verbose=True, return_indices=True)"
   ]
  },
  {
   "attachments": {},
   "cell_type": "markdown",
   "metadata": {},
   "source": [
    "## Hardcoded semantic similarity"
   ]
  },
  {
   "attachments": {},
   "cell_type": "markdown",
   "metadata": {},
   "source": [
    "This will take tokens, and return the tokens of semantically similar words. \n",
    "\n",
    "There are 3 categories of semantically similar tokens `s*` for any given token `s`:\n",
    "\n",
    "1. Equivalence relations - this captures things like plurals, tokenization, capitalization.\n",
    "2. Superstrings - for instance, of you have `\"keley\"` this gives you `\" Berkeley\"`.\n",
    "3. Substrings - for instance, of you have `\" Berkeley\"` this gives you `\"keley\"`.\n",
    "\n",
    "How does this work?\n",
    "\n",
    "1. For each token, generate all (1), and then see which ones actually split into multiple tokens (these become (3)).\n",
    "2. Iterate through this entire dict to generate (2)s for every token (this is basically like flipping the arrows in the other direction).\n",
    "\n",
    "### Problems with this method\n",
    "\n",
    "There are 4 problems with this method. I think (1) and (3) are the most problematic.\n",
    "\n",
    "1. The pluralization isn't sufficiently flexible, and it'll miss out on categories of things, for example:\n",
    "    * `\" write\"` and `\" writing\"` and `\" writer\"`\n",
    "    * `\" rental\"` and `\" rented\"` and `\" renting\"`\n",
    "    * (OV and QK circuits show that these do suppress each other)\n",
    "    * Possible solution - more hardcoded rules?\n",
    "2. Misses some important things which aren't semantically similar as we've defined it, e.g. `1984` and `1985` aren't semantically similar (OV and QK circuits show that they do suppress each other)\n",
    "    * Possible solution - ???\n",
    "\n",
    "However, this maybe isn't worth further optimization, because it doesn't marginally improve the results by much."
   ]
  },
  {
   "cell_type": "code",
   "execution_count": 4,
   "metadata": {},
   "outputs": [],
   "source": [
    "from pattern.text.en import conjugate, PRESENT, PAST, FUTURE, SUBJUNCTIVE, INFINITIVE, PROGRESSIVE, PLURAL, SINGULAR\n",
    "from nltk.stem import WordNetLemmatizer\n",
    "import nltk\n",
    "MY_TENSES = [PRESENT, PAST, FUTURE, SUBJUNCTIVE, INFINITIVE, PROGRESSIVE]\n",
    "MY_NUMBERS = [PLURAL, SINGULAR]\n",
    "from nltk.corpus import wordnet\n",
    "nltk.download('wordnet')\n",
    "clear_output()"
   ]
  },
  {
   "cell_type": "code",
   "execution_count": 5,
   "metadata": {},
   "outputs": [
    {
     "ename": "FileNotFoundError",
     "evalue": "[Errno 2] No such file or directory: '/mount/src/seri-mats-2023-streamlit-pages/transformer_lens/rs/callum2/cspa/cspa_semantic_dict_full.pkl'",
     "output_type": "error",
     "traceback": [
      "\u001b[0;31m---------------------------------------------------------------------------\u001b[0m",
      "\u001b[0;31mFileNotFoundError\u001b[0m                         Traceback (most recent call last)",
      "Cell \u001b[0;32mIn[5], line 6\u001b[0m\n\u001b[1;32m      1\u001b[0m \u001b[39m# cspa_semantic_dict_reversed, cspa_semantic_dict = create_full_semantic_similarity_dict(model, full_version=True)\u001b[39;00m\n\u001b[1;32m      2\u001b[0m \n\u001b[1;32m      3\u001b[0m \u001b[39m# with open(ST_HTML_PATH.parent.parent / \"cspa/cspa_semantic_dict_full.pkl\", \"wb\") as f:\u001b[39;00m\n\u001b[1;32m      4\u001b[0m \u001b[39m#     pickle.dump(cspa_semantic_dict, f)\u001b[39;00m\n\u001b[0;32m----> 6\u001b[0m cspa_semantic_dict \u001b[39m=\u001b[39m pickle\u001b[39m.\u001b[39mload(\u001b[39mopen\u001b[39;49m(ST_HTML_PATH\u001b[39m.\u001b[39;49mparent\u001b[39m.\u001b[39;49mparent \u001b[39m/\u001b[39;49m \u001b[39m\"\u001b[39;49m\u001b[39mcspa/cspa_semantic_dict_full.pkl\u001b[39;49m\u001b[39m\"\u001b[39;49m, \u001b[39m\"\u001b[39;49m\u001b[39mrb\u001b[39;49m\u001b[39m\"\u001b[39;49m))\n",
      "File \u001b[0;32m~/miniconda3/envs/arthurenv/lib/python3.10/site-packages/IPython/core/interactiveshell.py:284\u001b[0m, in \u001b[0;36m_modified_open\u001b[0;34m(file, *args, **kwargs)\u001b[0m\n\u001b[1;32m    277\u001b[0m \u001b[39mif\u001b[39;00m file \u001b[39min\u001b[39;00m {\u001b[39m0\u001b[39m, \u001b[39m1\u001b[39m, \u001b[39m2\u001b[39m}:\n\u001b[1;32m    278\u001b[0m     \u001b[39mraise\u001b[39;00m \u001b[39mValueError\u001b[39;00m(\n\u001b[1;32m    279\u001b[0m         \u001b[39mf\u001b[39m\u001b[39m\"\u001b[39m\u001b[39mIPython won\u001b[39m\u001b[39m'\u001b[39m\u001b[39mt let you open fd=\u001b[39m\u001b[39m{\u001b[39;00mfile\u001b[39m}\u001b[39;00m\u001b[39m by default \u001b[39m\u001b[39m\"\u001b[39m\n\u001b[1;32m    280\u001b[0m         \u001b[39m\"\u001b[39m\u001b[39mas it is likely to crash IPython. If you know what you are doing, \u001b[39m\u001b[39m\"\u001b[39m\n\u001b[1;32m    281\u001b[0m         \u001b[39m\"\u001b[39m\u001b[39myou can use builtins\u001b[39m\u001b[39m'\u001b[39m\u001b[39m open.\u001b[39m\u001b[39m\"\u001b[39m\n\u001b[1;32m    282\u001b[0m     )\n\u001b[0;32m--> 284\u001b[0m \u001b[39mreturn\u001b[39;00m io_open(file, \u001b[39m*\u001b[39;49margs, \u001b[39m*\u001b[39;49m\u001b[39m*\u001b[39;49mkwargs)\n",
      "\u001b[0;31mFileNotFoundError\u001b[0m: [Errno 2] No such file or directory: '/mount/src/seri-mats-2023-streamlit-pages/transformer_lens/rs/callum2/cspa/cspa_semantic_dict_full.pkl'"
     ]
    }
   ],
   "source": [
    "# cspa_semantic_dict_reversed, cspa_semantic_dict = create_full_semantic_similarity_dict(model, full_version=True)\n",
    "\n",
    "# with open(ST_HTML_PATH.parent.parent / \"cspa/cspa_semantic_dict_full.pkl\", \"wb\") as f:\n",
    "#     pickle.dump(cspa_semantic_dict, f)\n",
    "\n",
    "cspa_semantic_dict = pickle.load(open(ST_HTML_PATH.parent.parent / \"cspa/cspa_semantic_dict_full.pkl\", \"rb\"))"
   ]
  },
  {
   "cell_type": "code",
   "execution_count": 6,
   "metadata": {},
   "outputs": [],
   "source": [
    "cspa_semantic_dict = {}"
   ]
  },
  {
   "cell_type": "code",
   "execution_count": 7,
   "metadata": {},
   "outputs": [
    {
     "data": {
      "text/html": [
       "<h2>Related words</h2>This doesn't include tokenization fragments; it's just linguistic."
      ],
      "text/plain": [
       "<IPython.core.display.HTML object>"
      ]
     },
     "metadata": {},
     "output_type": "display_data"
    },
    {
     "name": "stdout",
     "output_type": "stream",
     "text": [
      "['Berkeley']\n",
      "(Worked on second try!)\n",
      "['pier']\n",
      "['pie', 'pier', 'pies']\n",
      "['ring', 'rings', 'ringing']\n",
      "['device', 'devices']\n",
      "['robot', 'robots', 'robotic', 'robotics']\n",
      "['w']\n"
     ]
    }
   ],
   "source": [
    "display(HTML(\"<h2>Related words</h2>This doesn't include tokenization fragments; it's just linguistic.\"))\n",
    "\n",
    "for word in [\"Berkeley\", \"pier\", \"pie\", \"ring\", \"device\", \"robot\", \"w\"]:\n",
    "    try: print(get_related_words(word, model))\n",
    "    except: print(get_related_words(word, model)); print(\"(Worked on second try!)\") # maybe because it downloads?"
   ]
  },
  {
   "cell_type": "code",
   "execution_count": 8,
   "metadata": {},
   "outputs": [
    {
     "data": {
      "text/html": [
       "<h2>Equivalency words</h2>These are the words which will be included in the semantic similarity cluster, during CSPA."
      ],
      "text/plain": [
       "<IPython.core.display.HTML object>"
      ]
     },
     "metadata": {},
     "output_type": "display_data"
    },
    {
     "name": "stdout",
     "output_type": "stream",
     "text": [
      "' Berkeley' -> ([' Berkeley'], ['Ber', 'keley'])\n",
      "   ' Pier' -> ([' pier', ' Pier'], [])\n",
      "   ' pier' -> ([' pier', ' Pier'], [])\n",
      "     'pie' -> (['pie', 'Pie', ' pie', ' pies', ' Pie'], [])\n",
      "   ' pies' -> (['pie', 'Pie', ' pies', ' pie', ' Pie'], [])\n",
      "   ' ring' -> (['ring', 'rings', 'Ring', ' ring', ' rings', ' Ring', ' Rings'], [])\n",
      " ' device' -> (['device', 'devices', 'Device', ' device', ' devices', ' Device', ' Devices'], [])\n",
      "  ' robot' -> ([' robot', ' robots', ' Robot', ' Robots'], [])\n",
      "       'w' -> (['w', 'ws', 'W', 'Ws', 'WS', ' w', ' W', ' WS'], [])\n"
     ]
    }
   ],
   "source": [
    "display(HTML(\"<h2>Equivalency words</h2>These are the words which will be included in the semantic similarity cluster, during CSPA.\"))\n",
    "\n",
    "for tok in [\" Berkeley\", \" Pier\", \" pier\", \"pie\", \" pies\", \" ring\", \" device\", \" robot\", \"w\"]:\n",
    "    print(f\"{tok!r:>10} -> {get_equivalency_toks(tok, model)}\")"
   ]
  },
  {
   "cell_type": "code",
   "execution_count": 9,
   "metadata": {},
   "outputs": [
    {
     "ename": "KeyError",
     "evalue": "' Berkeley'",
     "output_type": "error",
     "traceback": [
      "\u001b[0;31m---------------------------------------------------------------------------\u001b[0m",
      "\u001b[0;31mKeyError\u001b[0m                                  Traceback (most recent call last)",
      "Cell \u001b[0;32mIn[9], line 10\u001b[0m\n\u001b[1;32m      7\u001b[0m     \u001b[39melse\u001b[39;00m: \u001b[39mreturn\u001b[39;00m s_str\n\u001b[1;32m      9\u001b[0m \u001b[39mfor\u001b[39;00m str_tok \u001b[39min\u001b[39;00m str_toks:\n\u001b[0;32m---> 10\u001b[0m     top3_sim \u001b[39m=\u001b[39m \u001b[39m\"\u001b[39m\u001b[39m\\n\u001b[39;00m\u001b[39m\"\u001b[39m\u001b[39m.\u001b[39mjoin(\u001b[39mlist\u001b[39m(\u001b[39mmap\u001b[39m(\u001b[39mrepr\u001b[39m, concat_lists(cspa_semantic_dict[str_tok])[:\u001b[39m3\u001b[39m])))\n\u001b[1;32m     11\u001b[0m     bidir, superstr, substr \u001b[39m=\u001b[39m cspa_semantic_dict[str_tok]\n\u001b[1;32m     12\u001b[0m     all_sim \u001b[39m=\u001b[39m \u001b[39m\"\u001b[39m\u001b[39m\\n\u001b[39;00m\u001b[39m\"\u001b[39m\u001b[39m.\u001b[39mjoin([\n\u001b[1;32m     13\u001b[0m         cutoff(\u001b[39mf\u001b[39m\u001b[39m\"\u001b[39m\u001b[39m{\u001b[39;00m\u001b[39mlen\u001b[39m(bidir)\u001b[39m}\u001b[39;00m\u001b[39m bidirectional: \u001b[39m\u001b[39m{\u001b[39;00mbidir\u001b[39m}\u001b[39;00m\u001b[39m\"\u001b[39m),\n\u001b[1;32m     14\u001b[0m         cutoff(\u001b[39mf\u001b[39m\u001b[39m\"\u001b[39m\u001b[39m{\u001b[39;00m\u001b[39mlen\u001b[39m(superstr)\u001b[39m}\u001b[39;00m\u001b[39m super-tokens:  \u001b[39m\u001b[39m{\u001b[39;00msuperstr\u001b[39m}\u001b[39;00m\u001b[39m\"\u001b[39m),\n\u001b[1;32m     15\u001b[0m         cutoff(\u001b[39mf\u001b[39m\u001b[39m\"\u001b[39m\u001b[39m{\u001b[39;00m\u001b[39mlen\u001b[39m(substr)\u001b[39m}\u001b[39;00m\u001b[39m sub-tokens:    \u001b[39m\u001b[39m{\u001b[39;00msubstr\u001b[39m}\u001b[39;00m\u001b[39m\"\u001b[39m),\n\u001b[1;32m     16\u001b[0m     ]) \u001b[39m+\u001b[39m \u001b[39m\"\u001b[39m\u001b[39m\\n\u001b[39;00m\u001b[39m\"\u001b[39m\n",
      "\u001b[0;31mKeyError\u001b[0m: ' Berkeley'"
     ]
    }
   ],
   "source": [
    "table = Table(\"Source token\", \"All semantically related\", title=\"Semantic similarity: bidirectional, superstrings, substrings\") #  \"Top 3 related\" in the middle\n",
    "\n",
    "str_toks = [\" Berkeley\", \"keley\", \" University\", \" Mary\", \" Pier\", \" pier\", \"NY\", \" ring\", \" W\", \" device\", \" robot\", \" jump\", \" driver\", \" Cairo\"]\n",
    "print_cutoff = 105 # 70\n",
    "def cutoff(s):\n",
    "    if len(s_str := str(s)) >= print_cutoff: return s_str[:print_cutoff-4] + ' ...'\n",
    "    else: return s_str\n",
    "\n",
    "for str_tok in str_toks:\n",
    "    top3_sim = \"\\n\".join(list(map(repr, concat_lists(cspa_semantic_dict[str_tok])[:3])))\n",
    "    bidir, superstr, substr = cspa_semantic_dict[str_tok]\n",
    "    all_sim = \"\\n\".join([\n",
    "        cutoff(f\"{len(bidir)} bidirectional: {bidir}\"),\n",
    "        cutoff(f\"{len(superstr)} super-tokens:  {superstr}\"),\n",
    "        cutoff(f\"{len(substr)} sub-tokens:    {substr}\"),\n",
    "    ]) + \"\\n\"\n",
    "    table.add_row(repr(str_tok), all_sim) # top3_sim in the middle\n",
    "\n",
    "rprint(table)"
   ]
  },
  {
   "attachments": {},
   "cell_type": "markdown",
   "metadata": {},
   "source": [
    "## Running CSPA code"
   ]
  },
  {
   "attachments": {},
   "cell_type": "markdown",
   "metadata": {},
   "source": [
    "### `K_u = 0.05`, no semantic similarity, batch size = 100"
   ]
  },
  {
   "cell_type": "code",
   "execution_count": 10,
   "metadata": {},
   "outputs": [
    {
     "name": "stderr",
     "output_type": "stream",
     "text": [
      "  0%|          | 0/10 [00:00<?, ?it/s]"
     ]
    },
    {
     "name": "stderr",
     "output_type": "stream",
     "text": [
      "100%|██████████| 10/10 [00:01<00:00,  6.36it/s]\n"
     ]
    }
   ],
   "source": [
    "result_mean = get_result_mean([(10, 7), (11, 10)], DATA_TOKS[:100, :], model, verbose=True)\n",
    "# t.save(result_mean, f\"/home/ubuntu/SERI-MATS-2023-Streamlit-pages/transformer_lens/rs/callum2/st_page/media/result_mean.pt\")"
   ]
  },
  {
   "cell_type": "code",
   "execution_count": 25,
   "metadata": {},
   "outputs": [
    {
     "name": "stdout",
     "output_type": "stream",
     "text": [
      "Moving model to device:  cpu\n"
     ]
    },
    {
     "name": "stderr",
     "output_type": "stream",
     "text": [
      "Batch 1/50, shape torch.Size([1, 1000]):   0%|          | 0/50 [00:00<?, ?it/s]"
     ]
    },
    {
     "name": "stderr",
     "output_type": "stream",
     "text": [
      "Batch 3/50, shape = (1, 1000), times = [get = 6.02, s* = 0.20, aggregate = 0.00]:   6%|▌         | 3/50 [00:18<04:52,  6.22s/it]"
     ]
    }
   ],
   "source": [
    "# Results with batch size = 100\n",
    "\n",
    "cspa_results_qk_ov = get_cspa_results_batched(\n",
    "    model = model,\n",
    "    toks = DATA_TOKS[:50],\n",
    "    max_batch_size = 1, # 50,\n",
    "    negative_head = (10, 7),\n",
    "    interventions = [\"qk\", \"ov\"],\n",
    "    K_unembeddings = 0.05, # most interesting in range 3-8 (out of 80)\n",
    "    K_semantic = 1, # either 1 or up to 8 to capture all sem similar\n",
    "    semantic_dict = cspa_semantic_dict,\n",
    "    result_mean = result_mean,\n",
    "    use_cuda = False,\n",
    "    verbose = True,\n",
    "    compute_s_sstar_dict = False,\n",
    ")"
   ]
  },
  {
   "cell_type": "code",
   "execution_count": null,
   "metadata": {},
   "outputs": [
    {
     "data": {
      "application/vnd.plotly.v1+json": {
       "config": {
        "plotlyServerURL": "https://plot.ly"
       },
       "data": [
        {
         "hovertemplate": "Change in loss under mean ablation=%{x}<br>Change in loss under CSPA=%{y}<extra></extra>",
         "legendgroup": "",
         "marker": {
          "color": "#1F77B4",
          "symbol": "circle"
         },
         "mode": "markers+lines",
         "name": "",
         "orientation": "v",
         "showlegend": false,
         "type": "scatter",
         "x": [
          -0.4403495788574219,
          -0.24943698942661285,
          -0.19694070518016815,
          -0.16677556931972504,
          -0.14704471826553345,
          -0.13278403878211975,
          -0.12194123864173889,
          -0.11268064379692078,
          -0.10428865998983383,
          -0.09854020178318024,
          -0.09222279489040375,
          -0.08668609708547592,
          -0.080998495221138,
          -0.07647185027599335,
          -0.07197967171669006,
          -0.06865839660167694,
          -0.06534386426210403,
          -0.06269337236881256,
          -0.05979602783918381,
          -0.05754019692540169,
          -0.05530951917171478,
          -0.05325274169445038,
          -0.05053679645061493,
          -0.048475440591573715,
          -0.04673807695508003,
          -0.04515756666660309,
          -0.043670881539583206,
          -0.042125631123781204,
          -0.04038681834936142,
          -0.03883115574717522,
          -0.03736570104956627,
          -0.03570527955889702,
          -0.03441312164068222,
          -0.033183131366968155,
          -0.0318756178021431,
          -0.03063511848449707,
          -0.029354633763432503,
          -0.028030073270201683,
          -0.027027802541851997,
          -0.025975611060857773,
          -0.02491077408194542,
          -0.02402675896883011,
          -0.023112747818231583,
          -0.022356679663062096,
          -0.021483225747942924,
          -0.02072424814105034,
          -0.020065857097506523,
          -0.019366594031453133,
          -0.01871214061975479,
          -0.017993392422795296,
          -0.01734287291765213,
          -0.01684497855603695,
          -0.016323590651154518,
          -0.01578710228204727,
          -0.015113390050828457,
          -0.014646324329078197,
          -0.014073091559112072,
          -0.013557503931224346,
          -0.01312069222331047,
          -0.012685607187449932,
          -0.012235035188496113,
          -0.011849087662994862,
          -0.011424724943935871,
          -0.010987271554768085,
          -0.010502593591809273,
          -0.010103561915457249,
          -0.009756665676832199,
          -0.009346324019134045,
          -0.008929628878831863,
          -0.008553151972591877,
          -0.008177627809345722,
          -0.007733051665127277,
          -0.007218127138912678,
          -0.0068228719756007195,
          -0.006509571336209774,
          -0.00615393603220582,
          -0.005812969524413347,
          -0.005507440306246281,
          -0.005242085084319115,
          -0.004956602118909359,
          -0.004655430559068918,
          -0.004318151157349348,
          -0.003968472126871347,
          -0.0036293405573815107,
          -0.003353510983288288,
          -0.0030940717551857233,
          -0.0028658369556069374,
          -0.0026477640494704247,
          -0.0024021980352699757,
          -0.0021808615420013666,
          -0.0019156914204359055,
          -0.0017048829467967153,
          -0.0014840291114524007,
          -0.0012282725656405091,
          -0.0010157212382182479,
          -0.0008153051021508873,
          -0.0006097183795645833,
          -0.0004296361585147679,
          -0.0002998164272867143,
          -0.00017078158271033317,
          -0.0000863579916767776,
          -0.000027639931431622244,
          -0.000006863993803563062,
          -0.000001269966901418229,
          6.173791007313412e-7,
          0.0000026615869046509033,
          0.000004342560714576393,
          0.0000071657809712633025,
          0.000010607323929434642,
          0.00001810874709917698,
          0.00003970323450630531,
          0.00009285940905101597,
          0.0001599409442860633,
          0.0002797973866108805,
          0.00045625201892107725,
          0.0006476379930973053,
          0.0008657899452373385,
          0.0010715395910665393,
          0.0012888364726677537,
          0.001501663587987423,
          0.0017747534438967705,
          0.0020929814781993628,
          0.0023843846283853054,
          0.0026691544335335493,
          0.002919510006904602,
          0.003170286538079381,
          0.003472268581390381,
          0.0038190155755728483,
          0.004185671452432871,
          0.0045843846164643764,
          0.004945998080074787,
          0.005288495682179928,
          0.005688272416591644,
          0.006187147926539183,
          0.006623921450227499,
          0.007027512416243553,
          0.007466750685125589,
          0.007996626198291779,
          0.008480802178382874,
          0.008920230902731419,
          0.009376691654324532,
          0.009965901263058186,
          0.010465175844728947,
          0.010901417583227158,
          0.011514639481902122,
          0.012089260853827,
          0.012814451940357685,
          0.013604855164885521,
          0.01432663481682539,
          0.015084333717823029,
          0.01579984463751316,
          0.01644483022391796,
          0.01726366952061653,
          0.018004413694143295,
          0.01885002851486206,
          0.019925912842154503,
          0.021072668954730034,
          0.022241784259676933,
          0.023381294682621956,
          0.024345844984054565,
          0.025525394827127457,
          0.026889638975262642,
          0.02830805443227291,
          0.029592866078019142,
          0.03099803440272808,
          0.03232509642839432,
          0.03396950289607048,
          0.035387780517339706,
          0.03707648068666458,
          0.038832664489746094,
          0.04064677283167839,
          0.04290919378399849,
          0.04511639103293419,
          0.047276925295591354,
          0.050145890563726425,
          0.05264519155025482,
          0.05568980053067207,
          0.05860603228211403,
          0.06234331056475639,
          0.06589622795581818,
          0.07013331353664398,
          0.07482453435659409,
          0.0793762281537056,
          0.08355125039815903,
          0.08864540606737137,
          0.09510010480880737,
          0.10191861540079117,
          0.10829704254865646,
          0.11586403101682663,
          0.12395045906305313,
          0.13134029507637024,
          0.14228475093841553,
          0.15640127658843994,
          0.1722976267337799,
          0.19291193783283234,
          0.21661376953125,
          0.24964271485805511,
          0.2929278314113617,
          0.38931694626808167
         ],
         "xaxis": "x",
         "y": [
          -0.40400898456573486,
          -0.23571963608264923,
          -0.19096116721630096,
          -0.15692321956157684,
          -0.14108294248580933,
          -0.1265275776386261,
          -0.11945174634456635,
          -0.11469297856092453,
          -0.10394353419542313,
          -0.09356097877025604,
          -0.08881641924381256,
          -0.08383583277463913,
          -0.07616092264652252,
          -0.07174356281757355,
          -0.06949663162231445,
          -0.06604475528001785,
          -0.06498400866985321,
          -0.060084789991378784,
          -0.056681178510189056,
          -0.055357445031404495,
          -0.05150492116808891,
          -0.051275238394737244,
          -0.050091929733753204,
          -0.04562770947813988,
          -0.045259393751621246,
          -0.0431484691798687,
          -0.04286126047372818,
          -0.03827120363712311,
          -0.03820724040269852,
          -0.037399772554636,
          -0.03538863733410835,
          -0.0339735671877861,
          -0.03321780636906624,
          -0.031770672649145126,
          -0.03136024251580238,
          -0.02899641916155815,
          -0.028507232666015625,
          -0.02634282596409321,
          -0.02632451057434082,
          -0.024710489436984062,
          -0.022433510050177574,
          -0.023771842941641808,
          -0.023469705134630203,
          -0.02173975482583046,
          -0.02094241790473461,
          -0.01882968097925186,
          -0.017671409994363785,
          -0.01978195086121559,
          -0.018955864012241364,
          -0.016829809173941612,
          -0.01598777249455452,
          -0.015667330473661423,
          -0.015795793384313583,
          -0.015326649881899357,
          -0.01411532610654831,
          -0.013866722583770752,
          -0.013182293623685837,
          -0.013777215965092182,
          -0.012437209486961365,
          -0.011902287602424622,
          -0.011471799574792385,
          -0.011548792012035847,
          -0.011149570345878601,
          -0.01051718182861805,
          -0.01017351821064949,
          -0.009364518336951733,
          -0.009285851381719112,
          -0.008980507031083107,
          -0.008447247557342052,
          -0.00866704247891903,
          -0.007541073486208916,
          -0.007176633924245834,
          -0.005964411422610283,
          -0.006273123901337385,
          -0.006078818347305059,
          -0.005399571731686592,
          -0.005437417887151241,
          -0.005177180282771587,
          -0.005022158846259117,
          -0.004289053380489349,
          -0.004320506472140551,
          -0.003889929037541151,
          -0.003593222703784704,
          -0.0031226950231939554,
          -0.0030085118487477303,
          -0.0024614434223622084,
          -0.0026209368370473385,
          -0.0014632085803896189,
          -0.0018028542399406433,
          -0.0016861214535310864,
          -0.0020389158744364977,
          -0.0015561673790216446,
          -0.0011859351070597768,
          -0.0008345508249476552,
          -0.0008883039699867368,
          -0.0009292231407016516,
          -0.00008813660679152235,
          -0.0008161300211213529,
          -0.00021811158512718976,
          -0.00012333567428868264,
          -0.00031611963640898466,
          0.0000021819223547936417,
          -0.0000070139876697794534,
          -8.709903909220884e-7,
          0.000012764816347043961,
          0.000002481252749930718,
          0.000005010208496969426,
          0.000006229933205759153,
          0.00009161359776044264,
          0.000017772950741345994,
          0.0000169674567587208,
          0.0008016722276806831,
          0.00031531619606539607,
          0.00033426619484089315,
          0.0007240500417537987,
          0.0006243801326490939,
          0.0012824408477172256,
          0.0009301720419898629,
          0.001605929690413177,
          0.0009831585921347141,
          0.0021409839391708374,
          0.00151465751696378,
          0.0017535064835101366,
          0.003153172554448247,
          0.0029062542598694563,
          0.0035483231768012047,
          0.0026884691324084997,
          0.00389928393997252,
          0.004468828439712524,
          0.0036888024769723415,
          0.004952324088662863,
          0.006595062091946602,
          0.005771866999566555,
          0.0063161179423332214,
          0.006439485587179661,
          0.006548210047185421,
          0.007959169335663319,
          0.009284249506890774,
          0.0079989954829216,
          0.008748198859393597,
          0.00988516490906477,
          0.01056387834250927,
          0.01194363459944725,
          0.011156116612255573,
          0.012914896011352539,
          0.012114043347537518,
          0.011761460453271866,
          0.013644146732985973,
          0.01416056603193283,
          0.015048009343445301,
          0.017931107431650162,
          0.016735047101974487,
          0.01731320098042488,
          0.0181457307189703,
          0.01857893355190754,
          0.01920749619603157,
          0.020890848711133003,
          0.022438595071434975,
          0.02328341454267502,
          0.02464612014591694,
          0.025033989921212196,
          0.02694382518529892,
          0.025593871250748634,
          0.028587311506271362,
          0.03096965327858925,
          0.031807977706193924,
          0.03448604419827461,
          0.03535494953393936,
          0.035101938992738724,
          0.03793281316757202,
          0.038582444190979004,
          0.041701097041368484,
          0.046187449246644974,
          0.046214617788791656,
          0.04898674786090851,
          0.05152038484811783,
          0.054465152323246,
          0.0572994090616703,
          0.0619654543697834,
          0.06497828662395477,
          0.06753375381231308,
          0.0693986713886261,
          0.07515046000480652,
          0.08038453757762909,
          0.0840538963675499,
          0.09051615744829178,
          0.09860314428806305,
          0.10193253308534622,
          0.11184033006429672,
          0.11411602795124054,
          0.12381576001644135,
          0.1346764862537384,
          0.15158069133758545,
          0.1634020358324051,
          0.18254287540912628,
          0.20366990566253662,
          0.226990208029747,
          0.2765163779258728,
          0.3455072045326233
         ],
         "yaxis": "y"
        }
       ],
       "layout": {
        "annotations": [
         {
          "align": "left",
          "font": {
           "size": 14
          },
          "showarrow": false,
          "text": "No intervention",
          "x": 0.98,
          "xanchor": "right",
          "xref": "paper",
          "y": 0.54,
          "yref": "paper"
         },
         {
          "align": "left",
          "font": {
           "size": 14
          },
          "showarrow": false,
          "text": "Full ablation",
          "x": 0.98,
          "xanchor": "right",
          "xref": "paper",
          "y": 1.04,
          "yref": "paper"
         }
        ],
        "font": {
         "size": 25
        },
        "height": 600,
        "hoverdistance": 100,
        "legend": {
         "tracegroupgap": 0
        },
        "margin": {
         "t": 60
        },
        "shapes": [
         {
          "line": {
           "color": "red",
           "dash": "dash",
           "width": 2
          },
          "opacity": 0.8,
          "type": "line",
          "x0": -0.4403495788574219,
          "x1": 0.38931694626808167,
          "y0": -0.4403495788574219,
          "y1": 0.38931694626808167
         },
         {
          "line": {
           "color": "red",
           "dash": "dash",
           "width": 2
          },
          "opacity": 0.8,
          "type": "line",
          "x0": 0,
          "x1": 1,
          "xref": "x domain",
          "y0": 0,
          "y1": 0,
          "yref": "y"
         },
         {
          "line": {
           "color": "black",
           "width": 1
          },
          "opacity": 0.4,
          "type": "line",
          "x0": 0,
          "x1": 0,
          "xref": "x",
          "y0": 0,
          "y1": 1,
          "yref": "y domain"
         }
        ],
        "showlegend": false,
        "spikedistance": 1000,
        "template": {
         "data": {
          "bar": [
           {
            "error_x": {
             "color": "rgb(36,36,36)"
            },
            "error_y": {
             "color": "rgb(36,36,36)"
            },
            "marker": {
             "line": {
              "color": "white",
              "width": 0.5
             },
             "pattern": {
              "fillmode": "overlay",
              "size": 10,
              "solidity": 0.2
             }
            },
            "type": "bar"
           }
          ],
          "barpolar": [
           {
            "marker": {
             "line": {
              "color": "white",
              "width": 0.5
             },
             "pattern": {
              "fillmode": "overlay",
              "size": 10,
              "solidity": 0.2
             }
            },
            "type": "barpolar"
           }
          ],
          "carpet": [
           {
            "aaxis": {
             "endlinecolor": "rgb(36,36,36)",
             "gridcolor": "white",
             "linecolor": "white",
             "minorgridcolor": "white",
             "startlinecolor": "rgb(36,36,36)"
            },
            "baxis": {
             "endlinecolor": "rgb(36,36,36)",
             "gridcolor": "white",
             "linecolor": "white",
             "minorgridcolor": "white",
             "startlinecolor": "rgb(36,36,36)"
            },
            "type": "carpet"
           }
          ],
          "choropleth": [
           {
            "colorbar": {
             "outlinewidth": 1,
             "tickcolor": "rgb(36,36,36)",
             "ticks": "outside"
            },
            "type": "choropleth"
           }
          ],
          "contour": [
           {
            "colorbar": {
             "outlinewidth": 1,
             "tickcolor": "rgb(36,36,36)",
             "ticks": "outside"
            },
            "colorscale": [
             [
              0,
              "#440154"
             ],
             [
              0.1111111111111111,
              "#482878"
             ],
             [
              0.2222222222222222,
              "#3e4989"
             ],
             [
              0.3333333333333333,
              "#31688e"
             ],
             [
              0.4444444444444444,
              "#26828e"
             ],
             [
              0.5555555555555556,
              "#1f9e89"
             ],
             [
              0.6666666666666666,
              "#35b779"
             ],
             [
              0.7777777777777778,
              "#6ece58"
             ],
             [
              0.8888888888888888,
              "#b5de2b"
             ],
             [
              1,
              "#fde725"
             ]
            ],
            "type": "contour"
           }
          ],
          "contourcarpet": [
           {
            "colorbar": {
             "outlinewidth": 1,
             "tickcolor": "rgb(36,36,36)",
             "ticks": "outside"
            },
            "type": "contourcarpet"
           }
          ],
          "heatmap": [
           {
            "colorbar": {
             "outlinewidth": 1,
             "tickcolor": "rgb(36,36,36)",
             "ticks": "outside"
            },
            "colorscale": [
             [
              0,
              "#440154"
             ],
             [
              0.1111111111111111,
              "#482878"
             ],
             [
              0.2222222222222222,
              "#3e4989"
             ],
             [
              0.3333333333333333,
              "#31688e"
             ],
             [
              0.4444444444444444,
              "#26828e"
             ],
             [
              0.5555555555555556,
              "#1f9e89"
             ],
             [
              0.6666666666666666,
              "#35b779"
             ],
             [
              0.7777777777777778,
              "#6ece58"
             ],
             [
              0.8888888888888888,
              "#b5de2b"
             ],
             [
              1,
              "#fde725"
             ]
            ],
            "type": "heatmap"
           }
          ],
          "heatmapgl": [
           {
            "colorbar": {
             "outlinewidth": 1,
             "tickcolor": "rgb(36,36,36)",
             "ticks": "outside"
            },
            "colorscale": [
             [
              0,
              "#440154"
             ],
             [
              0.1111111111111111,
              "#482878"
             ],
             [
              0.2222222222222222,
              "#3e4989"
             ],
             [
              0.3333333333333333,
              "#31688e"
             ],
             [
              0.4444444444444444,
              "#26828e"
             ],
             [
              0.5555555555555556,
              "#1f9e89"
             ],
             [
              0.6666666666666666,
              "#35b779"
             ],
             [
              0.7777777777777778,
              "#6ece58"
             ],
             [
              0.8888888888888888,
              "#b5de2b"
             ],
             [
              1,
              "#fde725"
             ]
            ],
            "type": "heatmapgl"
           }
          ],
          "histogram": [
           {
            "marker": {
             "line": {
              "color": "white",
              "width": 0.6
             }
            },
            "type": "histogram"
           }
          ],
          "histogram2d": [
           {
            "colorbar": {
             "outlinewidth": 1,
             "tickcolor": "rgb(36,36,36)",
             "ticks": "outside"
            },
            "colorscale": [
             [
              0,
              "#440154"
             ],
             [
              0.1111111111111111,
              "#482878"
             ],
             [
              0.2222222222222222,
              "#3e4989"
             ],
             [
              0.3333333333333333,
              "#31688e"
             ],
             [
              0.4444444444444444,
              "#26828e"
             ],
             [
              0.5555555555555556,
              "#1f9e89"
             ],
             [
              0.6666666666666666,
              "#35b779"
             ],
             [
              0.7777777777777778,
              "#6ece58"
             ],
             [
              0.8888888888888888,
              "#b5de2b"
             ],
             [
              1,
              "#fde725"
             ]
            ],
            "type": "histogram2d"
           }
          ],
          "histogram2dcontour": [
           {
            "colorbar": {
             "outlinewidth": 1,
             "tickcolor": "rgb(36,36,36)",
             "ticks": "outside"
            },
            "colorscale": [
             [
              0,
              "#440154"
             ],
             [
              0.1111111111111111,
              "#482878"
             ],
             [
              0.2222222222222222,
              "#3e4989"
             ],
             [
              0.3333333333333333,
              "#31688e"
             ],
             [
              0.4444444444444444,
              "#26828e"
             ],
             [
              0.5555555555555556,
              "#1f9e89"
             ],
             [
              0.6666666666666666,
              "#35b779"
             ],
             [
              0.7777777777777778,
              "#6ece58"
             ],
             [
              0.8888888888888888,
              "#b5de2b"
             ],
             [
              1,
              "#fde725"
             ]
            ],
            "type": "histogram2dcontour"
           }
          ],
          "mesh3d": [
           {
            "colorbar": {
             "outlinewidth": 1,
             "tickcolor": "rgb(36,36,36)",
             "ticks": "outside"
            },
            "type": "mesh3d"
           }
          ],
          "parcoords": [
           {
            "line": {
             "colorbar": {
              "outlinewidth": 1,
              "tickcolor": "rgb(36,36,36)",
              "ticks": "outside"
             }
            },
            "type": "parcoords"
           }
          ],
          "pie": [
           {
            "automargin": true,
            "type": "pie"
           }
          ],
          "scatter": [
           {
            "fillpattern": {
             "fillmode": "overlay",
             "size": 10,
             "solidity": 0.2
            },
            "type": "scatter"
           }
          ],
          "scatter3d": [
           {
            "line": {
             "colorbar": {
              "outlinewidth": 1,
              "tickcolor": "rgb(36,36,36)",
              "ticks": "outside"
             }
            },
            "marker": {
             "colorbar": {
              "outlinewidth": 1,
              "tickcolor": "rgb(36,36,36)",
              "ticks": "outside"
             }
            },
            "type": "scatter3d"
           }
          ],
          "scattercarpet": [
           {
            "marker": {
             "colorbar": {
              "outlinewidth": 1,
              "tickcolor": "rgb(36,36,36)",
              "ticks": "outside"
             }
            },
            "type": "scattercarpet"
           }
          ],
          "scattergeo": [
           {
            "marker": {
             "colorbar": {
              "outlinewidth": 1,
              "tickcolor": "rgb(36,36,36)",
              "ticks": "outside"
             }
            },
            "type": "scattergeo"
           }
          ],
          "scattergl": [
           {
            "marker": {
             "colorbar": {
              "outlinewidth": 1,
              "tickcolor": "rgb(36,36,36)",
              "ticks": "outside"
             }
            },
            "type": "scattergl"
           }
          ],
          "scattermapbox": [
           {
            "marker": {
             "colorbar": {
              "outlinewidth": 1,
              "tickcolor": "rgb(36,36,36)",
              "ticks": "outside"
             }
            },
            "type": "scattermapbox"
           }
          ],
          "scatterpolar": [
           {
            "marker": {
             "colorbar": {
              "outlinewidth": 1,
              "tickcolor": "rgb(36,36,36)",
              "ticks": "outside"
             }
            },
            "type": "scatterpolar"
           }
          ],
          "scatterpolargl": [
           {
            "marker": {
             "colorbar": {
              "outlinewidth": 1,
              "tickcolor": "rgb(36,36,36)",
              "ticks": "outside"
             }
            },
            "type": "scatterpolargl"
           }
          ],
          "scatterternary": [
           {
            "marker": {
             "colorbar": {
              "outlinewidth": 1,
              "tickcolor": "rgb(36,36,36)",
              "ticks": "outside"
             }
            },
            "type": "scatterternary"
           }
          ],
          "surface": [
           {
            "colorbar": {
             "outlinewidth": 1,
             "tickcolor": "rgb(36,36,36)",
             "ticks": "outside"
            },
            "colorscale": [
             [
              0,
              "#440154"
             ],
             [
              0.1111111111111111,
              "#482878"
             ],
             [
              0.2222222222222222,
              "#3e4989"
             ],
             [
              0.3333333333333333,
              "#31688e"
             ],
             [
              0.4444444444444444,
              "#26828e"
             ],
             [
              0.5555555555555556,
              "#1f9e89"
             ],
             [
              0.6666666666666666,
              "#35b779"
             ],
             [
              0.7777777777777778,
              "#6ece58"
             ],
             [
              0.8888888888888888,
              "#b5de2b"
             ],
             [
              1,
              "#fde725"
             ]
            ],
            "type": "surface"
           }
          ],
          "table": [
           {
            "cells": {
             "fill": {
              "color": "rgb(237,237,237)"
             },
             "line": {
              "color": "white"
             }
            },
            "header": {
             "fill": {
              "color": "rgb(217,217,217)"
             },
             "line": {
              "color": "white"
             }
            },
            "type": "table"
           }
          ]
         },
         "layout": {
          "annotationdefaults": {
           "arrowhead": 0,
           "arrowwidth": 1
          },
          "autotypenumbers": "strict",
          "coloraxis": {
           "colorbar": {
            "outlinewidth": 1,
            "tickcolor": "rgb(36,36,36)",
            "ticks": "outside"
           }
          },
          "colorscale": {
           "diverging": [
            [
             0,
             "rgb(103,0,31)"
            ],
            [
             0.1,
             "rgb(178,24,43)"
            ],
            [
             0.2,
             "rgb(214,96,77)"
            ],
            [
             0.3,
             "rgb(244,165,130)"
            ],
            [
             0.4,
             "rgb(253,219,199)"
            ],
            [
             0.5,
             "rgb(247,247,247)"
            ],
            [
             0.6,
             "rgb(209,229,240)"
            ],
            [
             0.7,
             "rgb(146,197,222)"
            ],
            [
             0.8,
             "rgb(67,147,195)"
            ],
            [
             0.9,
             "rgb(33,102,172)"
            ],
            [
             1,
             "rgb(5,48,97)"
            ]
           ],
           "sequential": [
            [
             0,
             "#440154"
            ],
            [
             0.1111111111111111,
             "#482878"
            ],
            [
             0.2222222222222222,
             "#3e4989"
            ],
            [
             0.3333333333333333,
             "#31688e"
            ],
            [
             0.4444444444444444,
             "#26828e"
            ],
            [
             0.5555555555555556,
             "#1f9e89"
            ],
            [
             0.6666666666666666,
             "#35b779"
            ],
            [
             0.7777777777777778,
             "#6ece58"
            ],
            [
             0.8888888888888888,
             "#b5de2b"
            ],
            [
             1,
             "#fde725"
            ]
           ],
           "sequentialminus": [
            [
             0,
             "#440154"
            ],
            [
             0.1111111111111111,
             "#482878"
            ],
            [
             0.2222222222222222,
             "#3e4989"
            ],
            [
             0.3333333333333333,
             "#31688e"
            ],
            [
             0.4444444444444444,
             "#26828e"
            ],
            [
             0.5555555555555556,
             "#1f9e89"
            ],
            [
             0.6666666666666666,
             "#35b779"
            ],
            [
             0.7777777777777778,
             "#6ece58"
            ],
            [
             0.8888888888888888,
             "#b5de2b"
            ],
            [
             1,
             "#fde725"
            ]
           ]
          },
          "colorway": [
           "#1F77B4",
           "#FF7F0E",
           "#2CA02C",
           "#D62728",
           "#9467BD",
           "#8C564B",
           "#E377C2",
           "#7F7F7F",
           "#BCBD22",
           "#17BECF"
          ],
          "font": {
           "color": "rgb(36,36,36)"
          },
          "geo": {
           "bgcolor": "white",
           "lakecolor": "white",
           "landcolor": "white",
           "showlakes": true,
           "showland": true,
           "subunitcolor": "white"
          },
          "hoverlabel": {
           "align": "left"
          },
          "hovermode": "closest",
          "mapbox": {
           "style": "light"
          },
          "paper_bgcolor": "white",
          "plot_bgcolor": "white",
          "polar": {
           "angularaxis": {
            "gridcolor": "rgb(232,232,232)",
            "linecolor": "rgb(36,36,36)",
            "showgrid": false,
            "showline": true,
            "ticks": "outside"
           },
           "bgcolor": "white",
           "radialaxis": {
            "gridcolor": "rgb(232,232,232)",
            "linecolor": "rgb(36,36,36)",
            "showgrid": false,
            "showline": true,
            "ticks": "outside"
           }
          },
          "scene": {
           "xaxis": {
            "backgroundcolor": "white",
            "gridcolor": "rgb(232,232,232)",
            "gridwidth": 2,
            "linecolor": "rgb(36,36,36)",
            "showbackground": true,
            "showgrid": false,
            "showline": true,
            "ticks": "outside",
            "zeroline": false,
            "zerolinecolor": "rgb(36,36,36)"
           },
           "yaxis": {
            "backgroundcolor": "white",
            "gridcolor": "rgb(232,232,232)",
            "gridwidth": 2,
            "linecolor": "rgb(36,36,36)",
            "showbackground": true,
            "showgrid": false,
            "showline": true,
            "ticks": "outside",
            "zeroline": false,
            "zerolinecolor": "rgb(36,36,36)"
           },
           "zaxis": {
            "backgroundcolor": "white",
            "gridcolor": "rgb(232,232,232)",
            "gridwidth": 2,
            "linecolor": "rgb(36,36,36)",
            "showbackground": true,
            "showgrid": false,
            "showline": true,
            "ticks": "outside",
            "zeroline": false,
            "zerolinecolor": "rgb(36,36,36)"
           }
          },
          "shapedefaults": {
           "fillcolor": "black",
           "line": {
            "width": 0
           },
           "opacity": 0.3
          },
          "ternary": {
           "aaxis": {
            "gridcolor": "rgb(232,232,232)",
            "linecolor": "rgb(36,36,36)",
            "showgrid": false,
            "showline": true,
            "ticks": "outside"
           },
           "baxis": {
            "gridcolor": "rgb(232,232,232)",
            "linecolor": "rgb(36,36,36)",
            "showgrid": false,
            "showline": true,
            "ticks": "outside"
           },
           "bgcolor": "white",
           "caxis": {
            "gridcolor": "rgb(232,232,232)",
            "linecolor": "rgb(36,36,36)",
            "showgrid": false,
            "showline": true,
            "ticks": "outside"
           }
          },
          "title": {
           "x": 0.05
          },
          "xaxis": {
           "automargin": true,
           "gridcolor": "rgb(232,232,232)",
           "linecolor": "rgb(36,36,36)",
           "showgrid": false,
           "showline": true,
           "ticks": "outside",
           "title": {
            "standoff": 15
           },
           "zeroline": false,
           "zerolinecolor": "rgb(36,36,36)"
          },
          "yaxis": {
           "automargin": true,
           "gridcolor": "rgb(232,232,232)",
           "linecolor": "rgb(36,36,36)",
           "showgrid": false,
           "showline": true,
           "ticks": "outside",
           "title": {
            "standoff": 15
           },
           "zeroline": false,
           "zerolinecolor": "rgb(36,36,36)"
          }
         }
        },
        "title": {
         "font": {
          "size": 20
         },
         "text": "Change in loss from ablation (relative to clean model)"
        },
        "width": 800,
        "xaxis": {
         "anchor": "y",
         "domain": [
          0,
          1
         ],
         "showspikes": true,
         "spikemode": "across",
         "title": {
          "text": "Change in loss under mean ablation"
         }
        },
        "yaxis": {
         "anchor": "x",
         "domain": [
          0,
          1
         ],
         "showspikes": true,
         "spikethickness": 2,
         "title": {
          "text": "Change in loss under CSPA"
         }
        }
       }
      },
      "text/html": [
       "<div>                            <div id=\"8c2f57b6-d144-49eb-bc99-9d21c280a7a6\" class=\"plotly-graph-div\" style=\"height:600px; width:800px;\"></div>            <script type=\"text/javascript\">                require([\"plotly\"], function(Plotly) {                    window.PLOTLYENV=window.PLOTLYENV || {};                                    if (document.getElementById(\"8c2f57b6-d144-49eb-bc99-9d21c280a7a6\")) {                    Plotly.newPlot(                        \"8c2f57b6-d144-49eb-bc99-9d21c280a7a6\",                        [{\"hovertemplate\":\"Change in loss under mean ablation=%{x}\\u003cbr\\u003eChange in loss under CSPA=%{y}\\u003cextra\\u003e\\u003c\\u002fextra\\u003e\",\"legendgroup\":\"\",\"marker\":{\"color\":\"#1F77B4\",\"symbol\":\"circle\"},\"mode\":\"markers+lines\",\"name\":\"\",\"orientation\":\"v\",\"showlegend\":false,\"x\":[-0.4403495788574219,-0.24943698942661285,-0.19694070518016815,-0.16677556931972504,-0.14704471826553345,-0.13278403878211975,-0.12194123864173889,-0.11268064379692078,-0.10428865998983383,-0.09854020178318024,-0.09222279489040375,-0.08668609708547592,-0.080998495221138,-0.07647185027599335,-0.07197967171669006,-0.06865839660167694,-0.06534386426210403,-0.06269337236881256,-0.05979602783918381,-0.05754019692540169,-0.05530951917171478,-0.05325274169445038,-0.05053679645061493,-0.048475440591573715,-0.04673807695508003,-0.04515756666660309,-0.043670881539583206,-0.042125631123781204,-0.04038681834936142,-0.03883115574717522,-0.03736570104956627,-0.03570527955889702,-0.03441312164068222,-0.033183131366968155,-0.0318756178021431,-0.03063511848449707,-0.029354633763432503,-0.028030073270201683,-0.027027802541851997,-0.025975611060857773,-0.02491077408194542,-0.02402675896883011,-0.023112747818231583,-0.022356679663062096,-0.021483225747942924,-0.02072424814105034,-0.020065857097506523,-0.019366594031453133,-0.01871214061975479,-0.017993392422795296,-0.01734287291765213,-0.01684497855603695,-0.016323590651154518,-0.01578710228204727,-0.015113390050828457,-0.014646324329078197,-0.014073091559112072,-0.013557503931224346,-0.01312069222331047,-0.012685607187449932,-0.012235035188496113,-0.011849087662994862,-0.011424724943935871,-0.010987271554768085,-0.010502593591809273,-0.010103561915457249,-0.009756665676832199,-0.009346324019134045,-0.008929628878831863,-0.008553151972591877,-0.008177627809345722,-0.007733051665127277,-0.007218127138912678,-0.0068228719756007195,-0.006509571336209774,-0.00615393603220582,-0.005812969524413347,-0.005507440306246281,-0.005242085084319115,-0.004956602118909359,-0.004655430559068918,-0.004318151157349348,-0.003968472126871347,-0.0036293405573815107,-0.003353510983288288,-0.0030940717551857233,-0.0028658369556069374,-0.0026477640494704247,-0.0024021980352699757,-0.0021808615420013666,-0.0019156914204359055,-0.0017048829467967153,-0.0014840291114524007,-0.0012282725656405091,-0.0010157212382182479,-0.0008153051021508873,-0.0006097183795645833,-0.0004296361585147679,-0.0002998164272867143,-0.00017078158271033317,-8.63579916767776e-05,-2.7639931431622244e-05,-6.863993803563062e-06,-1.269966901418229e-06,6.173791007313412e-07,2.6615869046509033e-06,4.342560714576393e-06,7.1657809712633025e-06,1.0607323929434642e-05,1.810874709917698e-05,3.970323450630531e-05,9.285940905101597e-05,0.0001599409442860633,0.0002797973866108805,0.00045625201892107725,0.0006476379930973053,0.0008657899452373385,0.0010715395910665393,0.0012888364726677537,0.001501663587987423,0.0017747534438967705,0.0020929814781993628,0.0023843846283853054,0.0026691544335335493,0.002919510006904602,0.003170286538079381,0.003472268581390381,0.0038190155755728483,0.004185671452432871,0.0045843846164643764,0.004945998080074787,0.005288495682179928,0.005688272416591644,0.006187147926539183,0.006623921450227499,0.007027512416243553,0.007466750685125589,0.007996626198291779,0.008480802178382874,0.008920230902731419,0.009376691654324532,0.009965901263058186,0.010465175844728947,0.010901417583227158,0.011514639481902122,0.012089260853827,0.012814451940357685,0.013604855164885521,0.01432663481682539,0.015084333717823029,0.01579984463751316,0.01644483022391796,0.01726366952061653,0.018004413694143295,0.01885002851486206,0.019925912842154503,0.021072668954730034,0.022241784259676933,0.023381294682621956,0.024345844984054565,0.025525394827127457,0.026889638975262642,0.02830805443227291,0.029592866078019142,0.03099803440272808,0.03232509642839432,0.03396950289607048,0.035387780517339706,0.03707648068666458,0.038832664489746094,0.04064677283167839,0.04290919378399849,0.04511639103293419,0.047276925295591354,0.050145890563726425,0.05264519155025482,0.05568980053067207,0.05860603228211403,0.06234331056475639,0.06589622795581818,0.07013331353664398,0.07482453435659409,0.0793762281537056,0.08355125039815903,0.08864540606737137,0.09510010480880737,0.10191861540079117,0.10829704254865646,0.11586403101682663,0.12395045906305313,0.13134029507637024,0.14228475093841553,0.15640127658843994,0.1722976267337799,0.19291193783283234,0.21661376953125,0.24964271485805511,0.2929278314113617,0.38931694626808167],\"xaxis\":\"x\",\"y\":[-0.40400898456573486,-0.23571963608264923,-0.19096116721630096,-0.15692321956157684,-0.14108294248580933,-0.1265275776386261,-0.11945174634456635,-0.11469297856092453,-0.10394353419542313,-0.09356097877025604,-0.08881641924381256,-0.08383583277463913,-0.07616092264652252,-0.07174356281757355,-0.06949663162231445,-0.06604475528001785,-0.06498400866985321,-0.060084789991378784,-0.056681178510189056,-0.055357445031404495,-0.05150492116808891,-0.051275238394737244,-0.050091929733753204,-0.04562770947813988,-0.045259393751621246,-0.0431484691798687,-0.04286126047372818,-0.03827120363712311,-0.03820724040269852,-0.037399772554636,-0.03538863733410835,-0.0339735671877861,-0.03321780636906624,-0.031770672649145126,-0.03136024251580238,-0.02899641916155815,-0.028507232666015625,-0.02634282596409321,-0.02632451057434082,-0.024710489436984062,-0.022433510050177574,-0.023771842941641808,-0.023469705134630203,-0.02173975482583046,-0.02094241790473461,-0.01882968097925186,-0.017671409994363785,-0.01978195086121559,-0.018955864012241364,-0.016829809173941612,-0.01598777249455452,-0.015667330473661423,-0.015795793384313583,-0.015326649881899357,-0.01411532610654831,-0.013866722583770752,-0.013182293623685837,-0.013777215965092182,-0.012437209486961365,-0.011902287602424622,-0.011471799574792385,-0.011548792012035847,-0.011149570345878601,-0.01051718182861805,-0.01017351821064949,-0.009364518336951733,-0.009285851381719112,-0.008980507031083107,-0.008447247557342052,-0.00866704247891903,-0.007541073486208916,-0.007176633924245834,-0.005964411422610283,-0.006273123901337385,-0.006078818347305059,-0.005399571731686592,-0.005437417887151241,-0.005177180282771587,-0.005022158846259117,-0.004289053380489349,-0.004320506472140551,-0.003889929037541151,-0.003593222703784704,-0.0031226950231939554,-0.0030085118487477303,-0.0024614434223622084,-0.0026209368370473385,-0.0014632085803896189,-0.0018028542399406433,-0.0016861214535310864,-0.0020389158744364977,-0.0015561673790216446,-0.0011859351070597768,-0.0008345508249476552,-0.0008883039699867368,-0.0009292231407016516,-8.813660679152235e-05,-0.0008161300211213529,-0.00021811158512718976,-0.00012333567428868264,-0.00031611963640898466,2.1819223547936417e-06,-7.0139876697794534e-06,-8.709903909220884e-07,1.2764816347043961e-05,2.481252749930718e-06,5.010208496969426e-06,6.229933205759153e-06,9.161359776044264e-05,1.7772950741345994e-05,1.69674567587208e-05,0.0008016722276806831,0.00031531619606539607,0.00033426619484089315,0.0007240500417537987,0.0006243801326490939,0.0012824408477172256,0.0009301720419898629,0.001605929690413177,0.0009831585921347141,0.0021409839391708374,0.00151465751696378,0.0017535064835101366,0.003153172554448247,0.0029062542598694563,0.0035483231768012047,0.0026884691324084997,0.00389928393997252,0.004468828439712524,0.0036888024769723415,0.004952324088662863,0.006595062091946602,0.005771866999566555,0.0063161179423332214,0.006439485587179661,0.006548210047185421,0.007959169335663319,0.009284249506890774,0.0079989954829216,0.008748198859393597,0.00988516490906477,0.01056387834250927,0.01194363459944725,0.011156116612255573,0.012914896011352539,0.012114043347537518,0.011761460453271866,0.013644146732985973,0.01416056603193283,0.015048009343445301,0.017931107431650162,0.016735047101974487,0.01731320098042488,0.0181457307189703,0.01857893355190754,0.01920749619603157,0.020890848711133003,0.022438595071434975,0.02328341454267502,0.02464612014591694,0.025033989921212196,0.02694382518529892,0.025593871250748634,0.028587311506271362,0.03096965327858925,0.031807977706193924,0.03448604419827461,0.03535494953393936,0.035101938992738724,0.03793281316757202,0.038582444190979004,0.041701097041368484,0.046187449246644974,0.046214617788791656,0.04898674786090851,0.05152038484811783,0.054465152323246,0.0572994090616703,0.0619654543697834,0.06497828662395477,0.06753375381231308,0.0693986713886261,0.07515046000480652,0.08038453757762909,0.0840538963675499,0.09051615744829178,0.09860314428806305,0.10193253308534622,0.11184033006429672,0.11411602795124054,0.12381576001644135,0.1346764862537384,0.15158069133758545,0.1634020358324051,0.18254287540912628,0.20366990566253662,0.226990208029747,0.2765163779258728,0.3455072045326233],\"yaxis\":\"y\",\"type\":\"scatter\"}],                        {\"template\":{\"data\":{\"barpolar\":[{\"marker\":{\"line\":{\"color\":\"white\",\"width\":0.5},\"pattern\":{\"fillmode\":\"overlay\",\"size\":10,\"solidity\":0.2}},\"type\":\"barpolar\"}],\"bar\":[{\"error_x\":{\"color\":\"rgb(36,36,36)\"},\"error_y\":{\"color\":\"rgb(36,36,36)\"},\"marker\":{\"line\":{\"color\":\"white\",\"width\":0.5},\"pattern\":{\"fillmode\":\"overlay\",\"size\":10,\"solidity\":0.2}},\"type\":\"bar\"}],\"carpet\":[{\"aaxis\":{\"endlinecolor\":\"rgb(36,36,36)\",\"gridcolor\":\"white\",\"linecolor\":\"white\",\"minorgridcolor\":\"white\",\"startlinecolor\":\"rgb(36,36,36)\"},\"baxis\":{\"endlinecolor\":\"rgb(36,36,36)\",\"gridcolor\":\"white\",\"linecolor\":\"white\",\"minorgridcolor\":\"white\",\"startlinecolor\":\"rgb(36,36,36)\"},\"type\":\"carpet\"}],\"choropleth\":[{\"colorbar\":{\"outlinewidth\":1,\"tickcolor\":\"rgb(36,36,36)\",\"ticks\":\"outside\"},\"type\":\"choropleth\"}],\"contourcarpet\":[{\"colorbar\":{\"outlinewidth\":1,\"tickcolor\":\"rgb(36,36,36)\",\"ticks\":\"outside\"},\"type\":\"contourcarpet\"}],\"contour\":[{\"colorbar\":{\"outlinewidth\":1,\"tickcolor\":\"rgb(36,36,36)\",\"ticks\":\"outside\"},\"colorscale\":[[0.0,\"#440154\"],[0.1111111111111111,\"#482878\"],[0.2222222222222222,\"#3e4989\"],[0.3333333333333333,\"#31688e\"],[0.4444444444444444,\"#26828e\"],[0.5555555555555556,\"#1f9e89\"],[0.6666666666666666,\"#35b779\"],[0.7777777777777778,\"#6ece58\"],[0.8888888888888888,\"#b5de2b\"],[1.0,\"#fde725\"]],\"type\":\"contour\"}],\"heatmapgl\":[{\"colorbar\":{\"outlinewidth\":1,\"tickcolor\":\"rgb(36,36,36)\",\"ticks\":\"outside\"},\"colorscale\":[[0.0,\"#440154\"],[0.1111111111111111,\"#482878\"],[0.2222222222222222,\"#3e4989\"],[0.3333333333333333,\"#31688e\"],[0.4444444444444444,\"#26828e\"],[0.5555555555555556,\"#1f9e89\"],[0.6666666666666666,\"#35b779\"],[0.7777777777777778,\"#6ece58\"],[0.8888888888888888,\"#b5de2b\"],[1.0,\"#fde725\"]],\"type\":\"heatmapgl\"}],\"heatmap\":[{\"colorbar\":{\"outlinewidth\":1,\"tickcolor\":\"rgb(36,36,36)\",\"ticks\":\"outside\"},\"colorscale\":[[0.0,\"#440154\"],[0.1111111111111111,\"#482878\"],[0.2222222222222222,\"#3e4989\"],[0.3333333333333333,\"#31688e\"],[0.4444444444444444,\"#26828e\"],[0.5555555555555556,\"#1f9e89\"],[0.6666666666666666,\"#35b779\"],[0.7777777777777778,\"#6ece58\"],[0.8888888888888888,\"#b5de2b\"],[1.0,\"#fde725\"]],\"type\":\"heatmap\"}],\"histogram2dcontour\":[{\"colorbar\":{\"outlinewidth\":1,\"tickcolor\":\"rgb(36,36,36)\",\"ticks\":\"outside\"},\"colorscale\":[[0.0,\"#440154\"],[0.1111111111111111,\"#482878\"],[0.2222222222222222,\"#3e4989\"],[0.3333333333333333,\"#31688e\"],[0.4444444444444444,\"#26828e\"],[0.5555555555555556,\"#1f9e89\"],[0.6666666666666666,\"#35b779\"],[0.7777777777777778,\"#6ece58\"],[0.8888888888888888,\"#b5de2b\"],[1.0,\"#fde725\"]],\"type\":\"histogram2dcontour\"}],\"histogram2d\":[{\"colorbar\":{\"outlinewidth\":1,\"tickcolor\":\"rgb(36,36,36)\",\"ticks\":\"outside\"},\"colorscale\":[[0.0,\"#440154\"],[0.1111111111111111,\"#482878\"],[0.2222222222222222,\"#3e4989\"],[0.3333333333333333,\"#31688e\"],[0.4444444444444444,\"#26828e\"],[0.5555555555555556,\"#1f9e89\"],[0.6666666666666666,\"#35b779\"],[0.7777777777777778,\"#6ece58\"],[0.8888888888888888,\"#b5de2b\"],[1.0,\"#fde725\"]],\"type\":\"histogram2d\"}],\"histogram\":[{\"marker\":{\"line\":{\"color\":\"white\",\"width\":0.6}},\"type\":\"histogram\"}],\"mesh3d\":[{\"colorbar\":{\"outlinewidth\":1,\"tickcolor\":\"rgb(36,36,36)\",\"ticks\":\"outside\"},\"type\":\"mesh3d\"}],\"parcoords\":[{\"line\":{\"colorbar\":{\"outlinewidth\":1,\"tickcolor\":\"rgb(36,36,36)\",\"ticks\":\"outside\"}},\"type\":\"parcoords\"}],\"pie\":[{\"automargin\":true,\"type\":\"pie\"}],\"scatter3d\":[{\"line\":{\"colorbar\":{\"outlinewidth\":1,\"tickcolor\":\"rgb(36,36,36)\",\"ticks\":\"outside\"}},\"marker\":{\"colorbar\":{\"outlinewidth\":1,\"tickcolor\":\"rgb(36,36,36)\",\"ticks\":\"outside\"}},\"type\":\"scatter3d\"}],\"scattercarpet\":[{\"marker\":{\"colorbar\":{\"outlinewidth\":1,\"tickcolor\":\"rgb(36,36,36)\",\"ticks\":\"outside\"}},\"type\":\"scattercarpet\"}],\"scattergeo\":[{\"marker\":{\"colorbar\":{\"outlinewidth\":1,\"tickcolor\":\"rgb(36,36,36)\",\"ticks\":\"outside\"}},\"type\":\"scattergeo\"}],\"scattergl\":[{\"marker\":{\"colorbar\":{\"outlinewidth\":1,\"tickcolor\":\"rgb(36,36,36)\",\"ticks\":\"outside\"}},\"type\":\"scattergl\"}],\"scattermapbox\":[{\"marker\":{\"colorbar\":{\"outlinewidth\":1,\"tickcolor\":\"rgb(36,36,36)\",\"ticks\":\"outside\"}},\"type\":\"scattermapbox\"}],\"scatterpolargl\":[{\"marker\":{\"colorbar\":{\"outlinewidth\":1,\"tickcolor\":\"rgb(36,36,36)\",\"ticks\":\"outside\"}},\"type\":\"scatterpolargl\"}],\"scatterpolar\":[{\"marker\":{\"colorbar\":{\"outlinewidth\":1,\"tickcolor\":\"rgb(36,36,36)\",\"ticks\":\"outside\"}},\"type\":\"scatterpolar\"}],\"scatter\":[{\"fillpattern\":{\"fillmode\":\"overlay\",\"size\":10,\"solidity\":0.2},\"type\":\"scatter\"}],\"scatterternary\":[{\"marker\":{\"colorbar\":{\"outlinewidth\":1,\"tickcolor\":\"rgb(36,36,36)\",\"ticks\":\"outside\"}},\"type\":\"scatterternary\"}],\"surface\":[{\"colorbar\":{\"outlinewidth\":1,\"tickcolor\":\"rgb(36,36,36)\",\"ticks\":\"outside\"},\"colorscale\":[[0.0,\"#440154\"],[0.1111111111111111,\"#482878\"],[0.2222222222222222,\"#3e4989\"],[0.3333333333333333,\"#31688e\"],[0.4444444444444444,\"#26828e\"],[0.5555555555555556,\"#1f9e89\"],[0.6666666666666666,\"#35b779\"],[0.7777777777777778,\"#6ece58\"],[0.8888888888888888,\"#b5de2b\"],[1.0,\"#fde725\"]],\"type\":\"surface\"}],\"table\":[{\"cells\":{\"fill\":{\"color\":\"rgb(237,237,237)\"},\"line\":{\"color\":\"white\"}},\"header\":{\"fill\":{\"color\":\"rgb(217,217,217)\"},\"line\":{\"color\":\"white\"}},\"type\":\"table\"}]},\"layout\":{\"annotationdefaults\":{\"arrowhead\":0,\"arrowwidth\":1},\"autotypenumbers\":\"strict\",\"coloraxis\":{\"colorbar\":{\"outlinewidth\":1,\"tickcolor\":\"rgb(36,36,36)\",\"ticks\":\"outside\"}},\"colorscale\":{\"diverging\":[[0.0,\"rgb(103,0,31)\"],[0.1,\"rgb(178,24,43)\"],[0.2,\"rgb(214,96,77)\"],[0.3,\"rgb(244,165,130)\"],[0.4,\"rgb(253,219,199)\"],[0.5,\"rgb(247,247,247)\"],[0.6,\"rgb(209,229,240)\"],[0.7,\"rgb(146,197,222)\"],[0.8,\"rgb(67,147,195)\"],[0.9,\"rgb(33,102,172)\"],[1.0,\"rgb(5,48,97)\"]],\"sequential\":[[0.0,\"#440154\"],[0.1111111111111111,\"#482878\"],[0.2222222222222222,\"#3e4989\"],[0.3333333333333333,\"#31688e\"],[0.4444444444444444,\"#26828e\"],[0.5555555555555556,\"#1f9e89\"],[0.6666666666666666,\"#35b779\"],[0.7777777777777778,\"#6ece58\"],[0.8888888888888888,\"#b5de2b\"],[1.0,\"#fde725\"]],\"sequentialminus\":[[0.0,\"#440154\"],[0.1111111111111111,\"#482878\"],[0.2222222222222222,\"#3e4989\"],[0.3333333333333333,\"#31688e\"],[0.4444444444444444,\"#26828e\"],[0.5555555555555556,\"#1f9e89\"],[0.6666666666666666,\"#35b779\"],[0.7777777777777778,\"#6ece58\"],[0.8888888888888888,\"#b5de2b\"],[1.0,\"#fde725\"]]},\"colorway\":[\"#1F77B4\",\"#FF7F0E\",\"#2CA02C\",\"#D62728\",\"#9467BD\",\"#8C564B\",\"#E377C2\",\"#7F7F7F\",\"#BCBD22\",\"#17BECF\"],\"font\":{\"color\":\"rgb(36,36,36)\"},\"geo\":{\"bgcolor\":\"white\",\"lakecolor\":\"white\",\"landcolor\":\"white\",\"showlakes\":true,\"showland\":true,\"subunitcolor\":\"white\"},\"hoverlabel\":{\"align\":\"left\"},\"hovermode\":\"closest\",\"mapbox\":{\"style\":\"light\"},\"paper_bgcolor\":\"white\",\"plot_bgcolor\":\"white\",\"polar\":{\"angularaxis\":{\"gridcolor\":\"rgb(232,232,232)\",\"linecolor\":\"rgb(36,36,36)\",\"showgrid\":false,\"showline\":true,\"ticks\":\"outside\"},\"bgcolor\":\"white\",\"radialaxis\":{\"gridcolor\":\"rgb(232,232,232)\",\"linecolor\":\"rgb(36,36,36)\",\"showgrid\":false,\"showline\":true,\"ticks\":\"outside\"}},\"scene\":{\"xaxis\":{\"backgroundcolor\":\"white\",\"gridcolor\":\"rgb(232,232,232)\",\"gridwidth\":2,\"linecolor\":\"rgb(36,36,36)\",\"showbackground\":true,\"showgrid\":false,\"showline\":true,\"ticks\":\"outside\",\"zeroline\":false,\"zerolinecolor\":\"rgb(36,36,36)\"},\"yaxis\":{\"backgroundcolor\":\"white\",\"gridcolor\":\"rgb(232,232,232)\",\"gridwidth\":2,\"linecolor\":\"rgb(36,36,36)\",\"showbackground\":true,\"showgrid\":false,\"showline\":true,\"ticks\":\"outside\",\"zeroline\":false,\"zerolinecolor\":\"rgb(36,36,36)\"},\"zaxis\":{\"backgroundcolor\":\"white\",\"gridcolor\":\"rgb(232,232,232)\",\"gridwidth\":2,\"linecolor\":\"rgb(36,36,36)\",\"showbackground\":true,\"showgrid\":false,\"showline\":true,\"ticks\":\"outside\",\"zeroline\":false,\"zerolinecolor\":\"rgb(36,36,36)\"}},\"shapedefaults\":{\"fillcolor\":\"black\",\"line\":{\"width\":0},\"opacity\":0.3},\"ternary\":{\"aaxis\":{\"gridcolor\":\"rgb(232,232,232)\",\"linecolor\":\"rgb(36,36,36)\",\"showgrid\":false,\"showline\":true,\"ticks\":\"outside\"},\"baxis\":{\"gridcolor\":\"rgb(232,232,232)\",\"linecolor\":\"rgb(36,36,36)\",\"showgrid\":false,\"showline\":true,\"ticks\":\"outside\"},\"bgcolor\":\"white\",\"caxis\":{\"gridcolor\":\"rgb(232,232,232)\",\"linecolor\":\"rgb(36,36,36)\",\"showgrid\":false,\"showline\":true,\"ticks\":\"outside\"}},\"title\":{\"x\":0.05},\"xaxis\":{\"automargin\":true,\"gridcolor\":\"rgb(232,232,232)\",\"linecolor\":\"rgb(36,36,36)\",\"showgrid\":false,\"showline\":true,\"ticks\":\"outside\",\"title\":{\"standoff\":15},\"zeroline\":false,\"zerolinecolor\":\"rgb(36,36,36)\"},\"yaxis\":{\"automargin\":true,\"gridcolor\":\"rgb(232,232,232)\",\"linecolor\":\"rgb(36,36,36)\",\"showgrid\":false,\"showline\":true,\"ticks\":\"outside\",\"title\":{\"standoff\":15},\"zeroline\":false,\"zerolinecolor\":\"rgb(36,36,36)\"}}},\"xaxis\":{\"anchor\":\"y\",\"domain\":[0.0,1.0],\"title\":{\"text\":\"Change in loss under mean ablation\"},\"showspikes\":true,\"spikemode\":\"across\"},\"yaxis\":{\"anchor\":\"x\",\"domain\":[0.0,1.0],\"title\":{\"text\":\"Change in loss under CSPA\"},\"showspikes\":true,\"spikethickness\":2},\"legend\":{\"tracegroupgap\":0},\"margin\":{\"t\":60},\"height\":600,\"width\":800,\"font\":{\"size\":25},\"title\":{\"font\":{\"size\":20},\"text\":\"Change in loss from ablation (relative to clean model)\"},\"showlegend\":false,\"shapes\":[{\"line\":{\"color\":\"red\",\"dash\":\"dash\",\"width\":2},\"opacity\":0.8,\"type\":\"line\",\"x0\":-0.4403495788574219,\"x1\":0.38931694626808167,\"y0\":-0.4403495788574219,\"y1\":0.38931694626808167},{\"line\":{\"color\":\"red\",\"dash\":\"dash\",\"width\":2},\"opacity\":0.8,\"type\":\"line\",\"x0\":0,\"x1\":1,\"xref\":\"x domain\",\"y0\":0,\"y1\":0,\"yref\":\"y\"},{\"line\":{\"color\":\"black\",\"width\":1},\"opacity\":0.4,\"type\":\"line\",\"x0\":0,\"x1\":0,\"xref\":\"x\",\"y0\":0,\"y1\":1,\"yref\":\"y domain\"}],\"annotations\":[{\"align\":\"left\",\"font\":{\"size\":14},\"showarrow\":false,\"text\":\"No intervention\",\"x\":0.98,\"xanchor\":\"right\",\"xref\":\"paper\",\"y\":0.54,\"yref\":\"paper\"},{\"align\":\"left\",\"font\":{\"size\":14},\"showarrow\":false,\"text\":\"Full ablation\",\"x\":0.98,\"xanchor\":\"right\",\"xref\":\"paper\",\"y\":1.04,\"yref\":\"paper\"}],\"spikedistance\":1000,\"hoverdistance\":100},                        {\"responsive\": true}                    ).then(function(){\n",
       "                            \n",
       "var gd = document.getElementById('8c2f57b6-d144-49eb-bc99-9d21c280a7a6');\n",
       "var x = new MutationObserver(function (mutations, observer) {{\n",
       "        var display = window.getComputedStyle(gd).display;\n",
       "        if (!display || display === 'none') {{\n",
       "            console.log([gd, 'removed!']);\n",
       "            Plotly.purge(gd);\n",
       "            observer.disconnect();\n",
       "        }}\n",
       "}});\n",
       "\n",
       "// Listen for the removal of the full notebook cells\n",
       "var notebookContainer = gd.closest('#notebook-container');\n",
       "if (notebookContainer) {{\n",
       "    x.observe(notebookContainer, {childList: true});\n",
       "}}\n",
       "\n",
       "// Listen for the clearing of the current output cell\n",
       "var outputEl = gd.closest('.output');\n",
       "if (outputEl) {{\n",
       "    x.observe(outputEl, {childList: true});\n",
       "}}\n",
       "\n",
       "                        })                };                });            </script>        </div>"
      ]
     },
     "metadata": {},
     "output_type": "display_data"
    },
    {
     "data": {
      "application/vnd.plotly.v1+json": {
       "config": {
        "plotlyServerURL": "https://plot.ly"
       },
       "data": [
        {
         "hovertemplate": "Absolute change in loss under mean ablation=%{x}<br>Absolute change in loss under CSPA=%{y}<extra></extra>",
         "legendgroup": "",
         "marker": {
          "color": "#1F77B4",
          "symbol": "circle"
         },
         "mode": "markers+lines",
         "name": "",
         "orientation": "v",
         "showlegend": false,
         "type": "scatter",
         "x": [
          3.4329136155974993e-7,
          0.0000014322935157906613,
          0.0000027015682917408412,
          0.000003840088083961746,
          0.000005700514975615079,
          0.000008246848665294237,
          0.000011287556844763458,
          0.000016228195818257518,
          0.00002557107654865831,
          0.00004331911259214394,
          0.0000731000691303052,
          0.00010800110612763092,
          0.00014260072202887386,
          0.00018694087339099497,
          0.00025798199931159616,
          0.0003248485445510596,
          0.0003985702060163021,
          0.0004858396714553237,
          0.0005837004282511771,
          0.0006814013468101621,
          0.0007853680872358382,
          0.0008908924064598978,
          0.0009968836093321443,
          0.0010953251039609313,
          0.0012063957983627915,
          0.0013170146849006414,
          0.0014336527092382312,
          0.0015568676171824336,
          0.001665787654928863,
          0.001795727526769042,
          0.001924323383718729,
          0.002074953867122531,
          0.0022144110407680273,
          0.002326742745935917,
          0.0024664781522005796,
          0.0026020710356533527,
          0.002715847920626402,
          0.002822847804054618,
          0.0029622549191117287,
          0.0030720464419573545,
          0.003184861969202757,
          0.003337991191074252,
          0.0034923036582767963,
          0.0036327759735286236,
          0.003799417521804571,
          0.0039937482215464115,
          0.004158260300755501,
          0.004350712057203054,
          0.004552430938929319,
          0.0047003584913909435,
          0.004855536390095949,
          0.005049302242696285,
          0.0051951282657682896,
          0.005332885775715113,
          0.00549087580293417,
          0.005668865516781807,
          0.005852704402059317,
          0.0060525075532495975,
          0.006286231800913811,
          0.00647351611405611,
          0.0066549754701554775,
          0.00682081189006567,
          0.007012687157839537,
          0.007224190514534712,
          0.00747328158468008,
          0.0077294884249567986,
          0.007984316907823086,
          0.008217275142669678,
          0.008424287661910057,
          0.00862393993884325,
          0.0088373813778162,
          0.009014853276312351,
          0.0092354416847229,
          0.009478163905441761,
          0.009734859690070152,
          0.009951329790055752,
          0.010154853574931622,
          0.010391448624432087,
          0.010579725727438927,
          0.01079629361629486,
          0.011094269342720509,
          0.011355366557836533,
          0.011581547558307648,
          0.011824884451925755,
          0.012062909081578255,
          0.012299303896725178,
          0.01257891021668911,
          0.012882313691079617,
          0.013163973577320576,
          0.013441462069749832,
          0.013726630248129368,
          0.014000165276229382,
          0.01436091773211956,
          0.014673268422484398,
          0.014937986619770527,
          0.015279771760106087,
          0.015654727816581726,
          0.015944207087159157,
          0.01623803749680519,
          0.01650751754641533,
          0.0168471522629261,
          0.017182108014822006,
          0.01745264045894146,
          0.017818888649344444,
          0.01819286122918129,
          0.018562667071819305,
          0.018970055505633354,
          0.01936398819088936,
          0.019836004823446274,
          0.02020183764398098,
          0.020610971376299858,
          0.021131057292222977,
          0.021551556885242462,
          0.022038809955120087,
          0.022580720484256744,
          0.02300245501101017,
          0.023490888997912407,
          0.02395850233733654,
          0.024377765133976936,
          0.024902189150452614,
          0.025445153936743736,
          0.02609041891992092,
          0.026691269129514694,
          0.027288980782032013,
          0.02785266749560833,
          0.02851390838623047,
          0.029137952253222466,
          0.029791325330734253,
          0.030485494062304497,
          0.031174516305327415,
          0.03172701597213745,
          0.03244271129369736,
          0.033190980553627014,
          0.03387764096260071,
          0.03458122909069061,
          0.03522151708602905,
          0.03588150814175606,
          0.03676578402519226,
          0.03771379962563515,
          0.03852050378918648,
          0.03917577862739563,
          0.03998759761452675,
          0.041032180190086365,
          0.04202696308493614,
          0.04288022592663765,
          0.04383397474884987,
          0.044731710106134415,
          0.04557695612311363,
          0.0465136282145977,
          0.04739278927445412,
          0.04854893684387207,
          0.04974944144487381,
          0.05101163312792778,
          0.052305497229099274,
          0.05360588803887367,
          0.054872479289770126,
          0.056114837527275085,
          0.05742163956165314,
          0.058527082204818726,
          0.05999784916639328,
          0.06180797517299652,
          0.0633540078997612,
          0.0648195669054985,
          0.06635764241218567,
          0.0682716816663742,
          0.07024481892585754,
          0.07221400737762451,
          0.0746401846408844,
          0.07675093412399292,
          0.07899805158376694,
          0.08120269328355789,
          0.08361360430717468,
          0.08634428679943085,
          0.08910421282052994,
          0.09186360239982605,
          0.09535522013902664,
          0.0987447127699852,
          0.10147695243358612,
          0.10460413992404938,
          0.10818032920360565,
          0.11237069964408875,
          0.11648380756378174,
          0.12099219858646393,
          0.1252879947423935,
          0.1295887529850006,
          0.13450537621974945,
          0.1404290795326233,
          0.1484575718641281,
          0.1561083048582077,
          0.16479161381721497,
          0.17523227632045746,
          0.18858139216899872,
          0.19990274310112,
          0.21732597053050995,
          0.23846335709095,
          0.25959131121635437,
          0.2932491898536682,
          0.3531648814678192,
          0.4393896460533142
         ],
         "xaxis": "x",
         "y": [
          0.000019090140995103866,
          0.0000015293707065211493,
          0.000004839454504690366,
          0.000005337813036021544,
          0.0000075111033766006585,
          0.00001046576289809309,
          0.00009249005233868957,
          0.00002590451913420111,
          0.0000813651640783064,
          0.0001401079643983394,
          0.00107569748070091,
          0.00037082150811329484,
          0.00038989982567727566,
          0.00046809716150164604,
          0.000583021785132587,
          0.0008005695999599993,
          0.001357416738756001,
          0.0010057328036054969,
          0.0007807447691448033,
          0.0010738244745880365,
          0.0009717662469483912,
          0.0019102480728179216,
          0.0016836040886119008,
          0.0013989986618980765,
          0.0018069347133859992,
          0.0021992919500917196,
          0.0018097975989803672,
          0.0019281929126009345,
          0.0017630987567827106,
          0.002435418777167797,
          0.0024320995435118675,
          0.002337630605325103,
          0.0031704558059573174,
          0.0029863864183425903,
          0.0023804097436368465,
          0.0029121998231858015,
          0.00383202126249671,
          0.0026585236191749573,
          0.0029771397821605206,
          0.003534935414791107,
          0.003147910814732313,
          0.0034254281781613827,
          0.004107602406293154,
          0.0035462926607578993,
          0.004198367707431316,
          0.004191298503428698,
          0.004237246233969927,
          0.004215221386402845,
          0.004166976548731327,
          0.005510266870260239,
          0.005189413204789162,
          0.004740039352327585,
          0.006681338418275118,
          0.005443926434963942,
          0.005978260189294815,
          0.005830166861414909,
          0.005643223412334919,
          0.006080304272472858,
          0.006245148368179798,
          0.005997148808091879,
          0.006195091642439365,
          0.007599921431392431,
          0.007151734549552202,
          0.0070830355398356915,
          0.007183265406638384,
          0.008105156011879444,
          0.008599734865128994,
          0.00849558413028717,
          0.008735095150768757,
          0.008017702959477901,
          0.008377023041248322,
          0.00892630871385336,
          0.009073566645383835,
          0.009403509087860584,
          0.009616290219128132,
          0.010326783172786236,
          0.00972504448145628,
          0.010549727827310562,
          0.011434687301516533,
          0.011303858831524849,
          0.010592391714453697,
          0.010896475054323673,
          0.011635402217507362,
          0.012961708940565586,
          0.01210471149533987,
          0.011709218844771385,
          0.01263039093464613,
          0.012621225789189339,
          0.012342979200184345,
          0.013732880353927612,
          0.013764703646302223,
          0.013415498659014702,
          0.014158126898109913,
          0.014287843368947506,
          0.014482003636658192,
          0.014787087216973305,
          0.015417112968862057,
          0.017956500872969627,
          0.01653149351477623,
          0.015708642080426216,
          0.01564638689160347,
          0.01643427461385727,
          0.017238257452845573,
          0.01739450730383396,
          0.017690761014819145,
          0.020070558413863182,
          0.019844645634293556,
          0.019251251593232155,
          0.0196730624884367,
          0.018539324402809143,
          0.020994292572140694,
          0.020261060446500778,
          0.021487802267074585,
          0.022325269877910614,
          0.021574879065155983,
          0.0231911800801754,
          0.024120701476931572,
          0.02419940009713173,
          0.023667847737669945,
          0.023454701527953148,
          0.023925602436065674,
          0.025795111432671547,
          0.02533644810318947,
          0.027323851361870766,
          0.02662554942071438,
          0.027455337345600128,
          0.027825308963656425,
          0.029418252408504486,
          0.030180420726537704,
          0.030136696994304657,
          0.03212975338101387,
          0.031901970505714417,
          0.03144218027591705,
          0.03331088647246361,
          0.03443795442581177,
          0.035525888204574585,
          0.032962899655103683,
          0.03575296327471733,
          0.035400666296482086,
          0.036669131368398666,
          0.0388919860124588,
          0.0369558185338974,
          0.039595816284418106,
          0.04013186693191528,
          0.04122941568493843,
          0.04430977255105972,
          0.04329247400164604,
          0.0451115183532238,
          0.045624990016222,
          0.045569952577352524,
          0.046584561467170715,
          0.04848889634013176,
          0.050932686775922775,
          0.05074755847454071,
          0.051795486360788345,
          0.05207143723964691,
          0.05414910987019539,
          0.05397055670619011,
          0.05630500242114067,
          0.05857398733496666,
          0.05964163690805435,
          0.06250256299972534,
          0.06393226236104965,
          0.06546644121408463,
          0.06626753509044647,
          0.06864682585000992,
          0.0686136782169342,
          0.07201021909713745,
          0.06982488930225372,
          0.07543077319860458,
          0.07527632266283035,
          0.080001600086689,
          0.08307559788227081,
          0.08550777286291122,
          0.08780759572982788,
          0.09166537970304489,
          0.09385058283805847,
          0.10031741857528687,
          0.10208434611558914,
          0.10312390327453613,
          0.11094756424427032,
          0.11611495912075043,
          0.11798780411481857,
          0.11405743658542633,
          0.12384596467018127,
          0.1264241337776184,
          0.1357034593820572,
          0.14111627638339996,
          0.14925940334796906,
          0.15485164523124695,
          0.16641727089881897,
          0.18076808750629425,
          0.19178520143032074,
          0.20525901019573212,
          0.2219455987215042,
          0.23854665458202362,
          0.2773374617099762,
          0.31184786558151245,
          0.4095507860183716
         ],
         "yaxis": "y"
        }
       ],
       "layout": {
        "annotations": [
         {
          "align": "left",
          "font": {
           "size": 14
          },
          "showarrow": false,
          "text": "No intervention",
          "x": 0.98,
          "xanchor": "right",
          "xref": "paper",
          "y": 0.17,
          "yref": "paper"
         },
         {
          "align": "left",
          "font": {
           "size": 14
          },
          "showarrow": false,
          "text": "Full ablation",
          "x": 0.98,
          "xanchor": "right",
          "xref": "paper",
          "y": 0.86,
          "yref": "paper"
         }
        ],
        "font": {
         "size": 25
        },
        "height": 600,
        "hoverdistance": 100,
        "legend": {
         "tracegroupgap": 0
        },
        "margin": {
         "t": 60
        },
        "shapes": [
         {
          "line": {
           "color": "red",
           "dash": "dash",
           "width": 2
          },
          "opacity": 0.8,
          "type": "line",
          "x0": 3.4329136155974993e-7,
          "x1": 0.4393896460533142,
          "y0": 3.4329136155974993e-7,
          "y1": 0.4393896460533142
         },
         {
          "line": {
           "color": "red",
           "dash": "dash",
           "width": 2
          },
          "opacity": 0.8,
          "type": "line",
          "x0": 0,
          "x1": 1,
          "xref": "x domain",
          "y0": 0,
          "y1": 0,
          "yref": "y"
         }
        ],
        "showlegend": false,
        "spikedistance": 1000,
        "template": {
         "data": {
          "bar": [
           {
            "error_x": {
             "color": "rgb(36,36,36)"
            },
            "error_y": {
             "color": "rgb(36,36,36)"
            },
            "marker": {
             "line": {
              "color": "white",
              "width": 0.5
             },
             "pattern": {
              "fillmode": "overlay",
              "size": 10,
              "solidity": 0.2
             }
            },
            "type": "bar"
           }
          ],
          "barpolar": [
           {
            "marker": {
             "line": {
              "color": "white",
              "width": 0.5
             },
             "pattern": {
              "fillmode": "overlay",
              "size": 10,
              "solidity": 0.2
             }
            },
            "type": "barpolar"
           }
          ],
          "carpet": [
           {
            "aaxis": {
             "endlinecolor": "rgb(36,36,36)",
             "gridcolor": "white",
             "linecolor": "white",
             "minorgridcolor": "white",
             "startlinecolor": "rgb(36,36,36)"
            },
            "baxis": {
             "endlinecolor": "rgb(36,36,36)",
             "gridcolor": "white",
             "linecolor": "white",
             "minorgridcolor": "white",
             "startlinecolor": "rgb(36,36,36)"
            },
            "type": "carpet"
           }
          ],
          "choropleth": [
           {
            "colorbar": {
             "outlinewidth": 1,
             "tickcolor": "rgb(36,36,36)",
             "ticks": "outside"
            },
            "type": "choropleth"
           }
          ],
          "contour": [
           {
            "colorbar": {
             "outlinewidth": 1,
             "tickcolor": "rgb(36,36,36)",
             "ticks": "outside"
            },
            "colorscale": [
             [
              0,
              "#440154"
             ],
             [
              0.1111111111111111,
              "#482878"
             ],
             [
              0.2222222222222222,
              "#3e4989"
             ],
             [
              0.3333333333333333,
              "#31688e"
             ],
             [
              0.4444444444444444,
              "#26828e"
             ],
             [
              0.5555555555555556,
              "#1f9e89"
             ],
             [
              0.6666666666666666,
              "#35b779"
             ],
             [
              0.7777777777777778,
              "#6ece58"
             ],
             [
              0.8888888888888888,
              "#b5de2b"
             ],
             [
              1,
              "#fde725"
             ]
            ],
            "type": "contour"
           }
          ],
          "contourcarpet": [
           {
            "colorbar": {
             "outlinewidth": 1,
             "tickcolor": "rgb(36,36,36)",
             "ticks": "outside"
            },
            "type": "contourcarpet"
           }
          ],
          "heatmap": [
           {
            "colorbar": {
             "outlinewidth": 1,
             "tickcolor": "rgb(36,36,36)",
             "ticks": "outside"
            },
            "colorscale": [
             [
              0,
              "#440154"
             ],
             [
              0.1111111111111111,
              "#482878"
             ],
             [
              0.2222222222222222,
              "#3e4989"
             ],
             [
              0.3333333333333333,
              "#31688e"
             ],
             [
              0.4444444444444444,
              "#26828e"
             ],
             [
              0.5555555555555556,
              "#1f9e89"
             ],
             [
              0.6666666666666666,
              "#35b779"
             ],
             [
              0.7777777777777778,
              "#6ece58"
             ],
             [
              0.8888888888888888,
              "#b5de2b"
             ],
             [
              1,
              "#fde725"
             ]
            ],
            "type": "heatmap"
           }
          ],
          "heatmapgl": [
           {
            "colorbar": {
             "outlinewidth": 1,
             "tickcolor": "rgb(36,36,36)",
             "ticks": "outside"
            },
            "colorscale": [
             [
              0,
              "#440154"
             ],
             [
              0.1111111111111111,
              "#482878"
             ],
             [
              0.2222222222222222,
              "#3e4989"
             ],
             [
              0.3333333333333333,
              "#31688e"
             ],
             [
              0.4444444444444444,
              "#26828e"
             ],
             [
              0.5555555555555556,
              "#1f9e89"
             ],
             [
              0.6666666666666666,
              "#35b779"
             ],
             [
              0.7777777777777778,
              "#6ece58"
             ],
             [
              0.8888888888888888,
              "#b5de2b"
             ],
             [
              1,
              "#fde725"
             ]
            ],
            "type": "heatmapgl"
           }
          ],
          "histogram": [
           {
            "marker": {
             "line": {
              "color": "white",
              "width": 0.6
             }
            },
            "type": "histogram"
           }
          ],
          "histogram2d": [
           {
            "colorbar": {
             "outlinewidth": 1,
             "tickcolor": "rgb(36,36,36)",
             "ticks": "outside"
            },
            "colorscale": [
             [
              0,
              "#440154"
             ],
             [
              0.1111111111111111,
              "#482878"
             ],
             [
              0.2222222222222222,
              "#3e4989"
             ],
             [
              0.3333333333333333,
              "#31688e"
             ],
             [
              0.4444444444444444,
              "#26828e"
             ],
             [
              0.5555555555555556,
              "#1f9e89"
             ],
             [
              0.6666666666666666,
              "#35b779"
             ],
             [
              0.7777777777777778,
              "#6ece58"
             ],
             [
              0.8888888888888888,
              "#b5de2b"
             ],
             [
              1,
              "#fde725"
             ]
            ],
            "type": "histogram2d"
           }
          ],
          "histogram2dcontour": [
           {
            "colorbar": {
             "outlinewidth": 1,
             "tickcolor": "rgb(36,36,36)",
             "ticks": "outside"
            },
            "colorscale": [
             [
              0,
              "#440154"
             ],
             [
              0.1111111111111111,
              "#482878"
             ],
             [
              0.2222222222222222,
              "#3e4989"
             ],
             [
              0.3333333333333333,
              "#31688e"
             ],
             [
              0.4444444444444444,
              "#26828e"
             ],
             [
              0.5555555555555556,
              "#1f9e89"
             ],
             [
              0.6666666666666666,
              "#35b779"
             ],
             [
              0.7777777777777778,
              "#6ece58"
             ],
             [
              0.8888888888888888,
              "#b5de2b"
             ],
             [
              1,
              "#fde725"
             ]
            ],
            "type": "histogram2dcontour"
           }
          ],
          "mesh3d": [
           {
            "colorbar": {
             "outlinewidth": 1,
             "tickcolor": "rgb(36,36,36)",
             "ticks": "outside"
            },
            "type": "mesh3d"
           }
          ],
          "parcoords": [
           {
            "line": {
             "colorbar": {
              "outlinewidth": 1,
              "tickcolor": "rgb(36,36,36)",
              "ticks": "outside"
             }
            },
            "type": "parcoords"
           }
          ],
          "pie": [
           {
            "automargin": true,
            "type": "pie"
           }
          ],
          "scatter": [
           {
            "fillpattern": {
             "fillmode": "overlay",
             "size": 10,
             "solidity": 0.2
            },
            "type": "scatter"
           }
          ],
          "scatter3d": [
           {
            "line": {
             "colorbar": {
              "outlinewidth": 1,
              "tickcolor": "rgb(36,36,36)",
              "ticks": "outside"
             }
            },
            "marker": {
             "colorbar": {
              "outlinewidth": 1,
              "tickcolor": "rgb(36,36,36)",
              "ticks": "outside"
             }
            },
            "type": "scatter3d"
           }
          ],
          "scattercarpet": [
           {
            "marker": {
             "colorbar": {
              "outlinewidth": 1,
              "tickcolor": "rgb(36,36,36)",
              "ticks": "outside"
             }
            },
            "type": "scattercarpet"
           }
          ],
          "scattergeo": [
           {
            "marker": {
             "colorbar": {
              "outlinewidth": 1,
              "tickcolor": "rgb(36,36,36)",
              "ticks": "outside"
             }
            },
            "type": "scattergeo"
           }
          ],
          "scattergl": [
           {
            "marker": {
             "colorbar": {
              "outlinewidth": 1,
              "tickcolor": "rgb(36,36,36)",
              "ticks": "outside"
             }
            },
            "type": "scattergl"
           }
          ],
          "scattermapbox": [
           {
            "marker": {
             "colorbar": {
              "outlinewidth": 1,
              "tickcolor": "rgb(36,36,36)",
              "ticks": "outside"
             }
            },
            "type": "scattermapbox"
           }
          ],
          "scatterpolar": [
           {
            "marker": {
             "colorbar": {
              "outlinewidth": 1,
              "tickcolor": "rgb(36,36,36)",
              "ticks": "outside"
             }
            },
            "type": "scatterpolar"
           }
          ],
          "scatterpolargl": [
           {
            "marker": {
             "colorbar": {
              "outlinewidth": 1,
              "tickcolor": "rgb(36,36,36)",
              "ticks": "outside"
             }
            },
            "type": "scatterpolargl"
           }
          ],
          "scatterternary": [
           {
            "marker": {
             "colorbar": {
              "outlinewidth": 1,
              "tickcolor": "rgb(36,36,36)",
              "ticks": "outside"
             }
            },
            "type": "scatterternary"
           }
          ],
          "surface": [
           {
            "colorbar": {
             "outlinewidth": 1,
             "tickcolor": "rgb(36,36,36)",
             "ticks": "outside"
            },
            "colorscale": [
             [
              0,
              "#440154"
             ],
             [
              0.1111111111111111,
              "#482878"
             ],
             [
              0.2222222222222222,
              "#3e4989"
             ],
             [
              0.3333333333333333,
              "#31688e"
             ],
             [
              0.4444444444444444,
              "#26828e"
             ],
             [
              0.5555555555555556,
              "#1f9e89"
             ],
             [
              0.6666666666666666,
              "#35b779"
             ],
             [
              0.7777777777777778,
              "#6ece58"
             ],
             [
              0.8888888888888888,
              "#b5de2b"
             ],
             [
              1,
              "#fde725"
             ]
            ],
            "type": "surface"
           }
          ],
          "table": [
           {
            "cells": {
             "fill": {
              "color": "rgb(237,237,237)"
             },
             "line": {
              "color": "white"
             }
            },
            "header": {
             "fill": {
              "color": "rgb(217,217,217)"
             },
             "line": {
              "color": "white"
             }
            },
            "type": "table"
           }
          ]
         },
         "layout": {
          "annotationdefaults": {
           "arrowhead": 0,
           "arrowwidth": 1
          },
          "autotypenumbers": "strict",
          "coloraxis": {
           "colorbar": {
            "outlinewidth": 1,
            "tickcolor": "rgb(36,36,36)",
            "ticks": "outside"
           }
          },
          "colorscale": {
           "diverging": [
            [
             0,
             "rgb(103,0,31)"
            ],
            [
             0.1,
             "rgb(178,24,43)"
            ],
            [
             0.2,
             "rgb(214,96,77)"
            ],
            [
             0.3,
             "rgb(244,165,130)"
            ],
            [
             0.4,
             "rgb(253,219,199)"
            ],
            [
             0.5,
             "rgb(247,247,247)"
            ],
            [
             0.6,
             "rgb(209,229,240)"
            ],
            [
             0.7,
             "rgb(146,197,222)"
            ],
            [
             0.8,
             "rgb(67,147,195)"
            ],
            [
             0.9,
             "rgb(33,102,172)"
            ],
            [
             1,
             "rgb(5,48,97)"
            ]
           ],
           "sequential": [
            [
             0,
             "#440154"
            ],
            [
             0.1111111111111111,
             "#482878"
            ],
            [
             0.2222222222222222,
             "#3e4989"
            ],
            [
             0.3333333333333333,
             "#31688e"
            ],
            [
             0.4444444444444444,
             "#26828e"
            ],
            [
             0.5555555555555556,
             "#1f9e89"
            ],
            [
             0.6666666666666666,
             "#35b779"
            ],
            [
             0.7777777777777778,
             "#6ece58"
            ],
            [
             0.8888888888888888,
             "#b5de2b"
            ],
            [
             1,
             "#fde725"
            ]
           ],
           "sequentialminus": [
            [
             0,
             "#440154"
            ],
            [
             0.1111111111111111,
             "#482878"
            ],
            [
             0.2222222222222222,
             "#3e4989"
            ],
            [
             0.3333333333333333,
             "#31688e"
            ],
            [
             0.4444444444444444,
             "#26828e"
            ],
            [
             0.5555555555555556,
             "#1f9e89"
            ],
            [
             0.6666666666666666,
             "#35b779"
            ],
            [
             0.7777777777777778,
             "#6ece58"
            ],
            [
             0.8888888888888888,
             "#b5de2b"
            ],
            [
             1,
             "#fde725"
            ]
           ]
          },
          "colorway": [
           "#1F77B4",
           "#FF7F0E",
           "#2CA02C",
           "#D62728",
           "#9467BD",
           "#8C564B",
           "#E377C2",
           "#7F7F7F",
           "#BCBD22",
           "#17BECF"
          ],
          "font": {
           "color": "rgb(36,36,36)"
          },
          "geo": {
           "bgcolor": "white",
           "lakecolor": "white",
           "landcolor": "white",
           "showlakes": true,
           "showland": true,
           "subunitcolor": "white"
          },
          "hoverlabel": {
           "align": "left"
          },
          "hovermode": "closest",
          "mapbox": {
           "style": "light"
          },
          "paper_bgcolor": "white",
          "plot_bgcolor": "white",
          "polar": {
           "angularaxis": {
            "gridcolor": "rgb(232,232,232)",
            "linecolor": "rgb(36,36,36)",
            "showgrid": false,
            "showline": true,
            "ticks": "outside"
           },
           "bgcolor": "white",
           "radialaxis": {
            "gridcolor": "rgb(232,232,232)",
            "linecolor": "rgb(36,36,36)",
            "showgrid": false,
            "showline": true,
            "ticks": "outside"
           }
          },
          "scene": {
           "xaxis": {
            "backgroundcolor": "white",
            "gridcolor": "rgb(232,232,232)",
            "gridwidth": 2,
            "linecolor": "rgb(36,36,36)",
            "showbackground": true,
            "showgrid": false,
            "showline": true,
            "ticks": "outside",
            "zeroline": false,
            "zerolinecolor": "rgb(36,36,36)"
           },
           "yaxis": {
            "backgroundcolor": "white",
            "gridcolor": "rgb(232,232,232)",
            "gridwidth": 2,
            "linecolor": "rgb(36,36,36)",
            "showbackground": true,
            "showgrid": false,
            "showline": true,
            "ticks": "outside",
            "zeroline": false,
            "zerolinecolor": "rgb(36,36,36)"
           },
           "zaxis": {
            "backgroundcolor": "white",
            "gridcolor": "rgb(232,232,232)",
            "gridwidth": 2,
            "linecolor": "rgb(36,36,36)",
            "showbackground": true,
            "showgrid": false,
            "showline": true,
            "ticks": "outside",
            "zeroline": false,
            "zerolinecolor": "rgb(36,36,36)"
           }
          },
          "shapedefaults": {
           "fillcolor": "black",
           "line": {
            "width": 0
           },
           "opacity": 0.3
          },
          "ternary": {
           "aaxis": {
            "gridcolor": "rgb(232,232,232)",
            "linecolor": "rgb(36,36,36)",
            "showgrid": false,
            "showline": true,
            "ticks": "outside"
           },
           "baxis": {
            "gridcolor": "rgb(232,232,232)",
            "linecolor": "rgb(36,36,36)",
            "showgrid": false,
            "showline": true,
            "ticks": "outside"
           },
           "bgcolor": "white",
           "caxis": {
            "gridcolor": "rgb(232,232,232)",
            "linecolor": "rgb(36,36,36)",
            "showgrid": false,
            "showline": true,
            "ticks": "outside"
           }
          },
          "title": {
           "x": 0.05
          },
          "xaxis": {
           "automargin": true,
           "gridcolor": "rgb(232,232,232)",
           "linecolor": "rgb(36,36,36)",
           "showgrid": false,
           "showline": true,
           "ticks": "outside",
           "title": {
            "standoff": 15
           },
           "zeroline": false,
           "zerolinecolor": "rgb(36,36,36)"
          },
          "yaxis": {
           "automargin": true,
           "gridcolor": "rgb(232,232,232)",
           "linecolor": "rgb(36,36,36)",
           "showgrid": false,
           "showline": true,
           "ticks": "outside",
           "title": {
            "standoff": 15
           },
           "zeroline": false,
           "zerolinecolor": "rgb(36,36,36)"
          }
         }
        },
        "title": {
         "font": {
          "size": 20
         },
         "text": "Absolute change in loss from ablation"
        },
        "width": 800,
        "xaxis": {
         "anchor": "y",
         "domain": [
          0,
          1
         ],
         "showspikes": true,
         "spikemode": "across",
         "title": {
          "text": "Absolute change in loss under mean ablation"
         }
        },
        "yaxis": {
         "anchor": "x",
         "domain": [
          0,
          1
         ],
         "showspikes": true,
         "spikethickness": 2,
         "title": {
          "text": "Absolute change in loss under CSPA"
         }
        }
       }
      },
      "text/html": [
       "<div>                            <div id=\"8ec3cdba-22eb-4302-8f38-c289c92c6362\" class=\"plotly-graph-div\" style=\"height:600px; width:800px;\"></div>            <script type=\"text/javascript\">                require([\"plotly\"], function(Plotly) {                    window.PLOTLYENV=window.PLOTLYENV || {};                                    if (document.getElementById(\"8ec3cdba-22eb-4302-8f38-c289c92c6362\")) {                    Plotly.newPlot(                        \"8ec3cdba-22eb-4302-8f38-c289c92c6362\",                        [{\"hovertemplate\":\"Absolute change in loss under mean ablation=%{x}\\u003cbr\\u003eAbsolute change in loss under CSPA=%{y}\\u003cextra\\u003e\\u003c\\u002fextra\\u003e\",\"legendgroup\":\"\",\"marker\":{\"color\":\"#1F77B4\",\"symbol\":\"circle\"},\"mode\":\"markers+lines\",\"name\":\"\",\"orientation\":\"v\",\"showlegend\":false,\"x\":[3.4329136155974993e-07,1.4322935157906613e-06,2.7015682917408412e-06,3.840088083961746e-06,5.700514975615079e-06,8.246848665294237e-06,1.1287556844763458e-05,1.6228195818257518e-05,2.557107654865831e-05,4.331911259214394e-05,7.31000691303052e-05,0.00010800110612763092,0.00014260072202887386,0.00018694087339099497,0.00025798199931159616,0.0003248485445510596,0.0003985702060163021,0.0004858396714553237,0.0005837004282511771,0.0006814013468101621,0.0007853680872358382,0.0008908924064598978,0.0009968836093321443,0.0010953251039609313,0.0012063957983627915,0.0013170146849006414,0.0014336527092382312,0.0015568676171824336,0.001665787654928863,0.001795727526769042,0.001924323383718729,0.002074953867122531,0.0022144110407680273,0.002326742745935917,0.0024664781522005796,0.0026020710356533527,0.002715847920626402,0.002822847804054618,0.0029622549191117287,0.0030720464419573545,0.003184861969202757,0.003337991191074252,0.0034923036582767963,0.0036327759735286236,0.003799417521804571,0.0039937482215464115,0.004158260300755501,0.004350712057203054,0.004552430938929319,0.0047003584913909435,0.004855536390095949,0.005049302242696285,0.0051951282657682896,0.005332885775715113,0.00549087580293417,0.005668865516781807,0.005852704402059317,0.0060525075532495975,0.006286231800913811,0.00647351611405611,0.0066549754701554775,0.00682081189006567,0.007012687157839537,0.007224190514534712,0.00747328158468008,0.0077294884249567986,0.007984316907823086,0.008217275142669678,0.008424287661910057,0.00862393993884325,0.0088373813778162,0.009014853276312351,0.0092354416847229,0.009478163905441761,0.009734859690070152,0.009951329790055752,0.010154853574931622,0.010391448624432087,0.010579725727438927,0.01079629361629486,0.011094269342720509,0.011355366557836533,0.011581547558307648,0.011824884451925755,0.012062909081578255,0.012299303896725178,0.01257891021668911,0.012882313691079617,0.013163973577320576,0.013441462069749832,0.013726630248129368,0.014000165276229382,0.01436091773211956,0.014673268422484398,0.014937986619770527,0.015279771760106087,0.015654727816581726,0.015944207087159157,0.01623803749680519,0.01650751754641533,0.0168471522629261,0.017182108014822006,0.01745264045894146,0.017818888649344444,0.01819286122918129,0.018562667071819305,0.018970055505633354,0.01936398819088936,0.019836004823446274,0.02020183764398098,0.020610971376299858,0.021131057292222977,0.021551556885242462,0.022038809955120087,0.022580720484256744,0.02300245501101017,0.023490888997912407,0.02395850233733654,0.024377765133976936,0.024902189150452614,0.025445153936743736,0.02609041891992092,0.026691269129514694,0.027288980782032013,0.02785266749560833,0.02851390838623047,0.029137952253222466,0.029791325330734253,0.030485494062304497,0.031174516305327415,0.03172701597213745,0.03244271129369736,0.033190980553627014,0.03387764096260071,0.03458122909069061,0.03522151708602905,0.03588150814175606,0.03676578402519226,0.03771379962563515,0.03852050378918648,0.03917577862739563,0.03998759761452675,0.041032180190086365,0.04202696308493614,0.04288022592663765,0.04383397474884987,0.044731710106134415,0.04557695612311363,0.0465136282145977,0.04739278927445412,0.04854893684387207,0.04974944144487381,0.05101163312792778,0.052305497229099274,0.05360588803887367,0.054872479289770126,0.056114837527275085,0.05742163956165314,0.058527082204818726,0.05999784916639328,0.06180797517299652,0.0633540078997612,0.0648195669054985,0.06635764241218567,0.0682716816663742,0.07024481892585754,0.07221400737762451,0.0746401846408844,0.07675093412399292,0.07899805158376694,0.08120269328355789,0.08361360430717468,0.08634428679943085,0.08910421282052994,0.09186360239982605,0.09535522013902664,0.0987447127699852,0.10147695243358612,0.10460413992404938,0.10818032920360565,0.11237069964408875,0.11648380756378174,0.12099219858646393,0.1252879947423935,0.1295887529850006,0.13450537621974945,0.1404290795326233,0.1484575718641281,0.1561083048582077,0.16479161381721497,0.17523227632045746,0.18858139216899872,0.19990274310112,0.21732597053050995,0.23846335709095,0.25959131121635437,0.2932491898536682,0.3531648814678192,0.4393896460533142],\"xaxis\":\"x\",\"y\":[1.9090140995103866e-05,1.5293707065211493e-06,4.839454504690366e-06,5.337813036021544e-06,7.5111033766006585e-06,1.046576289809309e-05,9.249005233868957e-05,2.590451913420111e-05,8.13651640783064e-05,0.0001401079643983394,0.00107569748070091,0.00037082150811329484,0.00038989982567727566,0.00046809716150164604,0.000583021785132587,0.0008005695999599993,0.001357416738756001,0.0010057328036054969,0.0007807447691448033,0.0010738244745880365,0.0009717662469483912,0.0019102480728179216,0.0016836040886119008,0.0013989986618980765,0.0018069347133859992,0.0021992919500917196,0.0018097975989803672,0.0019281929126009345,0.0017630987567827106,0.002435418777167797,0.0024320995435118675,0.002337630605325103,0.0031704558059573174,0.0029863864183425903,0.0023804097436368465,0.0029121998231858015,0.00383202126249671,0.0026585236191749573,0.0029771397821605206,0.003534935414791107,0.003147910814732313,0.0034254281781613827,0.004107602406293154,0.0035462926607578993,0.004198367707431316,0.004191298503428698,0.004237246233969927,0.004215221386402845,0.004166976548731327,0.005510266870260239,0.005189413204789162,0.004740039352327585,0.006681338418275118,0.005443926434963942,0.005978260189294815,0.005830166861414909,0.005643223412334919,0.006080304272472858,0.006245148368179798,0.005997148808091879,0.006195091642439365,0.007599921431392431,0.007151734549552202,0.0070830355398356915,0.007183265406638384,0.008105156011879444,0.008599734865128994,0.00849558413028717,0.008735095150768757,0.008017702959477901,0.008377023041248322,0.00892630871385336,0.009073566645383835,0.009403509087860584,0.009616290219128132,0.010326783172786236,0.00972504448145628,0.010549727827310562,0.011434687301516533,0.011303858831524849,0.010592391714453697,0.010896475054323673,0.011635402217507362,0.012961708940565586,0.01210471149533987,0.011709218844771385,0.01263039093464613,0.012621225789189339,0.012342979200184345,0.013732880353927612,0.013764703646302223,0.013415498659014702,0.014158126898109913,0.014287843368947506,0.014482003636658192,0.014787087216973305,0.015417112968862057,0.017956500872969627,0.01653149351477623,0.015708642080426216,0.01564638689160347,0.01643427461385727,0.017238257452845573,0.01739450730383396,0.017690761014819145,0.020070558413863182,0.019844645634293556,0.019251251593232155,0.0196730624884367,0.018539324402809143,0.020994292572140694,0.020261060446500778,0.021487802267074585,0.022325269877910614,0.021574879065155983,0.0231911800801754,0.024120701476931572,0.02419940009713173,0.023667847737669945,0.023454701527953148,0.023925602436065674,0.025795111432671547,0.02533644810318947,0.027323851361870766,0.02662554942071438,0.027455337345600128,0.027825308963656425,0.029418252408504486,0.030180420726537704,0.030136696994304657,0.03212975338101387,0.031901970505714417,0.03144218027591705,0.03331088647246361,0.03443795442581177,0.035525888204574585,0.032962899655103683,0.03575296327471733,0.035400666296482086,0.036669131368398666,0.0388919860124588,0.0369558185338974,0.039595816284418106,0.04013186693191528,0.04122941568493843,0.04430977255105972,0.04329247400164604,0.0451115183532238,0.045624990016222,0.045569952577352524,0.046584561467170715,0.04848889634013176,0.050932686775922775,0.05074755847454071,0.051795486360788345,0.05207143723964691,0.05414910987019539,0.05397055670619011,0.05630500242114067,0.05857398733496666,0.05964163690805435,0.06250256299972534,0.06393226236104965,0.06546644121408463,0.06626753509044647,0.06864682585000992,0.0686136782169342,0.07201021909713745,0.06982488930225372,0.07543077319860458,0.07527632266283035,0.080001600086689,0.08307559788227081,0.08550777286291122,0.08780759572982788,0.09166537970304489,0.09385058283805847,0.10031741857528687,0.10208434611558914,0.10312390327453613,0.11094756424427032,0.11611495912075043,0.11798780411481857,0.11405743658542633,0.12384596467018127,0.1264241337776184,0.1357034593820572,0.14111627638339996,0.14925940334796906,0.15485164523124695,0.16641727089881897,0.18076808750629425,0.19178520143032074,0.20525901019573212,0.2219455987215042,0.23854665458202362,0.2773374617099762,0.31184786558151245,0.4095507860183716],\"yaxis\":\"y\",\"type\":\"scatter\"}],                        {\"template\":{\"data\":{\"barpolar\":[{\"marker\":{\"line\":{\"color\":\"white\",\"width\":0.5},\"pattern\":{\"fillmode\":\"overlay\",\"size\":10,\"solidity\":0.2}},\"type\":\"barpolar\"}],\"bar\":[{\"error_x\":{\"color\":\"rgb(36,36,36)\"},\"error_y\":{\"color\":\"rgb(36,36,36)\"},\"marker\":{\"line\":{\"color\":\"white\",\"width\":0.5},\"pattern\":{\"fillmode\":\"overlay\",\"size\":10,\"solidity\":0.2}},\"type\":\"bar\"}],\"carpet\":[{\"aaxis\":{\"endlinecolor\":\"rgb(36,36,36)\",\"gridcolor\":\"white\",\"linecolor\":\"white\",\"minorgridcolor\":\"white\",\"startlinecolor\":\"rgb(36,36,36)\"},\"baxis\":{\"endlinecolor\":\"rgb(36,36,36)\",\"gridcolor\":\"white\",\"linecolor\":\"white\",\"minorgridcolor\":\"white\",\"startlinecolor\":\"rgb(36,36,36)\"},\"type\":\"carpet\"}],\"choropleth\":[{\"colorbar\":{\"outlinewidth\":1,\"tickcolor\":\"rgb(36,36,36)\",\"ticks\":\"outside\"},\"type\":\"choropleth\"}],\"contourcarpet\":[{\"colorbar\":{\"outlinewidth\":1,\"tickcolor\":\"rgb(36,36,36)\",\"ticks\":\"outside\"},\"type\":\"contourcarpet\"}],\"contour\":[{\"colorbar\":{\"outlinewidth\":1,\"tickcolor\":\"rgb(36,36,36)\",\"ticks\":\"outside\"},\"colorscale\":[[0.0,\"#440154\"],[0.1111111111111111,\"#482878\"],[0.2222222222222222,\"#3e4989\"],[0.3333333333333333,\"#31688e\"],[0.4444444444444444,\"#26828e\"],[0.5555555555555556,\"#1f9e89\"],[0.6666666666666666,\"#35b779\"],[0.7777777777777778,\"#6ece58\"],[0.8888888888888888,\"#b5de2b\"],[1.0,\"#fde725\"]],\"type\":\"contour\"}],\"heatmapgl\":[{\"colorbar\":{\"outlinewidth\":1,\"tickcolor\":\"rgb(36,36,36)\",\"ticks\":\"outside\"},\"colorscale\":[[0.0,\"#440154\"],[0.1111111111111111,\"#482878\"],[0.2222222222222222,\"#3e4989\"],[0.3333333333333333,\"#31688e\"],[0.4444444444444444,\"#26828e\"],[0.5555555555555556,\"#1f9e89\"],[0.6666666666666666,\"#35b779\"],[0.7777777777777778,\"#6ece58\"],[0.8888888888888888,\"#b5de2b\"],[1.0,\"#fde725\"]],\"type\":\"heatmapgl\"}],\"heatmap\":[{\"colorbar\":{\"outlinewidth\":1,\"tickcolor\":\"rgb(36,36,36)\",\"ticks\":\"outside\"},\"colorscale\":[[0.0,\"#440154\"],[0.1111111111111111,\"#482878\"],[0.2222222222222222,\"#3e4989\"],[0.3333333333333333,\"#31688e\"],[0.4444444444444444,\"#26828e\"],[0.5555555555555556,\"#1f9e89\"],[0.6666666666666666,\"#35b779\"],[0.7777777777777778,\"#6ece58\"],[0.8888888888888888,\"#b5de2b\"],[1.0,\"#fde725\"]],\"type\":\"heatmap\"}],\"histogram2dcontour\":[{\"colorbar\":{\"outlinewidth\":1,\"tickcolor\":\"rgb(36,36,36)\",\"ticks\":\"outside\"},\"colorscale\":[[0.0,\"#440154\"],[0.1111111111111111,\"#482878\"],[0.2222222222222222,\"#3e4989\"],[0.3333333333333333,\"#31688e\"],[0.4444444444444444,\"#26828e\"],[0.5555555555555556,\"#1f9e89\"],[0.6666666666666666,\"#35b779\"],[0.7777777777777778,\"#6ece58\"],[0.8888888888888888,\"#b5de2b\"],[1.0,\"#fde725\"]],\"type\":\"histogram2dcontour\"}],\"histogram2d\":[{\"colorbar\":{\"outlinewidth\":1,\"tickcolor\":\"rgb(36,36,36)\",\"ticks\":\"outside\"},\"colorscale\":[[0.0,\"#440154\"],[0.1111111111111111,\"#482878\"],[0.2222222222222222,\"#3e4989\"],[0.3333333333333333,\"#31688e\"],[0.4444444444444444,\"#26828e\"],[0.5555555555555556,\"#1f9e89\"],[0.6666666666666666,\"#35b779\"],[0.7777777777777778,\"#6ece58\"],[0.8888888888888888,\"#b5de2b\"],[1.0,\"#fde725\"]],\"type\":\"histogram2d\"}],\"histogram\":[{\"marker\":{\"line\":{\"color\":\"white\",\"width\":0.6}},\"type\":\"histogram\"}],\"mesh3d\":[{\"colorbar\":{\"outlinewidth\":1,\"tickcolor\":\"rgb(36,36,36)\",\"ticks\":\"outside\"},\"type\":\"mesh3d\"}],\"parcoords\":[{\"line\":{\"colorbar\":{\"outlinewidth\":1,\"tickcolor\":\"rgb(36,36,36)\",\"ticks\":\"outside\"}},\"type\":\"parcoords\"}],\"pie\":[{\"automargin\":true,\"type\":\"pie\"}],\"scatter3d\":[{\"line\":{\"colorbar\":{\"outlinewidth\":1,\"tickcolor\":\"rgb(36,36,36)\",\"ticks\":\"outside\"}},\"marker\":{\"colorbar\":{\"outlinewidth\":1,\"tickcolor\":\"rgb(36,36,36)\",\"ticks\":\"outside\"}},\"type\":\"scatter3d\"}],\"scattercarpet\":[{\"marker\":{\"colorbar\":{\"outlinewidth\":1,\"tickcolor\":\"rgb(36,36,36)\",\"ticks\":\"outside\"}},\"type\":\"scattercarpet\"}],\"scattergeo\":[{\"marker\":{\"colorbar\":{\"outlinewidth\":1,\"tickcolor\":\"rgb(36,36,36)\",\"ticks\":\"outside\"}},\"type\":\"scattergeo\"}],\"scattergl\":[{\"marker\":{\"colorbar\":{\"outlinewidth\":1,\"tickcolor\":\"rgb(36,36,36)\",\"ticks\":\"outside\"}},\"type\":\"scattergl\"}],\"scattermapbox\":[{\"marker\":{\"colorbar\":{\"outlinewidth\":1,\"tickcolor\":\"rgb(36,36,36)\",\"ticks\":\"outside\"}},\"type\":\"scattermapbox\"}],\"scatterpolargl\":[{\"marker\":{\"colorbar\":{\"outlinewidth\":1,\"tickcolor\":\"rgb(36,36,36)\",\"ticks\":\"outside\"}},\"type\":\"scatterpolargl\"}],\"scatterpolar\":[{\"marker\":{\"colorbar\":{\"outlinewidth\":1,\"tickcolor\":\"rgb(36,36,36)\",\"ticks\":\"outside\"}},\"type\":\"scatterpolar\"}],\"scatter\":[{\"fillpattern\":{\"fillmode\":\"overlay\",\"size\":10,\"solidity\":0.2},\"type\":\"scatter\"}],\"scatterternary\":[{\"marker\":{\"colorbar\":{\"outlinewidth\":1,\"tickcolor\":\"rgb(36,36,36)\",\"ticks\":\"outside\"}},\"type\":\"scatterternary\"}],\"surface\":[{\"colorbar\":{\"outlinewidth\":1,\"tickcolor\":\"rgb(36,36,36)\",\"ticks\":\"outside\"},\"colorscale\":[[0.0,\"#440154\"],[0.1111111111111111,\"#482878\"],[0.2222222222222222,\"#3e4989\"],[0.3333333333333333,\"#31688e\"],[0.4444444444444444,\"#26828e\"],[0.5555555555555556,\"#1f9e89\"],[0.6666666666666666,\"#35b779\"],[0.7777777777777778,\"#6ece58\"],[0.8888888888888888,\"#b5de2b\"],[1.0,\"#fde725\"]],\"type\":\"surface\"}],\"table\":[{\"cells\":{\"fill\":{\"color\":\"rgb(237,237,237)\"},\"line\":{\"color\":\"white\"}},\"header\":{\"fill\":{\"color\":\"rgb(217,217,217)\"},\"line\":{\"color\":\"white\"}},\"type\":\"table\"}]},\"layout\":{\"annotationdefaults\":{\"arrowhead\":0,\"arrowwidth\":1},\"autotypenumbers\":\"strict\",\"coloraxis\":{\"colorbar\":{\"outlinewidth\":1,\"tickcolor\":\"rgb(36,36,36)\",\"ticks\":\"outside\"}},\"colorscale\":{\"diverging\":[[0.0,\"rgb(103,0,31)\"],[0.1,\"rgb(178,24,43)\"],[0.2,\"rgb(214,96,77)\"],[0.3,\"rgb(244,165,130)\"],[0.4,\"rgb(253,219,199)\"],[0.5,\"rgb(247,247,247)\"],[0.6,\"rgb(209,229,240)\"],[0.7,\"rgb(146,197,222)\"],[0.8,\"rgb(67,147,195)\"],[0.9,\"rgb(33,102,172)\"],[1.0,\"rgb(5,48,97)\"]],\"sequential\":[[0.0,\"#440154\"],[0.1111111111111111,\"#482878\"],[0.2222222222222222,\"#3e4989\"],[0.3333333333333333,\"#31688e\"],[0.4444444444444444,\"#26828e\"],[0.5555555555555556,\"#1f9e89\"],[0.6666666666666666,\"#35b779\"],[0.7777777777777778,\"#6ece58\"],[0.8888888888888888,\"#b5de2b\"],[1.0,\"#fde725\"]],\"sequentialminus\":[[0.0,\"#440154\"],[0.1111111111111111,\"#482878\"],[0.2222222222222222,\"#3e4989\"],[0.3333333333333333,\"#31688e\"],[0.4444444444444444,\"#26828e\"],[0.5555555555555556,\"#1f9e89\"],[0.6666666666666666,\"#35b779\"],[0.7777777777777778,\"#6ece58\"],[0.8888888888888888,\"#b5de2b\"],[1.0,\"#fde725\"]]},\"colorway\":[\"#1F77B4\",\"#FF7F0E\",\"#2CA02C\",\"#D62728\",\"#9467BD\",\"#8C564B\",\"#E377C2\",\"#7F7F7F\",\"#BCBD22\",\"#17BECF\"],\"font\":{\"color\":\"rgb(36,36,36)\"},\"geo\":{\"bgcolor\":\"white\",\"lakecolor\":\"white\",\"landcolor\":\"white\",\"showlakes\":true,\"showland\":true,\"subunitcolor\":\"white\"},\"hoverlabel\":{\"align\":\"left\"},\"hovermode\":\"closest\",\"mapbox\":{\"style\":\"light\"},\"paper_bgcolor\":\"white\",\"plot_bgcolor\":\"white\",\"polar\":{\"angularaxis\":{\"gridcolor\":\"rgb(232,232,232)\",\"linecolor\":\"rgb(36,36,36)\",\"showgrid\":false,\"showline\":true,\"ticks\":\"outside\"},\"bgcolor\":\"white\",\"radialaxis\":{\"gridcolor\":\"rgb(232,232,232)\",\"linecolor\":\"rgb(36,36,36)\",\"showgrid\":false,\"showline\":true,\"ticks\":\"outside\"}},\"scene\":{\"xaxis\":{\"backgroundcolor\":\"white\",\"gridcolor\":\"rgb(232,232,232)\",\"gridwidth\":2,\"linecolor\":\"rgb(36,36,36)\",\"showbackground\":true,\"showgrid\":false,\"showline\":true,\"ticks\":\"outside\",\"zeroline\":false,\"zerolinecolor\":\"rgb(36,36,36)\"},\"yaxis\":{\"backgroundcolor\":\"white\",\"gridcolor\":\"rgb(232,232,232)\",\"gridwidth\":2,\"linecolor\":\"rgb(36,36,36)\",\"showbackground\":true,\"showgrid\":false,\"showline\":true,\"ticks\":\"outside\",\"zeroline\":false,\"zerolinecolor\":\"rgb(36,36,36)\"},\"zaxis\":{\"backgroundcolor\":\"white\",\"gridcolor\":\"rgb(232,232,232)\",\"gridwidth\":2,\"linecolor\":\"rgb(36,36,36)\",\"showbackground\":true,\"showgrid\":false,\"showline\":true,\"ticks\":\"outside\",\"zeroline\":false,\"zerolinecolor\":\"rgb(36,36,36)\"}},\"shapedefaults\":{\"fillcolor\":\"black\",\"line\":{\"width\":0},\"opacity\":0.3},\"ternary\":{\"aaxis\":{\"gridcolor\":\"rgb(232,232,232)\",\"linecolor\":\"rgb(36,36,36)\",\"showgrid\":false,\"showline\":true,\"ticks\":\"outside\"},\"baxis\":{\"gridcolor\":\"rgb(232,232,232)\",\"linecolor\":\"rgb(36,36,36)\",\"showgrid\":false,\"showline\":true,\"ticks\":\"outside\"},\"bgcolor\":\"white\",\"caxis\":{\"gridcolor\":\"rgb(232,232,232)\",\"linecolor\":\"rgb(36,36,36)\",\"showgrid\":false,\"showline\":true,\"ticks\":\"outside\"}},\"title\":{\"x\":0.05},\"xaxis\":{\"automargin\":true,\"gridcolor\":\"rgb(232,232,232)\",\"linecolor\":\"rgb(36,36,36)\",\"showgrid\":false,\"showline\":true,\"ticks\":\"outside\",\"title\":{\"standoff\":15},\"zeroline\":false,\"zerolinecolor\":\"rgb(36,36,36)\"},\"yaxis\":{\"automargin\":true,\"gridcolor\":\"rgb(232,232,232)\",\"linecolor\":\"rgb(36,36,36)\",\"showgrid\":false,\"showline\":true,\"ticks\":\"outside\",\"title\":{\"standoff\":15},\"zeroline\":false,\"zerolinecolor\":\"rgb(36,36,36)\"}}},\"xaxis\":{\"anchor\":\"y\",\"domain\":[0.0,1.0],\"title\":{\"text\":\"Absolute change in loss under mean ablation\"},\"showspikes\":true,\"spikemode\":\"across\"},\"yaxis\":{\"anchor\":\"x\",\"domain\":[0.0,1.0],\"title\":{\"text\":\"Absolute change in loss under CSPA\"},\"showspikes\":true,\"spikethickness\":2},\"legend\":{\"tracegroupgap\":0},\"margin\":{\"t\":60},\"height\":600,\"width\":800,\"font\":{\"size\":25},\"title\":{\"font\":{\"size\":20},\"text\":\"Absolute change in loss from ablation\"},\"showlegend\":false,\"shapes\":[{\"line\":{\"color\":\"red\",\"dash\":\"dash\",\"width\":2},\"opacity\":0.8,\"type\":\"line\",\"x0\":3.4329136155974993e-07,\"x1\":0.4393896460533142,\"y0\":3.4329136155974993e-07,\"y1\":0.4393896460533142},{\"line\":{\"color\":\"red\",\"dash\":\"dash\",\"width\":2},\"opacity\":0.8,\"type\":\"line\",\"x0\":0,\"x1\":1,\"xref\":\"x domain\",\"y0\":0,\"y1\":0,\"yref\":\"y\"}],\"annotations\":[{\"align\":\"left\",\"font\":{\"size\":14},\"showarrow\":false,\"text\":\"No intervention\",\"x\":0.98,\"xanchor\":\"right\",\"xref\":\"paper\",\"y\":0.17,\"yref\":\"paper\"},{\"align\":\"left\",\"font\":{\"size\":14},\"showarrow\":false,\"text\":\"Full ablation\",\"x\":0.98,\"xanchor\":\"right\",\"xref\":\"paper\",\"y\":0.86,\"yref\":\"paper\"}],\"spikedistance\":1000,\"hoverdistance\":100},                        {\"responsive\": true}                    ).then(function(){\n",
       "                            \n",
       "var gd = document.getElementById('8ec3cdba-22eb-4302-8f38-c289c92c6362');\n",
       "var x = new MutationObserver(function (mutations, observer) {{\n",
       "        var display = window.getComputedStyle(gd).display;\n",
       "        if (!display || display === 'none') {{\n",
       "            console.log([gd, 'removed!']);\n",
       "            Plotly.purge(gd);\n",
       "            observer.disconnect();\n",
       "        }}\n",
       "}});\n",
       "\n",
       "// Listen for the removal of the full notebook cells\n",
       "var notebookContainer = gd.closest('#notebook-container');\n",
       "if (notebookContainer) {{\n",
       "    x.observe(notebookContainer, {childList: true});\n",
       "}}\n",
       "\n",
       "// Listen for the clearing of the current output cell\n",
       "var outputEl = gd.closest('.output');\n",
       "if (outputEl) {{\n",
       "    x.observe(outputEl, {childList: true});\n",
       "}}\n",
       "\n",
       "                        })                };                });            </script>        </div>"
      ]
     },
     "metadata": {},
     "output_type": "display_data"
    },
    {
     "data": {
      "application/vnd.plotly.v1+json": {
       "config": {
        "plotlyServerURL": "https://plot.ly"
       },
       "data": [
        {
         "hovertemplate": "D<sub>MA</sub>=%{x}<br>D<sub>CSPA</sub>=%{y}<extra></extra>",
         "legendgroup": "",
         "marker": {
          "color": "#1F77B4",
          "symbol": "circle"
         },
         "mode": "markers+lines",
         "name": "",
         "orientation": "v",
         "showlegend": false,
         "type": "scatter",
         "x": [
          -4.5170576612463265e-8,
          1.3133535503584426e-7,
          1.8842469273749884e-7,
          2.81636971521948e-7,
          4.4302279889052443e-7,
          5.938726417298312e-7,
          7.923147791188967e-7,
          0.0000011771257959480863,
          0.0000020240806861693272,
          0.0000037741974665550515,
          0.000006235683940758463,
          0.00000949638615566073,
          0.000013063264304946642,
          0.000018862465367419645,
          0.000024019651391427033,
          0.000029277422072482295,
          0.00003502764229779132,
          0.00004086085391463712,
          0.00004703003651229665,
          0.00005427328869700432,
          0.00006112060509622097,
          0.00006702762766508386,
          0.0000764760043239221,
          0.00008342653018189594,
          0.00009001864964375272,
          0.00009768632298801094,
          0.00010586598364170641,
          0.00011382540105842054,
          0.00012128565867897123,
          0.0001279908901778981,
          0.00013627266162075102,
          0.00014526463928632438,
          0.0001528008870081976,
          0.00016023332136683166,
          0.00016941978537943214,
          0.00017982158169616014,
          0.00018844979058485478,
          0.0001975822087842971,
          0.000206775963306427,
          0.0002163554308936,
          0.00022555727628059685,
          0.00023513055930379778,
          0.0002445656282361597,
          0.00025255518266931176,
          0.0002613664837554097,
          0.0002703125064726919,
          0.0002796285261865705,
          0.00028797212871722877,
          0.0002978451084345579,
          0.0003057442663703114,
          0.00031438044970855117,
          0.0003231716400478035,
          0.00033203355269506574,
          0.00034252306795679033,
          0.00035342617775313556,
          0.0003641178773250431,
          0.0003747547452803701,
          0.00038584601134061813,
          0.000395739363739267,
          0.0004079669597558677,
          0.0004200440598651767,
          0.00042771283187903464,
          0.00043685754644684494,
          0.00044728873763233423,
          0.0004572215548250824,
          0.0004656942910514772,
          0.0004781639436259866,
          0.0004901231732219458,
          0.0005009686574339867,
          0.0005121478461660445,
          0.0005220734747126698,
          0.0005321679054759443,
          0.0005430926103144884,
          0.0005564026068896055,
          0.0005694440915249288,
          0.0005845246487297118,
          0.0006007557967677712,
          0.0006159732583910227,
          0.0006265638512559235,
          0.0006390355410985649,
          0.0006541068432852626,
          0.0006663464591838419,
          0.0006793180946260691,
          0.0006944282213225961,
          0.0007082134834490716,
          0.000723484787158668,
          0.0007385434582829475,
          0.0007555925403721631,
          0.0007690812344662845,
          0.0007863973150961101,
          0.0008070069598034024,
          0.0008251063409261405,
          0.0008408898138441145,
          0.0008562519797123969,
          0.0008742330246604979,
          0.0008903297712095082,
          0.0009066478232853115,
          0.0009250494767911732,
          0.0009454382234252989,
          0.0009648193372413516,
          0.0009828723268583417,
          0.0010029015829786658,
          0.0010261466959491372,
          0.0010468735126778483,
          0.0010664990404620767,
          0.0010905535891652107,
          0.0011137517867609859,
          0.0011354211019352078,
          0.0011565330205485225,
          0.001178896869532764,
          0.001201879931613803,
          0.0012249704450368881,
          0.0012541870819404721,
          0.001281683100387454,
          0.0013097021728754044,
          0.001338005531579256,
          0.0013644073624163866,
          0.001396404579281807,
          0.0014266824582591653,
          0.0014543297002092004,
          0.0014868550933897495,
          0.0015171781415119767,
          0.001545923063531518,
          0.0015765982680022717,
          0.0016119813080877066,
          0.001647833501920104,
          0.0016841867472976446,
          0.0017262980109080672,
          0.0017616173718124628,
          0.0017964610597118735,
          0.0018286806298419833,
          0.0018684255192056298,
          0.001913749729283154,
          0.001954331062734127,
          0.001998690888285637,
          0.0020367130637168884,
          0.002077479613944888,
          0.0021202987991273403,
          0.002174415159970522,
          0.0022308994084596634,
          0.002290858654305339,
          0.002345987828448415,
          0.0024003791622817516,
          0.002459258772432804,
          0.0025250399485230446,
          0.002592761069536209,
          0.0026587878819555044,
          0.0027294147294014692,
          0.0027983628679066896,
          0.0028693601489067078,
          0.0029463355895131826,
          0.003012698842212558,
          0.0030859988182783127,
          0.0031817841809242964,
          0.003269524546340108,
          0.003372306702658534,
          0.0034691598266363144,
          0.0035690509248524904,
          0.003667729441076517,
          0.0037614505272358656,
          0.003875433700159192,
          0.004001940134912729,
          0.004103376064449549,
          0.004232145380228758,
          0.004360119812190533,
          0.004489301238209009,
          0.0046441215090453625,
          0.004782235715538263,
          0.004970434121787548,
          0.005125405266880989,
          0.005275613162666559,
          0.005475715734064579,
          0.0056470101699233055,
          0.005861204117536545,
          0.006075295154005289,
          0.0062834215350449085,
          0.006536164321005344,
          0.00680499617010355,
          0.007091467268764973,
          0.007382520474493504,
          0.007768720388412476,
          0.008125110529363155,
          0.008575762622058392,
          0.009209482930600643,
          0.009847319684922695,
          0.010565566830337048,
          0.011121478863060474,
          0.011868036352097988,
          0.01270244363695383,
          0.013594582676887512,
          0.014788062311708927,
          0.016353018581867218,
          0.017964832484722137,
          0.02001010812819004,
          0.0233884546905756,
          0.027165159583091736,
          0.032103314995765686,
          0.039921753108501434,
          0.057208746671676636
         ],
         "xaxis": "x",
         "y": [
          -4.5430095241272284e-8,
          1.3963543210593343e-7,
          1.9024201947104302e-7,
          2.7759915610658936e-7,
          4.467993619527988e-7,
          5.848949626852118e-7,
          7.76068020513776e-7,
          0.00000116608816824737,
          0.00000200724844034994,
          0.000003921600182366092,
          0.0000060552783907041885,
          0.000009614988812245429,
          0.000013103952369419858,
          0.000018332828403799795,
          0.000023533231797046028,
          0.000029310944228200242,
          0.00003435278995311819,
          0.00004093727329745889,
          0.000046262735850177705,
          0.000053364801715360954,
          0.000060865466366522014,
          0.00006717178621329367,
          0.00007591184839839116,
          0.00008230192179325968,
          0.00008938418613979593,
          0.0000970716355368495,
          0.00010340477456338704,
          0.00011289256508462131,
          0.00011992688087048009,
          0.00012717350909952074,
          0.0001352807885268703,
          0.0001414078869856894,
          0.00015111174434423447,
          0.00015816930681467056,
          0.00016560174117330462,
          0.0001786596403690055,
          0.00018280580115970224,
          0.00019238369714003056,
          0.00020380789646878839,
          0.00021332823962438852,
          0.00022492978314403445,
          0.0002339805942028761,
          0.00024533283431082964,
          0.00024856795789673924,
          0.0002572197699919343,
          0.0002663091872818768,
          0.0002711854758672416,
          0.00028444002964533865,
          0.00029556287336163223,
          0.000300872721709311,
          0.0003094364074058831,
          0.0003213596937712282,
          0.0003254897892475128,
          0.00033991134841926396,
          0.0003480575105641037,
          0.0003592724387999624,
          0.0003618909977376461,
          0.00037909200182184577,
          0.0003867940104100853,
          0.0003989214019384235,
          0.0004116266791243106,
          0.000417124800151214,
          0.00043055726564489305,
          0.00043506117071956396,
          0.00044959562364965677,
          0.0004596065264195204,
          0.0004617223748937249,
          0.0004772054962813854,
          0.0004903381923213601,
          0.0004997493815608323,
          0.0005098225083202124,
          0.0005263759521767497,
          0.0005460478132590652,
          0.0005553644150495529,
          0.0005487610469572246,
          0.0005707755335606635,
          0.000585775647778064,
          0.0005924184224568307,
          0.0006071668467484415,
          0.0006229974096640944,
          0.000635059317573905,
          0.000654452305752784,
          0.0006706388667225838,
          0.0006742743426002562,
          0.00069335667649284,
          0.0007016743766143918,
          0.0007244350854307413,
          0.0007307690102607012,
          0.0007429174147546291,
          0.0007625666330568492,
          0.0007624190184287727,
          0.0008031346369534731,
          0.0008229861268773675,
          0.0008334714220836759,
          0.0008509845938533545,
          0.0008406846900470555,
          0.0008908122545108199,
          0.0008971982751972973,
          0.0009282160899601877,
          0.0009214715682901442,
          0.0009390903869643807,
          0.000975434435531497,
          0.0009906929917633533,
          0.0010156986536458135,
          0.0010253271320834756,
          0.0010595332132652402,
          0.001056453911587596,
          0.0010956876212731004,
          0.0011038905940949917,
          0.001145303132943809,
          0.001157198566943407,
          0.0012169593246653676,
          0.0012099401792511344,
          0.001244856626726687,
          0.0012775606010109186,
          0.0012563297059386969,
          0.0013353670947253704,
          0.001357899745926261,
          0.001350492937490344,
          0.0014091843040660024,
          0.0014317136956378818,
          0.001464639906771481,
          0.001517455792054534,
          0.0014670422533527017,
          0.0015373497735708952,
          0.0015793131897225976,
          0.0016210549511015415,
          0.0016503239748999476,
          0.001686140545643866,
          0.0017239339649677277,
          0.0017467937432229519,
          0.0018003660952672362,
          0.0018606623634696007,
          0.0018167868256568909,
          0.001912743435241282,
          0.001977168954908848,
          0.002057452918961644,
          0.0020154451485723257,
          0.0020911539904773235,
          0.0021326434798538685,
          0.002175761153921485,
          0.002228301716968417,
          0.0022958102636039257,
          0.002296584425494075,
          0.002364429645240307,
          0.0024416991509497166,
          0.0025063606444746256,
          0.0025744601152837276,
          0.002669684821739793,
          0.0026316929142922163,
          0.002815030748024583,
          0.0028764670714735985,
          0.0029270057566463947,
          0.0030642878264188766,
          0.003027901519089937,
          0.0031767068430781364,
          0.003285282989963889,
          0.0033662556670606136,
          0.0035080367233604193,
          0.0035895672626793385,
          0.0035906254779547453,
          0.003668267745524645,
          0.0037942158523947,
          0.004070335067808628,
          0.004066265653818846,
          0.004118123557418585,
          0.0042861090041697025,
          0.004431579727679491,
          0.004613170865923166,
          0.004735242109745741,
          0.004925793502479792,
          0.004972711205482483,
          0.0054238950833678246,
          0.0054657780565321445,
          0.00557980639860034,
          0.005630644503980875,
          0.005988413468003273,
          0.006232464220374823,
          0.00638202577829361,
          0.006791013292968273,
          0.007113032974302769,
          0.0073728798888623714,
          0.0076766228303313255,
          0.008380487561225891,
          0.008962571620941162,
          0.009653229266405106,
          0.010306738317012787,
          0.010409822687506676,
          0.01175615657120943,
          0.01204502210021019,
          0.01357974112033844,
          0.014617777429521084,
          0.015450592152774334,
          0.01647370122373104,
          0.020495090633630753,
          0.02342212200164795,
          0.029331760480999947,
          0.03410446271300316,
          0.0500359870493412
         ],
         "yaxis": "y"
        }
       ],
       "layout": {
        "annotations": [
         {
          "align": "left",
          "font": {
           "size": 14
          },
          "showarrow": false,
          "text": "No intervention",
          "x": 0.98,
          "xanchor": "right",
          "xref": "paper",
          "y": 0.17,
          "yref": "paper"
         },
         {
          "align": "left",
          "font": {
           "size": 14
          },
          "showarrow": false,
          "text": "Full ablation",
          "x": 0.98,
          "xanchor": "right",
          "xref": "paper",
          "y": 0.86,
          "yref": "paper"
         }
        ],
        "font": {
         "size": 30
        },
        "height": 600,
        "hoverdistance": 100,
        "legend": {
         "tracegroupgap": 0
        },
        "margin": {
         "t": 60
        },
        "shapes": [
         {
          "line": {
           "color": "red",
           "dash": "dash",
           "width": 2
          },
          "opacity": 0.8,
          "type": "line",
          "x0": -4.5170576612463265e-8,
          "x1": 0.057208746671676636,
          "y0": -4.5170576612463265e-8,
          "y1": 0.057208746671676636
         },
         {
          "line": {
           "color": "red",
           "dash": "dash",
           "width": 2
          },
          "opacity": 0.8,
          "type": "line",
          "x0": 0,
          "x1": 1,
          "xref": "x domain",
          "y0": 0,
          "y1": 0,
          "yref": "y"
         }
        ],
        "showlegend": false,
        "spikedistance": 1000,
        "template": {
         "data": {
          "bar": [
           {
            "error_x": {
             "color": "rgb(36,36,36)"
            },
            "error_y": {
             "color": "rgb(36,36,36)"
            },
            "marker": {
             "line": {
              "color": "white",
              "width": 0.5
             },
             "pattern": {
              "fillmode": "overlay",
              "size": 10,
              "solidity": 0.2
             }
            },
            "type": "bar"
           }
          ],
          "barpolar": [
           {
            "marker": {
             "line": {
              "color": "white",
              "width": 0.5
             },
             "pattern": {
              "fillmode": "overlay",
              "size": 10,
              "solidity": 0.2
             }
            },
            "type": "barpolar"
           }
          ],
          "carpet": [
           {
            "aaxis": {
             "endlinecolor": "rgb(36,36,36)",
             "gridcolor": "white",
             "linecolor": "white",
             "minorgridcolor": "white",
             "startlinecolor": "rgb(36,36,36)"
            },
            "baxis": {
             "endlinecolor": "rgb(36,36,36)",
             "gridcolor": "white",
             "linecolor": "white",
             "minorgridcolor": "white",
             "startlinecolor": "rgb(36,36,36)"
            },
            "type": "carpet"
           }
          ],
          "choropleth": [
           {
            "colorbar": {
             "outlinewidth": 1,
             "tickcolor": "rgb(36,36,36)",
             "ticks": "outside"
            },
            "type": "choropleth"
           }
          ],
          "contour": [
           {
            "colorbar": {
             "outlinewidth": 1,
             "tickcolor": "rgb(36,36,36)",
             "ticks": "outside"
            },
            "colorscale": [
             [
              0,
              "#440154"
             ],
             [
              0.1111111111111111,
              "#482878"
             ],
             [
              0.2222222222222222,
              "#3e4989"
             ],
             [
              0.3333333333333333,
              "#31688e"
             ],
             [
              0.4444444444444444,
              "#26828e"
             ],
             [
              0.5555555555555556,
              "#1f9e89"
             ],
             [
              0.6666666666666666,
              "#35b779"
             ],
             [
              0.7777777777777778,
              "#6ece58"
             ],
             [
              0.8888888888888888,
              "#b5de2b"
             ],
             [
              1,
              "#fde725"
             ]
            ],
            "type": "contour"
           }
          ],
          "contourcarpet": [
           {
            "colorbar": {
             "outlinewidth": 1,
             "tickcolor": "rgb(36,36,36)",
             "ticks": "outside"
            },
            "type": "contourcarpet"
           }
          ],
          "heatmap": [
           {
            "colorbar": {
             "outlinewidth": 1,
             "tickcolor": "rgb(36,36,36)",
             "ticks": "outside"
            },
            "colorscale": [
             [
              0,
              "#440154"
             ],
             [
              0.1111111111111111,
              "#482878"
             ],
             [
              0.2222222222222222,
              "#3e4989"
             ],
             [
              0.3333333333333333,
              "#31688e"
             ],
             [
              0.4444444444444444,
              "#26828e"
             ],
             [
              0.5555555555555556,
              "#1f9e89"
             ],
             [
              0.6666666666666666,
              "#35b779"
             ],
             [
              0.7777777777777778,
              "#6ece58"
             ],
             [
              0.8888888888888888,
              "#b5de2b"
             ],
             [
              1,
              "#fde725"
             ]
            ],
            "type": "heatmap"
           }
          ],
          "heatmapgl": [
           {
            "colorbar": {
             "outlinewidth": 1,
             "tickcolor": "rgb(36,36,36)",
             "ticks": "outside"
            },
            "colorscale": [
             [
              0,
              "#440154"
             ],
             [
              0.1111111111111111,
              "#482878"
             ],
             [
              0.2222222222222222,
              "#3e4989"
             ],
             [
              0.3333333333333333,
              "#31688e"
             ],
             [
              0.4444444444444444,
              "#26828e"
             ],
             [
              0.5555555555555556,
              "#1f9e89"
             ],
             [
              0.6666666666666666,
              "#35b779"
             ],
             [
              0.7777777777777778,
              "#6ece58"
             ],
             [
              0.8888888888888888,
              "#b5de2b"
             ],
             [
              1,
              "#fde725"
             ]
            ],
            "type": "heatmapgl"
           }
          ],
          "histogram": [
           {
            "marker": {
             "line": {
              "color": "white",
              "width": 0.6
             }
            },
            "type": "histogram"
           }
          ],
          "histogram2d": [
           {
            "colorbar": {
             "outlinewidth": 1,
             "tickcolor": "rgb(36,36,36)",
             "ticks": "outside"
            },
            "colorscale": [
             [
              0,
              "#440154"
             ],
             [
              0.1111111111111111,
              "#482878"
             ],
             [
              0.2222222222222222,
              "#3e4989"
             ],
             [
              0.3333333333333333,
              "#31688e"
             ],
             [
              0.4444444444444444,
              "#26828e"
             ],
             [
              0.5555555555555556,
              "#1f9e89"
             ],
             [
              0.6666666666666666,
              "#35b779"
             ],
             [
              0.7777777777777778,
              "#6ece58"
             ],
             [
              0.8888888888888888,
              "#b5de2b"
             ],
             [
              1,
              "#fde725"
             ]
            ],
            "type": "histogram2d"
           }
          ],
          "histogram2dcontour": [
           {
            "colorbar": {
             "outlinewidth": 1,
             "tickcolor": "rgb(36,36,36)",
             "ticks": "outside"
            },
            "colorscale": [
             [
              0,
              "#440154"
             ],
             [
              0.1111111111111111,
              "#482878"
             ],
             [
              0.2222222222222222,
              "#3e4989"
             ],
             [
              0.3333333333333333,
              "#31688e"
             ],
             [
              0.4444444444444444,
              "#26828e"
             ],
             [
              0.5555555555555556,
              "#1f9e89"
             ],
             [
              0.6666666666666666,
              "#35b779"
             ],
             [
              0.7777777777777778,
              "#6ece58"
             ],
             [
              0.8888888888888888,
              "#b5de2b"
             ],
             [
              1,
              "#fde725"
             ]
            ],
            "type": "histogram2dcontour"
           }
          ],
          "mesh3d": [
           {
            "colorbar": {
             "outlinewidth": 1,
             "tickcolor": "rgb(36,36,36)",
             "ticks": "outside"
            },
            "type": "mesh3d"
           }
          ],
          "parcoords": [
           {
            "line": {
             "colorbar": {
              "outlinewidth": 1,
              "tickcolor": "rgb(36,36,36)",
              "ticks": "outside"
             }
            },
            "type": "parcoords"
           }
          ],
          "pie": [
           {
            "automargin": true,
            "type": "pie"
           }
          ],
          "scatter": [
           {
            "fillpattern": {
             "fillmode": "overlay",
             "size": 10,
             "solidity": 0.2
            },
            "type": "scatter"
           }
          ],
          "scatter3d": [
           {
            "line": {
             "colorbar": {
              "outlinewidth": 1,
              "tickcolor": "rgb(36,36,36)",
              "ticks": "outside"
             }
            },
            "marker": {
             "colorbar": {
              "outlinewidth": 1,
              "tickcolor": "rgb(36,36,36)",
              "ticks": "outside"
             }
            },
            "type": "scatter3d"
           }
          ],
          "scattercarpet": [
           {
            "marker": {
             "colorbar": {
              "outlinewidth": 1,
              "tickcolor": "rgb(36,36,36)",
              "ticks": "outside"
             }
            },
            "type": "scattercarpet"
           }
          ],
          "scattergeo": [
           {
            "marker": {
             "colorbar": {
              "outlinewidth": 1,
              "tickcolor": "rgb(36,36,36)",
              "ticks": "outside"
             }
            },
            "type": "scattergeo"
           }
          ],
          "scattergl": [
           {
            "marker": {
             "colorbar": {
              "outlinewidth": 1,
              "tickcolor": "rgb(36,36,36)",
              "ticks": "outside"
             }
            },
            "type": "scattergl"
           }
          ],
          "scattermapbox": [
           {
            "marker": {
             "colorbar": {
              "outlinewidth": 1,
              "tickcolor": "rgb(36,36,36)",
              "ticks": "outside"
             }
            },
            "type": "scattermapbox"
           }
          ],
          "scatterpolar": [
           {
            "marker": {
             "colorbar": {
              "outlinewidth": 1,
              "tickcolor": "rgb(36,36,36)",
              "ticks": "outside"
             }
            },
            "type": "scatterpolar"
           }
          ],
          "scatterpolargl": [
           {
            "marker": {
             "colorbar": {
              "outlinewidth": 1,
              "tickcolor": "rgb(36,36,36)",
              "ticks": "outside"
             }
            },
            "type": "scatterpolargl"
           }
          ],
          "scatterternary": [
           {
            "marker": {
             "colorbar": {
              "outlinewidth": 1,
              "tickcolor": "rgb(36,36,36)",
              "ticks": "outside"
             }
            },
            "type": "scatterternary"
           }
          ],
          "surface": [
           {
            "colorbar": {
             "outlinewidth": 1,
             "tickcolor": "rgb(36,36,36)",
             "ticks": "outside"
            },
            "colorscale": [
             [
              0,
              "#440154"
             ],
             [
              0.1111111111111111,
              "#482878"
             ],
             [
              0.2222222222222222,
              "#3e4989"
             ],
             [
              0.3333333333333333,
              "#31688e"
             ],
             [
              0.4444444444444444,
              "#26828e"
             ],
             [
              0.5555555555555556,
              "#1f9e89"
             ],
             [
              0.6666666666666666,
              "#35b779"
             ],
             [
              0.7777777777777778,
              "#6ece58"
             ],
             [
              0.8888888888888888,
              "#b5de2b"
             ],
             [
              1,
              "#fde725"
             ]
            ],
            "type": "surface"
           }
          ],
          "table": [
           {
            "cells": {
             "fill": {
              "color": "rgb(237,237,237)"
             },
             "line": {
              "color": "white"
             }
            },
            "header": {
             "fill": {
              "color": "rgb(217,217,217)"
             },
             "line": {
              "color": "white"
             }
            },
            "type": "table"
           }
          ]
         },
         "layout": {
          "annotationdefaults": {
           "arrowhead": 0,
           "arrowwidth": 1
          },
          "autotypenumbers": "strict",
          "coloraxis": {
           "colorbar": {
            "outlinewidth": 1,
            "tickcolor": "rgb(36,36,36)",
            "ticks": "outside"
           }
          },
          "colorscale": {
           "diverging": [
            [
             0,
             "rgb(103,0,31)"
            ],
            [
             0.1,
             "rgb(178,24,43)"
            ],
            [
             0.2,
             "rgb(214,96,77)"
            ],
            [
             0.3,
             "rgb(244,165,130)"
            ],
            [
             0.4,
             "rgb(253,219,199)"
            ],
            [
             0.5,
             "rgb(247,247,247)"
            ],
            [
             0.6,
             "rgb(209,229,240)"
            ],
            [
             0.7,
             "rgb(146,197,222)"
            ],
            [
             0.8,
             "rgb(67,147,195)"
            ],
            [
             0.9,
             "rgb(33,102,172)"
            ],
            [
             1,
             "rgb(5,48,97)"
            ]
           ],
           "sequential": [
            [
             0,
             "#440154"
            ],
            [
             0.1111111111111111,
             "#482878"
            ],
            [
             0.2222222222222222,
             "#3e4989"
            ],
            [
             0.3333333333333333,
             "#31688e"
            ],
            [
             0.4444444444444444,
             "#26828e"
            ],
            [
             0.5555555555555556,
             "#1f9e89"
            ],
            [
             0.6666666666666666,
             "#35b779"
            ],
            [
             0.7777777777777778,
             "#6ece58"
            ],
            [
             0.8888888888888888,
             "#b5de2b"
            ],
            [
             1,
             "#fde725"
            ]
           ],
           "sequentialminus": [
            [
             0,
             "#440154"
            ],
            [
             0.1111111111111111,
             "#482878"
            ],
            [
             0.2222222222222222,
             "#3e4989"
            ],
            [
             0.3333333333333333,
             "#31688e"
            ],
            [
             0.4444444444444444,
             "#26828e"
            ],
            [
             0.5555555555555556,
             "#1f9e89"
            ],
            [
             0.6666666666666666,
             "#35b779"
            ],
            [
             0.7777777777777778,
             "#6ece58"
            ],
            [
             0.8888888888888888,
             "#b5de2b"
            ],
            [
             1,
             "#fde725"
            ]
           ]
          },
          "colorway": [
           "#1F77B4",
           "#FF7F0E",
           "#2CA02C",
           "#D62728",
           "#9467BD",
           "#8C564B",
           "#E377C2",
           "#7F7F7F",
           "#BCBD22",
           "#17BECF"
          ],
          "font": {
           "color": "rgb(36,36,36)"
          },
          "geo": {
           "bgcolor": "white",
           "lakecolor": "white",
           "landcolor": "white",
           "showlakes": true,
           "showland": true,
           "subunitcolor": "white"
          },
          "hoverlabel": {
           "align": "left"
          },
          "hovermode": "closest",
          "mapbox": {
           "style": "light"
          },
          "paper_bgcolor": "white",
          "plot_bgcolor": "white",
          "polar": {
           "angularaxis": {
            "gridcolor": "rgb(232,232,232)",
            "linecolor": "rgb(36,36,36)",
            "showgrid": false,
            "showline": true,
            "ticks": "outside"
           },
           "bgcolor": "white",
           "radialaxis": {
            "gridcolor": "rgb(232,232,232)",
            "linecolor": "rgb(36,36,36)",
            "showgrid": false,
            "showline": true,
            "ticks": "outside"
           }
          },
          "scene": {
           "xaxis": {
            "backgroundcolor": "white",
            "gridcolor": "rgb(232,232,232)",
            "gridwidth": 2,
            "linecolor": "rgb(36,36,36)",
            "showbackground": true,
            "showgrid": false,
            "showline": true,
            "ticks": "outside",
            "zeroline": false,
            "zerolinecolor": "rgb(36,36,36)"
           },
           "yaxis": {
            "backgroundcolor": "white",
            "gridcolor": "rgb(232,232,232)",
            "gridwidth": 2,
            "linecolor": "rgb(36,36,36)",
            "showbackground": true,
            "showgrid": false,
            "showline": true,
            "ticks": "outside",
            "zeroline": false,
            "zerolinecolor": "rgb(36,36,36)"
           },
           "zaxis": {
            "backgroundcolor": "white",
            "gridcolor": "rgb(232,232,232)",
            "gridwidth": 2,
            "linecolor": "rgb(36,36,36)",
            "showbackground": true,
            "showgrid": false,
            "showline": true,
            "ticks": "outside",
            "zeroline": false,
            "zerolinecolor": "rgb(36,36,36)"
           }
          },
          "shapedefaults": {
           "fillcolor": "black",
           "line": {
            "width": 0
           },
           "opacity": 0.3
          },
          "ternary": {
           "aaxis": {
            "gridcolor": "rgb(232,232,232)",
            "linecolor": "rgb(36,36,36)",
            "showgrid": false,
            "showline": true,
            "ticks": "outside"
           },
           "baxis": {
            "gridcolor": "rgb(232,232,232)",
            "linecolor": "rgb(36,36,36)",
            "showgrid": false,
            "showline": true,
            "ticks": "outside"
           },
           "bgcolor": "white",
           "caxis": {
            "gridcolor": "rgb(232,232,232)",
            "linecolor": "rgb(36,36,36)",
            "showgrid": false,
            "showline": true,
            "ticks": "outside"
           }
          },
          "title": {
           "x": 0.05
          },
          "xaxis": {
           "automargin": true,
           "gridcolor": "rgb(232,232,232)",
           "linecolor": "rgb(36,36,36)",
           "showgrid": false,
           "showline": true,
           "ticks": "outside",
           "title": {
            "standoff": 15
           },
           "zeroline": false,
           "zerolinecolor": "rgb(36,36,36)"
          },
          "yaxis": {
           "automargin": true,
           "gridcolor": "rgb(232,232,232)",
           "linecolor": "rgb(36,36,36)",
           "showgrid": false,
           "showline": true,
           "ticks": "outside",
           "title": {
            "standoff": 15
           },
           "zeroline": false,
           "zerolinecolor": "rgb(36,36,36)"
          }
         }
        },
        "title": {
         "font": {
          "size": 20
         },
         "text": "KL divergence of ablated predictions, relative to clean predictions"
        },
        "width": 800,
        "xaxis": {
         "anchor": "y",
         "domain": [
          0,
          1
         ],
         "showspikes": true,
         "spikemode": "across",
         "title": {
          "text": "D<sub>MA</sub>"
         }
        },
        "yaxis": {
         "anchor": "x",
         "domain": [
          0,
          1
         ],
         "showspikes": true,
         "spikethickness": 2,
         "title": {
          "text": "D<sub>CSPA</sub>"
         }
        }
       }
      },
      "text/html": [
       "<div>                            <div id=\"a8fa7367-4ba0-4660-9258-254ab161b10a\" class=\"plotly-graph-div\" style=\"height:600px; width:800px;\"></div>            <script type=\"text/javascript\">                require([\"plotly\"], function(Plotly) {                    window.PLOTLYENV=window.PLOTLYENV || {};                                    if (document.getElementById(\"a8fa7367-4ba0-4660-9258-254ab161b10a\")) {                    Plotly.newPlot(                        \"a8fa7367-4ba0-4660-9258-254ab161b10a\",                        [{\"hovertemplate\":\"D\\u003csub\\u003eMA\\u003c\\u002fsub\\u003e=%{x}\\u003cbr\\u003eD\\u003csub\\u003eCSPA\\u003c\\u002fsub\\u003e=%{y}\\u003cextra\\u003e\\u003c\\u002fextra\\u003e\",\"legendgroup\":\"\",\"marker\":{\"color\":\"#1F77B4\",\"symbol\":\"circle\"},\"mode\":\"markers+lines\",\"name\":\"\",\"orientation\":\"v\",\"showlegend\":false,\"x\":[-4.5170576612463265e-08,1.3133535503584426e-07,1.8842469273749884e-07,2.81636971521948e-07,4.4302279889052443e-07,5.938726417298312e-07,7.923147791188967e-07,1.1771257959480863e-06,2.0240806861693272e-06,3.7741974665550515e-06,6.235683940758463e-06,9.49638615566073e-06,1.3063264304946642e-05,1.8862465367419645e-05,2.4019651391427033e-05,2.9277422072482295e-05,3.502764229779132e-05,4.086085391463712e-05,4.703003651229665e-05,5.427328869700432e-05,6.112060509622097e-05,6.702762766508386e-05,7.64760043239221e-05,8.342653018189594e-05,9.001864964375272e-05,9.768632298801094e-05,0.00010586598364170641,0.00011382540105842054,0.00012128565867897123,0.0001279908901778981,0.00013627266162075102,0.00014526463928632438,0.0001528008870081976,0.00016023332136683166,0.00016941978537943214,0.00017982158169616014,0.00018844979058485478,0.0001975822087842971,0.000206775963306427,0.0002163554308936,0.00022555727628059685,0.00023513055930379778,0.0002445656282361597,0.00025255518266931176,0.0002613664837554097,0.0002703125064726919,0.0002796285261865705,0.00028797212871722877,0.0002978451084345579,0.0003057442663703114,0.00031438044970855117,0.0003231716400478035,0.00033203355269506574,0.00034252306795679033,0.00035342617775313556,0.0003641178773250431,0.0003747547452803701,0.00038584601134061813,0.000395739363739267,0.0004079669597558677,0.0004200440598651767,0.00042771283187903464,0.00043685754644684494,0.00044728873763233423,0.0004572215548250824,0.0004656942910514772,0.0004781639436259866,0.0004901231732219458,0.0005009686574339867,0.0005121478461660445,0.0005220734747126698,0.0005321679054759443,0.0005430926103144884,0.0005564026068896055,0.0005694440915249288,0.0005845246487297118,0.0006007557967677712,0.0006159732583910227,0.0006265638512559235,0.0006390355410985649,0.0006541068432852626,0.0006663464591838419,0.0006793180946260691,0.0006944282213225961,0.0007082134834490716,0.000723484787158668,0.0007385434582829475,0.0007555925403721631,0.0007690812344662845,0.0007863973150961101,0.0008070069598034024,0.0008251063409261405,0.0008408898138441145,0.0008562519797123969,0.0008742330246604979,0.0008903297712095082,0.0009066478232853115,0.0009250494767911732,0.0009454382234252989,0.0009648193372413516,0.0009828723268583417,0.0010029015829786658,0.0010261466959491372,0.0010468735126778483,0.0010664990404620767,0.0010905535891652107,0.0011137517867609859,0.0011354211019352078,0.0011565330205485225,0.001178896869532764,0.001201879931613803,0.0012249704450368881,0.0012541870819404721,0.001281683100387454,0.0013097021728754044,0.001338005531579256,0.0013644073624163866,0.001396404579281807,0.0014266824582591653,0.0014543297002092004,0.0014868550933897495,0.0015171781415119767,0.001545923063531518,0.0015765982680022717,0.0016119813080877066,0.001647833501920104,0.0016841867472976446,0.0017262980109080672,0.0017616173718124628,0.0017964610597118735,0.0018286806298419833,0.0018684255192056298,0.001913749729283154,0.001954331062734127,0.001998690888285637,0.0020367130637168884,0.002077479613944888,0.0021202987991273403,0.002174415159970522,0.0022308994084596634,0.002290858654305339,0.002345987828448415,0.0024003791622817516,0.002459258772432804,0.0025250399485230446,0.002592761069536209,0.0026587878819555044,0.0027294147294014692,0.0027983628679066896,0.0028693601489067078,0.0029463355895131826,0.003012698842212558,0.0030859988182783127,0.0031817841809242964,0.003269524546340108,0.003372306702658534,0.0034691598266363144,0.0035690509248524904,0.003667729441076517,0.0037614505272358656,0.003875433700159192,0.004001940134912729,0.004103376064449549,0.004232145380228758,0.004360119812190533,0.004489301238209009,0.0046441215090453625,0.004782235715538263,0.004970434121787548,0.005125405266880989,0.005275613162666559,0.005475715734064579,0.0056470101699233055,0.005861204117536545,0.006075295154005289,0.0062834215350449085,0.006536164321005344,0.00680499617010355,0.007091467268764973,0.007382520474493504,0.007768720388412476,0.008125110529363155,0.008575762622058392,0.009209482930600643,0.009847319684922695,0.010565566830337048,0.011121478863060474,0.011868036352097988,0.01270244363695383,0.013594582676887512,0.014788062311708927,0.016353018581867218,0.017964832484722137,0.02001010812819004,0.0233884546905756,0.027165159583091736,0.032103314995765686,0.039921753108501434,0.057208746671676636],\"xaxis\":\"x\",\"y\":[-4.5430095241272284e-08,1.3963543210593343e-07,1.9024201947104302e-07,2.7759915610658936e-07,4.467993619527988e-07,5.848949626852118e-07,7.76068020513776e-07,1.16608816824737e-06,2.00724844034994e-06,3.921600182366092e-06,6.0552783907041885e-06,9.614988812245429e-06,1.3103952369419858e-05,1.8332828403799795e-05,2.3533231797046028e-05,2.9310944228200242e-05,3.435278995311819e-05,4.093727329745889e-05,4.6262735850177705e-05,5.3364801715360954e-05,6.0865466366522014e-05,6.717178621329367e-05,7.591184839839116e-05,8.230192179325968e-05,8.938418613979593e-05,9.70716355368495e-05,0.00010340477456338704,0.00011289256508462131,0.00011992688087048009,0.00012717350909952074,0.0001352807885268703,0.0001414078869856894,0.00015111174434423447,0.00015816930681467056,0.00016560174117330462,0.0001786596403690055,0.00018280580115970224,0.00019238369714003056,0.00020380789646878839,0.00021332823962438852,0.00022492978314403445,0.0002339805942028761,0.00024533283431082964,0.00024856795789673924,0.0002572197699919343,0.0002663091872818768,0.0002711854758672416,0.00028444002964533865,0.00029556287336163223,0.000300872721709311,0.0003094364074058831,0.0003213596937712282,0.0003254897892475128,0.00033991134841926396,0.0003480575105641037,0.0003592724387999624,0.0003618909977376461,0.00037909200182184577,0.0003867940104100853,0.0003989214019384235,0.0004116266791243106,0.000417124800151214,0.00043055726564489305,0.00043506117071956396,0.00044959562364965677,0.0004596065264195204,0.0004617223748937249,0.0004772054962813854,0.0004903381923213601,0.0004997493815608323,0.0005098225083202124,0.0005263759521767497,0.0005460478132590652,0.0005553644150495529,0.0005487610469572246,0.0005707755335606635,0.000585775647778064,0.0005924184224568307,0.0006071668467484415,0.0006229974096640944,0.000635059317573905,0.000654452305752784,0.0006706388667225838,0.0006742743426002562,0.00069335667649284,0.0007016743766143918,0.0007244350854307413,0.0007307690102607012,0.0007429174147546291,0.0007625666330568492,0.0007624190184287727,0.0008031346369534731,0.0008229861268773675,0.0008334714220836759,0.0008509845938533545,0.0008406846900470555,0.0008908122545108199,0.0008971982751972973,0.0009282160899601877,0.0009214715682901442,0.0009390903869643807,0.000975434435531497,0.0009906929917633533,0.0010156986536458135,0.0010253271320834756,0.0010595332132652402,0.001056453911587596,0.0010956876212731004,0.0011038905940949917,0.001145303132943809,0.001157198566943407,0.0012169593246653676,0.0012099401792511344,0.001244856626726687,0.0012775606010109186,0.0012563297059386969,0.0013353670947253704,0.001357899745926261,0.001350492937490344,0.0014091843040660024,0.0014317136956378818,0.001464639906771481,0.001517455792054534,0.0014670422533527017,0.0015373497735708952,0.0015793131897225976,0.0016210549511015415,0.0016503239748999476,0.001686140545643866,0.0017239339649677277,0.0017467937432229519,0.0018003660952672362,0.0018606623634696007,0.0018167868256568909,0.001912743435241282,0.001977168954908848,0.002057452918961644,0.0020154451485723257,0.0020911539904773235,0.0021326434798538685,0.002175761153921485,0.002228301716968417,0.0022958102636039257,0.002296584425494075,0.002364429645240307,0.0024416991509497166,0.0025063606444746256,0.0025744601152837276,0.002669684821739793,0.0026316929142922163,0.002815030748024583,0.0028764670714735985,0.0029270057566463947,0.0030642878264188766,0.003027901519089937,0.0031767068430781364,0.003285282989963889,0.0033662556670606136,0.0035080367233604193,0.0035895672626793385,0.0035906254779547453,0.003668267745524645,0.0037942158523947,0.004070335067808628,0.004066265653818846,0.004118123557418585,0.0042861090041697025,0.004431579727679491,0.004613170865923166,0.004735242109745741,0.004925793502479792,0.004972711205482483,0.0054238950833678246,0.0054657780565321445,0.00557980639860034,0.005630644503980875,0.005988413468003273,0.006232464220374823,0.00638202577829361,0.006791013292968273,0.007113032974302769,0.0073728798888623714,0.0076766228303313255,0.008380487561225891,0.008962571620941162,0.009653229266405106,0.010306738317012787,0.010409822687506676,0.01175615657120943,0.01204502210021019,0.01357974112033844,0.014617777429521084,0.015450592152774334,0.01647370122373104,0.020495090633630753,0.02342212200164795,0.029331760480999947,0.03410446271300316,0.0500359870493412],\"yaxis\":\"y\",\"type\":\"scatter\"}],                        {\"template\":{\"data\":{\"barpolar\":[{\"marker\":{\"line\":{\"color\":\"white\",\"width\":0.5},\"pattern\":{\"fillmode\":\"overlay\",\"size\":10,\"solidity\":0.2}},\"type\":\"barpolar\"}],\"bar\":[{\"error_x\":{\"color\":\"rgb(36,36,36)\"},\"error_y\":{\"color\":\"rgb(36,36,36)\"},\"marker\":{\"line\":{\"color\":\"white\",\"width\":0.5},\"pattern\":{\"fillmode\":\"overlay\",\"size\":10,\"solidity\":0.2}},\"type\":\"bar\"}],\"carpet\":[{\"aaxis\":{\"endlinecolor\":\"rgb(36,36,36)\",\"gridcolor\":\"white\",\"linecolor\":\"white\",\"minorgridcolor\":\"white\",\"startlinecolor\":\"rgb(36,36,36)\"},\"baxis\":{\"endlinecolor\":\"rgb(36,36,36)\",\"gridcolor\":\"white\",\"linecolor\":\"white\",\"minorgridcolor\":\"white\",\"startlinecolor\":\"rgb(36,36,36)\"},\"type\":\"carpet\"}],\"choropleth\":[{\"colorbar\":{\"outlinewidth\":1,\"tickcolor\":\"rgb(36,36,36)\",\"ticks\":\"outside\"},\"type\":\"choropleth\"}],\"contourcarpet\":[{\"colorbar\":{\"outlinewidth\":1,\"tickcolor\":\"rgb(36,36,36)\",\"ticks\":\"outside\"},\"type\":\"contourcarpet\"}],\"contour\":[{\"colorbar\":{\"outlinewidth\":1,\"tickcolor\":\"rgb(36,36,36)\",\"ticks\":\"outside\"},\"colorscale\":[[0.0,\"#440154\"],[0.1111111111111111,\"#482878\"],[0.2222222222222222,\"#3e4989\"],[0.3333333333333333,\"#31688e\"],[0.4444444444444444,\"#26828e\"],[0.5555555555555556,\"#1f9e89\"],[0.6666666666666666,\"#35b779\"],[0.7777777777777778,\"#6ece58\"],[0.8888888888888888,\"#b5de2b\"],[1.0,\"#fde725\"]],\"type\":\"contour\"}],\"heatmapgl\":[{\"colorbar\":{\"outlinewidth\":1,\"tickcolor\":\"rgb(36,36,36)\",\"ticks\":\"outside\"},\"colorscale\":[[0.0,\"#440154\"],[0.1111111111111111,\"#482878\"],[0.2222222222222222,\"#3e4989\"],[0.3333333333333333,\"#31688e\"],[0.4444444444444444,\"#26828e\"],[0.5555555555555556,\"#1f9e89\"],[0.6666666666666666,\"#35b779\"],[0.7777777777777778,\"#6ece58\"],[0.8888888888888888,\"#b5de2b\"],[1.0,\"#fde725\"]],\"type\":\"heatmapgl\"}],\"heatmap\":[{\"colorbar\":{\"outlinewidth\":1,\"tickcolor\":\"rgb(36,36,36)\",\"ticks\":\"outside\"},\"colorscale\":[[0.0,\"#440154\"],[0.1111111111111111,\"#482878\"],[0.2222222222222222,\"#3e4989\"],[0.3333333333333333,\"#31688e\"],[0.4444444444444444,\"#26828e\"],[0.5555555555555556,\"#1f9e89\"],[0.6666666666666666,\"#35b779\"],[0.7777777777777778,\"#6ece58\"],[0.8888888888888888,\"#b5de2b\"],[1.0,\"#fde725\"]],\"type\":\"heatmap\"}],\"histogram2dcontour\":[{\"colorbar\":{\"outlinewidth\":1,\"tickcolor\":\"rgb(36,36,36)\",\"ticks\":\"outside\"},\"colorscale\":[[0.0,\"#440154\"],[0.1111111111111111,\"#482878\"],[0.2222222222222222,\"#3e4989\"],[0.3333333333333333,\"#31688e\"],[0.4444444444444444,\"#26828e\"],[0.5555555555555556,\"#1f9e89\"],[0.6666666666666666,\"#35b779\"],[0.7777777777777778,\"#6ece58\"],[0.8888888888888888,\"#b5de2b\"],[1.0,\"#fde725\"]],\"type\":\"histogram2dcontour\"}],\"histogram2d\":[{\"colorbar\":{\"outlinewidth\":1,\"tickcolor\":\"rgb(36,36,36)\",\"ticks\":\"outside\"},\"colorscale\":[[0.0,\"#440154\"],[0.1111111111111111,\"#482878\"],[0.2222222222222222,\"#3e4989\"],[0.3333333333333333,\"#31688e\"],[0.4444444444444444,\"#26828e\"],[0.5555555555555556,\"#1f9e89\"],[0.6666666666666666,\"#35b779\"],[0.7777777777777778,\"#6ece58\"],[0.8888888888888888,\"#b5de2b\"],[1.0,\"#fde725\"]],\"type\":\"histogram2d\"}],\"histogram\":[{\"marker\":{\"line\":{\"color\":\"white\",\"width\":0.6}},\"type\":\"histogram\"}],\"mesh3d\":[{\"colorbar\":{\"outlinewidth\":1,\"tickcolor\":\"rgb(36,36,36)\",\"ticks\":\"outside\"},\"type\":\"mesh3d\"}],\"parcoords\":[{\"line\":{\"colorbar\":{\"outlinewidth\":1,\"tickcolor\":\"rgb(36,36,36)\",\"ticks\":\"outside\"}},\"type\":\"parcoords\"}],\"pie\":[{\"automargin\":true,\"type\":\"pie\"}],\"scatter3d\":[{\"line\":{\"colorbar\":{\"outlinewidth\":1,\"tickcolor\":\"rgb(36,36,36)\",\"ticks\":\"outside\"}},\"marker\":{\"colorbar\":{\"outlinewidth\":1,\"tickcolor\":\"rgb(36,36,36)\",\"ticks\":\"outside\"}},\"type\":\"scatter3d\"}],\"scattercarpet\":[{\"marker\":{\"colorbar\":{\"outlinewidth\":1,\"tickcolor\":\"rgb(36,36,36)\",\"ticks\":\"outside\"}},\"type\":\"scattercarpet\"}],\"scattergeo\":[{\"marker\":{\"colorbar\":{\"outlinewidth\":1,\"tickcolor\":\"rgb(36,36,36)\",\"ticks\":\"outside\"}},\"type\":\"scattergeo\"}],\"scattergl\":[{\"marker\":{\"colorbar\":{\"outlinewidth\":1,\"tickcolor\":\"rgb(36,36,36)\",\"ticks\":\"outside\"}},\"type\":\"scattergl\"}],\"scattermapbox\":[{\"marker\":{\"colorbar\":{\"outlinewidth\":1,\"tickcolor\":\"rgb(36,36,36)\",\"ticks\":\"outside\"}},\"type\":\"scattermapbox\"}],\"scatterpolargl\":[{\"marker\":{\"colorbar\":{\"outlinewidth\":1,\"tickcolor\":\"rgb(36,36,36)\",\"ticks\":\"outside\"}},\"type\":\"scatterpolargl\"}],\"scatterpolar\":[{\"marker\":{\"colorbar\":{\"outlinewidth\":1,\"tickcolor\":\"rgb(36,36,36)\",\"ticks\":\"outside\"}},\"type\":\"scatterpolar\"}],\"scatter\":[{\"fillpattern\":{\"fillmode\":\"overlay\",\"size\":10,\"solidity\":0.2},\"type\":\"scatter\"}],\"scatterternary\":[{\"marker\":{\"colorbar\":{\"outlinewidth\":1,\"tickcolor\":\"rgb(36,36,36)\",\"ticks\":\"outside\"}},\"type\":\"scatterternary\"}],\"surface\":[{\"colorbar\":{\"outlinewidth\":1,\"tickcolor\":\"rgb(36,36,36)\",\"ticks\":\"outside\"},\"colorscale\":[[0.0,\"#440154\"],[0.1111111111111111,\"#482878\"],[0.2222222222222222,\"#3e4989\"],[0.3333333333333333,\"#31688e\"],[0.4444444444444444,\"#26828e\"],[0.5555555555555556,\"#1f9e89\"],[0.6666666666666666,\"#35b779\"],[0.7777777777777778,\"#6ece58\"],[0.8888888888888888,\"#b5de2b\"],[1.0,\"#fde725\"]],\"type\":\"surface\"}],\"table\":[{\"cells\":{\"fill\":{\"color\":\"rgb(237,237,237)\"},\"line\":{\"color\":\"white\"}},\"header\":{\"fill\":{\"color\":\"rgb(217,217,217)\"},\"line\":{\"color\":\"white\"}},\"type\":\"table\"}]},\"layout\":{\"annotationdefaults\":{\"arrowhead\":0,\"arrowwidth\":1},\"autotypenumbers\":\"strict\",\"coloraxis\":{\"colorbar\":{\"outlinewidth\":1,\"tickcolor\":\"rgb(36,36,36)\",\"ticks\":\"outside\"}},\"colorscale\":{\"diverging\":[[0.0,\"rgb(103,0,31)\"],[0.1,\"rgb(178,24,43)\"],[0.2,\"rgb(214,96,77)\"],[0.3,\"rgb(244,165,130)\"],[0.4,\"rgb(253,219,199)\"],[0.5,\"rgb(247,247,247)\"],[0.6,\"rgb(209,229,240)\"],[0.7,\"rgb(146,197,222)\"],[0.8,\"rgb(67,147,195)\"],[0.9,\"rgb(33,102,172)\"],[1.0,\"rgb(5,48,97)\"]],\"sequential\":[[0.0,\"#440154\"],[0.1111111111111111,\"#482878\"],[0.2222222222222222,\"#3e4989\"],[0.3333333333333333,\"#31688e\"],[0.4444444444444444,\"#26828e\"],[0.5555555555555556,\"#1f9e89\"],[0.6666666666666666,\"#35b779\"],[0.7777777777777778,\"#6ece58\"],[0.8888888888888888,\"#b5de2b\"],[1.0,\"#fde725\"]],\"sequentialminus\":[[0.0,\"#440154\"],[0.1111111111111111,\"#482878\"],[0.2222222222222222,\"#3e4989\"],[0.3333333333333333,\"#31688e\"],[0.4444444444444444,\"#26828e\"],[0.5555555555555556,\"#1f9e89\"],[0.6666666666666666,\"#35b779\"],[0.7777777777777778,\"#6ece58\"],[0.8888888888888888,\"#b5de2b\"],[1.0,\"#fde725\"]]},\"colorway\":[\"#1F77B4\",\"#FF7F0E\",\"#2CA02C\",\"#D62728\",\"#9467BD\",\"#8C564B\",\"#E377C2\",\"#7F7F7F\",\"#BCBD22\",\"#17BECF\"],\"font\":{\"color\":\"rgb(36,36,36)\"},\"geo\":{\"bgcolor\":\"white\",\"lakecolor\":\"white\",\"landcolor\":\"white\",\"showlakes\":true,\"showland\":true,\"subunitcolor\":\"white\"},\"hoverlabel\":{\"align\":\"left\"},\"hovermode\":\"closest\",\"mapbox\":{\"style\":\"light\"},\"paper_bgcolor\":\"white\",\"plot_bgcolor\":\"white\",\"polar\":{\"angularaxis\":{\"gridcolor\":\"rgb(232,232,232)\",\"linecolor\":\"rgb(36,36,36)\",\"showgrid\":false,\"showline\":true,\"ticks\":\"outside\"},\"bgcolor\":\"white\",\"radialaxis\":{\"gridcolor\":\"rgb(232,232,232)\",\"linecolor\":\"rgb(36,36,36)\",\"showgrid\":false,\"showline\":true,\"ticks\":\"outside\"}},\"scene\":{\"xaxis\":{\"backgroundcolor\":\"white\",\"gridcolor\":\"rgb(232,232,232)\",\"gridwidth\":2,\"linecolor\":\"rgb(36,36,36)\",\"showbackground\":true,\"showgrid\":false,\"showline\":true,\"ticks\":\"outside\",\"zeroline\":false,\"zerolinecolor\":\"rgb(36,36,36)\"},\"yaxis\":{\"backgroundcolor\":\"white\",\"gridcolor\":\"rgb(232,232,232)\",\"gridwidth\":2,\"linecolor\":\"rgb(36,36,36)\",\"showbackground\":true,\"showgrid\":false,\"showline\":true,\"ticks\":\"outside\",\"zeroline\":false,\"zerolinecolor\":\"rgb(36,36,36)\"},\"zaxis\":{\"backgroundcolor\":\"white\",\"gridcolor\":\"rgb(232,232,232)\",\"gridwidth\":2,\"linecolor\":\"rgb(36,36,36)\",\"showbackground\":true,\"showgrid\":false,\"showline\":true,\"ticks\":\"outside\",\"zeroline\":false,\"zerolinecolor\":\"rgb(36,36,36)\"}},\"shapedefaults\":{\"fillcolor\":\"black\",\"line\":{\"width\":0},\"opacity\":0.3},\"ternary\":{\"aaxis\":{\"gridcolor\":\"rgb(232,232,232)\",\"linecolor\":\"rgb(36,36,36)\",\"showgrid\":false,\"showline\":true,\"ticks\":\"outside\"},\"baxis\":{\"gridcolor\":\"rgb(232,232,232)\",\"linecolor\":\"rgb(36,36,36)\",\"showgrid\":false,\"showline\":true,\"ticks\":\"outside\"},\"bgcolor\":\"white\",\"caxis\":{\"gridcolor\":\"rgb(232,232,232)\",\"linecolor\":\"rgb(36,36,36)\",\"showgrid\":false,\"showline\":true,\"ticks\":\"outside\"}},\"title\":{\"x\":0.05},\"xaxis\":{\"automargin\":true,\"gridcolor\":\"rgb(232,232,232)\",\"linecolor\":\"rgb(36,36,36)\",\"showgrid\":false,\"showline\":true,\"ticks\":\"outside\",\"title\":{\"standoff\":15},\"zeroline\":false,\"zerolinecolor\":\"rgb(36,36,36)\"},\"yaxis\":{\"automargin\":true,\"gridcolor\":\"rgb(232,232,232)\",\"linecolor\":\"rgb(36,36,36)\",\"showgrid\":false,\"showline\":true,\"ticks\":\"outside\",\"title\":{\"standoff\":15},\"zeroline\":false,\"zerolinecolor\":\"rgb(36,36,36)\"}}},\"xaxis\":{\"anchor\":\"y\",\"domain\":[0.0,1.0],\"title\":{\"text\":\"D\\u003csub\\u003eMA\\u003c\\u002fsub\\u003e\"},\"showspikes\":true,\"spikemode\":\"across\"},\"yaxis\":{\"anchor\":\"x\",\"domain\":[0.0,1.0],\"title\":{\"text\":\"D\\u003csub\\u003eCSPA\\u003c\\u002fsub\\u003e\"},\"showspikes\":true,\"spikethickness\":2},\"legend\":{\"tracegroupgap\":0},\"margin\":{\"t\":60},\"height\":600,\"width\":800,\"font\":{\"size\":30},\"title\":{\"font\":{\"size\":20},\"text\":\"KL divergence of ablated predictions, relative to clean predictions\"},\"showlegend\":false,\"shapes\":[{\"line\":{\"color\":\"red\",\"dash\":\"dash\",\"width\":2},\"opacity\":0.8,\"type\":\"line\",\"x0\":-4.5170576612463265e-08,\"x1\":0.057208746671676636,\"y0\":-4.5170576612463265e-08,\"y1\":0.057208746671676636},{\"line\":{\"color\":\"red\",\"dash\":\"dash\",\"width\":2},\"opacity\":0.8,\"type\":\"line\",\"x0\":0,\"x1\":1,\"xref\":\"x domain\",\"y0\":0,\"y1\":0,\"yref\":\"y\"}],\"annotations\":[{\"align\":\"left\",\"font\":{\"size\":14},\"showarrow\":false,\"text\":\"No intervention\",\"x\":0.98,\"xanchor\":\"right\",\"xref\":\"paper\",\"y\":0.17,\"yref\":\"paper\"},{\"align\":\"left\",\"font\":{\"size\":14},\"showarrow\":false,\"text\":\"Full ablation\",\"x\":0.98,\"xanchor\":\"right\",\"xref\":\"paper\",\"y\":0.86,\"yref\":\"paper\"}],\"spikedistance\":1000,\"hoverdistance\":100},                        {\"responsive\": true}                    ).then(function(){\n",
       "                            \n",
       "var gd = document.getElementById('a8fa7367-4ba0-4660-9258-254ab161b10a');\n",
       "var x = new MutationObserver(function (mutations, observer) {{\n",
       "        var display = window.getComputedStyle(gd).display;\n",
       "        if (!display || display === 'none') {{\n",
       "            console.log([gd, 'removed!']);\n",
       "            Plotly.purge(gd);\n",
       "            observer.disconnect();\n",
       "        }}\n",
       "}});\n",
       "\n",
       "// Listen for the removal of the full notebook cells\n",
       "var notebookContainer = gd.closest('#notebook-container');\n",
       "if (notebookContainer) {{\n",
       "    x.observe(notebookContainer, {childList: true});\n",
       "}}\n",
       "\n",
       "// Listen for the clearing of the current output cell\n",
       "var outputEl = gd.closest('.output');\n",
       "if (outputEl) {{\n",
       "    x.observe(outputEl, {childList: true});\n",
       "}}\n",
       "\n",
       "                        })                };                });            </script>        </div>"
      ]
     },
     "metadata": {},
     "output_type": "display_data"
    },
    {
     "name": "stdout",
     "output_type": "stream",
     "text": [
      "Normed recovery tensor(0.1332, device='cuda:0')\n",
      "1th most extreme quantile: fraction explained = 1 - (0.410/0.439) = 0.068\n",
      "2th most extreme quantile: fraction explained = 1 - (0.312/0.353) = 0.117\n",
      "3th most extreme quantile: fraction explained = 1 - (0.277/0.293) = 0.054\n",
      "4th most extreme quantile: fraction explained = 1 - (0.239/0.260) = 0.081\n",
      "5th most extreme quantile: fraction explained = 1 - (0.222/0.238) = 0.069\n",
      "6th most extreme quantile: fraction explained = 1 - (0.205/0.217) = 0.056\n",
      "7th most extreme quantile: fraction explained = 1 - (0.192/0.200) = 0.041\n",
      "8th most extreme quantile: fraction explained = 1 - (0.181/0.189) = 0.041\n",
      "9th most extreme quantile: fraction explained = 1 - (0.166/0.175) = 0.050\n",
      "10th most extreme quantile: fraction explained = 1 - (0.155/0.165) = 0.060\n",
      "11th most extreme quantile: fraction explained = 1 - (0.149/0.156) = 0.044\n",
      "12th most extreme quantile: fraction explained = 1 - (0.141/0.148) = 0.049\n",
      "13th most extreme quantile: fraction explained = 1 - (0.136/0.140) = 0.034\n",
      "14th most extreme quantile: fraction explained = 1 - (0.126/0.135) = 0.060\n",
      "15th most extreme quantile: fraction explained = 1 - (0.124/0.130) = 0.044\n",
      "16th most extreme quantile: fraction explained = 1 - (0.114/0.125) = 0.090\n",
      "17th most extreme quantile: fraction explained = 1 - (0.118/0.121) = 0.025\n",
      "18th most extreme quantile: fraction explained = 1 - (0.116/0.116) = 0.003\n",
      "19th most extreme quantile: fraction explained = 1 - (0.111/0.112) = 0.013\n",
      "20th most extreme quantile: fraction explained = 1 - (0.103/0.108) = 0.047\n",
      "21th most extreme quantile: fraction explained = 1 - (0.102/0.105) = 0.024\n",
      "22th most extreme quantile: fraction explained = 1 - (0.100/0.101) = 0.011\n",
      "23th most extreme quantile: fraction explained = 1 - (0.094/0.099) = 0.050\n",
      "24th most extreme quantile: fraction explained = 1 - (0.092/0.095) = 0.039\n",
      "25th most extreme quantile: fraction explained = 1 - (0.088/0.092) = 0.044\n",
      "26th most extreme quantile: fraction explained = 1 - (0.086/0.089) = 0.040\n",
      "27th most extreme quantile: fraction explained = 1 - (0.083/0.086) = 0.038\n",
      "28th most extreme quantile: fraction explained = 1 - (0.080/0.084) = 0.043\n",
      "29th most extreme quantile: fraction explained = 1 - (0.075/0.081) = 0.073\n",
      "30th most extreme quantile: fraction explained = 1 - (0.075/0.079) = 0.045\n",
      "31th most extreme quantile: fraction explained = 1 - (0.070/0.077) = 0.090\n",
      "32th most extreme quantile: fraction explained = 1 - (0.072/0.075) = 0.035\n",
      "33th most extreme quantile: fraction explained = 1 - (0.069/0.072) = 0.050\n",
      "34th most extreme quantile: fraction explained = 1 - (0.069/0.070) = 0.023\n",
      "35th most extreme quantile: fraction explained = 1 - (0.066/0.068) = 0.029\n",
      "36th most extreme quantile: fraction explained = 1 - (0.065/0.066) = 0.013\n",
      "37th most extreme quantile: fraction explained = 1 - (0.064/0.065) = 0.014\n",
      "38th most extreme quantile: fraction explained = 1 - (0.063/0.063) = 0.013\n",
      "39th most extreme quantile: fraction explained = 1 - (0.060/0.062) = 0.035\n",
      "40th most extreme quantile: fraction explained = 1 - (0.059/0.060) = 0.024\n",
      "41th most extreme quantile: fraction explained = 1 - (0.056/0.059) = 0.038\n",
      "42th most extreme quantile: fraction explained = 1 - (0.054/0.057) = 0.060\n",
      "43th most extreme quantile: fraction explained = 1 - (0.054/0.056) = 0.035\n",
      "44th most extreme quantile: fraction explained = 1 - (0.052/0.055) = 0.051\n",
      "45th most extreme quantile: fraction explained = 1 - (0.052/0.054) = 0.034\n",
      "46th most extreme quantile: fraction explained = 1 - (0.051/0.052) = 0.030\n",
      "47th most extreme quantile: fraction explained = 1 - (0.051/0.051) = 0.002\n",
      "48th most extreme quantile: fraction explained = 1 - (0.048/0.050) = 0.025\n",
      "49th most extreme quantile: fraction explained = 1 - (0.047/0.049) = 0.040\n",
      "50th most extreme quantile: fraction explained = 1 - (0.046/0.047) = 0.038\n",
      "51th most extreme quantile: fraction explained = 1 - (0.046/0.047) = 0.019\n",
      "52th most extreme quantile: fraction explained = 1 - (0.045/0.046) = 0.010\n",
      "53th most extreme quantile: fraction explained = 1 - (0.043/0.045) = 0.032\n",
      "54th most extreme quantile: fraction explained = 1 - (0.044/0.044) = -0.011\n",
      "55th most extreme quantile: fraction explained = 1 - (0.041/0.043) = 0.038\n",
      "56th most extreme quantile: fraction explained = 1 - (0.040/0.042) = 0.045\n",
      "57th most extreme quantile: fraction explained = 1 - (0.040/0.041) = 0.035\n",
      "58th most extreme quantile: fraction explained = 1 - (0.037/0.040) = 0.076\n",
      "59th most extreme quantile: fraction explained = 1 - (0.039/0.039) = 0.007\n",
      "60th most extreme quantile: fraction explained = 1 - (0.037/0.039) = 0.048\n",
      "61th most extreme quantile: fraction explained = 1 - (0.035/0.038) = 0.061\n",
      "62th most extreme quantile: fraction explained = 1 - (0.036/0.037) = 0.028\n",
      "63th most extreme quantile: fraction explained = 1 - (0.033/0.036) = 0.081\n",
      "64th most extreme quantile: fraction explained = 1 - (0.036/0.035) = -0.009\n",
      "65th most extreme quantile: fraction explained = 1 - (0.034/0.035) = 0.004\n",
      "66th most extreme quantile: fraction explained = 1 - (0.033/0.034) = 0.017\n",
      "67th most extreme quantile: fraction explained = 1 - (0.031/0.033) = 0.053\n",
      "68th most extreme quantile: fraction explained = 1 - (0.032/0.032) = 0.017\n",
      "69th most extreme quantile: fraction explained = 1 - (0.032/0.032) = -0.013\n",
      "70th most extreme quantile: fraction explained = 1 - (0.030/0.031) = 0.033\n",
      "71th most extreme quantile: fraction explained = 1 - (0.030/0.030) = 0.010\n",
      "72th most extreme quantile: fraction explained = 1 - (0.029/0.030) = 0.013\n",
      "73th most extreme quantile: fraction explained = 1 - (0.028/0.029) = 0.045\n",
      "74th most extreme quantile: fraction explained = 1 - (0.027/0.029) = 0.037\n",
      "75th most extreme quantile: fraction explained = 1 - (0.027/0.028) = 0.044\n",
      "76th most extreme quantile: fraction explained = 1 - (0.027/0.027) = -0.001\n",
      "77th most extreme quantile: fraction explained = 1 - (0.025/0.027) = 0.051\n",
      "78th most extreme quantile: fraction explained = 1 - (0.026/0.026) = 0.011\n",
      "79th most extreme quantile: fraction explained = 1 - (0.024/0.025) = 0.060\n",
      "80th most extreme quantile: fraction explained = 1 - (0.023/0.025) = 0.058\n",
      "81th most extreme quantile: fraction explained = 1 - (0.024/0.024) = 0.029\n",
      "82th most extreme quantile: fraction explained = 1 - (0.024/0.024) = -0.010\n",
      "83th most extreme quantile: fraction explained = 1 - (0.024/0.023) = -0.027\n",
      "84th most extreme quantile: fraction explained = 1 - (0.023/0.023) = -0.008\n",
      "85th most extreme quantile: fraction explained = 1 - (0.022/0.023) = 0.045\n",
      "86th most extreme quantile: fraction explained = 1 - (0.022/0.022) = -0.013\n",
      "87th most extreme quantile: fraction explained = 1 - (0.021/0.022) = 0.003\n",
      "88th most extreme quantile: fraction explained = 1 - (0.020/0.021) = 0.041\n",
      "89th most extreme quantile: fraction explained = 1 - (0.021/0.021) = -0.019\n",
      "90th most extreme quantile: fraction explained = 1 - (0.019/0.020) = 0.082\n",
      "91th most extreme quantile: fraction explained = 1 - (0.020/0.020) = 0.008\n",
      "92th most extreme quantile: fraction explained = 1 - (0.019/0.019) = 0.006\n",
      "93th most extreme quantile: fraction explained = 1 - (0.020/0.019) = -0.046\n",
      "94th most extreme quantile: fraction explained = 1 - (0.020/0.019) = -0.081\n",
      "95th most extreme quantile: fraction explained = 1 - (0.018/0.018) = 0.028\n",
      "96th most extreme quantile: fraction explained = 1 - (0.017/0.018) = 0.024\n",
      "97th most extreme quantile: fraction explained = 1 - (0.017/0.017) = 0.012\n",
      "98th most extreme quantile: fraction explained = 1 - (0.016/0.017) = 0.044\n",
      "99th most extreme quantile: fraction explained = 1 - (0.016/0.017) = 0.071\n",
      "Mean KL divergence from ablated to original: 0.0038\n",
      "Mean KL divergence from CSPA to original: 0.0033\n",
      "Ratio = 0.889\n",
      "Performance explained = 0.111\n"
     ]
    },
    {
     "ename": "NameError",
     "evalue": "name 'fig_loss_line_kl' is not defined",
     "output_type": "error",
     "traceback": [
      "\u001b[0;31m---------------------------------------------------------------------------\u001b[0m",
      "\u001b[0;31mNameError\u001b[0m                                 Traceback (most recent call last)",
      "Cell \u001b[0;32mIn[24], line 34\u001b[0m\n\u001b[1;32m     32\u001b[0m \u001b[39mprint\u001b[39m(\u001b[39mf\u001b[39m\u001b[39m\"\u001b[39m\u001b[39mRatio = \u001b[39m\u001b[39m{\u001b[39;00mkl_div_cspa_to_orig\u001b[39m \u001b[39m\u001b[39m/\u001b[39m\u001b[39m \u001b[39mkl_div_ablated_to_orig\u001b[39m:\u001b[39;00m\u001b[39m.3f\u001b[39m\u001b[39m}\u001b[39;00m\u001b[39m\"\u001b[39m)\n\u001b[1;32m     33\u001b[0m \u001b[39mprint\u001b[39m(\u001b[39mf\u001b[39m\u001b[39m\"\u001b[39m\u001b[39mPerformance explained = \u001b[39m\u001b[39m{\u001b[39;00m\u001b[39m1\u001b[39m\u001b[39m \u001b[39m\u001b[39m-\u001b[39m\u001b[39m \u001b[39mkl_div_cspa_to_orig\u001b[39m \u001b[39m\u001b[39m/\u001b[39m\u001b[39m \u001b[39mkl_div_ablated_to_orig\u001b[39m:\u001b[39;00m\u001b[39m.3f\u001b[39m\u001b[39m}\u001b[39;00m\u001b[39m\"\u001b[39m)\n\u001b[0;32m---> 34\u001b[0m ma_max \u001b[39m=\u001b[39m fig_loss_line_kl\u001b[39m.\u001b[39mdata[\u001b[39m0\u001b[39m]\u001b[39m.\u001b[39mx[\u001b[39m-\u001b[39m\u001b[39m1\u001b[39m]\n\u001b[1;32m     35\u001b[0m cspa_max \u001b[39m=\u001b[39m fig_loss_line_kl\u001b[39m.\u001b[39mdata[\u001b[39m0\u001b[39m]\u001b[39m.\u001b[39my[\u001b[39m-\u001b[39m\u001b[39m1\u001b[39m]\n\u001b[1;32m     36\u001b[0m \u001b[39mprint\u001b[39m(\u001b[39mf\u001b[39m\u001b[39m\"\u001b[39m\u001b[39mMost extreme quantile: fraction explained = 1 - (\u001b[39m\u001b[39m{\u001b[39;00mcspa_max\u001b[39m:\u001b[39;00m\u001b[39m.3f\u001b[39m\u001b[39m}\u001b[39;00m\u001b[39m/\u001b[39m\u001b[39m{\u001b[39;00mma_max\u001b[39m:\u001b[39;00m\u001b[39m.3f\u001b[39m\u001b[39m}\u001b[39;00m\u001b[39m) = \u001b[39m\u001b[39m{\u001b[39;00m\u001b[39m1\u001b[39m\u001b[39m \u001b[39m\u001b[39m-\u001b[39m\u001b[39m \u001b[39mcspa_max\u001b[39m/\u001b[39mma_max\u001b[39m:\u001b[39;00m\u001b[39m.3f\u001b[39m\u001b[39m}\u001b[39;00m\u001b[39m\"\u001b[39m)\n",
      "\u001b[0;31mNameError\u001b[0m: name 'fig_loss_line_kl' is not defined"
     ]
    }
   ],
   "source": [
    "\n",
    "# fig_dict = generate_scatter(cspa_results_qk_ov, DATA_STR_TOKS_PARSED, batch_index_colors_to_highlight=[51, 300])\n",
    "fig_line_loss = generate_loss_based_scatter(cspa_results_qk_ov, nbins=200, values=\"loss\")\n",
    "fig_line_loss_absolute = generate_loss_based_scatter(cspa_results_qk_ov, nbins=200, values=\"loss-absolute\")\n",
    "fig_line_kl = generate_loss_based_scatter(cspa_results_qk_ov, nbins=200, values=\"kl-div\")\n",
    "\n",
    "kl_div_ablated_to_orig = cspa_results_qk_ov[\"kl_div_ablated_to_orig\"].mean()\n",
    "kl_div_cspa_to_orig = cspa_results_qk_ov[\"kl_div_cspa_to_orig\"].mean()\n",
    "\n",
    "# normed_loss_ablated_to_orig = cspa_results_qk_ov\n",
    "l_orig = cspa_results_qk_ov[\"loss\"].flatten()\n",
    "l_abl = cspa_results_qk_ov[\"loss_ablated\"].flatten()\n",
    "l_cspa = cspa_results_qk_ov[\"loss_cspa\"].flatten()\n",
    "# title = \"Change in loss from ablation (relative to clean model)\"\n",
    "\n",
    "xaxis_values = l_abl - l_orig\n",
    "yaxis_values = l_cspa - l_orig\n",
    "# if values == \"loss-absolute\":\n",
    "xaxis_values = xaxis_values.abs()**2\n",
    "yaxis_values = yaxis_values.abs()**2\n",
    "# title = \"Absolute change in loss from ablation\"\n",
    "\n",
    "normed_loss_performance_recovered = 1 - yaxis_values.mean() / xaxis_values.mean()\n",
    "print(\"Normed recovery\", normed_loss_performance_recovered.mean())\n",
    "\n",
    "for i in range(1, 100):\n",
    "    ma_max = fig_line_loss_absolute.data[0].x[-i]\n",
    "    cspa_max = fig_line_loss_absolute.data[0].y[-i]\n",
    "    print(f\"{i}th most extreme quantile: fraction explained = 1 - ({cspa_max:.3f}/{ma_max:.3f}) = {1 - cspa_max/ma_max:.3f}\")\n",
    "\n",
    "print(f\"Mean KL divergence from ablated to original: {kl_div_ablated_to_orig:.4f}\")\n",
    "print(f\"Mean KL divergence from CSPA to original: {kl_div_cspa_to_orig:.4f}\")\n",
    "print(f\"Ratio = {kl_div_cspa_to_orig / kl_div_ablated_to_orig:.3f}\")\n",
    "print(f\"Performance explained = {1 - kl_div_cspa_to_orig / kl_div_ablated_to_orig:.3f}\")\n",
    "ma_max = fig_loss_line_kl.data[0].x[-1]\n",
    "cspa_max = fig_loss_line_kl.data[0].y[-1]\n",
    "print(f\"Most extreme quantile: fraction explained = 1 - ({cspa_max:.3f}/{ma_max:.3f}) = {1 - cspa_max/ma_max:.3f}\")"
   ]
  },
  {
   "attachments": {},
   "cell_type": "markdown",
   "metadata": {},
   "source": [
    "# Is there a correlation between the absolute value of 10.7 effect on loss and 10.7's effect on increasing KL Divergence from the model?"
   ]
  },
  {
   "cell_type": "code",
   "execution_count": null,
   "metadata": {},
   "outputs": [],
   "source": [
    "batch_indices = (torch.tensor(indices)[:current_batch_size].unsqueeze(-1) + torch.zeros(current_seq_len).unsqueeze(0))\n",
    "seq_indices = (torch.zeros(current_batch_size).unsqueeze(-1) + torch.arange(current_seq_len).unsqueeze(0))\n",
    "\n",
    "my_dict = {\n",
    "    \"Mean Ablate 10.7 Loss - Normal Loss\": cspa_results_qk_ov[\"loss_ablated\"].clone().cpu() - cspa_results_qk_ov[\"loss\"].clone().cpu(),\n",
    "    \"Mean Ablation KL Divergence to Model\": cspa_results_qk_ov[\"kl_div_ablated_to_orig\"][:, :-1].clone().cpu(),\n",
    "    \"CSPA Loss - Normal Loss\": cspa_results_qk_ov[\"loss_cspa\"].clone().cpu() - cspa_results_qk_ov[\"loss\"].clone().cpu(),\n",
    "    \"CSPA KL\": cspa_results_qk_ov[\"kl_div_cspa_to_orig\"][:, :-1].clone().cpu(),\n",
    "}\n",
    "\n",
    "for k in list(my_dict.keys()):\n",
    "    print(my_dict[k].shape)\n",
    "    my_dict[k] = my_dict[k][:current_batch_size, :current_seq_len].flatten()\n",
    "\n",
    "print(batch_indices.shape, seq_indices.shape)\n",
    "\n",
    "my_dict[\"Batch Indices\"] = batch_indices.flatten().float()\n",
    "my_dict[\"Seq Indices\"] = seq_indices.flatten().float()\n",
    "\n",
    "df = pd.DataFrame(my_dict)"
   ]
  },
  {
   "cell_type": "code",
   "execution_count": 4,
   "metadata": {},
   "outputs": [
    {
     "ename": "NameError",
     "evalue": "name 'my_dict' is not defined",
     "output_type": "error",
     "traceback": [
      "\u001b[0;31m---------------------------------------------------------------------------\u001b[0m",
      "\u001b[0;31mNameError\u001b[0m                                 Traceback (most recent call last)",
      "Cell \u001b[0;32mIn[4], line 1\u001b[0m\n\u001b[0;32m----> 1\u001b[0m \u001b[39massert\u001b[39;00m \u001b[39mall\u001b[39m([v\u001b[39m.\u001b[39mshape \u001b[39m==\u001b[39m (current_batch_size\u001b[39m*\u001b[39mcurrent_seq_len,) \u001b[39mfor\u001b[39;00m _, v \u001b[39min\u001b[39;00m my_dict\u001b[39m.\u001b[39mitems()])\n",
      "\u001b[0;31mNameError\u001b[0m: name 'my_dict' is not defined"
     ]
    }
   ],
   "source": [
    "assert all([v.shape == (current_batch_size*current_seq_len,) for _, v in my_dict.items()])"
   ]
  },
  {
   "cell_type": "code",
   "execution_count": null,
   "metadata": {},
   "outputs": [],
   "source": [
    "# import warnings; warnings.warn(\"Check out color when working\")\n",
    "# fig = go.Figure()\n",
    "# fig.add_trace(\n",
    "px.scatter(\n",
    "    df,\n",
    "    x = \"Mean Ablate 10.7 Loss - Normal Loss\",\n",
    "    y = \"Mean Ablation KL Divergence to Model\",\n",
    "    hover_data = [\"Batch Indices\", \"Seq Indices\"],\n",
    "    color = \"CSPA KL\", \n",
    "    labels = {\"x\": \"Loss under 10.7 Mean Ablation - Ordinary Loss\", \"y\": \"KL Divergence under Mean Ablation\"}, # TODO fix these\n",
    "    color_continuous_scale = \"Blues\",\n",
    "    color_continuous_midpoint=0.0,\n",
    "    range_color=(0.0, 0.09),\n",
    ").update_traces(\n",
    "    marker=dict(\n",
    "        line=dict(\n",
    "            color='black',  # Border color\n",
    "            width=0.5  # Border width\n",
    "        )\n",
    "    )\n",
    ").show()"
   ]
  },
  {
   "cell_type": "code",
   "execution_count": 5,
   "metadata": {},
   "outputs": [
    {
     "ename": "NameError",
     "evalue": "name 'df' is not defined",
     "output_type": "error",
     "traceback": [
      "\u001b[0;31m---------------------------------------------------------------------------\u001b[0m",
      "\u001b[0;31mNameError\u001b[0m                                 Traceback (most recent call last)",
      "Cell \u001b[0;32mIn[5], line 7\u001b[0m\n\u001b[1;32m      4\u001b[0m Q\u001b[39m=\u001b[39m\u001b[39m30\u001b[39m\n\u001b[1;32m      6\u001b[0m \u001b[39m# Create quantile labels and bins\u001b[39;00m\n\u001b[0;32m----> 7\u001b[0m df[\u001b[39m'\u001b[39m\u001b[39mquantile\u001b[39m\u001b[39m'\u001b[39m], bins \u001b[39m=\u001b[39m pd\u001b[39m.\u001b[39mqcut(df[\u001b[39m'\u001b[39m\u001b[39mCSPA Loss - Normal Loss\u001b[39m\u001b[39m'\u001b[39m], Q, labels\u001b[39m=\u001b[39m\u001b[39mFalse\u001b[39;00m, retbins\u001b[39m=\u001b[39m\u001b[39mTrue\u001b[39;00m)\n\u001b[1;32m      9\u001b[0m \u001b[39m# Initialize figure\u001b[39;00m\n\u001b[1;32m     10\u001b[0m fig \u001b[39m=\u001b[39m go\u001b[39m.\u001b[39mFigure()\n",
      "\u001b[0;31mNameError\u001b[0m: name 'df' is not defined"
     ]
    }
   ],
   "source": [
    "import plotly.graph_objects as go\n",
    "import pandas as pd\n",
    "\n",
    "Q=30\n",
    "\n",
    "# Create quantile labels and bins\n",
    "df['quantile'], bins = pd.qcut(df['CSPA Loss - Normal Loss'], Q, labels=False, retbins=True)\n",
    "\n",
    "# Initialize figure\n",
    "fig = go.Figure()\n",
    "\n",
    "def interpolate_colors(N):\n",
    "    red = np.array([1, 0, 0])\n",
    "    blue = np.array([0, 0, 1])\n",
    "    colors = []\n",
    "    \n",
    "    for i in range(N):\n",
    "        ratio = i / (N - 1)\n",
    "        interpolated_color = (1 - ratio) * red + ratio * blue\n",
    "        hex_color = \"#{:02x}{:02x}{:02x}\".format(int(interpolated_color[0]*255), int(interpolated_color[1]*255), int(interpolated_color[2]*255))\n",
    "        colors.append(hex_color)\n",
    "        \n",
    "    return colors\n",
    "\n",
    "\n",
    "colors = interpolate_colors(Q)\n",
    "\n",
    "# Add scatter traces for each quantile\n",
    "for i, q in enumerate(sorted(df['quantile'].unique())):\n",
    "    subset = df[df['quantile'] == q]\n",
    "    min_val = round(bins[q], 2)\n",
    "    max_val = round(bins[q + 1], 2)\n",
    "    fig.add_trace(\n",
    "        go.Scatter(\n",
    "            x=subset['Mean Ablation KL Divergence to Model'],\n",
    "            y=subset['Mean Ablate 10.7 Loss - Normal Loss'],\n",
    "            mode='markers',\n",
    "            name=f'CSPA quantile {min_val} to {max_val}, average contribution {round(float(np.array(subset[\"CSPA Loss - Normal Loss\"]).mean()), 4)}',\n",
    "            marker=dict(color=colors[i])\n",
    "        )\n",
    "    )\n",
    "\n",
    "# Update layout\n",
    "fig.update_layout(\n",
    "    xaxis_title=\"KL Divergence under Mean Ablation\",\n",
    "    yaxis_title=\"Loss under 10.7 Mean Ablation - Ordinary Loss\",\n",
    ")\n",
    "\n",
    "\n",
    "for i in range(Q):\n",
    "    fig.data[i].visible = \"legendonly\"\n",
    "# fig.show(config={\"staticPlot\": True})\n",
    "fig.show()\n",
    "\n",
    "print(\"Average increase in loss from CSPA\", cspa_results_qk_ov[\"loss_cspa\"].mean() - cspa_results_qk_ov[\"loss\"].mean())\n",
    "print(f\"Which should be the same as the average of the above: {df['CSPA Loss - Normal Loss'].mean()}\")"
   ]
  },
  {
   "attachments": {},
   "cell_type": "markdown",
   "metadata": {},
   "source": [
    "Answer: the correlation is pretty weak. The good news is that there do not appear to be many points that loss systematically misses but KL captures"
   ]
  },
  {
   "cell_type": "code",
   "execution_count": null,
   "metadata": {},
   "outputs": [],
   "source": [
    "# Results with batch size = 100\n",
    "\n",
    "cspa_results_qk_ov = get_cspa_results_batched(\n",
    "    model = model,\n",
    "    toks = DATA_TOKS[:, :], # [:50],\n",
    "    max_batch_size = 1, # 50,\n",
    "    negative_head = (10, 7),\n",
    "    interventions = [\"qk\", \"ov\"],\n",
    "    K_unembeddings = 0.05, # most interesting in range 3-8 (out of 80)\n",
    "    K_semantic = 1, # either 1 or up to 8 to capture all sem similar\n",
    "    semantic_dict = cspa_semantic_dict,\n",
    "    result_mean = result_mean,\n",
    "    use_cuda = False,\n",
    "    verbose = True,\n",
    "    compute_s_sstar_dict = False,\n",
    ")\n",
    "\n",
    "# fig_dict = generate_scatter(cspa_results_qk_ov, DATA_STR_TOKS_PARSED, batch_index_colors_to_highlight=[51, 300])\n",
    "fig_loss_line = generate_loss_based_scatter(cspa_results_qk_ov, nbins=200, values=\"loss\")\n",
    "fig_loss_line_kl = generate_loss_based_scatter(cspa_results_qk_ov, nbins=200, values=\"kl-div\")\n",
    "\n",
    "kl_div_ablated_to_orig = cspa_results_qk_ov[\"kl_div_ablated_to_orig\"].mean()\n",
    "kl_div_cspa_to_orig = cspa_results_qk_ov[\"kl_div_cspa_to_orig\"].mean()\n",
    "\n",
    "print(f\"Mean KL divergence from ablated to original: {kl_div_ablated_to_orig:.4f}\")\n",
    "print(f\"Mean KL divergence from CSPA to original: {kl_div_cspa_to_orig:.4f}\")\n",
    "print(f\"Ratio = {kl_div_cspa_to_orig / kl_div_ablated_to_orig:.3f}\")\n",
    "print(f\"Performance explained = {1 - kl_div_cspa_to_orig / kl_div_ablated_to_orig:.3f}\")\n",
    "ma_max = fig_loss_line_kl.data[0].x[-1]\n",
    "cspa_max = fig_loss_line_kl.data[0].y[-1]\n",
    "print(f\"Most extreme quantile: fraction explained = 1 - ({cspa_max:.3f}/{ma_max:.3f}) = {1 - cspa_max/ma_max:.3f}\")"
   ]
  },
  {
   "attachments": {},
   "cell_type": "markdown",
   "metadata": {},
   "source": [
    "### `K_u = 0.05`, no semantic similarity, batch size = 500"
   ]
  },
  {
   "cell_type": "code",
   "execution_count": 6,
   "metadata": {},
   "outputs": [
    {
     "ename": "NameError",
     "evalue": "name 'get_cspa_results_batched' is not defined",
     "output_type": "error",
     "traceback": [
      "\u001b[0;31m---------------------------------------------------------------------------\u001b[0m",
      "\u001b[0;31mNameError\u001b[0m                                 Traceback (most recent call last)",
      "Cell \u001b[0;32mIn[6], line 1\u001b[0m\n\u001b[0;32m----> 1\u001b[0m cspa_results_qk_ov \u001b[39m=\u001b[39m get_cspa_results_batched(\n\u001b[1;32m      2\u001b[0m     model \u001b[39m=\u001b[39m model,\n\u001b[1;32m      3\u001b[0m     toks \u001b[39m=\u001b[39m DATA_TOKS[:, :], \u001b[39m# [:50],\u001b[39;00m\n\u001b[1;32m      4\u001b[0m     max_batch_size \u001b[39m=\u001b[39m \u001b[39m5\u001b[39m, \u001b[39m# 50,\u001b[39;00m\n\u001b[1;32m      5\u001b[0m     negative_head \u001b[39m=\u001b[39m (\u001b[39m10\u001b[39m, \u001b[39m7\u001b[39m),\n\u001b[1;32m      6\u001b[0m     interventions \u001b[39m=\u001b[39m [\u001b[39m\"\u001b[39m\u001b[39mqk\u001b[39m\u001b[39m\"\u001b[39m, \u001b[39m\"\u001b[39m\u001b[39mov\u001b[39m\u001b[39m\"\u001b[39m],\n\u001b[1;32m      7\u001b[0m     K_unembeddings \u001b[39m=\u001b[39m \u001b[39m0.05\u001b[39m, \u001b[39m# most interesting in range 3-8 (out of 80)\u001b[39;00m\n\u001b[1;32m      8\u001b[0m     K_semantic \u001b[39m=\u001b[39m \u001b[39m1\u001b[39m, \u001b[39m# either 1 or up to 8 to capture all sem similar\u001b[39;00m\n\u001b[1;32m      9\u001b[0m     only_keep_negative_components \u001b[39m=\u001b[39m \u001b[39mTrue\u001b[39;00m,\n\u001b[1;32m     10\u001b[0m     semantic_dict \u001b[39m=\u001b[39m cspa_semantic_dict,\n\u001b[1;32m     11\u001b[0m     result_mean \u001b[39m=\u001b[39m result_mean,\n\u001b[1;32m     12\u001b[0m     use_cuda \u001b[39m=\u001b[39m \u001b[39mFalse\u001b[39;00m,\n\u001b[1;32m     13\u001b[0m     verbose \u001b[39m=\u001b[39m \u001b[39mTrue\u001b[39;00m,\n\u001b[1;32m     14\u001b[0m     compute_s_sstar_dict \u001b[39m=\u001b[39m \u001b[39mFalse\u001b[39;00m,\n\u001b[1;32m     15\u001b[0m )\n\u001b[1;32m     17\u001b[0m \u001b[39m# fig_dict = generate_scatter(cspa_results_qk_ov, DATA_STR_TOKS_PARSED, batch_index_colors_to_highlight=[51, 300])\u001b[39;00m\n\u001b[1;32m     18\u001b[0m fig_loss_line \u001b[39m=\u001b[39m generate_loss_based_scatter(cspa_results_qk_ov, nbins\u001b[39m=\u001b[39m\u001b[39m200\u001b[39m, values\u001b[39m=\u001b[39m\u001b[39m\"\u001b[39m\u001b[39mloss\u001b[39m\u001b[39m\"\u001b[39m)\n",
      "\u001b[0;31mNameError\u001b[0m: name 'get_cspa_results_batched' is not defined"
     ]
    }
   ],
   "source": [
    "cspa_results_qk_ov = get_cspa_results_batched(\n",
    "    model = model,\n",
    "    toks = DATA_TOKS[:, :], # [:50],\n",
    "    max_batch_size = 5, # 50,\n",
    "    negative_head = (10, 7),\n",
    "    interventions = [\"qk\", \"ov\"],\n",
    "    K_unembeddings = 0.05, # most interesting in range 3-8 (out of 80)\n",
    "    K_semantic = 1, # either 1 or up to 8 to capture all sem similar\n",
    "    only_keep_negative_components = True,\n",
    "    semantic_dict = cspa_semantic_dict,\n",
    "    result_mean = result_mean,\n",
    "    use_cuda = False,\n",
    "    verbose = True,\n",
    "    compute_s_sstar_dict = False,\n",
    ")\n",
    "\n",
    "# fig_dict = generate_scatter(cspa_results_qk_ov, DATA_STR_TOKS_PARSED, batch_index_colors_to_highlight=[51, 300])\n",
    "fig_loss_line = generate_loss_based_scatter(cspa_results_qk_ov, nbins=200, values=\"loss\")\n",
    "fig_loss_line_kl = generate_loss_based_scatter(cspa_results_qk_ov, nbins=200, values=\"kl-div\")\n",
    "\n",
    "kl_div_ablated_to_orig = cspa_results_qk_ov[\"kl_div_ablated_to_orig\"].mean()\n",
    "kl_div_cspa_to_orig = cspa_results_qk_ov[\"kl_div_cspa_to_orig\"].mean()\n",
    "\n",
    "print(f\"Mean KL divergence from ablated to original: {kl_div_ablated_to_orig:.4f}\")\n",
    "print(f\"Mean KL divergence from CSPA to original: {kl_div_cspa_to_orig:.4f}\")\n",
    "print(f\"Ratio = {kl_div_cspa_to_orig / kl_div_ablated_to_orig:.3f}\")\n",
    "print(f\"Performance explained = {1 - kl_div_cspa_to_orig / kl_div_ablated_to_orig:.3f}\")\n",
    "ma_max = fig_loss_line_kl.data[0].x[-1]\n",
    "cspa_max = fig_loss_line_kl.data[0].y[-1]\n",
    "print(f\"Most extreme quantile: fraction explained = 1 - ({cspa_max:.3f}/{ma_max:.3f}) = {1 - cspa_max/ma_max:.3f}\")"
   ]
  },
  {
   "attachments": {},
   "cell_type": "markdown",
   "metadata": {},
   "source": [
    "# How well does this metric do for other heads?"
   ]
  },
  {
   "cell_type": "code",
   "execution_count": 20,
   "metadata": {},
   "outputs": [
    {
     "name": "stderr",
     "output_type": "stream",
     "text": [
      " 20%|██        | 2/10 [00:00<00:00, 13.86it/s]"
     ]
    },
    {
     "name": "stderr",
     "output_type": "stream",
     "text": [
      "100%|██████████| 10/10 [00:01<00:00,  8.06it/s]\n"
     ]
    }
   ],
   "source": [
    "result_mean = get_result_mean([\n",
    "    (layer, head)\n",
    "    for layer in [8, 9, 10, 11] for head in range(12)\n",
    "], DATA_TOKS[:100, :], model, verbose=True)\n",
    "\n",
    "# result_mean = get_result_mean([(10, 7), (11, 10)], DATA_TOKS[:100, :], model, verbose=True)"
   ]
  },
  {
   "cell_type": "code",
   "execution_count": 21,
   "metadata": {},
   "outputs": [
    {
     "data": {
      "application/vnd.jupyter.widget-view+json": {
       "model_id": "3a03ceecbc5d4f4a8f00dfce7772a941",
       "version_major": 2,
       "version_minor": 0
      },
      "text/plain": [
       "  0%|          | 0/48 [00:00<?, ?it/s]"
      ]
     },
     "metadata": {},
     "output_type": "display_data"
    },
    {
     "data": {
      "application/vnd.jupyter.widget-view+json": {
       "model_id": "a66a7f0ac6b64733a899dc86a3f44d9f",
       "version_major": 2,
       "version_minor": 0
      },
      "text/plain": [
       "  0%|          | 0/48 [00:00<?, ?it/s]"
      ]
     },
     "metadata": {},
     "output_type": "display_data"
    }
   ],
   "source": [
    "kl_results = t.zeros(2, 4, 12).to(device)\n",
    "loss_results = kl_results.clone()\n",
    "normed_loss_results = kl_results.clone()\n",
    "non_normed_loss_results = kl_results.clone()\n",
    "squared_loss_results = kl_results.clone()\n",
    "\n",
    "for i, only_keep_negative_components in enumerate([True, False]):\n",
    "\n",
    "    for layer, head in tqdm(list(itertools.product([8, 9, 10, 11], range(12)))):\n",
    "\n",
    "        cspa_results_qk_ov = get_cspa_results_batched(\n",
    "            model = model,\n",
    "            toks = DATA_TOKS[:50, :200], # [:50],\n",
    "            max_batch_size = 1, # 50,\n",
    "            negative_head = (layer, head),\n",
    "            interventions = [\"qk\", \"ov\"],\n",
    "            K_unembeddings = 0.05, # most interesting in range 3-8 (out of 80)\n",
    "            K_semantic = 1, # either 1 or up to 8 to capture all sem similar\n",
    "            only_keep_negative_components = only_keep_negative_components,\n",
    "            semantic_dict = cspa_semantic_dict,\n",
    "            result_mean = result_mean,\n",
    "            use_cuda = True,\n",
    "            verbose = False,\n",
    "            compute_s_sstar_dict = False,\n",
    "        )\n",
    "\n",
    "        kl_div_ablated_to_orig = cspa_results_qk_ov[\"kl_div_ablated_to_orig\"].mean().item()\n",
    "        kl_div_cspa_to_orig = cspa_results_qk_ov[\"kl_div_cspa_to_orig\"].mean().item()\n",
    "\n",
    "        diff_of_loss_ablated_to_orig = (cspa_results_qk_ov[\"loss_ablated\"] - cspa_results_qk_ov[\"loss\"])\n",
    "        squared_loss_diff = (diff_of_loss_ablated_to_orig**2).mean().item()\n",
    "        normed_loss_diff = diff_of_loss_ablated_to_orig.abs().mean().item()\n",
    "        non_normed_loss_diff = diff_of_loss_ablated_to_orig.mean().item()\n",
    "\n",
    "        diff_of_loss_cspa_to_orig = (cspa_results_qk_ov[\"loss_cspa\"] - cspa_results_qk_ov[\"loss\"])\n",
    "        normed_cspa_loss_diff = diff_of_loss_cspa_to_orig.abs().mean().item() \n",
    "        squared_cspa_loss_diff = (diff_of_loss_cspa_to_orig**2).mean().item()\n",
    "        non_normed_cspa_loss_diff = diff_of_loss_cspa_to_orig.mean().item()\n",
    "\n",
    "        kl_performance_explained = 1 - kl_div_cspa_to_orig / kl_div_ablated_to_orig\n",
    "        kl_results[i, layer - 8, head] = kl_performance_explained\n",
    "\n",
    "        normed_loss_performance_explained = 1 - normed_cspa_loss_diff / normed_loss_diff\n",
    "        normed_loss_results[i, layer - 8, head] = normed_loss_performance_explained\n",
    "\n",
    "        squared_loss_performance_explained = 1 - squared_cspa_loss_diff / squared_loss_diff\n",
    "        squared_loss_results[i, layer - 8, head] = squared_loss_performance_explained\n",
    "\n",
    "        non_normed_loss_performance_explained = 1 - non_normed_cspa_loss_diff / non_normed_loss_diff\n",
    "        non_normed_loss_results[i, layer - 8, head] = non_normed_loss_performance_explained"
   ]
  },
  {
   "cell_type": "code",
   "execution_count": 22,
   "metadata": {},
   "outputs": [
    {
     "data": {
      "application/vnd.plotly.v1+json": {
       "config": {
        "displaylogo": false,
        "plotlyServerURL": "https://plot.ly"
       },
       "data": [
        {
         "coloraxis": "coloraxis",
         "hovertemplate": "Head: %{x}<br>Layer: %{y}<br>color: %{z}<extra></extra>",
         "name": "0",
         "texttemplate": "%{z:.2f}",
         "type": "heatmap",
         "xaxis": "x",
         "y": [
          "8",
          "9",
          "10",
          "11"
         ],
         "yaxis": "y",
         "z": [
          [
           0.005080071277916431,
           -4.2159109625572455e-7,
           0.00006235080218175426,
           -0.0015096819261088967,
           -0.00008104266453301534,
           -0.0002534658124204725,
           -0.000029446118787745945,
           0.000051460941904224455,
           0.000035369277611607686,
           0.012428035028278828,
           0.17552748322486877,
           0.000026946701837005094
          ],
          [
           0.0002696999872568995,
           0.00007398694287985563,
           0.000014644244402006734,
           0.0001333756954409182,
           0.0021069939248263836,
           0.12340734153985977,
           0.000020179310013190843,
           -0.0002713915309868753,
           0.00004689011620939709,
           0.000010690997441997752,
           0.0002899629471357912,
           0.000017585931345820427
          ],
          [
           0.00002802426206471864,
           0.00004965037078363821,
           0.00018210482085123658,
           0.001395439961925149,
           0.004603157751262188,
           0.000029610871933982708,
           0.000043991349230054766,
           0.7640474438667297,
           0.0005073047359474003,
           0.0003737590741366148,
           0.00004995505514671095,
           0.00003097474473179318
          ],
          [
           0.02791786380112171,
           0.000368503388017416,
           0.0000273712557827821,
           0.000024615605070721358,
           0.006927180103957653,
           0.0028630623128265142,
           0.00022400962188839912,
           0.0003469655348453671,
           -0.003764719469472766,
           0.00043341261334717274,
           0.5863311290740967,
           0.0002479123941157013
          ]
         ]
        },
        {
         "coloraxis": "coloraxis",
         "hovertemplate": "Head: %{x}<br>Layer: %{y}<br>color: %{z}<extra></extra>",
         "name": "1",
         "texttemplate": "%{z:.2f}",
         "type": "heatmap",
         "xaxis": "x2",
         "y": [
          "8",
          "9",
          "10",
          "11"
         ],
         "yaxis": "y2",
         "z": [
          [
           0.0076129441149532795,
           0.31901276111602783,
           0.06353022158145905,
           0.07230621576309204,
           0.009324140846729279,
           0.012039278633892536,
           0.29906031489372253,
           0.008603822439908981,
           0.17924033105373383,
           0.014933764934539795,
           0.17553013563156128,
           0.24084419012069702
          ],
          [
           0.21369796991348267,
           0.3907816708087921,
           0.25656139850616455,
           0.026168931275606155,
           0.030524082481861115,
           0.12350988388061523,
           0.5173426866531372,
           0.08122677356004715,
           0.24901176989078522,
           0.46283307671546936,
           0.005453905090689659,
           0.37083643674850464
          ],
          [
           0.5837612748146057,
           0.5450735688209534,
           0.5251592993736267,
           0.39495649933815,
           0.0817766785621643,
           0.0037643222603946924,
           0.4949793219566345,
           0.7640480995178223,
           0.27174389362335205,
           0.03000166267156601,
           0.5619081854820251,
           0.21512864530086517
          ],
          [
           0.030616119503974915,
           0.3798784017562866,
           0.5533565878868103,
           0.06139140576124191,
           0.334795743227005,
           0.34135350584983826,
           0.47742366790771484,
           0.40127453207969666,
           -0.00026864552637562156,
           0.3850401043891907,
           0.5863692164421082,
           0.11072548478841782
          ]
         ]
        }
       ],
       "layout": {
        "annotations": [
         {
          "font": {},
          "showarrow": false,
          "text": "Only keep negative components",
          "x": 0.245,
          "xanchor": "center",
          "xref": "paper",
          "y": 1,
          "yanchor": "bottom",
          "yref": "paper"
         },
         {
          "font": {},
          "showarrow": false,
          "text": "Keep negative and positive components",
          "x": 0.755,
          "xanchor": "center",
          "xref": "paper",
          "y": 1,
          "yanchor": "bottom",
          "yref": "paper"
         }
        ],
        "coloraxis": {
         "cmax": 1,
         "cmid": 0,
         "cmin": 0,
         "colorscale": [
          [
           0,
           "rgb(247,251,255)"
          ],
          [
           0.125,
           "rgb(222,235,247)"
          ],
          [
           0.25,
           "rgb(198,219,239)"
          ],
          [
           0.375,
           "rgb(158,202,225)"
          ],
          [
           0.5,
           "rgb(107,174,214)"
          ],
          [
           0.625,
           "rgb(66,146,198)"
          ],
          [
           0.75,
           "rgb(33,113,181)"
          ],
          [
           0.875,
           "rgb(8,81,156)"
          ],
          [
           1,
           "rgb(8,48,107)"
          ]
         ]
        },
        "height": 450,
        "modebar": {
         "add": [
          "drawline",
          "drawopenpath",
          "drawclosedpath",
          "drawcircle",
          "drawrect",
          "eraseshape"
         ]
        },
        "template": {
         "data": {
          "bar": [
           {
            "error_x": {
             "color": "#2a3f5f"
            },
            "error_y": {
             "color": "#2a3f5f"
            },
            "marker": {
             "line": {
              "color": "#E5ECF6",
              "width": 0.5
             },
             "pattern": {
              "fillmode": "overlay",
              "size": 10,
              "solidity": 0.2
             }
            },
            "type": "bar"
           }
          ],
          "barpolar": [
           {
            "marker": {
             "line": {
              "color": "#E5ECF6",
              "width": 0.5
             },
             "pattern": {
              "fillmode": "overlay",
              "size": 10,
              "solidity": 0.2
             }
            },
            "type": "barpolar"
           }
          ],
          "carpet": [
           {
            "aaxis": {
             "endlinecolor": "#2a3f5f",
             "gridcolor": "white",
             "linecolor": "white",
             "minorgridcolor": "white",
             "startlinecolor": "#2a3f5f"
            },
            "baxis": {
             "endlinecolor": "#2a3f5f",
             "gridcolor": "white",
             "linecolor": "white",
             "minorgridcolor": "white",
             "startlinecolor": "#2a3f5f"
            },
            "type": "carpet"
           }
          ],
          "choropleth": [
           {
            "colorbar": {
             "outlinewidth": 0,
             "ticks": ""
            },
            "type": "choropleth"
           }
          ],
          "contour": [
           {
            "colorbar": {
             "outlinewidth": 0,
             "ticks": ""
            },
            "colorscale": [
             [
              0,
              "#0d0887"
             ],
             [
              0.1111111111111111,
              "#46039f"
             ],
             [
              0.2222222222222222,
              "#7201a8"
             ],
             [
              0.3333333333333333,
              "#9c179e"
             ],
             [
              0.4444444444444444,
              "#bd3786"
             ],
             [
              0.5555555555555556,
              "#d8576b"
             ],
             [
              0.6666666666666666,
              "#ed7953"
             ],
             [
              0.7777777777777778,
              "#fb9f3a"
             ],
             [
              0.8888888888888888,
              "#fdca26"
             ],
             [
              1,
              "#f0f921"
             ]
            ],
            "type": "contour"
           }
          ],
          "contourcarpet": [
           {
            "colorbar": {
             "outlinewidth": 0,
             "ticks": ""
            },
            "type": "contourcarpet"
           }
          ],
          "heatmap": [
           {
            "colorbar": {
             "outlinewidth": 0,
             "ticks": ""
            },
            "colorscale": [
             [
              0,
              "#0d0887"
             ],
             [
              0.1111111111111111,
              "#46039f"
             ],
             [
              0.2222222222222222,
              "#7201a8"
             ],
             [
              0.3333333333333333,
              "#9c179e"
             ],
             [
              0.4444444444444444,
              "#bd3786"
             ],
             [
              0.5555555555555556,
              "#d8576b"
             ],
             [
              0.6666666666666666,
              "#ed7953"
             ],
             [
              0.7777777777777778,
              "#fb9f3a"
             ],
             [
              0.8888888888888888,
              "#fdca26"
             ],
             [
              1,
              "#f0f921"
             ]
            ],
            "type": "heatmap"
           }
          ],
          "heatmapgl": [
           {
            "colorbar": {
             "outlinewidth": 0,
             "ticks": ""
            },
            "colorscale": [
             [
              0,
              "#0d0887"
             ],
             [
              0.1111111111111111,
              "#46039f"
             ],
             [
              0.2222222222222222,
              "#7201a8"
             ],
             [
              0.3333333333333333,
              "#9c179e"
             ],
             [
              0.4444444444444444,
              "#bd3786"
             ],
             [
              0.5555555555555556,
              "#d8576b"
             ],
             [
              0.6666666666666666,
              "#ed7953"
             ],
             [
              0.7777777777777778,
              "#fb9f3a"
             ],
             [
              0.8888888888888888,
              "#fdca26"
             ],
             [
              1,
              "#f0f921"
             ]
            ],
            "type": "heatmapgl"
           }
          ],
          "histogram": [
           {
            "marker": {
             "pattern": {
              "fillmode": "overlay",
              "size": 10,
              "solidity": 0.2
             }
            },
            "type": "histogram"
           }
          ],
          "histogram2d": [
           {
            "colorbar": {
             "outlinewidth": 0,
             "ticks": ""
            },
            "colorscale": [
             [
              0,
              "#0d0887"
             ],
             [
              0.1111111111111111,
              "#46039f"
             ],
             [
              0.2222222222222222,
              "#7201a8"
             ],
             [
              0.3333333333333333,
              "#9c179e"
             ],
             [
              0.4444444444444444,
              "#bd3786"
             ],
             [
              0.5555555555555556,
              "#d8576b"
             ],
             [
              0.6666666666666666,
              "#ed7953"
             ],
             [
              0.7777777777777778,
              "#fb9f3a"
             ],
             [
              0.8888888888888888,
              "#fdca26"
             ],
             [
              1,
              "#f0f921"
             ]
            ],
            "type": "histogram2d"
           }
          ],
          "histogram2dcontour": [
           {
            "colorbar": {
             "outlinewidth": 0,
             "ticks": ""
            },
            "colorscale": [
             [
              0,
              "#0d0887"
             ],
             [
              0.1111111111111111,
              "#46039f"
             ],
             [
              0.2222222222222222,
              "#7201a8"
             ],
             [
              0.3333333333333333,
              "#9c179e"
             ],
             [
              0.4444444444444444,
              "#bd3786"
             ],
             [
              0.5555555555555556,
              "#d8576b"
             ],
             [
              0.6666666666666666,
              "#ed7953"
             ],
             [
              0.7777777777777778,
              "#fb9f3a"
             ],
             [
              0.8888888888888888,
              "#fdca26"
             ],
             [
              1,
              "#f0f921"
             ]
            ],
            "type": "histogram2dcontour"
           }
          ],
          "mesh3d": [
           {
            "colorbar": {
             "outlinewidth": 0,
             "ticks": ""
            },
            "type": "mesh3d"
           }
          ],
          "parcoords": [
           {
            "line": {
             "colorbar": {
              "outlinewidth": 0,
              "ticks": ""
             }
            },
            "type": "parcoords"
           }
          ],
          "pie": [
           {
            "automargin": true,
            "type": "pie"
           }
          ],
          "scatter": [
           {
            "fillpattern": {
             "fillmode": "overlay",
             "size": 10,
             "solidity": 0.2
            },
            "type": "scatter"
           }
          ],
          "scatter3d": [
           {
            "line": {
             "colorbar": {
              "outlinewidth": 0,
              "ticks": ""
             }
            },
            "marker": {
             "colorbar": {
              "outlinewidth": 0,
              "ticks": ""
             }
            },
            "type": "scatter3d"
           }
          ],
          "scattercarpet": [
           {
            "marker": {
             "colorbar": {
              "outlinewidth": 0,
              "ticks": ""
             }
            },
            "type": "scattercarpet"
           }
          ],
          "scattergeo": [
           {
            "marker": {
             "colorbar": {
              "outlinewidth": 0,
              "ticks": ""
             }
            },
            "type": "scattergeo"
           }
          ],
          "scattergl": [
           {
            "marker": {
             "colorbar": {
              "outlinewidth": 0,
              "ticks": ""
             }
            },
            "type": "scattergl"
           }
          ],
          "scattermapbox": [
           {
            "marker": {
             "colorbar": {
              "outlinewidth": 0,
              "ticks": ""
             }
            },
            "type": "scattermapbox"
           }
          ],
          "scatterpolar": [
           {
            "marker": {
             "colorbar": {
              "outlinewidth": 0,
              "ticks": ""
             }
            },
            "type": "scatterpolar"
           }
          ],
          "scatterpolargl": [
           {
            "marker": {
             "colorbar": {
              "outlinewidth": 0,
              "ticks": ""
             }
            },
            "type": "scatterpolargl"
           }
          ],
          "scatterternary": [
           {
            "marker": {
             "colorbar": {
              "outlinewidth": 0,
              "ticks": ""
             }
            },
            "type": "scatterternary"
           }
          ],
          "surface": [
           {
            "colorbar": {
             "outlinewidth": 0,
             "ticks": ""
            },
            "colorscale": [
             [
              0,
              "#0d0887"
             ],
             [
              0.1111111111111111,
              "#46039f"
             ],
             [
              0.2222222222222222,
              "#7201a8"
             ],
             [
              0.3333333333333333,
              "#9c179e"
             ],
             [
              0.4444444444444444,
              "#bd3786"
             ],
             [
              0.5555555555555556,
              "#d8576b"
             ],
             [
              0.6666666666666666,
              "#ed7953"
             ],
             [
              0.7777777777777778,
              "#fb9f3a"
             ],
             [
              0.8888888888888888,
              "#fdca26"
             ],
             [
              1,
              "#f0f921"
             ]
            ],
            "type": "surface"
           }
          ],
          "table": [
           {
            "cells": {
             "fill": {
              "color": "#EBF0F8"
             },
             "line": {
              "color": "white"
             }
            },
            "header": {
             "fill": {
              "color": "#C8D4E3"
             },
             "line": {
              "color": "white"
             }
            },
            "type": "table"
           }
          ]
         },
         "layout": {
          "annotationdefaults": {
           "arrowcolor": "#2a3f5f",
           "arrowhead": 0,
           "arrowwidth": 1
          },
          "autotypenumbers": "strict",
          "coloraxis": {
           "colorbar": {
            "outlinewidth": 0,
            "ticks": ""
           }
          },
          "colorscale": {
           "diverging": [
            [
             0,
             "#8e0152"
            ],
            [
             0.1,
             "#c51b7d"
            ],
            [
             0.2,
             "#de77ae"
            ],
            [
             0.3,
             "#f1b6da"
            ],
            [
             0.4,
             "#fde0ef"
            ],
            [
             0.5,
             "#f7f7f7"
            ],
            [
             0.6,
             "#e6f5d0"
            ],
            [
             0.7,
             "#b8e186"
            ],
            [
             0.8,
             "#7fbc41"
            ],
            [
             0.9,
             "#4d9221"
            ],
            [
             1,
             "#276419"
            ]
           ],
           "sequential": [
            [
             0,
             "#0d0887"
            ],
            [
             0.1111111111111111,
             "#46039f"
            ],
            [
             0.2222222222222222,
             "#7201a8"
            ],
            [
             0.3333333333333333,
             "#9c179e"
            ],
            [
             0.4444444444444444,
             "#bd3786"
            ],
            [
             0.5555555555555556,
             "#d8576b"
            ],
            [
             0.6666666666666666,
             "#ed7953"
            ],
            [
             0.7777777777777778,
             "#fb9f3a"
            ],
            [
             0.8888888888888888,
             "#fdca26"
            ],
            [
             1,
             "#f0f921"
            ]
           ],
           "sequentialminus": [
            [
             0,
             "#0d0887"
            ],
            [
             0.1111111111111111,
             "#46039f"
            ],
            [
             0.2222222222222222,
             "#7201a8"
            ],
            [
             0.3333333333333333,
             "#9c179e"
            ],
            [
             0.4444444444444444,
             "#bd3786"
            ],
            [
             0.5555555555555556,
             "#d8576b"
            ],
            [
             0.6666666666666666,
             "#ed7953"
            ],
            [
             0.7777777777777778,
             "#fb9f3a"
            ],
            [
             0.8888888888888888,
             "#fdca26"
            ],
            [
             1,
             "#f0f921"
            ]
           ]
          },
          "colorway": [
           "#636efa",
           "#EF553B",
           "#00cc96",
           "#ab63fa",
           "#FFA15A",
           "#19d3f3",
           "#FF6692",
           "#B6E880",
           "#FF97FF",
           "#FECB52"
          ],
          "font": {
           "color": "#2a3f5f"
          },
          "geo": {
           "bgcolor": "white",
           "lakecolor": "white",
           "landcolor": "#E5ECF6",
           "showlakes": true,
           "showland": true,
           "subunitcolor": "white"
          },
          "hoverlabel": {
           "align": "left"
          },
          "hovermode": "closest",
          "mapbox": {
           "style": "light"
          },
          "paper_bgcolor": "white",
          "plot_bgcolor": "#E5ECF6",
          "polar": {
           "angularaxis": {
            "gridcolor": "white",
            "linecolor": "white",
            "ticks": ""
           },
           "bgcolor": "#E5ECF6",
           "radialaxis": {
            "gridcolor": "white",
            "linecolor": "white",
            "ticks": ""
           }
          },
          "scene": {
           "xaxis": {
            "backgroundcolor": "#E5ECF6",
            "gridcolor": "white",
            "gridwidth": 2,
            "linecolor": "white",
            "showbackground": true,
            "ticks": "",
            "zerolinecolor": "white"
           },
           "yaxis": {
            "backgroundcolor": "#E5ECF6",
            "gridcolor": "white",
            "gridwidth": 2,
            "linecolor": "white",
            "showbackground": true,
            "ticks": "",
            "zerolinecolor": "white"
           },
           "zaxis": {
            "backgroundcolor": "#E5ECF6",
            "gridcolor": "white",
            "gridwidth": 2,
            "linecolor": "white",
            "showbackground": true,
            "ticks": "",
            "zerolinecolor": "white"
           }
          },
          "shapedefaults": {
           "line": {
            "color": "#2a3f5f"
           }
          },
          "ternary": {
           "aaxis": {
            "gridcolor": "white",
            "linecolor": "white",
            "ticks": ""
           },
           "baxis": {
            "gridcolor": "white",
            "linecolor": "white",
            "ticks": ""
           },
           "bgcolor": "#E5ECF6",
           "caxis": {
            "gridcolor": "white",
            "linecolor": "white",
            "ticks": ""
           }
          },
          "title": {
           "x": 0.05
          },
          "xaxis": {
           "automargin": true,
           "gridcolor": "white",
           "linecolor": "white",
           "ticks": "",
           "title": {
            "standoff": 15
           },
           "zerolinecolor": "white",
           "zerolinewidth": 2
          },
          "yaxis": {
           "automargin": true,
           "gridcolor": "white",
           "linecolor": "white",
           "ticks": "",
           "title": {
            "standoff": 15
           },
           "zerolinecolor": "white",
           "zerolinewidth": 2
          }
         }
        },
        "title": {
         "text": "KL performance of head explained by CSPA"
        },
        "width": 1800,
        "xaxis": {
         "anchor": "y",
         "domain": [
          0,
          0.49
         ],
         "title": {
          "text": "Head"
         }
        },
        "xaxis2": {
         "anchor": "y2",
         "domain": [
          0.51,
          1
         ],
         "matches": "x",
         "title": {
          "text": "Head"
         }
        },
        "yaxis": {
         "anchor": "x",
         "autorange": "reversed",
         "domain": [
          0,
          1
         ],
         "title": {
          "text": "Layer"
         }
        },
        "yaxis2": {
         "anchor": "x2",
         "domain": [
          0,
          1
         ],
         "matches": "y",
         "showticklabels": false
        }
       }
      },
      "text/html": [
       "<div>                            <div id=\"1cee169d-7892-480e-a0d8-6833d9f4a0d7\" class=\"plotly-graph-div\" style=\"height:450px; width:1800px;\"></div>            <script type=\"text/javascript\">                require([\"plotly\"], function(Plotly) {                    window.PLOTLYENV=window.PLOTLYENV || {};                                    if (document.getElementById(\"1cee169d-7892-480e-a0d8-6833d9f4a0d7\")) {                    Plotly.newPlot(                        \"1cee169d-7892-480e-a0d8-6833d9f4a0d7\",                        [{\"coloraxis\":\"coloraxis\",\"name\":\"0\",\"texttemplate\":\"%{z:.2f}\",\"y\":[\"8\",\"9\",\"10\",\"11\"],\"z\":[[0.005080071277916431,-4.2159109625572455e-07,6.235080218175426e-05,-0.0015096819261088967,-8.104266453301534e-05,-0.0002534658124204725,-2.9446118787745945e-05,5.1460941904224455e-05,3.5369277611607686e-05,0.012428035028278828,0.17552748322486877,2.6946701837005094e-05],[0.0002696999872568995,7.398694287985563e-05,1.4644244402006734e-05,0.0001333756954409182,0.0021069939248263836,0.12340734153985977,2.0179310013190843e-05,-0.0002713915309868753,4.689011620939709e-05,1.0690997441997752e-05,0.0002899629471357912,1.7585931345820427e-05],[2.802426206471864e-05,4.965037078363821e-05,0.00018210482085123658,0.001395439961925149,0.004603157751262188,2.9610871933982708e-05,4.3991349230054766e-05,0.7640474438667297,0.0005073047359474003,0.0003737590741366148,4.995505514671095e-05,3.097474473179318e-05],[0.02791786380112171,0.000368503388017416,2.73712557827821e-05,2.4615605070721358e-05,0.006927180103957653,0.0028630623128265142,0.00022400962188839912,0.0003469655348453671,-0.003764719469472766,0.00043341261334717274,0.5863311290740967,0.0002479123941157013]],\"type\":\"heatmap\",\"xaxis\":\"x\",\"yaxis\":\"y\",\"hovertemplate\":\"Head: %{x}\\u003cbr\\u003eLayer: %{y}\\u003cbr\\u003ecolor: %{z}\\u003cextra\\u003e\\u003c\\u002fextra\\u003e\"},{\"coloraxis\":\"coloraxis\",\"name\":\"1\",\"texttemplate\":\"%{z:.2f}\",\"y\":[\"8\",\"9\",\"10\",\"11\"],\"z\":[[0.0076129441149532795,0.31901276111602783,0.06353022158145905,0.07230621576309204,0.009324140846729279,0.012039278633892536,0.29906031489372253,0.008603822439908981,0.17924033105373383,0.014933764934539795,0.17553013563156128,0.24084419012069702],[0.21369796991348267,0.3907816708087921,0.25656139850616455,0.026168931275606155,0.030524082481861115,0.12350988388061523,0.5173426866531372,0.08122677356004715,0.24901176989078522,0.46283307671546936,0.005453905090689659,0.37083643674850464],[0.5837612748146057,0.5450735688209534,0.5251592993736267,0.39495649933815,0.0817766785621643,0.0037643222603946924,0.4949793219566345,0.7640480995178223,0.27174389362335205,0.03000166267156601,0.5619081854820251,0.21512864530086517],[0.030616119503974915,0.3798784017562866,0.5533565878868103,0.06139140576124191,0.334795743227005,0.34135350584983826,0.47742366790771484,0.40127453207969666,-0.00026864552637562156,0.3850401043891907,0.5863692164421082,0.11072548478841782]],\"type\":\"heatmap\",\"xaxis\":\"x2\",\"yaxis\":\"y2\",\"hovertemplate\":\"Head: %{x}\\u003cbr\\u003eLayer: %{y}\\u003cbr\\u003ecolor: %{z}\\u003cextra\\u003e\\u003c\\u002fextra\\u003e\"}],                        {\"template\":{\"data\":{\"histogram2dcontour\":[{\"type\":\"histogram2dcontour\",\"colorbar\":{\"outlinewidth\":0,\"ticks\":\"\"},\"colorscale\":[[0.0,\"#0d0887\"],[0.1111111111111111,\"#46039f\"],[0.2222222222222222,\"#7201a8\"],[0.3333333333333333,\"#9c179e\"],[0.4444444444444444,\"#bd3786\"],[0.5555555555555556,\"#d8576b\"],[0.6666666666666666,\"#ed7953\"],[0.7777777777777778,\"#fb9f3a\"],[0.8888888888888888,\"#fdca26\"],[1.0,\"#f0f921\"]]}],\"choropleth\":[{\"type\":\"choropleth\",\"colorbar\":{\"outlinewidth\":0,\"ticks\":\"\"}}],\"histogram2d\":[{\"type\":\"histogram2d\",\"colorbar\":{\"outlinewidth\":0,\"ticks\":\"\"},\"colorscale\":[[0.0,\"#0d0887\"],[0.1111111111111111,\"#46039f\"],[0.2222222222222222,\"#7201a8\"],[0.3333333333333333,\"#9c179e\"],[0.4444444444444444,\"#bd3786\"],[0.5555555555555556,\"#d8576b\"],[0.6666666666666666,\"#ed7953\"],[0.7777777777777778,\"#fb9f3a\"],[0.8888888888888888,\"#fdca26\"],[1.0,\"#f0f921\"]]}],\"heatmap\":[{\"type\":\"heatmap\",\"colorbar\":{\"outlinewidth\":0,\"ticks\":\"\"},\"colorscale\":[[0.0,\"#0d0887\"],[0.1111111111111111,\"#46039f\"],[0.2222222222222222,\"#7201a8\"],[0.3333333333333333,\"#9c179e\"],[0.4444444444444444,\"#bd3786\"],[0.5555555555555556,\"#d8576b\"],[0.6666666666666666,\"#ed7953\"],[0.7777777777777778,\"#fb9f3a\"],[0.8888888888888888,\"#fdca26\"],[1.0,\"#f0f921\"]]}],\"heatmapgl\":[{\"type\":\"heatmapgl\",\"colorbar\":{\"outlinewidth\":0,\"ticks\":\"\"},\"colorscale\":[[0.0,\"#0d0887\"],[0.1111111111111111,\"#46039f\"],[0.2222222222222222,\"#7201a8\"],[0.3333333333333333,\"#9c179e\"],[0.4444444444444444,\"#bd3786\"],[0.5555555555555556,\"#d8576b\"],[0.6666666666666666,\"#ed7953\"],[0.7777777777777778,\"#fb9f3a\"],[0.8888888888888888,\"#fdca26\"],[1.0,\"#f0f921\"]]}],\"contourcarpet\":[{\"type\":\"contourcarpet\",\"colorbar\":{\"outlinewidth\":0,\"ticks\":\"\"}}],\"contour\":[{\"type\":\"contour\",\"colorbar\":{\"outlinewidth\":0,\"ticks\":\"\"},\"colorscale\":[[0.0,\"#0d0887\"],[0.1111111111111111,\"#46039f\"],[0.2222222222222222,\"#7201a8\"],[0.3333333333333333,\"#9c179e\"],[0.4444444444444444,\"#bd3786\"],[0.5555555555555556,\"#d8576b\"],[0.6666666666666666,\"#ed7953\"],[0.7777777777777778,\"#fb9f3a\"],[0.8888888888888888,\"#fdca26\"],[1.0,\"#f0f921\"]]}],\"surface\":[{\"type\":\"surface\",\"colorbar\":{\"outlinewidth\":0,\"ticks\":\"\"},\"colorscale\":[[0.0,\"#0d0887\"],[0.1111111111111111,\"#46039f\"],[0.2222222222222222,\"#7201a8\"],[0.3333333333333333,\"#9c179e\"],[0.4444444444444444,\"#bd3786\"],[0.5555555555555556,\"#d8576b\"],[0.6666666666666666,\"#ed7953\"],[0.7777777777777778,\"#fb9f3a\"],[0.8888888888888888,\"#fdca26\"],[1.0,\"#f0f921\"]]}],\"mesh3d\":[{\"type\":\"mesh3d\",\"colorbar\":{\"outlinewidth\":0,\"ticks\":\"\"}}],\"scatter\":[{\"fillpattern\":{\"fillmode\":\"overlay\",\"size\":10,\"solidity\":0.2},\"type\":\"scatter\"}],\"parcoords\":[{\"type\":\"parcoords\",\"line\":{\"colorbar\":{\"outlinewidth\":0,\"ticks\":\"\"}}}],\"scatterpolargl\":[{\"type\":\"scatterpolargl\",\"marker\":{\"colorbar\":{\"outlinewidth\":0,\"ticks\":\"\"}}}],\"bar\":[{\"error_x\":{\"color\":\"#2a3f5f\"},\"error_y\":{\"color\":\"#2a3f5f\"},\"marker\":{\"line\":{\"color\":\"#E5ECF6\",\"width\":0.5},\"pattern\":{\"fillmode\":\"overlay\",\"size\":10,\"solidity\":0.2}},\"type\":\"bar\"}],\"scattergeo\":[{\"type\":\"scattergeo\",\"marker\":{\"colorbar\":{\"outlinewidth\":0,\"ticks\":\"\"}}}],\"scatterpolar\":[{\"type\":\"scatterpolar\",\"marker\":{\"colorbar\":{\"outlinewidth\":0,\"ticks\":\"\"}}}],\"histogram\":[{\"marker\":{\"pattern\":{\"fillmode\":\"overlay\",\"size\":10,\"solidity\":0.2}},\"type\":\"histogram\"}],\"scattergl\":[{\"type\":\"scattergl\",\"marker\":{\"colorbar\":{\"outlinewidth\":0,\"ticks\":\"\"}}}],\"scatter3d\":[{\"type\":\"scatter3d\",\"line\":{\"colorbar\":{\"outlinewidth\":0,\"ticks\":\"\"}},\"marker\":{\"colorbar\":{\"outlinewidth\":0,\"ticks\":\"\"}}}],\"scattermapbox\":[{\"type\":\"scattermapbox\",\"marker\":{\"colorbar\":{\"outlinewidth\":0,\"ticks\":\"\"}}}],\"scatterternary\":[{\"type\":\"scatterternary\",\"marker\":{\"colorbar\":{\"outlinewidth\":0,\"ticks\":\"\"}}}],\"scattercarpet\":[{\"type\":\"scattercarpet\",\"marker\":{\"colorbar\":{\"outlinewidth\":0,\"ticks\":\"\"}}}],\"carpet\":[{\"aaxis\":{\"endlinecolor\":\"#2a3f5f\",\"gridcolor\":\"white\",\"linecolor\":\"white\",\"minorgridcolor\":\"white\",\"startlinecolor\":\"#2a3f5f\"},\"baxis\":{\"endlinecolor\":\"#2a3f5f\",\"gridcolor\":\"white\",\"linecolor\":\"white\",\"minorgridcolor\":\"white\",\"startlinecolor\":\"#2a3f5f\"},\"type\":\"carpet\"}],\"table\":[{\"cells\":{\"fill\":{\"color\":\"#EBF0F8\"},\"line\":{\"color\":\"white\"}},\"header\":{\"fill\":{\"color\":\"#C8D4E3\"},\"line\":{\"color\":\"white\"}},\"type\":\"table\"}],\"barpolar\":[{\"marker\":{\"line\":{\"color\":\"#E5ECF6\",\"width\":0.5},\"pattern\":{\"fillmode\":\"overlay\",\"size\":10,\"solidity\":0.2}},\"type\":\"barpolar\"}],\"pie\":[{\"automargin\":true,\"type\":\"pie\"}]},\"layout\":{\"autotypenumbers\":\"strict\",\"colorway\":[\"#636efa\",\"#EF553B\",\"#00cc96\",\"#ab63fa\",\"#FFA15A\",\"#19d3f3\",\"#FF6692\",\"#B6E880\",\"#FF97FF\",\"#FECB52\"],\"font\":{\"color\":\"#2a3f5f\"},\"hovermode\":\"closest\",\"hoverlabel\":{\"align\":\"left\"},\"paper_bgcolor\":\"white\",\"plot_bgcolor\":\"#E5ECF6\",\"polar\":{\"bgcolor\":\"#E5ECF6\",\"angularaxis\":{\"gridcolor\":\"white\",\"linecolor\":\"white\",\"ticks\":\"\"},\"radialaxis\":{\"gridcolor\":\"white\",\"linecolor\":\"white\",\"ticks\":\"\"}},\"ternary\":{\"bgcolor\":\"#E5ECF6\",\"aaxis\":{\"gridcolor\":\"white\",\"linecolor\":\"white\",\"ticks\":\"\"},\"baxis\":{\"gridcolor\":\"white\",\"linecolor\":\"white\",\"ticks\":\"\"},\"caxis\":{\"gridcolor\":\"white\",\"linecolor\":\"white\",\"ticks\":\"\"}},\"coloraxis\":{\"colorbar\":{\"outlinewidth\":0,\"ticks\":\"\"}},\"colorscale\":{\"sequential\":[[0.0,\"#0d0887\"],[0.1111111111111111,\"#46039f\"],[0.2222222222222222,\"#7201a8\"],[0.3333333333333333,\"#9c179e\"],[0.4444444444444444,\"#bd3786\"],[0.5555555555555556,\"#d8576b\"],[0.6666666666666666,\"#ed7953\"],[0.7777777777777778,\"#fb9f3a\"],[0.8888888888888888,\"#fdca26\"],[1.0,\"#f0f921\"]],\"sequentialminus\":[[0.0,\"#0d0887\"],[0.1111111111111111,\"#46039f\"],[0.2222222222222222,\"#7201a8\"],[0.3333333333333333,\"#9c179e\"],[0.4444444444444444,\"#bd3786\"],[0.5555555555555556,\"#d8576b\"],[0.6666666666666666,\"#ed7953\"],[0.7777777777777778,\"#fb9f3a\"],[0.8888888888888888,\"#fdca26\"],[1.0,\"#f0f921\"]],\"diverging\":[[0,\"#8e0152\"],[0.1,\"#c51b7d\"],[0.2,\"#de77ae\"],[0.3,\"#f1b6da\"],[0.4,\"#fde0ef\"],[0.5,\"#f7f7f7\"],[0.6,\"#e6f5d0\"],[0.7,\"#b8e186\"],[0.8,\"#7fbc41\"],[0.9,\"#4d9221\"],[1,\"#276419\"]]},\"xaxis\":{\"gridcolor\":\"white\",\"linecolor\":\"white\",\"ticks\":\"\",\"title\":{\"standoff\":15},\"zerolinecolor\":\"white\",\"automargin\":true,\"zerolinewidth\":2},\"yaxis\":{\"gridcolor\":\"white\",\"linecolor\":\"white\",\"ticks\":\"\",\"title\":{\"standoff\":15},\"zerolinecolor\":\"white\",\"automargin\":true,\"zerolinewidth\":2},\"scene\":{\"xaxis\":{\"backgroundcolor\":\"#E5ECF6\",\"gridcolor\":\"white\",\"linecolor\":\"white\",\"showbackground\":true,\"ticks\":\"\",\"zerolinecolor\":\"white\",\"gridwidth\":2},\"yaxis\":{\"backgroundcolor\":\"#E5ECF6\",\"gridcolor\":\"white\",\"linecolor\":\"white\",\"showbackground\":true,\"ticks\":\"\",\"zerolinecolor\":\"white\",\"gridwidth\":2},\"zaxis\":{\"backgroundcolor\":\"#E5ECF6\",\"gridcolor\":\"white\",\"linecolor\":\"white\",\"showbackground\":true,\"ticks\":\"\",\"zerolinecolor\":\"white\",\"gridwidth\":2}},\"shapedefaults\":{\"line\":{\"color\":\"#2a3f5f\"}},\"annotationdefaults\":{\"arrowcolor\":\"#2a3f5f\",\"arrowhead\":0,\"arrowwidth\":1},\"geo\":{\"bgcolor\":\"white\",\"landcolor\":\"#E5ECF6\",\"subunitcolor\":\"white\",\"showland\":true,\"showlakes\":true,\"lakecolor\":\"white\"},\"title\":{\"x\":0.05},\"mapbox\":{\"style\":\"light\"}}},\"xaxis\":{\"anchor\":\"y\",\"domain\":[0.0,0.49],\"title\":{\"text\":\"Head\"}},\"yaxis\":{\"anchor\":\"x\",\"domain\":[0.0,1.0],\"autorange\":\"reversed\",\"title\":{\"text\":\"Layer\"}},\"xaxis2\":{\"anchor\":\"y2\",\"domain\":[0.51,1.0],\"matches\":\"x\",\"title\":{\"text\":\"Head\"}},\"yaxis2\":{\"anchor\":\"x2\",\"domain\":[0.0,1.0],\"matches\":\"y\",\"showticklabels\":false},\"annotations\":[{\"font\":{},\"showarrow\":false,\"text\":\"Only keep negative components\",\"x\":0.245,\"xanchor\":\"center\",\"xref\":\"paper\",\"y\":1.0,\"yanchor\":\"bottom\",\"yref\":\"paper\"},{\"font\":{},\"showarrow\":false,\"text\":\"Keep negative and positive components\",\"x\":0.755,\"xanchor\":\"center\",\"xref\":\"paper\",\"y\":1.0,\"yanchor\":\"bottom\",\"yref\":\"paper\"}],\"coloraxis\":{\"colorscale\":[[0.0,\"rgb(247,251,255)\"],[0.125,\"rgb(222,235,247)\"],[0.25,\"rgb(198,219,239)\"],[0.375,\"rgb(158,202,225)\"],[0.5,\"rgb(107,174,214)\"],[0.625,\"rgb(66,146,198)\"],[0.75,\"rgb(33,113,181)\"],[0.875,\"rgb(8,81,156)\"],[1.0,\"rgb(8,48,107)\"]],\"cmid\":0.0,\"cmin\":0,\"cmax\":1},\"title\":{\"text\":\"KL performance of head explained by CSPA\"},\"height\":450,\"width\":1800,\"modebar\":{\"add\":[\"drawline\",\"drawopenpath\",\"drawclosedpath\",\"drawcircle\",\"drawrect\",\"eraseshape\"]}},                        {\"displaylogo\": false, \"responsive\": true}                    ).then(function(){\n",
       "                            \n",
       "var gd = document.getElementById('1cee169d-7892-480e-a0d8-6833d9f4a0d7');\n",
       "var x = new MutationObserver(function (mutations, observer) {{\n",
       "        var display = window.getComputedStyle(gd).display;\n",
       "        if (!display || display === 'none') {{\n",
       "            console.log([gd, 'removed!']);\n",
       "            Plotly.purge(gd);\n",
       "            observer.disconnect();\n",
       "        }}\n",
       "}});\n",
       "\n",
       "// Listen for the removal of the full notebook cells\n",
       "var notebookContainer = gd.closest('#notebook-container');\n",
       "if (notebookContainer) {{\n",
       "    x.observe(notebookContainer, {childList: true});\n",
       "}}\n",
       "\n",
       "// Listen for the clearing of the current output cell\n",
       "var outputEl = gd.closest('.output');\n",
       "if (outputEl) {{\n",
       "    x.observe(outputEl, {childList: true});\n",
       "}}\n",
       "\n",
       "                        })                };                });            </script>        </div>"
      ]
     },
     "metadata": {},
     "output_type": "display_data"
    },
    {
     "data": {
      "application/vnd.plotly.v1+json": {
       "config": {
        "displaylogo": false,
        "plotlyServerURL": "https://plot.ly",
        "responsive": true
       },
       "data": [
        {
         "coloraxis": "coloraxis",
         "hovertemplate": "Head: %{x}<br>Layer: %{y}<br>color: %{z}<extra></extra>",
         "name": "0",
         "texttemplate": "%{z:.2f}",
         "type": "heatmap",
         "xaxis": "x",
         "y": [
          "8",
          "9",
          "10",
          "11"
         ],
         "yaxis": "y",
         "z": [
          [
           -0.04718251898884773,
           0.0000024332318844244583,
           -0.0008339212508872151,
           -0.021499358117580414,
           -0.0015023895539343357,
           0.0001250894129043445,
           -0.00012577150482684374,
           0.00026107460143975914,
           -0.00025556227774359286,
           0.02466519922018051,
           0.21043157577514648,
           -0.0005874268827028573
          ],
          [
           0.0031708162277936935,
           0.0006331377080641687,
           0.00006606017996091396,
           -0.000849248084705323,
           0.003892225679010153,
           0.09775683283805847,
           -0.00029396856552921236,
           -0.007913479581475258,
           -0.0005379419308155775,
           0.000019189141312381253,
           -0.0013273052172735333,
           4.0484255237061006e-7
          ],
          [
           -0.00011512457422213629,
           -0.000003894213932653656,
           -0.004210792016237974,
           -0.0029321755282580853,
           -0.001036245608702302,
           -0.0014420525403693318,
           -0.00003418720734771341,
           0.8239701986312866,
           -0.0021301282104104757,
           0.001324558281339705,
           -0.00015704004908911884,
           -0.00007824101339792833
          ],
          [
           0.049416787922382355,
           -0.0014793628361076117,
           -0.00007778239523759112,
           0.000012164710824436042,
           0.012011894956231117,
           -0.0005438394146040082,
           0.0008046735893003643,
           -0.004315804690122604,
           -0.0023717505391687155,
           -0.0019985779654234648,
           0.6767805218696594,
           -0.00015815053484402597
          ]
         ]
        },
        {
         "coloraxis": "coloraxis",
         "hovertemplate": "Head: %{x}<br>Layer: %{y}<br>color: %{z}<extra></extra>",
         "name": "1",
         "texttemplate": "%{z:.2f}",
         "type": "heatmap",
         "xaxis": "x2",
         "y": [
          "8",
          "9",
          "10",
          "11"
         ],
         "yaxis": "y2",
         "z": [
          [
           0.0028633957263082266,
           0.28592368960380554,
           0.13964995741844177,
           -0.002866737311705947,
           -0.010667132213711739,
           0.03162447363138199,
           0.20912779867649078,
           0.006606297101825476,
           0.16855841875076294,
           0.023556476458907127,
           0.21036061644554138,
           0.3360641598701477
          ],
          [
           0.298157274723053,
           0.6037743091583252,
           0.22650526463985443,
           0.015732016414403915,
           -0.002230253303423524,
           0.0976957380771637,
           0.5278428196907043,
           0.09910885989665985,
           0.190633162856102,
           0.4126140773296356,
           0.008066713809967041,
           0.4422474205493927
          ],
          [
           0.5051043033599854,
           0.5210175514221191,
           0.5646602511405945,
           0.30146536231040955,
           0.1184440478682518,
           0.000876197183970362,
           0.46557751297950745,
           0.8239706158638,
           0.27437716722488403,
           0.0414564423263073,
           0.4949279725551605,
           0.2170398086309433
          ],
          [
           0.04913405701518059,
           0.23940613865852356,
           0.3956339955329895,
           0.05202118679881096,
           0.3681637644767761,
           0.39122703671455383,
           0.288637638092041,
           0.45771968364715576,
           -0.001462473883293569,
           0.7547674775123596,
           0.6766266822814941,
           0.09705916792154312
          ]
         ]
        }
       ],
       "layout": {
        "annotations": [
         {
          "font": {},
          "showarrow": false,
          "text": "Only keep negative components",
          "x": 0.245,
          "xanchor": "center",
          "xref": "paper",
          "y": 1,
          "yanchor": "bottom",
          "yref": "paper"
         },
         {
          "font": {},
          "showarrow": false,
          "text": "Keep negative and positive components",
          "x": 0.755,
          "xanchor": "center",
          "xref": "paper",
          "y": 1,
          "yanchor": "bottom",
          "yref": "paper"
         }
        ],
        "coloraxis": {
         "cmax": 1,
         "cmid": 0,
         "cmin": 0,
         "colorscale": [
          [
           0,
           "rgb(247,251,255)"
          ],
          [
           0.125,
           "rgb(222,235,247)"
          ],
          [
           0.25,
           "rgb(198,219,239)"
          ],
          [
           0.375,
           "rgb(158,202,225)"
          ],
          [
           0.5,
           "rgb(107,174,214)"
          ],
          [
           0.625,
           "rgb(66,146,198)"
          ],
          [
           0.75,
           "rgb(33,113,181)"
          ],
          [
           0.875,
           "rgb(8,81,156)"
          ],
          [
           1,
           "rgb(8,48,107)"
          ]
         ]
        },
        "height": 450,
        "modebar": {
         "add": [
          "drawline",
          "drawopenpath",
          "drawclosedpath",
          "drawcircle",
          "drawrect",
          "eraseshape"
         ]
        },
        "template": {
         "data": {
          "bar": [
           {
            "error_x": {
             "color": "#2a3f5f"
            },
            "error_y": {
             "color": "#2a3f5f"
            },
            "marker": {
             "line": {
              "color": "#E5ECF6",
              "width": 0.5
             },
             "pattern": {
              "fillmode": "overlay",
              "size": 10,
              "solidity": 0.2
             }
            },
            "type": "bar"
           }
          ],
          "barpolar": [
           {
            "marker": {
             "line": {
              "color": "#E5ECF6",
              "width": 0.5
             },
             "pattern": {
              "fillmode": "overlay",
              "size": 10,
              "solidity": 0.2
             }
            },
            "type": "barpolar"
           }
          ],
          "carpet": [
           {
            "aaxis": {
             "endlinecolor": "#2a3f5f",
             "gridcolor": "white",
             "linecolor": "white",
             "minorgridcolor": "white",
             "startlinecolor": "#2a3f5f"
            },
            "baxis": {
             "endlinecolor": "#2a3f5f",
             "gridcolor": "white",
             "linecolor": "white",
             "minorgridcolor": "white",
             "startlinecolor": "#2a3f5f"
            },
            "type": "carpet"
           }
          ],
          "choropleth": [
           {
            "colorbar": {
             "outlinewidth": 0,
             "ticks": ""
            },
            "type": "choropleth"
           }
          ],
          "contour": [
           {
            "colorbar": {
             "outlinewidth": 0,
             "ticks": ""
            },
            "colorscale": [
             [
              0,
              "#0d0887"
             ],
             [
              0.1111111111111111,
              "#46039f"
             ],
             [
              0.2222222222222222,
              "#7201a8"
             ],
             [
              0.3333333333333333,
              "#9c179e"
             ],
             [
              0.4444444444444444,
              "#bd3786"
             ],
             [
              0.5555555555555556,
              "#d8576b"
             ],
             [
              0.6666666666666666,
              "#ed7953"
             ],
             [
              0.7777777777777778,
              "#fb9f3a"
             ],
             [
              0.8888888888888888,
              "#fdca26"
             ],
             [
              1,
              "#f0f921"
             ]
            ],
            "type": "contour"
           }
          ],
          "contourcarpet": [
           {
            "colorbar": {
             "outlinewidth": 0,
             "ticks": ""
            },
            "type": "contourcarpet"
           }
          ],
          "heatmap": [
           {
            "colorbar": {
             "outlinewidth": 0,
             "ticks": ""
            },
            "colorscale": [
             [
              0,
              "#0d0887"
             ],
             [
              0.1111111111111111,
              "#46039f"
             ],
             [
              0.2222222222222222,
              "#7201a8"
             ],
             [
              0.3333333333333333,
              "#9c179e"
             ],
             [
              0.4444444444444444,
              "#bd3786"
             ],
             [
              0.5555555555555556,
              "#d8576b"
             ],
             [
              0.6666666666666666,
              "#ed7953"
             ],
             [
              0.7777777777777778,
              "#fb9f3a"
             ],
             [
              0.8888888888888888,
              "#fdca26"
             ],
             [
              1,
              "#f0f921"
             ]
            ],
            "type": "heatmap"
           }
          ],
          "heatmapgl": [
           {
            "colorbar": {
             "outlinewidth": 0,
             "ticks": ""
            },
            "colorscale": [
             [
              0,
              "#0d0887"
             ],
             [
              0.1111111111111111,
              "#46039f"
             ],
             [
              0.2222222222222222,
              "#7201a8"
             ],
             [
              0.3333333333333333,
              "#9c179e"
             ],
             [
              0.4444444444444444,
              "#bd3786"
             ],
             [
              0.5555555555555556,
              "#d8576b"
             ],
             [
              0.6666666666666666,
              "#ed7953"
             ],
             [
              0.7777777777777778,
              "#fb9f3a"
             ],
             [
              0.8888888888888888,
              "#fdca26"
             ],
             [
              1,
              "#f0f921"
             ]
            ],
            "type": "heatmapgl"
           }
          ],
          "histogram": [
           {
            "marker": {
             "pattern": {
              "fillmode": "overlay",
              "size": 10,
              "solidity": 0.2
             }
            },
            "type": "histogram"
           }
          ],
          "histogram2d": [
           {
            "colorbar": {
             "outlinewidth": 0,
             "ticks": ""
            },
            "colorscale": [
             [
              0,
              "#0d0887"
             ],
             [
              0.1111111111111111,
              "#46039f"
             ],
             [
              0.2222222222222222,
              "#7201a8"
             ],
             [
              0.3333333333333333,
              "#9c179e"
             ],
             [
              0.4444444444444444,
              "#bd3786"
             ],
             [
              0.5555555555555556,
              "#d8576b"
             ],
             [
              0.6666666666666666,
              "#ed7953"
             ],
             [
              0.7777777777777778,
              "#fb9f3a"
             ],
             [
              0.8888888888888888,
              "#fdca26"
             ],
             [
              1,
              "#f0f921"
             ]
            ],
            "type": "histogram2d"
           }
          ],
          "histogram2dcontour": [
           {
            "colorbar": {
             "outlinewidth": 0,
             "ticks": ""
            },
            "colorscale": [
             [
              0,
              "#0d0887"
             ],
             [
              0.1111111111111111,
              "#46039f"
             ],
             [
              0.2222222222222222,
              "#7201a8"
             ],
             [
              0.3333333333333333,
              "#9c179e"
             ],
             [
              0.4444444444444444,
              "#bd3786"
             ],
             [
              0.5555555555555556,
              "#d8576b"
             ],
             [
              0.6666666666666666,
              "#ed7953"
             ],
             [
              0.7777777777777778,
              "#fb9f3a"
             ],
             [
              0.8888888888888888,
              "#fdca26"
             ],
             [
              1,
              "#f0f921"
             ]
            ],
            "type": "histogram2dcontour"
           }
          ],
          "mesh3d": [
           {
            "colorbar": {
             "outlinewidth": 0,
             "ticks": ""
            },
            "type": "mesh3d"
           }
          ],
          "parcoords": [
           {
            "line": {
             "colorbar": {
              "outlinewidth": 0,
              "ticks": ""
             }
            },
            "type": "parcoords"
           }
          ],
          "pie": [
           {
            "automargin": true,
            "type": "pie"
           }
          ],
          "scatter": [
           {
            "fillpattern": {
             "fillmode": "overlay",
             "size": 10,
             "solidity": 0.2
            },
            "type": "scatter"
           }
          ],
          "scatter3d": [
           {
            "line": {
             "colorbar": {
              "outlinewidth": 0,
              "ticks": ""
             }
            },
            "marker": {
             "colorbar": {
              "outlinewidth": 0,
              "ticks": ""
             }
            },
            "type": "scatter3d"
           }
          ],
          "scattercarpet": [
           {
            "marker": {
             "colorbar": {
              "outlinewidth": 0,
              "ticks": ""
             }
            },
            "type": "scattercarpet"
           }
          ],
          "scattergeo": [
           {
            "marker": {
             "colorbar": {
              "outlinewidth": 0,
              "ticks": ""
             }
            },
            "type": "scattergeo"
           }
          ],
          "scattergl": [
           {
            "marker": {
             "colorbar": {
              "outlinewidth": 0,
              "ticks": ""
             }
            },
            "type": "scattergl"
           }
          ],
          "scattermapbox": [
           {
            "marker": {
             "colorbar": {
              "outlinewidth": 0,
              "ticks": ""
             }
            },
            "type": "scattermapbox"
           }
          ],
          "scatterpolar": [
           {
            "marker": {
             "colorbar": {
              "outlinewidth": 0,
              "ticks": ""
             }
            },
            "type": "scatterpolar"
           }
          ],
          "scatterpolargl": [
           {
            "marker": {
             "colorbar": {
              "outlinewidth": 0,
              "ticks": ""
             }
            },
            "type": "scatterpolargl"
           }
          ],
          "scatterternary": [
           {
            "marker": {
             "colorbar": {
              "outlinewidth": 0,
              "ticks": ""
             }
            },
            "type": "scatterternary"
           }
          ],
          "surface": [
           {
            "colorbar": {
             "outlinewidth": 0,
             "ticks": ""
            },
            "colorscale": [
             [
              0,
              "#0d0887"
             ],
             [
              0.1111111111111111,
              "#46039f"
             ],
             [
              0.2222222222222222,
              "#7201a8"
             ],
             [
              0.3333333333333333,
              "#9c179e"
             ],
             [
              0.4444444444444444,
              "#bd3786"
             ],
             [
              0.5555555555555556,
              "#d8576b"
             ],
             [
              0.6666666666666666,
              "#ed7953"
             ],
             [
              0.7777777777777778,
              "#fb9f3a"
             ],
             [
              0.8888888888888888,
              "#fdca26"
             ],
             [
              1,
              "#f0f921"
             ]
            ],
            "type": "surface"
           }
          ],
          "table": [
           {
            "cells": {
             "fill": {
              "color": "#EBF0F8"
             },
             "line": {
              "color": "white"
             }
            },
            "header": {
             "fill": {
              "color": "#C8D4E3"
             },
             "line": {
              "color": "white"
             }
            },
            "type": "table"
           }
          ]
         },
         "layout": {
          "annotationdefaults": {
           "arrowcolor": "#2a3f5f",
           "arrowhead": 0,
           "arrowwidth": 1
          },
          "autotypenumbers": "strict",
          "coloraxis": {
           "colorbar": {
            "outlinewidth": 0,
            "ticks": ""
           }
          },
          "colorscale": {
           "diverging": [
            [
             0,
             "#8e0152"
            ],
            [
             0.1,
             "#c51b7d"
            ],
            [
             0.2,
             "#de77ae"
            ],
            [
             0.3,
             "#f1b6da"
            ],
            [
             0.4,
             "#fde0ef"
            ],
            [
             0.5,
             "#f7f7f7"
            ],
            [
             0.6,
             "#e6f5d0"
            ],
            [
             0.7,
             "#b8e186"
            ],
            [
             0.8,
             "#7fbc41"
            ],
            [
             0.9,
             "#4d9221"
            ],
            [
             1,
             "#276419"
            ]
           ],
           "sequential": [
            [
             0,
             "#0d0887"
            ],
            [
             0.1111111111111111,
             "#46039f"
            ],
            [
             0.2222222222222222,
             "#7201a8"
            ],
            [
             0.3333333333333333,
             "#9c179e"
            ],
            [
             0.4444444444444444,
             "#bd3786"
            ],
            [
             0.5555555555555556,
             "#d8576b"
            ],
            [
             0.6666666666666666,
             "#ed7953"
            ],
            [
             0.7777777777777778,
             "#fb9f3a"
            ],
            [
             0.8888888888888888,
             "#fdca26"
            ],
            [
             1,
             "#f0f921"
            ]
           ],
           "sequentialminus": [
            [
             0,
             "#0d0887"
            ],
            [
             0.1111111111111111,
             "#46039f"
            ],
            [
             0.2222222222222222,
             "#7201a8"
            ],
            [
             0.3333333333333333,
             "#9c179e"
            ],
            [
             0.4444444444444444,
             "#bd3786"
            ],
            [
             0.5555555555555556,
             "#d8576b"
            ],
            [
             0.6666666666666666,
             "#ed7953"
            ],
            [
             0.7777777777777778,
             "#fb9f3a"
            ],
            [
             0.8888888888888888,
             "#fdca26"
            ],
            [
             1,
             "#f0f921"
            ]
           ]
          },
          "colorway": [
           "#636efa",
           "#EF553B",
           "#00cc96",
           "#ab63fa",
           "#FFA15A",
           "#19d3f3",
           "#FF6692",
           "#B6E880",
           "#FF97FF",
           "#FECB52"
          ],
          "font": {
           "color": "#2a3f5f"
          },
          "geo": {
           "bgcolor": "white",
           "lakecolor": "white",
           "landcolor": "#E5ECF6",
           "showlakes": true,
           "showland": true,
           "subunitcolor": "white"
          },
          "hoverlabel": {
           "align": "left"
          },
          "hovermode": "closest",
          "mapbox": {
           "style": "light"
          },
          "paper_bgcolor": "white",
          "plot_bgcolor": "#E5ECF6",
          "polar": {
           "angularaxis": {
            "gridcolor": "white",
            "linecolor": "white",
            "ticks": ""
           },
           "bgcolor": "#E5ECF6",
           "radialaxis": {
            "gridcolor": "white",
            "linecolor": "white",
            "ticks": ""
           }
          },
          "scene": {
           "xaxis": {
            "backgroundcolor": "#E5ECF6",
            "gridcolor": "white",
            "gridwidth": 2,
            "linecolor": "white",
            "showbackground": true,
            "ticks": "",
            "zerolinecolor": "white"
           },
           "yaxis": {
            "backgroundcolor": "#E5ECF6",
            "gridcolor": "white",
            "gridwidth": 2,
            "linecolor": "white",
            "showbackground": true,
            "ticks": "",
            "zerolinecolor": "white"
           },
           "zaxis": {
            "backgroundcolor": "#E5ECF6",
            "gridcolor": "white",
            "gridwidth": 2,
            "linecolor": "white",
            "showbackground": true,
            "ticks": "",
            "zerolinecolor": "white"
           }
          },
          "shapedefaults": {
           "line": {
            "color": "#2a3f5f"
           }
          },
          "ternary": {
           "aaxis": {
            "gridcolor": "white",
            "linecolor": "white",
            "ticks": ""
           },
           "baxis": {
            "gridcolor": "white",
            "linecolor": "white",
            "ticks": ""
           },
           "bgcolor": "#E5ECF6",
           "caxis": {
            "gridcolor": "white",
            "linecolor": "white",
            "ticks": ""
           }
          },
          "title": {
           "x": 0.05
          },
          "xaxis": {
           "automargin": true,
           "gridcolor": "white",
           "linecolor": "white",
           "ticks": "",
           "title": {
            "standoff": 15
           },
           "zerolinecolor": "white",
           "zerolinewidth": 2
          },
          "yaxis": {
           "automargin": true,
           "gridcolor": "white",
           "linecolor": "white",
           "ticks": "",
           "title": {
            "standoff": 15
           },
           "zerolinecolor": "white",
           "zerolinewidth": 2
          }
         }
        },
        "title": {
         "text": "Net effect on loss performance of head explained by CSPA"
        },
        "width": 1800,
        "xaxis": {
         "anchor": "y",
         "domain": [
          0,
          0.49
         ],
         "title": {
          "text": "Head"
         }
        },
        "xaxis2": {
         "anchor": "y2",
         "domain": [
          0.51,
          1
         ],
         "matches": "x",
         "title": {
          "text": "Head"
         }
        },
        "yaxis": {
         "anchor": "x",
         "autorange": "reversed",
         "domain": [
          0,
          1
         ],
         "title": {
          "text": "Layer"
         }
        },
        "yaxis2": {
         "anchor": "x2",
         "domain": [
          0,
          1
         ],
         "matches": "y",
         "showticklabels": false
        }
       }
      },
      "text/html": [
       "<div>                            <div id=\"86eb6e62-ea3a-4c5a-b033-e2d9a466b8dd\" class=\"plotly-graph-div\" style=\"height:450px; width:1800px;\"></div>            <script type=\"text/javascript\">                require([\"plotly\"], function(Plotly) {                    window.PLOTLYENV=window.PLOTLYENV || {};                                    if (document.getElementById(\"86eb6e62-ea3a-4c5a-b033-e2d9a466b8dd\")) {                    Plotly.newPlot(                        \"86eb6e62-ea3a-4c5a-b033-e2d9a466b8dd\",                        [{\"coloraxis\":\"coloraxis\",\"name\":\"0\",\"texttemplate\":\"%{z:.2f}\",\"y\":[\"8\",\"9\",\"10\",\"11\"],\"z\":[[-0.04718251898884773,2.4332318844244583e-06,-0.0008339212508872151,-0.021499358117580414,-0.0015023895539343357,0.0001250894129043445,-0.00012577150482684374,0.00026107460143975914,-0.00025556227774359286,0.02466519922018051,0.21043157577514648,-0.0005874268827028573],[0.0031708162277936935,0.0006331377080641687,6.606017996091396e-05,-0.000849248084705323,0.003892225679010153,0.09775683283805847,-0.00029396856552921236,-0.007913479581475258,-0.0005379419308155775,1.9189141312381253e-05,-0.0013273052172735333,4.0484255237061006e-07],[-0.00011512457422213629,-3.894213932653656e-06,-0.004210792016237974,-0.0029321755282580853,-0.001036245608702302,-0.0014420525403693318,-3.418720734771341e-05,0.8239701986312866,-0.0021301282104104757,0.001324558281339705,-0.00015704004908911884,-7.824101339792833e-05],[0.049416787922382355,-0.0014793628361076117,-7.778239523759112e-05,1.2164710824436042e-05,0.012011894956231117,-0.0005438394146040082,0.0008046735893003643,-0.004315804690122604,-0.0023717505391687155,-0.0019985779654234648,0.6767805218696594,-0.00015815053484402597]],\"type\":\"heatmap\",\"xaxis\":\"x\",\"yaxis\":\"y\",\"hovertemplate\":\"Head: %{x}\\u003cbr\\u003eLayer: %{y}\\u003cbr\\u003ecolor: %{z}\\u003cextra\\u003e\\u003c\\u002fextra\\u003e\"},{\"coloraxis\":\"coloraxis\",\"name\":\"1\",\"texttemplate\":\"%{z:.2f}\",\"y\":[\"8\",\"9\",\"10\",\"11\"],\"z\":[[0.0028633957263082266,0.28592368960380554,0.13964995741844177,-0.002866737311705947,-0.010667132213711739,0.03162447363138199,0.20912779867649078,0.006606297101825476,0.16855841875076294,0.023556476458907127,0.21036061644554138,0.3360641598701477],[0.298157274723053,0.6037743091583252,0.22650526463985443,0.015732016414403915,-0.002230253303423524,0.0976957380771637,0.5278428196907043,0.09910885989665985,0.190633162856102,0.4126140773296356,0.008066713809967041,0.4422474205493927],[0.5051043033599854,0.5210175514221191,0.5646602511405945,0.30146536231040955,0.1184440478682518,0.000876197183970362,0.46557751297950745,0.8239706158638,0.27437716722488403,0.0414564423263073,0.4949279725551605,0.2170398086309433],[0.04913405701518059,0.23940613865852356,0.3956339955329895,0.05202118679881096,0.3681637644767761,0.39122703671455383,0.288637638092041,0.45771968364715576,-0.001462473883293569,0.7547674775123596,0.6766266822814941,0.09705916792154312]],\"type\":\"heatmap\",\"xaxis\":\"x2\",\"yaxis\":\"y2\",\"hovertemplate\":\"Head: %{x}\\u003cbr\\u003eLayer: %{y}\\u003cbr\\u003ecolor: %{z}\\u003cextra\\u003e\\u003c\\u002fextra\\u003e\"}],                        {\"template\":{\"data\":{\"histogram2dcontour\":[{\"type\":\"histogram2dcontour\",\"colorbar\":{\"outlinewidth\":0,\"ticks\":\"\"},\"colorscale\":[[0.0,\"#0d0887\"],[0.1111111111111111,\"#46039f\"],[0.2222222222222222,\"#7201a8\"],[0.3333333333333333,\"#9c179e\"],[0.4444444444444444,\"#bd3786\"],[0.5555555555555556,\"#d8576b\"],[0.6666666666666666,\"#ed7953\"],[0.7777777777777778,\"#fb9f3a\"],[0.8888888888888888,\"#fdca26\"],[1.0,\"#f0f921\"]]}],\"choropleth\":[{\"type\":\"choropleth\",\"colorbar\":{\"outlinewidth\":0,\"ticks\":\"\"}}],\"histogram2d\":[{\"type\":\"histogram2d\",\"colorbar\":{\"outlinewidth\":0,\"ticks\":\"\"},\"colorscale\":[[0.0,\"#0d0887\"],[0.1111111111111111,\"#46039f\"],[0.2222222222222222,\"#7201a8\"],[0.3333333333333333,\"#9c179e\"],[0.4444444444444444,\"#bd3786\"],[0.5555555555555556,\"#d8576b\"],[0.6666666666666666,\"#ed7953\"],[0.7777777777777778,\"#fb9f3a\"],[0.8888888888888888,\"#fdca26\"],[1.0,\"#f0f921\"]]}],\"heatmap\":[{\"type\":\"heatmap\",\"colorbar\":{\"outlinewidth\":0,\"ticks\":\"\"},\"colorscale\":[[0.0,\"#0d0887\"],[0.1111111111111111,\"#46039f\"],[0.2222222222222222,\"#7201a8\"],[0.3333333333333333,\"#9c179e\"],[0.4444444444444444,\"#bd3786\"],[0.5555555555555556,\"#d8576b\"],[0.6666666666666666,\"#ed7953\"],[0.7777777777777778,\"#fb9f3a\"],[0.8888888888888888,\"#fdca26\"],[1.0,\"#f0f921\"]]}],\"heatmapgl\":[{\"type\":\"heatmapgl\",\"colorbar\":{\"outlinewidth\":0,\"ticks\":\"\"},\"colorscale\":[[0.0,\"#0d0887\"],[0.1111111111111111,\"#46039f\"],[0.2222222222222222,\"#7201a8\"],[0.3333333333333333,\"#9c179e\"],[0.4444444444444444,\"#bd3786\"],[0.5555555555555556,\"#d8576b\"],[0.6666666666666666,\"#ed7953\"],[0.7777777777777778,\"#fb9f3a\"],[0.8888888888888888,\"#fdca26\"],[1.0,\"#f0f921\"]]}],\"contourcarpet\":[{\"type\":\"contourcarpet\",\"colorbar\":{\"outlinewidth\":0,\"ticks\":\"\"}}],\"contour\":[{\"type\":\"contour\",\"colorbar\":{\"outlinewidth\":0,\"ticks\":\"\"},\"colorscale\":[[0.0,\"#0d0887\"],[0.1111111111111111,\"#46039f\"],[0.2222222222222222,\"#7201a8\"],[0.3333333333333333,\"#9c179e\"],[0.4444444444444444,\"#bd3786\"],[0.5555555555555556,\"#d8576b\"],[0.6666666666666666,\"#ed7953\"],[0.7777777777777778,\"#fb9f3a\"],[0.8888888888888888,\"#fdca26\"],[1.0,\"#f0f921\"]]}],\"surface\":[{\"type\":\"surface\",\"colorbar\":{\"outlinewidth\":0,\"ticks\":\"\"},\"colorscale\":[[0.0,\"#0d0887\"],[0.1111111111111111,\"#46039f\"],[0.2222222222222222,\"#7201a8\"],[0.3333333333333333,\"#9c179e\"],[0.4444444444444444,\"#bd3786\"],[0.5555555555555556,\"#d8576b\"],[0.6666666666666666,\"#ed7953\"],[0.7777777777777778,\"#fb9f3a\"],[0.8888888888888888,\"#fdca26\"],[1.0,\"#f0f921\"]]}],\"mesh3d\":[{\"type\":\"mesh3d\",\"colorbar\":{\"outlinewidth\":0,\"ticks\":\"\"}}],\"scatter\":[{\"fillpattern\":{\"fillmode\":\"overlay\",\"size\":10,\"solidity\":0.2},\"type\":\"scatter\"}],\"parcoords\":[{\"type\":\"parcoords\",\"line\":{\"colorbar\":{\"outlinewidth\":0,\"ticks\":\"\"}}}],\"scatterpolargl\":[{\"type\":\"scatterpolargl\",\"marker\":{\"colorbar\":{\"outlinewidth\":0,\"ticks\":\"\"}}}],\"bar\":[{\"error_x\":{\"color\":\"#2a3f5f\"},\"error_y\":{\"color\":\"#2a3f5f\"},\"marker\":{\"line\":{\"color\":\"#E5ECF6\",\"width\":0.5},\"pattern\":{\"fillmode\":\"overlay\",\"size\":10,\"solidity\":0.2}},\"type\":\"bar\"}],\"scattergeo\":[{\"type\":\"scattergeo\",\"marker\":{\"colorbar\":{\"outlinewidth\":0,\"ticks\":\"\"}}}],\"scatterpolar\":[{\"type\":\"scatterpolar\",\"marker\":{\"colorbar\":{\"outlinewidth\":0,\"ticks\":\"\"}}}],\"histogram\":[{\"marker\":{\"pattern\":{\"fillmode\":\"overlay\",\"size\":10,\"solidity\":0.2}},\"type\":\"histogram\"}],\"scattergl\":[{\"type\":\"scattergl\",\"marker\":{\"colorbar\":{\"outlinewidth\":0,\"ticks\":\"\"}}}],\"scatter3d\":[{\"type\":\"scatter3d\",\"line\":{\"colorbar\":{\"outlinewidth\":0,\"ticks\":\"\"}},\"marker\":{\"colorbar\":{\"outlinewidth\":0,\"ticks\":\"\"}}}],\"scattermapbox\":[{\"type\":\"scattermapbox\",\"marker\":{\"colorbar\":{\"outlinewidth\":0,\"ticks\":\"\"}}}],\"scatterternary\":[{\"type\":\"scatterternary\",\"marker\":{\"colorbar\":{\"outlinewidth\":0,\"ticks\":\"\"}}}],\"scattercarpet\":[{\"type\":\"scattercarpet\",\"marker\":{\"colorbar\":{\"outlinewidth\":0,\"ticks\":\"\"}}}],\"carpet\":[{\"aaxis\":{\"endlinecolor\":\"#2a3f5f\",\"gridcolor\":\"white\",\"linecolor\":\"white\",\"minorgridcolor\":\"white\",\"startlinecolor\":\"#2a3f5f\"},\"baxis\":{\"endlinecolor\":\"#2a3f5f\",\"gridcolor\":\"white\",\"linecolor\":\"white\",\"minorgridcolor\":\"white\",\"startlinecolor\":\"#2a3f5f\"},\"type\":\"carpet\"}],\"table\":[{\"cells\":{\"fill\":{\"color\":\"#EBF0F8\"},\"line\":{\"color\":\"white\"}},\"header\":{\"fill\":{\"color\":\"#C8D4E3\"},\"line\":{\"color\":\"white\"}},\"type\":\"table\"}],\"barpolar\":[{\"marker\":{\"line\":{\"color\":\"#E5ECF6\",\"width\":0.5},\"pattern\":{\"fillmode\":\"overlay\",\"size\":10,\"solidity\":0.2}},\"type\":\"barpolar\"}],\"pie\":[{\"automargin\":true,\"type\":\"pie\"}]},\"layout\":{\"autotypenumbers\":\"strict\",\"colorway\":[\"#636efa\",\"#EF553B\",\"#00cc96\",\"#ab63fa\",\"#FFA15A\",\"#19d3f3\",\"#FF6692\",\"#B6E880\",\"#FF97FF\",\"#FECB52\"],\"font\":{\"color\":\"#2a3f5f\"},\"hovermode\":\"closest\",\"hoverlabel\":{\"align\":\"left\"},\"paper_bgcolor\":\"white\",\"plot_bgcolor\":\"#E5ECF6\",\"polar\":{\"bgcolor\":\"#E5ECF6\",\"angularaxis\":{\"gridcolor\":\"white\",\"linecolor\":\"white\",\"ticks\":\"\"},\"radialaxis\":{\"gridcolor\":\"white\",\"linecolor\":\"white\",\"ticks\":\"\"}},\"ternary\":{\"bgcolor\":\"#E5ECF6\",\"aaxis\":{\"gridcolor\":\"white\",\"linecolor\":\"white\",\"ticks\":\"\"},\"baxis\":{\"gridcolor\":\"white\",\"linecolor\":\"white\",\"ticks\":\"\"},\"caxis\":{\"gridcolor\":\"white\",\"linecolor\":\"white\",\"ticks\":\"\"}},\"coloraxis\":{\"colorbar\":{\"outlinewidth\":0,\"ticks\":\"\"}},\"colorscale\":{\"sequential\":[[0.0,\"#0d0887\"],[0.1111111111111111,\"#46039f\"],[0.2222222222222222,\"#7201a8\"],[0.3333333333333333,\"#9c179e\"],[0.4444444444444444,\"#bd3786\"],[0.5555555555555556,\"#d8576b\"],[0.6666666666666666,\"#ed7953\"],[0.7777777777777778,\"#fb9f3a\"],[0.8888888888888888,\"#fdca26\"],[1.0,\"#f0f921\"]],\"sequentialminus\":[[0.0,\"#0d0887\"],[0.1111111111111111,\"#46039f\"],[0.2222222222222222,\"#7201a8\"],[0.3333333333333333,\"#9c179e\"],[0.4444444444444444,\"#bd3786\"],[0.5555555555555556,\"#d8576b\"],[0.6666666666666666,\"#ed7953\"],[0.7777777777777778,\"#fb9f3a\"],[0.8888888888888888,\"#fdca26\"],[1.0,\"#f0f921\"]],\"diverging\":[[0,\"#8e0152\"],[0.1,\"#c51b7d\"],[0.2,\"#de77ae\"],[0.3,\"#f1b6da\"],[0.4,\"#fde0ef\"],[0.5,\"#f7f7f7\"],[0.6,\"#e6f5d0\"],[0.7,\"#b8e186\"],[0.8,\"#7fbc41\"],[0.9,\"#4d9221\"],[1,\"#276419\"]]},\"xaxis\":{\"gridcolor\":\"white\",\"linecolor\":\"white\",\"ticks\":\"\",\"title\":{\"standoff\":15},\"zerolinecolor\":\"white\",\"automargin\":true,\"zerolinewidth\":2},\"yaxis\":{\"gridcolor\":\"white\",\"linecolor\":\"white\",\"ticks\":\"\",\"title\":{\"standoff\":15},\"zerolinecolor\":\"white\",\"automargin\":true,\"zerolinewidth\":2},\"scene\":{\"xaxis\":{\"backgroundcolor\":\"#E5ECF6\",\"gridcolor\":\"white\",\"linecolor\":\"white\",\"showbackground\":true,\"ticks\":\"\",\"zerolinecolor\":\"white\",\"gridwidth\":2},\"yaxis\":{\"backgroundcolor\":\"#E5ECF6\",\"gridcolor\":\"white\",\"linecolor\":\"white\",\"showbackground\":true,\"ticks\":\"\",\"zerolinecolor\":\"white\",\"gridwidth\":2},\"zaxis\":{\"backgroundcolor\":\"#E5ECF6\",\"gridcolor\":\"white\",\"linecolor\":\"white\",\"showbackground\":true,\"ticks\":\"\",\"zerolinecolor\":\"white\",\"gridwidth\":2}},\"shapedefaults\":{\"line\":{\"color\":\"#2a3f5f\"}},\"annotationdefaults\":{\"arrowcolor\":\"#2a3f5f\",\"arrowhead\":0,\"arrowwidth\":1},\"geo\":{\"bgcolor\":\"white\",\"landcolor\":\"#E5ECF6\",\"subunitcolor\":\"white\",\"showland\":true,\"showlakes\":true,\"lakecolor\":\"white\"},\"title\":{\"x\":0.05},\"mapbox\":{\"style\":\"light\"}}},\"xaxis\":{\"anchor\":\"y\",\"domain\":[0.0,0.49],\"title\":{\"text\":\"Head\"}},\"yaxis\":{\"anchor\":\"x\",\"domain\":[0.0,1.0],\"autorange\":\"reversed\",\"title\":{\"text\":\"Layer\"}},\"xaxis2\":{\"anchor\":\"y2\",\"domain\":[0.51,1.0],\"matches\":\"x\",\"title\":{\"text\":\"Head\"}},\"yaxis2\":{\"anchor\":\"x2\",\"domain\":[0.0,1.0],\"matches\":\"y\",\"showticklabels\":false},\"annotations\":[{\"font\":{},\"showarrow\":false,\"text\":\"Only keep negative components\",\"x\":0.245,\"xanchor\":\"center\",\"xref\":\"paper\",\"y\":1.0,\"yanchor\":\"bottom\",\"yref\":\"paper\"},{\"font\":{},\"showarrow\":false,\"text\":\"Keep negative and positive components\",\"x\":0.755,\"xanchor\":\"center\",\"xref\":\"paper\",\"y\":1.0,\"yanchor\":\"bottom\",\"yref\":\"paper\"}],\"coloraxis\":{\"colorscale\":[[0.0,\"rgb(247,251,255)\"],[0.125,\"rgb(222,235,247)\"],[0.25,\"rgb(198,219,239)\"],[0.375,\"rgb(158,202,225)\"],[0.5,\"rgb(107,174,214)\"],[0.625,\"rgb(66,146,198)\"],[0.75,\"rgb(33,113,181)\"],[0.875,\"rgb(8,81,156)\"],[1.0,\"rgb(8,48,107)\"]],\"cmid\":0.0,\"cmin\":0,\"cmax\":1},\"title\":{\"text\":\"Net effect on loss performance of head explained by CSPA\"},\"height\":450,\"width\":1800,\"modebar\":{\"add\":[\"drawline\",\"drawopenpath\",\"drawclosedpath\",\"drawcircle\",\"drawrect\",\"eraseshape\"]}},                        {\"displaylogo\": false, \"responsive\": true}                    ).then(function(){\n",
       "                            \n",
       "var gd = document.getElementById('86eb6e62-ea3a-4c5a-b033-e2d9a466b8dd');\n",
       "var x = new MutationObserver(function (mutations, observer) {{\n",
       "        var display = window.getComputedStyle(gd).display;\n",
       "        if (!display || display === 'none') {{\n",
       "            console.log([gd, 'removed!']);\n",
       "            Plotly.purge(gd);\n",
       "            observer.disconnect();\n",
       "        }}\n",
       "}});\n",
       "\n",
       "// Listen for the removal of the full notebook cells\n",
       "var notebookContainer = gd.closest('#notebook-container');\n",
       "if (notebookContainer) {{\n",
       "    x.observe(notebookContainer, {childList: true});\n",
       "}}\n",
       "\n",
       "// Listen for the clearing of the current output cell\n",
       "var outputEl = gd.closest('.output');\n",
       "if (outputEl) {{\n",
       "    x.observe(outputEl, {childList: true});\n",
       "}}\n",
       "\n",
       "                        })                };                });            </script>        </div>"
      ]
     },
     "metadata": {},
     "output_type": "display_data"
    },
    {
     "data": {
      "application/vnd.plotly.v1+json": {
       "config": {
        "displaylogo": false,
        "plotlyServerURL": "https://plot.ly",
        "responsive": true
       },
       "data": [
        {
         "coloraxis": "coloraxis",
         "hovertemplate": "Head: %{x}<br>Layer: %{y}<br>color: %{z}<extra></extra>",
         "name": "0",
         "texttemplate": "%{z:.2f}",
         "type": "heatmap",
         "xaxis": "x",
         "y": [
          "8",
          "9",
          "10",
          "11"
         ],
         "yaxis": "y",
         "z": [
          [
           0.0025068786926567554,
           2.154120863906428e-7,
           -0.000007485095011361409,
           -0.0006697605713270605,
           0.00007678269321331754,
           -0.0003446487826295197,
           0.000011369784260750748,
           0.00003505603672238067,
           0.00004418474418343976,
           0.0049304356798529625,
           0.0773983746767044,
           0.000024269334971904755
          ],
          [
           0.00012412594514898956,
           0.00037196563789620996,
           0.00003083167030126788,
           -0.00001847299972723704,
           -0.00005355857501854189,
           0.05118711292743683,
           0.00011405246186768636,
           0.001875985530205071,
           0.000039784019463695586,
           0.000017528305761516094,
           -0.0001362883922411129,
           0.0000014044962881598622
          ],
          [
           0.00008436453208560124,
           0.0002607853675726801,
           0.0002344879467273131,
           0.000754590961150825,
           0.002669150708243251,
           0.00017851372831501067,
           0.00016551751468796283,
           0.44750329852104187,
           0.001022804994136095,
           0.00016989598225336522,
           0.00026009438442997634,
           0.000053785479394719005
          ],
          [
           0.014169118367135525,
           0.0005423328839242458,
           0.00005261538899503648,
           0.000024518629288650118,
           0.0046538389287889,
           0.00336022162809968,
           0.00030719549977220595,
           0.00025057906168513,
           -0.0012752891052514315,
           0.0009055919945240021,
           0.26297658681869507,
           0.00015168418758548796
          ]
         ]
        },
        {
         "coloraxis": "coloraxis",
         "hovertemplate": "Head: %{x}<br>Layer: %{y}<br>color: %{z}<extra></extra>",
         "name": "1",
         "texttemplate": "%{z:.2f}",
         "type": "heatmap",
         "xaxis": "x2",
         "y": [
          "8",
          "9",
          "10",
          "11"
         ],
         "yaxis": "y2",
         "z": [
          [
           0.0037296840455383062,
           0.1523081213235855,
           0.020686548203229904,
           0.03159923106431961,
           0.005573423113673925,
           0.006300266366451979,
           0.10764814168214798,
           0.004158371593803167,
           0.07576202601194382,
           0.0059812054969370365,
           0.07740163058042526,
           0.10799084603786469
          ],
          [
           0.09909339994192123,
           0.1502969115972519,
           0.10769904404878616,
           0.012973948381841183,
           0.013926115818321705,
           0.05121316760778427,
           0.318175733089447,
           0.023786405101418495,
           0.1065211370587349,
           0.2832261323928833,
           0.0028022686019539833,
           0.17281624674797058
          ],
          [
           0.30576103925704956,
           0.22391296923160553,
           0.2564169466495514,
           0.1219388097524643,
           0.050084710121154785,
           0.002498816465958953,
           0.2716453969478607,
           0.4475046694278717,
           0.09174209088087082,
           0.010309940204024315,
           0.30448830127716064,
           0.11386775970458984
          ],
          [
           0.015070651657879353,
           0.1276041865348816,
           0.22197771072387695,
           0.029119493439793587,
           0.07074747234582901,
           0.11760029941797256,
           0.1550670862197876,
           0.1258394718170166,
           0.0008696925360709429,
           0.16305091977119446,
           0.263001948595047,
           0.04746968671679497
          ]
         ]
        }
       ],
       "layout": {
        "annotations": [
         {
          "font": {},
          "showarrow": false,
          "text": "Only keep negative components",
          "x": 0.245,
          "xanchor": "center",
          "xref": "paper",
          "y": 1,
          "yanchor": "bottom",
          "yref": "paper"
         },
         {
          "font": {},
          "showarrow": false,
          "text": "Keep negative and positive components",
          "x": 0.755,
          "xanchor": "center",
          "xref": "paper",
          "y": 1,
          "yanchor": "bottom",
          "yref": "paper"
         }
        ],
        "coloraxis": {
         "cmax": 1,
         "cmid": 0,
         "cmin": 0,
         "colorscale": [
          [
           0,
           "rgb(247,251,255)"
          ],
          [
           0.125,
           "rgb(222,235,247)"
          ],
          [
           0.25,
           "rgb(198,219,239)"
          ],
          [
           0.375,
           "rgb(158,202,225)"
          ],
          [
           0.5,
           "rgb(107,174,214)"
          ],
          [
           0.625,
           "rgb(66,146,198)"
          ],
          [
           0.75,
           "rgb(33,113,181)"
          ],
          [
           0.875,
           "rgb(8,81,156)"
          ],
          [
           1,
           "rgb(8,48,107)"
          ]
         ]
        },
        "height": 450,
        "modebar": {
         "add": [
          "drawline",
          "drawopenpath",
          "drawclosedpath",
          "drawcircle",
          "drawrect",
          "eraseshape"
         ]
        },
        "template": {
         "data": {
          "bar": [
           {
            "error_x": {
             "color": "#2a3f5f"
            },
            "error_y": {
             "color": "#2a3f5f"
            },
            "marker": {
             "line": {
              "color": "#E5ECF6",
              "width": 0.5
             },
             "pattern": {
              "fillmode": "overlay",
              "size": 10,
              "solidity": 0.2
             }
            },
            "type": "bar"
           }
          ],
          "barpolar": [
           {
            "marker": {
             "line": {
              "color": "#E5ECF6",
              "width": 0.5
             },
             "pattern": {
              "fillmode": "overlay",
              "size": 10,
              "solidity": 0.2
             }
            },
            "type": "barpolar"
           }
          ],
          "carpet": [
           {
            "aaxis": {
             "endlinecolor": "#2a3f5f",
             "gridcolor": "white",
             "linecolor": "white",
             "minorgridcolor": "white",
             "startlinecolor": "#2a3f5f"
            },
            "baxis": {
             "endlinecolor": "#2a3f5f",
             "gridcolor": "white",
             "linecolor": "white",
             "minorgridcolor": "white",
             "startlinecolor": "#2a3f5f"
            },
            "type": "carpet"
           }
          ],
          "choropleth": [
           {
            "colorbar": {
             "outlinewidth": 0,
             "ticks": ""
            },
            "type": "choropleth"
           }
          ],
          "contour": [
           {
            "colorbar": {
             "outlinewidth": 0,
             "ticks": ""
            },
            "colorscale": [
             [
              0,
              "#0d0887"
             ],
             [
              0.1111111111111111,
              "#46039f"
             ],
             [
              0.2222222222222222,
              "#7201a8"
             ],
             [
              0.3333333333333333,
              "#9c179e"
             ],
             [
              0.4444444444444444,
              "#bd3786"
             ],
             [
              0.5555555555555556,
              "#d8576b"
             ],
             [
              0.6666666666666666,
              "#ed7953"
             ],
             [
              0.7777777777777778,
              "#fb9f3a"
             ],
             [
              0.8888888888888888,
              "#fdca26"
             ],
             [
              1,
              "#f0f921"
             ]
            ],
            "type": "contour"
           }
          ],
          "contourcarpet": [
           {
            "colorbar": {
             "outlinewidth": 0,
             "ticks": ""
            },
            "type": "contourcarpet"
           }
          ],
          "heatmap": [
           {
            "colorbar": {
             "outlinewidth": 0,
             "ticks": ""
            },
            "colorscale": [
             [
              0,
              "#0d0887"
             ],
             [
              0.1111111111111111,
              "#46039f"
             ],
             [
              0.2222222222222222,
              "#7201a8"
             ],
             [
              0.3333333333333333,
              "#9c179e"
             ],
             [
              0.4444444444444444,
              "#bd3786"
             ],
             [
              0.5555555555555556,
              "#d8576b"
             ],
             [
              0.6666666666666666,
              "#ed7953"
             ],
             [
              0.7777777777777778,
              "#fb9f3a"
             ],
             [
              0.8888888888888888,
              "#fdca26"
             ],
             [
              1,
              "#f0f921"
             ]
            ],
            "type": "heatmap"
           }
          ],
          "heatmapgl": [
           {
            "colorbar": {
             "outlinewidth": 0,
             "ticks": ""
            },
            "colorscale": [
             [
              0,
              "#0d0887"
             ],
             [
              0.1111111111111111,
              "#46039f"
             ],
             [
              0.2222222222222222,
              "#7201a8"
             ],
             [
              0.3333333333333333,
              "#9c179e"
             ],
             [
              0.4444444444444444,
              "#bd3786"
             ],
             [
              0.5555555555555556,
              "#d8576b"
             ],
             [
              0.6666666666666666,
              "#ed7953"
             ],
             [
              0.7777777777777778,
              "#fb9f3a"
             ],
             [
              0.8888888888888888,
              "#fdca26"
             ],
             [
              1,
              "#f0f921"
             ]
            ],
            "type": "heatmapgl"
           }
          ],
          "histogram": [
           {
            "marker": {
             "pattern": {
              "fillmode": "overlay",
              "size": 10,
              "solidity": 0.2
             }
            },
            "type": "histogram"
           }
          ],
          "histogram2d": [
           {
            "colorbar": {
             "outlinewidth": 0,
             "ticks": ""
            },
            "colorscale": [
             [
              0,
              "#0d0887"
             ],
             [
              0.1111111111111111,
              "#46039f"
             ],
             [
              0.2222222222222222,
              "#7201a8"
             ],
             [
              0.3333333333333333,
              "#9c179e"
             ],
             [
              0.4444444444444444,
              "#bd3786"
             ],
             [
              0.5555555555555556,
              "#d8576b"
             ],
             [
              0.6666666666666666,
              "#ed7953"
             ],
             [
              0.7777777777777778,
              "#fb9f3a"
             ],
             [
              0.8888888888888888,
              "#fdca26"
             ],
             [
              1,
              "#f0f921"
             ]
            ],
            "type": "histogram2d"
           }
          ],
          "histogram2dcontour": [
           {
            "colorbar": {
             "outlinewidth": 0,
             "ticks": ""
            },
            "colorscale": [
             [
              0,
              "#0d0887"
             ],
             [
              0.1111111111111111,
              "#46039f"
             ],
             [
              0.2222222222222222,
              "#7201a8"
             ],
             [
              0.3333333333333333,
              "#9c179e"
             ],
             [
              0.4444444444444444,
              "#bd3786"
             ],
             [
              0.5555555555555556,
              "#d8576b"
             ],
             [
              0.6666666666666666,
              "#ed7953"
             ],
             [
              0.7777777777777778,
              "#fb9f3a"
             ],
             [
              0.8888888888888888,
              "#fdca26"
             ],
             [
              1,
              "#f0f921"
             ]
            ],
            "type": "histogram2dcontour"
           }
          ],
          "mesh3d": [
           {
            "colorbar": {
             "outlinewidth": 0,
             "ticks": ""
            },
            "type": "mesh3d"
           }
          ],
          "parcoords": [
           {
            "line": {
             "colorbar": {
              "outlinewidth": 0,
              "ticks": ""
             }
            },
            "type": "parcoords"
           }
          ],
          "pie": [
           {
            "automargin": true,
            "type": "pie"
           }
          ],
          "scatter": [
           {
            "fillpattern": {
             "fillmode": "overlay",
             "size": 10,
             "solidity": 0.2
            },
            "type": "scatter"
           }
          ],
          "scatter3d": [
           {
            "line": {
             "colorbar": {
              "outlinewidth": 0,
              "ticks": ""
             }
            },
            "marker": {
             "colorbar": {
              "outlinewidth": 0,
              "ticks": ""
             }
            },
            "type": "scatter3d"
           }
          ],
          "scattercarpet": [
           {
            "marker": {
             "colorbar": {
              "outlinewidth": 0,
              "ticks": ""
             }
            },
            "type": "scattercarpet"
           }
          ],
          "scattergeo": [
           {
            "marker": {
             "colorbar": {
              "outlinewidth": 0,
              "ticks": ""
             }
            },
            "type": "scattergeo"
           }
          ],
          "scattergl": [
           {
            "marker": {
             "colorbar": {
              "outlinewidth": 0,
              "ticks": ""
             }
            },
            "type": "scattergl"
           }
          ],
          "scattermapbox": [
           {
            "marker": {
             "colorbar": {
              "outlinewidth": 0,
              "ticks": ""
             }
            },
            "type": "scattermapbox"
           }
          ],
          "scatterpolar": [
           {
            "marker": {
             "colorbar": {
              "outlinewidth": 0,
              "ticks": ""
             }
            },
            "type": "scatterpolar"
           }
          ],
          "scatterpolargl": [
           {
            "marker": {
             "colorbar": {
              "outlinewidth": 0,
              "ticks": ""
             }
            },
            "type": "scatterpolargl"
           }
          ],
          "scatterternary": [
           {
            "marker": {
             "colorbar": {
              "outlinewidth": 0,
              "ticks": ""
             }
            },
            "type": "scatterternary"
           }
          ],
          "surface": [
           {
            "colorbar": {
             "outlinewidth": 0,
             "ticks": ""
            },
            "colorscale": [
             [
              0,
              "#0d0887"
             ],
             [
              0.1111111111111111,
              "#46039f"
             ],
             [
              0.2222222222222222,
              "#7201a8"
             ],
             [
              0.3333333333333333,
              "#9c179e"
             ],
             [
              0.4444444444444444,
              "#bd3786"
             ],
             [
              0.5555555555555556,
              "#d8576b"
             ],
             [
              0.6666666666666666,
              "#ed7953"
             ],
             [
              0.7777777777777778,
              "#fb9f3a"
             ],
             [
              0.8888888888888888,
              "#fdca26"
             ],
             [
              1,
              "#f0f921"
             ]
            ],
            "type": "surface"
           }
          ],
          "table": [
           {
            "cells": {
             "fill": {
              "color": "#EBF0F8"
             },
             "line": {
              "color": "white"
             }
            },
            "header": {
             "fill": {
              "color": "#C8D4E3"
             },
             "line": {
              "color": "white"
             }
            },
            "type": "table"
           }
          ]
         },
         "layout": {
          "annotationdefaults": {
           "arrowcolor": "#2a3f5f",
           "arrowhead": 0,
           "arrowwidth": 1
          },
          "autotypenumbers": "strict",
          "coloraxis": {
           "colorbar": {
            "outlinewidth": 0,
            "ticks": ""
           }
          },
          "colorscale": {
           "diverging": [
            [
             0,
             "#8e0152"
            ],
            [
             0.1,
             "#c51b7d"
            ],
            [
             0.2,
             "#de77ae"
            ],
            [
             0.3,
             "#f1b6da"
            ],
            [
             0.4,
             "#fde0ef"
            ],
            [
             0.5,
             "#f7f7f7"
            ],
            [
             0.6,
             "#e6f5d0"
            ],
            [
             0.7,
             "#b8e186"
            ],
            [
             0.8,
             "#7fbc41"
            ],
            [
             0.9,
             "#4d9221"
            ],
            [
             1,
             "#276419"
            ]
           ],
           "sequential": [
            [
             0,
             "#0d0887"
            ],
            [
             0.1111111111111111,
             "#46039f"
            ],
            [
             0.2222222222222222,
             "#7201a8"
            ],
            [
             0.3333333333333333,
             "#9c179e"
            ],
            [
             0.4444444444444444,
             "#bd3786"
            ],
            [
             0.5555555555555556,
             "#d8576b"
            ],
            [
             0.6666666666666666,
             "#ed7953"
            ],
            [
             0.7777777777777778,
             "#fb9f3a"
            ],
            [
             0.8888888888888888,
             "#fdca26"
            ],
            [
             1,
             "#f0f921"
            ]
           ],
           "sequentialminus": [
            [
             0,
             "#0d0887"
            ],
            [
             0.1111111111111111,
             "#46039f"
            ],
            [
             0.2222222222222222,
             "#7201a8"
            ],
            [
             0.3333333333333333,
             "#9c179e"
            ],
            [
             0.4444444444444444,
             "#bd3786"
            ],
            [
             0.5555555555555556,
             "#d8576b"
            ],
            [
             0.6666666666666666,
             "#ed7953"
            ],
            [
             0.7777777777777778,
             "#fb9f3a"
            ],
            [
             0.8888888888888888,
             "#fdca26"
            ],
            [
             1,
             "#f0f921"
            ]
           ]
          },
          "colorway": [
           "#636efa",
           "#EF553B",
           "#00cc96",
           "#ab63fa",
           "#FFA15A",
           "#19d3f3",
           "#FF6692",
           "#B6E880",
           "#FF97FF",
           "#FECB52"
          ],
          "font": {
           "color": "#2a3f5f"
          },
          "geo": {
           "bgcolor": "white",
           "lakecolor": "white",
           "landcolor": "#E5ECF6",
           "showlakes": true,
           "showland": true,
           "subunitcolor": "white"
          },
          "hoverlabel": {
           "align": "left"
          },
          "hovermode": "closest",
          "mapbox": {
           "style": "light"
          },
          "paper_bgcolor": "white",
          "plot_bgcolor": "#E5ECF6",
          "polar": {
           "angularaxis": {
            "gridcolor": "white",
            "linecolor": "white",
            "ticks": ""
           },
           "bgcolor": "#E5ECF6",
           "radialaxis": {
            "gridcolor": "white",
            "linecolor": "white",
            "ticks": ""
           }
          },
          "scene": {
           "xaxis": {
            "backgroundcolor": "#E5ECF6",
            "gridcolor": "white",
            "gridwidth": 2,
            "linecolor": "white",
            "showbackground": true,
            "ticks": "",
            "zerolinecolor": "white"
           },
           "yaxis": {
            "backgroundcolor": "#E5ECF6",
            "gridcolor": "white",
            "gridwidth": 2,
            "linecolor": "white",
            "showbackground": true,
            "ticks": "",
            "zerolinecolor": "white"
           },
           "zaxis": {
            "backgroundcolor": "#E5ECF6",
            "gridcolor": "white",
            "gridwidth": 2,
            "linecolor": "white",
            "showbackground": true,
            "ticks": "",
            "zerolinecolor": "white"
           }
          },
          "shapedefaults": {
           "line": {
            "color": "#2a3f5f"
           }
          },
          "ternary": {
           "aaxis": {
            "gridcolor": "white",
            "linecolor": "white",
            "ticks": ""
           },
           "baxis": {
            "gridcolor": "white",
            "linecolor": "white",
            "ticks": ""
           },
           "bgcolor": "#E5ECF6",
           "caxis": {
            "gridcolor": "white",
            "linecolor": "white",
            "ticks": ""
           }
          },
          "title": {
           "x": 0.05
          },
          "xaxis": {
           "automargin": true,
           "gridcolor": "white",
           "linecolor": "white",
           "ticks": "",
           "title": {
            "standoff": 15
           },
           "zerolinecolor": "white",
           "zerolinewidth": 2
          },
          "yaxis": {
           "automargin": true,
           "gridcolor": "white",
           "linecolor": "white",
           "ticks": "",
           "title": {
            "standoff": 15
           },
           "zerolinecolor": "white",
           "zerolinewidth": 2
          }
         }
        },
        "title": {
         "text": "Absolute difference in loss performance of head explained by CSPA"
        },
        "width": 1800,
        "xaxis": {
         "anchor": "y",
         "domain": [
          0,
          0.49
         ],
         "title": {
          "text": "Head"
         }
        },
        "xaxis2": {
         "anchor": "y2",
         "domain": [
          0.51,
          1
         ],
         "matches": "x",
         "title": {
          "text": "Head"
         }
        },
        "yaxis": {
         "anchor": "x",
         "autorange": "reversed",
         "domain": [
          0,
          1
         ],
         "title": {
          "text": "Layer"
         }
        },
        "yaxis2": {
         "anchor": "x2",
         "domain": [
          0,
          1
         ],
         "matches": "y",
         "showticklabels": false
        }
       }
      },
      "text/html": [
       "<div>                            <div id=\"5b1f254c-6818-4bb8-ab9b-4e8d16e5a0e8\" class=\"plotly-graph-div\" style=\"height:450px; width:1800px;\"></div>            <script type=\"text/javascript\">                require([\"plotly\"], function(Plotly) {                    window.PLOTLYENV=window.PLOTLYENV || {};                                    if (document.getElementById(\"5b1f254c-6818-4bb8-ab9b-4e8d16e5a0e8\")) {                    Plotly.newPlot(                        \"5b1f254c-6818-4bb8-ab9b-4e8d16e5a0e8\",                        [{\"coloraxis\":\"coloraxis\",\"name\":\"0\",\"texttemplate\":\"%{z:.2f}\",\"y\":[\"8\",\"9\",\"10\",\"11\"],\"z\":[[0.0025068786926567554,2.154120863906428e-07,-7.485095011361409e-06,-0.0006697605713270605,7.678269321331754e-05,-0.0003446487826295197,1.1369784260750748e-05,3.505603672238067e-05,4.418474418343976e-05,0.0049304356798529625,0.0773983746767044,2.4269334971904755e-05],[0.00012412594514898956,0.00037196563789620996,3.083167030126788e-05,-1.847299972723704e-05,-5.355857501854189e-05,0.05118711292743683,0.00011405246186768636,0.001875985530205071,3.9784019463695586e-05,1.7528305761516094e-05,-0.0001362883922411129,1.4044962881598622e-06],[8.436453208560124e-05,0.0002607853675726801,0.0002344879467273131,0.000754590961150825,0.002669150708243251,0.00017851372831501067,0.00016551751468796283,0.44750329852104187,0.001022804994136095,0.00016989598225336522,0.00026009438442997634,5.3785479394719005e-05],[0.014169118367135525,0.0005423328839242458,5.261538899503648e-05,2.4518629288650118e-05,0.0046538389287889,0.00336022162809968,0.00030719549977220595,0.00025057906168513,-0.0012752891052514315,0.0009055919945240021,0.26297658681869507,0.00015168418758548796]],\"type\":\"heatmap\",\"xaxis\":\"x\",\"yaxis\":\"y\",\"hovertemplate\":\"Head: %{x}\\u003cbr\\u003eLayer: %{y}\\u003cbr\\u003ecolor: %{z}\\u003cextra\\u003e\\u003c\\u002fextra\\u003e\"},{\"coloraxis\":\"coloraxis\",\"name\":\"1\",\"texttemplate\":\"%{z:.2f}\",\"y\":[\"8\",\"9\",\"10\",\"11\"],\"z\":[[0.0037296840455383062,0.1523081213235855,0.020686548203229904,0.03159923106431961,0.005573423113673925,0.006300266366451979,0.10764814168214798,0.004158371593803167,0.07576202601194382,0.0059812054969370365,0.07740163058042526,0.10799084603786469],[0.09909339994192123,0.1502969115972519,0.10769904404878616,0.012973948381841183,0.013926115818321705,0.05121316760778427,0.318175733089447,0.023786405101418495,0.1065211370587349,0.2832261323928833,0.0028022686019539833,0.17281624674797058],[0.30576103925704956,0.22391296923160553,0.2564169466495514,0.1219388097524643,0.050084710121154785,0.002498816465958953,0.2716453969478607,0.4475046694278717,0.09174209088087082,0.010309940204024315,0.30448830127716064,0.11386775970458984],[0.015070651657879353,0.1276041865348816,0.22197771072387695,0.029119493439793587,0.07074747234582901,0.11760029941797256,0.1550670862197876,0.1258394718170166,0.0008696925360709429,0.16305091977119446,0.263001948595047,0.04746968671679497]],\"type\":\"heatmap\",\"xaxis\":\"x2\",\"yaxis\":\"y2\",\"hovertemplate\":\"Head: %{x}\\u003cbr\\u003eLayer: %{y}\\u003cbr\\u003ecolor: %{z}\\u003cextra\\u003e\\u003c\\u002fextra\\u003e\"}],                        {\"template\":{\"data\":{\"histogram2dcontour\":[{\"type\":\"histogram2dcontour\",\"colorbar\":{\"outlinewidth\":0,\"ticks\":\"\"},\"colorscale\":[[0.0,\"#0d0887\"],[0.1111111111111111,\"#46039f\"],[0.2222222222222222,\"#7201a8\"],[0.3333333333333333,\"#9c179e\"],[0.4444444444444444,\"#bd3786\"],[0.5555555555555556,\"#d8576b\"],[0.6666666666666666,\"#ed7953\"],[0.7777777777777778,\"#fb9f3a\"],[0.8888888888888888,\"#fdca26\"],[1.0,\"#f0f921\"]]}],\"choropleth\":[{\"type\":\"choropleth\",\"colorbar\":{\"outlinewidth\":0,\"ticks\":\"\"}}],\"histogram2d\":[{\"type\":\"histogram2d\",\"colorbar\":{\"outlinewidth\":0,\"ticks\":\"\"},\"colorscale\":[[0.0,\"#0d0887\"],[0.1111111111111111,\"#46039f\"],[0.2222222222222222,\"#7201a8\"],[0.3333333333333333,\"#9c179e\"],[0.4444444444444444,\"#bd3786\"],[0.5555555555555556,\"#d8576b\"],[0.6666666666666666,\"#ed7953\"],[0.7777777777777778,\"#fb9f3a\"],[0.8888888888888888,\"#fdca26\"],[1.0,\"#f0f921\"]]}],\"heatmap\":[{\"type\":\"heatmap\",\"colorbar\":{\"outlinewidth\":0,\"ticks\":\"\"},\"colorscale\":[[0.0,\"#0d0887\"],[0.1111111111111111,\"#46039f\"],[0.2222222222222222,\"#7201a8\"],[0.3333333333333333,\"#9c179e\"],[0.4444444444444444,\"#bd3786\"],[0.5555555555555556,\"#d8576b\"],[0.6666666666666666,\"#ed7953\"],[0.7777777777777778,\"#fb9f3a\"],[0.8888888888888888,\"#fdca26\"],[1.0,\"#f0f921\"]]}],\"heatmapgl\":[{\"type\":\"heatmapgl\",\"colorbar\":{\"outlinewidth\":0,\"ticks\":\"\"},\"colorscale\":[[0.0,\"#0d0887\"],[0.1111111111111111,\"#46039f\"],[0.2222222222222222,\"#7201a8\"],[0.3333333333333333,\"#9c179e\"],[0.4444444444444444,\"#bd3786\"],[0.5555555555555556,\"#d8576b\"],[0.6666666666666666,\"#ed7953\"],[0.7777777777777778,\"#fb9f3a\"],[0.8888888888888888,\"#fdca26\"],[1.0,\"#f0f921\"]]}],\"contourcarpet\":[{\"type\":\"contourcarpet\",\"colorbar\":{\"outlinewidth\":0,\"ticks\":\"\"}}],\"contour\":[{\"type\":\"contour\",\"colorbar\":{\"outlinewidth\":0,\"ticks\":\"\"},\"colorscale\":[[0.0,\"#0d0887\"],[0.1111111111111111,\"#46039f\"],[0.2222222222222222,\"#7201a8\"],[0.3333333333333333,\"#9c179e\"],[0.4444444444444444,\"#bd3786\"],[0.5555555555555556,\"#d8576b\"],[0.6666666666666666,\"#ed7953\"],[0.7777777777777778,\"#fb9f3a\"],[0.8888888888888888,\"#fdca26\"],[1.0,\"#f0f921\"]]}],\"surface\":[{\"type\":\"surface\",\"colorbar\":{\"outlinewidth\":0,\"ticks\":\"\"},\"colorscale\":[[0.0,\"#0d0887\"],[0.1111111111111111,\"#46039f\"],[0.2222222222222222,\"#7201a8\"],[0.3333333333333333,\"#9c179e\"],[0.4444444444444444,\"#bd3786\"],[0.5555555555555556,\"#d8576b\"],[0.6666666666666666,\"#ed7953\"],[0.7777777777777778,\"#fb9f3a\"],[0.8888888888888888,\"#fdca26\"],[1.0,\"#f0f921\"]]}],\"mesh3d\":[{\"type\":\"mesh3d\",\"colorbar\":{\"outlinewidth\":0,\"ticks\":\"\"}}],\"scatter\":[{\"fillpattern\":{\"fillmode\":\"overlay\",\"size\":10,\"solidity\":0.2},\"type\":\"scatter\"}],\"parcoords\":[{\"type\":\"parcoords\",\"line\":{\"colorbar\":{\"outlinewidth\":0,\"ticks\":\"\"}}}],\"scatterpolargl\":[{\"type\":\"scatterpolargl\",\"marker\":{\"colorbar\":{\"outlinewidth\":0,\"ticks\":\"\"}}}],\"bar\":[{\"error_x\":{\"color\":\"#2a3f5f\"},\"error_y\":{\"color\":\"#2a3f5f\"},\"marker\":{\"line\":{\"color\":\"#E5ECF6\",\"width\":0.5},\"pattern\":{\"fillmode\":\"overlay\",\"size\":10,\"solidity\":0.2}},\"type\":\"bar\"}],\"scattergeo\":[{\"type\":\"scattergeo\",\"marker\":{\"colorbar\":{\"outlinewidth\":0,\"ticks\":\"\"}}}],\"scatterpolar\":[{\"type\":\"scatterpolar\",\"marker\":{\"colorbar\":{\"outlinewidth\":0,\"ticks\":\"\"}}}],\"histogram\":[{\"marker\":{\"pattern\":{\"fillmode\":\"overlay\",\"size\":10,\"solidity\":0.2}},\"type\":\"histogram\"}],\"scattergl\":[{\"type\":\"scattergl\",\"marker\":{\"colorbar\":{\"outlinewidth\":0,\"ticks\":\"\"}}}],\"scatter3d\":[{\"type\":\"scatter3d\",\"line\":{\"colorbar\":{\"outlinewidth\":0,\"ticks\":\"\"}},\"marker\":{\"colorbar\":{\"outlinewidth\":0,\"ticks\":\"\"}}}],\"scattermapbox\":[{\"type\":\"scattermapbox\",\"marker\":{\"colorbar\":{\"outlinewidth\":0,\"ticks\":\"\"}}}],\"scatterternary\":[{\"type\":\"scatterternary\",\"marker\":{\"colorbar\":{\"outlinewidth\":0,\"ticks\":\"\"}}}],\"scattercarpet\":[{\"type\":\"scattercarpet\",\"marker\":{\"colorbar\":{\"outlinewidth\":0,\"ticks\":\"\"}}}],\"carpet\":[{\"aaxis\":{\"endlinecolor\":\"#2a3f5f\",\"gridcolor\":\"white\",\"linecolor\":\"white\",\"minorgridcolor\":\"white\",\"startlinecolor\":\"#2a3f5f\"},\"baxis\":{\"endlinecolor\":\"#2a3f5f\",\"gridcolor\":\"white\",\"linecolor\":\"white\",\"minorgridcolor\":\"white\",\"startlinecolor\":\"#2a3f5f\"},\"type\":\"carpet\"}],\"table\":[{\"cells\":{\"fill\":{\"color\":\"#EBF0F8\"},\"line\":{\"color\":\"white\"}},\"header\":{\"fill\":{\"color\":\"#C8D4E3\"},\"line\":{\"color\":\"white\"}},\"type\":\"table\"}],\"barpolar\":[{\"marker\":{\"line\":{\"color\":\"#E5ECF6\",\"width\":0.5},\"pattern\":{\"fillmode\":\"overlay\",\"size\":10,\"solidity\":0.2}},\"type\":\"barpolar\"}],\"pie\":[{\"automargin\":true,\"type\":\"pie\"}]},\"layout\":{\"autotypenumbers\":\"strict\",\"colorway\":[\"#636efa\",\"#EF553B\",\"#00cc96\",\"#ab63fa\",\"#FFA15A\",\"#19d3f3\",\"#FF6692\",\"#B6E880\",\"#FF97FF\",\"#FECB52\"],\"font\":{\"color\":\"#2a3f5f\"},\"hovermode\":\"closest\",\"hoverlabel\":{\"align\":\"left\"},\"paper_bgcolor\":\"white\",\"plot_bgcolor\":\"#E5ECF6\",\"polar\":{\"bgcolor\":\"#E5ECF6\",\"angularaxis\":{\"gridcolor\":\"white\",\"linecolor\":\"white\",\"ticks\":\"\"},\"radialaxis\":{\"gridcolor\":\"white\",\"linecolor\":\"white\",\"ticks\":\"\"}},\"ternary\":{\"bgcolor\":\"#E5ECF6\",\"aaxis\":{\"gridcolor\":\"white\",\"linecolor\":\"white\",\"ticks\":\"\"},\"baxis\":{\"gridcolor\":\"white\",\"linecolor\":\"white\",\"ticks\":\"\"},\"caxis\":{\"gridcolor\":\"white\",\"linecolor\":\"white\",\"ticks\":\"\"}},\"coloraxis\":{\"colorbar\":{\"outlinewidth\":0,\"ticks\":\"\"}},\"colorscale\":{\"sequential\":[[0.0,\"#0d0887\"],[0.1111111111111111,\"#46039f\"],[0.2222222222222222,\"#7201a8\"],[0.3333333333333333,\"#9c179e\"],[0.4444444444444444,\"#bd3786\"],[0.5555555555555556,\"#d8576b\"],[0.6666666666666666,\"#ed7953\"],[0.7777777777777778,\"#fb9f3a\"],[0.8888888888888888,\"#fdca26\"],[1.0,\"#f0f921\"]],\"sequentialminus\":[[0.0,\"#0d0887\"],[0.1111111111111111,\"#46039f\"],[0.2222222222222222,\"#7201a8\"],[0.3333333333333333,\"#9c179e\"],[0.4444444444444444,\"#bd3786\"],[0.5555555555555556,\"#d8576b\"],[0.6666666666666666,\"#ed7953\"],[0.7777777777777778,\"#fb9f3a\"],[0.8888888888888888,\"#fdca26\"],[1.0,\"#f0f921\"]],\"diverging\":[[0,\"#8e0152\"],[0.1,\"#c51b7d\"],[0.2,\"#de77ae\"],[0.3,\"#f1b6da\"],[0.4,\"#fde0ef\"],[0.5,\"#f7f7f7\"],[0.6,\"#e6f5d0\"],[0.7,\"#b8e186\"],[0.8,\"#7fbc41\"],[0.9,\"#4d9221\"],[1,\"#276419\"]]},\"xaxis\":{\"gridcolor\":\"white\",\"linecolor\":\"white\",\"ticks\":\"\",\"title\":{\"standoff\":15},\"zerolinecolor\":\"white\",\"automargin\":true,\"zerolinewidth\":2},\"yaxis\":{\"gridcolor\":\"white\",\"linecolor\":\"white\",\"ticks\":\"\",\"title\":{\"standoff\":15},\"zerolinecolor\":\"white\",\"automargin\":true,\"zerolinewidth\":2},\"scene\":{\"xaxis\":{\"backgroundcolor\":\"#E5ECF6\",\"gridcolor\":\"white\",\"linecolor\":\"white\",\"showbackground\":true,\"ticks\":\"\",\"zerolinecolor\":\"white\",\"gridwidth\":2},\"yaxis\":{\"backgroundcolor\":\"#E5ECF6\",\"gridcolor\":\"white\",\"linecolor\":\"white\",\"showbackground\":true,\"ticks\":\"\",\"zerolinecolor\":\"white\",\"gridwidth\":2},\"zaxis\":{\"backgroundcolor\":\"#E5ECF6\",\"gridcolor\":\"white\",\"linecolor\":\"white\",\"showbackground\":true,\"ticks\":\"\",\"zerolinecolor\":\"white\",\"gridwidth\":2}},\"shapedefaults\":{\"line\":{\"color\":\"#2a3f5f\"}},\"annotationdefaults\":{\"arrowcolor\":\"#2a3f5f\",\"arrowhead\":0,\"arrowwidth\":1},\"geo\":{\"bgcolor\":\"white\",\"landcolor\":\"#E5ECF6\",\"subunitcolor\":\"white\",\"showland\":true,\"showlakes\":true,\"lakecolor\":\"white\"},\"title\":{\"x\":0.05},\"mapbox\":{\"style\":\"light\"}}},\"xaxis\":{\"anchor\":\"y\",\"domain\":[0.0,0.49],\"title\":{\"text\":\"Head\"}},\"yaxis\":{\"anchor\":\"x\",\"domain\":[0.0,1.0],\"autorange\":\"reversed\",\"title\":{\"text\":\"Layer\"}},\"xaxis2\":{\"anchor\":\"y2\",\"domain\":[0.51,1.0],\"matches\":\"x\",\"title\":{\"text\":\"Head\"}},\"yaxis2\":{\"anchor\":\"x2\",\"domain\":[0.0,1.0],\"matches\":\"y\",\"showticklabels\":false},\"annotations\":[{\"font\":{},\"showarrow\":false,\"text\":\"Only keep negative components\",\"x\":0.245,\"xanchor\":\"center\",\"xref\":\"paper\",\"y\":1.0,\"yanchor\":\"bottom\",\"yref\":\"paper\"},{\"font\":{},\"showarrow\":false,\"text\":\"Keep negative and positive components\",\"x\":0.755,\"xanchor\":\"center\",\"xref\":\"paper\",\"y\":1.0,\"yanchor\":\"bottom\",\"yref\":\"paper\"}],\"coloraxis\":{\"colorscale\":[[0.0,\"rgb(247,251,255)\"],[0.125,\"rgb(222,235,247)\"],[0.25,\"rgb(198,219,239)\"],[0.375,\"rgb(158,202,225)\"],[0.5,\"rgb(107,174,214)\"],[0.625,\"rgb(66,146,198)\"],[0.75,\"rgb(33,113,181)\"],[0.875,\"rgb(8,81,156)\"],[1.0,\"rgb(8,48,107)\"]],\"cmid\":0.0,\"cmin\":0,\"cmax\":1},\"title\":{\"text\":\"Absolute difference in loss performance of head explained by CSPA\"},\"height\":450,\"width\":1800,\"modebar\":{\"add\":[\"drawline\",\"drawopenpath\",\"drawclosedpath\",\"drawcircle\",\"drawrect\",\"eraseshape\"]}},                        {\"displaylogo\": false, \"responsive\": true}                    ).then(function(){\n",
       "                            \n",
       "var gd = document.getElementById('5b1f254c-6818-4bb8-ab9b-4e8d16e5a0e8');\n",
       "var x = new MutationObserver(function (mutations, observer) {{\n",
       "        var display = window.getComputedStyle(gd).display;\n",
       "        if (!display || display === 'none') {{\n",
       "            console.log([gd, 'removed!']);\n",
       "            Plotly.purge(gd);\n",
       "            observer.disconnect();\n",
       "        }}\n",
       "}});\n",
       "\n",
       "// Listen for the removal of the full notebook cells\n",
       "var notebookContainer = gd.closest('#notebook-container');\n",
       "if (notebookContainer) {{\n",
       "    x.observe(notebookContainer, {childList: true});\n",
       "}}\n",
       "\n",
       "// Listen for the clearing of the current output cell\n",
       "var outputEl = gd.closest('.output');\n",
       "if (outputEl) {{\n",
       "    x.observe(outputEl, {childList: true});\n",
       "}}\n",
       "\n",
       "                        })                };                });            </script>        </div>"
      ]
     },
     "metadata": {},
     "output_type": "display_data"
    },
    {
     "data": {
      "application/vnd.plotly.v1+json": {
       "config": {
        "displaylogo": false,
        "plotlyServerURL": "https://plot.ly",
        "responsive": true
       },
       "data": [
        {
         "coloraxis": "coloraxis",
         "hovertemplate": "Head: %{x}<br>Layer: %{y}<br>color: %{z}<extra></extra>",
         "name": "0",
         "texttemplate": "%{z:.2f}",
         "type": "heatmap",
         "xaxis": "x",
         "y": [
          "8",
          "9",
          "10",
          "11"
         ],
         "yaxis": "y",
         "z": [
          [
           0.001396210864186287,
           -1.0874305900188119e-7,
           0.00004371495379018597,
           -0.0021730964072048664,
           -0.00019612518372014165,
           -0.00043168672709725797,
           0.0000060743195717805065,
           -0.00001541960045869928,
           0.000036837947845924646,
           0.011565926484763622,
           0.17609108984470367,
           0.00003572282730601728
          ],
          [
           0.0001323796750511974,
           0.00029306794749572873,
           0.00002214667620137334,
           -0.00010430448310216889,
           0.0012975947465747595,
           0.11637012660503387,
           0.00001732994132908061,
           -0.0009839909616857767,
           0.00007915314199635759,
           0.000013499266970029566,
           0.0006365231820382178,
           9.860037835096591e-7
          ],
          [
           0.0000379272059944924,
           0.000051962928409921005,
           0.0002818306675180793,
           0.0014125871239230037,
           0.003732377663254738,
           -0.00012841695570386946,
           0.00007658370304852724,
           0.7909166216850281,
           0.0005558866541832685,
           0.001569894957356155,
           0.00006215782923391089,
           0.000027998214136459865
          ],
          [
           0.023937810212373734,
           0.0007846085936762393,
           0.000031368170311907306,
           0.00002142788616765756,
           0.003808654146268964,
           0.0029668447095900774,
           0.0004307921335566789,
           0.0009192638681270182,
           -0.0038416062016040087,
           0.0008434581686742604,
           0.6214972138404846,
           0.00021565078350249678
          ]
         ]
        },
        {
         "coloraxis": "coloraxis",
         "hovertemplate": "Head: %{x}<br>Layer: %{y}<br>color: %{z}<extra></extra>",
         "name": "1",
         "texttemplate": "%{z:.2f}",
         "type": "heatmap",
         "xaxis": "x2",
         "y": [
          "8",
          "9",
          "10",
          "11"
         ],
         "yaxis": "y2",
         "z": [
          [
           0.0038307998329401016,
           0.29978734254837036,
           0.0776432678103447,
           0.07595116645097733,
           0.008145852014422417,
           0.018519220873713493,
           0.2870785593986511,
           0.008276356384158134,
           0.17448242008686066,
           0.013940452598035336,
           0.17609496414661407,
           0.2607743442058563
          ],
          [
           0.25265562534332275,
           0.44437411427497864,
           0.24474024772644043,
           0.02578079327940941,
           0.03883400931954384,
           0.1164647713303566,
           0.6238207221031189,
           0.11500623822212219,
           0.2569599747657776,
           0.48998910188674927,
           0.004717167001217604,
           0.5592556595802307
          ],
          [
           0.6127228736877441,
           0.578845739364624,
           0.5823561549186707,
           0.3595695495605469,
           0.09132590889930725,
           0.010391820222139359,
           0.5643413066864014,
           0.7909169793128967,
           0.1629510223865509,
           0.03240286931395531,
           0.5975359082221985,
           0.22748075425624847
          ],
          [
           0.025335894897580147,
           0.3884056806564331,
           0.5101173520088196,
           0.059834159910678864,
           0.4612918496131897,
           0.4204842150211334,
           0.4619889557361603,
           0.5184223651885986,
           -0.00017085327999666333,
           0.5641806721687317,
           0.6215377449989319,
           0.13320261240005493
          ]
         ]
        }
       ],
       "layout": {
        "annotations": [
         {
          "font": {},
          "showarrow": false,
          "text": "Only keep negative components",
          "x": 0.245,
          "xanchor": "center",
          "xref": "paper",
          "y": 1,
          "yanchor": "bottom",
          "yref": "paper"
         },
         {
          "font": {},
          "showarrow": false,
          "text": "Keep negative and positive components",
          "x": 0.755,
          "xanchor": "center",
          "xref": "paper",
          "y": 1,
          "yanchor": "bottom",
          "yref": "paper"
         }
        ],
        "coloraxis": {
         "cmax": 1,
         "cmid": 0,
         "cmin": 0,
         "colorscale": [
          [
           0,
           "rgb(247,251,255)"
          ],
          [
           0.125,
           "rgb(222,235,247)"
          ],
          [
           0.25,
           "rgb(198,219,239)"
          ],
          [
           0.375,
           "rgb(158,202,225)"
          ],
          [
           0.5,
           "rgb(107,174,214)"
          ],
          [
           0.625,
           "rgb(66,146,198)"
          ],
          [
           0.75,
           "rgb(33,113,181)"
          ],
          [
           0.875,
           "rgb(8,81,156)"
          ],
          [
           1,
           "rgb(8,48,107)"
          ]
         ]
        },
        "height": 450,
        "modebar": {
         "add": [
          "drawline",
          "drawopenpath",
          "drawclosedpath",
          "drawcircle",
          "drawrect",
          "eraseshape"
         ]
        },
        "template": {
         "data": {
          "bar": [
           {
            "error_x": {
             "color": "#2a3f5f"
            },
            "error_y": {
             "color": "#2a3f5f"
            },
            "marker": {
             "line": {
              "color": "#E5ECF6",
              "width": 0.5
             },
             "pattern": {
              "fillmode": "overlay",
              "size": 10,
              "solidity": 0.2
             }
            },
            "type": "bar"
           }
          ],
          "barpolar": [
           {
            "marker": {
             "line": {
              "color": "#E5ECF6",
              "width": 0.5
             },
             "pattern": {
              "fillmode": "overlay",
              "size": 10,
              "solidity": 0.2
             }
            },
            "type": "barpolar"
           }
          ],
          "carpet": [
           {
            "aaxis": {
             "endlinecolor": "#2a3f5f",
             "gridcolor": "white",
             "linecolor": "white",
             "minorgridcolor": "white",
             "startlinecolor": "#2a3f5f"
            },
            "baxis": {
             "endlinecolor": "#2a3f5f",
             "gridcolor": "white",
             "linecolor": "white",
             "minorgridcolor": "white",
             "startlinecolor": "#2a3f5f"
            },
            "type": "carpet"
           }
          ],
          "choropleth": [
           {
            "colorbar": {
             "outlinewidth": 0,
             "ticks": ""
            },
            "type": "choropleth"
           }
          ],
          "contour": [
           {
            "colorbar": {
             "outlinewidth": 0,
             "ticks": ""
            },
            "colorscale": [
             [
              0,
              "#0d0887"
             ],
             [
              0.1111111111111111,
              "#46039f"
             ],
             [
              0.2222222222222222,
              "#7201a8"
             ],
             [
              0.3333333333333333,
              "#9c179e"
             ],
             [
              0.4444444444444444,
              "#bd3786"
             ],
             [
              0.5555555555555556,
              "#d8576b"
             ],
             [
              0.6666666666666666,
              "#ed7953"
             ],
             [
              0.7777777777777778,
              "#fb9f3a"
             ],
             [
              0.8888888888888888,
              "#fdca26"
             ],
             [
              1,
              "#f0f921"
             ]
            ],
            "type": "contour"
           }
          ],
          "contourcarpet": [
           {
            "colorbar": {
             "outlinewidth": 0,
             "ticks": ""
            },
            "type": "contourcarpet"
           }
          ],
          "heatmap": [
           {
            "colorbar": {
             "outlinewidth": 0,
             "ticks": ""
            },
            "colorscale": [
             [
              0,
              "#0d0887"
             ],
             [
              0.1111111111111111,
              "#46039f"
             ],
             [
              0.2222222222222222,
              "#7201a8"
             ],
             [
              0.3333333333333333,
              "#9c179e"
             ],
             [
              0.4444444444444444,
              "#bd3786"
             ],
             [
              0.5555555555555556,
              "#d8576b"
             ],
             [
              0.6666666666666666,
              "#ed7953"
             ],
             [
              0.7777777777777778,
              "#fb9f3a"
             ],
             [
              0.8888888888888888,
              "#fdca26"
             ],
             [
              1,
              "#f0f921"
             ]
            ],
            "type": "heatmap"
           }
          ],
          "heatmapgl": [
           {
            "colorbar": {
             "outlinewidth": 0,
             "ticks": ""
            },
            "colorscale": [
             [
              0,
              "#0d0887"
             ],
             [
              0.1111111111111111,
              "#46039f"
             ],
             [
              0.2222222222222222,
              "#7201a8"
             ],
             [
              0.3333333333333333,
              "#9c179e"
             ],
             [
              0.4444444444444444,
              "#bd3786"
             ],
             [
              0.5555555555555556,
              "#d8576b"
             ],
             [
              0.6666666666666666,
              "#ed7953"
             ],
             [
              0.7777777777777778,
              "#fb9f3a"
             ],
             [
              0.8888888888888888,
              "#fdca26"
             ],
             [
              1,
              "#f0f921"
             ]
            ],
            "type": "heatmapgl"
           }
          ],
          "histogram": [
           {
            "marker": {
             "pattern": {
              "fillmode": "overlay",
              "size": 10,
              "solidity": 0.2
             }
            },
            "type": "histogram"
           }
          ],
          "histogram2d": [
           {
            "colorbar": {
             "outlinewidth": 0,
             "ticks": ""
            },
            "colorscale": [
             [
              0,
              "#0d0887"
             ],
             [
              0.1111111111111111,
              "#46039f"
             ],
             [
              0.2222222222222222,
              "#7201a8"
             ],
             [
              0.3333333333333333,
              "#9c179e"
             ],
             [
              0.4444444444444444,
              "#bd3786"
             ],
             [
              0.5555555555555556,
              "#d8576b"
             ],
             [
              0.6666666666666666,
              "#ed7953"
             ],
             [
              0.7777777777777778,
              "#fb9f3a"
             ],
             [
              0.8888888888888888,
              "#fdca26"
             ],
             [
              1,
              "#f0f921"
             ]
            ],
            "type": "histogram2d"
           }
          ],
          "histogram2dcontour": [
           {
            "colorbar": {
             "outlinewidth": 0,
             "ticks": ""
            },
            "colorscale": [
             [
              0,
              "#0d0887"
             ],
             [
              0.1111111111111111,
              "#46039f"
             ],
             [
              0.2222222222222222,
              "#7201a8"
             ],
             [
              0.3333333333333333,
              "#9c179e"
             ],
             [
              0.4444444444444444,
              "#bd3786"
             ],
             [
              0.5555555555555556,
              "#d8576b"
             ],
             [
              0.6666666666666666,
              "#ed7953"
             ],
             [
              0.7777777777777778,
              "#fb9f3a"
             ],
             [
              0.8888888888888888,
              "#fdca26"
             ],
             [
              1,
              "#f0f921"
             ]
            ],
            "type": "histogram2dcontour"
           }
          ],
          "mesh3d": [
           {
            "colorbar": {
             "outlinewidth": 0,
             "ticks": ""
            },
            "type": "mesh3d"
           }
          ],
          "parcoords": [
           {
            "line": {
             "colorbar": {
              "outlinewidth": 0,
              "ticks": ""
             }
            },
            "type": "parcoords"
           }
          ],
          "pie": [
           {
            "automargin": true,
            "type": "pie"
           }
          ],
          "scatter": [
           {
            "fillpattern": {
             "fillmode": "overlay",
             "size": 10,
             "solidity": 0.2
            },
            "type": "scatter"
           }
          ],
          "scatter3d": [
           {
            "line": {
             "colorbar": {
              "outlinewidth": 0,
              "ticks": ""
             }
            },
            "marker": {
             "colorbar": {
              "outlinewidth": 0,
              "ticks": ""
             }
            },
            "type": "scatter3d"
           }
          ],
          "scattercarpet": [
           {
            "marker": {
             "colorbar": {
              "outlinewidth": 0,
              "ticks": ""
             }
            },
            "type": "scattercarpet"
           }
          ],
          "scattergeo": [
           {
            "marker": {
             "colorbar": {
              "outlinewidth": 0,
              "ticks": ""
             }
            },
            "type": "scattergeo"
           }
          ],
          "scattergl": [
           {
            "marker": {
             "colorbar": {
              "outlinewidth": 0,
              "ticks": ""
             }
            },
            "type": "scattergl"
           }
          ],
          "scattermapbox": [
           {
            "marker": {
             "colorbar": {
              "outlinewidth": 0,
              "ticks": ""
             }
            },
            "type": "scattermapbox"
           }
          ],
          "scatterpolar": [
           {
            "marker": {
             "colorbar": {
              "outlinewidth": 0,
              "ticks": ""
             }
            },
            "type": "scatterpolar"
           }
          ],
          "scatterpolargl": [
           {
            "marker": {
             "colorbar": {
              "outlinewidth": 0,
              "ticks": ""
             }
            },
            "type": "scatterpolargl"
           }
          ],
          "scatterternary": [
           {
            "marker": {
             "colorbar": {
              "outlinewidth": 0,
              "ticks": ""
             }
            },
            "type": "scatterternary"
           }
          ],
          "surface": [
           {
            "colorbar": {
             "outlinewidth": 0,
             "ticks": ""
            },
            "colorscale": [
             [
              0,
              "#0d0887"
             ],
             [
              0.1111111111111111,
              "#46039f"
             ],
             [
              0.2222222222222222,
              "#7201a8"
             ],
             [
              0.3333333333333333,
              "#9c179e"
             ],
             [
              0.4444444444444444,
              "#bd3786"
             ],
             [
              0.5555555555555556,
              "#d8576b"
             ],
             [
              0.6666666666666666,
              "#ed7953"
             ],
             [
              0.7777777777777778,
              "#fb9f3a"
             ],
             [
              0.8888888888888888,
              "#fdca26"
             ],
             [
              1,
              "#f0f921"
             ]
            ],
            "type": "surface"
           }
          ],
          "table": [
           {
            "cells": {
             "fill": {
              "color": "#EBF0F8"
             },
             "line": {
              "color": "white"
             }
            },
            "header": {
             "fill": {
              "color": "#C8D4E3"
             },
             "line": {
              "color": "white"
             }
            },
            "type": "table"
           }
          ]
         },
         "layout": {
          "annotationdefaults": {
           "arrowcolor": "#2a3f5f",
           "arrowhead": 0,
           "arrowwidth": 1
          },
          "autotypenumbers": "strict",
          "coloraxis": {
           "colorbar": {
            "outlinewidth": 0,
            "ticks": ""
           }
          },
          "colorscale": {
           "diverging": [
            [
             0,
             "#8e0152"
            ],
            [
             0.1,
             "#c51b7d"
            ],
            [
             0.2,
             "#de77ae"
            ],
            [
             0.3,
             "#f1b6da"
            ],
            [
             0.4,
             "#fde0ef"
            ],
            [
             0.5,
             "#f7f7f7"
            ],
            [
             0.6,
             "#e6f5d0"
            ],
            [
             0.7,
             "#b8e186"
            ],
            [
             0.8,
             "#7fbc41"
            ],
            [
             0.9,
             "#4d9221"
            ],
            [
             1,
             "#276419"
            ]
           ],
           "sequential": [
            [
             0,
             "#0d0887"
            ],
            [
             0.1111111111111111,
             "#46039f"
            ],
            [
             0.2222222222222222,
             "#7201a8"
            ],
            [
             0.3333333333333333,
             "#9c179e"
            ],
            [
             0.4444444444444444,
             "#bd3786"
            ],
            [
             0.5555555555555556,
             "#d8576b"
            ],
            [
             0.6666666666666666,
             "#ed7953"
            ],
            [
             0.7777777777777778,
             "#fb9f3a"
            ],
            [
             0.8888888888888888,
             "#fdca26"
            ],
            [
             1,
             "#f0f921"
            ]
           ],
           "sequentialminus": [
            [
             0,
             "#0d0887"
            ],
            [
             0.1111111111111111,
             "#46039f"
            ],
            [
             0.2222222222222222,
             "#7201a8"
            ],
            [
             0.3333333333333333,
             "#9c179e"
            ],
            [
             0.4444444444444444,
             "#bd3786"
            ],
            [
             0.5555555555555556,
             "#d8576b"
            ],
            [
             0.6666666666666666,
             "#ed7953"
            ],
            [
             0.7777777777777778,
             "#fb9f3a"
            ],
            [
             0.8888888888888888,
             "#fdca26"
            ],
            [
             1,
             "#f0f921"
            ]
           ]
          },
          "colorway": [
           "#636efa",
           "#EF553B",
           "#00cc96",
           "#ab63fa",
           "#FFA15A",
           "#19d3f3",
           "#FF6692",
           "#B6E880",
           "#FF97FF",
           "#FECB52"
          ],
          "font": {
           "color": "#2a3f5f"
          },
          "geo": {
           "bgcolor": "white",
           "lakecolor": "white",
           "landcolor": "#E5ECF6",
           "showlakes": true,
           "showland": true,
           "subunitcolor": "white"
          },
          "hoverlabel": {
           "align": "left"
          },
          "hovermode": "closest",
          "mapbox": {
           "style": "light"
          },
          "paper_bgcolor": "white",
          "plot_bgcolor": "#E5ECF6",
          "polar": {
           "angularaxis": {
            "gridcolor": "white",
            "linecolor": "white",
            "ticks": ""
           },
           "bgcolor": "#E5ECF6",
           "radialaxis": {
            "gridcolor": "white",
            "linecolor": "white",
            "ticks": ""
           }
          },
          "scene": {
           "xaxis": {
            "backgroundcolor": "#E5ECF6",
            "gridcolor": "white",
            "gridwidth": 2,
            "linecolor": "white",
            "showbackground": true,
            "ticks": "",
            "zerolinecolor": "white"
           },
           "yaxis": {
            "backgroundcolor": "#E5ECF6",
            "gridcolor": "white",
            "gridwidth": 2,
            "linecolor": "white",
            "showbackground": true,
            "ticks": "",
            "zerolinecolor": "white"
           },
           "zaxis": {
            "backgroundcolor": "#E5ECF6",
            "gridcolor": "white",
            "gridwidth": 2,
            "linecolor": "white",
            "showbackground": true,
            "ticks": "",
            "zerolinecolor": "white"
           }
          },
          "shapedefaults": {
           "line": {
            "color": "#2a3f5f"
           }
          },
          "ternary": {
           "aaxis": {
            "gridcolor": "white",
            "linecolor": "white",
            "ticks": ""
           },
           "baxis": {
            "gridcolor": "white",
            "linecolor": "white",
            "ticks": ""
           },
           "bgcolor": "#E5ECF6",
           "caxis": {
            "gridcolor": "white",
            "linecolor": "white",
            "ticks": ""
           }
          },
          "title": {
           "x": 0.05
          },
          "xaxis": {
           "automargin": true,
           "gridcolor": "white",
           "linecolor": "white",
           "ticks": "",
           "title": {
            "standoff": 15
           },
           "zerolinecolor": "white",
           "zerolinewidth": 2
          },
          "yaxis": {
           "automargin": true,
           "gridcolor": "white",
           "linecolor": "white",
           "ticks": "",
           "title": {
            "standoff": 15
           },
           "zerolinecolor": "white",
           "zerolinewidth": 2
          }
         }
        },
        "title": {
         "text": "Squared effect on loss performance of head explained by CSPA"
        },
        "width": 1800,
        "xaxis": {
         "anchor": "y",
         "domain": [
          0,
          0.49
         ],
         "title": {
          "text": "Head"
         }
        },
        "xaxis2": {
         "anchor": "y2",
         "domain": [
          0.51,
          1
         ],
         "matches": "x",
         "title": {
          "text": "Head"
         }
        },
        "yaxis": {
         "anchor": "x",
         "autorange": "reversed",
         "domain": [
          0,
          1
         ],
         "title": {
          "text": "Layer"
         }
        },
        "yaxis2": {
         "anchor": "x2",
         "domain": [
          0,
          1
         ],
         "matches": "y",
         "showticklabels": false
        }
       }
      },
      "text/html": [
       "<div>                            <div id=\"02153e40-b1ad-4574-ae13-cc4282e9b8aa\" class=\"plotly-graph-div\" style=\"height:450px; width:1800px;\"></div>            <script type=\"text/javascript\">                require([\"plotly\"], function(Plotly) {                    window.PLOTLYENV=window.PLOTLYENV || {};                                    if (document.getElementById(\"02153e40-b1ad-4574-ae13-cc4282e9b8aa\")) {                    Plotly.newPlot(                        \"02153e40-b1ad-4574-ae13-cc4282e9b8aa\",                        [{\"coloraxis\":\"coloraxis\",\"name\":\"0\",\"texttemplate\":\"%{z:.2f}\",\"y\":[\"8\",\"9\",\"10\",\"11\"],\"z\":[[0.001396210864186287,-1.0874305900188119e-07,4.371495379018597e-05,-0.0021730964072048664,-0.00019612518372014165,-0.00043168672709725797,6.0743195717805065e-06,-1.541960045869928e-05,3.6837947845924646e-05,0.011565926484763622,0.17609108984470367,3.572282730601728e-05],[0.0001323796750511974,0.00029306794749572873,2.214667620137334e-05,-0.00010430448310216889,0.0012975947465747595,0.11637012660503387,1.732994132908061e-05,-0.0009839909616857767,7.915314199635759e-05,1.3499266970029566e-05,0.0006365231820382178,9.860037835096591e-07],[3.79272059944924e-05,5.1962928409921005e-05,0.0002818306675180793,0.0014125871239230037,0.003732377663254738,-0.00012841695570386946,7.658370304852724e-05,0.7909166216850281,0.0005558866541832685,0.001569894957356155,6.215782923391089e-05,2.7998214136459865e-05],[0.023937810212373734,0.0007846085936762393,3.1368170311907306e-05,2.142788616765756e-05,0.003808654146268964,0.0029668447095900774,0.0004307921335566789,0.0009192638681270182,-0.0038416062016040087,0.0008434581686742604,0.6214972138404846,0.00021565078350249678]],\"type\":\"heatmap\",\"xaxis\":\"x\",\"yaxis\":\"y\",\"hovertemplate\":\"Head: %{x}\\u003cbr\\u003eLayer: %{y}\\u003cbr\\u003ecolor: %{z}\\u003cextra\\u003e\\u003c\\u002fextra\\u003e\"},{\"coloraxis\":\"coloraxis\",\"name\":\"1\",\"texttemplate\":\"%{z:.2f}\",\"y\":[\"8\",\"9\",\"10\",\"11\"],\"z\":[[0.0038307998329401016,0.29978734254837036,0.0776432678103447,0.07595116645097733,0.008145852014422417,0.018519220873713493,0.2870785593986511,0.008276356384158134,0.17448242008686066,0.013940452598035336,0.17609496414661407,0.2607743442058563],[0.25265562534332275,0.44437411427497864,0.24474024772644043,0.02578079327940941,0.03883400931954384,0.1164647713303566,0.6238207221031189,0.11500623822212219,0.2569599747657776,0.48998910188674927,0.004717167001217604,0.5592556595802307],[0.6127228736877441,0.578845739364624,0.5823561549186707,0.3595695495605469,0.09132590889930725,0.010391820222139359,0.5643413066864014,0.7909169793128967,0.1629510223865509,0.03240286931395531,0.5975359082221985,0.22748075425624847],[0.025335894897580147,0.3884056806564331,0.5101173520088196,0.059834159910678864,0.4612918496131897,0.4204842150211334,0.4619889557361603,0.5184223651885986,-0.00017085327999666333,0.5641806721687317,0.6215377449989319,0.13320261240005493]],\"type\":\"heatmap\",\"xaxis\":\"x2\",\"yaxis\":\"y2\",\"hovertemplate\":\"Head: %{x}\\u003cbr\\u003eLayer: %{y}\\u003cbr\\u003ecolor: %{z}\\u003cextra\\u003e\\u003c\\u002fextra\\u003e\"}],                        {\"template\":{\"data\":{\"histogram2dcontour\":[{\"type\":\"histogram2dcontour\",\"colorbar\":{\"outlinewidth\":0,\"ticks\":\"\"},\"colorscale\":[[0.0,\"#0d0887\"],[0.1111111111111111,\"#46039f\"],[0.2222222222222222,\"#7201a8\"],[0.3333333333333333,\"#9c179e\"],[0.4444444444444444,\"#bd3786\"],[0.5555555555555556,\"#d8576b\"],[0.6666666666666666,\"#ed7953\"],[0.7777777777777778,\"#fb9f3a\"],[0.8888888888888888,\"#fdca26\"],[1.0,\"#f0f921\"]]}],\"choropleth\":[{\"type\":\"choropleth\",\"colorbar\":{\"outlinewidth\":0,\"ticks\":\"\"}}],\"histogram2d\":[{\"type\":\"histogram2d\",\"colorbar\":{\"outlinewidth\":0,\"ticks\":\"\"},\"colorscale\":[[0.0,\"#0d0887\"],[0.1111111111111111,\"#46039f\"],[0.2222222222222222,\"#7201a8\"],[0.3333333333333333,\"#9c179e\"],[0.4444444444444444,\"#bd3786\"],[0.5555555555555556,\"#d8576b\"],[0.6666666666666666,\"#ed7953\"],[0.7777777777777778,\"#fb9f3a\"],[0.8888888888888888,\"#fdca26\"],[1.0,\"#f0f921\"]]}],\"heatmap\":[{\"type\":\"heatmap\",\"colorbar\":{\"outlinewidth\":0,\"ticks\":\"\"},\"colorscale\":[[0.0,\"#0d0887\"],[0.1111111111111111,\"#46039f\"],[0.2222222222222222,\"#7201a8\"],[0.3333333333333333,\"#9c179e\"],[0.4444444444444444,\"#bd3786\"],[0.5555555555555556,\"#d8576b\"],[0.6666666666666666,\"#ed7953\"],[0.7777777777777778,\"#fb9f3a\"],[0.8888888888888888,\"#fdca26\"],[1.0,\"#f0f921\"]]}],\"heatmapgl\":[{\"type\":\"heatmapgl\",\"colorbar\":{\"outlinewidth\":0,\"ticks\":\"\"},\"colorscale\":[[0.0,\"#0d0887\"],[0.1111111111111111,\"#46039f\"],[0.2222222222222222,\"#7201a8\"],[0.3333333333333333,\"#9c179e\"],[0.4444444444444444,\"#bd3786\"],[0.5555555555555556,\"#d8576b\"],[0.6666666666666666,\"#ed7953\"],[0.7777777777777778,\"#fb9f3a\"],[0.8888888888888888,\"#fdca26\"],[1.0,\"#f0f921\"]]}],\"contourcarpet\":[{\"type\":\"contourcarpet\",\"colorbar\":{\"outlinewidth\":0,\"ticks\":\"\"}}],\"contour\":[{\"type\":\"contour\",\"colorbar\":{\"outlinewidth\":0,\"ticks\":\"\"},\"colorscale\":[[0.0,\"#0d0887\"],[0.1111111111111111,\"#46039f\"],[0.2222222222222222,\"#7201a8\"],[0.3333333333333333,\"#9c179e\"],[0.4444444444444444,\"#bd3786\"],[0.5555555555555556,\"#d8576b\"],[0.6666666666666666,\"#ed7953\"],[0.7777777777777778,\"#fb9f3a\"],[0.8888888888888888,\"#fdca26\"],[1.0,\"#f0f921\"]]}],\"surface\":[{\"type\":\"surface\",\"colorbar\":{\"outlinewidth\":0,\"ticks\":\"\"},\"colorscale\":[[0.0,\"#0d0887\"],[0.1111111111111111,\"#46039f\"],[0.2222222222222222,\"#7201a8\"],[0.3333333333333333,\"#9c179e\"],[0.4444444444444444,\"#bd3786\"],[0.5555555555555556,\"#d8576b\"],[0.6666666666666666,\"#ed7953\"],[0.7777777777777778,\"#fb9f3a\"],[0.8888888888888888,\"#fdca26\"],[1.0,\"#f0f921\"]]}],\"mesh3d\":[{\"type\":\"mesh3d\",\"colorbar\":{\"outlinewidth\":0,\"ticks\":\"\"}}],\"scatter\":[{\"fillpattern\":{\"fillmode\":\"overlay\",\"size\":10,\"solidity\":0.2},\"type\":\"scatter\"}],\"parcoords\":[{\"type\":\"parcoords\",\"line\":{\"colorbar\":{\"outlinewidth\":0,\"ticks\":\"\"}}}],\"scatterpolargl\":[{\"type\":\"scatterpolargl\",\"marker\":{\"colorbar\":{\"outlinewidth\":0,\"ticks\":\"\"}}}],\"bar\":[{\"error_x\":{\"color\":\"#2a3f5f\"},\"error_y\":{\"color\":\"#2a3f5f\"},\"marker\":{\"line\":{\"color\":\"#E5ECF6\",\"width\":0.5},\"pattern\":{\"fillmode\":\"overlay\",\"size\":10,\"solidity\":0.2}},\"type\":\"bar\"}],\"scattergeo\":[{\"type\":\"scattergeo\",\"marker\":{\"colorbar\":{\"outlinewidth\":0,\"ticks\":\"\"}}}],\"scatterpolar\":[{\"type\":\"scatterpolar\",\"marker\":{\"colorbar\":{\"outlinewidth\":0,\"ticks\":\"\"}}}],\"histogram\":[{\"marker\":{\"pattern\":{\"fillmode\":\"overlay\",\"size\":10,\"solidity\":0.2}},\"type\":\"histogram\"}],\"scattergl\":[{\"type\":\"scattergl\",\"marker\":{\"colorbar\":{\"outlinewidth\":0,\"ticks\":\"\"}}}],\"scatter3d\":[{\"type\":\"scatter3d\",\"line\":{\"colorbar\":{\"outlinewidth\":0,\"ticks\":\"\"}},\"marker\":{\"colorbar\":{\"outlinewidth\":0,\"ticks\":\"\"}}}],\"scattermapbox\":[{\"type\":\"scattermapbox\",\"marker\":{\"colorbar\":{\"outlinewidth\":0,\"ticks\":\"\"}}}],\"scatterternary\":[{\"type\":\"scatterternary\",\"marker\":{\"colorbar\":{\"outlinewidth\":0,\"ticks\":\"\"}}}],\"scattercarpet\":[{\"type\":\"scattercarpet\",\"marker\":{\"colorbar\":{\"outlinewidth\":0,\"ticks\":\"\"}}}],\"carpet\":[{\"aaxis\":{\"endlinecolor\":\"#2a3f5f\",\"gridcolor\":\"white\",\"linecolor\":\"white\",\"minorgridcolor\":\"white\",\"startlinecolor\":\"#2a3f5f\"},\"baxis\":{\"endlinecolor\":\"#2a3f5f\",\"gridcolor\":\"white\",\"linecolor\":\"white\",\"minorgridcolor\":\"white\",\"startlinecolor\":\"#2a3f5f\"},\"type\":\"carpet\"}],\"table\":[{\"cells\":{\"fill\":{\"color\":\"#EBF0F8\"},\"line\":{\"color\":\"white\"}},\"header\":{\"fill\":{\"color\":\"#C8D4E3\"},\"line\":{\"color\":\"white\"}},\"type\":\"table\"}],\"barpolar\":[{\"marker\":{\"line\":{\"color\":\"#E5ECF6\",\"width\":0.5},\"pattern\":{\"fillmode\":\"overlay\",\"size\":10,\"solidity\":0.2}},\"type\":\"barpolar\"}],\"pie\":[{\"automargin\":true,\"type\":\"pie\"}]},\"layout\":{\"autotypenumbers\":\"strict\",\"colorway\":[\"#636efa\",\"#EF553B\",\"#00cc96\",\"#ab63fa\",\"#FFA15A\",\"#19d3f3\",\"#FF6692\",\"#B6E880\",\"#FF97FF\",\"#FECB52\"],\"font\":{\"color\":\"#2a3f5f\"},\"hovermode\":\"closest\",\"hoverlabel\":{\"align\":\"left\"},\"paper_bgcolor\":\"white\",\"plot_bgcolor\":\"#E5ECF6\",\"polar\":{\"bgcolor\":\"#E5ECF6\",\"angularaxis\":{\"gridcolor\":\"white\",\"linecolor\":\"white\",\"ticks\":\"\"},\"radialaxis\":{\"gridcolor\":\"white\",\"linecolor\":\"white\",\"ticks\":\"\"}},\"ternary\":{\"bgcolor\":\"#E5ECF6\",\"aaxis\":{\"gridcolor\":\"white\",\"linecolor\":\"white\",\"ticks\":\"\"},\"baxis\":{\"gridcolor\":\"white\",\"linecolor\":\"white\",\"ticks\":\"\"},\"caxis\":{\"gridcolor\":\"white\",\"linecolor\":\"white\",\"ticks\":\"\"}},\"coloraxis\":{\"colorbar\":{\"outlinewidth\":0,\"ticks\":\"\"}},\"colorscale\":{\"sequential\":[[0.0,\"#0d0887\"],[0.1111111111111111,\"#46039f\"],[0.2222222222222222,\"#7201a8\"],[0.3333333333333333,\"#9c179e\"],[0.4444444444444444,\"#bd3786\"],[0.5555555555555556,\"#d8576b\"],[0.6666666666666666,\"#ed7953\"],[0.7777777777777778,\"#fb9f3a\"],[0.8888888888888888,\"#fdca26\"],[1.0,\"#f0f921\"]],\"sequentialminus\":[[0.0,\"#0d0887\"],[0.1111111111111111,\"#46039f\"],[0.2222222222222222,\"#7201a8\"],[0.3333333333333333,\"#9c179e\"],[0.4444444444444444,\"#bd3786\"],[0.5555555555555556,\"#d8576b\"],[0.6666666666666666,\"#ed7953\"],[0.7777777777777778,\"#fb9f3a\"],[0.8888888888888888,\"#fdca26\"],[1.0,\"#f0f921\"]],\"diverging\":[[0,\"#8e0152\"],[0.1,\"#c51b7d\"],[0.2,\"#de77ae\"],[0.3,\"#f1b6da\"],[0.4,\"#fde0ef\"],[0.5,\"#f7f7f7\"],[0.6,\"#e6f5d0\"],[0.7,\"#b8e186\"],[0.8,\"#7fbc41\"],[0.9,\"#4d9221\"],[1,\"#276419\"]]},\"xaxis\":{\"gridcolor\":\"white\",\"linecolor\":\"white\",\"ticks\":\"\",\"title\":{\"standoff\":15},\"zerolinecolor\":\"white\",\"automargin\":true,\"zerolinewidth\":2},\"yaxis\":{\"gridcolor\":\"white\",\"linecolor\":\"white\",\"ticks\":\"\",\"title\":{\"standoff\":15},\"zerolinecolor\":\"white\",\"automargin\":true,\"zerolinewidth\":2},\"scene\":{\"xaxis\":{\"backgroundcolor\":\"#E5ECF6\",\"gridcolor\":\"white\",\"linecolor\":\"white\",\"showbackground\":true,\"ticks\":\"\",\"zerolinecolor\":\"white\",\"gridwidth\":2},\"yaxis\":{\"backgroundcolor\":\"#E5ECF6\",\"gridcolor\":\"white\",\"linecolor\":\"white\",\"showbackground\":true,\"ticks\":\"\",\"zerolinecolor\":\"white\",\"gridwidth\":2},\"zaxis\":{\"backgroundcolor\":\"#E5ECF6\",\"gridcolor\":\"white\",\"linecolor\":\"white\",\"showbackground\":true,\"ticks\":\"\",\"zerolinecolor\":\"white\",\"gridwidth\":2}},\"shapedefaults\":{\"line\":{\"color\":\"#2a3f5f\"}},\"annotationdefaults\":{\"arrowcolor\":\"#2a3f5f\",\"arrowhead\":0,\"arrowwidth\":1},\"geo\":{\"bgcolor\":\"white\",\"landcolor\":\"#E5ECF6\",\"subunitcolor\":\"white\",\"showland\":true,\"showlakes\":true,\"lakecolor\":\"white\"},\"title\":{\"x\":0.05},\"mapbox\":{\"style\":\"light\"}}},\"xaxis\":{\"anchor\":\"y\",\"domain\":[0.0,0.49],\"title\":{\"text\":\"Head\"}},\"yaxis\":{\"anchor\":\"x\",\"domain\":[0.0,1.0],\"autorange\":\"reversed\",\"title\":{\"text\":\"Layer\"}},\"xaxis2\":{\"anchor\":\"y2\",\"domain\":[0.51,1.0],\"matches\":\"x\",\"title\":{\"text\":\"Head\"}},\"yaxis2\":{\"anchor\":\"x2\",\"domain\":[0.0,1.0],\"matches\":\"y\",\"showticklabels\":false},\"annotations\":[{\"font\":{},\"showarrow\":false,\"text\":\"Only keep negative components\",\"x\":0.245,\"xanchor\":\"center\",\"xref\":\"paper\",\"y\":1.0,\"yanchor\":\"bottom\",\"yref\":\"paper\"},{\"font\":{},\"showarrow\":false,\"text\":\"Keep negative and positive components\",\"x\":0.755,\"xanchor\":\"center\",\"xref\":\"paper\",\"y\":1.0,\"yanchor\":\"bottom\",\"yref\":\"paper\"}],\"coloraxis\":{\"colorscale\":[[0.0,\"rgb(247,251,255)\"],[0.125,\"rgb(222,235,247)\"],[0.25,\"rgb(198,219,239)\"],[0.375,\"rgb(158,202,225)\"],[0.5,\"rgb(107,174,214)\"],[0.625,\"rgb(66,146,198)\"],[0.75,\"rgb(33,113,181)\"],[0.875,\"rgb(8,81,156)\"],[1.0,\"rgb(8,48,107)\"]],\"cmid\":0.0,\"cmin\":0,\"cmax\":1},\"title\":{\"text\":\"Squared effect on loss performance of head explained by CSPA\"},\"height\":450,\"width\":1800,\"modebar\":{\"add\":[\"drawline\",\"drawopenpath\",\"drawclosedpath\",\"drawcircle\",\"drawrect\",\"eraseshape\"]}},                        {\"displaylogo\": false, \"responsive\": true}                    ).then(function(){\n",
       "                            \n",
       "var gd = document.getElementById('02153e40-b1ad-4574-ae13-cc4282e9b8aa');\n",
       "var x = new MutationObserver(function (mutations, observer) {{\n",
       "        var display = window.getComputedStyle(gd).display;\n",
       "        if (!display || display === 'none') {{\n",
       "            console.log([gd, 'removed!']);\n",
       "            Plotly.purge(gd);\n",
       "            observer.disconnect();\n",
       "        }}\n",
       "}});\n",
       "\n",
       "// Listen for the removal of the full notebook cells\n",
       "var notebookContainer = gd.closest('#notebook-container');\n",
       "if (notebookContainer) {{\n",
       "    x.observe(notebookContainer, {childList: true});\n",
       "}}\n",
       "\n",
       "// Listen for the clearing of the current output cell\n",
       "var outputEl = gd.closest('.output');\n",
       "if (outputEl) {{\n",
       "    x.observe(outputEl, {childList: true});\n",
       "}}\n",
       "\n",
       "                        })                };                });            </script>        </div>"
      ]
     },
     "metadata": {},
     "output_type": "display_data"
    }
   ],
   "source": [
    "for results_name, results in zip([\"KL\", \"Net effect on loss\", \"Absolute difference in loss\", \"Squared effect on loss\"], [kl_results, non_normed_loss_results, normed_loss_results, squared_loss_results], strict=True):\n",
    "    imshow(\n",
    "        results,\n",
    "        facet_col = 0,\n",
    "        facet_labels = [\"Only keep negative components\", \"Keep negative and positive components\"],\n",
    "        title = f\"{results_name} performance of head explained by CSPA\",\n",
    "        width = 1800, \n",
    "        height = 450,\n",
    "        labels = {\"x\": \"Head\", \"y\": \"Layer\"},\n",
    "        y = [str(i) for i in [8, 9, 10, 11]],\n",
    "        text_auto = \".2f\",\n",
    "        range_color=[0,1],\n",
    "        color_continuous_scale=\"Blues\",\n",
    "    )"
   ]
  },
  {
   "cell_type": "code",
   "execution_count": null,
   "metadata": {},
   "outputs": [],
   "source": [
    "imshow(\n",
    "    all_results,\n",
    "    facet_col = 0,\n",
    "    facet_labels = [\"Only keep negative components\", \"Keep negative and positive components\"],\n",
    "    title = \"Performance of head explained by copy suppression (left = negative, right = no restriction)\",\n",
    "    width = 1400, \n",
    "    height = 400,\n",
    "    labels = {\"x\": \"Head\", \"y\": \"Layer\"},\n",
    "    y = [str(i) for i in [8, 9, 10, 11]],\n",
    "    text_auto = \".2f\",\n",
    "    border = True,\n",
    "    # color_range = [0, 1],\n",
    ")"
   ]
  },
  {
   "attachments": {},
   "cell_type": "markdown",
   "metadata": {},
   "source": [
    "### Umm ... what?"
   ]
  },
  {
   "cell_type": "code",
   "execution_count": 9,
   "metadata": {},
   "outputs": [
    {
     "ename": "NameError",
     "evalue": "name 'get_cspa_results_batched' is not defined",
     "output_type": "error",
     "traceback": [
      "\u001b[0;31m---------------------------------------------------------------------------\u001b[0m",
      "\u001b[0;31mNameError\u001b[0m                                 Traceback (most recent call last)",
      "Cell \u001b[0;32mIn[9], line 1\u001b[0m\n\u001b[0;32m----> 1\u001b[0m cspa_results_qk_ov \u001b[39m=\u001b[39m get_cspa_results_batched(\n\u001b[1;32m      2\u001b[0m     model \u001b[39m=\u001b[39m model,\n\u001b[1;32m      3\u001b[0m     toks \u001b[39m=\u001b[39m DATA_TOKS[:\u001b[39m80\u001b[39m, :\u001b[39m200\u001b[39m], \u001b[39m# [:50],\u001b[39;00m\n\u001b[1;32m      4\u001b[0m     max_batch_size \u001b[39m=\u001b[39m \u001b[39m2\u001b[39m, \u001b[39m# 50,\u001b[39;00m\n\u001b[1;32m      5\u001b[0m     negative_head \u001b[39m=\u001b[39m (\u001b[39m10\u001b[39m, \u001b[39m1\u001b[39m),\n\u001b[1;32m      6\u001b[0m     interventions \u001b[39m=\u001b[39m [\u001b[39m\"\u001b[39m\u001b[39mqk\u001b[39m\u001b[39m\"\u001b[39m, \u001b[39m\"\u001b[39m\u001b[39mov\u001b[39m\u001b[39m\"\u001b[39m],\n\u001b[1;32m      7\u001b[0m     K_unembeddings \u001b[39m=\u001b[39m \u001b[39m0.05\u001b[39m, \u001b[39m# most interesting in range 3-8 (out of 80)\u001b[39;00m\n\u001b[1;32m      8\u001b[0m     K_semantic \u001b[39m=\u001b[39m \u001b[39m1\u001b[39m, \u001b[39m# either 1 or up to 8 to capture all sem similar\u001b[39;00m\n\u001b[1;32m      9\u001b[0m     only_keep_negative_components \u001b[39m=\u001b[39m \u001b[39mFalse\u001b[39;00m,\n\u001b[1;32m     10\u001b[0m     semantic_dict \u001b[39m=\u001b[39m cspa_semantic_dict,\n\u001b[1;32m     11\u001b[0m     result_mean \u001b[39m=\u001b[39m result_mean,\n\u001b[1;32m     12\u001b[0m     use_cuda \u001b[39m=\u001b[39m \u001b[39mTrue\u001b[39;00m,\n\u001b[1;32m     13\u001b[0m     verbose \u001b[39m=\u001b[39m \u001b[39mTrue\u001b[39;00m,\n\u001b[1;32m     14\u001b[0m     compute_s_sstar_dict \u001b[39m=\u001b[39m \u001b[39mFalse\u001b[39;00m,\n\u001b[1;32m     15\u001b[0m     keep_self_attn \u001b[39m=\u001b[39m \u001b[39mFalse\u001b[39;00m,\n\u001b[1;32m     16\u001b[0m )\n\u001b[1;32m     18\u001b[0m \u001b[39m# fig_dict = generate_scatter(cspa_results_qk_ov, DATA_STR_TOKS_PARSED, batch_index_colors_to_highlight=[51, 300])\u001b[39;00m\n\u001b[1;32m     19\u001b[0m fig_loss_line \u001b[39m=\u001b[39m generate_loss_based_scatter(cspa_results_qk_ov, nbins\u001b[39m=\u001b[39m\u001b[39m200\u001b[39m, values\u001b[39m=\u001b[39m\u001b[39m\"\u001b[39m\u001b[39mloss\u001b[39m\u001b[39m\"\u001b[39m)\n",
      "\u001b[0;31mNameError\u001b[0m: name 'get_cspa_results_batched' is not defined"
     ]
    }
   ],
   "source": [
    "cspa_results_qk_ov = get_cspa_results_batched(\n",
    "    model = model,\n",
    "    toks = DATA_TOKS[:80, :200], # [:50],\n",
    "    max_batch_size = 2, # 50,\n",
    "    negative_head = (10, 1),\n",
    "    interventions = [\"qk\", \"ov\"],\n",
    "    K_unembeddings = 0.05, # most interesting in range 3-8 (out of 80)\n",
    "    K_semantic = 1, # either 1 or up to 8 to capture all sem similar\n",
    "    only_keep_negative_components = False,\n",
    "    semantic_dict = cspa_semantic_dict,\n",
    "    result_mean = result_mean,\n",
    "    use_cuda = True,\n",
    "    verbose = True,\n",
    "    compute_s_sstar_dict = False,\n",
    "    keep_self_attn = False,\n",
    ")\n",
    "\n",
    "# fig_dict = generate_scatter(cspa_results_qk_ov, DATA_STR_TOKS_PARSED, batch_index_colors_to_highlight=[51, 300])\n",
    "fig_loss_line = generate_loss_based_scatter(cspa_results_qk_ov, nbins=200, values=\"loss\")\n",
    "fig_loss_line_kl = generate_loss_based_scatter(cspa_results_qk_ov, nbins=200, values=\"kl-div\")\n",
    "\n",
    "kl_div_ablated_to_orig = cspa_results_qk_ov[\"kl_div_ablated_to_orig\"].mean()\n",
    "kl_div_cspa_to_orig = cspa_results_qk_ov[\"kl_div_cspa_to_orig\"].mean()\n",
    "\n",
    "print(f\"Mean KL divergence from ablated to original: {kl_div_ablated_to_orig:.4f}\")\n",
    "print(f\"Mean KL divergence from CSPA to original: {kl_div_cspa_to_orig:.4f}\")\n",
    "print(f\"Ratio = {kl_div_cspa_to_orig / kl_div_ablated_to_orig:.3f}\")\n",
    "print(f\"Performance explained = {1 - kl_div_cspa_to_orig / kl_div_ablated_to_orig:.3f}\")\n",
    "ma_max = fig_loss_line_kl.data[0].x[-1]\n",
    "cspa_max = fig_loss_line_kl.data[0].y[-1]\n",
    "print(f\"Most extreme quantile: fraction explained = 1 - ({cspa_max:.3f}/{ma_max:.3f}) = {1 - cspa_max/ma_max:.3f}\")"
   ]
  },
  {
   "attachments": {},
   "cell_type": "markdown",
   "metadata": {},
   "source": [
    "### The actual code which appears on the dedicated streamlit page:"
   ]
  },
  {
   "cell_type": "code",
   "execution_count": 10,
   "metadata": {},
   "outputs": [
    {
     "ename": "NameError",
     "evalue": "name 'get_cspa_results_batched' is not defined",
     "output_type": "error",
     "traceback": [
      "\u001b[0;31m---------------------------------------------------------------------------\u001b[0m",
      "\u001b[0;31mNameError\u001b[0m                                 Traceback (most recent call last)",
      "Cell \u001b[0;32mIn[10], line 1\u001b[0m\n\u001b[0;32m----> 1\u001b[0m cspa_results_qk_ov, s_sstar_pairs_qk_ov \u001b[39m=\u001b[39m get_cspa_results_batched(\n\u001b[1;32m      2\u001b[0m     model \u001b[39m=\u001b[39m model,\n\u001b[1;32m      3\u001b[0m     toks \u001b[39m=\u001b[39m DATA_TOKS, \u001b[39m# [:50],\u001b[39;00m\n\u001b[1;32m      4\u001b[0m     max_batch_size \u001b[39m=\u001b[39m \u001b[39m60\u001b[39m, \u001b[39m# 50,\u001b[39;00m\n\u001b[1;32m      5\u001b[0m     negative_head \u001b[39m=\u001b[39m (\u001b[39m10\u001b[39m, \u001b[39m7\u001b[39m),\n\u001b[1;32m      6\u001b[0m     interventions \u001b[39m=\u001b[39m [\u001b[39m\"\u001b[39m\u001b[39mqk\u001b[39m\u001b[39m\"\u001b[39m, \u001b[39m\"\u001b[39m\u001b[39mov\u001b[39m\u001b[39m\"\u001b[39m],\n\u001b[1;32m      7\u001b[0m     K_unembeddings \u001b[39m=\u001b[39m \u001b[39m5\u001b[39m,\n\u001b[1;32m      8\u001b[0m     K_semantic \u001b[39m=\u001b[39m \u001b[39m1\u001b[39m,\n\u001b[1;32m      9\u001b[0m     only_keep_negative_components \u001b[39m=\u001b[39m \u001b[39mTrue\u001b[39;00m,\n\u001b[1;32m     10\u001b[0m     semantic_dict \u001b[39m=\u001b[39m cspa_semantic_dict,\n\u001b[1;32m     11\u001b[0m     use_cuda \u001b[39m=\u001b[39m \u001b[39mTrue\u001b[39;00m,\n\u001b[1;32m     12\u001b[0m     verbose \u001b[39m=\u001b[39m \u001b[39mTrue\u001b[39;00m,\n\u001b[1;32m     13\u001b[0m     compute_s_sstar_dict \u001b[39m=\u001b[39m \u001b[39mTrue\u001b[39;00m,\n\u001b[1;32m     14\u001b[0m )\n\u001b[1;32m     15\u001b[0m \u001b[39m# TODO - figure out where the bottleneck is via line profiler. I thought it was projections, but now it seems like this is not the case\u001b[39;00m\n\u001b[1;32m     16\u001b[0m \u001b[39m# Seems like it's this func: get_top_predicted_semantically_similar_tokens\u001b[39;00m\n\u001b[1;32m     17\u001b[0m \u001b[39m# %load_ext line_profiler\u001b[39;00m\n\u001b[1;32m     18\u001b[0m \u001b[39m# %lprun -f func func(arg, kwarg=kwarg)\u001b[39;00m\n\u001b[1;32m     20\u001b[0m fig_dict \u001b[39m=\u001b[39m generate_scatter(cspa_results_qk_ov, DATA_STR_TOKS_PARSED, batch_index_colors_to_highlight\u001b[39m=\u001b[39m[\u001b[39m51\u001b[39m, \u001b[39m300\u001b[39m])\n",
      "\u001b[0;31mNameError\u001b[0m: name 'get_cspa_results_batched' is not defined"
     ]
    }
   ],
   "source": [
    "cspa_results_qk_ov, s_sstar_pairs_qk_ov = get_cspa_results_batched(\n",
    "    model = model,\n",
    "    toks = DATA_TOKS, # [:50],\n",
    "    max_batch_size = 60, # 50,\n",
    "    negative_head = (10, 7),\n",
    "    interventions = [\"qk\", \"ov\"],\n",
    "    K_unembeddings = 5,\n",
    "    K_semantic = 1,\n",
    "    only_keep_negative_components = True,\n",
    "    semantic_dict = cspa_semantic_dict,\n",
    "    use_cuda = True,\n",
    "    verbose = True,\n",
    "    compute_s_sstar_dict = True,\n",
    ")\n",
    "# TODO - figure out where the bottleneck is via line profiler. I thought it was projections, but now it seems like this is not the case\n",
    "# Seems like it's this func: get_top_predicted_semantically_similar_tokens\n",
    "# %load_ext line_profiler\n",
    "# %lprun -f func func(arg, kwarg=kwarg)\n",
    "\n",
    "fig_dict = generate_scatter(cspa_results_qk_ov, DATA_STR_TOKS_PARSED, batch_index_colors_to_highlight=[51, 300])\n",
    "fig_loss_line = generate_loss_based_scatter(cspa_results_qk_ov, nbins=200, values=\"loss\")\n",
    "fig_loss_line_kl = generate_loss_based_scatter(cspa_results_qk_ov, nbins=200, values=\"kl-div\")\n",
    "\n",
    "kl_div_ablated_to_orig = cspa_results_qk_ov[\"kl_div_ablated_to_orig\"].mean()\n",
    "kl_div_cspa_to_orig = cspa_results_qk_ov[\"kl_div_cspa_to_orig\"].mean()\n",
    "print(f\"Mean KL divergence from ablated to original: {kl_div_ablated_to_orig:.4f}\")\n",
    "print(f\"Mean KL divergence from CSPA to original: {kl_div_cspa_to_orig:.4f}\")\n",
    "print(f\"Ratio = {kl_div_cspa_to_orig / kl_div_ablated_to_orig:.3f}\")\n",
    "print(f\"Performance explained = {1 - kl_div_cspa_to_orig / kl_div_ablated_to_orig:.3f}\")"
   ]
  },
  {
   "attachments": {},
   "cell_type": "markdown",
   "metadata": {},
   "source": [
    "# Adding CSPA to the Streamlit page (\"Browse Examples\")\n",
    "\n",
    "This code adds the CSPA plots to the HTML plots for the Streamlit page. It creates a 5th tab called `CSPA`, and adds to the logit and DLA plots in the second tab (the latter is mainly for our use, while we're iterating on and improving the CSPA code).\n",
    "\n",
    "I've added to this code in a pretty janky way, so that it can show more than one CSPA plot stacked on top of each other."
   ]
  },
  {
   "cell_type": "code",
   "execution_count": 11,
   "metadata": {},
   "outputs": [
    {
     "ename": "NameError",
     "evalue": "name 'get_cspa_results_batched' is not defined",
     "output_type": "error",
     "traceback": [
      "\u001b[0;31m---------------------------------------------------------------------------\u001b[0m",
      "\u001b[0;31mNameError\u001b[0m                                 Traceback (most recent call last)",
      "Cell \u001b[0;32mIn[11], line 1\u001b[0m\n\u001b[0;32m----> 1\u001b[0m cspa_results, s_sstar_pairs \u001b[39m=\u001b[39m get_cspa_results_batched(\n\u001b[1;32m      2\u001b[0m     model \u001b[39m=\u001b[39m model,\n\u001b[1;32m      3\u001b[0m     toks \u001b[39m=\u001b[39m DATA_TOKS[:\u001b[39m48\u001b[39m, :\u001b[39m61\u001b[39m], \u001b[39m# [:50],\u001b[39;00m\n\u001b[1;32m      4\u001b[0m     max_batch_size \u001b[39m=\u001b[39m \u001b[39m2\u001b[39m, \u001b[39m# 50,\u001b[39;00m\n\u001b[1;32m      5\u001b[0m     negative_head \u001b[39m=\u001b[39m (\u001b[39m10\u001b[39m, \u001b[39m1\u001b[39m),\n\u001b[1;32m      6\u001b[0m     interventions \u001b[39m=\u001b[39m [\u001b[39m\"\u001b[39m\u001b[39mqk\u001b[39m\u001b[39m\"\u001b[39m, \u001b[39m\"\u001b[39m\u001b[39mov\u001b[39m\u001b[39m\"\u001b[39m],\n\u001b[1;32m      7\u001b[0m     K_unembeddings \u001b[39m=\u001b[39m \u001b[39m0.05\u001b[39m, \u001b[39m# most interesting in range 3-8 (out of 80)\u001b[39;00m\n\u001b[1;32m      8\u001b[0m     K_semantic \u001b[39m=\u001b[39m \u001b[39m1\u001b[39m, \u001b[39m# either 1 or up to 8 to capture all sem similar\u001b[39;00m\n\u001b[1;32m      9\u001b[0m     only_keep_negative_components \u001b[39m=\u001b[39m \u001b[39mFalse\u001b[39;00m,\n\u001b[1;32m     10\u001b[0m     semantic_dict \u001b[39m=\u001b[39m cspa_semantic_dict,\n\u001b[1;32m     11\u001b[0m     result_mean \u001b[39m=\u001b[39m result_mean,\n\u001b[1;32m     12\u001b[0m     use_cuda \u001b[39m=\u001b[39m \u001b[39mTrue\u001b[39;00m,\n\u001b[1;32m     13\u001b[0m     verbose \u001b[39m=\u001b[39m \u001b[39mTrue\u001b[39;00m,\n\u001b[1;32m     14\u001b[0m     compute_s_sstar_dict \u001b[39m=\u001b[39m \u001b[39mTrue\u001b[39;00m,\n\u001b[1;32m     15\u001b[0m     return_dla \u001b[39m=\u001b[39m \u001b[39mTrue\u001b[39;00m,\n\u001b[1;32m     16\u001b[0m     return_logits \u001b[39m=\u001b[39m \u001b[39mTrue\u001b[39;00m,\n\u001b[1;32m     17\u001b[0m     keep_self_attn \u001b[39m=\u001b[39m \u001b[39mTrue\u001b[39;00m,\n\u001b[1;32m     18\u001b[0m )\n",
      "\u001b[0;31mNameError\u001b[0m: name 'get_cspa_results_batched' is not defined"
     ]
    }
   ],
   "source": [
    "cspa_results, s_sstar_pairs = get_cspa_results_batched(\n",
    "    model = model,\n",
    "    toks = DATA_TOKS[:48, :61], # [:50],\n",
    "    max_batch_size = 2, # 50,\n",
    "    negative_head = (10, 1),\n",
    "    interventions = [\"qk\", \"ov\"],\n",
    "    K_unembeddings = 0.05, # most interesting in range 3-8 (out of 80)\n",
    "    K_semantic = 1, # either 1 or up to 8 to capture all sem similar\n",
    "    only_keep_negative_components = False,\n",
    "    semantic_dict = cspa_semantic_dict,\n",
    "    result_mean = result_mean,\n",
    "    use_cuda = True,\n",
    "    verbose = True,\n",
    "    compute_s_sstar_dict = True,\n",
    "    return_dla = True,\n",
    "    return_logits = True,\n",
    "    keep_self_attn = True,\n",
    ")"
   ]
  },
  {
   "cell_type": "code",
   "execution_count": 12,
   "metadata": {},
   "outputs": [
    {
     "ename": "NameError",
     "evalue": "name 'add_cspa_to_streamlit_page' is not defined",
     "output_type": "error",
     "traceback": [
      "\u001b[0;31m---------------------------------------------------------------------------\u001b[0m",
      "\u001b[0;31mNameError\u001b[0m                                 Traceback (most recent call last)",
      "Cell \u001b[0;32mIn[12], line 1\u001b[0m\n\u001b[0;32m----> 1\u001b[0m add_cspa_to_streamlit_page(\n\u001b[1;32m      2\u001b[0m     cspa_results \u001b[39m=\u001b[39m cspa_results,\n\u001b[1;32m      3\u001b[0m     s_sstar_pairs \u001b[39m=\u001b[39m s_sstar_pairs,\n\u001b[1;32m      4\u001b[0m     html_plots_filename \u001b[39m=\u001b[39m \u001b[39mf\u001b[39m\u001b[39m\"\u001b[39m\u001b[39mGZIP_HTML_PLOTS_b48_s61.pkl\u001b[39m\u001b[39m\"\u001b[39m,\n\u001b[1;32m      5\u001b[0m     data_str_toks_parsed \u001b[39m=\u001b[39m [s[:\u001b[39m61\u001b[39m] \u001b[39mfor\u001b[39;00m s \u001b[39min\u001b[39;00m DATA_STR_TOKS_PARSED[:\u001b[39m48\u001b[39m]],\n\u001b[1;32m      6\u001b[0m     toks_for_doing_DLA \u001b[39m=\u001b[39m DATA_TOKS[:\u001b[39m48\u001b[39m, :\u001b[39m61\u001b[39m],\n\u001b[1;32m      7\u001b[0m     model \u001b[39m=\u001b[39m model,\n\u001b[1;32m      8\u001b[0m     verbose \u001b[39m=\u001b[39m \u001b[39mTrue\u001b[39;00m,\n\u001b[1;32m      9\u001b[0m     \u001b[39m# test_idx = 36,\u001b[39;00m\n\u001b[1;32m     10\u001b[0m )\n",
      "\u001b[0;31mNameError\u001b[0m: name 'add_cspa_to_streamlit_page' is not defined"
     ]
    }
   ],
   "source": [
    "add_cspa_to_streamlit_page(\n",
    "    cspa_results = cspa_results,\n",
    "    s_sstar_pairs = s_sstar_pairs,\n",
    "    html_plots_filename = f\"GZIP_HTML_PLOTS_b48_s61.pkl\",\n",
    "    data_str_toks_parsed = [s[:61] for s in DATA_STR_TOKS_PARSED[:48]],\n",
    "    toks_for_doing_DLA = DATA_TOKS[:48, :61],\n",
    "    model = model,\n",
    "    verbose = True,\n",
    "    # test_idx = 36,\n",
    ")"
   ]
  },
  {
   "cell_type": "code",
   "execution_count": 13,
   "metadata": {},
   "outputs": [],
   "source": [
    "# b = 51\n",
    "# add_cspa_to_streamlit_page(\n",
    "#     cspa_results = cspa_results,\n",
    "#     s_sstar_pairs = s_sstar_pairs,\n",
    "#     html_plots_filename = f\"GZIP_HTML_PLOTS_b{b}_s61.pkl\",\n",
    "#     data_str_toks_parsed = DATA_STR_TOKS_PARSED,\n",
    "#     toks_for_doing_DLA = DATA_TOKS,\n",
    "#     model = model,\n",
    "#     verbose = True,\n",
    "#     # test_idx = 32,\n",
    "# )\n",
    "\n",
    "# b = 200\n",
    "# add_cspa_to_streamlit_page(\n",
    "#     cspa_results = {\"k=4\": cspa_results, \"k=1\": cspa_results_1},\n",
    "#     s_sstar_pairs = {\"k=4\": s_sstar_pairs, \"k=1\": s_sstar_pairs_1},\n",
    "#     html_plots_filename = f\"GZIP_HTML_PLOTS_b{b}_s61.pkl\",\n",
    "#     data_str_toks_parsed = DATA_STR_TOKS_PARSED,\n",
    "#     toks_for_doing_DLA = DATA_TOKS,\n",
    "#     model = model,\n",
    "#     verbose = True,\n",
    "#     # test_idx = 32,\n",
    "# )"
   ]
  },
  {
   "cell_type": "code",
   "execution_count": 14,
   "metadata": {},
   "outputs": [
    {
     "ename": "NameError",
     "evalue": "name 'List' is not defined",
     "output_type": "error",
     "traceback": [
      "\u001b[0;31m---------------------------------------------------------------------------\u001b[0m",
      "\u001b[0;31mNameError\u001b[0m                                 Traceback (most recent call last)",
      "Cell \u001b[0;32mIn[14], line 2\u001b[0m\n\u001b[1;32m      1\u001b[0m \u001b[39mdef\u001b[39;00m \u001b[39mcos_sim_of_toks\u001b[39m(\n\u001b[0;32m----> 2\u001b[0m     toks1: List[\u001b[39mstr\u001b[39m],\n\u001b[1;32m      3\u001b[0m     toks2: List[\u001b[39mstr\u001b[39m],\n\u001b[1;32m      4\u001b[0m ):\n\u001b[1;32m      5\u001b[0m     U1 \u001b[39m=\u001b[39m model\u001b[39m.\u001b[39mW_U\u001b[39m.\u001b[39mT[model\u001b[39m.\u001b[39mto_tokens(toks1, prepend_bos\u001b[39m=\u001b[39m\u001b[39mFalse\u001b[39;00m)\u001b[39m.\u001b[39msqueeze()]\n\u001b[1;32m      6\u001b[0m     U2 \u001b[39m=\u001b[39m model\u001b[39m.\u001b[39mW_U\u001b[39m.\u001b[39mT[model\u001b[39m.\u001b[39mto_tokens(toks2, prepend_bos\u001b[39m=\u001b[39m\u001b[39mFalse\u001b[39;00m)\u001b[39m.\u001b[39msqueeze()]\n",
      "\u001b[0;31mNameError\u001b[0m: name 'List' is not defined"
     ]
    }
   ],
   "source": [
    "def cos_sim_of_toks(\n",
    "    toks1: List[str],\n",
    "    toks2: List[str],\n",
    "):\n",
    "    U1 = model.W_U.T[model.to_tokens(toks1, prepend_bos=False).squeeze()]\n",
    "    U2 = model.W_U.T[model.to_tokens(toks2, prepend_bos=False).squeeze()]\n",
    "\n",
    "    if U1.ndim == 1: U1 = U1.unsqueeze(0)\n",
    "    if U2.ndim == 1: U2 = U2.unsqueeze(0)\n",
    "\n",
    "    U1_normed = U1 / t.norm(U1, dim=-1, keepdim=True)\n",
    "    U2_normed = U2 / t.norm(U2, dim=-1, keepdim=True)\n",
    "\n",
    "    imshow(\n",
    "        U1_normed @ U2_normed.T,\n",
    "        title = \"Cosine similarity of unembeddings\",\n",
    "        x = toks2,\n",
    "        y = toks1,\n",
    "    )\n",
    "\n",
    "cos_sim_of_toks(\n",
    "    [\" stuff\"],\n",
    "    [\" devices\", \" phones\", \" screens\", \" device\", \" phone\", \" Android\"]\n",
    ")"
   ]
  },
  {
   "attachments": {},
   "cell_type": "markdown",
   "metadata": {},
   "source": [
    "# Testing the code for \"love and war\""
   ]
  },
  {
   "cell_type": "code",
   "execution_count": null,
   "metadata": {},
   "outputs": [],
   "source": [
    "result_mean_as_tensor = t.load(ST_HTML_PATH / \"result_mean.pt\")\n",
    "result_mean = {(10, 7): result_mean_as_tensor[0], (11, 10): result_mean_as_tensor[1]}\n",
    "\n",
    "prompt = \"I picked up the first box. I picked up the second box. I picked up the third and final box.\"\n",
    "toks = model.to_tokens(prompt)\n",
    "str_toks = model.to_str_tokens(toks)\n",
    "if isinstance(str_toks[0], str): str_toks = [str_toks]\n",
    "# Parse the string tokens for printing\n",
    "str_toks_parsed = [list(map(parse_str_tok_for_printing, s)) for s in str_toks]\n",
    "\n",
    "model_results = get_model_results(\n",
    "    model,\n",
    "    toks=toks,\n",
    "    negative_heads=[(10, 7), (11, 10)],\n",
    "    result_mean=result_mean,\n",
    "    verbose=False\n",
    ")\n",
    "HTML_PLOTS_NEW = generate_4_html_plots(\n",
    "    model=model,\n",
    "    data_toks=toks,\n",
    "    data_str_toks_parsed=str_toks_parsed,\n",
    "    negative_heads=[(10, 7), (11, 10)],\n",
    "    model_results=model_results,\n",
    "    save_files=False,\n",
    ")\n",
    "cspa_results, s_sstar_pairs = get_cspa_results(\n",
    "    model=model,\n",
    "    toks=toks,\n",
    "    negative_head=(10, 7), #  this currently doesn't do anything; it's always 10.7\n",
    "    components_to_project=[\"o\"],\n",
    "    K_unembeddings=5,\n",
    "    K_semantic=3,\n",
    "    semantic_dict=cspa_semantic_dict,\n",
    "    effective_embedding=\"W_E (including MLPs)\",\n",
    "    result_mean=result_mean,\n",
    "    use_cuda=False,\n",
    "    return_dla=True,\n",
    ")\n",
    "HTML_PLOTS_NEW = add_cspa_to_streamlit_page(\n",
    "    cspa_results=cspa_results,\n",
    "    s_sstar_pairs=s_sstar_pairs,\n",
    "    data_str_toks_parsed=str_toks_parsed,\n",
    "    model=model,\n",
    "    HTML_PLOTS=HTML_PLOTS_NEW,\n",
    "    toks_for_doing_DLA=toks,\n",
    "    verbose=False,\n",
    "    test_idx=0,\n",
    ")"
   ]
  },
  {
   "cell_type": "code",
   "execution_count": null,
   "metadata": {},
   "outputs": [],
   "source": []
  },
  {
   "cell_type": "code",
   "execution_count": null,
   "metadata": {},
   "outputs": [],
   "source": []
  }
 ],
 "metadata": {
  "kernelspec": {
   "display_name": "tl_intro_test",
   "language": "python",
   "name": "python3"
  },
  "language_info": {
   "codemirror_mode": {
    "name": "ipython",
    "version": 3
   },
   "file_extension": ".py",
   "mimetype": "text/x-python",
   "name": "python",
   "nbconvert_exporter": "python",
   "pygments_lexer": "ipython3",
   "version": "3.10.12"
  },
  "orig_nbformat": 4
 },
 "nbformat": 4,
 "nbformat_minor": 2
}
