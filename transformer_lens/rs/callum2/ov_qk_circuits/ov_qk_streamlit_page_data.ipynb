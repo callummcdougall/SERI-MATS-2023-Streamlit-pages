{
 "cells": [
  {
   "cell_type": "code",
   "execution_count": 1,
   "metadata": {},
   "outputs": [],
   "source": [
    "import os, sys\n",
    "from pathlib import Path\n",
    "p = Path(r\"/home/ubuntu/SERI-MATS-2023-Streamlit-pages\")\n",
    "if os.path.exists(str_p := str(p.resolve())):\n",
    "    os.chdir(str_p)\n",
    "    if str_p not in sys.path:\n",
    "        sys.path.append(str_p)\n",
    "\n",
    "from transformer_lens.cautils.notebook import *\n",
    "from transformer_lens.rs.callum2.utils import get_effective_embedding\n",
    "\n",
    "clear_output()"
   ]
  },
  {
   "cell_type": "code",
   "execution_count": 2,
   "metadata": {},
   "outputs": [],
   "source": [
    "model = HookedTransformer.from_pretrained(\n",
    "    \"gpt2-small\",\n",
    "    center_unembed=True,\n",
    "    center_writing_weights=True,\n",
    "    fold_ln=True,\n",
    "    device=\"cpu\",\n",
    "    # refactor_factored_attn_matrices=True,\n",
    ")\n",
    "model.set_use_attn_result(False)\n",
    "\n",
    "clear_output()"
   ]
  },
  {
   "cell_type": "code",
   "execution_count": 3,
   "metadata": {},
   "outputs": [],
   "source": [
    "W_EE = get_effective_embedding(model, use_codys_without_attention_changes=False)[\"W_E (only MLPs)\"]\n",
    "W_U = model.W_U"
   ]
  },
  {
   "cell_type": "code",
   "execution_count": 4,
   "metadata": {},
   "outputs": [],
   "source": [
    "W_EE_scaled = W_EE / W_EE.std(dim=-1, keepdim=True)\n",
    "W_U_scaled = W_U / W_U.std(dim=0, keepdim=True)"
   ]
  },
  {
   "attachments": {},
   "cell_type": "markdown",
   "metadata": {},
   "source": [
    "# Explanation for the scale factors\n",
    "\n",
    "### QK\n",
    "\n",
    "For keys, we should use the effective embedding divided by its std (because it'll have been layernormed).\n",
    "\n",
    "For queries, I'm not totally sure. I think we should scale it, because we're pretending that the token is predicted in the residual stream as strongly as it could possibly be.\n",
    "\n",
    "### OV\n",
    "\n",
    "Things are a little more suble here. `W_EE_scaled @ W_V @ W_O` gets scaled before we extract logit lens. So we need to find this matrix, find its std deviation, and then divide `W_EE_scaled @ W_V` by this. `W_O @ W_U` is kept as is, because this is meant to represent the logit lens."
   ]
  },
  {
   "cell_type": "code",
   "execution_count": 8,
   "metadata": {},
   "outputs": [
    {
     "name": "stdout",
     "output_type": "stream",
     "text": [
      "N/A\n",
      "17748\n"
     ]
    }
   ],
   "source": []
  },
  {
   "cell_type": "code",
   "execution_count": 6,
   "metadata": {},
   "outputs": [],
   "source": [
    "mega_dict = {\"tokenizer\": model.tokenizer}\n",
    "\n",
    "for layer, head in [(10, 7)]: # (11, 10)\n",
    "\n",
    "    W_EE_V = W_EE_scaled @ model.W_V[layer, head]\n",
    "    W_EE_V_O = W_EE_V @ model.W_O[layer, head]\n",
    "    W_EE_V_O_scale = W_EE_V_O.std(dim=-1)\n",
    "    W_EE_V = W_EE_V / W_EE_V_O_scale[:, None]\n",
    "\n",
    "    W_U_O = (model.W_O[layer, head] @ W_U)\n",
    "\n",
    "    W_U_Q = W_U_scaled.T @ model.W_Q[layer, head]\n",
    "\n",
    "    W_EE_K = W_EE_scaled @ model.W_K[layer, head]\n",
    "\n",
    "    mega_dict[f\"{layer}.{head}\"] = {\n",
    "        \"W_EE_V\": W_EE_V.clone(),\n",
    "        \"W_U_O\": W_U_O.clone(),\n",
    "        \"W_U_Q\": W_U_Q.clone(),\n",
    "        \"W_EE_K\": W_EE_K.clone(),\n",
    "    }"
   ]
  },
  {
   "cell_type": "code",
   "execution_count": 15,
   "metadata": {},
   "outputs": [],
   "source": [
    "# For blog!\n",
    "\n",
    "vocab_dict: Dict[str, int] = model.tokenizer.vocab\n",
    "vocab_dict = {k.replace(\"Ġ\", \" \"): v for k, v in vocab_dict.items()}\n",
    "# print(vocab_dict.get(\"pier\", \"N/A\"))\n",
    "# print(vocab_dict.get(\" pier\", \"N/A\"))\n",
    "\n",
    "mega_dict = {\"vocab_dict\": vocab_dict}\n",
    "\n",
    "layer, head = 10, 7\n",
    "\n",
    "W_EE_V = W_EE_scaled @ model.W_V[layer, head]\n",
    "W_EE_V_O = W_EE_V @ model.W_O[layer, head]\n",
    "W_EE_V_O_scale = W_EE_V_O.std(dim=-1)\n",
    "W_EE_V = W_EE_V / W_EE_V_O_scale[:, None]\n",
    "\n",
    "W_U_O = (model.W_O[layer, head] @ W_U)\n",
    "\n",
    "W_U_Q = W_U_scaled.T @ model.W_Q[layer, head]\n",
    "\n",
    "W_EE_K = W_EE_scaled @ model.W_K[layer, head]\n",
    "\n",
    "for s, data_type in zip([\"16\", \"32\"], [np.float16, np.float32]):\n",
    "\n",
    "    mega_dict[f\"{layer}.{head}\"] = {\n",
    "        \"W_EE_V\": utils.to_numpy(W_EE_V).astype(data_type).tolist(),\n",
    "        \"W_U_O\": utils.to_numpy(W_U_O).astype(data_type).tolist(),\n",
    "        \"W_U_Q\": utils.to_numpy(W_U_Q).astype(data_type).tolist(),\n",
    "        \"W_EE_K\": utils.to_numpy(W_EE_K).astype(data_type).tolist(),\n",
    "    }\n",
    "\n",
    "    path = \"/home/ubuntu/SERI-MATS-2023-Streamlit-pages/transformer_lens/rs/callum2/st_page/media/\"\n",
    "    with open(path + f\"OV_QK_circuits_float{s}.pkl\", \"wb\") as f:\n",
    "        pickle.dump(mega_dict, f)"
   ]
  },
  {
   "cell_type": "code",
   "execution_count": 17,
   "metadata": {},
   "outputs": [
    {
     "name": "stdout",
     "output_type": "stream",
     "text": [
      "0.2566392421722412\n"
     ]
    }
   ],
   "source": [
    "t0 = time.time()\n",
    "W_EE_K_tolist = utils.to_numpy(W_EE_K).tolist()\n",
    "print(time.time() - t0)"
   ]
  },
  {
   "cell_type": "code",
   "execution_count": 8,
   "metadata": {},
   "outputs": [
    {
     "data": {
      "text/plain": [
       "dict_keys(['tokenizer', '10.1', '10.7', '11.10'])"
      ]
     },
     "execution_count": 8,
     "metadata": {},
     "output_type": "execute_result"
    }
   ],
   "source": [
    "mega_dict.keys()"
   ]
  },
  {
   "cell_type": "code",
   "execution_count": 7,
   "metadata": {},
   "outputs": [],
   "source": [
    "path = \"/home/ubuntu/SERI-MATS-2023-Streamlit-pages/transformer_lens/rs/callum2/st_page/media/\"\n",
    "with gzip.open(path + \"OV_QK_circuits_less_local.pkl\", \"wb\") as f:\n",
    "    pickle.dump(mega_dict, f)\n",
    "with gzip.open(path + \"OV_QK_circuits_less_public.pkl\", \"wb\") as f:\n",
    "    pickle.dump({k: v for k, v in mega_dict.items() if k != (10, 1)}, f)"
   ]
  },
  {
   "cell_type": "code",
   "execution_count": 16,
   "metadata": {},
   "outputs": [
    {
     "data": {
      "text/plain": [
       "dict_keys(['tokenizer', 'W_EE_V', 'W_U_O', 'W_U_Q', 'W_EE_K'])"
      ]
     },
     "execution_count": 16,
     "metadata": {},
     "output_type": "execute_result"
    }
   ],
   "source": [
    "pickle.load(gzip.open(path + \"OV_QK_circuits_less.pkl\", \"rb\")).keys()"
   ]
  }
 ],
 "metadata": {
  "kernelspec": {
   "display_name": "Python 3",
   "language": "python",
   "name": "python3"
  },
  "language_info": {
   "codemirror_mode": {
    "name": "ipython",
    "version": 3
   },
   "file_extension": ".py",
   "mimetype": "text/x-python",
   "name": "python",
   "nbconvert_exporter": "python",
   "pygments_lexer": "ipython3",
   "version": "3.10.9"
  },
  "orig_nbformat": 4
 },
 "nbformat": 4,
 "nbformat_minor": 2
}
